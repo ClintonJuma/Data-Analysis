{
 "cells": [
  {
   "cell_type": "markdown",
   "id": "73e359f3",
   "metadata": {},
   "source": [
    "## Importing libraries"
   ]
  },
  {
   "cell_type": "code",
   "execution_count": 103,
   "id": "b1937c13",
   "metadata": {},
   "outputs": [
    {
     "data": {
      "text/html": [
       "<div>\n",
       "<style scoped>\n",
       "    .dataframe tbody tr th:only-of-type {\n",
       "        vertical-align: middle;\n",
       "    }\n",
       "\n",
       "    .dataframe tbody tr th {\n",
       "        vertical-align: top;\n",
       "    }\n",
       "\n",
       "    .dataframe thead th {\n",
       "        text-align: right;\n",
       "    }\n",
       "</style>\n",
       "<table border=\"1\" class=\"dataframe\">\n",
       "  <thead>\n",
       "    <tr style=\"text-align: right;\">\n",
       "      <th></th>\n",
       "      <th>Description</th>\n",
       "      <th>Price</th>\n",
       "      <th>Rating</th>\n",
       "      <th>ReviewCount</th>\n",
       "      <th>Url</th>\n",
       "    </tr>\n",
       "  </thead>\n",
       "  <tbody>\n",
       "    <tr>\n",
       "      <th>0</th>\n",
       "      <td>Apple iPhone 13 (128GB) - Pink</td>\n",
       "      <td>65999</td>\n",
       "      <td>4.6 out of 5 stars</td>\n",
       "      <td>7,507</td>\n",
       "      <td>https://www.amazon.in//sspa/click?ie=UTF8&amp;spc=...</td>\n",
       "    </tr>\n",
       "    <tr>\n",
       "      <th>1</th>\n",
       "      <td>Apple iPhone 13 Mini (128GB) - Pink</td>\n",
       "      <td>64900</td>\n",
       "      <td>4.5 out of 5 stars</td>\n",
       "      <td>1,341</td>\n",
       "      <td>https://www.amazon.in//sspa/click?ie=UTF8&amp;spc=...</td>\n",
       "    </tr>\n",
       "    <tr>\n",
       "      <th>2</th>\n",
       "      <td>Apple iPhone 12 (128GB) - Green</td>\n",
       "      <td>55999</td>\n",
       "      <td>4.5 out of 5 stars</td>\n",
       "      <td>4,941</td>\n",
       "      <td>https://www.amazon.in//New-Apple-iPhone-12-128...</td>\n",
       "    </tr>\n",
       "    <tr>\n",
       "      <th>3</th>\n",
       "      <td>Apple iPhone 12 (64GB) - Green</td>\n",
       "      <td>48900</td>\n",
       "      <td>4.6 out of 5 stars</td>\n",
       "      <td>1,299</td>\n",
       "      <td>https://www.amazon.in//New-Apple-iPhone-12-64G...</td>\n",
       "    </tr>\n",
       "    <tr>\n",
       "      <th>4</th>\n",
       "      <td>Apple iPhone 13 (128GB) - Green</td>\n",
       "      <td>65999</td>\n",
       "      <td>4.6 out of 5 stars</td>\n",
       "      <td>7,507</td>\n",
       "      <td>https://www.amazon.in//Apple-iPhone-13-128GB-G...</td>\n",
       "    </tr>\n",
       "    <tr>\n",
       "      <th>...</th>\n",
       "      <td>...</td>\n",
       "      <td>...</td>\n",
       "      <td>...</td>\n",
       "      <td>...</td>\n",
       "      <td>...</td>\n",
       "    </tr>\n",
       "    <tr>\n",
       "      <th>1898</th>\n",
       "      <td>Vivo Y21 (Midnight Blue, 4GB RAM, 64GB Storage...</td>\n",
       "      <td>12660</td>\n",
       "      <td>4.1 out of 5 stars</td>\n",
       "      <td>4,302</td>\n",
       "      <td>https://www.amazon.in//Vivo-Y21-Midnight-Stora...</td>\n",
       "    </tr>\n",
       "    <tr>\n",
       "      <th>1899</th>\n",
       "      <td>vivo Y22 (Metaverse Green, 6GB RAM, 128GB Stor...</td>\n",
       "      <td>16499</td>\n",
       "      <td>3.6 out of 5 stars</td>\n",
       "      <td>28</td>\n",
       "      <td>https://www.amazon.in//Y22-Metaverse-Storage-A...</td>\n",
       "    </tr>\n",
       "    <tr>\n",
       "      <th>1900</th>\n",
       "      <td>Vivo Y33s (Mirror Black, 8GB RAM, 128GB Storag...</td>\n",
       "      <td>17900</td>\n",
       "      <td>4.2 out of 5 stars</td>\n",
       "      <td>923</td>\n",
       "      <td>https://www.amazon.in//Vivo-Y33s-Mirror-Storag...</td>\n",
       "    </tr>\n",
       "    <tr>\n",
       "      <th>1901</th>\n",
       "      <td>vivo Y35 (Agate Black, 8GB RAM, 128GB Storage)...</td>\n",
       "      <td>18499</td>\n",
       "      <td>4.1 out of 5 stars</td>\n",
       "      <td>92</td>\n",
       "      <td>https://www.amazon.in//Agate-Storage-Additiona...</td>\n",
       "    </tr>\n",
       "    <tr>\n",
       "      <th>1902</th>\n",
       "      <td>vivo Y16 (Stellar Black, 3GB RAM, 32GB Storage...</td>\n",
       "      <td>9999</td>\n",
       "      <td>4.0 out of 5 stars</td>\n",
       "      <td>1</td>\n",
       "      <td>https://www.amazon.in//Stellar-Storage-Additio...</td>\n",
       "    </tr>\n",
       "  </tbody>\n",
       "</table>\n",
       "<p>1903 rows × 5 columns</p>\n",
       "</div>"
      ],
      "text/plain": [
       "                                            Description  Price  \\\n",
       "0                        Apple iPhone 13 (128GB) - Pink  65999   \n",
       "1                   Apple iPhone 13 Mini (128GB) - Pink  64900   \n",
       "2                       Apple iPhone 12 (128GB) - Green  55999   \n",
       "3                        Apple iPhone 12 (64GB) - Green  48900   \n",
       "4                       Apple iPhone 13 (128GB) - Green  65999   \n",
       "...                                                 ...    ...   \n",
       "1898  Vivo Y21 (Midnight Blue, 4GB RAM, 64GB Storage...  12660   \n",
       "1899  vivo Y22 (Metaverse Green, 6GB RAM, 128GB Stor...  16499   \n",
       "1900  Vivo Y33s (Mirror Black, 8GB RAM, 128GB Storag...  17900   \n",
       "1901  vivo Y35 (Agate Black, 8GB RAM, 128GB Storage)...  18499   \n",
       "1902  vivo Y16 (Stellar Black, 3GB RAM, 32GB Storage...   9999   \n",
       "\n",
       "                  Rating ReviewCount  \\\n",
       "0     4.6 out of 5 stars       7,507   \n",
       "1     4.5 out of 5 stars       1,341   \n",
       "2     4.5 out of 5 stars       4,941   \n",
       "3     4.6 out of 5 stars       1,299   \n",
       "4     4.6 out of 5 stars       7,507   \n",
       "...                  ...         ...   \n",
       "1898  4.1 out of 5 stars       4,302   \n",
       "1899  3.6 out of 5 stars          28   \n",
       "1900  4.2 out of 5 stars         923   \n",
       "1901  4.1 out of 5 stars          92   \n",
       "1902  4.0 out of 5 stars           1   \n",
       "\n",
       "                                                    Url  \n",
       "0     https://www.amazon.in//sspa/click?ie=UTF8&spc=...  \n",
       "1     https://www.amazon.in//sspa/click?ie=UTF8&spc=...  \n",
       "2     https://www.amazon.in//New-Apple-iPhone-12-128...  \n",
       "3     https://www.amazon.in//New-Apple-iPhone-12-64G...  \n",
       "4     https://www.amazon.in//Apple-iPhone-13-128GB-G...  \n",
       "...                                                 ...  \n",
       "1898  https://www.amazon.in//Vivo-Y21-Midnight-Stora...  \n",
       "1899  https://www.amazon.in//Y22-Metaverse-Storage-A...  \n",
       "1900  https://www.amazon.in//Vivo-Y33s-Mirror-Storag...  \n",
       "1901  https://www.amazon.in//Agate-Storage-Additiona...  \n",
       "1902  https://www.amazon.in//Stellar-Storage-Additio...  \n",
       "\n",
       "[1903 rows x 5 columns]"
      ]
     },
     "execution_count": 103,
     "metadata": {},
     "output_type": "execute_result"
    }
   ],
   "source": [
    "import pandas as pd\n",
    "import numpy as np\n",
    "import matplotlib.pyplot as plt\n",
    "import seaborn as sns\n",
    "import warnings\n",
    "\n",
    "warnings.filterwarnings(\"ignore\")\n",
    "sns.set(color_codes = True)\n",
    "sns.set_palette(palette = \"plasma\",n_colors = 8)\n",
    "\n",
    "\n",
    "data = pd.read_csv(\"Amazon_top5_mobilephones.csv\")\n",
    "data\n",
    "    "
   ]
  },
  {
   "cell_type": "markdown",
   "id": "d808e441",
   "metadata": {},
   "source": [
    "## dataset information"
   ]
  },
  {
   "cell_type": "code",
   "execution_count": 75,
   "id": "0d190c9c",
   "metadata": {},
   "outputs": [
    {
     "data": {
      "text/plain": [
       "(1903, 5)"
      ]
     },
     "execution_count": 75,
     "metadata": {},
     "output_type": "execute_result"
    }
   ],
   "source": [
    "data.shape"
   ]
  },
  {
   "cell_type": "code",
   "execution_count": 76,
   "id": "d2f3f9d0",
   "metadata": {},
   "outputs": [
    {
     "data": {
      "text/plain": [
       " 8GB RAM                                                       320\n",
       " 4GB RAM                                                       281\n",
       " 6GB RAM                                                       200\n",
       " 128GB Storage) with No Cost EMI/Additional Exchange Offers    160\n",
       " 6GB                                                           140\n",
       "                                                              ... \n",
       " 2GB RAM                                                        20\n",
       "Samsung Galaxy A03 Core (Black                                  20\n",
       "SAMSUNG Galaxy F13 (Nightsky Green                              20\n",
       " 32GB) (Blue)                                                   20\n",
       "BTC-6 Mini Size 2.4A EFFICIENT Charger Combo 2                   2\n",
       "Length: 141, dtype: int64"
      ]
     },
     "execution_count": 76,
     "metadata": {},
     "output_type": "execute_result"
    }
   ],
   "source": [
    "data[\"Description\"].str.split(\",\",expand =True).stack().value_counts()"
   ]
  },
  {
   "cell_type": "code",
   "execution_count": 77,
   "id": "a7ff7aa7",
   "metadata": {},
   "outputs": [
    {
     "name": "stdout",
     "output_type": "stream",
     "text": [
      "<class 'pandas.core.frame.DataFrame'>\n",
      "RangeIndex: 1903 entries, 0 to 1902\n",
      "Data columns (total 5 columns):\n",
      " #   Column       Non-Null Count  Dtype \n",
      "---  ------       --------------  ----- \n",
      " 0   Description  1903 non-null   object\n",
      " 1   Price        1903 non-null   int64 \n",
      " 2   Rating       1881 non-null   object\n",
      " 3   ReviewCount  1903 non-null   object\n",
      " 4   Url          1903 non-null   object\n",
      "dtypes: int64(1), object(4)\n",
      "memory usage: 74.5+ KB\n"
     ]
    }
   ],
   "source": [
    "data.info()"
   ]
  },
  {
   "cell_type": "code",
   "execution_count": 78,
   "id": "0b36ea73",
   "metadata": {},
   "outputs": [
    {
     "data": {
      "text/plain": [
       "Description     0\n",
       "Price           0\n",
       "Rating         22\n",
       "ReviewCount     0\n",
       "Url             0\n",
       "dtype: int64"
      ]
     },
     "execution_count": 78,
     "metadata": {},
     "output_type": "execute_result"
    }
   ],
   "source": [
    "data.isnull().sum()"
   ]
  },
  {
   "cell_type": "code",
   "execution_count": 79,
   "id": "b664c9d6",
   "metadata": {},
   "outputs": [],
   "source": [
    "data[\"Rating\"] = data[\"Rating\"].fillna(data[\"Rating\"].mode())"
   ]
  },
  {
   "cell_type": "code",
   "execution_count": 80,
   "id": "ceee7286",
   "metadata": {},
   "outputs": [
    {
     "data": {
      "text/plain": [
       "Description     0\n",
       "Price           0\n",
       "Rating         22\n",
       "ReviewCount     0\n",
       "Url             0\n",
       "dtype: int64"
      ]
     },
     "execution_count": 80,
     "metadata": {},
     "output_type": "execute_result"
    }
   ],
   "source": [
    "data.isnull().sum()"
   ]
  },
  {
   "cell_type": "code",
   "execution_count": 81,
   "id": "a3380652",
   "metadata": {},
   "outputs": [
    {
     "data": {
      "text/html": [
       "<div>\n",
       "<style scoped>\n",
       "    .dataframe tbody tr th:only-of-type {\n",
       "        vertical-align: middle;\n",
       "    }\n",
       "\n",
       "    .dataframe tbody tr th {\n",
       "        vertical-align: top;\n",
       "    }\n",
       "\n",
       "    .dataframe thead th {\n",
       "        text-align: right;\n",
       "    }\n",
       "</style>\n",
       "<table border=\"1\" class=\"dataframe\">\n",
       "  <thead>\n",
       "    <tr style=\"text-align: right;\">\n",
       "      <th></th>\n",
       "      <th>Description</th>\n",
       "      <th>Price</th>\n",
       "      <th>Rating</th>\n",
       "      <th>ReviewCount</th>\n",
       "      <th>Url</th>\n",
       "    </tr>\n",
       "  </thead>\n",
       "  <tbody>\n",
       "    <tr>\n",
       "      <th>1158</th>\n",
       "      <td>OPPO A77s (Sunset Orange, 8GB RAM, 128 Storage...</td>\n",
       "      <td>17999</td>\n",
       "      <td>NaN</td>\n",
       "      <td>New to Amazon</td>\n",
       "      <td>https://www.amazon.in//Sunset-Orange-Storage-A...</td>\n",
       "    </tr>\n",
       "    <tr>\n",
       "      <th>1160</th>\n",
       "      <td>BTC-6 Mini Size 2.4A EFFICIENT Charger Combo 2</td>\n",
       "      <td>760</td>\n",
       "      <td>NaN</td>\n",
       "      <td>No reviews</td>\n",
       "      <td>https://www.amazon.in//sspa/click?ie=UTF8&amp;spc=...</td>\n",
       "    </tr>\n",
       "    <tr>\n",
       "      <th>1179</th>\n",
       "      <td>OPPO A77s (Sunset Orange, 8GB RAM, 128 Storage...</td>\n",
       "      <td>17999</td>\n",
       "      <td>NaN</td>\n",
       "      <td>New to Amazon</td>\n",
       "      <td>https://www.amazon.in//Sunset-Orange-Storage-A...</td>\n",
       "    </tr>\n",
       "    <tr>\n",
       "      <th>1181</th>\n",
       "      <td>BTC-6 Mini Size 2.4A EFFICIENT Charger Combo 2</td>\n",
       "      <td>760</td>\n",
       "      <td>NaN</td>\n",
       "      <td>No reviews</td>\n",
       "      <td>https://www.amazon.in//sspa/click?ie=UTF8&amp;spc=...</td>\n",
       "    </tr>\n",
       "    <tr>\n",
       "      <th>1200</th>\n",
       "      <td>OPPO A77s (Sunset Orange, 8GB RAM, 128 Storage...</td>\n",
       "      <td>17999</td>\n",
       "      <td>NaN</td>\n",
       "      <td>New to Amazon</td>\n",
       "      <td>https://www.amazon.in//Sunset-Orange-Storage-A...</td>\n",
       "    </tr>\n",
       "    <tr>\n",
       "      <th>1220</th>\n",
       "      <td>OPPO A77s (Sunset Orange, 8GB RAM, 128 Storage...</td>\n",
       "      <td>17999</td>\n",
       "      <td>NaN</td>\n",
       "      <td>New to Amazon</td>\n",
       "      <td>https://www.amazon.in//Sunset-Orange-Storage-A...</td>\n",
       "    </tr>\n",
       "    <tr>\n",
       "      <th>1240</th>\n",
       "      <td>OPPO A77s (Sunset Orange, 8GB RAM, 128 Storage...</td>\n",
       "      <td>17999</td>\n",
       "      <td>NaN</td>\n",
       "      <td>New to Amazon</td>\n",
       "      <td>https://www.amazon.in//Sunset-Orange-Storage-A...</td>\n",
       "    </tr>\n",
       "    <tr>\n",
       "      <th>1260</th>\n",
       "      <td>OPPO A77s (Sunset Orange, 8GB RAM, 128 Storage...</td>\n",
       "      <td>17999</td>\n",
       "      <td>NaN</td>\n",
       "      <td>New to Amazon</td>\n",
       "      <td>https://www.amazon.in//Sunset-Orange-Storage-A...</td>\n",
       "    </tr>\n",
       "    <tr>\n",
       "      <th>1280</th>\n",
       "      <td>OPPO A77s (Sunset Orange, 8GB RAM, 128 Storage...</td>\n",
       "      <td>17999</td>\n",
       "      <td>NaN</td>\n",
       "      <td>New to Amazon</td>\n",
       "      <td>https://www.amazon.in//Sunset-Orange-Storage-A...</td>\n",
       "    </tr>\n",
       "    <tr>\n",
       "      <th>1300</th>\n",
       "      <td>OPPO A77s (Sunset Orange, 8GB RAM, 128 Storage...</td>\n",
       "      <td>17999</td>\n",
       "      <td>NaN</td>\n",
       "      <td>New to Amazon</td>\n",
       "      <td>https://www.amazon.in//Sunset-Orange-Storage-A...</td>\n",
       "    </tr>\n",
       "    <tr>\n",
       "      <th>1320</th>\n",
       "      <td>OPPO A77s (Sunset Orange, 8GB RAM, 128 Storage...</td>\n",
       "      <td>17999</td>\n",
       "      <td>NaN</td>\n",
       "      <td>New to Amazon</td>\n",
       "      <td>https://www.amazon.in//Sunset-Orange-Storage-A...</td>\n",
       "    </tr>\n",
       "    <tr>\n",
       "      <th>1340</th>\n",
       "      <td>OPPO A77s (Sunset Orange, 8GB RAM, 128 Storage...</td>\n",
       "      <td>17999</td>\n",
       "      <td>NaN</td>\n",
       "      <td>New to Amazon</td>\n",
       "      <td>https://www.amazon.in//Sunset-Orange-Storage-A...</td>\n",
       "    </tr>\n",
       "    <tr>\n",
       "      <th>1360</th>\n",
       "      <td>OPPO A77s (Sunset Orange, 8GB RAM, 128 Storage...</td>\n",
       "      <td>17999</td>\n",
       "      <td>NaN</td>\n",
       "      <td>New to Amazon</td>\n",
       "      <td>https://www.amazon.in//Sunset-Orange-Storage-A...</td>\n",
       "    </tr>\n",
       "    <tr>\n",
       "      <th>1380</th>\n",
       "      <td>OPPO A77s (Sunset Orange, 8GB RAM, 128 Storage...</td>\n",
       "      <td>17999</td>\n",
       "      <td>NaN</td>\n",
       "      <td>New to Amazon</td>\n",
       "      <td>https://www.amazon.in//Sunset-Orange-Storage-A...</td>\n",
       "    </tr>\n",
       "    <tr>\n",
       "      <th>1400</th>\n",
       "      <td>OPPO A77s (Sunset Orange, 8GB RAM, 128 Storage...</td>\n",
       "      <td>17999</td>\n",
       "      <td>NaN</td>\n",
       "      <td>New to Amazon</td>\n",
       "      <td>https://www.amazon.in//Sunset-Orange-Storage-A...</td>\n",
       "    </tr>\n",
       "    <tr>\n",
       "      <th>1420</th>\n",
       "      <td>OPPO A77s (Sunset Orange, 8GB RAM, 128 Storage...</td>\n",
       "      <td>17999</td>\n",
       "      <td>NaN</td>\n",
       "      <td>New to Amazon</td>\n",
       "      <td>https://www.amazon.in//Sunset-Orange-Storage-A...</td>\n",
       "    </tr>\n",
       "    <tr>\n",
       "      <th>1440</th>\n",
       "      <td>OPPO A77s (Sunset Orange, 8GB RAM, 128 Storage...</td>\n",
       "      <td>17999</td>\n",
       "      <td>NaN</td>\n",
       "      <td>New to Amazon</td>\n",
       "      <td>https://www.amazon.in//Sunset-Orange-Storage-A...</td>\n",
       "    </tr>\n",
       "    <tr>\n",
       "      <th>1460</th>\n",
       "      <td>OPPO A77s (Sunset Orange, 8GB RAM, 128 Storage...</td>\n",
       "      <td>17999</td>\n",
       "      <td>NaN</td>\n",
       "      <td>New to Amazon</td>\n",
       "      <td>https://www.amazon.in//Sunset-Orange-Storage-A...</td>\n",
       "    </tr>\n",
       "    <tr>\n",
       "      <th>1480</th>\n",
       "      <td>OPPO A77s (Sunset Orange, 8GB RAM, 128 Storage...</td>\n",
       "      <td>17999</td>\n",
       "      <td>NaN</td>\n",
       "      <td>New to Amazon</td>\n",
       "      <td>https://www.amazon.in//Sunset-Orange-Storage-A...</td>\n",
       "    </tr>\n",
       "    <tr>\n",
       "      <th>1500</th>\n",
       "      <td>OPPO A77s (Sunset Orange, 8GB RAM, 128 Storage...</td>\n",
       "      <td>17999</td>\n",
       "      <td>NaN</td>\n",
       "      <td>New to Amazon</td>\n",
       "      <td>https://www.amazon.in//Sunset-Orange-Storage-A...</td>\n",
       "    </tr>\n",
       "    <tr>\n",
       "      <th>1520</th>\n",
       "      <td>OPPO A77s (Sunset Orange, 8GB RAM, 128 Storage...</td>\n",
       "      <td>17999</td>\n",
       "      <td>NaN</td>\n",
       "      <td>New to Amazon</td>\n",
       "      <td>https://www.amazon.in//Sunset-Orange-Storage-A...</td>\n",
       "    </tr>\n",
       "    <tr>\n",
       "      <th>1540</th>\n",
       "      <td>OPPO A77s (Sunset Orange, 8GB RAM, 128 Storage...</td>\n",
       "      <td>17999</td>\n",
       "      <td>NaN</td>\n",
       "      <td>New to Amazon</td>\n",
       "      <td>https://www.amazon.in//Sunset-Orange-Storage-A...</td>\n",
       "    </tr>\n",
       "  </tbody>\n",
       "</table>\n",
       "</div>"
      ],
      "text/plain": [
       "                                            Description  Price Rating  \\\n",
       "1158  OPPO A77s (Sunset Orange, 8GB RAM, 128 Storage...  17999    NaN   \n",
       "1160     BTC-6 Mini Size 2.4A EFFICIENT Charger Combo 2    760    NaN   \n",
       "1179  OPPO A77s (Sunset Orange, 8GB RAM, 128 Storage...  17999    NaN   \n",
       "1181     BTC-6 Mini Size 2.4A EFFICIENT Charger Combo 2    760    NaN   \n",
       "1200  OPPO A77s (Sunset Orange, 8GB RAM, 128 Storage...  17999    NaN   \n",
       "1220  OPPO A77s (Sunset Orange, 8GB RAM, 128 Storage...  17999    NaN   \n",
       "1240  OPPO A77s (Sunset Orange, 8GB RAM, 128 Storage...  17999    NaN   \n",
       "1260  OPPO A77s (Sunset Orange, 8GB RAM, 128 Storage...  17999    NaN   \n",
       "1280  OPPO A77s (Sunset Orange, 8GB RAM, 128 Storage...  17999    NaN   \n",
       "1300  OPPO A77s (Sunset Orange, 8GB RAM, 128 Storage...  17999    NaN   \n",
       "1320  OPPO A77s (Sunset Orange, 8GB RAM, 128 Storage...  17999    NaN   \n",
       "1340  OPPO A77s (Sunset Orange, 8GB RAM, 128 Storage...  17999    NaN   \n",
       "1360  OPPO A77s (Sunset Orange, 8GB RAM, 128 Storage...  17999    NaN   \n",
       "1380  OPPO A77s (Sunset Orange, 8GB RAM, 128 Storage...  17999    NaN   \n",
       "1400  OPPO A77s (Sunset Orange, 8GB RAM, 128 Storage...  17999    NaN   \n",
       "1420  OPPO A77s (Sunset Orange, 8GB RAM, 128 Storage...  17999    NaN   \n",
       "1440  OPPO A77s (Sunset Orange, 8GB RAM, 128 Storage...  17999    NaN   \n",
       "1460  OPPO A77s (Sunset Orange, 8GB RAM, 128 Storage...  17999    NaN   \n",
       "1480  OPPO A77s (Sunset Orange, 8GB RAM, 128 Storage...  17999    NaN   \n",
       "1500  OPPO A77s (Sunset Orange, 8GB RAM, 128 Storage...  17999    NaN   \n",
       "1520  OPPO A77s (Sunset Orange, 8GB RAM, 128 Storage...  17999    NaN   \n",
       "1540  OPPO A77s (Sunset Orange, 8GB RAM, 128 Storage...  17999    NaN   \n",
       "\n",
       "        ReviewCount                                                Url  \n",
       "1158  New to Amazon  https://www.amazon.in//Sunset-Orange-Storage-A...  \n",
       "1160     No reviews  https://www.amazon.in//sspa/click?ie=UTF8&spc=...  \n",
       "1179  New to Amazon  https://www.amazon.in//Sunset-Orange-Storage-A...  \n",
       "1181     No reviews  https://www.amazon.in//sspa/click?ie=UTF8&spc=...  \n",
       "1200  New to Amazon  https://www.amazon.in//Sunset-Orange-Storage-A...  \n",
       "1220  New to Amazon  https://www.amazon.in//Sunset-Orange-Storage-A...  \n",
       "1240  New to Amazon  https://www.amazon.in//Sunset-Orange-Storage-A...  \n",
       "1260  New to Amazon  https://www.amazon.in//Sunset-Orange-Storage-A...  \n",
       "1280  New to Amazon  https://www.amazon.in//Sunset-Orange-Storage-A...  \n",
       "1300  New to Amazon  https://www.amazon.in//Sunset-Orange-Storage-A...  \n",
       "1320  New to Amazon  https://www.amazon.in//Sunset-Orange-Storage-A...  \n",
       "1340  New to Amazon  https://www.amazon.in//Sunset-Orange-Storage-A...  \n",
       "1360  New to Amazon  https://www.amazon.in//Sunset-Orange-Storage-A...  \n",
       "1380  New to Amazon  https://www.amazon.in//Sunset-Orange-Storage-A...  \n",
       "1400  New to Amazon  https://www.amazon.in//Sunset-Orange-Storage-A...  \n",
       "1420  New to Amazon  https://www.amazon.in//Sunset-Orange-Storage-A...  \n",
       "1440  New to Amazon  https://www.amazon.in//Sunset-Orange-Storage-A...  \n",
       "1460  New to Amazon  https://www.amazon.in//Sunset-Orange-Storage-A...  \n",
       "1480  New to Amazon  https://www.amazon.in//Sunset-Orange-Storage-A...  \n",
       "1500  New to Amazon  https://www.amazon.in//Sunset-Orange-Storage-A...  \n",
       "1520  New to Amazon  https://www.amazon.in//Sunset-Orange-Storage-A...  \n",
       "1540  New to Amazon  https://www.amazon.in//Sunset-Orange-Storage-A...  "
      ]
     },
     "execution_count": 81,
     "metadata": {},
     "output_type": "execute_result"
    }
   ],
   "source": [
    "#checking all rows with null values in Rating columns\n",
    "miss_Rating = data[data[\"Rating\"].isnull()]\n",
    "miss_Rating\n"
   ]
  },
  {
   "cell_type": "code",
   "execution_count": 82,
   "id": "87f67e13",
   "metadata": {},
   "outputs": [],
   "source": [
    "#dropping all null values\n",
    "data.dropna(inplace=True)"
   ]
  },
  {
   "cell_type": "code",
   "execution_count": 83,
   "id": "7262382b",
   "metadata": {},
   "outputs": [
    {
     "name": "stdout",
     "output_type": "stream",
     "text": [
      "<class 'pandas.core.frame.DataFrame'>\n",
      "Int64Index: 1881 entries, 0 to 1902\n",
      "Data columns (total 5 columns):\n",
      " #   Column       Non-Null Count  Dtype \n",
      "---  ------       --------------  ----- \n",
      " 0   Description  1881 non-null   object\n",
      " 1   Price        1881 non-null   int64 \n",
      " 2   Rating       1881 non-null   object\n",
      " 3   ReviewCount  1881 non-null   object\n",
      " 4   Url          1881 non-null   object\n",
      "dtypes: int64(1), object(4)\n",
      "memory usage: 88.2+ KB\n"
     ]
    }
   ],
   "source": [
    "data.info()"
   ]
  },
  {
   "cell_type": "code",
   "execution_count": 84,
   "id": "8bc1c2f4",
   "metadata": {},
   "outputs": [
    {
     "data": {
      "text/html": [
       "<div>\n",
       "<style scoped>\n",
       "    .dataframe tbody tr th:only-of-type {\n",
       "        vertical-align: middle;\n",
       "    }\n",
       "\n",
       "    .dataframe tbody tr th {\n",
       "        vertical-align: top;\n",
       "    }\n",
       "\n",
       "    .dataframe thead th {\n",
       "        text-align: right;\n",
       "    }\n",
       "</style>\n",
       "<table border=\"1\" class=\"dataframe\">\n",
       "  <thead>\n",
       "    <tr style=\"text-align: right;\">\n",
       "      <th></th>\n",
       "      <th>count</th>\n",
       "      <th>mean</th>\n",
       "      <th>std</th>\n",
       "      <th>min</th>\n",
       "      <th>25%</th>\n",
       "      <th>50%</th>\n",
       "      <th>75%</th>\n",
       "      <th>max</th>\n",
       "    </tr>\n",
       "  </thead>\n",
       "  <tbody>\n",
       "    <tr>\n",
       "      <th>Price</th>\n",
       "      <td>1881.0</td>\n",
       "      <td>27927.04891</td>\n",
       "      <td>23029.375164</td>\n",
       "      <td>5224.0</td>\n",
       "      <td>12660.0</td>\n",
       "      <td>18499.0</td>\n",
       "      <td>32999.0</td>\n",
       "      <td>111900.0</td>\n",
       "    </tr>\n",
       "  </tbody>\n",
       "</table>\n",
       "</div>"
      ],
      "text/plain": [
       "        count         mean           std     min      25%      50%      75%  \\\n",
       "Price  1881.0  27927.04891  23029.375164  5224.0  12660.0  18499.0  32999.0   \n",
       "\n",
       "            max  \n",
       "Price  111900.0  "
      ]
     },
     "execution_count": 84,
     "metadata": {},
     "output_type": "execute_result"
    }
   ],
   "source": [
    "data.describe().T"
   ]
  },
  {
   "cell_type": "code",
   "execution_count": 85,
   "id": "afb48392",
   "metadata": {},
   "outputs": [
    {
     "data": {
      "text/html": [
       "<div>\n",
       "<style scoped>\n",
       "    .dataframe tbody tr th:only-of-type {\n",
       "        vertical-align: middle;\n",
       "    }\n",
       "\n",
       "    .dataframe tbody tr th {\n",
       "        vertical-align: top;\n",
       "    }\n",
       "\n",
       "    .dataframe thead th {\n",
       "        text-align: right;\n",
       "    }\n",
       "</style>\n",
       "<table border=\"1\" class=\"dataframe\">\n",
       "  <thead>\n",
       "    <tr style=\"text-align: right;\">\n",
       "      <th></th>\n",
       "      <th>count</th>\n",
       "      <th>unique</th>\n",
       "      <th>top</th>\n",
       "      <th>freq</th>\n",
       "    </tr>\n",
       "  </thead>\n",
       "  <tbody>\n",
       "    <tr>\n",
       "      <th>Description</th>\n",
       "      <td>1881</td>\n",
       "      <td>91</td>\n",
       "      <td>Lava Blaze 5G (Glass Green, 4GB RAM, UFS 2.2 1...</td>\n",
       "      <td>41</td>\n",
       "    </tr>\n",
       "    <tr>\n",
       "      <th>Rating</th>\n",
       "      <td>1881</td>\n",
       "      <td>18</td>\n",
       "      <td>4.1 out of 5 stars</td>\n",
       "      <td>400</td>\n",
       "    </tr>\n",
       "    <tr>\n",
       "      <th>ReviewCount</th>\n",
       "      <td>1881</td>\n",
       "      <td>54</td>\n",
       "      <td>12,588</td>\n",
       "      <td>140</td>\n",
       "    </tr>\n",
       "    <tr>\n",
       "      <th>Url</th>\n",
       "      <td>1881</td>\n",
       "      <td>1881</td>\n",
       "      <td>https://www.amazon.in//sspa/click?ie=UTF8&amp;spc=...</td>\n",
       "      <td>1</td>\n",
       "    </tr>\n",
       "  </tbody>\n",
       "</table>\n",
       "</div>"
      ],
      "text/plain": [
       "            count unique                                                top  \\\n",
       "Description  1881     91  Lava Blaze 5G (Glass Green, 4GB RAM, UFS 2.2 1...   \n",
       "Rating       1881     18                                 4.1 out of 5 stars   \n",
       "ReviewCount  1881     54                                             12,588   \n",
       "Url          1881   1881  https://www.amazon.in//sspa/click?ie=UTF8&spc=...   \n",
       "\n",
       "            freq  \n",
       "Description   41  \n",
       "Rating       400  \n",
       "ReviewCount  140  \n",
       "Url            1  "
      ]
     },
     "execution_count": 85,
     "metadata": {},
     "output_type": "execute_result"
    }
   ],
   "source": [
    "data.describe(exclude=\"number\").T"
   ]
  },
  {
   "cell_type": "code",
   "execution_count": 86,
   "id": "1b7aec9b",
   "metadata": {},
   "outputs": [
    {
     "data": {
      "text/plain": [
       "0    Lava Blaze 5G (Glass Green, 4GB RAM, UFS 2.2 1...\n",
       "Name: Description, dtype: object"
      ]
     },
     "execution_count": 86,
     "metadata": {},
     "output_type": "execute_result"
    }
   ],
   "source": [
    "data[\"Description\"].mode()"
   ]
  },
  {
   "cell_type": "code",
   "execution_count": 87,
   "id": "3543450a",
   "metadata": {},
   "outputs": [
    {
     "data": {
      "text/html": [
       "<div>\n",
       "<style scoped>\n",
       "    .dataframe tbody tr th:only-of-type {\n",
       "        vertical-align: middle;\n",
       "    }\n",
       "\n",
       "    .dataframe tbody tr th {\n",
       "        vertical-align: top;\n",
       "    }\n",
       "\n",
       "    .dataframe thead th {\n",
       "        text-align: right;\n",
       "    }\n",
       "</style>\n",
       "<table border=\"1\" class=\"dataframe\">\n",
       "  <thead>\n",
       "    <tr style=\"text-align: right;\">\n",
       "      <th></th>\n",
       "      <th>Price</th>\n",
       "    </tr>\n",
       "  </thead>\n",
       "  <tbody>\n",
       "    <tr>\n",
       "      <th>Price</th>\n",
       "      <td>1.0</td>\n",
       "    </tr>\n",
       "  </tbody>\n",
       "</table>\n",
       "</div>"
      ],
      "text/plain": [
       "       Price\n",
       "Price    1.0"
      ]
     },
     "execution_count": 87,
     "metadata": {},
     "output_type": "execute_result"
    }
   ],
   "source": [
    "corr = data.corr()\n",
    "corr"
   ]
  },
  {
   "cell_type": "code",
   "execution_count": 88,
   "id": "8143d43c",
   "metadata": {},
   "outputs": [
    {
     "name": "stdout",
     "output_type": "stream",
     "text": [
      "<class 'pandas.core.frame.DataFrame'>\n",
      "Int64Index: 1881 entries, 0 to 1902\n",
      "Data columns (total 5 columns):\n",
      " #   Column       Non-Null Count  Dtype \n",
      "---  ------       --------------  ----- \n",
      " 0   Description  1881 non-null   object\n",
      " 1   Price        1881 non-null   int64 \n",
      " 2   Rating       1881 non-null   object\n",
      " 3   ReviewCount  1881 non-null   object\n",
      " 4   Url          1881 non-null   object\n",
      "dtypes: int64(1), object(4)\n",
      "memory usage: 88.2+ KB\n"
     ]
    }
   ],
   "source": [
    "data.info()"
   ]
  },
  {
   "cell_type": "code",
   "execution_count": 89,
   "id": "9842302e",
   "metadata": {},
   "outputs": [
    {
     "name": "stdout",
     "output_type": "stream",
     "text": [
      "<class 'pandas.core.frame.DataFrame'>\n",
      "Int64Index: 1881 entries, 0 to 1902\n",
      "Data columns (total 5 columns):\n",
      " #   Column       Non-Null Count  Dtype \n",
      "---  ------       --------------  ----- \n",
      " 0   Description  1881 non-null   object\n",
      " 1   Price        1881 non-null   int64 \n",
      " 2   Rating       1881 non-null   object\n",
      " 3   ReviewCount  1881 non-null   object\n",
      " 4   Url          1881 non-null   object\n",
      "dtypes: int64(1), object(4)\n",
      "memory usage: 88.2+ KB\n"
     ]
    }
   ],
   "source": [
    "data.info()"
   ]
  },
  {
   "cell_type": "code",
   "execution_count": 90,
   "id": "67980fc8",
   "metadata": {},
   "outputs": [
    {
     "data": {
      "text/html": [
       "<div>\n",
       "<style scoped>\n",
       "    .dataframe tbody tr th:only-of-type {\n",
       "        vertical-align: middle;\n",
       "    }\n",
       "\n",
       "    .dataframe tbody tr th {\n",
       "        vertical-align: top;\n",
       "    }\n",
       "\n",
       "    .dataframe thead th {\n",
       "        text-align: right;\n",
       "    }\n",
       "</style>\n",
       "<table border=\"1\" class=\"dataframe\">\n",
       "  <thead>\n",
       "    <tr style=\"text-align: right;\">\n",
       "      <th></th>\n",
       "      <th>Description</th>\n",
       "      <th>Rating</th>\n",
       "      <th>ReviewCount</th>\n",
       "      <th>count</th>\n",
       "    </tr>\n",
       "    <tr>\n",
       "      <th>Price</th>\n",
       "      <th></th>\n",
       "      <th></th>\n",
       "      <th></th>\n",
       "      <th></th>\n",
       "    </tr>\n",
       "  </thead>\n",
       "  <tbody>\n",
       "    <tr>\n",
       "      <th>111900</th>\n",
       "      <td>Apple iPhone 13 Pro (128GB) - Graphite</td>\n",
       "      <td>4.6 out of 5 stars</td>\n",
       "      <td>1,492</td>\n",
       "      <td>20</td>\n",
       "    </tr>\n",
       "    <tr>\n",
       "      <th>99900</th>\n",
       "      <td>Apple iPhone 14 Plus 256GB Blue</td>\n",
       "      <td>4.6 out of 5 stars</td>\n",
       "      <td>72</td>\n",
       "      <td>20</td>\n",
       "    </tr>\n",
       "    <tr>\n",
       "      <th>88400</th>\n",
       "      <td>Apple iPhone 14 Plus 128GB Midnight</td>\n",
       "      <td>4.6 out of 5 stars</td>\n",
       "      <td>72</td>\n",
       "      <td>20</td>\n",
       "    </tr>\n",
       "    <tr>\n",
       "      <th>88400</th>\n",
       "      <td>Apple iPhone 14 Plus 128GB Blue</td>\n",
       "      <td>4.6 out of 5 stars</td>\n",
       "      <td>72</td>\n",
       "      <td>20</td>\n",
       "    </tr>\n",
       "    <tr>\n",
       "      <th>79900</th>\n",
       "      <td>Apple iPhone 14 128GB Blue</td>\n",
       "      <td>4.5 out of 5 stars</td>\n",
       "      <td>130</td>\n",
       "      <td>20</td>\n",
       "    </tr>\n",
       "    <tr>\n",
       "      <th>...</th>\n",
       "      <td>...</td>\n",
       "      <td>...</td>\n",
       "      <td>...</td>\n",
       "      <td>...</td>\n",
       "    </tr>\n",
       "    <tr>\n",
       "      <th>8899</th>\n",
       "      <td>(Renewed) Mi Redmi Note 6 Pro (Rose Gold, 4GB,...</td>\n",
       "      <td>3.4 out of 5 stars</td>\n",
       "      <td>86</td>\n",
       "      <td>20</td>\n",
       "    </tr>\n",
       "    <tr>\n",
       "      <th>8500</th>\n",
       "      <td>Samsung Galaxy A03 Black, 3GB RAM, 32GB Storag...</td>\n",
       "      <td>3.7 out of 5 stars</td>\n",
       "      <td>124</td>\n",
       "      <td>20</td>\n",
       "    </tr>\n",
       "    <tr>\n",
       "      <th>7880</th>\n",
       "      <td>Samsung Galaxy A03 Core (Black, 2GB RAM, 32GB ...</td>\n",
       "      <td>3.9 out of 5 stars</td>\n",
       "      <td>455</td>\n",
       "      <td>20</td>\n",
       "    </tr>\n",
       "    <tr>\n",
       "      <th>7499</th>\n",
       "      <td>IKALL Z20 Smartphone (6.5 Inch, 4GB, 32GB) (1....</td>\n",
       "      <td>4.3 out of 5 stars</td>\n",
       "      <td>6</td>\n",
       "      <td>20</td>\n",
       "    </tr>\n",
       "    <tr>\n",
       "      <th>5224</th>\n",
       "      <td>IKALL Z9 Smartphone (3GB, 32GB) (Blue)</td>\n",
       "      <td>2.0 out of 5 stars</td>\n",
       "      <td>3</td>\n",
       "      <td>20</td>\n",
       "    </tr>\n",
       "  </tbody>\n",
       "</table>\n",
       "<p>91 rows × 4 columns</p>\n",
       "</div>"
      ],
      "text/plain": [
       "                                              Description              Rating  \\\n",
       "Price                                                                           \n",
       "111900             Apple iPhone 13 Pro (128GB) - Graphite  4.6 out of 5 stars   \n",
       "99900                     Apple iPhone 14 Plus 256GB Blue  4.6 out of 5 stars   \n",
       "88400                 Apple iPhone 14 Plus 128GB Midnight  4.6 out of 5 stars   \n",
       "88400                     Apple iPhone 14 Plus 128GB Blue  4.6 out of 5 stars   \n",
       "79900                          Apple iPhone 14 128GB Blue  4.5 out of 5 stars   \n",
       "...                                                   ...                 ...   \n",
       "8899    (Renewed) Mi Redmi Note 6 Pro (Rose Gold, 4GB,...  3.4 out of 5 stars   \n",
       "8500    Samsung Galaxy A03 Black, 3GB RAM, 32GB Storag...  3.7 out of 5 stars   \n",
       "7880    Samsung Galaxy A03 Core (Black, 2GB RAM, 32GB ...  3.9 out of 5 stars   \n",
       "7499    IKALL Z20 Smartphone (6.5 Inch, 4GB, 32GB) (1....  4.3 out of 5 stars   \n",
       "5224               IKALL Z9 Smartphone (3GB, 32GB) (Blue)  2.0 out of 5 stars   \n",
       "\n",
       "       ReviewCount  count  \n",
       "Price                      \n",
       "111900       1,492     20  \n",
       "99900           72     20  \n",
       "88400           72     20  \n",
       "88400           72     20  \n",
       "79900          130     20  \n",
       "...            ...    ...  \n",
       "8899            86     20  \n",
       "8500           124     20  \n",
       "7880           455     20  \n",
       "7499             6     20  \n",
       "5224             3     20  \n",
       "\n",
       "[91 rows x 4 columns]"
      ]
     },
     "execution_count": 90,
     "metadata": {},
     "output_type": "execute_result"
    }
   ],
   "source": [
    "by_price = data.groupby([\"Description\",\"Price\",\"Rating\",\"ReviewCount\"])[\"Price\"].count().reset_index(name=\"count\")\n",
    "by_price = by_price.set_index(\"Price\")\n",
    "by_price = by_price.sort_values(\"Price\",ascending =False)\n",
    "by_price"
   ]
  },
  {
   "cell_type": "code",
   "execution_count": 91,
   "id": "37740b0e",
   "metadata": {},
   "outputs": [
    {
     "data": {
      "text/html": [
       "<div>\n",
       "<style scoped>\n",
       "    .dataframe tbody tr th:only-of-type {\n",
       "        vertical-align: middle;\n",
       "    }\n",
       "\n",
       "    .dataframe tbody tr th {\n",
       "        vertical-align: top;\n",
       "    }\n",
       "\n",
       "    .dataframe thead th {\n",
       "        text-align: right;\n",
       "    }\n",
       "</style>\n",
       "<table border=\"1\" class=\"dataframe\">\n",
       "  <thead>\n",
       "    <tr style=\"text-align: right;\">\n",
       "      <th></th>\n",
       "      <th>Description</th>\n",
       "      <th>Rating</th>\n",
       "      <th>ReviewCount</th>\n",
       "      <th>count</th>\n",
       "    </tr>\n",
       "    <tr>\n",
       "      <th>Price</th>\n",
       "      <th></th>\n",
       "      <th></th>\n",
       "      <th></th>\n",
       "      <th></th>\n",
       "    </tr>\n",
       "  </thead>\n",
       "  <tbody>\n",
       "    <tr>\n",
       "      <th>111900</th>\n",
       "      <td>Apple iPhone 13 Pro (128GB) - Graphite</td>\n",
       "      <td>4.6 out of 5 stars</td>\n",
       "      <td>1,492</td>\n",
       "      <td>20</td>\n",
       "    </tr>\n",
       "    <tr>\n",
       "      <th>99900</th>\n",
       "      <td>Apple iPhone 14 Plus 256GB Blue</td>\n",
       "      <td>4.6 out of 5 stars</td>\n",
       "      <td>72</td>\n",
       "      <td>20</td>\n",
       "    </tr>\n",
       "    <tr>\n",
       "      <th>88400</th>\n",
       "      <td>Apple iPhone 14 Plus 128GB Midnight</td>\n",
       "      <td>4.6 out of 5 stars</td>\n",
       "      <td>72</td>\n",
       "      <td>20</td>\n",
       "    </tr>\n",
       "    <tr>\n",
       "      <th>88400</th>\n",
       "      <td>Apple iPhone 14 Plus 128GB Blue</td>\n",
       "      <td>4.6 out of 5 stars</td>\n",
       "      <td>72</td>\n",
       "      <td>20</td>\n",
       "    </tr>\n",
       "    <tr>\n",
       "      <th>79900</th>\n",
       "      <td>Apple iPhone 14 128GB Blue</td>\n",
       "      <td>4.5 out of 5 stars</td>\n",
       "      <td>130</td>\n",
       "      <td>20</td>\n",
       "    </tr>\n",
       "  </tbody>\n",
       "</table>\n",
       "</div>"
      ],
      "text/plain": [
       "                                   Description              Rating  \\\n",
       "Price                                                                \n",
       "111900  Apple iPhone 13 Pro (128GB) - Graphite  4.6 out of 5 stars   \n",
       "99900          Apple iPhone 14 Plus 256GB Blue  4.6 out of 5 stars   \n",
       "88400      Apple iPhone 14 Plus 128GB Midnight  4.6 out of 5 stars   \n",
       "88400          Apple iPhone 14 Plus 128GB Blue  4.6 out of 5 stars   \n",
       "79900               Apple iPhone 14 128GB Blue  4.5 out of 5 stars   \n",
       "\n",
       "       ReviewCount  count  \n",
       "Price                      \n",
       "111900       1,492     20  \n",
       "99900           72     20  \n",
       "88400           72     20  \n",
       "88400           72     20  \n",
       "79900          130     20  "
      ]
     },
     "execution_count": 91,
     "metadata": {},
     "output_type": "execute_result"
    }
   ],
   "source": [
    "Top5_by_price = by_price.head(5)\n",
    "Top5_by_price"
   ]
  },
  {
   "cell_type": "markdown",
   "id": "3dcfae7e",
   "metadata": {},
   "source": [
    "## Data visualiztion"
   ]
  },
  {
   "cell_type": "code",
   "execution_count": 108,
   "id": "843fbcb3",
   "metadata": {},
   "outputs": [
    {
     "data": {
      "text/plain": [
       "Text(0.5, 1.0, 'price histogram')"
      ]
     },
     "execution_count": 108,
     "metadata": {},
     "output_type": "execute_result"
    },
    {
     "data": {
      "image/png": "[encoded data removed]",
      "text/plain": [
       "<Figure size 576x432 with 1 Axes>"
      ]
     },
     "metadata": {},
     "output_type": "display_data"
    }
   ],
   "source": [
    "plt.figure(figsize=(8,6))\n",
    "sns.histplot(data[\"Price\"])\n",
    "plt.title(\"price histogram\")"
   ]
  },
  {
   "cell_type": "markdown",
   "id": "61aa5f61",
   "metadata": {},
   "source": [
    "Most phones were priced between 10000 to 15000"
   ]
  },
  {
   "cell_type": "markdown",
   "id": "291116a1",
   "metadata": {},
   "source": [
    "## Bivariate Analysis\n"
   ]
  },
  {
   "cell_type": "code",
   "execution_count": 109,
   "id": "35e264b3",
   "metadata": {},
   "outputs": [
    {
     "data": {
      "text/plain": [
       "Text(0.5, 1.0, 'Price and Rating Line plot,')"
      ]
     },
     "execution_count": 109,
     "metadata": {},
     "output_type": "execute_result"
    },
    {
     "data": {
      "image/png": "[encoded data removed]",
      "text/plain": [
       "<Figure size 576x432 with 1 Axes>"
      ]
     },
     "metadata": {},
     "output_type": "display_data"
    }
   ],
   "source": [
    "plt.figure(figsize=(8,6))\n",
    "sns.lineplot(x=data[\"Rating\"],y=data[\"Price\"],ci=None)\n",
    "plt.xticks(rotation=90)\n",
    "plt.title(\"Price and Rating Line plot,\")"
   ]
  },
  {
   "cell_type": "markdown",
   "id": "48fb5787",
   "metadata": {},
   "source": [
    "Most phones above 70000 price are rated about 4.6 out of 5, phones pricing about 10000 are rated about 3.7,3.4 and 4.3 stars"
   ]
  },
  {
   "cell_type": "code",
   "execution_count": 110,
   "id": "7e5044a4",
   "metadata": {},
   "outputs": [
    {
     "data": {
      "text/plain": [
       "Text(0.5, 1.0, 'Price,Rating Barchart')"
      ]
     },
     "execution_count": 110,
     "metadata": {},
     "output_type": "execute_result"
    },
    {
     "data": {
      "image/png": "[encoded data removed]",
      "text/plain": [
       "<Figure size 576x432 with 1 Axes>"
      ]
     },
     "metadata": {},
     "output_type": "display_data"
    }
   ],
   "source": [
    "plt.figure(figsize=(8,6))\n",
    "sns.barplot(x=data[\"Rating\"],y=data[\"Price\"],ci=None)\n",
    "plt.xticks(rotation=90)\n",
    "plt.title(\"Price,Rating Barchart\")"
   ]
  },
  {
   "cell_type": "code",
   "execution_count": 121,
   "id": "bdb628fe",
   "metadata": {},
   "outputs": [
    {
     "data": {
      "text/plain": [
       "Text(0.5, 1.0, 'Price,Rating Barchart')"
      ]
     },
     "execution_count": 121,
     "metadata": {},
     "output_type": "execute_result"
    },
    {
     "data": {
      "image/png": "[encoded data removed]",
      "text/plain": [
       "<Figure size 576x432 with 1 Axes>"
      ]
     },
     "metadata": {},
     "output_type": "display_data"
    }
   ],
   "source": [
    "plt.figure(figsize=(8,6))\n",
    "sns.barplot(x=Top5_by_price.reset_index()[\"Rating\"],y=Top5_by_price.reset_index()[\"Price\"], hue=Top5_by_price.reset_index()[\"Description\"])\n",
    "plt.xticks(rotation=90)\n",
    "plt.title(\"Price,Rating Barchart\")"
   ]
  },
  {
   "cell_type": "markdown",
   "id": "fb0384f1",
   "metadata": {},
   "source": [
    "Four of top five phones by price are rated 4.6 out of 5 stars, while the other is rated 4.5 out of 5,but all are Apple iphone"
   ]
  }
 ],
 "metadata": {
  "kernelspec": {
   "display_name": "Python 3 (ipykernel)",
   "language": "python",
   "name": "python3"
  },
  "language_info": {
   "codemirror_mode": {
    "name": "ipython",
    "version": 3
   },
   "file_extension": ".py",
   "mimetype": "text/x-python",
   "name": "python",
   "nbconvert_exporter": "python",
   "pygments_lexer": "ipython3",
   "version": "3.9.12"
  }
 },
 "nbformat": 4,
 "nbformat_minor": 5
}
