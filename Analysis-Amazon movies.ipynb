{
 "cells": [
  {
   "cell_type": "markdown",
   "id": "ec0c9852",
   "metadata": {},
   "source": [
    "## Importing libraries"
   ]
  },
  {
   "cell_type": "code",
   "execution_count": 1,
   "id": "91cfdf39",
   "metadata": {},
   "outputs": [],
   "source": [
    "\n",
    "import pandas as pd \n",
    "import matplotlib.pyplot as plt\n",
    "import numpy as np\n",
    "import seaborn as sns\n",
    "from matplotlib.patches import Polygon\n",
    "import matplotlib.dates as mdates\n",
    "%matplotlib inline\n",
    "import datetime as dt\n",
    "import os"
   ]
  },
  {
   "cell_type": "markdown",
   "id": "cc599aa0",
   "metadata": {},
   "source": [
    "## Reading dataset"
   ]
  },
  {
   "cell_type": "code",
   "execution_count": 2,
   "id": "b557695f",
   "metadata": {},
   "outputs": [
    {
     "data": {
      "text/html": [
       "<div>\n",
       "<style scoped>\n",
       "    .dataframe tbody tr th:only-of-type {\n",
       "        vertical-align: middle;\n",
       "    }\n",
       "\n",
       "    .dataframe tbody tr th {\n",
       "        vertical-align: top;\n",
       "    }\n",
       "\n",
       "    .dataframe thead th {\n",
       "        text-align: right;\n",
       "    }\n",
       "</style>\n",
       "<table border=\"1\" class=\"dataframe\">\n",
       "  <thead>\n",
       "    <tr style=\"text-align: right;\">\n",
       "      <th></th>\n",
       "      <th>show_id</th>\n",
       "      <th>type</th>\n",
       "      <th>title</th>\n",
       "      <th>director</th>\n",
       "      <th>cast</th>\n",
       "      <th>country</th>\n",
       "      <th>date_added</th>\n",
       "      <th>release_year</th>\n",
       "      <th>rating</th>\n",
       "      <th>duration</th>\n",
       "      <th>listed_in</th>\n",
       "      <th>description</th>\n",
       "    </tr>\n",
       "  </thead>\n",
       "  <tbody>\n",
       "    <tr>\n",
       "      <th>0</th>\n",
       "      <td>s1</td>\n",
       "      <td>Movie</td>\n",
       "      <td>The Grand Seduction</td>\n",
       "      <td>Don McKellar</td>\n",
       "      <td>Brendan Gleeson, Taylor Kitsch, Gordon Pinsent</td>\n",
       "      <td>Canada</td>\n",
       "      <td>March 30, 2021</td>\n",
       "      <td>2014</td>\n",
       "      <td>NaN</td>\n",
       "      <td>113 min</td>\n",
       "      <td>Comedy, Drama</td>\n",
       "      <td>A small fishing village must procure a local d...</td>\n",
       "    </tr>\n",
       "    <tr>\n",
       "      <th>1</th>\n",
       "      <td>s2</td>\n",
       "      <td>Movie</td>\n",
       "      <td>Take Care Good Night</td>\n",
       "      <td>Girish Joshi</td>\n",
       "      <td>Mahesh Manjrekar, Abhay Mahajan, Sachin Khedekar</td>\n",
       "      <td>India</td>\n",
       "      <td>March 30, 2021</td>\n",
       "      <td>2018</td>\n",
       "      <td>13+</td>\n",
       "      <td>110 min</td>\n",
       "      <td>Drama, International</td>\n",
       "      <td>A Metro Family decides to fight a Cyber Crimin...</td>\n",
       "    </tr>\n",
       "    <tr>\n",
       "      <th>2</th>\n",
       "      <td>s3</td>\n",
       "      <td>Movie</td>\n",
       "      <td>Secrets of Deception</td>\n",
       "      <td>Josh Webber</td>\n",
       "      <td>Tom Sizemore, Lorenzo Lamas, Robert LaSardo, R...</td>\n",
       "      <td>United States</td>\n",
       "      <td>March 30, 2021</td>\n",
       "      <td>2017</td>\n",
       "      <td>NaN</td>\n",
       "      <td>74 min</td>\n",
       "      <td>Action, Drama, Suspense</td>\n",
       "      <td>After a man discovers his wife is cheating on ...</td>\n",
       "    </tr>\n",
       "    <tr>\n",
       "      <th>3</th>\n",
       "      <td>s4</td>\n",
       "      <td>Movie</td>\n",
       "      <td>Pink: Staying True</td>\n",
       "      <td>Sonia Anderson</td>\n",
       "      <td>Interviews with: Pink, Adele, Beyoncé, Britney...</td>\n",
       "      <td>United States</td>\n",
       "      <td>March 30, 2021</td>\n",
       "      <td>2014</td>\n",
       "      <td>NaN</td>\n",
       "      <td>69 min</td>\n",
       "      <td>Documentary</td>\n",
       "      <td>Pink breaks the mold once again, bringing her ...</td>\n",
       "    </tr>\n",
       "    <tr>\n",
       "      <th>4</th>\n",
       "      <td>s5</td>\n",
       "      <td>Movie</td>\n",
       "      <td>Monster Maker</td>\n",
       "      <td>Giles Foster</td>\n",
       "      <td>Harry Dean Stanton, Kieran O'Brien, George Cos...</td>\n",
       "      <td>United Kingdom</td>\n",
       "      <td>March 30, 2021</td>\n",
       "      <td>1989</td>\n",
       "      <td>NaN</td>\n",
       "      <td>45 min</td>\n",
       "      <td>Drama, Fantasy</td>\n",
       "      <td>Teenage Matt Banting wants to work with a famo...</td>\n",
       "    </tr>\n",
       "  </tbody>\n",
       "</table>\n",
       "</div>"
      ],
      "text/plain": [
       "  show_id   type                 title        director  \\\n",
       "0      s1  Movie   The Grand Seduction    Don McKellar   \n",
       "1      s2  Movie  Take Care Good Night    Girish Joshi   \n",
       "2      s3  Movie  Secrets of Deception     Josh Webber   \n",
       "3      s4  Movie    Pink: Staying True  Sonia Anderson   \n",
       "4      s5  Movie         Monster Maker    Giles Foster   \n",
       "\n",
       "                                                cast         country  \\\n",
       "0     Brendan Gleeson, Taylor Kitsch, Gordon Pinsent          Canada   \n",
       "1   Mahesh Manjrekar, Abhay Mahajan, Sachin Khedekar           India   \n",
       "2  Tom Sizemore, Lorenzo Lamas, Robert LaSardo, R...   United States   \n",
       "3  Interviews with: Pink, Adele, Beyoncé, Britney...   United States   \n",
       "4  Harry Dean Stanton, Kieran O'Brien, George Cos...  United Kingdom   \n",
       "\n",
       "       date_added  release_year rating duration                listed_in  \\\n",
       "0  March 30, 2021          2014    NaN  113 min            Comedy, Drama   \n",
       "1  March 30, 2021          2018    13+  110 min     Drama, International   \n",
       "2  March 30, 2021          2017    NaN   74 min  Action, Drama, Suspense   \n",
       "3  March 30, 2021          2014    NaN   69 min              Documentary   \n",
       "4  March 30, 2021          1989    NaN   45 min           Drama, Fantasy   \n",
       "\n",
       "                                         description  \n",
       "0  A small fishing village must procure a local d...  \n",
       "1  A Metro Family decides to fight a Cyber Crimin...  \n",
       "2  After a man discovers his wife is cheating on ...  \n",
       "3  Pink breaks the mold once again, bringing her ...  \n",
       "4  Teenage Matt Banting wants to work with a famo...  "
      ]
     },
     "execution_count": 2,
     "metadata": {},
     "output_type": "execute_result"
    }
   ],
   "source": [
    "data=pd.read_csv(\"amazon_prime_titles.csv\")\n",
    "data.head()"
   ]
  },
  {
   "cell_type": "markdown",
   "id": "328e0f98",
   "metadata": {},
   "source": [
    "## Basic information"
   ]
  },
  {
   "cell_type": "code",
   "execution_count": 3,
   "id": "eb8573bf",
   "metadata": {},
   "outputs": [
    {
     "data": {
      "text/plain": [
       "show_id         object\n",
       "type            object\n",
       "title           object\n",
       "director        object\n",
       "cast            object\n",
       "country         object\n",
       "date_added      object\n",
       "release_year     int64\n",
       "rating          object\n",
       "duration        object\n",
       "listed_in       object\n",
       "description     object\n",
       "dtype: object"
      ]
     },
     "execution_count": 3,
     "metadata": {},
     "output_type": "execute_result"
    }
   ],
   "source": [
    "data.dtypes"
   ]
  },
  {
   "cell_type": "code",
   "execution_count": 4,
   "id": "e007ef5d",
   "metadata": {},
   "outputs": [
    {
     "name": "stdout",
     "output_type": "stream",
     "text": [
      "<class 'pandas.core.frame.DataFrame'>\n",
      "RangeIndex: 9668 entries, 0 to 9667\n",
      "Data columns (total 12 columns):\n",
      " #   Column        Non-Null Count  Dtype \n",
      "---  ------        --------------  ----- \n",
      " 0   show_id       9668 non-null   object\n",
      " 1   type          9668 non-null   object\n",
      " 2   title         9668 non-null   object\n",
      " 3   director      7586 non-null   object\n",
      " 4   cast          8435 non-null   object\n",
      " 5   country       672 non-null    object\n",
      " 6   date_added    155 non-null    object\n",
      " 7   release_year  9668 non-null   int64 \n",
      " 8   rating        9331 non-null   object\n",
      " 9   duration      9668 non-null   object\n",
      " 10  listed_in     9668 non-null   object\n",
      " 11  description   9668 non-null   object\n",
      "dtypes: int64(1), object(11)\n",
      "memory usage: 906.5+ KB\n"
     ]
    }
   ],
   "source": [
    "data.info()"
   ]
  },
  {
   "cell_type": "code",
   "execution_count": 5,
   "id": "3f4adc14",
   "metadata": {},
   "outputs": [
    {
     "name": "stdout",
     "output_type": "stream",
     "text": [
      "<class 'pandas.core.frame.DataFrame'>\n",
      "Int64Index: 9668 entries, 0 to 9667\n",
      "Data columns (total 12 columns):\n",
      " #   Column        Non-Null Count  Dtype \n",
      "---  ------        --------------  ----- \n",
      " 0   show_id       9668 non-null   object\n",
      " 1   type          9668 non-null   object\n",
      " 2   title         9668 non-null   object\n",
      " 3   director      7586 non-null   object\n",
      " 4   cast          8435 non-null   object\n",
      " 5   country       672 non-null    object\n",
      " 6   date_added    155 non-null    object\n",
      " 7   release_year  9668 non-null   int64 \n",
      " 8   rating        9331 non-null   object\n",
      " 9   duration      9668 non-null   object\n",
      " 10  listed_in     9668 non-null   object\n",
      " 11  description   9668 non-null   object\n",
      "dtypes: int64(1), object(11)\n",
      "memory usage: 981.9+ KB\n"
     ]
    }
   ],
   "source": [
    "#dropping dupliactes in movie id\n",
    "data.drop_duplicates(subset=\"show_id\",inplace=True)\n",
    "data.info()"
   ]
  },
  {
   "cell_type": "code",
   "execution_count": 6,
   "id": "4d2d6594",
   "metadata": {},
   "outputs": [
    {
     "data": {
      "text/plain": [
       "show_id            0\n",
       "type               0\n",
       "title              0\n",
       "director        2082\n",
       "cast            1233\n",
       "country         8996\n",
       "date_added      9513\n",
       "release_year       0\n",
       "rating           337\n",
       "duration           0\n",
       "listed_in          0\n",
       "description        0\n",
       "dtype: int64"
      ]
     },
     "execution_count": 6,
     "metadata": {},
     "output_type": "execute_result"
    }
   ],
   "source": [
    "#checking for nullvalues\n",
    "data.isnull().sum()"
   ]
  },
  {
   "cell_type": "code",
   "execution_count": 7,
   "id": "82075959",
   "metadata": {},
   "outputs": [
    {
     "name": "stdout",
     "output_type": "stream",
     "text": [
      "<class 'pandas.core.frame.DataFrame'>\n",
      "Int64Index: 9668 entries, 0 to 9667\n",
      "Data columns (total 12 columns):\n",
      " #   Column        Non-Null Count  Dtype         \n",
      "---  ------        --------------  -----         \n",
      " 0   show_id       9668 non-null   object        \n",
      " 1   type          9668 non-null   object        \n",
      " 2   title         9668 non-null   object        \n",
      " 3   director      7586 non-null   object        \n",
      " 4   cast          8435 non-null   object        \n",
      " 5   country       672 non-null    object        \n",
      " 6   date_added    155 non-null    datetime64[ns]\n",
      " 7   release_year  9668 non-null   int64         \n",
      " 8   rating        9331 non-null   object        \n",
      " 9   duration      9668 non-null   object        \n",
      " 10  listed_in     9668 non-null   object        \n",
      " 11  description   9668 non-null   object        \n",
      "dtypes: datetime64[ns](1), int64(1), object(10)\n",
      "memory usage: 981.9+ KB\n"
     ]
    }
   ],
   "source": [
    "#converting data_added to datetime\n",
    "data[\"date_added\"] = pd.to_datetime(data[\"date_added\"])\n",
    "data.info()"
   ]
  },
  {
   "cell_type": "code",
   "execution_count": 8,
   "id": "89336c96",
   "metadata": {},
   "outputs": [],
   "source": [
    "#dding more columns,of year,month and datetime\n",
    "data[\"day_added\"] = data[\"date_added\"].dt.day_name()\n",
    "data[\"month_added\"] = data[\"date_added\"].dt.month_name()\n",
    "data[\"year_added\"] = data[\"date_added\"].dt.year"
   ]
  },
  {
   "cell_type": "code",
   "execution_count": 9,
   "id": "77ddaa7b",
   "metadata": {},
   "outputs": [
    {
     "data": {
      "text/html": [
       "<div>\n",
       "<style scoped>\n",
       "    .dataframe tbody tr th:only-of-type {\n",
       "        vertical-align: middle;\n",
       "    }\n",
       "\n",
       "    .dataframe tbody tr th {\n",
       "        vertical-align: top;\n",
       "    }\n",
       "\n",
       "    .dataframe thead th {\n",
       "        text-align: right;\n",
       "    }\n",
       "</style>\n",
       "<table border=\"1\" class=\"dataframe\">\n",
       "  <thead>\n",
       "    <tr style=\"text-align: right;\">\n",
       "      <th></th>\n",
       "      <th>show_id</th>\n",
       "      <th>type</th>\n",
       "      <th>title</th>\n",
       "      <th>director</th>\n",
       "      <th>cast</th>\n",
       "      <th>country</th>\n",
       "      <th>date_added</th>\n",
       "      <th>release_year</th>\n",
       "      <th>rating</th>\n",
       "      <th>duration</th>\n",
       "      <th>listed_in</th>\n",
       "      <th>description</th>\n",
       "      <th>day_added</th>\n",
       "      <th>month_added</th>\n",
       "      <th>year_added</th>\n",
       "    </tr>\n",
       "  </thead>\n",
       "  <tbody>\n",
       "    <tr>\n",
       "      <th>0</th>\n",
       "      <td>s1</td>\n",
       "      <td>Movie</td>\n",
       "      <td>The Grand Seduction</td>\n",
       "      <td>Don McKellar</td>\n",
       "      <td>Brendan Gleeson, Taylor Kitsch, Gordon Pinsent</td>\n",
       "      <td>Canada</td>\n",
       "      <td>2021-03-30</td>\n",
       "      <td>2014</td>\n",
       "      <td>NaN</td>\n",
       "      <td>113 min</td>\n",
       "      <td>Comedy, Drama</td>\n",
       "      <td>A small fishing village must procure a local d...</td>\n",
       "      <td>Tuesday</td>\n",
       "      <td>March</td>\n",
       "      <td>2021.0</td>\n",
       "    </tr>\n",
       "    <tr>\n",
       "      <th>1</th>\n",
       "      <td>s2</td>\n",
       "      <td>Movie</td>\n",
       "      <td>Take Care Good Night</td>\n",
       "      <td>Girish Joshi</td>\n",
       "      <td>Mahesh Manjrekar, Abhay Mahajan, Sachin Khedekar</td>\n",
       "      <td>India</td>\n",
       "      <td>2021-03-30</td>\n",
       "      <td>2018</td>\n",
       "      <td>13+</td>\n",
       "      <td>110 min</td>\n",
       "      <td>Drama, International</td>\n",
       "      <td>A Metro Family decides to fight a Cyber Crimin...</td>\n",
       "      <td>Tuesday</td>\n",
       "      <td>March</td>\n",
       "      <td>2021.0</td>\n",
       "    </tr>\n",
       "    <tr>\n",
       "      <th>2</th>\n",
       "      <td>s3</td>\n",
       "      <td>Movie</td>\n",
       "      <td>Secrets of Deception</td>\n",
       "      <td>Josh Webber</td>\n",
       "      <td>Tom Sizemore, Lorenzo Lamas, Robert LaSardo, R...</td>\n",
       "      <td>United States</td>\n",
       "      <td>2021-03-30</td>\n",
       "      <td>2017</td>\n",
       "      <td>NaN</td>\n",
       "      <td>74 min</td>\n",
       "      <td>Action, Drama, Suspense</td>\n",
       "      <td>After a man discovers his wife is cheating on ...</td>\n",
       "      <td>Tuesday</td>\n",
       "      <td>March</td>\n",
       "      <td>2021.0</td>\n",
       "    </tr>\n",
       "    <tr>\n",
       "      <th>3</th>\n",
       "      <td>s4</td>\n",
       "      <td>Movie</td>\n",
       "      <td>Pink: Staying True</td>\n",
       "      <td>Sonia Anderson</td>\n",
       "      <td>Interviews with: Pink, Adele, Beyoncé, Britney...</td>\n",
       "      <td>United States</td>\n",
       "      <td>2021-03-30</td>\n",
       "      <td>2014</td>\n",
       "      <td>NaN</td>\n",
       "      <td>69 min</td>\n",
       "      <td>Documentary</td>\n",
       "      <td>Pink breaks the mold once again, bringing her ...</td>\n",
       "      <td>Tuesday</td>\n",
       "      <td>March</td>\n",
       "      <td>2021.0</td>\n",
       "    </tr>\n",
       "    <tr>\n",
       "      <th>4</th>\n",
       "      <td>s5</td>\n",
       "      <td>Movie</td>\n",
       "      <td>Monster Maker</td>\n",
       "      <td>Giles Foster</td>\n",
       "      <td>Harry Dean Stanton, Kieran O'Brien, George Cos...</td>\n",
       "      <td>United Kingdom</td>\n",
       "      <td>2021-03-30</td>\n",
       "      <td>1989</td>\n",
       "      <td>NaN</td>\n",
       "      <td>45 min</td>\n",
       "      <td>Drama, Fantasy</td>\n",
       "      <td>Teenage Matt Banting wants to work with a famo...</td>\n",
       "      <td>Tuesday</td>\n",
       "      <td>March</td>\n",
       "      <td>2021.0</td>\n",
       "    </tr>\n",
       "  </tbody>\n",
       "</table>\n",
       "</div>"
      ],
      "text/plain": [
       "  show_id   type                 title        director  \\\n",
       "0      s1  Movie   The Grand Seduction    Don McKellar   \n",
       "1      s2  Movie  Take Care Good Night    Girish Joshi   \n",
       "2      s3  Movie  Secrets of Deception     Josh Webber   \n",
       "3      s4  Movie    Pink: Staying True  Sonia Anderson   \n",
       "4      s5  Movie         Monster Maker    Giles Foster   \n",
       "\n",
       "                                                cast         country  \\\n",
       "0     Brendan Gleeson, Taylor Kitsch, Gordon Pinsent          Canada   \n",
       "1   Mahesh Manjrekar, Abhay Mahajan, Sachin Khedekar           India   \n",
       "2  Tom Sizemore, Lorenzo Lamas, Robert LaSardo, R...   United States   \n",
       "3  Interviews with: Pink, Adele, Beyoncé, Britney...   United States   \n",
       "4  Harry Dean Stanton, Kieran O'Brien, George Cos...  United Kingdom   \n",
       "\n",
       "  date_added  release_year rating duration                listed_in  \\\n",
       "0 2021-03-30          2014    NaN  113 min            Comedy, Drama   \n",
       "1 2021-03-30          2018    13+  110 min     Drama, International   \n",
       "2 2021-03-30          2017    NaN   74 min  Action, Drama, Suspense   \n",
       "3 2021-03-30          2014    NaN   69 min              Documentary   \n",
       "4 2021-03-30          1989    NaN   45 min           Drama, Fantasy   \n",
       "\n",
       "                                         description day_added month_added  \\\n",
       "0  A small fishing village must procure a local d...   Tuesday       March   \n",
       "1  A Metro Family decides to fight a Cyber Crimin...   Tuesday       March   \n",
       "2  After a man discovers his wife is cheating on ...   Tuesday       March   \n",
       "3  Pink breaks the mold once again, bringing her ...   Tuesday       March   \n",
       "4  Teenage Matt Banting wants to work with a famo...   Tuesday       March   \n",
       "\n",
       "   year_added  \n",
       "0      2021.0  \n",
       "1      2021.0  \n",
       "2      2021.0  \n",
       "3      2021.0  \n",
       "4      2021.0  "
      ]
     },
     "execution_count": 9,
     "metadata": {},
     "output_type": "execute_result"
    }
   ],
   "source": [
    "data.head()"
   ]
  },
  {
   "cell_type": "code",
   "execution_count": 10,
   "id": "9ee7532b",
   "metadata": {},
   "outputs": [
    {
     "data": {
      "text/plain": [
       "2"
      ]
     },
     "execution_count": 10,
     "metadata": {},
     "output_type": "execute_result"
    }
   ],
   "source": [
    "#types of movies\n",
    "data[\"type\"].nunique()"
   ]
  },
  {
   "cell_type": "code",
   "execution_count": 11,
   "id": "a0d3b7d9",
   "metadata": {},
   "outputs": [
    {
     "data": {
      "text/plain": [
       "United States     292\n",
       "India             238\n",
       "United Kingdom     48\n",
       " United States     42\n",
       "Canada             25\n",
       "                 ... \n",
       "Ireland             1\n",
       " Luxembourg         1\n",
       "South Africa        1\n",
       " Monaco             1\n",
       " Hong Kong          1\n",
       "Length: 65, dtype: int64"
      ]
     },
     "execution_count": 11,
     "metadata": {},
     "output_type": "execute_result"
    }
   ],
   "source": [
    "#number of countries and their appearence\n",
    "data[\"country\"].str.split(\",\",expand=True).stack().value_counts()"
   ]
  },
  {
   "cell_type": "code",
   "execution_count": 12,
   "id": "0afb0f5d",
   "metadata": {},
   "outputs": [
    {
     "data": {
      "text/plain": [
       "Movie      7814\n",
       "TV Show    1854\n",
       "dtype: int64"
      ]
     },
     "execution_count": 12,
     "metadata": {},
     "output_type": "execute_result"
    }
   ],
   "source": [
    "#type of movies and their appearancs\n",
    "data[\"type\"].str.split(\",\",expand =True).stack().value_counts()"
   ]
  },
  {
   "cell_type": "code",
   "execution_count": 13,
   "id": "29098a61",
   "metadata": {},
   "outputs": [
    {
     "data": {
      "text/plain": [
       "13+         2117\n",
       "16+         1547\n",
       "ALL         1268\n",
       "18+         1243\n",
       "R           1010\n",
       "PG-13        393\n",
       "7+           385\n",
       "PG           253\n",
       "NR           223\n",
       "TV-14        208\n",
       "TV-PG        169\n",
       "TV-NR        105\n",
       "G             93\n",
       "TV-G          81\n",
       "TV-MA         77\n",
       "TV-Y          74\n",
       "TV-Y7         39\n",
       "UNRATED       33\n",
       "NC-17          3\n",
       "AGES_18_       3\n",
       "NOT_RATE       3\n",
       "AGES_16_       2\n",
       "16             1\n",
       "ALL_AGES       1\n",
       "dtype: int64"
      ]
     },
     "execution_count": 13,
     "metadata": {},
     "output_type": "execute_result"
    }
   ],
   "source": [
    "#showing rating and number of appearence\n",
    "data[\"rating\"].str.split(\",\",expand=True).stack().value_counts()"
   ]
  },
  {
   "cell_type": "code",
   "execution_count": 14,
   "id": "f30f08ea",
   "metadata": {},
   "outputs": [
    {
     "data": {
      "text/plain": [
       "Drama                         2216\n",
       "Action                        1657\n",
       "Comedy                        1475\n",
       " Drama                        1471\n",
       " Suspense                     1307\n",
       "Documentary                    913\n",
       " Special Interest              792\n",
       " Kids                          712\n",
       " Comedy                        624\n",
       " Romance                       548\n",
       "Horror                         535\n",
       "Animation                      498\n",
       " Entertainment                 483\n",
       " and Culture                   483\n",
       "Arts                           457\n",
       "Kids                           373\n",
       " Science Fiction               372\n",
       " Horror                        340\n",
       " International                 308\n",
       "TV Shows                       263\n",
       "Suspense                       194\n",
       " Adventure                     188\n",
       "Special Interest               188\n",
       " Sports                        141\n",
       "Arthouse                       132\n",
       " Western                       132\n",
       "Romance                        126\n",
       " Unscripted                    123\n",
       "Music Videos and Concerts      103\n",
       "Western                        102\n",
       " LGBTQ                         100\n",
       "Science Fiction                 85\n",
       " Young Adult Audience           84\n",
       "Fitness                         83\n",
       " Documentary                    80\n",
       "Adventure                       71\n",
       " Faith and Spirituality         53\n",
       " Music Videos and Concerts      52\n",
       " Fantasy                        50\n",
       " Animation                      49\n",
       "International                   47\n",
       "Anime                           44\n",
       " Military and War               39\n",
       " Anime                          36\n",
       "Unscripted                      29\n",
       " Historical                     28\n",
       " Arts                           26\n",
       "Sports                          19\n",
       "Fantasy                         18\n",
       "Faith and Spirituality          13\n",
       "LGBTQ                           13\n",
       " Talk Show and Variety          11\n",
       " Arthouse                        9\n",
       "Military and War                 5\n",
       "Young Adult Audience             3\n",
       "Talk Show and Variety            3\n",
       "Historical                       3\n",
       "dtype: int64"
      ]
     },
     "execution_count": 14,
     "metadata": {},
     "output_type": "execute_result"
    }
   ],
   "source": [
    "#showing listed in and  number of occurence\n",
    "data[\"listed_in\"].str.split(\",\",expand=True).stack().value_counts()"
   ]
  },
  {
   "cell_type": "code",
   "execution_count": 15,
   "id": "290ed0d9",
   "metadata": {},
   "outputs": [
    {
     "name": "stdout",
     "output_type": "stream",
     "text": [
      "<class 'pandas.core.frame.DataFrame'>\n",
      "Int64Index: 9668 entries, 0 to 9667\n",
      "Data columns (total 15 columns):\n",
      " #   Column        Non-Null Count  Dtype         \n",
      "---  ------        --------------  -----         \n",
      " 0   show_id       9668 non-null   object        \n",
      " 1   type          9668 non-null   object        \n",
      " 2   title         9668 non-null   object        \n",
      " 3   director      7586 non-null   object        \n",
      " 4   cast          8435 non-null   object        \n",
      " 5   country       672 non-null    object        \n",
      " 6   date_added    155 non-null    datetime64[ns]\n",
      " 7   release_year  9668 non-null   int64         \n",
      " 8   rating        9331 non-null   object        \n",
      " 9   duration      9668 non-null   object        \n",
      " 10  listed_in     9668 non-null   object        \n",
      " 11  description   9668 non-null   object        \n",
      " 12  day_added     155 non-null    object        \n",
      " 13  month_added   155 non-null    object        \n",
      " 14  year_added    155 non-null    float64       \n",
      "dtypes: datetime64[ns](1), float64(1), int64(1), object(12)\n",
      "memory usage: 1.4+ MB\n"
     ]
    }
   ],
   "source": [
    "#converting year added to object datatype\n",
    "data[\"year_added\"] = pd.to_numeric(data[\"year_added\"])\n",
    "data.info()"
   ]
  },
  {
   "cell_type": "markdown",
   "id": "c80ebafd",
   "metadata": {},
   "source": [
    "## Statistics"
   ]
  },
  {
   "cell_type": "code",
   "execution_count": 16,
   "id": "5cdfe029",
   "metadata": {},
   "outputs": [
    {
     "name": "stderr",
     "output_type": "stream",
     "text": [
      "C:\\Users\\PC\\AppData\\Local\\Temp\\ipykernel_14248\\1712932313.py:1: FutureWarning: Treating datetime data as categorical rather than numeric in `.describe` is deprecated and will be removed in a future version of pandas. Specify `datetime_is_numeric=True` to silence this warning and adopt the future behavior now.\n",
      "  data.describe(exclude=\"number\").T\n"
     ]
    },
    {
     "data": {
      "text/html": [
       "<div>\n",
       "<style scoped>\n",
       "    .dataframe tbody tr th:only-of-type {\n",
       "        vertical-align: middle;\n",
       "    }\n",
       "\n",
       "    .dataframe tbody tr th {\n",
       "        vertical-align: top;\n",
       "    }\n",
       "\n",
       "    .dataframe thead th {\n",
       "        text-align: right;\n",
       "    }\n",
       "</style>\n",
       "<table border=\"1\" class=\"dataframe\">\n",
       "  <thead>\n",
       "    <tr style=\"text-align: right;\">\n",
       "      <th></th>\n",
       "      <th>count</th>\n",
       "      <th>unique</th>\n",
       "      <th>top</th>\n",
       "      <th>freq</th>\n",
       "      <th>first</th>\n",
       "      <th>last</th>\n",
       "    </tr>\n",
       "  </thead>\n",
       "  <tbody>\n",
       "    <tr>\n",
       "      <th>show_id</th>\n",
       "      <td>9668</td>\n",
       "      <td>9668</td>\n",
       "      <td>s1</td>\n",
       "      <td>1</td>\n",
       "      <td>NaT</td>\n",
       "      <td>NaT</td>\n",
       "    </tr>\n",
       "    <tr>\n",
       "      <th>type</th>\n",
       "      <td>9668</td>\n",
       "      <td>2</td>\n",
       "      <td>Movie</td>\n",
       "      <td>7814</td>\n",
       "      <td>NaT</td>\n",
       "      <td>NaT</td>\n",
       "    </tr>\n",
       "    <tr>\n",
       "      <th>title</th>\n",
       "      <td>9668</td>\n",
       "      <td>9668</td>\n",
       "      <td>The Grand Seduction</td>\n",
       "      <td>1</td>\n",
       "      <td>NaT</td>\n",
       "      <td>NaT</td>\n",
       "    </tr>\n",
       "    <tr>\n",
       "      <th>director</th>\n",
       "      <td>7586</td>\n",
       "      <td>5774</td>\n",
       "      <td>Mark Knight</td>\n",
       "      <td>113</td>\n",
       "      <td>NaT</td>\n",
       "      <td>NaT</td>\n",
       "    </tr>\n",
       "    <tr>\n",
       "      <th>cast</th>\n",
       "      <td>8435</td>\n",
       "      <td>7927</td>\n",
       "      <td>Maggie Binkley</td>\n",
       "      <td>56</td>\n",
       "      <td>NaT</td>\n",
       "      <td>NaT</td>\n",
       "    </tr>\n",
       "    <tr>\n",
       "      <th>country</th>\n",
       "      <td>672</td>\n",
       "      <td>86</td>\n",
       "      <td>United States</td>\n",
       "      <td>253</td>\n",
       "      <td>NaT</td>\n",
       "      <td>NaT</td>\n",
       "    </tr>\n",
       "    <tr>\n",
       "      <th>date_added</th>\n",
       "      <td>155</td>\n",
       "      <td>84</td>\n",
       "      <td>2021-03-30 00:00:00</td>\n",
       "      <td>14</td>\n",
       "      <td>2021-03-30</td>\n",
       "      <td>2021-10-10</td>\n",
       "    </tr>\n",
       "    <tr>\n",
       "      <th>rating</th>\n",
       "      <td>9331</td>\n",
       "      <td>24</td>\n",
       "      <td>13+</td>\n",
       "      <td>2117</td>\n",
       "      <td>NaT</td>\n",
       "      <td>NaT</td>\n",
       "    </tr>\n",
       "    <tr>\n",
       "      <th>duration</th>\n",
       "      <td>9668</td>\n",
       "      <td>219</td>\n",
       "      <td>1 Season</td>\n",
       "      <td>1342</td>\n",
       "      <td>NaT</td>\n",
       "      <td>NaT</td>\n",
       "    </tr>\n",
       "    <tr>\n",
       "      <th>listed_in</th>\n",
       "      <td>9668</td>\n",
       "      <td>518</td>\n",
       "      <td>Drama</td>\n",
       "      <td>986</td>\n",
       "      <td>NaT</td>\n",
       "      <td>NaT</td>\n",
       "    </tr>\n",
       "    <tr>\n",
       "      <th>description</th>\n",
       "      <td>9668</td>\n",
       "      <td>9414</td>\n",
       "      <td>Arpo was designed as a commando robot, built a...</td>\n",
       "      <td>15</td>\n",
       "      <td>NaT</td>\n",
       "      <td>NaT</td>\n",
       "    </tr>\n",
       "    <tr>\n",
       "      <th>day_added</th>\n",
       "      <td>155</td>\n",
       "      <td>7</td>\n",
       "      <td>Tuesday</td>\n",
       "      <td>30</td>\n",
       "      <td>NaT</td>\n",
       "      <td>NaT</td>\n",
       "    </tr>\n",
       "    <tr>\n",
       "      <th>month_added</th>\n",
       "      <td>155</td>\n",
       "      <td>8</td>\n",
       "      <td>September</td>\n",
       "      <td>29</td>\n",
       "      <td>NaT</td>\n",
       "      <td>NaT</td>\n",
       "    </tr>\n",
       "  </tbody>\n",
       "</table>\n",
       "</div>"
      ],
      "text/plain": [
       "            count unique                                                top  \\\n",
       "show_id      9668   9668                                                 s1   \n",
       "type         9668      2                                              Movie   \n",
       "title        9668   9668                                The Grand Seduction   \n",
       "director     7586   5774                                        Mark Knight   \n",
       "cast         8435   7927                                     Maggie Binkley   \n",
       "country       672     86                                      United States   \n",
       "date_added    155     84                                2021-03-30 00:00:00   \n",
       "rating       9331     24                                                13+   \n",
       "duration     9668    219                                           1 Season   \n",
       "listed_in    9668    518                                              Drama   \n",
       "description  9668   9414  Arpo was designed as a commando robot, built a...   \n",
       "day_added     155      7                                            Tuesday   \n",
       "month_added   155      8                                          September   \n",
       "\n",
       "             freq      first       last  \n",
       "show_id         1        NaT        NaT  \n",
       "type         7814        NaT        NaT  \n",
       "title           1        NaT        NaT  \n",
       "director      113        NaT        NaT  \n",
       "cast           56        NaT        NaT  \n",
       "country       253        NaT        NaT  \n",
       "date_added     14 2021-03-30 2021-10-10  \n",
       "rating       2117        NaT        NaT  \n",
       "duration     1342        NaT        NaT  \n",
       "listed_in     986        NaT        NaT  \n",
       "description    15        NaT        NaT  \n",
       "day_added      30        NaT        NaT  \n",
       "month_added    29        NaT        NaT  "
      ]
     },
     "execution_count": 16,
     "metadata": {},
     "output_type": "execute_result"
    }
   ],
   "source": [
    "data.describe(exclude=\"number\").T"
   ]
  },
  {
   "cell_type": "code",
   "execution_count": 17,
   "id": "61f89d7c",
   "metadata": {},
   "outputs": [
    {
     "data": {
      "text/html": [
       "<div>\n",
       "<style scoped>\n",
       "    .dataframe tbody tr th:only-of-type {\n",
       "        vertical-align: middle;\n",
       "    }\n",
       "\n",
       "    .dataframe tbody tr th {\n",
       "        vertical-align: top;\n",
       "    }\n",
       "\n",
       "    .dataframe thead th {\n",
       "        text-align: right;\n",
       "    }\n",
       "</style>\n",
       "<table border=\"1\" class=\"dataframe\">\n",
       "  <thead>\n",
       "    <tr style=\"text-align: right;\">\n",
       "      <th></th>\n",
       "      <th>count</th>\n",
       "    </tr>\n",
       "    <tr>\n",
       "      <th>type</th>\n",
       "      <th></th>\n",
       "    </tr>\n",
       "  </thead>\n",
       "  <tbody>\n",
       "    <tr>\n",
       "      <th>Movie</th>\n",
       "      <td>7814</td>\n",
       "    </tr>\n",
       "    <tr>\n",
       "      <th>TV Show</th>\n",
       "      <td>1854</td>\n",
       "    </tr>\n",
       "  </tbody>\n",
       "</table>\n",
       "</div>"
      ],
      "text/plain": [
       "         count\n",
       "type          \n",
       "Movie     7814\n",
       "TV Show   1854"
      ]
     },
     "execution_count": 17,
     "metadata": {},
     "output_type": "execute_result"
    }
   ],
   "source": [
    "types = data.groupby([\"type\"])[\"type\"].count().reset_index(name=\"count\")\n",
    "types = types.set_index(\"type\")\n",
    "types"
   ]
  },
  {
   "cell_type": "code",
   "execution_count": 18,
   "id": "e7b9bf70",
   "metadata": {},
   "outputs": [
    {
     "data": {
      "text/html": [
       "<div>\n",
       "<style scoped>\n",
       "    .dataframe tbody tr th:only-of-type {\n",
       "        vertical-align: middle;\n",
       "    }\n",
       "\n",
       "    .dataframe tbody tr th {\n",
       "        vertical-align: top;\n",
       "    }\n",
       "\n",
       "    .dataframe thead th {\n",
       "        text-align: right;\n",
       "    }\n",
       "</style>\n",
       "<table border=\"1\" class=\"dataframe\">\n",
       "  <thead>\n",
       "    <tr style=\"text-align: right;\">\n",
       "      <th></th>\n",
       "      <th>type</th>\n",
       "      <th>count</th>\n",
       "    </tr>\n",
       "    <tr>\n",
       "      <th>director</th>\n",
       "      <th></th>\n",
       "      <th></th>\n",
       "    </tr>\n",
       "  </thead>\n",
       "  <tbody>\n",
       "    <tr>\n",
       "      <th>1</th>\n",
       "      <td>Movie</td>\n",
       "      <td>16</td>\n",
       "    </tr>\n",
       "    <tr>\n",
       "      <th>20th Century Fox</th>\n",
       "      <td>Movie</td>\n",
       "      <td>1</td>\n",
       "    </tr>\n",
       "    <tr>\n",
       "      <th>20th_century_fox</th>\n",
       "      <td>Movie</td>\n",
       "      <td>2</td>\n",
       "    </tr>\n",
       "    <tr>\n",
       "      <th>9 Story Entertainment</th>\n",
       "      <td>Movie</td>\n",
       "      <td>1</td>\n",
       "    </tr>\n",
       "    <tr>\n",
       "      <th>A Gokul Krishna</th>\n",
       "      <td>Movie</td>\n",
       "      <td>1</td>\n",
       "    </tr>\n",
       "    <tr>\n",
       "      <th>...</th>\n",
       "      <td>...</td>\n",
       "      <td>...</td>\n",
       "    </tr>\n",
       "    <tr>\n",
       "      <th>Ángel González</th>\n",
       "      <td>Movie</td>\n",
       "      <td>1</td>\n",
       "    </tr>\n",
       "    <tr>\n",
       "      <th>Émile Gaudreault</th>\n",
       "      <td>Movie</td>\n",
       "      <td>1</td>\n",
       "    </tr>\n",
       "    <tr>\n",
       "      <th>Étienne Chatiliez</th>\n",
       "      <td>Movie</td>\n",
       "      <td>1</td>\n",
       "    </tr>\n",
       "    <tr>\n",
       "      <th>Óskar Thór Axelsson</th>\n",
       "      <td>Movie</td>\n",
       "      <td>1</td>\n",
       "    </tr>\n",
       "    <tr>\n",
       "      <th>藤村明世</th>\n",
       "      <td>Movie</td>\n",
       "      <td>1</td>\n",
       "    </tr>\n",
       "  </tbody>\n",
       "</table>\n",
       "<p>5774 rows × 2 columns</p>\n",
       "</div>"
      ],
      "text/plain": [
       "                        type  count\n",
       "director                           \n",
       "1                      Movie     16\n",
       "20th Century Fox       Movie      1\n",
       "20th_century_fox       Movie      2\n",
       "9 Story Entertainment  Movie      1\n",
       "A Gokul Krishna        Movie      1\n",
       "...                      ...    ...\n",
       "Ángel González         Movie      1\n",
       "Émile Gaudreault       Movie      1\n",
       "Étienne Chatiliez      Movie      1\n",
       "Óskar Thór Axelsson    Movie      1\n",
       "藤村明世                   Movie      1\n",
       "\n",
       "[5774 rows x 2 columns]"
      ]
     },
     "execution_count": 18,
     "metadata": {},
     "output_type": "execute_result"
    }
   ],
   "source": [
    "show_directors = data.groupby([\"director\",\"type\"])[\"type\"].count().reset_index(name=\"count\")\n",
    "show_directors = show_directors.set_index(\"director\")\n",
    "show_directors"
   ]
  },
  {
   "cell_type": "code",
   "execution_count": 19,
   "id": "55b1c8cb",
   "metadata": {},
   "outputs": [
    {
     "data": {
      "text/html": [
       "<div>\n",
       "<style scoped>\n",
       "    .dataframe tbody tr th:only-of-type {\n",
       "        vertical-align: middle;\n",
       "    }\n",
       "\n",
       "    .dataframe tbody tr th {\n",
       "        vertical-align: top;\n",
       "    }\n",
       "\n",
       "    .dataframe thead th {\n",
       "        text-align: right;\n",
       "    }\n",
       "</style>\n",
       "<table border=\"1\" class=\"dataframe\">\n",
       "  <thead>\n",
       "    <tr style=\"text-align: right;\">\n",
       "      <th></th>\n",
       "      <th>type</th>\n",
       "      <th>count</th>\n",
       "    </tr>\n",
       "    <tr>\n",
       "      <th>director</th>\n",
       "      <th></th>\n",
       "      <th></th>\n",
       "    </tr>\n",
       "  </thead>\n",
       "  <tbody>\n",
       "    <tr>\n",
       "      <th>Mark Knight</th>\n",
       "      <td>Movie</td>\n",
       "      <td>113</td>\n",
       "    </tr>\n",
       "    <tr>\n",
       "      <th>Cannis Holder</th>\n",
       "      <td>Movie</td>\n",
       "      <td>61</td>\n",
       "    </tr>\n",
       "    <tr>\n",
       "      <th>Moonbug Entertainment</th>\n",
       "      <td>Movie</td>\n",
       "      <td>37</td>\n",
       "    </tr>\n",
       "    <tr>\n",
       "      <th>Jay Chapman</th>\n",
       "      <td>Movie</td>\n",
       "      <td>34</td>\n",
       "    </tr>\n",
       "    <tr>\n",
       "      <th>Arthur van Merwijk</th>\n",
       "      <td>Movie</td>\n",
       "      <td>30</td>\n",
       "    </tr>\n",
       "    <tr>\n",
       "      <th>Manny Rodriguez</th>\n",
       "      <td>Movie</td>\n",
       "      <td>22</td>\n",
       "    </tr>\n",
       "    <tr>\n",
       "      <th>John English</th>\n",
       "      <td>Movie</td>\n",
       "      <td>20</td>\n",
       "    </tr>\n",
       "    <tr>\n",
       "      <th>1</th>\n",
       "      <td>Movie</td>\n",
       "      <td>16</td>\n",
       "    </tr>\n",
       "    <tr>\n",
       "      <th>Brian Volk-Weiss</th>\n",
       "      <td>Movie</td>\n",
       "      <td>15</td>\n",
       "    </tr>\n",
       "    <tr>\n",
       "      <th>Baeble Music</th>\n",
       "      <td>Movie</td>\n",
       "      <td>14</td>\n",
       "    </tr>\n",
       "  </tbody>\n",
       "</table>\n",
       "</div>"
      ],
      "text/plain": [
       "                        type  count\n",
       "director                           \n",
       "Mark Knight            Movie    113\n",
       "Cannis Holder          Movie     61\n",
       "Moonbug Entertainment  Movie     37\n",
       "Jay Chapman            Movie     34\n",
       "Arthur van Merwijk     Movie     30\n",
       "Manny Rodriguez        Movie     22\n",
       "John English           Movie     20\n",
       "1                      Movie     16\n",
       "Brian Volk-Weiss       Movie     15\n",
       "Baeble Music           Movie     14"
      ]
     },
     "execution_count": 19,
     "metadata": {},
     "output_type": "execute_result"
    }
   ],
   "source": [
    "top10_directors = show_directors.query(\"`count`>13\")\n",
    "top10_directors = top10_directors.sort_values(\"count\",ascending=False)\n",
    "top10_directors"
   ]
  },
  {
   "cell_type": "code",
   "execution_count": 20,
   "id": "96e564f2",
   "metadata": {},
   "outputs": [
    {
     "data": {
      "text/html": [
       "<div>\n",
       "<style scoped>\n",
       "    .dataframe tbody tr th:only-of-type {\n",
       "        vertical-align: middle;\n",
       "    }\n",
       "\n",
       "    .dataframe tbody tr th {\n",
       "        vertical-align: top;\n",
       "    }\n",
       "\n",
       "    .dataframe thead th {\n",
       "        text-align: right;\n",
       "    }\n",
       "</style>\n",
       "<table border=\"1\" class=\"dataframe\">\n",
       "  <thead>\n",
       "    <tr style=\"text-align: right;\">\n",
       "      <th></th>\n",
       "      <th>type</th>\n",
       "      <th>count</th>\n",
       "    </tr>\n",
       "    <tr>\n",
       "      <th>country</th>\n",
       "      <th></th>\n",
       "      <th></th>\n",
       "    </tr>\n",
       "  </thead>\n",
       "  <tbody>\n",
       "    <tr>\n",
       "      <th>Afghanistan, France</th>\n",
       "      <td>Movie</td>\n",
       "      <td>1</td>\n",
       "    </tr>\n",
       "    <tr>\n",
       "      <th>Australia</th>\n",
       "      <td>Movie</td>\n",
       "      <td>4</td>\n",
       "    </tr>\n",
       "    <tr>\n",
       "      <th>Australia, Colombia, United Kingdom</th>\n",
       "      <td>Movie</td>\n",
       "      <td>1</td>\n",
       "    </tr>\n",
       "    <tr>\n",
       "      <th>Australia, United States, Germany</th>\n",
       "      <td>Movie</td>\n",
       "      <td>1</td>\n",
       "    </tr>\n",
       "    <tr>\n",
       "      <th>Austria</th>\n",
       "      <td>Movie</td>\n",
       "      <td>1</td>\n",
       "    </tr>\n",
       "    <tr>\n",
       "      <th>...</th>\n",
       "      <td>...</td>\n",
       "      <td>...</td>\n",
       "    </tr>\n",
       "    <tr>\n",
       "      <th>United States, United Arab Emirates</th>\n",
       "      <td>Movie</td>\n",
       "      <td>1</td>\n",
       "    </tr>\n",
       "    <tr>\n",
       "      <th>United States, United Kingdom</th>\n",
       "      <td>Movie</td>\n",
       "      <td>6</td>\n",
       "    </tr>\n",
       "    <tr>\n",
       "      <th>United States, United Kingdom, Canada</th>\n",
       "      <td>TV Show</td>\n",
       "      <td>1</td>\n",
       "    </tr>\n",
       "    <tr>\n",
       "      <th>United States, United Kingdom, Germany</th>\n",
       "      <td>Movie</td>\n",
       "      <td>1</td>\n",
       "    </tr>\n",
       "    <tr>\n",
       "      <th>United States, United Kingdom, Kazakhstan</th>\n",
       "      <td>Movie</td>\n",
       "      <td>1</td>\n",
       "    </tr>\n",
       "  </tbody>\n",
       "</table>\n",
       "<p>95 rows × 2 columns</p>\n",
       "</div>"
      ],
      "text/plain": [
       "                                              type  count\n",
       "country                                                  \n",
       "Afghanistan, France                          Movie      1\n",
       "Australia                                    Movie      4\n",
       "Australia, Colombia, United Kingdom          Movie      1\n",
       "Australia, United States, Germany            Movie      1\n",
       "Austria                                      Movie      1\n",
       "...                                            ...    ...\n",
       "United States, United Arab Emirates          Movie      1\n",
       "United States, United Kingdom                Movie      6\n",
       "United States, United Kingdom, Canada      TV Show      1\n",
       "United States, United Kingdom, Germany       Movie      1\n",
       "United States, United Kingdom, Kazakhstan    Movie      1\n",
       "\n",
       "[95 rows x 2 columns]"
      ]
     },
     "execution_count": 20,
     "metadata": {},
     "output_type": "execute_result"
    }
   ],
   "source": [
    "show_country = data.groupby([\"country\",\"type\"])[\"type\"].count().reset_index(name=\"count\")\n",
    "show_country = show_country.set_index(\"country\")\n",
    "show_country"
   ]
  },
  {
   "cell_type": "code",
   "execution_count": 21,
   "id": "66d762fd",
   "metadata": {},
   "outputs": [
    {
     "data": {
      "text/html": [
       "<div>\n",
       "<style scoped>\n",
       "    .dataframe tbody tr th:only-of-type {\n",
       "        vertical-align: middle;\n",
       "    }\n",
       "\n",
       "    .dataframe tbody tr th {\n",
       "        vertical-align: top;\n",
       "    }\n",
       "\n",
       "    .dataframe thead th {\n",
       "        text-align: right;\n",
       "    }\n",
       "</style>\n",
       "<table border=\"1\" class=\"dataframe\">\n",
       "  <thead>\n",
       "    <tr style=\"text-align: right;\">\n",
       "      <th></th>\n",
       "      <th>type</th>\n",
       "      <th>count</th>\n",
       "    </tr>\n",
       "    <tr>\n",
       "      <th>country</th>\n",
       "      <th></th>\n",
       "      <th></th>\n",
       "    </tr>\n",
       "  </thead>\n",
       "  <tbody>\n",
       "    <tr>\n",
       "      <th>Canada</th>\n",
       "      <td>Movie</td>\n",
       "      <td>16</td>\n",
       "    </tr>\n",
       "    <tr>\n",
       "      <th>India</th>\n",
       "      <td>Movie</td>\n",
       "      <td>213</td>\n",
       "    </tr>\n",
       "    <tr>\n",
       "      <th>India</th>\n",
       "      <td>TV Show</td>\n",
       "      <td>16</td>\n",
       "    </tr>\n",
       "    <tr>\n",
       "      <th>Italy</th>\n",
       "      <td>Movie</td>\n",
       "      <td>6</td>\n",
       "    </tr>\n",
       "    <tr>\n",
       "      <th>United Kingdom</th>\n",
       "      <td>Movie</td>\n",
       "      <td>24</td>\n",
       "    </tr>\n",
       "    <tr>\n",
       "      <th>United Kingdom, United States</th>\n",
       "      <td>Movie</td>\n",
       "      <td>9</td>\n",
       "    </tr>\n",
       "    <tr>\n",
       "      <th>United States</th>\n",
       "      <td>Movie</td>\n",
       "      <td>194</td>\n",
       "    </tr>\n",
       "    <tr>\n",
       "      <th>United States</th>\n",
       "      <td>TV Show</td>\n",
       "      <td>59</td>\n",
       "    </tr>\n",
       "    <tr>\n",
       "      <th>United States, United Kingdom</th>\n",
       "      <td>Movie</td>\n",
       "      <td>6</td>\n",
       "    </tr>\n",
       "  </tbody>\n",
       "</table>\n",
       "</div>"
      ],
      "text/plain": [
       "                                  type  count\n",
       "country                                      \n",
       "Canada                           Movie     16\n",
       "India                            Movie    213\n",
       "India                          TV Show     16\n",
       "Italy                            Movie      6\n",
       "United Kingdom                   Movie     24\n",
       "United Kingdom, United States    Movie      9\n",
       "United States                    Movie    194\n",
       "United States                  TV Show     59\n",
       "United States, United Kingdom    Movie      6"
      ]
     },
     "execution_count": 21,
     "metadata": {},
     "output_type": "execute_result"
    }
   ],
   "source": [
    "#countries with more than 5 apperences\n",
    "top_country = show_country.query(\"`count`>5\")\n",
    "top_country "
   ]
  },
  {
   "cell_type": "code",
   "execution_count": 22,
   "id": "cc611b04",
   "metadata": {},
   "outputs": [
    {
     "data": {
      "text/html": [
       "<div>\n",
       "<style scoped>\n",
       "    .dataframe tbody tr th:only-of-type {\n",
       "        vertical-align: middle;\n",
       "    }\n",
       "\n",
       "    .dataframe tbody tr th {\n",
       "        vertical-align: top;\n",
       "    }\n",
       "\n",
       "    .dataframe thead th {\n",
       "        text-align: right;\n",
       "    }\n",
       "</style>\n",
       "<table border=\"1\" class=\"dataframe\">\n",
       "  <thead>\n",
       "    <tr style=\"text-align: right;\">\n",
       "      <th></th>\n",
       "      <th>type</th>\n",
       "      <th>count</th>\n",
       "    </tr>\n",
       "    <tr>\n",
       "      <th>rating</th>\n",
       "      <th></th>\n",
       "      <th></th>\n",
       "    </tr>\n",
       "  </thead>\n",
       "  <tbody>\n",
       "    <tr>\n",
       "      <th>13+</th>\n",
       "      <td>Movie</td>\n",
       "      <td>1849</td>\n",
       "    </tr>\n",
       "    <tr>\n",
       "      <th>16+</th>\n",
       "      <td>Movie</td>\n",
       "      <td>1272</td>\n",
       "    </tr>\n",
       "    <tr>\n",
       "      <th>18+</th>\n",
       "      <td>Movie</td>\n",
       "      <td>1097</td>\n",
       "    </tr>\n",
       "    <tr>\n",
       "      <th>R</th>\n",
       "      <td>Movie</td>\n",
       "      <td>1010</td>\n",
       "    </tr>\n",
       "    <tr>\n",
       "      <th>ALL</th>\n",
       "      <td>Movie</td>\n",
       "      <td>988</td>\n",
       "    </tr>\n",
       "    <tr>\n",
       "      <th>PG-13</th>\n",
       "      <td>Movie</td>\n",
       "      <td>393</td>\n",
       "    </tr>\n",
       "    <tr>\n",
       "      <th>7+</th>\n",
       "      <td>Movie</td>\n",
       "      <td>288</td>\n",
       "    </tr>\n",
       "    <tr>\n",
       "      <th>ALL</th>\n",
       "      <td>TV Show</td>\n",
       "      <td>280</td>\n",
       "    </tr>\n",
       "    <tr>\n",
       "      <th>16+</th>\n",
       "      <td>TV Show</td>\n",
       "      <td>275</td>\n",
       "    </tr>\n",
       "    <tr>\n",
       "      <th>13+</th>\n",
       "      <td>TV Show</td>\n",
       "      <td>268</td>\n",
       "    </tr>\n",
       "    <tr>\n",
       "      <th>PG</th>\n",
       "      <td>Movie</td>\n",
       "      <td>253</td>\n",
       "    </tr>\n",
       "    <tr>\n",
       "      <th>TV-14</th>\n",
       "      <td>TV Show</td>\n",
       "      <td>208</td>\n",
       "    </tr>\n",
       "    <tr>\n",
       "      <th>NR</th>\n",
       "      <td>Movie</td>\n",
       "      <td>194</td>\n",
       "    </tr>\n",
       "    <tr>\n",
       "      <th>TV-PG</th>\n",
       "      <td>TV Show</td>\n",
       "      <td>169</td>\n",
       "    </tr>\n",
       "    <tr>\n",
       "      <th>18+</th>\n",
       "      <td>TV Show</td>\n",
       "      <td>146</td>\n",
       "    </tr>\n",
       "    <tr>\n",
       "      <th>TV-NR</th>\n",
       "      <td>TV Show</td>\n",
       "      <td>105</td>\n",
       "    </tr>\n",
       "    <tr>\n",
       "      <th>7+</th>\n",
       "      <td>TV Show</td>\n",
       "      <td>97</td>\n",
       "    </tr>\n",
       "    <tr>\n",
       "      <th>G</th>\n",
       "      <td>Movie</td>\n",
       "      <td>93</td>\n",
       "    </tr>\n",
       "    <tr>\n",
       "      <th>TV-G</th>\n",
       "      <td>TV Show</td>\n",
       "      <td>81</td>\n",
       "    </tr>\n",
       "    <tr>\n",
       "      <th>TV-MA</th>\n",
       "      <td>TV Show</td>\n",
       "      <td>77</td>\n",
       "    </tr>\n",
       "    <tr>\n",
       "      <th>TV-Y</th>\n",
       "      <td>TV Show</td>\n",
       "      <td>74</td>\n",
       "    </tr>\n",
       "    <tr>\n",
       "      <th>TV-Y7</th>\n",
       "      <td>TV Show</td>\n",
       "      <td>39</td>\n",
       "    </tr>\n",
       "    <tr>\n",
       "      <th>UNRATED</th>\n",
       "      <td>Movie</td>\n",
       "      <td>33</td>\n",
       "    </tr>\n",
       "    <tr>\n",
       "      <th>NR</th>\n",
       "      <td>TV Show</td>\n",
       "      <td>29</td>\n",
       "    </tr>\n",
       "    <tr>\n",
       "      <th>NOT_RATE</th>\n",
       "      <td>Movie</td>\n",
       "      <td>3</td>\n",
       "    </tr>\n",
       "    <tr>\n",
       "      <th>AGES_18_</th>\n",
       "      <td>Movie</td>\n",
       "      <td>3</td>\n",
       "    </tr>\n",
       "    <tr>\n",
       "      <th>NC-17</th>\n",
       "      <td>Movie</td>\n",
       "      <td>3</td>\n",
       "    </tr>\n",
       "    <tr>\n",
       "      <th>AGES_16_</th>\n",
       "      <td>Movie</td>\n",
       "      <td>2</td>\n",
       "    </tr>\n",
       "    <tr>\n",
       "      <th>ALL_AGES</th>\n",
       "      <td>Movie</td>\n",
       "      <td>1</td>\n",
       "    </tr>\n",
       "    <tr>\n",
       "      <th>16</th>\n",
       "      <td>Movie</td>\n",
       "      <td>1</td>\n",
       "    </tr>\n",
       "  </tbody>\n",
       "</table>\n",
       "</div>"
      ],
      "text/plain": [
       "             type  count\n",
       "rating                  \n",
       "13+         Movie   1849\n",
       "16+         Movie   1272\n",
       "18+         Movie   1097\n",
       "R           Movie   1010\n",
       "ALL         Movie    988\n",
       "PG-13       Movie    393\n",
       "7+          Movie    288\n",
       "ALL       TV Show    280\n",
       "16+       TV Show    275\n",
       "13+       TV Show    268\n",
       "PG          Movie    253\n",
       "TV-14     TV Show    208\n",
       "NR          Movie    194\n",
       "TV-PG     TV Show    169\n",
       "18+       TV Show    146\n",
       "TV-NR     TV Show    105\n",
       "7+        TV Show     97\n",
       "G           Movie     93\n",
       "TV-G      TV Show     81\n",
       "TV-MA     TV Show     77\n",
       "TV-Y      TV Show     74\n",
       "TV-Y7     TV Show     39\n",
       "UNRATED     Movie     33\n",
       "NR        TV Show     29\n",
       "NOT_RATE    Movie      3\n",
       "AGES_18_    Movie      3\n",
       "NC-17       Movie      3\n",
       "AGES_16_    Movie      2\n",
       "ALL_AGES    Movie      1\n",
       "16          Movie      1"
      ]
     },
     "execution_count": 22,
     "metadata": {},
     "output_type": "execute_result"
    }
   ],
   "source": [
    "show_rating = data.groupby([\"rating\",\"type\"])[\"rating\"].count().reset_index(name=\"count\")\n",
    "show_rating = show_rating.set_index(\"rating\")\n",
    "show_rating = show_rating.sort_values(\"count\",ascending=False)\n",
    "show_rating"
   ]
  },
  {
   "cell_type": "code",
   "execution_count": 23,
   "id": "e440c2d1",
   "metadata": {},
   "outputs": [
    {
     "data": {
      "text/html": [
       "<div>\n",
       "<style scoped>\n",
       "    .dataframe tbody tr th:only-of-type {\n",
       "        vertical-align: middle;\n",
       "    }\n",
       "\n",
       "    .dataframe tbody tr th {\n",
       "        vertical-align: top;\n",
       "    }\n",
       "\n",
       "    .dataframe thead th {\n",
       "        text-align: right;\n",
       "    }\n",
       "</style>\n",
       "<table border=\"1\" class=\"dataframe\">\n",
       "  <thead>\n",
       "    <tr style=\"text-align: right;\">\n",
       "      <th></th>\n",
       "      <th>type</th>\n",
       "      <th>rating</th>\n",
       "      <th>count</th>\n",
       "    </tr>\n",
       "    <tr>\n",
       "      <th>day_added</th>\n",
       "      <th></th>\n",
       "      <th></th>\n",
       "      <th></th>\n",
       "    </tr>\n",
       "  </thead>\n",
       "  <tbody>\n",
       "    <tr>\n",
       "      <th>Sunday</th>\n",
       "      <td>TV Show</td>\n",
       "      <td>ALL</td>\n",
       "      <td>8</td>\n",
       "    </tr>\n",
       "    <tr>\n",
       "      <th>Tuesday</th>\n",
       "      <td>TV Show</td>\n",
       "      <td>ALL</td>\n",
       "      <td>7</td>\n",
       "    </tr>\n",
       "    <tr>\n",
       "      <th>Saturday</th>\n",
       "      <td>TV Show</td>\n",
       "      <td>TV-G</td>\n",
       "      <td>7</td>\n",
       "    </tr>\n",
       "    <tr>\n",
       "      <th>Saturday</th>\n",
       "      <td>TV Show</td>\n",
       "      <td>ALL</td>\n",
       "      <td>6</td>\n",
       "    </tr>\n",
       "    <tr>\n",
       "      <th>Friday</th>\n",
       "      <td>TV Show</td>\n",
       "      <td>7+</td>\n",
       "      <td>5</td>\n",
       "    </tr>\n",
       "    <tr>\n",
       "      <th>...</th>\n",
       "      <td>...</td>\n",
       "      <td>...</td>\n",
       "      <td>...</td>\n",
       "    </tr>\n",
       "    <tr>\n",
       "      <th>Thursday</th>\n",
       "      <td>TV Show</td>\n",
       "      <td>NR</td>\n",
       "      <td>1</td>\n",
       "    </tr>\n",
       "    <tr>\n",
       "      <th>Thursday</th>\n",
       "      <td>TV Show</td>\n",
       "      <td>TV-G</td>\n",
       "      <td>1</td>\n",
       "    </tr>\n",
       "    <tr>\n",
       "      <th>Thursday</th>\n",
       "      <td>TV Show</td>\n",
       "      <td>TV-MA</td>\n",
       "      <td>1</td>\n",
       "    </tr>\n",
       "    <tr>\n",
       "      <th>Thursday</th>\n",
       "      <td>TV Show</td>\n",
       "      <td>TV-Y</td>\n",
       "      <td>1</td>\n",
       "    </tr>\n",
       "    <tr>\n",
       "      <th>Wednesday</th>\n",
       "      <td>TV Show</td>\n",
       "      <td>TV-Y</td>\n",
       "      <td>1</td>\n",
       "    </tr>\n",
       "  </tbody>\n",
       "</table>\n",
       "<p>62 rows × 3 columns</p>\n",
       "</div>"
      ],
      "text/plain": [
       "              type rating  count\n",
       "day_added                       \n",
       "Sunday     TV Show    ALL      8\n",
       "Tuesday    TV Show    ALL      7\n",
       "Saturday   TV Show   TV-G      7\n",
       "Saturday   TV Show    ALL      6\n",
       "Friday     TV Show     7+      5\n",
       "...            ...    ...    ...\n",
       "Thursday   TV Show     NR      1\n",
       "Thursday   TV Show   TV-G      1\n",
       "Thursday   TV Show  TV-MA      1\n",
       "Thursday   TV Show   TV-Y      1\n",
       "Wednesday  TV Show   TV-Y      1\n",
       "\n",
       "[62 rows x 3 columns]"
      ]
     },
     "execution_count": 23,
     "metadata": {},
     "output_type": "execute_result"
    }
   ],
   "source": [
    "release_day = data.groupby([\"day_added\",\"type\",\"rating\"])[\"rating\"].count().reset_index(name=\"count\")\n",
    "release_day = release_day.set_index(\"day_added\")\n",
    "release_day = release_day.sort_values(\"count\",ascending=False)\n",
    "release_day"
   ]
  },
  {
   "cell_type": "code",
   "execution_count": 24,
   "id": "7fe5c807",
   "metadata": {},
   "outputs": [
    {
     "data": {
      "text/html": [
       "<div>\n",
       "<style scoped>\n",
       "    .dataframe tbody tr th:only-of-type {\n",
       "        vertical-align: middle;\n",
       "    }\n",
       "\n",
       "    .dataframe tbody tr th {\n",
       "        vertical-align: top;\n",
       "    }\n",
       "\n",
       "    .dataframe thead th {\n",
       "        text-align: right;\n",
       "    }\n",
       "</style>\n",
       "<table border=\"1\" class=\"dataframe\">\n",
       "  <thead>\n",
       "    <tr style=\"text-align: right;\">\n",
       "      <th></th>\n",
       "      <th>type</th>\n",
       "      <th>rating</th>\n",
       "      <th>count</th>\n",
       "    </tr>\n",
       "    <tr>\n",
       "      <th>month_added</th>\n",
       "      <th></th>\n",
       "      <th></th>\n",
       "      <th></th>\n",
       "    </tr>\n",
       "  </thead>\n",
       "  <tbody>\n",
       "    <tr>\n",
       "      <th>September</th>\n",
       "      <td>TV Show</td>\n",
       "      <td>ALL</td>\n",
       "      <td>11</td>\n",
       "    </tr>\n",
       "    <tr>\n",
       "      <th>October</th>\n",
       "      <td>TV Show</td>\n",
       "      <td>ALL</td>\n",
       "      <td>5</td>\n",
       "    </tr>\n",
       "    <tr>\n",
       "      <th>June</th>\n",
       "      <td>TV Show</td>\n",
       "      <td>16+</td>\n",
       "      <td>5</td>\n",
       "    </tr>\n",
       "    <tr>\n",
       "      <th>May</th>\n",
       "      <td>TV Show</td>\n",
       "      <td>ALL</td>\n",
       "      <td>5</td>\n",
       "    </tr>\n",
       "    <tr>\n",
       "      <th>September</th>\n",
       "      <td>TV Show</td>\n",
       "      <td>TV-Y</td>\n",
       "      <td>4</td>\n",
       "    </tr>\n",
       "    <tr>\n",
       "      <th>...</th>\n",
       "      <td>...</td>\n",
       "      <td>...</td>\n",
       "      <td>...</td>\n",
       "    </tr>\n",
       "    <tr>\n",
       "      <th>March</th>\n",
       "      <td>TV Show</td>\n",
       "      <td>TV-G</td>\n",
       "      <td>1</td>\n",
       "    </tr>\n",
       "    <tr>\n",
       "      <th>March</th>\n",
       "      <td>TV Show</td>\n",
       "      <td>ALL</td>\n",
       "      <td>1</td>\n",
       "    </tr>\n",
       "    <tr>\n",
       "      <th>March</th>\n",
       "      <td>Movie</td>\n",
       "      <td>13+</td>\n",
       "      <td>1</td>\n",
       "    </tr>\n",
       "    <tr>\n",
       "      <th>August</th>\n",
       "      <td>TV Show</td>\n",
       "      <td>NR</td>\n",
       "      <td>1</td>\n",
       "    </tr>\n",
       "    <tr>\n",
       "      <th>August</th>\n",
       "      <td>TV Show</td>\n",
       "      <td>13+</td>\n",
       "      <td>1</td>\n",
       "    </tr>\n",
       "  </tbody>\n",
       "</table>\n",
       "<p>65 rows × 3 columns</p>\n",
       "</div>"
      ],
      "text/plain": [
       "                type rating  count\n",
       "month_added                       \n",
       "September    TV Show    ALL     11\n",
       "October      TV Show    ALL      5\n",
       "June         TV Show    16+      5\n",
       "May          TV Show    ALL      5\n",
       "September    TV Show   TV-Y      4\n",
       "...              ...    ...    ...\n",
       "March        TV Show   TV-G      1\n",
       "March        TV Show    ALL      1\n",
       "March          Movie    13+      1\n",
       "August       TV Show     NR      1\n",
       "August       TV Show    13+      1\n",
       "\n",
       "[65 rows x 3 columns]"
      ]
     },
     "execution_count": 24,
     "metadata": {},
     "output_type": "execute_result"
    }
   ],
   "source": [
    "release_month = data.groupby([\"month_added\",\"type\",\"rating\"])[\"type\"].count().reset_index(name=\"count\")\n",
    "release_month = release_month.set_index(\"month_added\")\n",
    "release_month = release_month.sort_values(\"count\",ascending=False)\n",
    "release_month"
   ]
  },
  {
   "cell_type": "markdown",
   "id": "60e935fd",
   "metadata": {},
   "source": [
    "## Visualization"
   ]
  },
  {
   "cell_type": "code",
   "execution_count": 25,
   "id": "955de8d4",
   "metadata": {},
   "outputs": [
    {
     "data": {
      "text/plain": [
       "<AxesSubplot:xlabel='type', ylabel='count'>"
      ]
     },
     "execution_count": 25,
     "metadata": {},
     "output_type": "execute_result"
    },
    {
     "data": {
      "image/png": "[encoded data removed]",
      "text/plain": [
       "<Figure size 720x432 with 1 Axes>"
      ]
     },
     "metadata": {
      "needs_background": "light"
     },
     "output_type": "display_data"
    }
   ],
   "source": [
    "plt.figure(figsize=(10,6))\n",
    "sns.countplot(x= data[\"type\"])"
   ]
  },
  {
   "cell_type": "markdown",
   "id": "1706014a",
   "metadata": {},
   "source": [
    "Movies accounted for upto 90%of the total listed,while TV shows were about 10%"
   ]
  },
  {
   "cell_type": "code",
   "execution_count": 26,
   "id": "96f15d41",
   "metadata": {},
   "outputs": [
    {
     "data": {
      "text/plain": [
       "(array([ 0,  1,  2,  3,  4,  5,  6,  7,  8,  9, 10, 11, 12, 13, 14, 15, 16,\n",
       "        17, 18, 19, 20, 21, 22, 23]),\n",
       " [Text(0, 0, '13+'),\n",
       "  Text(1, 0, 'ALL'),\n",
       "  Text(2, 0, '18+'),\n",
       "  Text(3, 0, 'R'),\n",
       "  Text(4, 0, 'TV-Y'),\n",
       "  Text(5, 0, 'TV-Y7'),\n",
       "  Text(6, 0, 'NR'),\n",
       "  Text(7, 0, '16+'),\n",
       "  Text(8, 0, 'TV-PG'),\n",
       "  Text(9, 0, '7+'),\n",
       "  Text(10, 0, 'TV-14'),\n",
       "  Text(11, 0, 'TV-NR'),\n",
       "  Text(12, 0, 'TV-G'),\n",
       "  Text(13, 0, 'PG-13'),\n",
       "  Text(14, 0, 'TV-MA'),\n",
       "  Text(15, 0, 'G'),\n",
       "  Text(16, 0, 'PG'),\n",
       "  Text(17, 0, 'NC-17'),\n",
       "  Text(18, 0, 'UNRATED'),\n",
       "  Text(19, 0, '16'),\n",
       "  Text(20, 0, 'AGES_16_'),\n",
       "  Text(21, 0, 'AGES_18_'),\n",
       "  Text(22, 0, 'ALL_AGES'),\n",
       "  Text(23, 0, 'NOT_RATE')])"
      ]
     },
     "execution_count": 26,
     "metadata": {},
     "output_type": "execute_result"
    },
    {
     "data": {
      "image/png": "[encoded data removed]",
      "text/plain": [
       "<Figure size 720x720 with 1 Axes>"
      ]
     },
     "metadata": {
      "needs_background": "light"
     },
     "output_type": "display_data"
    }
   ],
   "source": [
    "plt.figure(figsize =(10,10))\n",
    "sns.countplot(x= data[\"rating\"])\n",
    "plt.xticks(rotation=90)"
   ]
  },
  {
   "cell_type": "markdown",
   "id": "137cbd41",
   "metadata": {},
   "source": [
    "Top movie rating were 13+,16+,and ALL while Ages-16,18,and not rated were the least"
   ]
  },
  {
   "cell_type": "code",
   "execution_count": 27,
   "id": "1b26c5d3",
   "metadata": {},
   "outputs": [
    {
     "data": {
      "text/plain": [
       "<AxesSubplot:xlabel='day_added', ylabel='count'>"
      ]
     },
     "execution_count": 27,
     "metadata": {},
     "output_type": "execute_result"
    },
    {
     "data": {
      "image/png": "[encoded data removed]",
      "text/plain": [
       "<Figure size 720x432 with 1 Axes>"
      ]
     },
     "metadata": {
      "needs_background": "light"
     },
     "output_type": "display_data"
    }
   ],
   "source": [
    "plt.figure(figsize=(10,6))\n",
    "sns.countplot(x=data[\"day_added\"])"
   ]
  },
  {
   "cell_type": "markdown",
   "id": "6c0278cd",
   "metadata": {},
   "source": [
    "Alot of the movies,were added on Tuesday, followed by saturday and friday while few movies were added on Monday"
   ]
  },
  {
   "cell_type": "code",
   "execution_count": 28,
   "id": "36863a45",
   "metadata": {},
   "outputs": [
    {
     "data": {
      "text/plain": [
       "<AxesSubplot:xlabel='month_added', ylabel='count'>"
      ]
     },
     "execution_count": 28,
     "metadata": {},
     "output_type": "execute_result"
    },
    {
     "data": {
      "image/png": "[encoded data removed]",
      "text/plain": [
       "<Figure size 720x432 with 1 Axes>"
      ]
     },
     "metadata": {
      "needs_background": "light"
     },
     "output_type": "display_data"
    }
   ],
   "source": [
    "plt.figure(figsize=(10,6))\n",
    "sns.countplot(x=data[\"month_added\"])"
   ]
  },
  {
   "cell_type": "markdown",
   "id": "fb6a3ed1",
   "metadata": {},
   "source": [
    "Most movies were added on september,followed by June and August while may had the least movies added"
   ]
  },
  {
   "cell_type": "code",
   "execution_count": 29,
   "id": "f6f48a05",
   "metadata": {},
   "outputs": [
    {
     "data": {
      "text/plain": [
       "Text(0.5, 1.0, 'type_of_show')"
      ]
     },
     "execution_count": 29,
     "metadata": {},
     "output_type": "execute_result"
    },
    {
     "data": {
      "image/png": "[encoded data removed]",
      "text/plain": [
       "<Figure size 432x432 with 1 Axes>"
      ]
     },
     "metadata": {},
     "output_type": "display_data"
    }
   ],
   "source": [
    "myexplode = [0.1, 0.0]\n",
    "types.plot.pie(y=\"count\", shadow=True, legend=\"type\", figsize=(6, 6),explode=myexplode)\n",
    "plt.title(\"type_of_show\", fontsize=20)"
   ]
  },
  {
   "cell_type": "code",
   "execution_count": 30,
   "id": "1edd2c85",
   "metadata": {},
   "outputs": [
    {
     "data": {
      "text/plain": [
       "Text(0.5, 1.0, 'Top10 directors')"
      ]
     },
     "execution_count": 30,
     "metadata": {},
     "output_type": "execute_result"
    },
    {
     "data": {
      "image/png": "[encoded data removed]",
      "text/plain": [
       "<Figure size 720x432 with 1 Axes>"
      ]
     },
     "metadata": {
      "needs_background": "light"
     },
     "output_type": "display_data"
    }
   ],
   "source": [
    "plt.figure(figsize = (10,6))\n",
    "sns.barplot(x=top10_directors.reset_index()[\"director\"],y=top10_directors.reset_index()[\"count\"],hue=top10_directors.reset_index()[\"type\"])\n",
    "plt.xticks(rotation=90)\n",
    "plt.title(\"Top10 directors\",fontsize=12)"
   ]
  },
  {
   "cell_type": "markdown",
   "id": "1b559453",
   "metadata": {},
   "source": [
    "director mark-knight had the highest production while baeble music had the lease productions in top 10 directors"
   ]
  },
  {
   "cell_type": "code",
   "execution_count": 31,
   "id": "c72830e7",
   "metadata": {},
   "outputs": [
    {
     "data": {
      "text/plain": [
       "Text(0.5, 1.0, 'Top countries')"
      ]
     },
     "execution_count": 31,
     "metadata": {},
     "output_type": "execute_result"
    },
    {
     "data": {
      "image/png": "[encoded data removed]",
      "text/plain": [
       "<Figure size 720x432 with 1 Axes>"
      ]
     },
     "metadata": {
      "needs_background": "light"
     },
     "output_type": "display_data"
    }
   ],
   "source": [
    "plt.figure(figsize=(10,6))\n",
    "sns.barplot(x=top_country.reset_index()[\"country\"],y=top_country.reset_index()[\"count\"],hue=top_country.reset_index()[\"type\"])\n",
    "plt.xticks(rotation=75)\n",
    "plt.title(\"Top countries\",fontsize=12)"
   ]
  },
  {
   "cell_type": "markdown",
   "id": "ce046a9f",
   "metadata": {},
   "source": [
    "India had thehighest production of movies, followed by the united states that had  themost TV showproductions in the top10 counries"
   ]
  },
  {
   "cell_type": "code",
   "execution_count": 32,
   "id": "0c2c8543",
   "metadata": {},
   "outputs": [
    {
     "data": {
      "text/plain": [
       "Text(0.5, 1.0, 'Ratings')"
      ]
     },
     "execution_count": 32,
     "metadata": {},
     "output_type": "execute_result"
    },
    {
     "data": {
      "image/png": "[encoded data removed]",
      "text/plain": [
       "<Figure size 720x432 with 1 Axes>"
      ]
     },
     "metadata": {
      "needs_background": "light"
     },
     "output_type": "display_data"
    }
   ],
   "source": [
    "plt.figure(figsize=(10,6))\n",
    "sns.barplot(x=show_rating.reset_index()[\"rating\"],y=show_rating.reset_index()[\"count\"],hue=show_rating.reset_index()[\"type\"])\n",
    "plt.xticks(rotation=75)\n",
    "plt.title(\"Ratings\")"
   ]
  },
  {
   "cell_type": "markdown",
   "id": "55540cef",
   "metadata": {},
   "source": [
    "Most movies are rated 13+,16+ and 18+ respectively while Tv shows were rated 13+"
   ]
  },
  {
   "cell_type": "code",
   "execution_count": 33,
   "id": "9cb2b847",
   "metadata": {},
   "outputs": [
    {
     "data": {
      "text/plain": [
       "Text(0.5, 1.0, 'overall_ratings distribution')"
      ]
     },
     "execution_count": 33,
     "metadata": {},
     "output_type": "execute_result"
    },
    {
     "data": {
      "image/png": "[encoded data removed]",
      "text/plain": [
       "<Figure size 936x1224 with 1 Axes>"
      ]
     },
     "metadata": {},
     "output_type": "display_data"
    }
   ],
   "source": [
    "\n",
    "show_rating.plot.pie(y='count',autopct='%.1f%%', figsize=(13,17), pctdistance= 0.7)\n",
    "plt.title('overall_ratings distribution', fontsize=20)\n"
   ]
  }
 ],
 "metadata": {
  "kernelspec": {
   "display_name": "Python 3 (ipykernel)",
   "language": "python",
   "name": "python3"
  },
  "language_info": {
   "codemirror_mode": {
    "name": "ipython",
    "version": 3
   },
   "file_extension": ".py",
   "mimetype": "text/x-python",
   "name": "python",
   "nbconvert_exporter": "python",
   "pygments_lexer": "ipython3",
   "version": "3.9.12"
  }
 },
 "nbformat": 4,
 "nbformat_minor": 5
}
