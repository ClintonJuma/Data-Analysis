{
 "cells": [
  {
   "cell_type": "code",
   "execution_count": 2,
   "id": "19e5410d",
   "metadata": {},
   "outputs": [
    {
     "data": {
      "text/html": [
       "<div>\n",
       "<style scoped>\n",
       "    .dataframe tbody tr th:only-of-type {\n",
       "        vertical-align: middle;\n",
       "    }\n",
       "\n",
       "    .dataframe tbody tr th {\n",
       "        vertical-align: top;\n",
       "    }\n",
       "\n",
       "    .dataframe thead th {\n",
       "        text-align: right;\n",
       "    }\n",
       "</style>\n",
       "<table border=\"1\" class=\"dataframe\">\n",
       "  <thead>\n",
       "    <tr style=\"text-align: right;\">\n",
       "      <th></th>\n",
       "      <th>Timestamp</th>\n",
       "      <th>Gender</th>\n",
       "      <th>Your study year</th>\n",
       "      <th>Which department</th>\n",
       "      <th>How many electronic devices do you use?</th>\n",
       "      <th>What is your recent latest CGPA ?</th>\n",
       "      <th>Is there an increase in your CGPA?</th>\n",
       "      <th>Average hour you spent using electronic devices for academic purposes in a day (hours).</th>\n",
       "      <th>What is the purpose of buying the device?</th>\n",
       "    </tr>\n",
       "  </thead>\n",
       "  <tbody>\n",
       "    <tr>\n",
       "      <th>0</th>\n",
       "      <td>7/19/2022 12:26:34</td>\n",
       "      <td>Female</td>\n",
       "      <td>4</td>\n",
       "      <td>Information Technology</td>\n",
       "      <td>2</td>\n",
       "      <td>3.00-3.49</td>\n",
       "      <td>Increase</td>\n",
       "      <td>4-6</td>\n",
       "      <td>Studies, Entertainment, Phone call</td>\n",
       "    </tr>\n",
       "    <tr>\n",
       "      <th>1</th>\n",
       "      <td>7/21/2022 2:19:26</td>\n",
       "      <td>Male</td>\n",
       "      <td>Post Graduate</td>\n",
       "      <td>Business Management</td>\n",
       "      <td>4</td>\n",
       "      <td>3.00-3.49</td>\n",
       "      <td>decrease</td>\n",
       "      <td>1-3</td>\n",
       "      <td>Studies, Entertainment, Online class, games, M...</td>\n",
       "    </tr>\n",
       "    <tr>\n",
       "      <th>2</th>\n",
       "      <td>7/21/2022 18:55:02</td>\n",
       "      <td>Male</td>\n",
       "      <td>3</td>\n",
       "      <td>Information Technology</td>\n",
       "      <td>3</td>\n",
       "      <td>3.50 - 3.99</td>\n",
       "      <td>Increase</td>\n",
       "      <td>4-6</td>\n",
       "      <td>Studies, Entertainment, Online class, Phone call</td>\n",
       "    </tr>\n",
       "    <tr>\n",
       "      <th>3</th>\n",
       "      <td>8/22/2022 10:01:30</td>\n",
       "      <td>Female</td>\n",
       "      <td>3</td>\n",
       "      <td>Engineering</td>\n",
       "      <td>3</td>\n",
       "      <td>2.50-2.99</td>\n",
       "      <td>decrease</td>\n",
       "      <td>1-3</td>\n",
       "      <td>Studies, Entertainment, Online class, games, M...</td>\n",
       "    </tr>\n",
       "    <tr>\n",
       "      <th>4</th>\n",
       "      <td>8/22/2022 10:02:05</td>\n",
       "      <td>Male</td>\n",
       "      <td>2</td>\n",
       "      <td>Architecture &amp; Built Environment</td>\n",
       "      <td>2</td>\n",
       "      <td>3.00-3.49</td>\n",
       "      <td>Increase</td>\n",
       "      <td>4-6</td>\n",
       "      <td>Studies, Entertainment</td>\n",
       "    </tr>\n",
       "  </tbody>\n",
       "</table>\n",
       "</div>"
      ],
      "text/plain": [
       "            Timestamp  Gender Your study year  \\\n",
       "0  7/19/2022 12:26:34  Female               4   \n",
       "1   7/21/2022 2:19:26    Male   Post Graduate   \n",
       "2  7/21/2022 18:55:02    Male               3   \n",
       "3  8/22/2022 10:01:30  Female               3   \n",
       "4  8/22/2022 10:02:05    Male               2   \n",
       "\n",
       "                   Which department  How many electronic devices do you use?  \\\n",
       "0            Information Technology                                        2   \n",
       "1               Business Management                                        4   \n",
       "2            Information Technology                                        3   \n",
       "3                       Engineering                                        3   \n",
       "4  Architecture & Built Environment                                        2   \n",
       "\n",
       "  What is your recent latest CGPA ? Is there an increase in your CGPA?  \\\n",
       "0                         3.00-3.49                           Increase   \n",
       "1                         3.00-3.49                           decrease   \n",
       "2                       3.50 - 3.99                           Increase   \n",
       "3                         2.50-2.99                           decrease   \n",
       "4                         3.00-3.49                           Increase   \n",
       "\n",
       "  Average hour you spent using electronic devices for academic purposes in a day (hours).  \\\n",
       "0                                                4-6                                        \n",
       "1                                                1-3                                        \n",
       "2                                                4-6                                        \n",
       "3                                                1-3                                        \n",
       "4                                                4-6                                        \n",
       "\n",
       "           What is the purpose of buying the device?  \n",
       "0                 Studies, Entertainment, Phone call  \n",
       "1  Studies, Entertainment, Online class, games, M...  \n",
       "2   Studies, Entertainment, Online class, Phone call  \n",
       "3  Studies, Entertainment, Online class, games, M...  \n",
       "4                             Studies, Entertainment  "
      ]
     },
     "execution_count": 2,
     "metadata": {},
     "output_type": "execute_result"
    }
   ],
   "source": [
    "import numpy as np\n",
    "import pandas as pd\n",
    "import  matplotlib.pyplot as plt\n",
    "import seaborn as sns\n",
    "df = pd.read_csv(\"The Impact of Electronic Gadget Uses with Academic Performance among University Students (Responses) - Form Responses 1.csv\")\n",
    "df.head()"
   ]
  },
  {
   "cell_type": "code",
   "execution_count": 3,
   "id": "89b496cd",
   "metadata": {},
   "outputs": [
    {
     "data": {
      "text/plain": [
       "(30, 9)"
      ]
     },
     "execution_count": 3,
     "metadata": {},
     "output_type": "execute_result"
    }
   ],
   "source": [
    "df.shape"
   ]
  },
  {
   "cell_type": "code",
   "execution_count": 4,
   "id": "a0df0de6",
   "metadata": {},
   "outputs": [
    {
     "data": {
      "text/plain": [
       "Index(['Timestamp', 'Gender', 'Your study year', 'Which department',\n",
       "       'How many electronic devices do you use?',\n",
       "       'What is your recent latest CGPA ?',\n",
       "       'Is there an increase in your CGPA?',\n",
       "       'Average hour you spent using electronic devices for academic purposes in a day (hours).',\n",
       "       'What is the purpose of buying the device?'],\n",
       "      dtype='object')"
      ]
     },
     "execution_count": 4,
     "metadata": {},
     "output_type": "execute_result"
    }
   ],
   "source": [
    "df.columns"
   ]
  },
  {
   "cell_type": "code",
   "execution_count": 5,
   "id": "6ca10beb",
   "metadata": {},
   "outputs": [
    {
     "name": "stdout",
     "output_type": "stream",
     "text": [
      "<class 'pandas.core.frame.DataFrame'>\n",
      "RangeIndex: 30 entries, 0 to 29\n",
      "Data columns (total 9 columns):\n",
      " #   Column                                                                                   Non-Null Count  Dtype \n",
      "---  ------                                                                                   --------------  ----- \n",
      " 0   Timestamp                                                                                30 non-null     object\n",
      " 1   Gender                                                                                   30 non-null     object\n",
      " 2   Your study year                                                                          30 non-null     object\n",
      " 3   Which department                                                                         30 non-null     object\n",
      " 4   How many electronic devices do you use?                                                  30 non-null     int64 \n",
      " 5   What is your recent latest CGPA ?                                                        30 non-null     object\n",
      " 6   Is there an increase in your CGPA?                                                       30 non-null     object\n",
      " 7   Average hour you spent using electronic devices for academic purposes in a day (hours).  30 non-null     object\n",
      " 8   What is the purpose of buying the device?                                                30 non-null     object\n",
      "dtypes: int64(1), object(8)\n",
      "memory usage: 2.2+ KB\n"
     ]
    }
   ],
   "source": [
    "df.info()"
   ]
  },
  {
   "cell_type": "code",
   "execution_count": 7,
   "id": "1a6cc287",
   "metadata": {},
   "outputs": [
    {
     "data": {
      "text/html": [
       "<div>\n",
       "<style scoped>\n",
       "    .dataframe tbody tr th:only-of-type {\n",
       "        vertical-align: middle;\n",
       "    }\n",
       "\n",
       "    .dataframe tbody tr th {\n",
       "        vertical-align: top;\n",
       "    }\n",
       "\n",
       "    .dataframe thead th {\n",
       "        text-align: right;\n",
       "    }\n",
       "</style>\n",
       "<table border=\"1\" class=\"dataframe\">\n",
       "  <thead>\n",
       "    <tr style=\"text-align: right;\">\n",
       "      <th></th>\n",
       "      <th>Timestamp</th>\n",
       "      <th>Gender</th>\n",
       "      <th>Your study year</th>\n",
       "      <th>Which department</th>\n",
       "      <th>How many electronic devices do you use?</th>\n",
       "      <th>What is your recent latest CGPA ?</th>\n",
       "      <th>Is there an increase in your CGPA?</th>\n",
       "      <th>Average hour you spent using electronic devices for academic purposes in a day (hours).</th>\n",
       "      <th>What is the purpose of buying the device?</th>\n",
       "    </tr>\n",
       "  </thead>\n",
       "  <tbody>\n",
       "    <tr>\n",
       "      <th>0</th>\n",
       "      <td>7/19/2022 12:26:34</td>\n",
       "      <td>Female</td>\n",
       "      <td>4</td>\n",
       "      <td>Information Technology</td>\n",
       "      <td>2</td>\n",
       "      <td>3.00-3.49</td>\n",
       "      <td>Increase</td>\n",
       "      <td>4-6</td>\n",
       "      <td>Studies, Entertainment, Phone call</td>\n",
       "    </tr>\n",
       "    <tr>\n",
       "      <th>1</th>\n",
       "      <td>7/21/2022 2:19:26</td>\n",
       "      <td>Male</td>\n",
       "      <td>Post Graduate</td>\n",
       "      <td>Business Management</td>\n",
       "      <td>4</td>\n",
       "      <td>3.00-3.49</td>\n",
       "      <td>decrease</td>\n",
       "      <td>1-3</td>\n",
       "      <td>Studies, Entertainment, Online class, games, M...</td>\n",
       "    </tr>\n",
       "    <tr>\n",
       "      <th>2</th>\n",
       "      <td>7/21/2022 18:55:02</td>\n",
       "      <td>Male</td>\n",
       "      <td>3</td>\n",
       "      <td>Information Technology</td>\n",
       "      <td>3</td>\n",
       "      <td>3.50 - 3.99</td>\n",
       "      <td>Increase</td>\n",
       "      <td>4-6</td>\n",
       "      <td>Studies, Entertainment, Online class, Phone call</td>\n",
       "    </tr>\n",
       "    <tr>\n",
       "      <th>3</th>\n",
       "      <td>8/22/2022 10:01:30</td>\n",
       "      <td>Female</td>\n",
       "      <td>3</td>\n",
       "      <td>Engineering</td>\n",
       "      <td>3</td>\n",
       "      <td>2.50-2.99</td>\n",
       "      <td>decrease</td>\n",
       "      <td>1-3</td>\n",
       "      <td>Studies, Entertainment, Online class, games, M...</td>\n",
       "    </tr>\n",
       "    <tr>\n",
       "      <th>4</th>\n",
       "      <td>8/22/2022 10:02:05</td>\n",
       "      <td>Male</td>\n",
       "      <td>2</td>\n",
       "      <td>Architecture &amp; Built Environment</td>\n",
       "      <td>2</td>\n",
       "      <td>3.00-3.49</td>\n",
       "      <td>Increase</td>\n",
       "      <td>4-6</td>\n",
       "      <td>Studies, Entertainment</td>\n",
       "    </tr>\n",
       "  </tbody>\n",
       "</table>\n",
       "</div>"
      ],
      "text/plain": [
       "            Timestamp  Gender Your study year  \\\n",
       "0  7/19/2022 12:26:34  Female               4   \n",
       "1   7/21/2022 2:19:26    Male   Post Graduate   \n",
       "2  7/21/2022 18:55:02    Male               3   \n",
       "3  8/22/2022 10:01:30  Female               3   \n",
       "4  8/22/2022 10:02:05    Male               2   \n",
       "\n",
       "                   Which department  How many electronic devices do you use?  \\\n",
       "0            Information Technology                                        2   \n",
       "1               Business Management                                        4   \n",
       "2            Information Technology                                        3   \n",
       "3                       Engineering                                        3   \n",
       "4  Architecture & Built Environment                                        2   \n",
       "\n",
       "  What is your recent latest CGPA ? Is there an increase in your CGPA?  \\\n",
       "0                         3.00-3.49                           Increase   \n",
       "1                         3.00-3.49                           decrease   \n",
       "2                       3.50 - 3.99                           Increase   \n",
       "3                         2.50-2.99                           decrease   \n",
       "4                         3.00-3.49                           Increase   \n",
       "\n",
       "  Average hour you spent using electronic devices for academic purposes in a day (hours).  \\\n",
       "0                                                4-6                                        \n",
       "1                                                1-3                                        \n",
       "2                                                4-6                                        \n",
       "3                                                1-3                                        \n",
       "4                                                4-6                                        \n",
       "\n",
       "           What is the purpose of buying the device?  \n",
       "0                 Studies, Entertainment, Phone call  \n",
       "1  Studies, Entertainment, Online class, games, M...  \n",
       "2   Studies, Entertainment, Online class, Phone call  \n",
       "3  Studies, Entertainment, Online class, games, M...  \n",
       "4                             Studies, Entertainment  "
      ]
     },
     "execution_count": 7,
     "metadata": {},
     "output_type": "execute_result"
    }
   ],
   "source": [
    "df.head()"
   ]
  },
  {
   "cell_type": "code",
   "execution_count": 11,
   "id": "a33a6f86",
   "metadata": {},
   "outputs": [],
   "source": [
    "df.columns = [\"time\", \"gender\", \"study_year\", \"department\", \"num_of_gadget\", \"recent_grade\", \"gpa_increase\", \"mean_hour\", \"purpose\"]"
   ]
  },
  {
   "cell_type": "code",
   "execution_count": 12,
   "id": "a628d580",
   "metadata": {},
   "outputs": [
    {
     "data": {
      "text/plain": [
       "Index(['time', 'gender', 'study_year', 'department', 'num_of_gadget',\n",
       "       'recent_grade', 'gpa_increase', 'mean_hour', 'purpose'],\n",
       "      dtype='object')"
      ]
     },
     "execution_count": 12,
     "metadata": {},
     "output_type": "execute_result"
    }
   ],
   "source": [
    "df.columns"
   ]
  },
  {
   "cell_type": "code",
   "execution_count": 13,
   "id": "8d872e6d",
   "metadata": {},
   "outputs": [
    {
     "name": "stdout",
     "output_type": "stream",
     "text": [
      "<class 'pandas.core.frame.DataFrame'>\n",
      "RangeIndex: 30 entries, 0 to 29\n",
      "Data columns (total 9 columns):\n",
      " #   Column         Non-Null Count  Dtype \n",
      "---  ------         --------------  ----- \n",
      " 0   time           30 non-null     object\n",
      " 1   gender         30 non-null     object\n",
      " 2   study_year     30 non-null     object\n",
      " 3   department     30 non-null     object\n",
      " 4   num_of_gadget  30 non-null     int64 \n",
      " 5   recent_grade   30 non-null     object\n",
      " 6   gpa_increase   30 non-null     object\n",
      " 7   mean_hour      30 non-null     object\n",
      " 8   purpose        30 non-null     object\n",
      "dtypes: int64(1), object(8)\n",
      "memory usage: 2.2+ KB\n"
     ]
    }
   ],
   "source": [
    "df.info()"
   ]
  },
  {
   "cell_type": "code",
   "execution_count": 14,
   "id": "9819cd1c",
   "metadata": {},
   "outputs": [
    {
     "data": {
      "text/html": [
       "<div>\n",
       "<style scoped>\n",
       "    .dataframe tbody tr th:only-of-type {\n",
       "        vertical-align: middle;\n",
       "    }\n",
       "\n",
       "    .dataframe tbody tr th {\n",
       "        vertical-align: top;\n",
       "    }\n",
       "\n",
       "    .dataframe thead th {\n",
       "        text-align: right;\n",
       "    }\n",
       "</style>\n",
       "<table border=\"1\" class=\"dataframe\">\n",
       "  <thead>\n",
       "    <tr style=\"text-align: right;\">\n",
       "      <th></th>\n",
       "      <th>time</th>\n",
       "      <th>gender</th>\n",
       "      <th>study_year</th>\n",
       "      <th>department</th>\n",
       "      <th>num_of_gadget</th>\n",
       "      <th>recent_grade</th>\n",
       "      <th>gpa_increase</th>\n",
       "      <th>mean_hour</th>\n",
       "      <th>purpose</th>\n",
       "    </tr>\n",
       "  </thead>\n",
       "  <tbody>\n",
       "    <tr>\n",
       "      <th>0</th>\n",
       "      <td>7/19/2022 12:26:34</td>\n",
       "      <td>Female</td>\n",
       "      <td>4</td>\n",
       "      <td>Information Technology</td>\n",
       "      <td>2</td>\n",
       "      <td>3.00-3.49</td>\n",
       "      <td>Increase</td>\n",
       "      <td>4-6</td>\n",
       "      <td>Studies, Entertainment, Phone call</td>\n",
       "    </tr>\n",
       "    <tr>\n",
       "      <th>1</th>\n",
       "      <td>7/21/2022 2:19:26</td>\n",
       "      <td>Male</td>\n",
       "      <td>Post Graduate</td>\n",
       "      <td>Business Management</td>\n",
       "      <td>4</td>\n",
       "      <td>3.00-3.49</td>\n",
       "      <td>decrease</td>\n",
       "      <td>1-3</td>\n",
       "      <td>Studies, Entertainment, Online class, games, M...</td>\n",
       "    </tr>\n",
       "    <tr>\n",
       "      <th>2</th>\n",
       "      <td>7/21/2022 18:55:02</td>\n",
       "      <td>Male</td>\n",
       "      <td>3</td>\n",
       "      <td>Information Technology</td>\n",
       "      <td>3</td>\n",
       "      <td>3.50 - 3.99</td>\n",
       "      <td>Increase</td>\n",
       "      <td>4-6</td>\n",
       "      <td>Studies, Entertainment, Online class, Phone call</td>\n",
       "    </tr>\n",
       "    <tr>\n",
       "      <th>3</th>\n",
       "      <td>8/22/2022 10:01:30</td>\n",
       "      <td>Female</td>\n",
       "      <td>3</td>\n",
       "      <td>Engineering</td>\n",
       "      <td>3</td>\n",
       "      <td>2.50-2.99</td>\n",
       "      <td>decrease</td>\n",
       "      <td>1-3</td>\n",
       "      <td>Studies, Entertainment, Online class, games, M...</td>\n",
       "    </tr>\n",
       "    <tr>\n",
       "      <th>4</th>\n",
       "      <td>8/22/2022 10:02:05</td>\n",
       "      <td>Male</td>\n",
       "      <td>2</td>\n",
       "      <td>Architecture &amp; Built Environment</td>\n",
       "      <td>2</td>\n",
       "      <td>3.00-3.49</td>\n",
       "      <td>Increase</td>\n",
       "      <td>4-6</td>\n",
       "      <td>Studies, Entertainment</td>\n",
       "    </tr>\n",
       "  </tbody>\n",
       "</table>\n",
       "</div>"
      ],
      "text/plain": [
       "                 time  gender     study_year  \\\n",
       "0  7/19/2022 12:26:34  Female              4   \n",
       "1   7/21/2022 2:19:26    Male  Post Graduate   \n",
       "2  7/21/2022 18:55:02    Male              3   \n",
       "3  8/22/2022 10:01:30  Female              3   \n",
       "4  8/22/2022 10:02:05    Male              2   \n",
       "\n",
       "                         department  num_of_gadget recent_grade gpa_increase  \\\n",
       "0            Information Technology              2    3.00-3.49     Increase   \n",
       "1               Business Management              4    3.00-3.49     decrease   \n",
       "2            Information Technology              3  3.50 - 3.99     Increase   \n",
       "3                       Engineering              3    2.50-2.99     decrease   \n",
       "4  Architecture & Built Environment              2    3.00-3.49     Increase   \n",
       "\n",
       "  mean_hour                                            purpose  \n",
       "0       4-6                 Studies, Entertainment, Phone call  \n",
       "1       1-3  Studies, Entertainment, Online class, games, M...  \n",
       "2       4-6   Studies, Entertainment, Online class, Phone call  \n",
       "3       1-3  Studies, Entertainment, Online class, games, M...  \n",
       "4       4-6                             Studies, Entertainment  "
      ]
     },
     "execution_count": 14,
     "metadata": {},
     "output_type": "execute_result"
    }
   ],
   "source": [
    "df.head()"
   ]
  },
  {
   "cell_type": "code",
   "execution_count": 16,
   "id": "e3a921d2",
   "metadata": {},
   "outputs": [],
   "source": [
    "df['daily_hour'] = (df['mean_hour'].str.split('-', expand = True)[0].astype(int) + \n",
    "                        df['mean_hour'].str.split('-',expand = True)[1].astype(int))/2"
   ]
  },
  {
   "cell_type": "code",
   "execution_count": 17,
   "id": "41e7ee41",
   "metadata": {},
   "outputs": [
    {
     "name": "stdout",
     "output_type": "stream",
     "text": [
      "<class 'pandas.core.frame.DataFrame'>\n",
      "RangeIndex: 30 entries, 0 to 29\n",
      "Data columns (total 10 columns):\n",
      " #   Column         Non-Null Count  Dtype  \n",
      "---  ------         --------------  -----  \n",
      " 0   time           30 non-null     object \n",
      " 1   gender         30 non-null     object \n",
      " 2   study_year     30 non-null     object \n",
      " 3   department     30 non-null     object \n",
      " 4   num_of_gadget  30 non-null     int64  \n",
      " 5   recent_grade   30 non-null     object \n",
      " 6   gpa_increase   30 non-null     object \n",
      " 7   mean_hour      30 non-null     object \n",
      " 8   purpose        30 non-null     object \n",
      " 9   daily_hour     30 non-null     float64\n",
      "dtypes: float64(1), int64(1), object(8)\n",
      "memory usage: 2.5+ KB\n"
     ]
    }
   ],
   "source": [
    "df.info()"
   ]
  },
  {
   "cell_type": "code",
   "execution_count": 31,
   "id": "2bab159d",
   "metadata": {},
   "outputs": [
    {
     "data": {
      "image/png": "[encoded data removed]",
      "text/plain": [
       "<Figure size 1224x576 with 1 Axes>"
      ]
     },
     "metadata": {
      "needs_background": "light"
     },
     "output_type": "display_data"
    }
   ],
   "source": [
    "pd.pivot_table(df, index = \"gender\", columns = \"gpa_increase\", values =\"daily_hour\", aggfunc = \"count\").plot(kind = \"barh\", figsize = (17, 8));\n",
    "plt.xlabel(\"Daily average hours spent on gadgets\", fontsize = 14, labelpad = 13)\n",
    "plt.grid()"
   ]
  },
  {
   "cell_type": "code",
   "execution_count": 29,
   "id": "907d3820",
   "metadata": {},
   "outputs": [],
   "source": [
    "#Males who spent time on gadgets got increase in pa, and females were in reverse\n"
   ]
  },
  {
   "cell_type": "code",
   "execution_count": 49,
   "id": "f32582c7",
   "metadata": {},
   "outputs": [
    {
     "data": {
      "text/plain": [
       "Studies           29\n",
       " Entertainment    25\n",
       " Phone call       23\n",
       " Online class     20\n",
       " Movies           11\n",
       " games             9\n",
       "Online class       1\n",
       "dtype: int64"
      ]
     },
     "execution_count": 49,
     "metadata": {},
     "output_type": "execute_result"
    }
   ],
   "source": [
    "purpose_freq = df['purpose'].str.split(',', expand = True).stack().value_counts()\n",
    "purpose_freq\n"
   ]
  },
  {
   "cell_type": "code",
   "execution_count": 55,
   "id": "7751b6d3",
   "metadata": {},
   "outputs": [
    {
     "data": {
      "image/png": "[encoded data removed]",
      "text/plain": [
       "<Figure size 720x720 with 1 Axes>"
      ]
     },
     "metadata": {},
     "output_type": "display_data"
    }
   ],
   "source": [
    "purpose_freq = df['purpose'].str.split(',', expand = True).stack().value_counts()\n",
    "plt.figure(figsize = (10,10))\n",
    "plt.pie(purpose_freq, autopct='%.2f', explode = (0.07,0.05,0.05,0.01,0.01,0.01,0.01), labels = purpose_freq.index);"
   ]
  },
  {
   "cell_type": "code",
   "execution_count": 56,
   "id": "e91b5faa",
   "metadata": {},
   "outputs": [],
   "source": [
    "# So most of the survvey participants chose Studies as the reason of using gadgets\n",
    "# The next position goes to Entertainment.\n",
    "# Surprisingly, Online class is the choice that have least votes, \n",
    "# maybe because students include this when they chose Studies"
   ]
  },
  {
   "cell_type": "code",
   "execution_count": 61,
   "id": "7ce94f23",
   "metadata": {},
   "outputs": [
    {
     "data": {
      "text/plain": [
       "<seaborn.axisgrid.FacetGrid at 0x287bb78e610>"
      ]
     },
     "execution_count": 61,
     "metadata": {},
     "output_type": "execute_result"
    },
    {
     "data": {
      "image/png": "[encoded data removed]",
      "text/plain": [
       "<Figure size 360x360 with 1 Axes>"
      ]
     },
     "metadata": {
      "needs_background": "light"
     },
     "output_type": "display_data"
    }
   ],
   "source": [
    "sns.displot(data = df, x = \"num_of_gadget\", bins = [0.1, 2, 3, 4, 5, 6])"
   ]
  },
  {
   "cell_type": "code",
   "execution_count": 72,
   "id": "d31f06c3",
   "metadata": {
    "scrolled": true
   },
   "outputs": [
    {
     "data": {
      "text/plain": [
       "Text(0, 0.5, 'Daily gours spent on gadgets')"
      ]
     },
     "execution_count": 72,
     "metadata": {},
     "output_type": "execute_result"
    },
    {
     "data": {
      "image/png": "[encoded data removed]",
      "text/plain": [
       "<Figure size 1008x504 with 1 Axes>"
      ]
     },
     "metadata": {
      "needs_background": "light"
     },
     "output_type": "display_data"
    }
   ],
   "source": [
    "pd.pivot_table(df, index = \"study_year\", columns = \"gender\", values = \"daily_hour\").plot(kind =\"bar\", figsize = (14,7))\n",
    "plt.ylabel(\"Daily gours spent on gadgets\")"
   ]
  },
  {
   "cell_type": "code",
   "execution_count": null,
   "id": "fac4b65e",
   "metadata": {},
   "outputs": [],
   "source": [
    "# So for the first year of study and advanced study years, \n",
    "# females tend to spend more time on gadgets while males during 2-4 years"
   ]
  },
  {
   "cell_type": "code",
   "execution_count": 77,
   "id": "2ac9bb1d",
   "metadata": {},
   "outputs": [
    {
     "data": {
      "text/html": [
       "<div>\n",
       "<style scoped>\n",
       "    .dataframe tbody tr th:only-of-type {\n",
       "        vertical-align: middle;\n",
       "    }\n",
       "\n",
       "    .dataframe tbody tr th {\n",
       "        vertical-align: top;\n",
       "    }\n",
       "\n",
       "    .dataframe thead th {\n",
       "        text-align: right;\n",
       "    }\n",
       "</style>\n",
       "<table border=\"1\" class=\"dataframe\">\n",
       "  <thead>\n",
       "    <tr style=\"text-align: right;\">\n",
       "      <th></th>\n",
       "      <th>num_of_gadget</th>\n",
       "    </tr>\n",
       "    <tr>\n",
       "      <th>department</th>\n",
       "      <th></th>\n",
       "    </tr>\n",
       "  </thead>\n",
       "  <tbody>\n",
       "    <tr>\n",
       "      <th>Business Management</th>\n",
       "      <td>3.0</td>\n",
       "    </tr>\n",
       "    <tr>\n",
       "      <th>Creative Industries</th>\n",
       "      <td>3.0</td>\n",
       "    </tr>\n",
       "    <tr>\n",
       "      <th>Information Technology</th>\n",
       "      <td>3.0</td>\n",
       "    </tr>\n",
       "    <tr>\n",
       "      <th>Allied Health Sciences</th>\n",
       "      <td>2.0</td>\n",
       "    </tr>\n",
       "    <tr>\n",
       "      <th>Architecture &amp; Built Environment</th>\n",
       "      <td>2.0</td>\n",
       "    </tr>\n",
       "    <tr>\n",
       "      <th>Education &amp; Liberal Studies</th>\n",
       "      <td>2.0</td>\n",
       "    </tr>\n",
       "    <tr>\n",
       "      <th>Engineering</th>\n",
       "      <td>2.0</td>\n",
       "    </tr>\n",
       "    <tr>\n",
       "      <th>Hospitality &amp; Tourism</th>\n",
       "      <td>2.0</td>\n",
       "    </tr>\n",
       "  </tbody>\n",
       "</table>\n",
       "</div>"
      ],
      "text/plain": [
       "                                  num_of_gadget\n",
       "department                                     \n",
       "Business Management                         3.0\n",
       "Creative Industries                         3.0\n",
       "Information Technology                      3.0\n",
       "Allied Health Sciences                      2.0\n",
       "Architecture & Built Environment            2.0\n",
       "Education & Liberal Studies                 2.0\n",
       "Engineering                                 2.0\n",
       "Hospitality & Tourism                       2.0"
      ]
     },
     "execution_count": 77,
     "metadata": {},
     "output_type": "execute_result"
    }
   ],
   "source": [
    "df[[\"department\", \"num_of_gadget\"]].groupby(\"department\").mean().round().sort_values(\"num_of_gadget\", ascending = False)\n"
   ]
  },
  {
   "cell_type": "code",
   "execution_count": null,
   "id": "c3c8fb61",
   "metadata": {},
   "outputs": [],
   "source": [
    "# Business, creatives and technology departments tend to own more gadgets than other department students"
   ]
  },
  {
   "cell_type": "code",
   "execution_count": 78,
   "id": "4317685a",
   "metadata": {},
   "outputs": [
    {
     "data": {
      "image/png": "[encoded data removed]",
      "text/plain": [
       "<Figure size 1080x360 with 1 Axes>"
      ]
     },
     "metadata": {
      "needs_background": "light"
     },
     "output_type": "display_data"
    }
   ],
   "source": [
    "df.groupby(\"recent_grade\").mean().round().plot(kind = \"barh\", figsize = (15, 5))\n",
    "plt.grid()"
   ]
  },
  {
   "cell_type": "code",
   "execution_count": 79,
   "id": "34c50bcf",
   "metadata": {},
   "outputs": [],
   "source": [
    "# Those who have more gadgets tend to spent more time on those devices, \n",
    "# Also, those people showed lower overall gpa in their studies,\n",
    "# highest grade holders have average two devices and spent 7 hours a day on screen"
   ]
  },
  {
   "cell_type": "code",
   "execution_count": null,
   "id": "24aff786",
   "metadata": {},
   "outputs": [],
   "source": []
  }
 ],
 "metadata": {
  "kernelspec": {
   "display_name": "Python 3 (ipykernel)",
   "language": "python",
   "name": "python3"
  },
  "language_info": {
   "codemirror_mode": {
    "name": "ipython",
    "version": 3
   },
   "file_extension": ".py",
   "mimetype": "text/x-python",
   "name": "python",
   "nbconvert_exporter": "python",
   "pygments_lexer": "ipython3",
   "version": "3.9.12"
  }
 },
 "nbformat": 4,
 "nbformat_minor": 5
}
