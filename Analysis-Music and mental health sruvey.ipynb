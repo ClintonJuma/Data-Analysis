{
 "cells": [
  {
   "cell_type": "markdown",
   "id": "9b5fb38f",
   "metadata": {},
   "source": [
    "# Importing libraries"
   ]
  },
  {
   "cell_type": "code",
   "execution_count": 94,
   "id": "a956ed19",
   "metadata": {},
   "outputs": [],
   "source": [
    "import pandas as pd\n",
    "import numpy as np\n",
    "import matplotlib.pyplot as plt\n",
    "import seaborn as sns\n",
    "import warnings\n",
    "\n",
    "warnings.filterwarnings(\"ignore\")\n",
    "sns.set(color_codes = True)\n",
    "sns.set_palette(palette = \"magma\",n_colors = 8)"
   ]
  },
  {
   "cell_type": "markdown",
   "id": "5ecb8519",
   "metadata": {},
   "source": [
    "# Importing dataset"
   ]
  },
  {
   "cell_type": "code",
   "execution_count": 95,
   "id": "5ec83233",
   "metadata": {},
   "outputs": [
    {
     "data": {
      "text/html": [
       "<div>\n",
       "<style scoped>\n",
       "    .dataframe tbody tr th:only-of-type {\n",
       "        vertical-align: middle;\n",
       "    }\n",
       "\n",
       "    .dataframe tbody tr th {\n",
       "        vertical-align: top;\n",
       "    }\n",
       "\n",
       "    .dataframe thead th {\n",
       "        text-align: right;\n",
       "    }\n",
       "</style>\n",
       "<table border=\"1\" class=\"dataframe\">\n",
       "  <thead>\n",
       "    <tr style=\"text-align: right;\">\n",
       "      <th></th>\n",
       "      <th>Timestamp</th>\n",
       "      <th>Age</th>\n",
       "      <th>Primary streaming service</th>\n",
       "      <th>Hours per day</th>\n",
       "      <th>While working</th>\n",
       "      <th>Instrumentalist</th>\n",
       "      <th>Composer</th>\n",
       "      <th>Fav genre</th>\n",
       "      <th>Exploratory</th>\n",
       "      <th>Foreign languages</th>\n",
       "      <th>...</th>\n",
       "      <th>Frequency [R&amp;B]</th>\n",
       "      <th>Frequency [Rap]</th>\n",
       "      <th>Frequency [Rock]</th>\n",
       "      <th>Frequency [Video game music]</th>\n",
       "      <th>Anxiety</th>\n",
       "      <th>Depression</th>\n",
       "      <th>Insomnia</th>\n",
       "      <th>OCD</th>\n",
       "      <th>Music effects</th>\n",
       "      <th>Permissions</th>\n",
       "    </tr>\n",
       "  </thead>\n",
       "  <tbody>\n",
       "    <tr>\n",
       "      <th>0</th>\n",
       "      <td>8/27/2022 19:29:02</td>\n",
       "      <td>18.0</td>\n",
       "      <td>Spotify</td>\n",
       "      <td>3.0</td>\n",
       "      <td>Yes</td>\n",
       "      <td>Yes</td>\n",
       "      <td>Yes</td>\n",
       "      <td>Latin</td>\n",
       "      <td>Yes</td>\n",
       "      <td>Yes</td>\n",
       "      <td>...</td>\n",
       "      <td>Sometimes</td>\n",
       "      <td>Very frequently</td>\n",
       "      <td>Never</td>\n",
       "      <td>Sometimes</td>\n",
       "      <td>3.0</td>\n",
       "      <td>0.0</td>\n",
       "      <td>1.0</td>\n",
       "      <td>0.0</td>\n",
       "      <td>NaN</td>\n",
       "      <td>I understand.</td>\n",
       "    </tr>\n",
       "    <tr>\n",
       "      <th>1</th>\n",
       "      <td>8/27/2022 19:57:31</td>\n",
       "      <td>63.0</td>\n",
       "      <td>Pandora</td>\n",
       "      <td>1.5</td>\n",
       "      <td>Yes</td>\n",
       "      <td>No</td>\n",
       "      <td>No</td>\n",
       "      <td>Rock</td>\n",
       "      <td>Yes</td>\n",
       "      <td>No</td>\n",
       "      <td>...</td>\n",
       "      <td>Sometimes</td>\n",
       "      <td>Rarely</td>\n",
       "      <td>Very frequently</td>\n",
       "      <td>Rarely</td>\n",
       "      <td>7.0</td>\n",
       "      <td>2.0</td>\n",
       "      <td>2.0</td>\n",
       "      <td>1.0</td>\n",
       "      <td>NaN</td>\n",
       "      <td>I understand.</td>\n",
       "    </tr>\n",
       "    <tr>\n",
       "      <th>2</th>\n",
       "      <td>8/27/2022 21:28:18</td>\n",
       "      <td>18.0</td>\n",
       "      <td>Spotify</td>\n",
       "      <td>4.0</td>\n",
       "      <td>No</td>\n",
       "      <td>No</td>\n",
       "      <td>No</td>\n",
       "      <td>Video game music</td>\n",
       "      <td>No</td>\n",
       "      <td>Yes</td>\n",
       "      <td>...</td>\n",
       "      <td>Never</td>\n",
       "      <td>Rarely</td>\n",
       "      <td>Rarely</td>\n",
       "      <td>Very frequently</td>\n",
       "      <td>7.0</td>\n",
       "      <td>7.0</td>\n",
       "      <td>10.0</td>\n",
       "      <td>2.0</td>\n",
       "      <td>No effect</td>\n",
       "      <td>I understand.</td>\n",
       "    </tr>\n",
       "    <tr>\n",
       "      <th>3</th>\n",
       "      <td>8/27/2022 21:40:40</td>\n",
       "      <td>61.0</td>\n",
       "      <td>YouTube Music</td>\n",
       "      <td>2.5</td>\n",
       "      <td>Yes</td>\n",
       "      <td>No</td>\n",
       "      <td>Yes</td>\n",
       "      <td>Jazz</td>\n",
       "      <td>Yes</td>\n",
       "      <td>Yes</td>\n",
       "      <td>...</td>\n",
       "      <td>Sometimes</td>\n",
       "      <td>Never</td>\n",
       "      <td>Never</td>\n",
       "      <td>Never</td>\n",
       "      <td>9.0</td>\n",
       "      <td>7.0</td>\n",
       "      <td>3.0</td>\n",
       "      <td>3.0</td>\n",
       "      <td>Improve</td>\n",
       "      <td>I understand.</td>\n",
       "    </tr>\n",
       "    <tr>\n",
       "      <th>4</th>\n",
       "      <td>8/27/2022 21:54:47</td>\n",
       "      <td>18.0</td>\n",
       "      <td>Spotify</td>\n",
       "      <td>4.0</td>\n",
       "      <td>Yes</td>\n",
       "      <td>No</td>\n",
       "      <td>No</td>\n",
       "      <td>R&amp;B</td>\n",
       "      <td>Yes</td>\n",
       "      <td>No</td>\n",
       "      <td>...</td>\n",
       "      <td>Very frequently</td>\n",
       "      <td>Very frequently</td>\n",
       "      <td>Never</td>\n",
       "      <td>Rarely</td>\n",
       "      <td>7.0</td>\n",
       "      <td>2.0</td>\n",
       "      <td>5.0</td>\n",
       "      <td>9.0</td>\n",
       "      <td>Improve</td>\n",
       "      <td>I understand.</td>\n",
       "    </tr>\n",
       "  </tbody>\n",
       "</table>\n",
       "<p>5 rows × 33 columns</p>\n",
       "</div>"
      ],
      "text/plain": [
       "            Timestamp   Age Primary streaming service  Hours per day  \\\n",
       "0  8/27/2022 19:29:02  18.0                   Spotify            3.0   \n",
       "1  8/27/2022 19:57:31  63.0                   Pandora            1.5   \n",
       "2  8/27/2022 21:28:18  18.0                   Spotify            4.0   \n",
       "3  8/27/2022 21:40:40  61.0             YouTube Music            2.5   \n",
       "4  8/27/2022 21:54:47  18.0                   Spotify            4.0   \n",
       "\n",
       "  While working Instrumentalist Composer         Fav genre Exploratory  \\\n",
       "0           Yes             Yes      Yes             Latin         Yes   \n",
       "1           Yes              No       No              Rock         Yes   \n",
       "2            No              No       No  Video game music          No   \n",
       "3           Yes              No      Yes              Jazz         Yes   \n",
       "4           Yes              No       No               R&B         Yes   \n",
       "\n",
       "  Foreign languages  ...  Frequency [R&B]  Frequency [Rap] Frequency [Rock]  \\\n",
       "0               Yes  ...        Sometimes  Very frequently            Never   \n",
       "1                No  ...        Sometimes           Rarely  Very frequently   \n",
       "2               Yes  ...            Never           Rarely           Rarely   \n",
       "3               Yes  ...        Sometimes            Never            Never   \n",
       "4                No  ...  Very frequently  Very frequently            Never   \n",
       "\n",
       "  Frequency [Video game music] Anxiety Depression Insomnia  OCD Music effects  \\\n",
       "0                    Sometimes     3.0        0.0      1.0  0.0           NaN   \n",
       "1                       Rarely     7.0        2.0      2.0  1.0           NaN   \n",
       "2              Very frequently     7.0        7.0     10.0  2.0     No effect   \n",
       "3                        Never     9.0        7.0      3.0  3.0       Improve   \n",
       "4                       Rarely     7.0        2.0      5.0  9.0       Improve   \n",
       "\n",
       "     Permissions  \n",
       "0  I understand.  \n",
       "1  I understand.  \n",
       "2  I understand.  \n",
       "3  I understand.  \n",
       "4  I understand.  \n",
       "\n",
       "[5 rows x 33 columns]"
      ]
     },
     "execution_count": 95,
     "metadata": {},
     "output_type": "execute_result"
    }
   ],
   "source": [
    "data = pd.read_csv('music mental health.csv')\n",
    "data.head()"
   ]
  },
  {
   "cell_type": "markdown",
   "id": "d6264027",
   "metadata": {},
   "source": [
    "# checking dataset"
   ]
  },
  {
   "cell_type": "code",
   "execution_count": 96,
   "id": "96258b70",
   "metadata": {},
   "outputs": [
    {
     "data": {
      "text/plain": [
       "(736, 33)"
      ]
     },
     "execution_count": 96,
     "metadata": {},
     "output_type": "execute_result"
    }
   ],
   "source": [
    "data.shape"
   ]
  },
  {
   "cell_type": "code",
   "execution_count": 97,
   "id": "d27ddd33",
   "metadata": {},
   "outputs": [
    {
     "data": {
      "text/plain": [
       "Timestamp                        object\n",
       "Age                             float64\n",
       "Primary streaming service        object\n",
       "Hours per day                   float64\n",
       "While working                    object\n",
       "Instrumentalist                  object\n",
       "Composer                         object\n",
       "Fav genre                        object\n",
       "Exploratory                      object\n",
       "Foreign languages                object\n",
       "BPM                             float64\n",
       "Frequency [Classical]            object\n",
       "Frequency [Country]              object\n",
       "Frequency [EDM]                  object\n",
       "Frequency [Folk]                 object\n",
       "Frequency [Gospel]               object\n",
       "Frequency [Hip hop]              object\n",
       "Frequency [Jazz]                 object\n",
       "Frequency [K pop]                object\n",
       "Frequency [Latin]                object\n",
       "Frequency [Lofi]                 object\n",
       "Frequency [Metal]                object\n",
       "Frequency [Pop]                  object\n",
       "Frequency [R&B]                  object\n",
       "Frequency [Rap]                  object\n",
       "Frequency [Rock]                 object\n",
       "Frequency [Video game music]     object\n",
       "Anxiety                         float64\n",
       "Depression                      float64\n",
       "Insomnia                        float64\n",
       "OCD                             float64\n",
       "Music effects                    object\n",
       "Permissions                      object\n",
       "dtype: object"
      ]
     },
     "execution_count": 97,
     "metadata": {},
     "output_type": "execute_result"
    }
   ],
   "source": [
    "#checking datatypes\n",
    "data.dtypes"
   ]
  },
  {
   "cell_type": "code",
   "execution_count": 98,
   "id": "5db3c317",
   "metadata": {},
   "outputs": [
    {
     "name": "stdout",
     "output_type": "stream",
     "text": [
      "<class 'pandas.core.frame.DataFrame'>\n",
      "RangeIndex: 736 entries, 0 to 735\n",
      "Data columns (total 33 columns):\n",
      " #   Column                        Non-Null Count  Dtype  \n",
      "---  ------                        --------------  -----  \n",
      " 0   Timestamp                     736 non-null    object \n",
      " 1   Age                           735 non-null    float64\n",
      " 2   Primary streaming service     735 non-null    object \n",
      " 3   Hours per day                 736 non-null    float64\n",
      " 4   While working                 733 non-null    object \n",
      " 5   Instrumentalist               732 non-null    object \n",
      " 6   Composer                      735 non-null    object \n",
      " 7   Fav genre                     736 non-null    object \n",
      " 8   Exploratory                   736 non-null    object \n",
      " 9   Foreign languages             732 non-null    object \n",
      " 10  BPM                           629 non-null    float64\n",
      " 11  Frequency [Classical]         736 non-null    object \n",
      " 12  Frequency [Country]           736 non-null    object \n",
      " 13  Frequency [EDM]               736 non-null    object \n",
      " 14  Frequency [Folk]              736 non-null    object \n",
      " 15  Frequency [Gospel]            736 non-null    object \n",
      " 16  Frequency [Hip hop]           736 non-null    object \n",
      " 17  Frequency [Jazz]              736 non-null    object \n",
      " 18  Frequency [K pop]             736 non-null    object \n",
      " 19  Frequency [Latin]             736 non-null    object \n",
      " 20  Frequency [Lofi]              736 non-null    object \n",
      " 21  Frequency [Metal]             736 non-null    object \n",
      " 22  Frequency [Pop]               736 non-null    object \n",
      " 23  Frequency [R&B]               736 non-null    object \n",
      " 24  Frequency [Rap]               736 non-null    object \n",
      " 25  Frequency [Rock]              736 non-null    object \n",
      " 26  Frequency [Video game music]  736 non-null    object \n",
      " 27  Anxiety                       736 non-null    float64\n",
      " 28  Depression                    736 non-null    float64\n",
      " 29  Insomnia                      736 non-null    float64\n",
      " 30  OCD                           736 non-null    float64\n",
      " 31  Music effects                 728 non-null    object \n",
      " 32  Permissions                   736 non-null    object \n",
      "dtypes: float64(7), object(26)\n",
      "memory usage: 189.9+ KB\n"
     ]
    }
   ],
   "source": [
    "data.info()"
   ]
  },
  {
   "cell_type": "markdown",
   "id": "5e79d786",
   "metadata": {},
   "source": [
    "This dataset has 33 columns, 26 columns are object type and  the rest are numeric type"
   ]
  },
  {
   "cell_type": "code",
   "execution_count": 99,
   "id": "44e07844",
   "metadata": {},
   "outputs": [
    {
     "data": {
      "text/html": [
       "<div>\n",
       "<style scoped>\n",
       "    .dataframe tbody tr th:only-of-type {\n",
       "        vertical-align: middle;\n",
       "    }\n",
       "\n",
       "    .dataframe tbody tr th {\n",
       "        vertical-align: top;\n",
       "    }\n",
       "\n",
       "    .dataframe thead th {\n",
       "        text-align: right;\n",
       "    }\n",
       "</style>\n",
       "<table border=\"1\" class=\"dataframe\">\n",
       "  <thead>\n",
       "    <tr style=\"text-align: right;\">\n",
       "      <th></th>\n",
       "      <th>count</th>\n",
       "      <th>mean</th>\n",
       "      <th>std</th>\n",
       "      <th>min</th>\n",
       "      <th>25%</th>\n",
       "      <th>50%</th>\n",
       "      <th>75%</th>\n",
       "      <th>max</th>\n",
       "    </tr>\n",
       "  </thead>\n",
       "  <tbody>\n",
       "    <tr>\n",
       "      <th>Age</th>\n",
       "      <td>735.0</td>\n",
       "      <td>2.520680e+01</td>\n",
       "      <td>1.205497e+01</td>\n",
       "      <td>10.0</td>\n",
       "      <td>18.0</td>\n",
       "      <td>21.0</td>\n",
       "      <td>28.0</td>\n",
       "      <td>89.0</td>\n",
       "    </tr>\n",
       "    <tr>\n",
       "      <th>Hours per day</th>\n",
       "      <td>736.0</td>\n",
       "      <td>3.572758e+00</td>\n",
       "      <td>3.028199e+00</td>\n",
       "      <td>0.0</td>\n",
       "      <td>2.0</td>\n",
       "      <td>3.0</td>\n",
       "      <td>5.0</td>\n",
       "      <td>24.0</td>\n",
       "    </tr>\n",
       "    <tr>\n",
       "      <th>BPM</th>\n",
       "      <td>629.0</td>\n",
       "      <td>1.589948e+06</td>\n",
       "      <td>3.987261e+07</td>\n",
       "      <td>0.0</td>\n",
       "      <td>100.0</td>\n",
       "      <td>120.0</td>\n",
       "      <td>144.0</td>\n",
       "      <td>999999999.0</td>\n",
       "    </tr>\n",
       "    <tr>\n",
       "      <th>Anxiety</th>\n",
       "      <td>736.0</td>\n",
       "      <td>5.837636e+00</td>\n",
       "      <td>2.793054e+00</td>\n",
       "      <td>0.0</td>\n",
       "      <td>4.0</td>\n",
       "      <td>6.0</td>\n",
       "      <td>8.0</td>\n",
       "      <td>10.0</td>\n",
       "    </tr>\n",
       "    <tr>\n",
       "      <th>Depression</th>\n",
       "      <td>736.0</td>\n",
       "      <td>4.796196e+00</td>\n",
       "      <td>3.028870e+00</td>\n",
       "      <td>0.0</td>\n",
       "      <td>2.0</td>\n",
       "      <td>5.0</td>\n",
       "      <td>7.0</td>\n",
       "      <td>10.0</td>\n",
       "    </tr>\n",
       "    <tr>\n",
       "      <th>Insomnia</th>\n",
       "      <td>736.0</td>\n",
       "      <td>3.738451e+00</td>\n",
       "      <td>3.088689e+00</td>\n",
       "      <td>0.0</td>\n",
       "      <td>1.0</td>\n",
       "      <td>3.0</td>\n",
       "      <td>6.0</td>\n",
       "      <td>10.0</td>\n",
       "    </tr>\n",
       "    <tr>\n",
       "      <th>OCD</th>\n",
       "      <td>736.0</td>\n",
       "      <td>2.637228e+00</td>\n",
       "      <td>2.842017e+00</td>\n",
       "      <td>0.0</td>\n",
       "      <td>0.0</td>\n",
       "      <td>2.0</td>\n",
       "      <td>5.0</td>\n",
       "      <td>10.0</td>\n",
       "    </tr>\n",
       "  </tbody>\n",
       "</table>\n",
       "</div>"
      ],
      "text/plain": [
       "               count          mean           std   min    25%    50%    75%  \\\n",
       "Age            735.0  2.520680e+01  1.205497e+01  10.0   18.0   21.0   28.0   \n",
       "Hours per day  736.0  3.572758e+00  3.028199e+00   0.0    2.0    3.0    5.0   \n",
       "BPM            629.0  1.589948e+06  3.987261e+07   0.0  100.0  120.0  144.0   \n",
       "Anxiety        736.0  5.837636e+00  2.793054e+00   0.0    4.0    6.0    8.0   \n",
       "Depression     736.0  4.796196e+00  3.028870e+00   0.0    2.0    5.0    7.0   \n",
       "Insomnia       736.0  3.738451e+00  3.088689e+00   0.0    1.0    3.0    6.0   \n",
       "OCD            736.0  2.637228e+00  2.842017e+00   0.0    0.0    2.0    5.0   \n",
       "\n",
       "                       max  \n",
       "Age                   89.0  \n",
       "Hours per day         24.0  \n",
       "BPM            999999999.0  \n",
       "Anxiety               10.0  \n",
       "Depression            10.0  \n",
       "Insomnia              10.0  \n",
       "OCD                   10.0  "
      ]
     },
     "execution_count": 99,
     "metadata": {},
     "output_type": "execute_result"
    }
   ],
   "source": [
    "data.describe().T"
   ]
  },
  {
   "cell_type": "markdown",
   "id": "7953270d",
   "metadata": {},
   "source": [
    "Range of music listeners are from 10-89.\n"
   ]
  },
  {
   "cell_type": "code",
   "execution_count": 100,
   "id": "ad504947",
   "metadata": {},
   "outputs": [
    {
     "data": {
      "text/html": [
       "<div>\n",
       "<style scoped>\n",
       "    .dataframe tbody tr th:only-of-type {\n",
       "        vertical-align: middle;\n",
       "    }\n",
       "\n",
       "    .dataframe tbody tr th {\n",
       "        vertical-align: top;\n",
       "    }\n",
       "\n",
       "    .dataframe thead th {\n",
       "        text-align: right;\n",
       "    }\n",
       "</style>\n",
       "<table border=\"1\" class=\"dataframe\">\n",
       "  <thead>\n",
       "    <tr style=\"text-align: right;\">\n",
       "      <th></th>\n",
       "      <th>count</th>\n",
       "      <th>unique</th>\n",
       "      <th>top</th>\n",
       "      <th>freq</th>\n",
       "    </tr>\n",
       "  </thead>\n",
       "  <tbody>\n",
       "    <tr>\n",
       "      <th>Timestamp</th>\n",
       "      <td>736</td>\n",
       "      <td>735</td>\n",
       "      <td>8/28/2022 16:15:08</td>\n",
       "      <td>2</td>\n",
       "    </tr>\n",
       "    <tr>\n",
       "      <th>Primary streaming service</th>\n",
       "      <td>735</td>\n",
       "      <td>6</td>\n",
       "      <td>Spotify</td>\n",
       "      <td>458</td>\n",
       "    </tr>\n",
       "    <tr>\n",
       "      <th>While working</th>\n",
       "      <td>733</td>\n",
       "      <td>2</td>\n",
       "      <td>Yes</td>\n",
       "      <td>579</td>\n",
       "    </tr>\n",
       "    <tr>\n",
       "      <th>Instrumentalist</th>\n",
       "      <td>732</td>\n",
       "      <td>2</td>\n",
       "      <td>No</td>\n",
       "      <td>497</td>\n",
       "    </tr>\n",
       "    <tr>\n",
       "      <th>Composer</th>\n",
       "      <td>735</td>\n",
       "      <td>2</td>\n",
       "      <td>No</td>\n",
       "      <td>609</td>\n",
       "    </tr>\n",
       "    <tr>\n",
       "      <th>Fav genre</th>\n",
       "      <td>736</td>\n",
       "      <td>16</td>\n",
       "      <td>Rock</td>\n",
       "      <td>188</td>\n",
       "    </tr>\n",
       "    <tr>\n",
       "      <th>Exploratory</th>\n",
       "      <td>736</td>\n",
       "      <td>2</td>\n",
       "      <td>Yes</td>\n",
       "      <td>525</td>\n",
       "    </tr>\n",
       "    <tr>\n",
       "      <th>Foreign languages</th>\n",
       "      <td>732</td>\n",
       "      <td>2</td>\n",
       "      <td>Yes</td>\n",
       "      <td>404</td>\n",
       "    </tr>\n",
       "    <tr>\n",
       "      <th>Frequency [Classical]</th>\n",
       "      <td>736</td>\n",
       "      <td>4</td>\n",
       "      <td>Rarely</td>\n",
       "      <td>259</td>\n",
       "    </tr>\n",
       "    <tr>\n",
       "      <th>Frequency [Country]</th>\n",
       "      <td>736</td>\n",
       "      <td>4</td>\n",
       "      <td>Never</td>\n",
       "      <td>343</td>\n",
       "    </tr>\n",
       "    <tr>\n",
       "      <th>Frequency [EDM]</th>\n",
       "      <td>736</td>\n",
       "      <td>4</td>\n",
       "      <td>Never</td>\n",
       "      <td>307</td>\n",
       "    </tr>\n",
       "    <tr>\n",
       "      <th>Frequency [Folk]</th>\n",
       "      <td>736</td>\n",
       "      <td>4</td>\n",
       "      <td>Never</td>\n",
       "      <td>292</td>\n",
       "    </tr>\n",
       "    <tr>\n",
       "      <th>Frequency [Gospel]</th>\n",
       "      <td>736</td>\n",
       "      <td>4</td>\n",
       "      <td>Never</td>\n",
       "      <td>535</td>\n",
       "    </tr>\n",
       "    <tr>\n",
       "      <th>Frequency [Hip hop]</th>\n",
       "      <td>736</td>\n",
       "      <td>4</td>\n",
       "      <td>Sometimes</td>\n",
       "      <td>218</td>\n",
       "    </tr>\n",
       "    <tr>\n",
       "      <th>Frequency [Jazz]</th>\n",
       "      <td>736</td>\n",
       "      <td>4</td>\n",
       "      <td>Never</td>\n",
       "      <td>261</td>\n",
       "    </tr>\n",
       "    <tr>\n",
       "      <th>Frequency [K pop]</th>\n",
       "      <td>736</td>\n",
       "      <td>4</td>\n",
       "      <td>Never</td>\n",
       "      <td>416</td>\n",
       "    </tr>\n",
       "    <tr>\n",
       "      <th>Frequency [Latin]</th>\n",
       "      <td>736</td>\n",
       "      <td>4</td>\n",
       "      <td>Never</td>\n",
       "      <td>443</td>\n",
       "    </tr>\n",
       "    <tr>\n",
       "      <th>Frequency [Lofi]</th>\n",
       "      <td>736</td>\n",
       "      <td>4</td>\n",
       "      <td>Never</td>\n",
       "      <td>280</td>\n",
       "    </tr>\n",
       "    <tr>\n",
       "      <th>Frequency [Metal]</th>\n",
       "      <td>736</td>\n",
       "      <td>4</td>\n",
       "      <td>Never</td>\n",
       "      <td>264</td>\n",
       "    </tr>\n",
       "    <tr>\n",
       "      <th>Frequency [Pop]</th>\n",
       "      <td>736</td>\n",
       "      <td>4</td>\n",
       "      <td>Very frequently</td>\n",
       "      <td>277</td>\n",
       "    </tr>\n",
       "    <tr>\n",
       "      <th>Frequency [R&amp;B]</th>\n",
       "      <td>736</td>\n",
       "      <td>4</td>\n",
       "      <td>Never</td>\n",
       "      <td>225</td>\n",
       "    </tr>\n",
       "    <tr>\n",
       "      <th>Frequency [Rap]</th>\n",
       "      <td>736</td>\n",
       "      <td>4</td>\n",
       "      <td>Rarely</td>\n",
       "      <td>215</td>\n",
       "    </tr>\n",
       "    <tr>\n",
       "      <th>Frequency [Rock]</th>\n",
       "      <td>736</td>\n",
       "      <td>4</td>\n",
       "      <td>Very frequently</td>\n",
       "      <td>330</td>\n",
       "    </tr>\n",
       "    <tr>\n",
       "      <th>Frequency [Video game music]</th>\n",
       "      <td>736</td>\n",
       "      <td>4</td>\n",
       "      <td>Never</td>\n",
       "      <td>236</td>\n",
       "    </tr>\n",
       "    <tr>\n",
       "      <th>Music effects</th>\n",
       "      <td>728</td>\n",
       "      <td>3</td>\n",
       "      <td>Improve</td>\n",
       "      <td>542</td>\n",
       "    </tr>\n",
       "    <tr>\n",
       "      <th>Permissions</th>\n",
       "      <td>736</td>\n",
       "      <td>1</td>\n",
       "      <td>I understand.</td>\n",
       "      <td>736</td>\n",
       "    </tr>\n",
       "  </tbody>\n",
       "</table>\n",
       "</div>"
      ],
      "text/plain": [
       "                             count unique                 top freq\n",
       "Timestamp                      736    735  8/28/2022 16:15:08    2\n",
       "Primary streaming service      735      6             Spotify  458\n",
       "While working                  733      2                 Yes  579\n",
       "Instrumentalist                732      2                  No  497\n",
       "Composer                       735      2                  No  609\n",
       "Fav genre                      736     16                Rock  188\n",
       "Exploratory                    736      2                 Yes  525\n",
       "Foreign languages              732      2                 Yes  404\n",
       "Frequency [Classical]          736      4              Rarely  259\n",
       "Frequency [Country]            736      4               Never  343\n",
       "Frequency [EDM]                736      4               Never  307\n",
       "Frequency [Folk]               736      4               Never  292\n",
       "Frequency [Gospel]             736      4               Never  535\n",
       "Frequency [Hip hop]            736      4           Sometimes  218\n",
       "Frequency [Jazz]               736      4               Never  261\n",
       "Frequency [K pop]              736      4               Never  416\n",
       "Frequency [Latin]              736      4               Never  443\n",
       "Frequency [Lofi]               736      4               Never  280\n",
       "Frequency [Metal]              736      4               Never  264\n",
       "Frequency [Pop]                736      4     Very frequently  277\n",
       "Frequency [R&B]                736      4               Never  225\n",
       "Frequency [Rap]                736      4              Rarely  215\n",
       "Frequency [Rock]               736      4     Very frequently  330\n",
       "Frequency [Video game music]   736      4               Never  236\n",
       "Music effects                  728      3             Improve  542\n",
       "Permissions                    736      1       I understand.  736"
      ]
     },
     "execution_count": 100,
     "metadata": {},
     "output_type": "execute_result"
    }
   ],
   "source": [
    "data.describe(exclude=\"number\").T"
   ]
  },
  {
   "cell_type": "markdown",
   "id": "6fde4773",
   "metadata": {},
   "source": [
    "The Timestamp column has a lot of unique value whereas Permission column has only one unique value."
   ]
  },
  {
   "cell_type": "markdown",
   "id": "675cee55",
   "metadata": {},
   "source": [
    "# Removing outliers"
   ]
  },
  {
   "cell_type": "code",
   "execution_count": 101,
   "id": "957dd6a4",
   "metadata": {},
   "outputs": [],
   "source": [
    "age_index = data[(data[\"Age\"]>70)].index\n",
    "data = data.drop(age_index, axis = 0)\n"
   ]
  },
  {
   "cell_type": "code",
   "execution_count": 102,
   "id": "7c2e8674",
   "metadata": {},
   "outputs": [],
   "source": [
    "hpd_index = data[data[\"Hours per day\"]>=15].index\n",
    "data=data.drop(hpd_index,axis=0)"
   ]
  },
  {
   "cell_type": "code",
   "execution_count": 103,
   "id": "e5dbaa9d",
   "metadata": {},
   "outputs": [],
   "source": [
    "data_index = data[data[\"BPM\"]>200].index\n",
    "data= data.drop(data_index, axis=0)"
   ]
  },
  {
   "cell_type": "markdown",
   "id": "a11add83",
   "metadata": {},
   "source": [
    "## Removing not needed columns"
   ]
  },
  {
   "cell_type": "code",
   "execution_count": 104,
   "id": "1f8785d9",
   "metadata": {},
   "outputs": [],
   "source": [
    "data.drop([\"Timestamp\", \"Permissions\"], axis=1,inplace=True)"
   ]
  },
  {
   "cell_type": "markdown",
   "id": "bc306528",
   "metadata": {},
   "source": [
    "## checking correlation"
   ]
  },
  {
   "cell_type": "code",
   "execution_count": 105,
   "id": "faa3f395",
   "metadata": {},
   "outputs": [
    {
     "data": {
      "text/plain": [
       "Age              1.000000\n",
       "Hours per day   -0.098354\n",
       "BPM             -0.019868\n",
       "Anxiety         -0.147222\n",
       "Depression      -0.087602\n",
       "Insomnia         0.039365\n",
       "OCD             -0.123097\n",
       "Name: Age, dtype: float64"
      ]
     },
     "execution_count": 105,
     "metadata": {},
     "output_type": "execute_result"
    }
   ],
   "source": [
    "#checking correlation with only a specified column of interest\n",
    "corr_data = data.corr()[\"Age\"]\n",
    "corr_data"
   ]
  },
  {
   "cell_type": "code",
   "execution_count": 106,
   "id": "e491b2e9",
   "metadata": {},
   "outputs": [
    {
     "data": {
      "text/plain": [
       "<AxesSubplot:>"
      ]
     },
     "execution_count": 106,
     "metadata": {},
     "output_type": "execute_result"
    },
    {
     "data": {
      "image/png": "[encoded data removed]",
      "text/plain": [
       "<Figure size 432x288 with 2 Axes>"
      ]
     },
     "metadata": {},
     "output_type": "display_data"
    }
   ],
   "source": [
    "sns.heatmap(data.corr())"
   ]
  },
  {
   "cell_type": "markdown",
   "id": "dffebb27",
   "metadata": {},
   "source": [
    "Removing missing values"
   ]
  },
  {
   "cell_type": "code",
   "execution_count": 107,
   "id": "295c06e2",
   "metadata": {},
   "outputs": [
    {
     "data": {
      "text/plain": [
       "Age                               1\n",
       "Primary streaming service         1\n",
       "Hours per day                     0\n",
       "While working                     3\n",
       "Instrumentalist                   4\n",
       "Composer                          1\n",
       "Fav genre                         0\n",
       "Exploratory                       0\n",
       "Foreign languages                 4\n",
       "BPM                             105\n",
       "Frequency [Classical]             0\n",
       "Frequency [Country]               0\n",
       "Frequency [EDM]                   0\n",
       "Frequency [Folk]                  0\n",
       "Frequency [Gospel]                0\n",
       "Frequency [Hip hop]               0\n",
       "Frequency [Jazz]                  0\n",
       "Frequency [K pop]                 0\n",
       "Frequency [Latin]                 0\n",
       "Frequency [Lofi]                  0\n",
       "Frequency [Metal]                 0\n",
       "Frequency [Pop]                   0\n",
       "Frequency [R&B]                   0\n",
       "Frequency [Rap]                   0\n",
       "Frequency [Rock]                  0\n",
       "Frequency [Video game music]      0\n",
       "Anxiety                           0\n",
       "Depression                        0\n",
       "Insomnia                          0\n",
       "OCD                               0\n",
       "Music effects                     8\n",
       "dtype: int64"
      ]
     },
     "execution_count": 107,
     "metadata": {},
     "output_type": "execute_result"
    }
   ],
   "source": [
    "data.isnull().sum()"
   ]
  },
  {
   "cell_type": "code",
   "execution_count": 108,
   "id": "9e7115dd",
   "metadata": {},
   "outputs": [],
   "source": [
    "#filling the null values in the above empty columns\n",
    "data['Age'] = data['Age'].fillna(round(data['Age'].mean(), 0))\n",
    "data['Primary streaming service'] = data['Primary streaming service'].fillna(data['Primary streaming service'].mode()[0])\n",
    "data['While working'] = data['While working'].fillna(data['While working'].mode()[0])\n",
    "data['Instrumentalist'] = data['Instrumentalist'].fillna(data['Instrumentalist'].mode()[0])\n",
    "data['Composer'] = data['Composer'].fillna(data['Composer'].mode()[0])\n",
    "data['Foreign languages'] = data['Foreign languages'].fillna(data['Foreign languages'].mode()[0])\n",
    "data['Music effects'] = data['Music effects'].fillna(data['Music effects'].mode()[0])"
   ]
  },
  {
   "cell_type": "code",
   "execution_count": 109,
   "id": "ede3c8e2",
   "metadata": {},
   "outputs": [
    {
     "data": {
      "text/plain": [
       "Age                               0\n",
       "Primary streaming service         0\n",
       "Hours per day                     0\n",
       "While working                     0\n",
       "Instrumentalist                   0\n",
       "Composer                          0\n",
       "Fav genre                         0\n",
       "Exploratory                       0\n",
       "Foreign languages                 0\n",
       "BPM                             105\n",
       "Frequency [Classical]             0\n",
       "Frequency [Country]               0\n",
       "Frequency [EDM]                   0\n",
       "Frequency [Folk]                  0\n",
       "Frequency [Gospel]                0\n",
       "Frequency [Hip hop]               0\n",
       "Frequency [Jazz]                  0\n",
       "Frequency [K pop]                 0\n",
       "Frequency [Latin]                 0\n",
       "Frequency [Lofi]                  0\n",
       "Frequency [Metal]                 0\n",
       "Frequency [Pop]                   0\n",
       "Frequency [R&B]                   0\n",
       "Frequency [Rap]                   0\n",
       "Frequency [Rock]                  0\n",
       "Frequency [Video game music]      0\n",
       "Anxiety                           0\n",
       "Depression                        0\n",
       "Insomnia                          0\n",
       "OCD                               0\n",
       "Music effects                     0\n",
       "dtype: int64"
      ]
     },
     "execution_count": 109,
     "metadata": {},
     "output_type": "execute_result"
    }
   ],
   "source": [
    "data.isnull().sum()"
   ]
  },
  {
   "cell_type": "code",
   "execution_count": 110,
   "id": "f7d614c3",
   "metadata": {},
   "outputs": [
    {
     "data": {
      "text/plain": [
       "105"
      ]
     },
     "execution_count": 110,
     "metadata": {},
     "output_type": "execute_result"
    }
   ],
   "source": [
    "data[\"BPM\"].isnull().sum()\n"
   ]
  },
  {
   "cell_type": "code",
   "execution_count": 111,
   "id": "0a2274db",
   "metadata": {},
   "outputs": [
    {
     "data": {
      "text/html": [
       "<div>\n",
       "<style scoped>\n",
       "    .dataframe tbody tr th:only-of-type {\n",
       "        vertical-align: middle;\n",
       "    }\n",
       "\n",
       "    .dataframe tbody tr th {\n",
       "        vertical-align: top;\n",
       "    }\n",
       "\n",
       "    .dataframe thead th {\n",
       "        text-align: right;\n",
       "    }\n",
       "</style>\n",
       "<table border=\"1\" class=\"dataframe\">\n",
       "  <thead>\n",
       "    <tr style=\"text-align: right;\">\n",
       "      <th></th>\n",
       "      <th>Age</th>\n",
       "      <th>Primary streaming service</th>\n",
       "      <th>Hours per day</th>\n",
       "      <th>While working</th>\n",
       "      <th>Instrumentalist</th>\n",
       "      <th>Composer</th>\n",
       "      <th>Fav genre</th>\n",
       "      <th>Exploratory</th>\n",
       "      <th>Foreign languages</th>\n",
       "      <th>BPM</th>\n",
       "      <th>...</th>\n",
       "      <th>Frequency [Pop]</th>\n",
       "      <th>Frequency [R&amp;B]</th>\n",
       "      <th>Frequency [Rap]</th>\n",
       "      <th>Frequency [Rock]</th>\n",
       "      <th>Frequency [Video game music]</th>\n",
       "      <th>Anxiety</th>\n",
       "      <th>Depression</th>\n",
       "      <th>Insomnia</th>\n",
       "      <th>OCD</th>\n",
       "      <th>Music effects</th>\n",
       "    </tr>\n",
       "  </thead>\n",
       "  <tbody>\n",
       "    <tr>\n",
       "      <th>10</th>\n",
       "      <td>18.0</td>\n",
       "      <td>Spotify</td>\n",
       "      <td>3.0</td>\n",
       "      <td>Yes</td>\n",
       "      <td>Yes</td>\n",
       "      <td>No</td>\n",
       "      <td>Country</td>\n",
       "      <td>Yes</td>\n",
       "      <td>No</td>\n",
       "      <td>NaN</td>\n",
       "      <td>...</td>\n",
       "      <td>Rarely</td>\n",
       "      <td>Rarely</td>\n",
       "      <td>Never</td>\n",
       "      <td>Rarely</td>\n",
       "      <td>Never</td>\n",
       "      <td>7.0</td>\n",
       "      <td>7.0</td>\n",
       "      <td>4.0</td>\n",
       "      <td>7.0</td>\n",
       "      <td>No effect</td>\n",
       "    </tr>\n",
       "    <tr>\n",
       "      <th>12</th>\n",
       "      <td>25.0</td>\n",
       "      <td>Spotify</td>\n",
       "      <td>3.0</td>\n",
       "      <td>Yes</td>\n",
       "      <td>No</td>\n",
       "      <td>No</td>\n",
       "      <td>Hip hop</td>\n",
       "      <td>Yes</td>\n",
       "      <td>Yes</td>\n",
       "      <td>NaN</td>\n",
       "      <td>...</td>\n",
       "      <td>Sometimes</td>\n",
       "      <td>Sometimes</td>\n",
       "      <td>Rarely</td>\n",
       "      <td>Rarely</td>\n",
       "      <td>Never</td>\n",
       "      <td>9.0</td>\n",
       "      <td>3.0</td>\n",
       "      <td>2.0</td>\n",
       "      <td>7.0</td>\n",
       "      <td>Improve</td>\n",
       "    </tr>\n",
       "    <tr>\n",
       "      <th>15</th>\n",
       "      <td>17.0</td>\n",
       "      <td>Spotify</td>\n",
       "      <td>2.0</td>\n",
       "      <td>No</td>\n",
       "      <td>No</td>\n",
       "      <td>No</td>\n",
       "      <td>Pop</td>\n",
       "      <td>Yes</td>\n",
       "      <td>Yes</td>\n",
       "      <td>NaN</td>\n",
       "      <td>...</td>\n",
       "      <td>Very frequently</td>\n",
       "      <td>Rarely</td>\n",
       "      <td>Sometimes</td>\n",
       "      <td>Sometimes</td>\n",
       "      <td>Rarely</td>\n",
       "      <td>7.0</td>\n",
       "      <td>5.0</td>\n",
       "      <td>4.0</td>\n",
       "      <td>1.0</td>\n",
       "      <td>Worsen</td>\n",
       "    </tr>\n",
       "    <tr>\n",
       "      <th>30</th>\n",
       "      <td>20.0</td>\n",
       "      <td>Apple Music</td>\n",
       "      <td>5.0</td>\n",
       "      <td>Yes</td>\n",
       "      <td>Yes</td>\n",
       "      <td>No</td>\n",
       "      <td>Rock</td>\n",
       "      <td>Yes</td>\n",
       "      <td>Yes</td>\n",
       "      <td>NaN</td>\n",
       "      <td>...</td>\n",
       "      <td>Sometimes</td>\n",
       "      <td>Sometimes</td>\n",
       "      <td>Sometimes</td>\n",
       "      <td>Very frequently</td>\n",
       "      <td>Rarely</td>\n",
       "      <td>7.0</td>\n",
       "      <td>7.0</td>\n",
       "      <td>2.0</td>\n",
       "      <td>0.0</td>\n",
       "      <td>Improve</td>\n",
       "    </tr>\n",
       "    <tr>\n",
       "      <th>32</th>\n",
       "      <td>19.0</td>\n",
       "      <td>Spotify</td>\n",
       "      <td>6.0</td>\n",
       "      <td>Yes</td>\n",
       "      <td>Yes</td>\n",
       "      <td>No</td>\n",
       "      <td>Metal</td>\n",
       "      <td>Yes</td>\n",
       "      <td>Yes</td>\n",
       "      <td>NaN</td>\n",
       "      <td>...</td>\n",
       "      <td>Sometimes</td>\n",
       "      <td>Never</td>\n",
       "      <td>Never</td>\n",
       "      <td>Sometimes</td>\n",
       "      <td>Sometimes</td>\n",
       "      <td>9.0</td>\n",
       "      <td>8.0</td>\n",
       "      <td>2.0</td>\n",
       "      <td>3.0</td>\n",
       "      <td>Improve</td>\n",
       "    </tr>\n",
       "    <tr>\n",
       "      <th>...</th>\n",
       "      <td>...</td>\n",
       "      <td>...</td>\n",
       "      <td>...</td>\n",
       "      <td>...</td>\n",
       "      <td>...</td>\n",
       "      <td>...</td>\n",
       "      <td>...</td>\n",
       "      <td>...</td>\n",
       "      <td>...</td>\n",
       "      <td>...</td>\n",
       "      <td>...</td>\n",
       "      <td>...</td>\n",
       "      <td>...</td>\n",
       "      <td>...</td>\n",
       "      <td>...</td>\n",
       "      <td>...</td>\n",
       "      <td>...</td>\n",
       "      <td>...</td>\n",
       "      <td>...</td>\n",
       "      <td>...</td>\n",
       "      <td>...</td>\n",
       "    </tr>\n",
       "    <tr>\n",
       "      <th>688</th>\n",
       "      <td>18.0</td>\n",
       "      <td>Spotify</td>\n",
       "      <td>4.0</td>\n",
       "      <td>Yes</td>\n",
       "      <td>No</td>\n",
       "      <td>No</td>\n",
       "      <td>R&amp;B</td>\n",
       "      <td>No</td>\n",
       "      <td>No</td>\n",
       "      <td>NaN</td>\n",
       "      <td>...</td>\n",
       "      <td>Sometimes</td>\n",
       "      <td>Very frequently</td>\n",
       "      <td>Sometimes</td>\n",
       "      <td>Never</td>\n",
       "      <td>Never</td>\n",
       "      <td>8.0</td>\n",
       "      <td>0.0</td>\n",
       "      <td>0.0</td>\n",
       "      <td>2.0</td>\n",
       "      <td>No effect</td>\n",
       "    </tr>\n",
       "    <tr>\n",
       "      <th>700</th>\n",
       "      <td>20.0</td>\n",
       "      <td>YouTube Music</td>\n",
       "      <td>1.0</td>\n",
       "      <td>Yes</td>\n",
       "      <td>No</td>\n",
       "      <td>No</td>\n",
       "      <td>Pop</td>\n",
       "      <td>No</td>\n",
       "      <td>Yes</td>\n",
       "      <td>NaN</td>\n",
       "      <td>...</td>\n",
       "      <td>Very frequently</td>\n",
       "      <td>Rarely</td>\n",
       "      <td>Sometimes</td>\n",
       "      <td>Rarely</td>\n",
       "      <td>Very frequently</td>\n",
       "      <td>8.0</td>\n",
       "      <td>9.0</td>\n",
       "      <td>6.0</td>\n",
       "      <td>5.0</td>\n",
       "      <td>Worsen</td>\n",
       "    </tr>\n",
       "    <tr>\n",
       "      <th>706</th>\n",
       "      <td>23.0</td>\n",
       "      <td>Spotify</td>\n",
       "      <td>1.0</td>\n",
       "      <td>Yes</td>\n",
       "      <td>Yes</td>\n",
       "      <td>No</td>\n",
       "      <td>Rock</td>\n",
       "      <td>Yes</td>\n",
       "      <td>Yes</td>\n",
       "      <td>NaN</td>\n",
       "      <td>...</td>\n",
       "      <td>Very frequently</td>\n",
       "      <td>Sometimes</td>\n",
       "      <td>Sometimes</td>\n",
       "      <td>Very frequently</td>\n",
       "      <td>Very frequently</td>\n",
       "      <td>8.0</td>\n",
       "      <td>6.0</td>\n",
       "      <td>1.0</td>\n",
       "      <td>4.0</td>\n",
       "      <td>Improve</td>\n",
       "    </tr>\n",
       "    <tr>\n",
       "      <th>712</th>\n",
       "      <td>23.0</td>\n",
       "      <td>I do not use a streaming service.</td>\n",
       "      <td>3.0</td>\n",
       "      <td>Yes</td>\n",
       "      <td>No</td>\n",
       "      <td>No</td>\n",
       "      <td>Rock</td>\n",
       "      <td>No</td>\n",
       "      <td>No</td>\n",
       "      <td>NaN</td>\n",
       "      <td>...</td>\n",
       "      <td>Sometimes</td>\n",
       "      <td>Rarely</td>\n",
       "      <td>Never</td>\n",
       "      <td>Very frequently</td>\n",
       "      <td>Never</td>\n",
       "      <td>10.0</td>\n",
       "      <td>5.0</td>\n",
       "      <td>2.0</td>\n",
       "      <td>0.0</td>\n",
       "      <td>Improve</td>\n",
       "    </tr>\n",
       "    <tr>\n",
       "      <th>717</th>\n",
       "      <td>23.0</td>\n",
       "      <td>Spotify</td>\n",
       "      <td>2.0</td>\n",
       "      <td>No</td>\n",
       "      <td>No</td>\n",
       "      <td>No</td>\n",
       "      <td>Rock</td>\n",
       "      <td>Yes</td>\n",
       "      <td>Yes</td>\n",
       "      <td>NaN</td>\n",
       "      <td>...</td>\n",
       "      <td>Sometimes</td>\n",
       "      <td>Sometimes</td>\n",
       "      <td>Sometimes</td>\n",
       "      <td>Very frequently</td>\n",
       "      <td>Never</td>\n",
       "      <td>5.0</td>\n",
       "      <td>7.0</td>\n",
       "      <td>10.0</td>\n",
       "      <td>2.0</td>\n",
       "      <td>No effect</td>\n",
       "    </tr>\n",
       "  </tbody>\n",
       "</table>\n",
       "<p>105 rows × 31 columns</p>\n",
       "</div>"
      ],
      "text/plain": [
       "      Age          Primary streaming service  Hours per day While working  \\\n",
       "10   18.0                            Spotify            3.0           Yes   \n",
       "12   25.0                            Spotify            3.0           Yes   \n",
       "15   17.0                            Spotify            2.0            No   \n",
       "30   20.0                        Apple Music            5.0           Yes   \n",
       "32   19.0                            Spotify            6.0           Yes   \n",
       "..    ...                                ...            ...           ...   \n",
       "688  18.0                            Spotify            4.0           Yes   \n",
       "700  20.0                      YouTube Music            1.0           Yes   \n",
       "706  23.0                            Spotify            1.0           Yes   \n",
       "712  23.0  I do not use a streaming service.            3.0           Yes   \n",
       "717  23.0                            Spotify            2.0            No   \n",
       "\n",
       "    Instrumentalist Composer Fav genre Exploratory Foreign languages  BPM  \\\n",
       "10              Yes       No   Country         Yes                No  NaN   \n",
       "12               No       No   Hip hop         Yes               Yes  NaN   \n",
       "15               No       No       Pop         Yes               Yes  NaN   \n",
       "30              Yes       No      Rock         Yes               Yes  NaN   \n",
       "32              Yes       No     Metal         Yes               Yes  NaN   \n",
       "..              ...      ...       ...         ...               ...  ...   \n",
       "688              No       No       R&B          No                No  NaN   \n",
       "700              No       No       Pop          No               Yes  NaN   \n",
       "706             Yes       No      Rock         Yes               Yes  NaN   \n",
       "712              No       No      Rock          No                No  NaN   \n",
       "717              No       No      Rock         Yes               Yes  NaN   \n",
       "\n",
       "     ...  Frequency [Pop]  Frequency [R&B] Frequency [Rap] Frequency [Rock]  \\\n",
       "10   ...           Rarely           Rarely           Never           Rarely   \n",
       "12   ...        Sometimes        Sometimes          Rarely           Rarely   \n",
       "15   ...  Very frequently           Rarely       Sometimes        Sometimes   \n",
       "30   ...        Sometimes        Sometimes       Sometimes  Very frequently   \n",
       "32   ...        Sometimes            Never           Never        Sometimes   \n",
       "..   ...              ...              ...             ...              ...   \n",
       "688  ...        Sometimes  Very frequently       Sometimes            Never   \n",
       "700  ...  Very frequently           Rarely       Sometimes           Rarely   \n",
       "706  ...  Very frequently        Sometimes       Sometimes  Very frequently   \n",
       "712  ...        Sometimes           Rarely           Never  Very frequently   \n",
       "717  ...        Sometimes        Sometimes       Sometimes  Very frequently   \n",
       "\n",
       "    Frequency [Video game music] Anxiety Depression Insomnia  OCD  \\\n",
       "10                         Never     7.0        7.0      4.0  7.0   \n",
       "12                         Never     9.0        3.0      2.0  7.0   \n",
       "15                        Rarely     7.0        5.0      4.0  1.0   \n",
       "30                        Rarely     7.0        7.0      2.0  0.0   \n",
       "32                     Sometimes     9.0        8.0      2.0  3.0   \n",
       "..                           ...     ...        ...      ...  ...   \n",
       "688                        Never     8.0        0.0      0.0  2.0   \n",
       "700              Very frequently     8.0        9.0      6.0  5.0   \n",
       "706              Very frequently     8.0        6.0      1.0  4.0   \n",
       "712                        Never    10.0        5.0      2.0  0.0   \n",
       "717                        Never     5.0        7.0     10.0  2.0   \n",
       "\n",
       "    Music effects  \n",
       "10      No effect  \n",
       "12        Improve  \n",
       "15         Worsen  \n",
       "30        Improve  \n",
       "32        Improve  \n",
       "..            ...  \n",
       "688     No effect  \n",
       "700        Worsen  \n",
       "706       Improve  \n",
       "712       Improve  \n",
       "717     No effect  \n",
       "\n",
       "[105 rows x 31 columns]"
      ]
     },
     "execution_count": 111,
     "metadata": {},
     "output_type": "execute_result"
    }
   ],
   "source": [
    "miss_bpm = data[data['BPM'].isnull() == True]\n",
    "miss_bpm"
   ]
  },
  {
   "cell_type": "code",
   "execution_count": 112,
   "id": "b59fd169",
   "metadata": {},
   "outputs": [
    {
     "data": {
      "text/plain": [
       "array(['Country', 'Hip hop', 'Pop', 'Rock', 'Metal', 'Classical',\n",
       "       'Video game music', 'R&B', 'Folk', 'Jazz', 'EDM', 'Gospel',\n",
       "       'K pop', 'Rap'], dtype=object)"
      ]
     },
     "execution_count": 112,
     "metadata": {},
     "output_type": "execute_result"
    }
   ],
   "source": [
    "miss_bpm[\"Fav genre\"].unique()"
   ]
  },
  {
   "cell_type": "code",
   "execution_count": 113,
   "id": "65197db2",
   "metadata": {},
   "outputs": [],
   "source": [
    "miss_bpm_genre = ['Country', 'Hip hop', 'Pop', 'Rock', 'Metal', 'Classical',\n",
    "       'Video game music', 'R&B', 'Folk', 'Jazz', 'EDM', 'Gospel',\n",
    "       'K pop', 'Rap']"
   ]
  },
  {
   "cell_type": "code",
   "execution_count": 114,
   "id": "2857502b",
   "metadata": {},
   "outputs": [],
   "source": [
    "for i in miss_bpm_genre:\n",
    "    data[\"BPM\"] = data[\"BPM\"].fillna(round(data[data[\"Fav genre\"]==i][\"BPM\"].mean(),0))"
   ]
  },
  {
   "cell_type": "markdown",
   "id": "a456e97f",
   "metadata": {},
   "source": [
    "## checking dataset and creating copy"
   ]
  },
  {
   "cell_type": "code",
   "execution_count": 115,
   "id": "216ba133",
   "metadata": {},
   "outputs": [
    {
     "data": {
      "text/plain": [
       "(714, 31)"
      ]
     },
     "execution_count": 115,
     "metadata": {},
     "output_type": "execute_result"
    }
   ],
   "source": [
    "data.shape"
   ]
  },
  {
   "cell_type": "code",
   "execution_count": 116,
   "id": "a9086895",
   "metadata": {},
   "outputs": [],
   "source": [
    "df=data.copy()"
   ]
  },
  {
   "cell_type": "markdown",
   "id": "1fbd3162",
   "metadata": {},
   "source": [
    "## data Visualization"
   ]
  },
  {
   "cell_type": "code",
   "execution_count": 117,
   "id": "7290b2c2",
   "metadata": {},
   "outputs": [
    {
     "data": {
      "text/plain": [
       "<AxesSubplot:xlabel='Age', ylabel='Count'>"
      ]
     },
     "execution_count": 117,
     "metadata": {},
     "output_type": "execute_result"
    },
    {
     "data": {
      "image/png": "[encoded data removed]",
      "text/plain": [
       "<Figure size 576x432 with 1 Axes>"
      ]
     },
     "metadata": {},
     "output_type": "display_data"
    }
   ],
   "source": [
    "plt.figure(figsize=(8,6))\n",
    "sns.histplot(data[\"Age\"])"
   ]
  },
  {
   "cell_type": "markdown",
   "id": "3f430d15",
   "metadata": {},
   "source": [
    "People of age 16-24 listen frequently to music"
   ]
  },
  {
   "cell_type": "code",
   "execution_count": 118,
   "id": "85ff4e89",
   "metadata": {},
   "outputs": [
    {
     "data": {
      "text/plain": [
       "<Figure size 576x432 with 0 Axes>"
      ]
     },
     "execution_count": 118,
     "metadata": {},
     "output_type": "execute_result"
    },
    {
     "data": {
      "image/png": "[encoded data removed]",
      "text/plain": [
       "<Figure size 432x288 with 1 Axes>"
      ]
     },
     "metadata": {},
     "output_type": "display_data"
    },
    {
     "data": {
      "text/plain": [
       "<Figure size 576x432 with 0 Axes>"
      ]
     },
     "metadata": {},
     "output_type": "display_data"
    }
   ],
   "source": [
    "sns.histplot(data[\"BPM\"])\n",
    "plt.figure(figsize = (8,6))"
   ]
  },
  {
   "cell_type": "markdown",
   "id": "7c57f150",
   "metadata": {},
   "source": [
    "Most songs are heard between range of 100-125 BPM"
   ]
  },
  {
   "cell_type": "code",
   "execution_count": 122,
   "id": "de838a76",
   "metadata": {},
   "outputs": [
    {
     "data": {
      "text/plain": [
       "(array([0, 1, 2, 3, 4, 5]),\n",
       " [Text(0, 0, 'Spotify'),\n",
       "  Text(1, 0, 'Pandora'),\n",
       "  Text(2, 0, 'YouTube Music'),\n",
       "  Text(3, 0, 'I do not use a streaming service.'),\n",
       "  Text(4, 0, 'Apple Music'),\n",
       "  Text(5, 0, 'Other streaming service')])"
      ]
     },
     "execution_count": 122,
     "metadata": {},
     "output_type": "execute_result"
    },
    {
     "data": {
      "image/png": "[encoded data removed]",
      "text/plain": [
       "<Figure size 576x432 with 1 Axes>"
      ]
     },
     "metadata": {},
     "output_type": "display_data"
    }
   ],
   "source": [
    "plt.figure(figsize=(8,6))\n",
    "sns.countplot(data[\"Primary streaming service\"])\n",
    "plt.xticks(rotation=75)"
   ]
  },
  {
   "cell_type": "markdown",
   "id": "3e5bec00",
   "metadata": {},
   "source": [
    "Spotify is the most used streaming service"
   ]
  },
  {
   "cell_type": "code",
   "execution_count": 129,
   "id": "d9e9b1b1",
   "metadata": {},
   "outputs": [
    {
     "data": {
      "text/plain": [
       "<AxesSubplot:xlabel='While working', ylabel='count'>"
      ]
     },
     "execution_count": 129,
     "metadata": {},
     "output_type": "execute_result"
    },
    {
     "data": {
      "image/png": "[encoded data removed]",
      "text/plain": [
       "<Figure size 576x432 with 1 Axes>"
      ]
     },
     "metadata": {},
     "output_type": "display_data"
    }
   ],
   "source": [
    "plt.figure(figsize=(8,6))\n",
    "sns.countplot(data[\"While working\"])"
   ]
  },
  {
   "cell_type": "markdown",
   "id": "df35b37d",
   "metadata": {},
   "source": [
    "Around 80 %people like to hear music while working"
   ]
  },
  {
   "cell_type": "code",
   "execution_count": 132,
   "id": "dd8c95cf",
   "metadata": {},
   "outputs": [
    {
     "data": {
      "text/plain": [
       "Text(0.5, 0, 'Classical Music')"
      ]
     },
     "execution_count": 132,
     "metadata": {},
     "output_type": "execute_result"
    },
    {
     "data": {
      "image/png": "[encoded data removed]",
      "text/plain": [
       "<Figure size 576x432 with 1 Axes>"
      ]
     },
     "metadata": {},
     "output_type": "display_data"
    }
   ],
   "source": [
    "plt.figure(figsize=(8,6))\n",
    "sns.countplot(data[\"Frequency [Classical]\"])\n",
    "plt.xlabel(\"Classical Music\")"
   ]
  },
  {
   "cell_type": "markdown",
   "id": "c07fb4ce",
   "metadata": {},
   "source": [
    "35% people very rarely listen Classical music.\n",
    "\n",
    "22% people never listen classical music whereas 15% listen very frequently.\n",
    "\n"
   ]
  },
  {
   "cell_type": "code",
   "execution_count": 137,
   "id": "7bf8c913",
   "metadata": {},
   "outputs": [
    {
     "data": {
      "text/plain": [
       "Text(0.5, 0, 'Country music')"
      ]
     },
     "execution_count": 137,
     "metadata": {},
     "output_type": "execute_result"
    },
    {
     "data": {
      "image/png": "[encoded data removed]",
      "text/plain": [
       "<Figure size 576x432 with 1 Axes>"
      ]
     },
     "metadata": {},
     "output_type": "display_data"
    }
   ],
   "source": [
    "plt.figure(figsize=(8,6))\n",
    "sns.countplot(data[\"Frequency [Country]\"])\n",
    "plt.xlabel(\"Country music\")"
   ]
  },
  {
   "cell_type": "markdown",
   "id": "e1a3c3fc",
   "metadata": {},
   "source": [
    "About 80 %people,never listen to country music at all, 7% frequently listen and 36 % listen rarely"
   ]
  },
  {
   "cell_type": "code",
   "execution_count": 145,
   "id": "9d04d68b",
   "metadata": {},
   "outputs": [
    {
     "data": {
      "text/plain": [
       "Text(0.5, 0, 'EDM Music')"
      ]
     },
     "execution_count": 145,
     "metadata": {},
     "output_type": "execute_result"
    },
    {
     "data": {
      "image/png": "[encoded data removed]",
      "text/plain": [
       "<Figure size 576x432 with 1 Axes>"
      ]
     },
     "metadata": {},
     "output_type": "display_data"
    }
   ],
   "source": [
    "plt.figure(figsize=(8,6))\n",
    "sns.countplot(x=data['Frequency [EDM]'])\n",
    "plt.xlabel('EDM Music')"
   ]
  },
  {
   "cell_type": "code",
   "execution_count": 146,
   "id": "79b5e8bb",
   "metadata": {},
   "outputs": [
    {
     "data": {
      "text/plain": [
       "Text(0.5, 0, 'Folk Music')"
      ]
     },
     "execution_count": 146,
     "metadata": {},
     "output_type": "execute_result"
    },
    {
     "data": {
      "image/png": "[encoded data removed]",
      "text/plain": [
       "<Figure size 576x432 with 1 Axes>"
      ]
     },
     "metadata": {},
     "output_type": "display_data"
    }
   ],
   "source": [
    "plt.figure(figsize=(8,6))\n",
    "sns.countplot(x=data['Frequency [Folk]'])\n",
    "plt.xlabel('Folk Music')"
   ]
  },
  {
   "cell_type": "markdown",
   "id": "d1dd24be",
   "metadata": {},
   "source": [
    "39% people never listen folk music and 10% are very frequently hear this music.\n",
    "\n"
   ]
  },
  {
   "cell_type": "code",
   "execution_count": 147,
   "id": "cbe4633f",
   "metadata": {},
   "outputs": [
    {
     "data": {
      "text/plain": [
       "Text(0.5, 0, 'Gospel Music')"
      ]
     },
     "execution_count": 147,
     "metadata": {},
     "output_type": "execute_result"
    },
    {
     "data": {
      "image/png": "[encoded data removed]",
      "text/plain": [
       "<Figure size 576x432 with 1 Axes>"
      ]
     },
     "metadata": {},
     "output_type": "display_data"
    }
   ],
   "source": [
    "plt.figure(figsize=(8,6))\n",
    "sns.countplot(x=data['Frequency [Gospel]'])\n",
    "plt.xlabel('Gospel Music')"
   ]
  },
  {
   "cell_type": "markdown",
   "id": "ebbd25ab",
   "metadata": {},
   "source": [
    "Gospel music is very unpopular between listeners almost 75% people not hear it."
   ]
  },
  {
   "cell_type": "code",
   "execution_count": 149,
   "id": "63dad6dc",
   "metadata": {},
   "outputs": [
    {
     "data": {
      "text/plain": [
       "Text(0.5, 0, 'Hip Hop Music')"
      ]
     },
     "execution_count": 149,
     "metadata": {},
     "output_type": "execute_result"
    },
    {
     "data": {
      "image/png": "[encoded data removed]",
      "text/plain": [
       "<Figure size 576x432 with 1 Axes>"
      ]
     },
     "metadata": {},
     "output_type": "display_data"
    }
   ],
   "source": [
    "plt.figure(figsize=(8,6))\n",
    "sns.countplot(x=data['Frequency [Hip hop]'])\n",
    "plt.xlabel('Hip Hop Music')"
   ]
  },
  {
   "cell_type": "markdown",
   "id": "1624d782",
   "metadata": {},
   "source": [
    "Hip hop is quite heared music type. Although 23% people don't listen this but other than that eveyone hear it."
   ]
  },
  {
   "cell_type": "code",
   "execution_count": 150,
   "id": "e83bc21a",
   "metadata": {},
   "outputs": [
    {
     "data": {
      "text/plain": [
       "Text(0.5, 0, 'Jazz Music')"
      ]
     },
     "execution_count": 150,
     "metadata": {},
     "output_type": "execute_result"
    },
    {
     "data": {
      "image/png": "[encoded data removed]",
      "text/plain": [
       "<Figure size 576x432 with 1 Axes>"
      ]
     },
     "metadata": {},
     "output_type": "display_data"
    }
   ],
   "source": [
    "plt.figure(figsize=(8,6))\n",
    "sns.countplot(x=data['Frequency [Jazz]'])\n",
    "plt.xlabel('Jazz Music')"
   ]
  },
  {
   "cell_type": "markdown",
   "id": "0396d285",
   "metadata": {},
   "source": [
    "Jazz music is also very unheard music genres nowadays. Because 35% never hear this and 33% hear it rarely."
   ]
  },
  {
   "cell_type": "code",
   "execution_count": 151,
   "id": "b718a560",
   "metadata": {},
   "outputs": [
    {
     "data": {
      "text/plain": [
       "Text(0.5, 0, 'K Pop Music')"
      ]
     },
     "execution_count": 151,
     "metadata": {},
     "output_type": "execute_result"
    },
    {
     "data": {
      "image/png": "[encoded data removed]",
      "text/plain": [
       "<Figure size 576x432 with 1 Axes>"
      ]
     },
     "metadata": {},
     "output_type": "display_data"
    }
   ],
   "source": [
    "plt.figure(figsize=(8,6))\n",
    "sns.countplot(x=data['Frequency [K pop]'])\n",
    "plt.xlabel('K Pop Music')\n"
   ]
  },
  {
   "cell_type": "markdown",
   "id": "86d4f6ea",
   "metadata": {},
   "source": [
    "This is also one of less heard music. 56% never hear this music."
   ]
  },
  {
   "cell_type": "code",
   "execution_count": 152,
   "id": "7138fc39",
   "metadata": {},
   "outputs": [
    {
     "data": {
      "text/plain": [
       "Text(0.5, 0, 'Latin Music')"
      ]
     },
     "execution_count": 152,
     "metadata": {},
     "output_type": "execute_result"
    },
    {
     "data": {
      "image/png": "[encoded data removed]",
      "text/plain": [
       "<Figure size 576x432 with 1 Axes>"
      ]
     },
     "metadata": {},
     "output_type": "display_data"
    }
   ],
   "source": [
    "plt.figure(figsize=(8,6))\n",
    "sns.countplot(x=data['Frequency [Latin]'])\n",
    "plt.xlabel('Latin Music')"
   ]
  },
  {
   "cell_type": "code",
   "execution_count": 153,
   "id": "9732c359",
   "metadata": {},
   "outputs": [
    {
     "data": {
      "text/plain": [
       "Text(0.5, 0, 'Rap Music')"
      ]
     },
     "execution_count": 153,
     "metadata": {},
     "output_type": "execute_result"
    },
    {
     "data": {
      "image/png": "[encoded data removed]",
      "text/plain": [
       "<Figure size 576x432 with 1 Axes>"
      ]
     },
     "metadata": {},
     "output_type": "display_data"
    }
   ],
   "source": [
    "plt.figure(figsize=(8,6))\n",
    "sns.countplot(x=data['Frequency [Rap]'])\n",
    "plt.xlabel('Rap Music')"
   ]
  },
  {
   "cell_type": "markdown",
   "id": "851902d0",
   "metadata": {},
   "source": [
    "26% people never hear it while 30% hear it rarely"
   ]
  },
  {
   "cell_type": "markdown",
   "id": "a3a351fe",
   "metadata": {},
   "source": [
    "## Bivariate Analysis"
   ]
  },
  {
   "cell_type": "code",
   "execution_count": 155,
   "id": "46291a5f",
   "metadata": {},
   "outputs": [
    {
     "data": {
      "text/plain": [
       "([0, 1, 2, 3, 4, 5, 6, 7, 8, 9, 10, 11, 12, 13, 14, 15],\n",
       " [Text(0, 0, ''),\n",
       "  Text(0, 0, ''),\n",
       "  Text(0, 0, ''),\n",
       "  Text(0, 0, ''),\n",
       "  Text(0, 0, ''),\n",
       "  Text(0, 0, ''),\n",
       "  Text(0, 0, ''),\n",
       "  Text(0, 0, ''),\n",
       "  Text(0, 0, ''),\n",
       "  Text(0, 0, ''),\n",
       "  Text(0, 0, ''),\n",
       "  Text(0, 0, ''),\n",
       "  Text(0, 0, ''),\n",
       "  Text(0, 0, ''),\n",
       "  Text(0, 0, ''),\n",
       "  Text(0, 0, '')])"
      ]
     },
     "execution_count": 155,
     "metadata": {},
     "output_type": "execute_result"
    },
    {
     "data": {
      "image/png": "[encoded data removed]",
      "text/plain": [
       "<Figure size 576x432 with 1 Axes>"
      ]
     },
     "metadata": {},
     "output_type": "display_data"
    }
   ],
   "source": [
    "#lineplot\n",
    "plt.figure(figsize=(8,6))\n",
    "sns.lineplot(x=data['Fav genre'], y=data['Age'], ci=None)\n",
    "plt.xticks(rotation=90)"
   ]
  },
  {
   "cell_type": "code",
   "execution_count": 156,
   "id": "0c2a4c15",
   "metadata": {},
   "outputs": [
    {
     "data": {
      "text/plain": [
       "(array([ 0,  1,  2,  3,  4,  5,  6,  7,  8,  9, 10, 11, 12, 13, 14, 15]),\n",
       " [Text(0, 0, 'Latin'),\n",
       "  Text(1, 0, 'Rock'),\n",
       "  Text(2, 0, 'Video game music'),\n",
       "  Text(3, 0, 'Jazz'),\n",
       "  Text(4, 0, 'R&B'),\n",
       "  Text(5, 0, 'K pop'),\n",
       "  Text(6, 0, 'Country'),\n",
       "  Text(7, 0, 'EDM'),\n",
       "  Text(8, 0, 'Hip hop'),\n",
       "  Text(9, 0, 'Pop'),\n",
       "  Text(10, 0, 'Rap'),\n",
       "  Text(11, 0, 'Classical'),\n",
       "  Text(12, 0, 'Metal'),\n",
       "  Text(13, 0, 'Folk'),\n",
       "  Text(14, 0, 'Lofi'),\n",
       "  Text(15, 0, 'Gospel')])"
      ]
     },
     "execution_count": 156,
     "metadata": {},
     "output_type": "execute_result"
    },
    {
     "data": {
      "image/png": "[encoded data removed]",
      "text/plain": [
       "<Figure size 576x432 with 1 Axes>"
      ]
     },
     "metadata": {},
     "output_type": "display_data"
    }
   ],
   "source": [
    "#Barplot\n",
    "plt.figure(figsize=(8,6))\n",
    "sns.barplot(x=data['Fav genre'], y=data['Age'], ci=None)\n",
    "plt.xticks(rotation=90)"
   ]
  },
  {
   "cell_type": "markdown",
   "id": "4940811a",
   "metadata": {},
   "source": [
    "People around age of 20 are interested in Latin, K pop and Rap songs whereas Gospel is more famous in people around age of 50 and above.\n",
    "\n",
    "Besides these above mentioned genre are heard by people from age of 20 to 30."
   ]
  },
  {
   "cell_type": "code",
   "execution_count": 157,
   "id": "5c767048",
   "metadata": {},
   "outputs": [
    {
     "data": {
      "text/plain": [
       "(array([ 0,  1,  2,  3,  4,  5,  6,  7,  8,  9, 10, 11, 12, 13, 14, 15]),\n",
       " [Text(0, 0, 'Latin'),\n",
       "  Text(1, 0, 'Rock'),\n",
       "  Text(2, 0, 'Video game music'),\n",
       "  Text(3, 0, 'Jazz'),\n",
       "  Text(4, 0, 'R&B'),\n",
       "  Text(5, 0, 'K pop'),\n",
       "  Text(6, 0, 'Country'),\n",
       "  Text(7, 0, 'EDM'),\n",
       "  Text(8, 0, 'Hip hop'),\n",
       "  Text(9, 0, 'Pop'),\n",
       "  Text(10, 0, 'Rap'),\n",
       "  Text(11, 0, 'Classical'),\n",
       "  Text(12, 0, 'Metal'),\n",
       "  Text(13, 0, 'Folk'),\n",
       "  Text(14, 0, 'Lofi'),\n",
       "  Text(15, 0, 'Gospel')])"
      ]
     },
     "execution_count": 157,
     "metadata": {},
     "output_type": "execute_result"
    },
    {
     "data": {
      "image/png": "[encoded data removed]",
      "text/plain": [
       "<Figure size 576x432 with 1 Axes>"
      ]
     },
     "metadata": {},
     "output_type": "display_data"
    }
   ],
   "source": [
    "plt.figure(figsize=(8,6))\n",
    "sns.boxplot(x=data[\"Fav genre\"],y=data[\"Hours per day\"])\n",
    "plt.xticks(rotation=90)"
   ]
  },
  {
   "cell_type": "markdown",
   "id": "d7ec8fd4",
   "metadata": {},
   "source": [
    "People work 12 hours a day use to listen Latin and Jazz genre music more.\n",
    "\n",
    "People listening music of Gospel genre work less than others."
   ]
  },
  {
   "cell_type": "code",
   "execution_count": 163,
   "id": "14f496ad",
   "metadata": {},
   "outputs": [
    {
     "data": {
      "text/plain": [
       "(array([ 0,  1,  2,  3,  4,  5,  6,  7,  8,  9, 10, 11, 12, 13, 14, 15]),\n",
       " [Text(0, 0, 'Latin'),\n",
       "  Text(1, 0, 'Rock'),\n",
       "  Text(2, 0, 'Video game music'),\n",
       "  Text(3, 0, 'Jazz'),\n",
       "  Text(4, 0, 'R&B'),\n",
       "  Text(5, 0, 'K pop'),\n",
       "  Text(6, 0, 'Country'),\n",
       "  Text(7, 0, 'EDM'),\n",
       "  Text(8, 0, 'Hip hop'),\n",
       "  Text(9, 0, 'Pop'),\n",
       "  Text(10, 0, 'Rap'),\n",
       "  Text(11, 0, 'Classical'),\n",
       "  Text(12, 0, 'Metal'),\n",
       "  Text(13, 0, 'Folk'),\n",
       "  Text(14, 0, 'Lofi'),\n",
       "  Text(15, 0, 'Gospel')])"
      ]
     },
     "execution_count": 163,
     "metadata": {},
     "output_type": "execute_result"
    },
    {
     "data": {
      "image/png": "[encoded data removed]",
      "text/plain": [
       "<Figure size 576x432 with 1 Axes>"
      ]
     },
     "metadata": {},
     "output_type": "display_data"
    }
   ],
   "source": [
    "plt.figure(figsize=(8,6))\n",
    "sns.barplot(x=data[\"Fav genre\"], y =data[\"Anxiety\"],errwidth=0)\n",
    "plt.xticks(rotation=90)"
   ]
  },
  {
   "cell_type": "markdown",
   "id": "08764396",
   "metadata": {},
   "source": [
    "Every listener has Anxiety level above 4 but Rock, Jazz, K pop, Hip hop, Pop, and Folk music listeners have anxiety levey above 6."
   ]
  },
  {
   "cell_type": "code",
   "execution_count": 164,
   "id": "ff821579",
   "metadata": {},
   "outputs": [
    {
     "data": {
      "text/plain": [
       "(array([ 0,  1,  2,  3,  4,  5,  6,  7,  8,  9, 10, 11, 12, 13, 14, 15]),\n",
       " [Text(0, 0, 'Latin'),\n",
       "  Text(1, 0, 'Rock'),\n",
       "  Text(2, 0, 'Video game music'),\n",
       "  Text(3, 0, 'Jazz'),\n",
       "  Text(4, 0, 'R&B'),\n",
       "  Text(5, 0, 'K pop'),\n",
       "  Text(6, 0, 'Country'),\n",
       "  Text(7, 0, 'EDM'),\n",
       "  Text(8, 0, 'Hip hop'),\n",
       "  Text(9, 0, 'Pop'),\n",
       "  Text(10, 0, 'Rap'),\n",
       "  Text(11, 0, 'Classical'),\n",
       "  Text(12, 0, 'Metal'),\n",
       "  Text(13, 0, 'Folk'),\n",
       "  Text(14, 0, 'Lofi'),\n",
       "  Text(15, 0, 'Gospel')])"
      ]
     },
     "execution_count": 164,
     "metadata": {},
     "output_type": "execute_result"
    },
    {
     "data": {
      "image/png": "[encoded data removed]",
      "text/plain": [
       "<Figure size 576x432 with 1 Axes>"
      ]
     },
     "metadata": {},
     "output_type": "display_data"
    }
   ],
   "source": [
    "plt.figure(figsize=(8,6))\n",
    "sns.barplot(x=data['Fav genre'], y=data['Insomnia'], errwidth=0)\n",
    "plt.xticks(rotation=90)"
   ]
  },
  {
   "cell_type": "markdown",
   "id": "0560a77c",
   "metadata": {},
   "source": [
    "Every listener have insomnia level below 4 besides Metal, Lofi, and Gospel."
   ]
  },
  {
   "cell_type": "code",
   "execution_count": 166,
   "id": "ac13110f",
   "metadata": {},
   "outputs": [
    {
     "data": {
      "text/plain": [
       "(array([ 0,  1,  2,  3,  4,  5,  6,  7,  8,  9, 10, 11, 12, 13, 14, 15]),\n",
       " [Text(0, 0, 'Latin'),\n",
       "  Text(1, 0, 'Rock'),\n",
       "  Text(2, 0, 'Video game music'),\n",
       "  Text(3, 0, 'Jazz'),\n",
       "  Text(4, 0, 'R&B'),\n",
       "  Text(5, 0, 'K pop'),\n",
       "  Text(6, 0, 'Country'),\n",
       "  Text(7, 0, 'EDM'),\n",
       "  Text(8, 0, 'Hip hop'),\n",
       "  Text(9, 0, 'Pop'),\n",
       "  Text(10, 0, 'Rap'),\n",
       "  Text(11, 0, 'Classical'),\n",
       "  Text(12, 0, 'Metal'),\n",
       "  Text(13, 0, 'Folk'),\n",
       "  Text(14, 0, 'Lofi'),\n",
       "  Text(15, 0, 'Gospel')])"
      ]
     },
     "execution_count": 166,
     "metadata": {},
     "output_type": "execute_result"
    },
    {
     "data": {
      "image/png": "[encoded data removed]",
      "text/plain": [
       "<Figure size 576x432 with 1 Axes>"
      ]
     },
     "metadata": {},
     "output_type": "display_data"
    }
   ],
   "source": [
    "plt.figure(figsize=(8,6))\n",
    "sns.barplot(x=data['Fav genre'], y=data['OCD'], errwidth=0)\n",
    "plt.xticks(rotation=90)"
   ]
  },
  {
   "cell_type": "markdown",
   "id": "87ca4542",
   "metadata": {},
   "source": [
    "The maximum OCD leve is above 3 in Rap and Lofi listeners."
   ]
  },
  {
   "cell_type": "code",
   "execution_count": 167,
   "id": "1b98c56f",
   "metadata": {},
   "outputs": [
    {
     "data": {
      "text/plain": [
       "(array([ 0,  1,  2,  3,  4,  5,  6,  7,  8,  9, 10, 11, 12, 13, 14, 15]),\n",
       " [Text(0, 0, 'Latin'),\n",
       "  Text(1, 0, 'Rock'),\n",
       "  Text(2, 0, 'Video game music'),\n",
       "  Text(3, 0, 'Jazz'),\n",
       "  Text(4, 0, 'R&B'),\n",
       "  Text(5, 0, 'K pop'),\n",
       "  Text(6, 0, 'Country'),\n",
       "  Text(7, 0, 'EDM'),\n",
       "  Text(8, 0, 'Hip hop'),\n",
       "  Text(9, 0, 'Pop'),\n",
       "  Text(10, 0, 'Rap'),\n",
       "  Text(11, 0, 'Classical'),\n",
       "  Text(12, 0, 'Metal'),\n",
       "  Text(13, 0, 'Folk'),\n",
       "  Text(14, 0, 'Lofi'),\n",
       "  Text(15, 0, 'Gospel')])"
      ]
     },
     "execution_count": 167,
     "metadata": {},
     "output_type": "execute_result"
    },
    {
     "data": {
      "image/png": "[encoded data removed]",
      "text/plain": [
       "<Figure size 576x432 with 1 Axes>"
      ]
     },
     "metadata": {},
     "output_type": "display_data"
    }
   ],
   "source": [
    "plt.figure(figsize=(8,6))\n",
    "sns.barplot(x=data['Fav genre'], y=data['Age'], hue=data['Music effects'], errwidth=0, palette='coolwarm')\n",
    "plt.xticks(rotation=90)"
   ]
  },
  {
   "cell_type": "markdown",
   "id": "bd50d34a",
   "metadata": {},
   "source": [
    "Every Music listeners of every age showing some kind of improvement but Rock, Video Game Music, Pop, Rap, and Classical have worsen condition."
   ]
  },
  {
   "cell_type": "code",
   "execution_count": 168,
   "id": "7421dd69",
   "metadata": {},
   "outputs": [
    {
     "data": {
      "text/plain": [
       "(array([ 0,  1,  2,  3,  4,  5,  6,  7,  8,  9, 10, 11, 12, 13, 14, 15]),\n",
       " [Text(0, 0, 'Latin'),\n",
       "  Text(1, 0, 'Rock'),\n",
       "  Text(2, 0, 'Video game music'),\n",
       "  Text(3, 0, 'Jazz'),\n",
       "  Text(4, 0, 'R&B'),\n",
       "  Text(5, 0, 'K pop'),\n",
       "  Text(6, 0, 'Country'),\n",
       "  Text(7, 0, 'EDM'),\n",
       "  Text(8, 0, 'Hip hop'),\n",
       "  Text(9, 0, 'Pop'),\n",
       "  Text(10, 0, 'Rap'),\n",
       "  Text(11, 0, 'Classical'),\n",
       "  Text(12, 0, 'Metal'),\n",
       "  Text(13, 0, 'Folk'),\n",
       "  Text(14, 0, 'Lofi'),\n",
       "  Text(15, 0, 'Gospel')])"
      ]
     },
     "execution_count": 168,
     "metadata": {},
     "output_type": "execute_result"
    },
    {
     "data": {
      "image/png": "[encoded data removed]",
      "text/plain": [
       "<Figure size 576x432 with 1 Axes>"
      ]
     },
     "metadata": {},
     "output_type": "display_data"
    }
   ],
   "source": [
    "plt.figure(figsize=(8,6))\n",
    "sns.barplot(x=data['Fav genre'], y=data['OCD'], hue=data['Music effects'], errwidth=0, palette='coolwarm')\n",
    "plt.xticks(rotation=90)\n"
   ]
  },
  {
   "cell_type": "markdown",
   "id": "b976f387",
   "metadata": {},
   "source": [
    "Rock, Video Game Music, Pop, Rap, and Classical listeners have some level of OCD but Classical listeners have highest OCD."
   ]
  },
  {
   "cell_type": "code",
   "execution_count": 171,
   "id": "cbbf143f",
   "metadata": {},
   "outputs": [
    {
     "data": {
      "text/plain": [
       "(array([ 0,  1,  2,  3,  4,  5,  6,  7,  8,  9, 10, 11, 12, 13, 14, 15]),\n",
       " [Text(0, 0, 'Latin'),\n",
       "  Text(1, 0, 'Rock'),\n",
       "  Text(2, 0, 'Video game music'),\n",
       "  Text(3, 0, 'Jazz'),\n",
       "  Text(4, 0, 'R&B'),\n",
       "  Text(5, 0, 'K pop'),\n",
       "  Text(6, 0, 'Country'),\n",
       "  Text(7, 0, 'EDM'),\n",
       "  Text(8, 0, 'Hip hop'),\n",
       "  Text(9, 0, 'Pop'),\n",
       "  Text(10, 0, 'Rap'),\n",
       "  Text(11, 0, 'Classical'),\n",
       "  Text(12, 0, 'Metal'),\n",
       "  Text(13, 0, 'Folk'),\n",
       "  Text(14, 0, 'Lofi'),\n",
       "  Text(15, 0, 'Gospel')])"
      ]
     },
     "execution_count": 171,
     "metadata": {},
     "output_type": "execute_result"
    },
    {
     "data": {
      "image/png": "[encoded data removed]",
      "text/plain": [
       "<Figure size 576x432 with 1 Axes>"
      ]
     },
     "metadata": {},
     "output_type": "display_data"
    }
   ],
   "source": [
    "plt.figure(figsize=(8,6))\n",
    "sns.barplot(x=data['Fav genre'], y=data['Anxiety'], hue=data['Music effects'], errwidth=0, palette='coolwarm')\n",
    "plt.xticks(rotation=90)"
   ]
  },
  {
   "cell_type": "markdown",
   "id": "84e2beb8",
   "metadata": {},
   "source": [
    "Rock, Video Game Music, Pop, Rap, and Classical listeners have some level of Anxiety but Video Game Music listeners have highest Anxiety."
   ]
  },
  {
   "cell_type": "code",
   "execution_count": 172,
   "id": "98492bb1",
   "metadata": {},
   "outputs": [
    {
     "data": {
      "text/plain": [
       "(array([ 0,  1,  2,  3,  4,  5,  6,  7,  8,  9, 10, 11, 12, 13, 14, 15]),\n",
       " [Text(0, 0, 'Latin'),\n",
       "  Text(1, 0, 'Rock'),\n",
       "  Text(2, 0, 'Video game music'),\n",
       "  Text(3, 0, 'Jazz'),\n",
       "  Text(4, 0, 'R&B'),\n",
       "  Text(5, 0, 'K pop'),\n",
       "  Text(6, 0, 'Country'),\n",
       "  Text(7, 0, 'EDM'),\n",
       "  Text(8, 0, 'Hip hop'),\n",
       "  Text(9, 0, 'Pop'),\n",
       "  Text(10, 0, 'Rap'),\n",
       "  Text(11, 0, 'Classical'),\n",
       "  Text(12, 0, 'Metal'),\n",
       "  Text(13, 0, 'Folk'),\n",
       "  Text(14, 0, 'Lofi'),\n",
       "  Text(15, 0, 'Gospel')])"
      ]
     },
     "execution_count": 172,
     "metadata": {},
     "output_type": "execute_result"
    },
    {
     "data": {
      "image/png": "[encoded data removed]",
      "text/plain": [
       "<Figure size 576x432 with 1 Axes>"
      ]
     },
     "metadata": {},
     "output_type": "display_data"
    }
   ],
   "source": [
    "plt.figure(figsize=(8,6))\n",
    "sns.barplot(x=data['Fav genre'], y=data['Depression'], hue=data['Music effects'], errwidth=0, palette='coolwarm')\n",
    "plt.xticks(rotation=90)"
   ]
  },
  {
   "cell_type": "markdown",
   "id": "ba445fc2",
   "metadata": {},
   "source": [
    "Rock, Video Game Music, Pop, and Classical listeners have high level of Depression."
   ]
  },
  {
   "cell_type": "code",
   "execution_count": null,
   "id": "d6d7c49a",
   "metadata": {},
   "outputs": [],
   "source": []
  }
 ],
 "metadata": {
  "kernelspec": {
   "display_name": "Python 3 (ipykernel)",
   "language": "python",
   "name": "python3"
  },
  "language_info": {
   "codemirror_mode": {
    "name": "ipython",
    "version": 3
   },
   "file_extension": ".py",
   "mimetype": "text/x-python",
   "name": "python",
   "nbconvert_exporter": "python",
   "pygments_lexer": "ipython3",
   "version": "3.9.12"
  }
 },
 "nbformat": 4,
 "nbformat_minor": 5
}
