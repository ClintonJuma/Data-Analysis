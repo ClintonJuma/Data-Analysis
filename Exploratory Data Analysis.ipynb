{
 "cells": [
  {
   "cell_type": "code",
   "execution_count": 1,
   "id": "a5757048",
   "metadata": {},
   "outputs": [],
   "source": [
    "import pandas as pd\n"
   ]
  },
  {
   "cell_type": "code",
   "execution_count": 2,
   "id": "39727672",
   "metadata": {},
   "outputs": [
    {
     "data": {
      "text/html": [
       "<div>\n",
       "<style scoped>\n",
       "    .dataframe tbody tr th:only-of-type {\n",
       "        vertical-align: middle;\n",
       "    }\n",
       "\n",
       "    .dataframe tbody tr th {\n",
       "        vertical-align: top;\n",
       "    }\n",
       "\n",
       "    .dataframe thead th {\n",
       "        text-align: right;\n",
       "    }\n",
       "</style>\n",
       "<table border=\"1\" class=\"dataframe\">\n",
       "  <thead>\n",
       "    <tr style=\"text-align: right;\">\n",
       "      <th></th>\n",
       "      <th>Respondent</th>\n",
       "      <th>MainBranch</th>\n",
       "      <th>Hobbyist</th>\n",
       "      <th>Age</th>\n",
       "      <th>Age1stCode</th>\n",
       "      <th>CompFreq</th>\n",
       "      <th>CompTotal</th>\n",
       "      <th>ConvertedComp</th>\n",
       "      <th>Country</th>\n",
       "      <th>CurrencyDesc</th>\n",
       "      <th>...</th>\n",
       "      <th>SurveyEase</th>\n",
       "      <th>SurveyLength</th>\n",
       "      <th>Trans</th>\n",
       "      <th>UndergradMajor</th>\n",
       "      <th>WebframeDesireNextYear</th>\n",
       "      <th>WebframeWorkedWith</th>\n",
       "      <th>WelcomeChange</th>\n",
       "      <th>WorkWeekHrs</th>\n",
       "      <th>YearsCode</th>\n",
       "      <th>YearsCodePro</th>\n",
       "    </tr>\n",
       "  </thead>\n",
       "  <tbody>\n",
       "    <tr>\n",
       "      <th>0</th>\n",
       "      <td>1</td>\n",
       "      <td>I am a developer by profession</td>\n",
       "      <td>Yes</td>\n",
       "      <td>NaN</td>\n",
       "      <td>13</td>\n",
       "      <td>Monthly</td>\n",
       "      <td>NaN</td>\n",
       "      <td>NaN</td>\n",
       "      <td>Germany</td>\n",
       "      <td>European Euro</td>\n",
       "      <td>...</td>\n",
       "      <td>Neither easy nor difficult</td>\n",
       "      <td>Appropriate in length</td>\n",
       "      <td>No</td>\n",
       "      <td>Computer science, computer engineering, or sof...</td>\n",
       "      <td>ASP.NET Core</td>\n",
       "      <td>ASP.NET;ASP.NET Core</td>\n",
       "      <td>Just as welcome now as I felt last year</td>\n",
       "      <td>50.0</td>\n",
       "      <td>36</td>\n",
       "      <td>27</td>\n",
       "    </tr>\n",
       "    <tr>\n",
       "      <th>1</th>\n",
       "      <td>2</td>\n",
       "      <td>I am a developer by profession</td>\n",
       "      <td>No</td>\n",
       "      <td>NaN</td>\n",
       "      <td>19</td>\n",
       "      <td>NaN</td>\n",
       "      <td>NaN</td>\n",
       "      <td>NaN</td>\n",
       "      <td>United Kingdom</td>\n",
       "      <td>Pound sterling</td>\n",
       "      <td>...</td>\n",
       "      <td>NaN</td>\n",
       "      <td>NaN</td>\n",
       "      <td>NaN</td>\n",
       "      <td>Computer science, computer engineering, or sof...</td>\n",
       "      <td>NaN</td>\n",
       "      <td>NaN</td>\n",
       "      <td>Somewhat more welcome now than last year</td>\n",
       "      <td>NaN</td>\n",
       "      <td>7</td>\n",
       "      <td>4</td>\n",
       "    </tr>\n",
       "    <tr>\n",
       "      <th>2</th>\n",
       "      <td>3</td>\n",
       "      <td>I code primarily as a hobby</td>\n",
       "      <td>Yes</td>\n",
       "      <td>NaN</td>\n",
       "      <td>15</td>\n",
       "      <td>NaN</td>\n",
       "      <td>NaN</td>\n",
       "      <td>NaN</td>\n",
       "      <td>Russian Federation</td>\n",
       "      <td>NaN</td>\n",
       "      <td>...</td>\n",
       "      <td>Neither easy nor difficult</td>\n",
       "      <td>Appropriate in length</td>\n",
       "      <td>NaN</td>\n",
       "      <td>NaN</td>\n",
       "      <td>NaN</td>\n",
       "      <td>NaN</td>\n",
       "      <td>Somewhat more welcome now than last year</td>\n",
       "      <td>NaN</td>\n",
       "      <td>4</td>\n",
       "      <td>NaN</td>\n",
       "    </tr>\n",
       "    <tr>\n",
       "      <th>3</th>\n",
       "      <td>4</td>\n",
       "      <td>I am a developer by profession</td>\n",
       "      <td>Yes</td>\n",
       "      <td>25.0</td>\n",
       "      <td>18</td>\n",
       "      <td>NaN</td>\n",
       "      <td>NaN</td>\n",
       "      <td>NaN</td>\n",
       "      <td>Albania</td>\n",
       "      <td>Albanian lek</td>\n",
       "      <td>...</td>\n",
       "      <td>NaN</td>\n",
       "      <td>NaN</td>\n",
       "      <td>No</td>\n",
       "      <td>Computer science, computer engineering, or sof...</td>\n",
       "      <td>NaN</td>\n",
       "      <td>NaN</td>\n",
       "      <td>Somewhat less welcome now than last year</td>\n",
       "      <td>40.0</td>\n",
       "      <td>7</td>\n",
       "      <td>4</td>\n",
       "    </tr>\n",
       "    <tr>\n",
       "      <th>4</th>\n",
       "      <td>5</td>\n",
       "      <td>I used to be a developer by profession, but no...</td>\n",
       "      <td>Yes</td>\n",
       "      <td>31.0</td>\n",
       "      <td>16</td>\n",
       "      <td>NaN</td>\n",
       "      <td>NaN</td>\n",
       "      <td>NaN</td>\n",
       "      <td>United States</td>\n",
       "      <td>NaN</td>\n",
       "      <td>...</td>\n",
       "      <td>Easy</td>\n",
       "      <td>Too short</td>\n",
       "      <td>No</td>\n",
       "      <td>Computer science, computer engineering, or sof...</td>\n",
       "      <td>Django;Ruby on Rails</td>\n",
       "      <td>Ruby on Rails</td>\n",
       "      <td>Just as welcome now as I felt last year</td>\n",
       "      <td>NaN</td>\n",
       "      <td>15</td>\n",
       "      <td>8</td>\n",
       "    </tr>\n",
       "    <tr>\n",
       "      <th>...</th>\n",
       "      <td>...</td>\n",
       "      <td>...</td>\n",
       "      <td>...</td>\n",
       "      <td>...</td>\n",
       "      <td>...</td>\n",
       "      <td>...</td>\n",
       "      <td>...</td>\n",
       "      <td>...</td>\n",
       "      <td>...</td>\n",
       "      <td>...</td>\n",
       "      <td>...</td>\n",
       "      <td>...</td>\n",
       "      <td>...</td>\n",
       "      <td>...</td>\n",
       "      <td>...</td>\n",
       "      <td>...</td>\n",
       "      <td>...</td>\n",
       "      <td>...</td>\n",
       "      <td>...</td>\n",
       "      <td>...</td>\n",
       "      <td>...</td>\n",
       "    </tr>\n",
       "    <tr>\n",
       "      <th>64456</th>\n",
       "      <td>64858</td>\n",
       "      <td>NaN</td>\n",
       "      <td>Yes</td>\n",
       "      <td>NaN</td>\n",
       "      <td>16</td>\n",
       "      <td>NaN</td>\n",
       "      <td>NaN</td>\n",
       "      <td>NaN</td>\n",
       "      <td>United States</td>\n",
       "      <td>NaN</td>\n",
       "      <td>...</td>\n",
       "      <td>NaN</td>\n",
       "      <td>NaN</td>\n",
       "      <td>NaN</td>\n",
       "      <td>Computer science, computer engineering, or sof...</td>\n",
       "      <td>NaN</td>\n",
       "      <td>NaN</td>\n",
       "      <td>NaN</td>\n",
       "      <td>NaN</td>\n",
       "      <td>10</td>\n",
       "      <td>Less than 1 year</td>\n",
       "    </tr>\n",
       "    <tr>\n",
       "      <th>64457</th>\n",
       "      <td>64867</td>\n",
       "      <td>NaN</td>\n",
       "      <td>Yes</td>\n",
       "      <td>NaN</td>\n",
       "      <td>NaN</td>\n",
       "      <td>NaN</td>\n",
       "      <td>NaN</td>\n",
       "      <td>NaN</td>\n",
       "      <td>Morocco</td>\n",
       "      <td>NaN</td>\n",
       "      <td>...</td>\n",
       "      <td>NaN</td>\n",
       "      <td>NaN</td>\n",
       "      <td>NaN</td>\n",
       "      <td>NaN</td>\n",
       "      <td>NaN</td>\n",
       "      <td>NaN</td>\n",
       "      <td>NaN</td>\n",
       "      <td>NaN</td>\n",
       "      <td>NaN</td>\n",
       "      <td>NaN</td>\n",
       "    </tr>\n",
       "    <tr>\n",
       "      <th>64458</th>\n",
       "      <td>64898</td>\n",
       "      <td>NaN</td>\n",
       "      <td>Yes</td>\n",
       "      <td>NaN</td>\n",
       "      <td>NaN</td>\n",
       "      <td>NaN</td>\n",
       "      <td>NaN</td>\n",
       "      <td>NaN</td>\n",
       "      <td>Viet Nam</td>\n",
       "      <td>NaN</td>\n",
       "      <td>...</td>\n",
       "      <td>NaN</td>\n",
       "      <td>NaN</td>\n",
       "      <td>NaN</td>\n",
       "      <td>NaN</td>\n",
       "      <td>NaN</td>\n",
       "      <td>NaN</td>\n",
       "      <td>NaN</td>\n",
       "      <td>NaN</td>\n",
       "      <td>NaN</td>\n",
       "      <td>NaN</td>\n",
       "    </tr>\n",
       "    <tr>\n",
       "      <th>64459</th>\n",
       "      <td>64925</td>\n",
       "      <td>NaN</td>\n",
       "      <td>Yes</td>\n",
       "      <td>NaN</td>\n",
       "      <td>NaN</td>\n",
       "      <td>NaN</td>\n",
       "      <td>NaN</td>\n",
       "      <td>NaN</td>\n",
       "      <td>Poland</td>\n",
       "      <td>NaN</td>\n",
       "      <td>...</td>\n",
       "      <td>NaN</td>\n",
       "      <td>NaN</td>\n",
       "      <td>NaN</td>\n",
       "      <td>NaN</td>\n",
       "      <td>Angular;Angular.js;React.js</td>\n",
       "      <td>NaN</td>\n",
       "      <td>NaN</td>\n",
       "      <td>NaN</td>\n",
       "      <td>NaN</td>\n",
       "      <td>NaN</td>\n",
       "    </tr>\n",
       "    <tr>\n",
       "      <th>64460</th>\n",
       "      <td>65112</td>\n",
       "      <td>NaN</td>\n",
       "      <td>Yes</td>\n",
       "      <td>NaN</td>\n",
       "      <td>NaN</td>\n",
       "      <td>NaN</td>\n",
       "      <td>NaN</td>\n",
       "      <td>NaN</td>\n",
       "      <td>Spain</td>\n",
       "      <td>NaN</td>\n",
       "      <td>...</td>\n",
       "      <td>NaN</td>\n",
       "      <td>NaN</td>\n",
       "      <td>NaN</td>\n",
       "      <td>Computer science, computer engineering, or sof...</td>\n",
       "      <td>ASP.NET Core;jQuery</td>\n",
       "      <td>Angular;Angular.js;ASP.NET Core;jQuery</td>\n",
       "      <td>NaN</td>\n",
       "      <td>NaN</td>\n",
       "      <td>NaN</td>\n",
       "      <td>NaN</td>\n",
       "    </tr>\n",
       "  </tbody>\n",
       "</table>\n",
       "<p>64461 rows × 61 columns</p>\n",
       "</div>"
      ],
      "text/plain": [
       "       Respondent                                         MainBranch Hobbyist  \\\n",
       "0               1                     I am a developer by profession      Yes   \n",
       "1               2                     I am a developer by profession       No   \n",
       "2               3                        I code primarily as a hobby      Yes   \n",
       "3               4                     I am a developer by profession      Yes   \n",
       "4               5  I used to be a developer by profession, but no...      Yes   \n",
       "...           ...                                                ...      ...   \n",
       "64456       64858                                                NaN      Yes   \n",
       "64457       64867                                                NaN      Yes   \n",
       "64458       64898                                                NaN      Yes   \n",
       "64459       64925                                                NaN      Yes   \n",
       "64460       65112                                                NaN      Yes   \n",
       "\n",
       "        Age Age1stCode CompFreq  CompTotal  ConvertedComp             Country  \\\n",
       "0       NaN         13  Monthly        NaN            NaN             Germany   \n",
       "1       NaN         19      NaN        NaN            NaN      United Kingdom   \n",
       "2       NaN         15      NaN        NaN            NaN  Russian Federation   \n",
       "3      25.0         18      NaN        NaN            NaN             Albania   \n",
       "4      31.0         16      NaN        NaN            NaN       United States   \n",
       "...     ...        ...      ...        ...            ...                 ...   \n",
       "64456   NaN         16      NaN        NaN            NaN       United States   \n",
       "64457   NaN        NaN      NaN        NaN            NaN             Morocco   \n",
       "64458   NaN        NaN      NaN        NaN            NaN            Viet Nam   \n",
       "64459   NaN        NaN      NaN        NaN            NaN              Poland   \n",
       "64460   NaN        NaN      NaN        NaN            NaN               Spain   \n",
       "\n",
       "         CurrencyDesc  ...                  SurveyEase           SurveyLength  \\\n",
       "0       European Euro  ...  Neither easy nor difficult  Appropriate in length   \n",
       "1      Pound sterling  ...                         NaN                    NaN   \n",
       "2                 NaN  ...  Neither easy nor difficult  Appropriate in length   \n",
       "3        Albanian lek  ...                         NaN                    NaN   \n",
       "4                 NaN  ...                        Easy              Too short   \n",
       "...               ...  ...                         ...                    ...   \n",
       "64456             NaN  ...                         NaN                    NaN   \n",
       "64457             NaN  ...                         NaN                    NaN   \n",
       "64458             NaN  ...                         NaN                    NaN   \n",
       "64459             NaN  ...                         NaN                    NaN   \n",
       "64460             NaN  ...                         NaN                    NaN   \n",
       "\n",
       "      Trans                                     UndergradMajor  \\\n",
       "0        No  Computer science, computer engineering, or sof...   \n",
       "1       NaN  Computer science, computer engineering, or sof...   \n",
       "2       NaN                                                NaN   \n",
       "3        No  Computer science, computer engineering, or sof...   \n",
       "4        No  Computer science, computer engineering, or sof...   \n",
       "...     ...                                                ...   \n",
       "64456   NaN  Computer science, computer engineering, or sof...   \n",
       "64457   NaN                                                NaN   \n",
       "64458   NaN                                                NaN   \n",
       "64459   NaN                                                NaN   \n",
       "64460   NaN  Computer science, computer engineering, or sof...   \n",
       "\n",
       "            WebframeDesireNextYear                      WebframeWorkedWith  \\\n",
       "0                     ASP.NET Core                    ASP.NET;ASP.NET Core   \n",
       "1                              NaN                                     NaN   \n",
       "2                              NaN                                     NaN   \n",
       "3                              NaN                                     NaN   \n",
       "4             Django;Ruby on Rails                           Ruby on Rails   \n",
       "...                            ...                                     ...   \n",
       "64456                          NaN                                     NaN   \n",
       "64457                          NaN                                     NaN   \n",
       "64458                          NaN                                     NaN   \n",
       "64459  Angular;Angular.js;React.js                                     NaN   \n",
       "64460          ASP.NET Core;jQuery  Angular;Angular.js;ASP.NET Core;jQuery   \n",
       "\n",
       "                                  WelcomeChange WorkWeekHrs YearsCode  \\\n",
       "0       Just as welcome now as I felt last year        50.0        36   \n",
       "1      Somewhat more welcome now than last year         NaN         7   \n",
       "2      Somewhat more welcome now than last year         NaN         4   \n",
       "3      Somewhat less welcome now than last year        40.0         7   \n",
       "4       Just as welcome now as I felt last year         NaN        15   \n",
       "...                                         ...         ...       ...   \n",
       "64456                                       NaN         NaN        10   \n",
       "64457                                       NaN         NaN       NaN   \n",
       "64458                                       NaN         NaN       NaN   \n",
       "64459                                       NaN         NaN       NaN   \n",
       "64460                                       NaN         NaN       NaN   \n",
       "\n",
       "           YearsCodePro  \n",
       "0                    27  \n",
       "1                     4  \n",
       "2                   NaN  \n",
       "3                     4  \n",
       "4                     8  \n",
       "...                 ...  \n",
       "64456  Less than 1 year  \n",
       "64457               NaN  \n",
       "64458               NaN  \n",
       "64459               NaN  \n",
       "64460               NaN  \n",
       "\n",
       "[64461 rows x 61 columns]"
      ]
     },
     "execution_count": 2,
     "metadata": {},
     "output_type": "execute_result"
    }
   ],
   "source": [
    "survey_raw_df = pd.read_csv(\"survey_results_public.csv\")\n",
    "survey_raw_df"
   ]
  },
  {
   "cell_type": "markdown",
   "id": "0fddd8ce",
   "metadata": {},
   "source": [
    "The dataset contains over 64,000 responses to 60 questions (although many questions are optional). The responses have been anonymized to remove personally identifiable information, and each respondent has been assigned a randomized respondent ID.\n",
    "\n",
    "Let's view the list of columns in the data frame. "
   ]
  },
  {
   "cell_type": "code",
   "execution_count": 3,
   "id": "03a7a40e",
   "metadata": {},
   "outputs": [
    {
     "data": {
      "text/plain": [
       "Index(['Respondent', 'MainBranch', 'Hobbyist', 'Age', 'Age1stCode', 'CompFreq',\n",
       "       'CompTotal', 'ConvertedComp', 'Country', 'CurrencyDesc',\n",
       "       'CurrencySymbol', 'DatabaseDesireNextYear', 'DatabaseWorkedWith',\n",
       "       'DevType', 'EdLevel', 'Employment', 'Ethnicity', 'Gender', 'JobFactors',\n",
       "       'JobSat', 'JobSeek', 'LanguageDesireNextYear', 'LanguageWorkedWith',\n",
       "       'MiscTechDesireNextYear', 'MiscTechWorkedWith',\n",
       "       'NEWCollabToolsDesireNextYear', 'NEWCollabToolsWorkedWith', 'NEWDevOps',\n",
       "       'NEWDevOpsImpt', 'NEWEdImpt', 'NEWJobHunt', 'NEWJobHuntResearch',\n",
       "       'NEWLearn', 'NEWOffTopic', 'NEWOnboardGood', 'NEWOtherComms',\n",
       "       'NEWOvertime', 'NEWPurchaseResearch', 'NEWPurpleLink', 'NEWSOSites',\n",
       "       'NEWStuck', 'OpSys', 'OrgSize', 'PlatformDesireNextYear',\n",
       "       'PlatformWorkedWith', 'PurchaseWhat', 'Sexuality', 'SOAccount',\n",
       "       'SOComm', 'SOPartFreq', 'SOVisitFreq', 'SurveyEase', 'SurveyLength',\n",
       "       'Trans', 'UndergradMajor', 'WebframeDesireNextYear',\n",
       "       'WebframeWorkedWith', 'WelcomeChange', 'WorkWeekHrs', 'YearsCode',\n",
       "       'YearsCodePro'],\n",
       "      dtype='object')"
      ]
     },
     "execution_count": 3,
     "metadata": {},
     "output_type": "execute_result"
    }
   ],
   "source": [
    "survey_raw_df.columns"
   ]
  },
  {
   "cell_type": "markdown",
   "id": "563452f5",
   "metadata": {},
   "source": [
    "It appears that shortcodes for questions have been used as column names. \n",
    "\n",
    "We can refer to the schema file to see the full text of each question. The schema file contains only two columns: `Column` and `QuestionText`. We can load it as Pandas Series with `Column` as the index and the  `QuestionText` as the value."
   ]
  },
  {
   "cell_type": "code",
   "execution_count": 4,
   "id": "701a2eb7",
   "metadata": {},
   "outputs": [
    {
     "data": {
      "text/plain": [
       "Column\n",
       "Respondent            Randomized respondent ID number (not in order ...\n",
       "MainBranch            Which of the following options best describes ...\n",
       "Hobbyist                                        Do you code as a hobby?\n",
       "Age                   What is your age (in years)? If you prefer not...\n",
       "Age1stCode            At what age did you write your first line of c...\n",
       "                                            ...                        \n",
       "WebframeWorkedWith    Which web frameworks have you done extensive d...\n",
       "WelcomeChange         Compared to last year, how welcome do you feel...\n",
       "WorkWeekHrs           On average, how many hours per week do you wor...\n",
       "YearsCode             Including any education, how many years have y...\n",
       "YearsCodePro          NOT including education, how many years have y...\n",
       "Name: QuestionText, Length: 61, dtype: object"
      ]
     },
     "execution_count": 4,
     "metadata": {},
     "output_type": "execute_result"
    }
   ],
   "source": [
    "schema_fname = 'survey_results_schema.csv'\n",
    "schema_raw = pd.read_csv(schema_fname, index_col='Column').QuestionText\n",
    "schema_raw"
   ]
  },
  {
   "cell_type": "code",
   "execution_count": 5,
   "id": "340947c4",
   "metadata": {},
   "outputs": [
    {
     "data": {
      "text/plain": [
       "'NOT including education, how many years have you coded professionally (as a part of your work)?'"
      ]
     },
     "execution_count": 5,
     "metadata": {},
     "output_type": "execute_result"
    }
   ],
   "source": [
    "schema_raw['YearsCodePro']"
   ]
  },
  {
   "cell_type": "code",
   "execution_count": 6,
   "id": "4c28202a",
   "metadata": {},
   "outputs": [
    {
     "data": {
      "text/plain": [
       "'Randomized respondent ID number (not in order of survey response time)'"
      ]
     },
     "execution_count": 6,
     "metadata": {},
     "output_type": "execute_result"
    }
   ],
   "source": [
    "schema_raw[\"Respondent\"]"
   ]
  },
  {
   "cell_type": "markdown",
   "id": "52e11d05",
   "metadata": {},
   "source": [
    "## Data Preparation & Cleaning\n",
    "\n",
    "While the survey responses contain a wealth of information, we'll limit our analysis to the following areas:\n",
    "\n",
    "- Demographics of the survey respondents and the global programming community\n",
    "- Distribution of programming skills, experience, and preferences\n",
    "- Employment-related information, preferences, and opinions\n",
    "\n",
    "Let's select a subset of columns with the relevant data for our analysis."
   ]
  },
  {
   "cell_type": "code",
   "execution_count": 7,
   "id": "28a46865",
   "metadata": {},
   "outputs": [],
   "source": [
    "selected_columns = [\n",
    "    # Demographics\n",
    "    'Country',\n",
    "    'Age',\n",
    "    'Gender',\n",
    "    'EdLevel',\n",
    "    'UndergradMajor',\n",
    "    # Programming experience\n",
    "    'Hobbyist',\n",
    "    'Age1stCode',\n",
    "    'YearsCode',\n",
    "    'YearsCodePro',\n",
    "    'LanguageWorkedWith',\n",
    "    'LanguageDesireNextYear',\n",
    "    'NEWLearn',\n",
    "    'NEWStuck',\n",
    "    # Employment\n",
    "    'Employment',\n",
    "    'DevType',\n",
    "    'WorkWeekHrs',\n",
    "    'JobSat',\n",
    "    'JobFactors',\n",
    "    'NEWOvertime',\n",
    "    'NEWEdImpt'\n",
    "]"
   ]
  },
  {
   "cell_type": "code",
   "execution_count": 8,
   "id": "0349cfe0",
   "metadata": {},
   "outputs": [
    {
     "data": {
      "text/plain": [
       "20"
      ]
     },
     "execution_count": 8,
     "metadata": {},
     "output_type": "execute_result"
    }
   ],
   "source": [
    "len(selected_columns)"
   ]
  },
  {
   "cell_type": "markdown",
   "id": "bfaf8292",
   "metadata": {},
   "source": [
    "Let's extract a copy of the data from these columns into a new data frame `survey_df`. We can continue to modify further without affecting the original data frame."
   ]
  },
  {
   "cell_type": "code",
   "execution_count": 9,
   "id": "c626ddc4",
   "metadata": {},
   "outputs": [],
   "source": [
    "survey_df = survey_raw_df[selected_columns].copy()"
   ]
  },
  {
   "cell_type": "code",
   "execution_count": 10,
   "id": "836ffb01",
   "metadata": {},
   "outputs": [],
   "source": [
    "schema = schema_raw[selected_columns]"
   ]
  },
  {
   "cell_type": "code",
   "execution_count": 11,
   "id": "413daad1",
   "metadata": {},
   "outputs": [
    {
     "data": {
      "text/plain": [
       "(64461, 20)"
      ]
     },
     "execution_count": 11,
     "metadata": {},
     "output_type": "execute_result"
    }
   ],
   "source": [
    "survey_df.shape"
   ]
  },
  {
   "cell_type": "code",
   "execution_count": 12,
   "id": "320a286f",
   "metadata": {},
   "outputs": [
    {
     "name": "stdout",
     "output_type": "stream",
     "text": [
      "<class 'pandas.core.frame.DataFrame'>\n",
      "RangeIndex: 64461 entries, 0 to 64460\n",
      "Data columns (total 20 columns):\n",
      " #   Column                  Non-Null Count  Dtype  \n",
      "---  ------                  --------------  -----  \n",
      " 0   Country                 64072 non-null  object \n",
      " 1   Age                     45446 non-null  float64\n",
      " 2   Gender                  50557 non-null  object \n",
      " 3   EdLevel                 57431 non-null  object \n",
      " 4   UndergradMajor          50995 non-null  object \n",
      " 5   Hobbyist                64416 non-null  object \n",
      " 6   Age1stCode              57900 non-null  object \n",
      " 7   YearsCode               57684 non-null  object \n",
      " 8   YearsCodePro            46349 non-null  object \n",
      " 9   LanguageWorkedWith      57378 non-null  object \n",
      " 10  LanguageDesireNextYear  54113 non-null  object \n",
      " 11  NEWLearn                56156 non-null  object \n",
      " 12  NEWStuck                54983 non-null  object \n",
      " 13  Employment              63854 non-null  object \n",
      " 14  DevType                 49370 non-null  object \n",
      " 15  WorkWeekHrs             41151 non-null  float64\n",
      " 16  JobSat                  45194 non-null  object \n",
      " 17  JobFactors              49349 non-null  object \n",
      " 18  NEWOvertime             43231 non-null  object \n",
      " 19  NEWEdImpt               48465 non-null  object \n",
      "dtypes: float64(2), object(18)\n",
      "memory usage: 9.8+ MB\n"
     ]
    }
   ],
   "source": [
    "survey_df.info()"
   ]
  },
  {
   "cell_type": "markdown",
   "id": "d1e2cd98",
   "metadata": {},
   "source": [
    "to make our analysis easier, let's convert some other columns into numeric data types while ignoring any non-numeric value. The non-numeric are converted to NaN."
   ]
  },
  {
   "cell_type": "code",
   "execution_count": 13,
   "id": "98dffeb4",
   "metadata": {},
   "outputs": [],
   "source": [
    "survey_df['Age1stCode'] = pd.to_numeric(survey_df.Age1stCode, errors='coerce')\n",
    "survey_df['YearsCode'] = pd.to_numeric(survey_df.YearsCode, errors='coerce')\n",
    "survey_df['YearsCodePro'] = pd.to_numeric(survey_df.YearsCodePro, errors='coerce')"
   ]
  },
  {
   "cell_type": "code",
   "execution_count": 14,
   "id": "3762ef4b",
   "metadata": {},
   "outputs": [
    {
     "data": {
      "text/html": [
       "<div>\n",
       "<style scoped>\n",
       "    .dataframe tbody tr th:only-of-type {\n",
       "        vertical-align: middle;\n",
       "    }\n",
       "\n",
       "    .dataframe tbody tr th {\n",
       "        vertical-align: top;\n",
       "    }\n",
       "\n",
       "    .dataframe thead th {\n",
       "        text-align: right;\n",
       "    }\n",
       "</style>\n",
       "<table border=\"1\" class=\"dataframe\">\n",
       "  <thead>\n",
       "    <tr style=\"text-align: right;\">\n",
       "      <th></th>\n",
       "      <th>count</th>\n",
       "      <th>mean</th>\n",
       "      <th>std</th>\n",
       "      <th>min</th>\n",
       "      <th>25%</th>\n",
       "      <th>50%</th>\n",
       "      <th>75%</th>\n",
       "      <th>max</th>\n",
       "    </tr>\n",
       "  </thead>\n",
       "  <tbody>\n",
       "    <tr>\n",
       "      <th>Age</th>\n",
       "      <td>45446.0</td>\n",
       "      <td>30.834111</td>\n",
       "      <td>9.585392</td>\n",
       "      <td>1.0</td>\n",
       "      <td>24.0</td>\n",
       "      <td>29.0</td>\n",
       "      <td>35.0</td>\n",
       "      <td>279.0</td>\n",
       "    </tr>\n",
       "    <tr>\n",
       "      <th>Age1stCode</th>\n",
       "      <td>57473.0</td>\n",
       "      <td>15.476572</td>\n",
       "      <td>5.114081</td>\n",
       "      <td>5.0</td>\n",
       "      <td>12.0</td>\n",
       "      <td>15.0</td>\n",
       "      <td>18.0</td>\n",
       "      <td>85.0</td>\n",
       "    </tr>\n",
       "    <tr>\n",
       "      <th>YearsCode</th>\n",
       "      <td>56784.0</td>\n",
       "      <td>12.782051</td>\n",
       "      <td>9.490657</td>\n",
       "      <td>1.0</td>\n",
       "      <td>6.0</td>\n",
       "      <td>10.0</td>\n",
       "      <td>17.0</td>\n",
       "      <td>50.0</td>\n",
       "    </tr>\n",
       "    <tr>\n",
       "      <th>YearsCodePro</th>\n",
       "      <td>44133.0</td>\n",
       "      <td>8.869667</td>\n",
       "      <td>7.759961</td>\n",
       "      <td>1.0</td>\n",
       "      <td>3.0</td>\n",
       "      <td>6.0</td>\n",
       "      <td>12.0</td>\n",
       "      <td>50.0</td>\n",
       "    </tr>\n",
       "    <tr>\n",
       "      <th>WorkWeekHrs</th>\n",
       "      <td>41151.0</td>\n",
       "      <td>40.782174</td>\n",
       "      <td>17.816383</td>\n",
       "      <td>1.0</td>\n",
       "      <td>40.0</td>\n",
       "      <td>40.0</td>\n",
       "      <td>44.0</td>\n",
       "      <td>475.0</td>\n",
       "    </tr>\n",
       "  </tbody>\n",
       "</table>\n",
       "</div>"
      ],
      "text/plain": [
       "                count       mean        std  min   25%   50%   75%    max\n",
       "Age           45446.0  30.834111   9.585392  1.0  24.0  29.0  35.0  279.0\n",
       "Age1stCode    57473.0  15.476572   5.114081  5.0  12.0  15.0  18.0   85.0\n",
       "YearsCode     56784.0  12.782051   9.490657  1.0   6.0  10.0  17.0   50.0\n",
       "YearsCodePro  44133.0   8.869667   7.759961  1.0   3.0   6.0  12.0   50.0\n",
       "WorkWeekHrs   41151.0  40.782174  17.816383  1.0  40.0  40.0  44.0  475.0"
      ]
     },
     "execution_count": 14,
     "metadata": {},
     "output_type": "execute_result"
    }
   ],
   "source": [
    "survey_df.describe().T"
   ]
  },
  {
   "cell_type": "markdown",
   "id": "4ec4f72a",
   "metadata": {},
   "source": [
    "There seems to be a problem with the age column, as the minimum value is 1 and the maximum is 279. This is a common issue with surveys: responses may contain invalid values due to accidental or intentional errors while responding. A simple fix would be to ignore the rows where the age is higher than 100 years or lower than 10 years as invalid survey responses. We can do this using the `.drop` method"
   ]
  },
  {
   "cell_type": "code",
   "execution_count": 15,
   "id": "c5ac135d",
   "metadata": {},
   "outputs": [],
   "source": [
    "#filtering using .drop()\n",
    "survey_df.drop(survey_df[survey_df.Age<10].index,inplace=True)\n",
    "survey_df.drop(survey_df[survey_df.Age>100].index,inplace=True)\n",
    "survey_df.drop(survey_df[survey_df.WorkWeekHrs>140].index,inplace=True)"
   ]
  },
  {
   "cell_type": "code",
   "execution_count": 16,
   "id": "2cd2b2da",
   "metadata": {},
   "outputs": [
    {
     "data": {
      "text/plain": [
       "Man                                                            45895\n",
       "Woman                                                           3835\n",
       "Non-binary, genderqueer, or gender non-conforming                385\n",
       "Man;Non-binary, genderqueer, or gender non-conforming            121\n",
       "Woman;Non-binary, genderqueer, or gender non-conforming           92\n",
       "Woman;Man                                                         73\n",
       "Woman;Man;Non-binary, genderqueer, or gender non-conforming       25\n",
       "Name: Gender, dtype: int64"
      ]
     },
     "execution_count": 16,
     "metadata": {},
     "output_type": "execute_result"
    }
   ],
   "source": [
    "survey_df[\"Gender\"].value_counts()"
   ]
  },
  {
   "cell_type": "code",
   "execution_count": 17,
   "id": "cbdfa72c",
   "metadata": {},
   "outputs": [],
   "source": [
    "import numpy as np"
   ]
  },
  {
   "cell_type": "code",
   "execution_count": 18,
   "id": "1a81ce6d",
   "metadata": {},
   "outputs": [],
   "source": [
    "survey_df.where(~(survey_df.Gender.str.contains(';', na=False)), np.nan, inplace=True)"
   ]
  },
  {
   "cell_type": "code",
   "execution_count": 19,
   "id": "662e5359",
   "metadata": {
    "scrolled": true
   },
   "outputs": [
    {
     "data": {
      "text/html": [
       "<div>\n",
       "<style scoped>\n",
       "    .dataframe tbody tr th:only-of-type {\n",
       "        vertical-align: middle;\n",
       "    }\n",
       "\n",
       "    .dataframe tbody tr th {\n",
       "        vertical-align: top;\n",
       "    }\n",
       "\n",
       "    .dataframe thead th {\n",
       "        text-align: right;\n",
       "    }\n",
       "</style>\n",
       "<table border=\"1\" class=\"dataframe\">\n",
       "  <thead>\n",
       "    <tr style=\"text-align: right;\">\n",
       "      <th></th>\n",
       "      <th>Country</th>\n",
       "      <th>Age</th>\n",
       "      <th>Gender</th>\n",
       "      <th>EdLevel</th>\n",
       "      <th>UndergradMajor</th>\n",
       "      <th>Hobbyist</th>\n",
       "      <th>Age1stCode</th>\n",
       "      <th>YearsCode</th>\n",
       "      <th>YearsCodePro</th>\n",
       "      <th>LanguageWorkedWith</th>\n",
       "      <th>LanguageDesireNextYear</th>\n",
       "      <th>NEWLearn</th>\n",
       "      <th>NEWStuck</th>\n",
       "      <th>Employment</th>\n",
       "      <th>DevType</th>\n",
       "      <th>WorkWeekHrs</th>\n",
       "      <th>JobSat</th>\n",
       "      <th>JobFactors</th>\n",
       "      <th>NEWOvertime</th>\n",
       "      <th>NEWEdImpt</th>\n",
       "    </tr>\n",
       "  </thead>\n",
       "  <tbody>\n",
       "    <tr>\n",
       "      <th>12777</th>\n",
       "      <td>Brazil</td>\n",
       "      <td>43.0</td>\n",
       "      <td>Man</td>\n",
       "      <td>Master’s degree (M.A., M.S., M.Eng., MBA, etc.)</td>\n",
       "      <td>Computer science, computer engineering, or sof...</td>\n",
       "      <td>Yes</td>\n",
       "      <td>13.0</td>\n",
       "      <td>27.0</td>\n",
       "      <td>20.0</td>\n",
       "      <td>Bash/Shell/PowerShell;Java;JavaScript;SQL</td>\n",
       "      <td>NaN</td>\n",
       "      <td>Once every few years</td>\n",
       "      <td>Call a coworker or friend;Visit Stack Overflow...</td>\n",
       "      <td>Employed full-time</td>\n",
       "      <td>Developer, back-end</td>\n",
       "      <td>40.0</td>\n",
       "      <td>Neither satisfied nor dissatisfied</td>\n",
       "      <td>Flex time or a flexible schedule;Remote work o...</td>\n",
       "      <td>Sometimes: 1-2 days per month but less than we...</td>\n",
       "      <td>Very important</td>\n",
       "    </tr>\n",
       "    <tr>\n",
       "      <th>2071</th>\n",
       "      <td>Germany</td>\n",
       "      <td>27.0</td>\n",
       "      <td>Man</td>\n",
       "      <td>Bachelor’s degree (B.A., B.S., B.Eng., etc.)</td>\n",
       "      <td>Computer science, computer engineering, or sof...</td>\n",
       "      <td>Yes</td>\n",
       "      <td>14.0</td>\n",
       "      <td>13.0</td>\n",
       "      <td>4.0</td>\n",
       "      <td>Go;JavaScript</td>\n",
       "      <td>Go;JavaScript</td>\n",
       "      <td>Every few months</td>\n",
       "      <td>Meditate;Visit Stack Overflow;Go for a walk or...</td>\n",
       "      <td>Employed full-time</td>\n",
       "      <td>Developer, back-end</td>\n",
       "      <td>40.0</td>\n",
       "      <td>Slightly satisfied</td>\n",
       "      <td>Industry that I’d be working in;Languages, fra...</td>\n",
       "      <td>Rarely: 1-2 days per year or less</td>\n",
       "      <td>Fairly important</td>\n",
       "    </tr>\n",
       "    <tr>\n",
       "      <th>21826</th>\n",
       "      <td>France</td>\n",
       "      <td>28.0</td>\n",
       "      <td>Man</td>\n",
       "      <td>Master’s degree (M.A., M.S., M.Eng., MBA, etc.)</td>\n",
       "      <td>Another engineering discipline (such as civil,...</td>\n",
       "      <td>Yes</td>\n",
       "      <td>15.0</td>\n",
       "      <td>5.0</td>\n",
       "      <td>NaN</td>\n",
       "      <td>C;Python</td>\n",
       "      <td>Python;VBA</td>\n",
       "      <td>Once a decade</td>\n",
       "      <td>Call a coworker or friend;Visit Stack Overflow...</td>\n",
       "      <td>Employed full-time</td>\n",
       "      <td>NaN</td>\n",
       "      <td>NaN</td>\n",
       "      <td>NaN</td>\n",
       "      <td>NaN</td>\n",
       "      <td>NaN</td>\n",
       "      <td>Somewhat important</td>\n",
       "    </tr>\n",
       "    <tr>\n",
       "      <th>14066</th>\n",
       "      <td>United States</td>\n",
       "      <td>27.0</td>\n",
       "      <td>Man</td>\n",
       "      <td>Bachelor’s degree (B.A., B.S., B.Eng., etc.)</td>\n",
       "      <td>Computer science, computer engineering, or sof...</td>\n",
       "      <td>Yes</td>\n",
       "      <td>9.0</td>\n",
       "      <td>15.0</td>\n",
       "      <td>7.0</td>\n",
       "      <td>Bash/Shell/PowerShell;HTML/CSS;Java;JavaScript...</td>\n",
       "      <td>Bash/Shell/PowerShell;HTML/CSS;JavaScript;PHP;...</td>\n",
       "      <td>Once a year</td>\n",
       "      <td>Visit Stack Overflow;Go for a walk or other ph...</td>\n",
       "      <td>Employed full-time</td>\n",
       "      <td>Developer, back-end;Developer, front-end;Devel...</td>\n",
       "      <td>30.0</td>\n",
       "      <td>Slightly satisfied</td>\n",
       "      <td>Industry that I’d be working in;Specific depar...</td>\n",
       "      <td>Rarely: 1-2 days per year or less</td>\n",
       "      <td>Fairly important</td>\n",
       "    </tr>\n",
       "    <tr>\n",
       "      <th>36869</th>\n",
       "      <td>Malaysia</td>\n",
       "      <td>NaN</td>\n",
       "      <td>NaN</td>\n",
       "      <td>Master’s degree (M.A., M.S., M.Eng., MBA, etc.)</td>\n",
       "      <td>NaN</td>\n",
       "      <td>Yes</td>\n",
       "      <td>NaN</td>\n",
       "      <td>NaN</td>\n",
       "      <td>NaN</td>\n",
       "      <td>HTML/CSS;Java;JavaScript;Kotlin;Objective-C;PH...</td>\n",
       "      <td>HTML/CSS;Java;JavaScript;Kotlin;Objective-C;PH...</td>\n",
       "      <td>Every few months</td>\n",
       "      <td>Call a coworker or friend;Visit Stack Overflow...</td>\n",
       "      <td>Employed full-time</td>\n",
       "      <td>NaN</td>\n",
       "      <td>NaN</td>\n",
       "      <td>NaN</td>\n",
       "      <td>NaN</td>\n",
       "      <td>NaN</td>\n",
       "      <td>NaN</td>\n",
       "    </tr>\n",
       "    <tr>\n",
       "      <th>44740</th>\n",
       "      <td>United States</td>\n",
       "      <td>30.0</td>\n",
       "      <td>Man</td>\n",
       "      <td>Bachelor’s degree (B.A., B.S., B.Eng., etc.)</td>\n",
       "      <td>A natural science (such as biology, chemistry,...</td>\n",
       "      <td>Yes</td>\n",
       "      <td>15.0</td>\n",
       "      <td>10.0</td>\n",
       "      <td>6.0</td>\n",
       "      <td>Bash/Shell/PowerShell;HTML/CSS;Java;JavaScript...</td>\n",
       "      <td>Go;Python;Scala;SQL</td>\n",
       "      <td>Every few months</td>\n",
       "      <td>Play games;Visit Stack Overflow;Watch help / t...</td>\n",
       "      <td>Employed full-time</td>\n",
       "      <td>Developer, back-end;Developer, full-stack;Engi...</td>\n",
       "      <td>45.0</td>\n",
       "      <td>Very satisfied</td>\n",
       "      <td>Diversity of the company or organization;Flex ...</td>\n",
       "      <td>Often: 1-2 days per week or more</td>\n",
       "      <td>Fairly important</td>\n",
       "    </tr>\n",
       "    <tr>\n",
       "      <th>6192</th>\n",
       "      <td>India</td>\n",
       "      <td>27.0</td>\n",
       "      <td>Man</td>\n",
       "      <td>Bachelor’s degree (B.A., B.S., B.Eng., etc.)</td>\n",
       "      <td>Computer science, computer engineering, or sof...</td>\n",
       "      <td>No</td>\n",
       "      <td>18.0</td>\n",
       "      <td>9.0</td>\n",
       "      <td>5.0</td>\n",
       "      <td>Java;Kotlin</td>\n",
       "      <td>Dart;Go;Java;Kotlin;Python</td>\n",
       "      <td>Once a year</td>\n",
       "      <td>Visit Stack Overflow;Go for a walk or other ph...</td>\n",
       "      <td>Employed full-time</td>\n",
       "      <td>Developer, mobile</td>\n",
       "      <td>8.0</td>\n",
       "      <td>Very satisfied</td>\n",
       "      <td>Remote work options;Financial performance or f...</td>\n",
       "      <td>Sometimes: 1-2 days per month but less than we...</td>\n",
       "      <td>Fairly important</td>\n",
       "    </tr>\n",
       "    <tr>\n",
       "      <th>24693</th>\n",
       "      <td>Netherlands</td>\n",
       "      <td>29.0</td>\n",
       "      <td>Man</td>\n",
       "      <td>Secondary school (e.g. American high school, G...</td>\n",
       "      <td>NaN</td>\n",
       "      <td>Yes</td>\n",
       "      <td>26.0</td>\n",
       "      <td>3.0</td>\n",
       "      <td>3.0</td>\n",
       "      <td>HTML/CSS;JavaScript;PHP;SQL;TypeScript</td>\n",
       "      <td>Bash/Shell/PowerShell;Go;HTML/CSS;JavaScript;K...</td>\n",
       "      <td>Once every few years</td>\n",
       "      <td>Call a coworker or friend;Visit Stack Overflow...</td>\n",
       "      <td>Employed full-time</td>\n",
       "      <td>Developer, front-end;Developer, full-stack</td>\n",
       "      <td>36.0</td>\n",
       "      <td>Slightly satisfied</td>\n",
       "      <td>Languages, frameworks, and other technologies ...</td>\n",
       "      <td>Occasionally: 1-2 days per quarter but less th...</td>\n",
       "      <td>Not at all important/not necessary</td>\n",
       "    </tr>\n",
       "    <tr>\n",
       "      <th>13219</th>\n",
       "      <td>Ukraine</td>\n",
       "      <td>19.0</td>\n",
       "      <td>Woman</td>\n",
       "      <td>Secondary school (e.g. American high school, G...</td>\n",
       "      <td>NaN</td>\n",
       "      <td>No</td>\n",
       "      <td>14.0</td>\n",
       "      <td>5.0</td>\n",
       "      <td>NaN</td>\n",
       "      <td>C;C++;HTML/CSS;JavaScript;Python;R;SQL</td>\n",
       "      <td>C#;Go;Python</td>\n",
       "      <td>Every few months</td>\n",
       "      <td>Call a coworker or friend;Visit Stack Overflow...</td>\n",
       "      <td>Employed full-time</td>\n",
       "      <td>Developer, back-end</td>\n",
       "      <td>40.0</td>\n",
       "      <td>Very satisfied</td>\n",
       "      <td>Remote work options;Office environment or comp...</td>\n",
       "      <td>Occasionally: 1-2 days per quarter but less th...</td>\n",
       "      <td>Not at all important/not necessary</td>\n",
       "    </tr>\n",
       "    <tr>\n",
       "      <th>55833</th>\n",
       "      <td>Iraq</td>\n",
       "      <td>20.0</td>\n",
       "      <td>Man</td>\n",
       "      <td>Secondary school (e.g. American high school, G...</td>\n",
       "      <td>NaN</td>\n",
       "      <td>Yes</td>\n",
       "      <td>18.0</td>\n",
       "      <td>2.0</td>\n",
       "      <td>NaN</td>\n",
       "      <td>C#;HTML/CSS</td>\n",
       "      <td>C#;HTML/CSS</td>\n",
       "      <td>Every few months</td>\n",
       "      <td>Play games;Do other work and come back later</td>\n",
       "      <td>Student</td>\n",
       "      <td>NaN</td>\n",
       "      <td>NaN</td>\n",
       "      <td>NaN</td>\n",
       "      <td>Industry that I’d be working in;Flex time or a...</td>\n",
       "      <td>NaN</td>\n",
       "      <td>NaN</td>\n",
       "    </tr>\n",
       "  </tbody>\n",
       "</table>\n",
       "</div>"
      ],
      "text/plain": [
       "             Country   Age Gender  \\\n",
       "12777         Brazil  43.0    Man   \n",
       "2071         Germany  27.0    Man   \n",
       "21826         France  28.0    Man   \n",
       "14066  United States  27.0    Man   \n",
       "36869       Malaysia   NaN    NaN   \n",
       "44740  United States  30.0    Man   \n",
       "6192           India  27.0    Man   \n",
       "24693    Netherlands  29.0    Man   \n",
       "13219        Ukraine  19.0  Woman   \n",
       "55833           Iraq  20.0    Man   \n",
       "\n",
       "                                                 EdLevel  \\\n",
       "12777    Master’s degree (M.A., M.S., M.Eng., MBA, etc.)   \n",
       "2071        Bachelor’s degree (B.A., B.S., B.Eng., etc.)   \n",
       "21826    Master’s degree (M.A., M.S., M.Eng., MBA, etc.)   \n",
       "14066       Bachelor’s degree (B.A., B.S., B.Eng., etc.)   \n",
       "36869    Master’s degree (M.A., M.S., M.Eng., MBA, etc.)   \n",
       "44740       Bachelor’s degree (B.A., B.S., B.Eng., etc.)   \n",
       "6192        Bachelor’s degree (B.A., B.S., B.Eng., etc.)   \n",
       "24693  Secondary school (e.g. American high school, G...   \n",
       "13219  Secondary school (e.g. American high school, G...   \n",
       "55833  Secondary school (e.g. American high school, G...   \n",
       "\n",
       "                                          UndergradMajor Hobbyist  Age1stCode  \\\n",
       "12777  Computer science, computer engineering, or sof...      Yes        13.0   \n",
       "2071   Computer science, computer engineering, or sof...      Yes        14.0   \n",
       "21826  Another engineering discipline (such as civil,...      Yes        15.0   \n",
       "14066  Computer science, computer engineering, or sof...      Yes         9.0   \n",
       "36869                                                NaN      Yes         NaN   \n",
       "44740  A natural science (such as biology, chemistry,...      Yes        15.0   \n",
       "6192   Computer science, computer engineering, or sof...       No        18.0   \n",
       "24693                                                NaN      Yes        26.0   \n",
       "13219                                                NaN       No        14.0   \n",
       "55833                                                NaN      Yes        18.0   \n",
       "\n",
       "       YearsCode  YearsCodePro  \\\n",
       "12777       27.0          20.0   \n",
       "2071        13.0           4.0   \n",
       "21826        5.0           NaN   \n",
       "14066       15.0           7.0   \n",
       "36869        NaN           NaN   \n",
       "44740       10.0           6.0   \n",
       "6192         9.0           5.0   \n",
       "24693        3.0           3.0   \n",
       "13219        5.0           NaN   \n",
       "55833        2.0           NaN   \n",
       "\n",
       "                                      LanguageWorkedWith  \\\n",
       "12777          Bash/Shell/PowerShell;Java;JavaScript;SQL   \n",
       "2071                                       Go;JavaScript   \n",
       "21826                                           C;Python   \n",
       "14066  Bash/Shell/PowerShell;HTML/CSS;Java;JavaScript...   \n",
       "36869  HTML/CSS;Java;JavaScript;Kotlin;Objective-C;PH...   \n",
       "44740  Bash/Shell/PowerShell;HTML/CSS;Java;JavaScript...   \n",
       "6192                                         Java;Kotlin   \n",
       "24693             HTML/CSS;JavaScript;PHP;SQL;TypeScript   \n",
       "13219             C;C++;HTML/CSS;JavaScript;Python;R;SQL   \n",
       "55833                                        C#;HTML/CSS   \n",
       "\n",
       "                                  LanguageDesireNextYear  \\\n",
       "12777                                                NaN   \n",
       "2071                                       Go;JavaScript   \n",
       "21826                                         Python;VBA   \n",
       "14066  Bash/Shell/PowerShell;HTML/CSS;JavaScript;PHP;...   \n",
       "36869  HTML/CSS;Java;JavaScript;Kotlin;Objective-C;PH...   \n",
       "44740                                Go;Python;Scala;SQL   \n",
       "6192                          Dart;Go;Java;Kotlin;Python   \n",
       "24693  Bash/Shell/PowerShell;Go;HTML/CSS;JavaScript;K...   \n",
       "13219                                       C#;Go;Python   \n",
       "55833                                        C#;HTML/CSS   \n",
       "\n",
       "                   NEWLearn  \\\n",
       "12777  Once every few years   \n",
       "2071       Every few months   \n",
       "21826         Once a decade   \n",
       "14066           Once a year   \n",
       "36869      Every few months   \n",
       "44740      Every few months   \n",
       "6192            Once a year   \n",
       "24693  Once every few years   \n",
       "13219      Every few months   \n",
       "55833      Every few months   \n",
       "\n",
       "                                                NEWStuck          Employment  \\\n",
       "12777  Call a coworker or friend;Visit Stack Overflow...  Employed full-time   \n",
       "2071   Meditate;Visit Stack Overflow;Go for a walk or...  Employed full-time   \n",
       "21826  Call a coworker or friend;Visit Stack Overflow...  Employed full-time   \n",
       "14066  Visit Stack Overflow;Go for a walk or other ph...  Employed full-time   \n",
       "36869  Call a coworker or friend;Visit Stack Overflow...  Employed full-time   \n",
       "44740  Play games;Visit Stack Overflow;Watch help / t...  Employed full-time   \n",
       "6192   Visit Stack Overflow;Go for a walk or other ph...  Employed full-time   \n",
       "24693  Call a coworker or friend;Visit Stack Overflow...  Employed full-time   \n",
       "13219  Call a coworker or friend;Visit Stack Overflow...  Employed full-time   \n",
       "55833       Play games;Do other work and come back later             Student   \n",
       "\n",
       "                                                 DevType  WorkWeekHrs  \\\n",
       "12777                                Developer, back-end         40.0   \n",
       "2071                                 Developer, back-end         40.0   \n",
       "21826                                                NaN          NaN   \n",
       "14066  Developer, back-end;Developer, front-end;Devel...         30.0   \n",
       "36869                                                NaN          NaN   \n",
       "44740  Developer, back-end;Developer, full-stack;Engi...         45.0   \n",
       "6192                                   Developer, mobile          8.0   \n",
       "24693         Developer, front-end;Developer, full-stack         36.0   \n",
       "13219                                Developer, back-end         40.0   \n",
       "55833                                                NaN          NaN   \n",
       "\n",
       "                                   JobSat  \\\n",
       "12777  Neither satisfied nor dissatisfied   \n",
       "2071                   Slightly satisfied   \n",
       "21826                                 NaN   \n",
       "14066                  Slightly satisfied   \n",
       "36869                                 NaN   \n",
       "44740                      Very satisfied   \n",
       "6192                       Very satisfied   \n",
       "24693                  Slightly satisfied   \n",
       "13219                      Very satisfied   \n",
       "55833                                 NaN   \n",
       "\n",
       "                                              JobFactors  \\\n",
       "12777  Flex time or a flexible schedule;Remote work o...   \n",
       "2071   Industry that I’d be working in;Languages, fra...   \n",
       "21826                                                NaN   \n",
       "14066  Industry that I’d be working in;Specific depar...   \n",
       "36869                                                NaN   \n",
       "44740  Diversity of the company or organization;Flex ...   \n",
       "6192   Remote work options;Financial performance or f...   \n",
       "24693  Languages, frameworks, and other technologies ...   \n",
       "13219  Remote work options;Office environment or comp...   \n",
       "55833  Industry that I’d be working in;Flex time or a...   \n",
       "\n",
       "                                             NEWOvertime  \\\n",
       "12777  Sometimes: 1-2 days per month but less than we...   \n",
       "2071                   Rarely: 1-2 days per year or less   \n",
       "21826                                                NaN   \n",
       "14066                  Rarely: 1-2 days per year or less   \n",
       "36869                                                NaN   \n",
       "44740                   Often: 1-2 days per week or more   \n",
       "6192   Sometimes: 1-2 days per month but less than we...   \n",
       "24693  Occasionally: 1-2 days per quarter but less th...   \n",
       "13219  Occasionally: 1-2 days per quarter but less th...   \n",
       "55833                                                NaN   \n",
       "\n",
       "                                NEWEdImpt  \n",
       "12777                      Very important  \n",
       "2071                     Fairly important  \n",
       "21826                  Somewhat important  \n",
       "14066                    Fairly important  \n",
       "36869                                 NaN  \n",
       "44740                    Fairly important  \n",
       "6192                     Fairly important  \n",
       "24693  Not at all important/not necessary  \n",
       "13219  Not at all important/not necessary  \n",
       "55833                                 NaN  "
      ]
     },
     "execution_count": 19,
     "metadata": {},
     "output_type": "execute_result"
    }
   ],
   "source": [
    "survey_df.sample(10)"
   ]
  },
  {
   "cell_type": "markdown",
   "id": "8b60398e",
   "metadata": {},
   "source": [
    "## Exploratory Analysis and Visualization"
   ]
  },
  {
   "cell_type": "code",
   "execution_count": 20,
   "id": "84f51311",
   "metadata": {},
   "outputs": [],
   "source": [
    "import seaborn as sns\n",
    "import matplotlib\n",
    "import matplotlib.pyplot as plt\n",
    "%matplotlib inline\n",
    "\n",
    "sns.set_style('darkgrid')\n",
    "matplotlib.rcParams['font.size'] = 14\n",
    "matplotlib.rcParams['figure.figsize'] = (9, 5)\n",
    "matplotlib.rcParams['figure.facecolor'] = '#00000000'"
   ]
  },
  {
   "cell_type": "markdown",
   "id": "5f6d39de",
   "metadata": {},
   "source": [
    "### Country"
   ]
  },
  {
   "cell_type": "code",
   "execution_count": 21,
   "id": "876f8e37",
   "metadata": {},
   "outputs": [
    {
     "data": {
      "text/plain": [
       "'Where do you live?'"
      ]
     },
     "execution_count": 21,
     "metadata": {},
     "output_type": "execute_result"
    }
   ],
   "source": [
    "schema.Country"
   ]
  },
  {
   "cell_type": "code",
   "execution_count": 22,
   "id": "fc406e9f",
   "metadata": {},
   "outputs": [
    {
     "data": {
      "text/plain": [
       "'Where do you live?'"
      ]
     },
     "execution_count": 22,
     "metadata": {},
     "output_type": "execute_result"
    }
   ],
   "source": [
    "schema_raw[\"Country\"]"
   ]
  },
  {
   "cell_type": "code",
   "execution_count": 23,
   "id": "f694350b",
   "metadata": {},
   "outputs": [
    {
     "data": {
      "text/plain": [
       "183"
      ]
     },
     "execution_count": 23,
     "metadata": {},
     "output_type": "execute_result"
    }
   ],
   "source": [
    "survey_df.Country.nunique()"
   ]
  },
  {
   "cell_type": "code",
   "execution_count": 24,
   "id": "1df1a619",
   "metadata": {},
   "outputs": [
    {
     "data": {
      "text/plain": [
       "United States         12371\n",
       "India                  8364\n",
       "United Kingdom         3881\n",
       "Germany                3864\n",
       "Canada                 2175\n",
       "France                 1884\n",
       "Brazil                 1804\n",
       "Netherlands            1332\n",
       "Poland                 1259\n",
       "Australia              1199\n",
       "Spain                  1157\n",
       "Italy                  1115\n",
       "Russian Federation     1085\n",
       "Sweden                  879\n",
       "Pakistan                802\n",
       "Name: Country, dtype: int64"
      ]
     },
     "execution_count": 24,
     "metadata": {},
     "output_type": "execute_result"
    }
   ],
   "source": [
    "top_countries = survey_df.Country.value_counts().head(15)\n",
    "top_countries"
   ]
  },
  {
   "cell_type": "code",
   "execution_count": 25,
   "id": "6c9717dd",
   "metadata": {},
   "outputs": [
    {
     "data": {
      "text/plain": [
       "<AxesSubplot:title={'center':'Where do you live?'}, ylabel='Country'>"
      ]
     },
     "execution_count": 25,
     "metadata": {},
     "output_type": "execute_result"
    },
    {
     "data": {
      "image/png": "[encoded data removed]",
      "text/plain": [
       "<Figure size 864x432 with 1 Axes>"
      ]
     },
     "metadata": {
      "needs_background": "light"
     },
     "output_type": "display_data"
    }
   ],
   "source": [
    "plt.figure(figsize = (12,6))\n",
    "plt.xticks(rotation=75)\n",
    "plt.title(schema.Country)\n",
    "sns.barplot(x = top_countries.index,y=top_countries)"
   ]
  },
  {
   "cell_type": "markdown",
   "id": "be595d5d",
   "metadata": {},
   "source": [
    "It appears that a disproportionately high number of respondents are from the US and India, probably because the survey is in English, and these countries have the highest English-speaking populations. We can already see that the survey may not be representative of the global programming community - especially from non-English speaking countries. Programmers from non-English speaking countries are almost certainly underrepresented."
   ]
  },
  {
   "cell_type": "markdown",
   "id": "5e1e1aaa",
   "metadata": {},
   "source": [
    "### Age"
   ]
  },
  {
   "cell_type": "code",
   "execution_count": 26,
   "id": "1cfa58d4",
   "metadata": {},
   "outputs": [
    {
     "data": {
      "text/plain": [
       "(array([  209.,  2419.,  9135., 11938.,  8739.,  5582.,  3031.,  1756.,\n",
       "         1038.,   622.,   333.,   143.,    75.]),\n",
       " array([10, 15, 20, 25, 30, 35, 40, 45, 50, 55, 60, 65, 70, 75]),\n",
       " <BarContainer object of 13 artists>)"
      ]
     },
     "execution_count": 26,
     "metadata": {},
     "output_type": "execute_result"
    },
    {
     "data": {
      "image/png": "[encoded data removed]",
      "text/plain": [
       "<Figure size 864x432 with 1 Axes>"
      ]
     },
     "metadata": {
      "needs_background": "light"
     },
     "output_type": "display_data"
    }
   ],
   "source": [
    "plt.figure(figsize=(12,6))\n",
    "plt.title(schema.Age)\n",
    "plt.xlabel(\"Age\")\n",
    "plt.ylabel(\"Number of respondents\")\n",
    "plt.hist(survey_df.Age,bins=np.arange(10,80,5), color = \"purple\")"
   ]
  },
  {
   "cell_type": "markdown",
   "id": "96ea6869",
   "metadata": {},
   "source": [
    "It appears that a large percentage of respondents are 20-45 years old. It's somewhat representative of the programming community in general. Many young people have taken up computer science as their field of study or profession in the last 20 years."
   ]
  },
  {
   "cell_type": "markdown",
   "id": "afb49f7b",
   "metadata": {},
   "source": [
    "### Gender"
   ]
  },
  {
   "cell_type": "code",
   "execution_count": 27,
   "id": "72fda3ff",
   "metadata": {},
   "outputs": [
    {
     "data": {
      "text/plain": [
       "'Which of the following describe you, if any? Please check all that apply. If you prefer not to answer, you may leave this question blank.'"
      ]
     },
     "execution_count": 27,
     "metadata": {},
     "output_type": "execute_result"
    }
   ],
   "source": [
    "schema.Gender"
   ]
  },
  {
   "cell_type": "code",
   "execution_count": 28,
   "id": "e42ca4b0",
   "metadata": {},
   "outputs": [
    {
     "data": {
      "text/plain": [
       "Man                                                  45895\n",
       "Woman                                                 3835\n",
       "Non-binary, genderqueer, or gender non-conforming      385\n",
       "Name: Gender, dtype: int64"
      ]
     },
     "execution_count": 28,
     "metadata": {},
     "output_type": "execute_result"
    }
   ],
   "source": [
    "gender_counts = survey_df.Gender.value_counts()\n",
    "gender_counts"
   ]
  },
  {
   "cell_type": "code",
   "execution_count": 29,
   "id": "a2b13e44",
   "metadata": {},
   "outputs": [
    {
     "data": {
      "image/png": "[encoded data removed]",
      "text/plain": [
       "<Figure size 864x432 with 1 Axes>"
      ]
     },
     "metadata": {},
     "output_type": "display_data"
    }
   ],
   "source": [
    "plt.figure(figsize=(12,6))\n",
    "plt.title(schema.Gender)\n",
    "plt.pie(gender_counts,labels = gender_counts.index, autopct='%1.1f%%', startangle=180);"
   ]
  },
  {
   "cell_type": "markdown",
   "id": "c79ba1a5",
   "metadata": {},
   "source": [
    "Only about 8% of survey respondents who have answered the question identify as women or non-binary. This number is lower than the overall percentage of women & non-binary genders in the programming community - which is estimated to be around 12%."
   ]
  },
  {
   "cell_type": "markdown",
   "id": "4fc3f1d7",
   "metadata": {},
   "source": [
    "### Education Level"
   ]
  },
  {
   "cell_type": "code",
   "execution_count": 30,
   "id": "c5c2ddf0",
   "metadata": {},
   "outputs": [
    {
     "data": {
      "text/plain": [
       "Text(0, 0.5, '')"
      ]
     },
     "execution_count": 30,
     "metadata": {},
     "output_type": "execute_result"
    },
    {
     "data": {
      "image/png": "[encoded data removed]",
      "text/plain": [
       "<Figure size 648x360 with 1 Axes>"
      ]
     },
     "metadata": {
      "needs_background": "light"
     },
     "output_type": "display_data"
    }
   ],
   "source": [
    "sns.countplot(y = survey_df.EdLevel)\n",
    "plt.title(schema['EdLevel'])\n",
    "plt.ylabel(None)"
   ]
  },
  {
   "cell_type": "markdown",
   "id": "919eda5a",
   "metadata": {},
   "source": [
    "It appears that well over half of the respondents hold a bachelor's or master's degree, so most programmers seem to have some college education. However, it's not clear from this graph alone if they hold a degree in computer science."
   ]
  },
  {
   "cell_type": "markdown",
   "id": "28f948a2",
   "metadata": {},
   "source": [
    "### UndergradMajor"
   ]
  },
  {
   "cell_type": "code",
   "execution_count": 31,
   "id": "8111aa8f",
   "metadata": {},
   "outputs": [
    {
     "data": {
      "text/plain": [
       "'What was your primary field of study?'"
      ]
     },
     "execution_count": 31,
     "metadata": {},
     "output_type": "execute_result"
    }
   ],
   "source": [
    "schema.UndergradMajor"
   ]
  },
  {
   "cell_type": "code",
   "execution_count": 32,
   "id": "2c6b40bd",
   "metadata": {},
   "outputs": [
    {
     "data": {
      "text/plain": [
       "Text(0.5, 0, 'percentage')"
      ]
     },
     "execution_count": 32,
     "metadata": {},
     "output_type": "execute_result"
    },
    {
     "data": {
      "image/png": "[encoded data removed]",
      "text/plain": [
       "<Figure size 648x360 with 1 Axes>"
      ]
     },
     "metadata": {
      "needs_background": "light"
     },
     "output_type": "display_data"
    }
   ],
   "source": [
    "undergrad_pct = survey_df.UndergradMajor.value_counts()*100/survey_df.UndergradMajor.count()\n",
    "sns.barplot(x = undergrad_pct,y = undergrad_pct.index)\n",
    "plt.title(schema.UndergradMajor)\n",
    "plt.ylabel(None)\n",
    "plt.xlabel(\"percentage\")"
   ]
  },
  {
   "cell_type": "markdown",
   "id": "9489cfca",
   "metadata": {},
   "source": [
    "It turns out that 40% of programmers holding a college degree have a field of study other than computer science - which is very encouraging. It seems to suggest that while a college education is helpful in general, you do not need to pursue a major in computer science to become a successful programmer."
   ]
  },
  {
   "cell_type": "markdown",
   "id": "671beb93",
   "metadata": {},
   "source": [
    "### Employment"
   ]
  },
  {
   "cell_type": "markdown",
   "id": "54350662",
   "metadata": {},
   "source": [
    "Freelancing or contract work is a common choice among programmers, so it would be interesting to compare the breakdown between full-time, part-time, and freelance work. Let's visualize the data from the Employment column"
   ]
  },
  {
   "cell_type": "code",
   "execution_count": 33,
   "id": "a79de571",
   "metadata": {},
   "outputs": [
    {
     "data": {
      "text/plain": [
       "'Which of the following best describes your current employment status?'"
      ]
     },
     "execution_count": 33,
     "metadata": {},
     "output_type": "execute_result"
    }
   ],
   "source": [
    "schema.Employment"
   ]
  },
  {
   "cell_type": "code",
   "execution_count": 34,
   "id": "391f7e49",
   "metadata": {},
   "outputs": [
    {
     "data": {
      "text/plain": [
       "Text(0.5, 0, 'Percentage')"
      ]
     },
     "execution_count": 34,
     "metadata": {},
     "output_type": "execute_result"
    },
    {
     "data": {
      "image/png": "[encoded data removed]",
      "text/plain": [
       "<Figure size 648x360 with 1 Axes>"
      ]
     },
     "metadata": {
      "needs_background": "light"
     },
     "output_type": "display_data"
    }
   ],
   "source": [
    "(survey_df.Employment.value_counts(normalize=True, ascending=True)*100).plot(kind='barh', color='g')\n",
    "plt.title(schema.Employment)\n",
    "plt.xlabel('Percentage')"
   ]
  },
  {
   "cell_type": "markdown",
   "id": "7e257bc2",
   "metadata": {},
   "source": [
    "The `DevType` field contains information about the roles held by respondents. Since the question allows multiple answers, the column contains lists of values separated by a semi-colon `;`, making it a bit harder to analyze directly."
   ]
  },
  {
   "cell_type": "code",
   "execution_count": 35,
   "id": "cabeffa5",
   "metadata": {},
   "outputs": [
    {
     "data": {
      "text/plain": [
       "'Which of the following describe you? Please select all that apply.'"
      ]
     },
     "execution_count": 35,
     "metadata": {},
     "output_type": "execute_result"
    }
   ],
   "source": [
    "schema.DevType"
   ]
  },
  {
   "cell_type": "code",
   "execution_count": 36,
   "id": "cf5163fc",
   "metadata": {},
   "outputs": [
    {
     "data": {
      "text/plain": [
       "Developer, full-stack                                                                                                                                                           4396\n",
       "Developer, back-end                                                                                                                                                             3056\n",
       "Developer, back-end;Developer, front-end;Developer, full-stack                                                                                                                  2214\n",
       "Developer, back-end;Developer, full-stack                                                                                                                                       1465\n",
       "Developer, front-end                                                                                                                                                            1390\n",
       "                                                                                                                                                                                ... \n",
       "Database administrator;Developer, back-end;Developer, front-end;Developer, full-stack;Developer, QA or test;Senior executive/VP                                                    1\n",
       "Database administrator;Developer, back-end;Developer, front-end;Developer, full-stack;Product manager;Senior executive/VP                                                          1\n",
       "Developer, back-end;Developer, full-stack;Developer, mobile;DevOps specialist;Educator;System administrator                                                                        1\n",
       "Data or business analyst;Database administrator;Developer, back-end;Developer, desktop or enterprise applications;Developer, front-end;Developer, mobile;Engineering manager       1\n",
       "Data or business analyst;Developer, mobile;Senior executive/VP;System administrator                                                                                                1\n",
       "Name: DevType, Length: 8213, dtype: int64"
      ]
     },
     "execution_count": 36,
     "metadata": {},
     "output_type": "execute_result"
    }
   ],
   "source": [
    "survey_df.DevType.value_counts()"
   ]
  },
  {
   "cell_type": "markdown",
   "id": "25ce8563",
   "metadata": {},
   "source": [
    "Let's define a helper function that turns a column containing lists of values (like `survey_df.DevType`) into a data frame with one column for each possible option."
   ]
  },
  {
   "cell_type": "code",
   "execution_count": 37,
   "id": "60c2fde2",
   "metadata": {},
   "outputs": [],
   "source": [
    "def split_multicolumn(col_series):\n",
    "    result_df = col_series.to_frame()\n",
    "    options = []\n",
    "    # Iterate over the column\n",
    "    for idx, value  in col_series[col_series.notnull()].iteritems():\n",
    "        # Break each value into list of options\n",
    "        for option in value.split(';'):\n",
    "            # Add the option as a column to result\n",
    "            if not option in result_df.columns:\n",
    "                options.append(option)\n",
    "                result_df[option] = False\n",
    "            # Mark the value in the option column as True\n",
    "            result_df.at[idx, option] = True\n",
    "    return result_df[options]"
   ]
  },
  {
   "cell_type": "code",
   "execution_count": 38,
   "id": "5eb58fb7",
   "metadata": {},
   "outputs": [],
   "source": [
    "dev_type_df = split_multicolumn(survey_df.DevType)"
   ]
  },
  {
   "cell_type": "code",
   "execution_count": 39,
   "id": "bb25b1e6",
   "metadata": {},
   "outputs": [
    {
     "data": {
      "text/html": [
       "<div>\n",
       "<style scoped>\n",
       "    .dataframe tbody tr th:only-of-type {\n",
       "        vertical-align: middle;\n",
       "    }\n",
       "\n",
       "    .dataframe tbody tr th {\n",
       "        vertical-align: top;\n",
       "    }\n",
       "\n",
       "    .dataframe thead th {\n",
       "        text-align: right;\n",
       "    }\n",
       "</style>\n",
       "<table border=\"1\" class=\"dataframe\">\n",
       "  <thead>\n",
       "    <tr style=\"text-align: right;\">\n",
       "      <th></th>\n",
       "      <th>Developer, desktop or enterprise applications</th>\n",
       "      <th>Developer, full-stack</th>\n",
       "      <th>Developer, mobile</th>\n",
       "      <th>Designer</th>\n",
       "      <th>Developer, front-end</th>\n",
       "      <th>Developer, back-end</th>\n",
       "      <th>Developer, QA or test</th>\n",
       "      <th>DevOps specialist</th>\n",
       "      <th>Developer, game or graphics</th>\n",
       "      <th>Database administrator</th>\n",
       "      <th>...</th>\n",
       "      <th>System administrator</th>\n",
       "      <th>Engineering manager</th>\n",
       "      <th>Product manager</th>\n",
       "      <th>Data or business analyst</th>\n",
       "      <th>Academic researcher</th>\n",
       "      <th>Data scientist or machine learning specialist</th>\n",
       "      <th>Scientist</th>\n",
       "      <th>Senior executive/VP</th>\n",
       "      <th>Engineer, site reliability</th>\n",
       "      <th>Marketing or sales professional</th>\n",
       "    </tr>\n",
       "  </thead>\n",
       "  <tbody>\n",
       "    <tr>\n",
       "      <th>0</th>\n",
       "      <td>True</td>\n",
       "      <td>True</td>\n",
       "      <td>False</td>\n",
       "      <td>False</td>\n",
       "      <td>False</td>\n",
       "      <td>False</td>\n",
       "      <td>False</td>\n",
       "      <td>False</td>\n",
       "      <td>False</td>\n",
       "      <td>False</td>\n",
       "      <td>...</td>\n",
       "      <td>False</td>\n",
       "      <td>False</td>\n",
       "      <td>False</td>\n",
       "      <td>False</td>\n",
       "      <td>False</td>\n",
       "      <td>False</td>\n",
       "      <td>False</td>\n",
       "      <td>False</td>\n",
       "      <td>False</td>\n",
       "      <td>False</td>\n",
       "    </tr>\n",
       "    <tr>\n",
       "      <th>1</th>\n",
       "      <td>False</td>\n",
       "      <td>True</td>\n",
       "      <td>True</td>\n",
       "      <td>False</td>\n",
       "      <td>False</td>\n",
       "      <td>False</td>\n",
       "      <td>False</td>\n",
       "      <td>False</td>\n",
       "      <td>False</td>\n",
       "      <td>False</td>\n",
       "      <td>...</td>\n",
       "      <td>False</td>\n",
       "      <td>False</td>\n",
       "      <td>False</td>\n",
       "      <td>False</td>\n",
       "      <td>False</td>\n",
       "      <td>False</td>\n",
       "      <td>False</td>\n",
       "      <td>False</td>\n",
       "      <td>False</td>\n",
       "      <td>False</td>\n",
       "    </tr>\n",
       "    <tr>\n",
       "      <th>2</th>\n",
       "      <td>False</td>\n",
       "      <td>False</td>\n",
       "      <td>False</td>\n",
       "      <td>False</td>\n",
       "      <td>False</td>\n",
       "      <td>False</td>\n",
       "      <td>False</td>\n",
       "      <td>False</td>\n",
       "      <td>False</td>\n",
       "      <td>False</td>\n",
       "      <td>...</td>\n",
       "      <td>False</td>\n",
       "      <td>False</td>\n",
       "      <td>False</td>\n",
       "      <td>False</td>\n",
       "      <td>False</td>\n",
       "      <td>False</td>\n",
       "      <td>False</td>\n",
       "      <td>False</td>\n",
       "      <td>False</td>\n",
       "      <td>False</td>\n",
       "    </tr>\n",
       "    <tr>\n",
       "      <th>3</th>\n",
       "      <td>False</td>\n",
       "      <td>False</td>\n",
       "      <td>False</td>\n",
       "      <td>False</td>\n",
       "      <td>False</td>\n",
       "      <td>False</td>\n",
       "      <td>False</td>\n",
       "      <td>False</td>\n",
       "      <td>False</td>\n",
       "      <td>False</td>\n",
       "      <td>...</td>\n",
       "      <td>False</td>\n",
       "      <td>False</td>\n",
       "      <td>False</td>\n",
       "      <td>False</td>\n",
       "      <td>False</td>\n",
       "      <td>False</td>\n",
       "      <td>False</td>\n",
       "      <td>False</td>\n",
       "      <td>False</td>\n",
       "      <td>False</td>\n",
       "    </tr>\n",
       "    <tr>\n",
       "      <th>4</th>\n",
       "      <td>False</td>\n",
       "      <td>False</td>\n",
       "      <td>False</td>\n",
       "      <td>False</td>\n",
       "      <td>False</td>\n",
       "      <td>False</td>\n",
       "      <td>False</td>\n",
       "      <td>False</td>\n",
       "      <td>False</td>\n",
       "      <td>False</td>\n",
       "      <td>...</td>\n",
       "      <td>False</td>\n",
       "      <td>False</td>\n",
       "      <td>False</td>\n",
       "      <td>False</td>\n",
       "      <td>False</td>\n",
       "      <td>False</td>\n",
       "      <td>False</td>\n",
       "      <td>False</td>\n",
       "      <td>False</td>\n",
       "      <td>False</td>\n",
       "    </tr>\n",
       "    <tr>\n",
       "      <th>...</th>\n",
       "      <td>...</td>\n",
       "      <td>...</td>\n",
       "      <td>...</td>\n",
       "      <td>...</td>\n",
       "      <td>...</td>\n",
       "      <td>...</td>\n",
       "      <td>...</td>\n",
       "      <td>...</td>\n",
       "      <td>...</td>\n",
       "      <td>...</td>\n",
       "      <td>...</td>\n",
       "      <td>...</td>\n",
       "      <td>...</td>\n",
       "      <td>...</td>\n",
       "      <td>...</td>\n",
       "      <td>...</td>\n",
       "      <td>...</td>\n",
       "      <td>...</td>\n",
       "      <td>...</td>\n",
       "      <td>...</td>\n",
       "      <td>...</td>\n",
       "    </tr>\n",
       "    <tr>\n",
       "      <th>64456</th>\n",
       "      <td>False</td>\n",
       "      <td>False</td>\n",
       "      <td>False</td>\n",
       "      <td>False</td>\n",
       "      <td>False</td>\n",
       "      <td>False</td>\n",
       "      <td>False</td>\n",
       "      <td>False</td>\n",
       "      <td>False</td>\n",
       "      <td>False</td>\n",
       "      <td>...</td>\n",
       "      <td>False</td>\n",
       "      <td>False</td>\n",
       "      <td>False</td>\n",
       "      <td>False</td>\n",
       "      <td>False</td>\n",
       "      <td>False</td>\n",
       "      <td>False</td>\n",
       "      <td>True</td>\n",
       "      <td>False</td>\n",
       "      <td>False</td>\n",
       "    </tr>\n",
       "    <tr>\n",
       "      <th>64457</th>\n",
       "      <td>False</td>\n",
       "      <td>False</td>\n",
       "      <td>False</td>\n",
       "      <td>False</td>\n",
       "      <td>False</td>\n",
       "      <td>False</td>\n",
       "      <td>False</td>\n",
       "      <td>False</td>\n",
       "      <td>False</td>\n",
       "      <td>False</td>\n",
       "      <td>...</td>\n",
       "      <td>False</td>\n",
       "      <td>False</td>\n",
       "      <td>False</td>\n",
       "      <td>False</td>\n",
       "      <td>False</td>\n",
       "      <td>False</td>\n",
       "      <td>False</td>\n",
       "      <td>False</td>\n",
       "      <td>False</td>\n",
       "      <td>False</td>\n",
       "    </tr>\n",
       "    <tr>\n",
       "      <th>64458</th>\n",
       "      <td>False</td>\n",
       "      <td>False</td>\n",
       "      <td>False</td>\n",
       "      <td>False</td>\n",
       "      <td>False</td>\n",
       "      <td>False</td>\n",
       "      <td>False</td>\n",
       "      <td>False</td>\n",
       "      <td>False</td>\n",
       "      <td>False</td>\n",
       "      <td>...</td>\n",
       "      <td>False</td>\n",
       "      <td>False</td>\n",
       "      <td>False</td>\n",
       "      <td>False</td>\n",
       "      <td>False</td>\n",
       "      <td>False</td>\n",
       "      <td>False</td>\n",
       "      <td>False</td>\n",
       "      <td>False</td>\n",
       "      <td>False</td>\n",
       "    </tr>\n",
       "    <tr>\n",
       "      <th>64459</th>\n",
       "      <td>False</td>\n",
       "      <td>False</td>\n",
       "      <td>False</td>\n",
       "      <td>False</td>\n",
       "      <td>False</td>\n",
       "      <td>False</td>\n",
       "      <td>False</td>\n",
       "      <td>False</td>\n",
       "      <td>False</td>\n",
       "      <td>False</td>\n",
       "      <td>...</td>\n",
       "      <td>False</td>\n",
       "      <td>False</td>\n",
       "      <td>False</td>\n",
       "      <td>False</td>\n",
       "      <td>False</td>\n",
       "      <td>False</td>\n",
       "      <td>False</td>\n",
       "      <td>False</td>\n",
       "      <td>False</td>\n",
       "      <td>False</td>\n",
       "    </tr>\n",
       "    <tr>\n",
       "      <th>64460</th>\n",
       "      <td>False</td>\n",
       "      <td>False</td>\n",
       "      <td>False</td>\n",
       "      <td>False</td>\n",
       "      <td>False</td>\n",
       "      <td>False</td>\n",
       "      <td>False</td>\n",
       "      <td>False</td>\n",
       "      <td>False</td>\n",
       "      <td>False</td>\n",
       "      <td>...</td>\n",
       "      <td>False</td>\n",
       "      <td>False</td>\n",
       "      <td>False</td>\n",
       "      <td>False</td>\n",
       "      <td>False</td>\n",
       "      <td>False</td>\n",
       "      <td>False</td>\n",
       "      <td>False</td>\n",
       "      <td>False</td>\n",
       "      <td>False</td>\n",
       "    </tr>\n",
       "  </tbody>\n",
       "</table>\n",
       "<p>64306 rows × 23 columns</p>\n",
       "</div>"
      ],
      "text/plain": [
       "       Developer, desktop or enterprise applications  Developer, full-stack  \\\n",
       "0                                               True                   True   \n",
       "1                                              False                   True   \n",
       "2                                              False                  False   \n",
       "3                                              False                  False   \n",
       "4                                              False                  False   \n",
       "...                                              ...                    ...   \n",
       "64456                                          False                  False   \n",
       "64457                                          False                  False   \n",
       "64458                                          False                  False   \n",
       "64459                                          False                  False   \n",
       "64460                                          False                  False   \n",
       "\n",
       "       Developer, mobile  Designer  Developer, front-end  Developer, back-end  \\\n",
       "0                  False     False                 False                False   \n",
       "1                   True     False                 False                False   \n",
       "2                  False     False                 False                False   \n",
       "3                  False     False                 False                False   \n",
       "4                  False     False                 False                False   \n",
       "...                  ...       ...                   ...                  ...   \n",
       "64456              False     False                 False                False   \n",
       "64457              False     False                 False                False   \n",
       "64458              False     False                 False                False   \n",
       "64459              False     False                 False                False   \n",
       "64460              False     False                 False                False   \n",
       "\n",
       "       Developer, QA or test  DevOps specialist  Developer, game or graphics  \\\n",
       "0                      False              False                        False   \n",
       "1                      False              False                        False   \n",
       "2                      False              False                        False   \n",
       "3                      False              False                        False   \n",
       "4                      False              False                        False   \n",
       "...                      ...                ...                          ...   \n",
       "64456                  False              False                        False   \n",
       "64457                  False              False                        False   \n",
       "64458                  False              False                        False   \n",
       "64459                  False              False                        False   \n",
       "64460                  False              False                        False   \n",
       "\n",
       "       Database administrator  ...  System administrator  Engineering manager  \\\n",
       "0                       False  ...                 False                False   \n",
       "1                       False  ...                 False                False   \n",
       "2                       False  ...                 False                False   \n",
       "3                       False  ...                 False                False   \n",
       "4                       False  ...                 False                False   \n",
       "...                       ...  ...                   ...                  ...   \n",
       "64456                   False  ...                 False                False   \n",
       "64457                   False  ...                 False                False   \n",
       "64458                   False  ...                 False                False   \n",
       "64459                   False  ...                 False                False   \n",
       "64460                   False  ...                 False                False   \n",
       "\n",
       "       Product manager  Data or business analyst  Academic researcher  \\\n",
       "0                False                     False                False   \n",
       "1                False                     False                False   \n",
       "2                False                     False                False   \n",
       "3                False                     False                False   \n",
       "4                False                     False                False   \n",
       "...                ...                       ...                  ...   \n",
       "64456            False                     False                False   \n",
       "64457            False                     False                False   \n",
       "64458            False                     False                False   \n",
       "64459            False                     False                False   \n",
       "64460            False                     False                False   \n",
       "\n",
       "       Data scientist or machine learning specialist  Scientist  \\\n",
       "0                                              False      False   \n",
       "1                                              False      False   \n",
       "2                                              False      False   \n",
       "3                                              False      False   \n",
       "4                                              False      False   \n",
       "...                                              ...        ...   \n",
       "64456                                          False      False   \n",
       "64457                                          False      False   \n",
       "64458                                          False      False   \n",
       "64459                                          False      False   \n",
       "64460                                          False      False   \n",
       "\n",
       "       Senior executive/VP  Engineer, site reliability  \\\n",
       "0                    False                       False   \n",
       "1                    False                       False   \n",
       "2                    False                       False   \n",
       "3                    False                       False   \n",
       "4                    False                       False   \n",
       "...                    ...                         ...   \n",
       "64456                 True                       False   \n",
       "64457                False                       False   \n",
       "64458                False                       False   \n",
       "64459                False                       False   \n",
       "64460                False                       False   \n",
       "\n",
       "       Marketing or sales professional  \n",
       "0                                False  \n",
       "1                                False  \n",
       "2                                False  \n",
       "3                                False  \n",
       "4                                False  \n",
       "...                                ...  \n",
       "64456                            False  \n",
       "64457                            False  \n",
       "64458                            False  \n",
       "64459                            False  \n",
       "64460                            False  \n",
       "\n",
       "[64306 rows x 23 columns]"
      ]
     },
     "execution_count": 39,
     "metadata": {},
     "output_type": "execute_result"
    }
   ],
   "source": [
    "dev_type_df"
   ]
  },
  {
   "cell_type": "markdown",
   "id": "2aadb1a3",
   "metadata": {},
   "source": [
    "The `dev_type_df` has one column for each option that can be selected as a response. If a respondent has chosen an option, the corresponding column's value is `True`. Otherwise, it is `False`.\n",
    "\n",
    "We can now use the column-wise totals to identify the most common roles."
   ]
  },
  {
   "cell_type": "code",
   "execution_count": 40,
   "id": "bc485236",
   "metadata": {},
   "outputs": [
    {
     "data": {
      "text/plain": [
       "Developer, back-end                              26996\n",
       "Developer, full-stack                            26915\n",
       "Developer, front-end                             18128\n",
       "Developer, desktop or enterprise applications    11687\n",
       "Developer, mobile                                 9406\n",
       "DevOps specialist                                 5915\n",
       "Database administrator                            5658\n",
       "Designer                                          5262\n",
       "System administrator                              5185\n",
       "Developer, embedded applications or devices       4701\n",
       "Data or business analyst                          3970\n",
       "Data scientist or machine learning specialist     3939\n",
       "Developer, QA or test                             3893\n",
       "Engineer, data                                    3700\n",
       "Academic researcher                               3502\n",
       "Educator                                          2895\n",
       "Developer, game or graphics                       2751\n",
       "Engineering manager                               2699\n",
       "Product manager                                   2471\n",
       "Scientist                                         2060\n",
       "Engineer, site reliability                        1921\n",
       "Senior executive/VP                               1292\n",
       "Marketing or sales professional                    625\n",
       "dtype: int64"
      ]
     },
     "execution_count": 40,
     "metadata": {},
     "output_type": "execute_result"
    }
   ],
   "source": [
    "dev_type_totals = dev_type_df.sum().sort_values(ascending = False)\n",
    "dev_type_totals"
   ]
  },
  {
   "cell_type": "markdown",
   "id": "e8dc9a56",
   "metadata": {},
   "source": [
    "### Asking and Answering Questions"
   ]
  },
  {
   "cell_type": "markdown",
   "id": "783002f6",
   "metadata": {},
   "source": [
    "#### Q: What are the most popular programming languages in 2020? \n",
    "\n",
    "To answer, this we can use the `LanguageWorkedWith` column. Similar to `DevType`, respondents were allowed to choose multiple options here."
   ]
  },
  {
   "cell_type": "code",
   "execution_count": 41,
   "id": "e1c225fc",
   "metadata": {},
   "outputs": [
    {
     "data": {
      "text/plain": [
       "0                                   C#;HTML/CSS;JavaScript\n",
       "1                                         JavaScript;Swift\n",
       "2                                 Objective-C;Python;Swift\n",
       "3                                                      NaN\n",
       "4                                        HTML/CSS;Ruby;SQL\n",
       "                               ...                        \n",
       "64456                                                  NaN\n",
       "64457    Assembly;Bash/Shell/PowerShell;C;C#;C++;Dart;G...\n",
       "64458                                                  NaN\n",
       "64459                                             HTML/CSS\n",
       "64460                      C#;HTML/CSS;Java;JavaScript;SQL\n",
       "Name: LanguageWorkedWith, Length: 64306, dtype: object"
      ]
     },
     "execution_count": 41,
     "metadata": {},
     "output_type": "execute_result"
    }
   ],
   "source": [
    "survey_df.LanguageWorkedWith"
   ]
  },
  {
   "cell_type": "markdown",
   "id": "bc3c978f",
   "metadata": {},
   "source": [
    "First, we'll split this column into a data frame containing a column of each language listed in the options."
   ]
  },
  {
   "cell_type": "code",
   "execution_count": 42,
   "id": "6652236c",
   "metadata": {},
   "outputs": [
    {
     "data": {
      "text/html": [
       "<div>\n",
       "<style scoped>\n",
       "    .dataframe tbody tr th:only-of-type {\n",
       "        vertical-align: middle;\n",
       "    }\n",
       "\n",
       "    .dataframe tbody tr th {\n",
       "        vertical-align: top;\n",
       "    }\n",
       "\n",
       "    .dataframe thead th {\n",
       "        text-align: right;\n",
       "    }\n",
       "</style>\n",
       "<table border=\"1\" class=\"dataframe\">\n",
       "  <thead>\n",
       "    <tr style=\"text-align: right;\">\n",
       "      <th></th>\n",
       "      <th>C#</th>\n",
       "      <th>HTML/CSS</th>\n",
       "      <th>JavaScript</th>\n",
       "      <th>Swift</th>\n",
       "      <th>Objective-C</th>\n",
       "      <th>Python</th>\n",
       "      <th>Ruby</th>\n",
       "      <th>SQL</th>\n",
       "      <th>Java</th>\n",
       "      <th>PHP</th>\n",
       "      <th>...</th>\n",
       "      <th>VBA</th>\n",
       "      <th>Perl</th>\n",
       "      <th>Scala</th>\n",
       "      <th>C++</th>\n",
       "      <th>Go</th>\n",
       "      <th>Haskell</th>\n",
       "      <th>Rust</th>\n",
       "      <th>Dart</th>\n",
       "      <th>Julia</th>\n",
       "      <th>Assembly</th>\n",
       "    </tr>\n",
       "  </thead>\n",
       "  <tbody>\n",
       "    <tr>\n",
       "      <th>0</th>\n",
       "      <td>True</td>\n",
       "      <td>True</td>\n",
       "      <td>True</td>\n",
       "      <td>False</td>\n",
       "      <td>False</td>\n",
       "      <td>False</td>\n",
       "      <td>False</td>\n",
       "      <td>False</td>\n",
       "      <td>False</td>\n",
       "      <td>False</td>\n",
       "      <td>...</td>\n",
       "      <td>False</td>\n",
       "      <td>False</td>\n",
       "      <td>False</td>\n",
       "      <td>False</td>\n",
       "      <td>False</td>\n",
       "      <td>False</td>\n",
       "      <td>False</td>\n",
       "      <td>False</td>\n",
       "      <td>False</td>\n",
       "      <td>False</td>\n",
       "    </tr>\n",
       "    <tr>\n",
       "      <th>1</th>\n",
       "      <td>False</td>\n",
       "      <td>False</td>\n",
       "      <td>True</td>\n",
       "      <td>True</td>\n",
       "      <td>False</td>\n",
       "      <td>False</td>\n",
       "      <td>False</td>\n",
       "      <td>False</td>\n",
       "      <td>False</td>\n",
       "      <td>False</td>\n",
       "      <td>...</td>\n",
       "      <td>False</td>\n",
       "      <td>False</td>\n",
       "      <td>False</td>\n",
       "      <td>False</td>\n",
       "      <td>False</td>\n",
       "      <td>False</td>\n",
       "      <td>False</td>\n",
       "      <td>False</td>\n",
       "      <td>False</td>\n",
       "      <td>False</td>\n",
       "    </tr>\n",
       "    <tr>\n",
       "      <th>2</th>\n",
       "      <td>False</td>\n",
       "      <td>False</td>\n",
       "      <td>False</td>\n",
       "      <td>True</td>\n",
       "      <td>True</td>\n",
       "      <td>True</td>\n",
       "      <td>False</td>\n",
       "      <td>False</td>\n",
       "      <td>False</td>\n",
       "      <td>False</td>\n",
       "      <td>...</td>\n",
       "      <td>False</td>\n",
       "      <td>False</td>\n",
       "      <td>False</td>\n",
       "      <td>False</td>\n",
       "      <td>False</td>\n",
       "      <td>False</td>\n",
       "      <td>False</td>\n",
       "      <td>False</td>\n",
       "      <td>False</td>\n",
       "      <td>False</td>\n",
       "    </tr>\n",
       "    <tr>\n",
       "      <th>3</th>\n",
       "      <td>False</td>\n",
       "      <td>False</td>\n",
       "      <td>False</td>\n",
       "      <td>False</td>\n",
       "      <td>False</td>\n",
       "      <td>False</td>\n",
       "      <td>False</td>\n",
       "      <td>False</td>\n",
       "      <td>False</td>\n",
       "      <td>False</td>\n",
       "      <td>...</td>\n",
       "      <td>False</td>\n",
       "      <td>False</td>\n",
       "      <td>False</td>\n",
       "      <td>False</td>\n",
       "      <td>False</td>\n",
       "      <td>False</td>\n",
       "      <td>False</td>\n",
       "      <td>False</td>\n",
       "      <td>False</td>\n",
       "      <td>False</td>\n",
       "    </tr>\n",
       "    <tr>\n",
       "      <th>4</th>\n",
       "      <td>False</td>\n",
       "      <td>True</td>\n",
       "      <td>False</td>\n",
       "      <td>False</td>\n",
       "      <td>False</td>\n",
       "      <td>False</td>\n",
       "      <td>True</td>\n",
       "      <td>True</td>\n",
       "      <td>False</td>\n",
       "      <td>False</td>\n",
       "      <td>...</td>\n",
       "      <td>False</td>\n",
       "      <td>False</td>\n",
       "      <td>False</td>\n",
       "      <td>False</td>\n",
       "      <td>False</td>\n",
       "      <td>False</td>\n",
       "      <td>False</td>\n",
       "      <td>False</td>\n",
       "      <td>False</td>\n",
       "      <td>False</td>\n",
       "    </tr>\n",
       "    <tr>\n",
       "      <th>...</th>\n",
       "      <td>...</td>\n",
       "      <td>...</td>\n",
       "      <td>...</td>\n",
       "      <td>...</td>\n",
       "      <td>...</td>\n",
       "      <td>...</td>\n",
       "      <td>...</td>\n",
       "      <td>...</td>\n",
       "      <td>...</td>\n",
       "      <td>...</td>\n",
       "      <td>...</td>\n",
       "      <td>...</td>\n",
       "      <td>...</td>\n",
       "      <td>...</td>\n",
       "      <td>...</td>\n",
       "      <td>...</td>\n",
       "      <td>...</td>\n",
       "      <td>...</td>\n",
       "      <td>...</td>\n",
       "      <td>...</td>\n",
       "      <td>...</td>\n",
       "    </tr>\n",
       "    <tr>\n",
       "      <th>64456</th>\n",
       "      <td>False</td>\n",
       "      <td>False</td>\n",
       "      <td>False</td>\n",
       "      <td>False</td>\n",
       "      <td>False</td>\n",
       "      <td>False</td>\n",
       "      <td>False</td>\n",
       "      <td>False</td>\n",
       "      <td>False</td>\n",
       "      <td>False</td>\n",
       "      <td>...</td>\n",
       "      <td>False</td>\n",
       "      <td>False</td>\n",
       "      <td>False</td>\n",
       "      <td>False</td>\n",
       "      <td>False</td>\n",
       "      <td>False</td>\n",
       "      <td>False</td>\n",
       "      <td>False</td>\n",
       "      <td>False</td>\n",
       "      <td>False</td>\n",
       "    </tr>\n",
       "    <tr>\n",
       "      <th>64457</th>\n",
       "      <td>True</td>\n",
       "      <td>True</td>\n",
       "      <td>True</td>\n",
       "      <td>True</td>\n",
       "      <td>True</td>\n",
       "      <td>True</td>\n",
       "      <td>True</td>\n",
       "      <td>True</td>\n",
       "      <td>True</td>\n",
       "      <td>True</td>\n",
       "      <td>...</td>\n",
       "      <td>True</td>\n",
       "      <td>True</td>\n",
       "      <td>True</td>\n",
       "      <td>True</td>\n",
       "      <td>True</td>\n",
       "      <td>True</td>\n",
       "      <td>True</td>\n",
       "      <td>True</td>\n",
       "      <td>True</td>\n",
       "      <td>True</td>\n",
       "    </tr>\n",
       "    <tr>\n",
       "      <th>64458</th>\n",
       "      <td>False</td>\n",
       "      <td>False</td>\n",
       "      <td>False</td>\n",
       "      <td>False</td>\n",
       "      <td>False</td>\n",
       "      <td>False</td>\n",
       "      <td>False</td>\n",
       "      <td>False</td>\n",
       "      <td>False</td>\n",
       "      <td>False</td>\n",
       "      <td>...</td>\n",
       "      <td>False</td>\n",
       "      <td>False</td>\n",
       "      <td>False</td>\n",
       "      <td>False</td>\n",
       "      <td>False</td>\n",
       "      <td>False</td>\n",
       "      <td>False</td>\n",
       "      <td>False</td>\n",
       "      <td>False</td>\n",
       "      <td>False</td>\n",
       "    </tr>\n",
       "    <tr>\n",
       "      <th>64459</th>\n",
       "      <td>False</td>\n",
       "      <td>True</td>\n",
       "      <td>False</td>\n",
       "      <td>False</td>\n",
       "      <td>False</td>\n",
       "      <td>False</td>\n",
       "      <td>False</td>\n",
       "      <td>False</td>\n",
       "      <td>False</td>\n",
       "      <td>False</td>\n",
       "      <td>...</td>\n",
       "      <td>False</td>\n",
       "      <td>False</td>\n",
       "      <td>False</td>\n",
       "      <td>False</td>\n",
       "      <td>False</td>\n",
       "      <td>False</td>\n",
       "      <td>False</td>\n",
       "      <td>False</td>\n",
       "      <td>False</td>\n",
       "      <td>False</td>\n",
       "    </tr>\n",
       "    <tr>\n",
       "      <th>64460</th>\n",
       "      <td>True</td>\n",
       "      <td>True</td>\n",
       "      <td>True</td>\n",
       "      <td>False</td>\n",
       "      <td>False</td>\n",
       "      <td>False</td>\n",
       "      <td>False</td>\n",
       "      <td>True</td>\n",
       "      <td>True</td>\n",
       "      <td>False</td>\n",
       "      <td>...</td>\n",
       "      <td>False</td>\n",
       "      <td>False</td>\n",
       "      <td>False</td>\n",
       "      <td>False</td>\n",
       "      <td>False</td>\n",
       "      <td>False</td>\n",
       "      <td>False</td>\n",
       "      <td>False</td>\n",
       "      <td>False</td>\n",
       "      <td>False</td>\n",
       "    </tr>\n",
       "  </tbody>\n",
       "</table>\n",
       "<p>64306 rows × 25 columns</p>\n",
       "</div>"
      ],
      "text/plain": [
       "          C#  HTML/CSS  JavaScript  Swift  Objective-C  Python   Ruby    SQL  \\\n",
       "0       True      True        True  False        False   False  False  False   \n",
       "1      False     False        True   True        False   False  False  False   \n",
       "2      False     False       False   True         True    True  False  False   \n",
       "3      False     False       False  False        False   False  False  False   \n",
       "4      False      True       False  False        False   False   True   True   \n",
       "...      ...       ...         ...    ...          ...     ...    ...    ...   \n",
       "64456  False     False       False  False        False   False  False  False   \n",
       "64457   True      True        True   True         True    True   True   True   \n",
       "64458  False     False       False  False        False   False  False  False   \n",
       "64459  False      True       False  False        False   False  False  False   \n",
       "64460   True      True        True  False        False   False  False   True   \n",
       "\n",
       "        Java    PHP  ...    VBA   Perl  Scala    C++     Go  Haskell   Rust  \\\n",
       "0      False  False  ...  False  False  False  False  False    False  False   \n",
       "1      False  False  ...  False  False  False  False  False    False  False   \n",
       "2      False  False  ...  False  False  False  False  False    False  False   \n",
       "3      False  False  ...  False  False  False  False  False    False  False   \n",
       "4      False  False  ...  False  False  False  False  False    False  False   \n",
       "...      ...    ...  ...    ...    ...    ...    ...    ...      ...    ...   \n",
       "64456  False  False  ...  False  False  False  False  False    False  False   \n",
       "64457   True   True  ...   True   True   True   True   True     True   True   \n",
       "64458  False  False  ...  False  False  False  False  False    False  False   \n",
       "64459  False  False  ...  False  False  False  False  False    False  False   \n",
       "64460   True  False  ...  False  False  False  False  False    False  False   \n",
       "\n",
       "        Dart  Julia  Assembly  \n",
       "0      False  False     False  \n",
       "1      False  False     False  \n",
       "2      False  False     False  \n",
       "3      False  False     False  \n",
       "4      False  False     False  \n",
       "...      ...    ...       ...  \n",
       "64456  False  False     False  \n",
       "64457   True   True      True  \n",
       "64458  False  False     False  \n",
       "64459  False  False     False  \n",
       "64460  False  False     False  \n",
       "\n",
       "[64306 rows x 25 columns]"
      ]
     },
     "execution_count": 42,
     "metadata": {},
     "output_type": "execute_result"
    }
   ],
   "source": [
    "Languages_worked_df = split_multicolumn(survey_df.LanguageWorkedWith)\n",
    "Languages_worked_df"
   ]
  },
  {
   "cell_type": "markdown",
   "id": "5b1054cd",
   "metadata": {},
   "source": [
    "It appears that a total of 25 languages were included among the options. Let's aggregate these to identify the percentage of respondents who selected each language."
   ]
  },
  {
   "cell_type": "code",
   "execution_count": 43,
   "id": "33216074",
   "metadata": {},
   "outputs": [
    {
     "data": {
      "text/plain": [
       "JavaScript               59.893323\n",
       "HTML/CSS                 55.801947\n",
       "SQL                      48.444935\n",
       "Python                   39.001026\n",
       "Java                     35.618760\n",
       "Bash/Shell/PowerShell    29.239884\n",
       "C#                       27.803004\n",
       "PHP                      23.130035\n",
       "TypeScript               22.461357\n",
       "C++                      21.114670\n",
       "C                        19.236152\n",
       "Go                        7.758219\n",
       "Kotlin                    6.887382\n",
       "Ruby                      6.229590\n",
       "Assembly                  5.447392\n",
       "VBA                       5.394520\n",
       "Swift                     5.226573\n",
       "R                         5.064846\n",
       "Rust                      4.498803\n",
       "Objective-C               3.603085\n",
       "Dart                      3.517557\n",
       "Scala                     3.150561\n",
       "Perl                      2.757130\n",
       "Haskell                   1.861413\n",
       "Julia                     0.782198\n",
       "dtype: float64"
      ]
     },
     "execution_count": 43,
     "metadata": {},
     "output_type": "execute_result"
    }
   ],
   "source": [
    "languages_worked_percentages = Languages_worked_df.mean().sort_values(ascending=False)*100\n",
    "languages_worked_percentages"
   ]
  },
  {
   "cell_type": "code",
   "execution_count": 44,
   "id": "6f53b74a",
   "metadata": {},
   "outputs": [
    {
     "data": {
      "text/plain": [
       "Text(0.5, 0, 'Count')"
      ]
     },
     "execution_count": 44,
     "metadata": {},
     "output_type": "execute_result"
    },
    {
     "data": {
      "image/png": "[encoded data removed]",
      "text/plain": [
       "<Figure size 864x864 with 1 Axes>"
      ]
     },
     "metadata": {
      "needs_background": "light"
     },
     "output_type": "display_data"
    }
   ],
   "source": [
    "plt.figure(figsize=(12,12))\n",
    "sns.barplot(x = languages_worked_percentages,y = languages_worked_percentages.index)\n",
    "plt.title(\"Languages used in the past year\")\n",
    "plt.xlabel(\"Count\")"
   ]
  },
  {
   "cell_type": "markdown",
   "id": "6f70c883",
   "metadata": {},
   "source": [
    "Perhaps unsurprisingly, Javascript & HTML/CSS comes out at the top as web development is one of today's most sought skills. It also happens to be one of the easiest to get started. SQL is necessary for working with relational databases, so it's no surprise that most programmers work with SQL regularly. Python seems to be the popular choice for other forms of development, beating out Java, which was the industry standard for server & application development for over two decades.\n",
    "\n"
   ]
  },
  {
   "cell_type": "markdown",
   "id": "8ee9fd33",
   "metadata": {},
   "source": [
    "#### Q: Which languages are the most people interested to learn over the next year?\n",
    "\n",
    "For this, we can use the `LanguageDesireNextYear` column, with similar processing as the previous one."
   ]
  },
  {
   "cell_type": "code",
   "execution_count": 45,
   "id": "c4dab8ae",
   "metadata": {},
   "outputs": [
    {
     "data": {
      "text/plain": [
       "Python                   41.143906\n",
       "JavaScript               40.425466\n",
       "HTML/CSS                 32.028116\n",
       "SQL                      30.799614\n",
       "TypeScript               26.451653\n",
       "C#                       21.058688\n",
       "Java                     20.464653\n",
       "Go                       19.432090\n",
       "Bash/Shell/PowerShell    18.057413\n",
       "Rust                     16.270643\n",
       "C++                      15.014151\n",
       "Kotlin                   14.760676\n",
       "PHP                      10.947657\n",
       "C                         9.359935\n",
       "Swift                     8.692812\n",
       "Dart                      7.308805\n",
       "R                         6.571704\n",
       "Ruby                      6.425528\n",
       "Scala                     5.326097\n",
       "Haskell                   4.593662\n",
       "Assembly                  3.766367\n",
       "Julia                     2.540976\n",
       "Objective-C               2.338818\n",
       "Perl                      1.761888\n",
       "VBA                       1.611047\n",
       "dtype: float64"
      ]
     },
     "execution_count": 45,
     "metadata": {},
     "output_type": "execute_result"
    }
   ],
   "source": [
    "languages_interested_df = split_multicolumn(survey_df.LanguageDesireNextYear)\n",
    "languages_interested_percentages = languages_interested_df.mean().sort_values(ascending = False)*100\n",
    "languages_interested_percentages"
   ]
  },
  {
   "cell_type": "code",
   "execution_count": 46,
   "id": "3fe620b1",
   "metadata": {},
   "outputs": [
    {
     "data": {
      "text/plain": [
       "Text(0.5, 0, 'Count')"
      ]
     },
     "execution_count": 46,
     "metadata": {},
     "output_type": "execute_result"
    },
    {
     "data": {
      "image/png": "[encoded data removed]",
      "text/plain": [
       "<Figure size 864x864 with 1 Axes>"
      ]
     },
     "metadata": {
      "needs_background": "light"
     },
     "output_type": "display_data"
    }
   ],
   "source": [
    "plt.figure(figsize = (12,12))\n",
    "sns.barplot(x = languages_interested_percentages, y =languages_interested_percentages.index)\n",
    "plt.title(\"Langauges people are interested in learning over the nxt year\")\n",
    "plt.xlabel(\"Count\")"
   ]
  },
  {
   "cell_type": "markdown",
   "id": "5937ec00",
   "metadata": {},
   "source": [
    "#### Q: In which countries do developers work the highest number of hours per week? Consider countries with more than 250 responses only.\n",
    "\n",
    "To answer this question, we'll need to use the `groupby` data frame method to aggregate the rows for each country. We'll also need to filter the results to only include the countries with more than 250 respondents."
   ]
  },
  {
   "cell_type": "code",
   "execution_count": 47,
   "id": "731337b0",
   "metadata": {},
   "outputs": [],
   "source": [
    "countries_df = survey_df.groupby('Country')[['WorkWeekHrs']].mean()\n",
    "countries_df = countries_df.sort_values('WorkWeekHrs', ascending=False)\n"
   ]
  },
  {
   "cell_type": "code",
   "execution_count": 48,
   "id": "93903959",
   "metadata": {},
   "outputs": [
    {
     "data": {
      "text/html": [
       "<div>\n",
       "<style scoped>\n",
       "    .dataframe tbody tr th:only-of-type {\n",
       "        vertical-align: middle;\n",
       "    }\n",
       "\n",
       "    .dataframe tbody tr th {\n",
       "        vertical-align: top;\n",
       "    }\n",
       "\n",
       "    .dataframe thead th {\n",
       "        text-align: right;\n",
       "    }\n",
       "</style>\n",
       "<table border=\"1\" class=\"dataframe\">\n",
       "  <thead>\n",
       "    <tr style=\"text-align: right;\">\n",
       "      <th></th>\n",
       "      <th>WorkWeekHrs</th>\n",
       "    </tr>\n",
       "    <tr>\n",
       "      <th>Country</th>\n",
       "      <th></th>\n",
       "    </tr>\n",
       "  </thead>\n",
       "  <tbody>\n",
       "    <tr>\n",
       "      <th>Iran</th>\n",
       "      <td>44.337748</td>\n",
       "    </tr>\n",
       "    <tr>\n",
       "      <th>Israel</th>\n",
       "      <td>43.915094</td>\n",
       "    </tr>\n",
       "    <tr>\n",
       "      <th>China</th>\n",
       "      <td>42.150000</td>\n",
       "    </tr>\n",
       "    <tr>\n",
       "      <th>United States</th>\n",
       "      <td>41.802982</td>\n",
       "    </tr>\n",
       "    <tr>\n",
       "      <th>Greece</th>\n",
       "      <td>41.402724</td>\n",
       "    </tr>\n",
       "    <tr>\n",
       "      <th>Viet Nam</th>\n",
       "      <td>41.391667</td>\n",
       "    </tr>\n",
       "    <tr>\n",
       "      <th>South Africa</th>\n",
       "      <td>41.023460</td>\n",
       "    </tr>\n",
       "    <tr>\n",
       "      <th>Turkey</th>\n",
       "      <td>40.982143</td>\n",
       "    </tr>\n",
       "    <tr>\n",
       "      <th>Sri Lanka</th>\n",
       "      <td>40.612245</td>\n",
       "    </tr>\n",
       "    <tr>\n",
       "      <th>New Zealand</th>\n",
       "      <td>40.457551</td>\n",
       "    </tr>\n",
       "    <tr>\n",
       "      <th>Belgium</th>\n",
       "      <td>40.444444</td>\n",
       "    </tr>\n",
       "    <tr>\n",
       "      <th>Canada</th>\n",
       "      <td>40.208837</td>\n",
       "    </tr>\n",
       "    <tr>\n",
       "      <th>Hungary</th>\n",
       "      <td>40.194340</td>\n",
       "    </tr>\n",
       "    <tr>\n",
       "      <th>Bangladesh</th>\n",
       "      <td>40.097458</td>\n",
       "    </tr>\n",
       "    <tr>\n",
       "      <th>India</th>\n",
       "      <td>40.090603</td>\n",
       "    </tr>\n",
       "  </tbody>\n",
       "</table>\n",
       "</div>"
      ],
      "text/plain": [
       "               WorkWeekHrs\n",
       "Country                   \n",
       "Iran             44.337748\n",
       "Israel           43.915094\n",
       "China            42.150000\n",
       "United States    41.802982\n",
       "Greece           41.402724\n",
       "Viet Nam         41.391667\n",
       "South Africa     41.023460\n",
       "Turkey           40.982143\n",
       "Sri Lanka        40.612245\n",
       "New Zealand      40.457551\n",
       "Belgium          40.444444\n",
       "Canada           40.208837\n",
       "Hungary          40.194340\n",
       "Bangladesh       40.097458\n",
       "India            40.090603"
      ]
     },
     "execution_count": 48,
     "metadata": {},
     "output_type": "execute_result"
    }
   ],
   "source": [
    "high_response_countries_df = countries_df.loc[survey_df.Country.value_counts()>250].head(15)\n",
    "high_response_countries_df"
   ]
  },
  {
   "cell_type": "markdown",
   "id": "c0358ac1",
   "metadata": {},
   "source": [
    "#### Q: How important is it to start young to build a career in programming?\n",
    "\n",
    "Let's create a scatter plot of `Age` vs. `YearsCodePro` (i.e., years of coding experience) to answer this question."
   ]
  },
  {
   "cell_type": "code",
   "execution_count": 49,
   "id": "994a858f",
   "metadata": {},
   "outputs": [
    {
     "data": {
      "text/plain": [
       "Text(0, 0.5, 'Years of Professionals Coding EXperience')"
      ]
     },
     "execution_count": 49,
     "metadata": {},
     "output_type": "execute_result"
    },
    {
     "data": {
      "image/png": "[encoded data removed]",
      "text/plain": [
       "<Figure size 648x360 with 1 Axes>"
      ]
     },
     "metadata": {
      "needs_background": "light"
     },
     "output_type": "display_data"
    }
   ],
   "source": [
    "sns.scatterplot(x  = \"Age\", y  = \"YearsCodePro\",hue=\"Hobbyist\",data = survey_df)\n",
    "plt.xlabel(\"Age\")\n",
    "plt.ylabel(\"Years of Professionals Coding EXperience\")"
   ]
  },
  {
   "cell_type": "markdown",
   "id": "79a9ceaa",
   "metadata": {},
   "source": [
    "You can see points all over the graph, which indicates that you can **start programming professionally at any age**. Many people who have been coding for several decades professionally also seem to enjoy it as a hobby.\n",
    "\n",
    "We can also view the distribution of the `Age1stCode` column to see when the respondents tried programming for the first time."
   ]
  },
  {
   "cell_type": "code",
   "execution_count": 50,
   "id": "a7160539",
   "metadata": {},
   "outputs": [
    {
     "data": {
      "image/png": "[encoded data removed]",
      "text/plain": [
       "<Figure size 648x360 with 1 Axes>"
      ]
     },
     "metadata": {
      "needs_background": "light"
     },
     "output_type": "display_data"
    }
   ],
   "source": [
    "plt.title(schema.Age1stCode)\n",
    "sns.histplot(x=survey_df.Age1stCode, bins=30, kde=True);"
   ]
  }
 ],
 "metadata": {
  "kernelspec": {
   "display_name": "Python 3 (ipykernel)",
   "language": "python",
   "name": "python3"
  },
  "language_info": {
   "codemirror_mode": {
    "name": "ipython",
    "version": 3
   },
   "file_extension": ".py",
   "mimetype": "text/x-python",
   "name": "python",
   "nbconvert_exporter": "python",
   "pygments_lexer": "ipython3",
   "version": "3.9.12"
  }
 },
 "nbformat": 4,
 "nbformat_minor": 5
}
