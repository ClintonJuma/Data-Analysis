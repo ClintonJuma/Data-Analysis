{
 "cells": [
  {
   "cell_type": "code",
   "execution_count": 1,
   "id": "8b09a3d7",
   "metadata": {},
   "outputs": [],
   "source": [
    "import numpy as np\n",
    "import matplotlib.pyplot as plt\n",
    "import pandas as pd\n",
    "import seaborn as sns"
   ]
  },
  {
   "cell_type": "code",
   "execution_count": 2,
   "id": "87f7a8d6",
   "metadata": {},
   "outputs": [
    {
     "data": {
      "text/html": [
       "<div>\n",
       "<style scoped>\n",
       "    .dataframe tbody tr th:only-of-type {\n",
       "        vertical-align: middle;\n",
       "    }\n",
       "\n",
       "    .dataframe tbody tr th {\n",
       "        vertical-align: top;\n",
       "    }\n",
       "\n",
       "    .dataframe thead th {\n",
       "        text-align: right;\n",
       "    }\n",
       "</style>\n",
       "<table border=\"1\" class=\"dataframe\">\n",
       "  <thead>\n",
       "    <tr style=\"text-align: right;\">\n",
       "      <th></th>\n",
       "      <th>Continent</th>\n",
       "      <th>Sub-Continent</th>\n",
       "      <th>Country</th>\n",
       "      <th>Percentage distribution of women aged 15-49  (per country)</th>\n",
       "      <th>Pregnancy intention</th>\n",
       "      <th>Contraceptive availability</th>\n",
       "      <th>Contraceptive method</th>\n",
       "    </tr>\n",
       "  </thead>\n",
       "  <tbody>\n",
       "    <tr>\n",
       "      <th>0</th>\n",
       "      <td>Africa</td>\n",
       "      <td>Eastern Africa</td>\n",
       "      <td>Burundi</td>\n",
       "      <td>0.650838</td>\n",
       "      <td>Not wanting to avoid pregancy</td>\n",
       "      <td>Not applicable</td>\n",
       "      <td>Not applicable</td>\n",
       "    </tr>\n",
       "    <tr>\n",
       "      <th>1</th>\n",
       "      <td>Africa</td>\n",
       "      <td>Eastern Africa</td>\n",
       "      <td>Burundi</td>\n",
       "      <td>0.113709</td>\n",
       "      <td>Wanting to avoid pregnancy</td>\n",
       "      <td>Met need</td>\n",
       "      <td>Using modern methods</td>\n",
       "    </tr>\n",
       "    <tr>\n",
       "      <th>2</th>\n",
       "      <td>Africa</td>\n",
       "      <td>Eastern Africa</td>\n",
       "      <td>Burundi</td>\n",
       "      <td>0.024300</td>\n",
       "      <td>Wanting to avoid pregnancy</td>\n",
       "      <td>Unmet need</td>\n",
       "      <td>Using traditional methods</td>\n",
       "    </tr>\n",
       "    <tr>\n",
       "      <th>3</th>\n",
       "      <td>Africa</td>\n",
       "      <td>Eastern Africa</td>\n",
       "      <td>Burundi</td>\n",
       "      <td>0.211106</td>\n",
       "      <td>Wanting to avoid pregnancy</td>\n",
       "      <td>Unmet need</td>\n",
       "      <td>Using no method</td>\n",
       "    </tr>\n",
       "    <tr>\n",
       "      <th>4</th>\n",
       "      <td>Africa</td>\n",
       "      <td>Eastern Africa</td>\n",
       "      <td>Comoros</td>\n",
       "      <td>0.666126</td>\n",
       "      <td>Not wanting to avoid pregancy</td>\n",
       "      <td>Not applicable</td>\n",
       "      <td>Not applicable</td>\n",
       "    </tr>\n",
       "    <tr>\n",
       "      <th>...</th>\n",
       "      <td>...</td>\n",
       "      <td>...</td>\n",
       "      <td>...</td>\n",
       "      <td>...</td>\n",
       "      <td>...</td>\n",
       "      <td>...</td>\n",
       "      <td>...</td>\n",
       "    </tr>\n",
       "    <tr>\n",
       "      <th>587</th>\n",
       "      <td>Latin America and the Caribbean</td>\n",
       "      <td>South America</td>\n",
       "      <td>Uruguay</td>\n",
       "      <td>0.089200</td>\n",
       "      <td>Wanting to avoid pregnancy</td>\n",
       "      <td>Unmet need</td>\n",
       "      <td>Using no method</td>\n",
       "    </tr>\n",
       "    <tr>\n",
       "      <th>588</th>\n",
       "      <td>Latin America and the Caribbean</td>\n",
       "      <td>South America</td>\n",
       "      <td>Venezuela</td>\n",
       "      <td>0.319888</td>\n",
       "      <td>Not wanting to avoid pregancy</td>\n",
       "      <td>Not applicable</td>\n",
       "      <td>Not applicable</td>\n",
       "    </tr>\n",
       "    <tr>\n",
       "      <th>589</th>\n",
       "      <td>Latin America and the Caribbean</td>\n",
       "      <td>South America</td>\n",
       "      <td>Venezuela</td>\n",
       "      <td>0.540280</td>\n",
       "      <td>Wanting to avoid pregnancy</td>\n",
       "      <td>Met need</td>\n",
       "      <td>Using modern methods</td>\n",
       "    </tr>\n",
       "    <tr>\n",
       "      <th>590</th>\n",
       "      <td>Latin America and the Caribbean</td>\n",
       "      <td>South America</td>\n",
       "      <td>Venezuela</td>\n",
       "      <td>0.046000</td>\n",
       "      <td>Wanting to avoid pregnancy</td>\n",
       "      <td>Unmet need</td>\n",
       "      <td>Using traditional methods</td>\n",
       "    </tr>\n",
       "    <tr>\n",
       "      <th>591</th>\n",
       "      <td>Latin America and the Caribbean</td>\n",
       "      <td>South America</td>\n",
       "      <td>Venezuela</td>\n",
       "      <td>0.093800</td>\n",
       "      <td>Wanting to avoid pregnancy</td>\n",
       "      <td>Unmet need</td>\n",
       "      <td>Using no method</td>\n",
       "    </tr>\n",
       "  </tbody>\n",
       "</table>\n",
       "<p>592 rows × 7 columns</p>\n",
       "</div>"
      ],
      "text/plain": [
       "                           Continent   Sub-Continent    Country  \\\n",
       "0                             Africa  Eastern Africa    Burundi   \n",
       "1                             Africa  Eastern Africa    Burundi   \n",
       "2                             Africa  Eastern Africa    Burundi   \n",
       "3                             Africa  Eastern Africa    Burundi   \n",
       "4                             Africa  Eastern Africa    Comoros   \n",
       "..                               ...             ...        ...   \n",
       "587  Latin America and the Caribbean   South America    Uruguay   \n",
       "588  Latin America and the Caribbean   South America  Venezuela   \n",
       "589  Latin America and the Caribbean   South America  Venezuela   \n",
       "590  Latin America and the Caribbean   South America  Venezuela   \n",
       "591  Latin America and the Caribbean   South America  Venezuela   \n",
       "\n",
       "     Percentage distribution of women aged 15-49  (per country)  \\\n",
       "0                                             0.650838            \n",
       "1                                             0.113709            \n",
       "2                                             0.024300            \n",
       "3                                             0.211106            \n",
       "4                                             0.666126            \n",
       "..                                                 ...            \n",
       "587                                           0.089200            \n",
       "588                                           0.319888            \n",
       "589                                           0.540280            \n",
       "590                                           0.046000            \n",
       "591                                           0.093800            \n",
       "\n",
       "               Pregnancy intention Contraceptive availability  \\\n",
       "0    Not wanting to avoid pregancy             Not applicable   \n",
       "1       Wanting to avoid pregnancy                   Met need   \n",
       "2       Wanting to avoid pregnancy                 Unmet need   \n",
       "3       Wanting to avoid pregnancy                 Unmet need   \n",
       "4    Not wanting to avoid pregancy             Not applicable   \n",
       "..                             ...                        ...   \n",
       "587     Wanting to avoid pregnancy                 Unmet need   \n",
       "588  Not wanting to avoid pregancy             Not applicable   \n",
       "589     Wanting to avoid pregnancy                   Met need   \n",
       "590     Wanting to avoid pregnancy                 Unmet need   \n",
       "591     Wanting to avoid pregnancy                 Unmet need   \n",
       "\n",
       "          Contraceptive method  \n",
       "0               Not applicable  \n",
       "1         Using modern methods  \n",
       "2    Using traditional methods  \n",
       "3              Using no method  \n",
       "4               Not applicable  \n",
       "..                         ...  \n",
       "587            Using no method  \n",
       "588             Not applicable  \n",
       "589       Using modern methods  \n",
       "590  Using traditional methods  \n",
       "591            Using no method  \n",
       "\n",
       "[592 rows x 7 columns]"
      ]
     },
     "execution_count": 2,
     "metadata": {},
     "output_type": "execute_result"
    }
   ],
   "source": [
    "df = pd.read_csv(\"VIZ5_September_Contraceptive_Use_dataset.csv\")\n",
    "df"
   ]
  },
  {
   "cell_type": "code",
   "execution_count": 3,
   "id": "b83082ef",
   "metadata": {},
   "outputs": [
    {
     "data": {
      "text/html": [
       "<div>\n",
       "<style scoped>\n",
       "    .dataframe tbody tr th:only-of-type {\n",
       "        vertical-align: middle;\n",
       "    }\n",
       "\n",
       "    .dataframe tbody tr th {\n",
       "        vertical-align: top;\n",
       "    }\n",
       "\n",
       "    .dataframe thead th {\n",
       "        text-align: right;\n",
       "    }\n",
       "</style>\n",
       "<table border=\"1\" class=\"dataframe\">\n",
       "  <thead>\n",
       "    <tr style=\"text-align: right;\">\n",
       "      <th></th>\n",
       "      <th>Continent</th>\n",
       "      <th>Sub-Continent</th>\n",
       "      <th>Country</th>\n",
       "      <th>Percentage distribution of women aged 15-49  (per country)</th>\n",
       "      <th>Pregnancy intention</th>\n",
       "      <th>Contraceptive availability</th>\n",
       "      <th>Contraceptive method</th>\n",
       "    </tr>\n",
       "  </thead>\n",
       "  <tbody>\n",
       "    <tr>\n",
       "      <th>0</th>\n",
       "      <td>Africa</td>\n",
       "      <td>Eastern Africa</td>\n",
       "      <td>Burundi</td>\n",
       "      <td>0.650838</td>\n",
       "      <td>Not wanting to avoid pregancy</td>\n",
       "      <td>Not applicable</td>\n",
       "      <td>Not applicable</td>\n",
       "    </tr>\n",
       "    <tr>\n",
       "      <th>1</th>\n",
       "      <td>Africa</td>\n",
       "      <td>Eastern Africa</td>\n",
       "      <td>Burundi</td>\n",
       "      <td>0.113709</td>\n",
       "      <td>Wanting to avoid pregnancy</td>\n",
       "      <td>Met need</td>\n",
       "      <td>Using modern methods</td>\n",
       "    </tr>\n",
       "    <tr>\n",
       "      <th>2</th>\n",
       "      <td>Africa</td>\n",
       "      <td>Eastern Africa</td>\n",
       "      <td>Burundi</td>\n",
       "      <td>0.024300</td>\n",
       "      <td>Wanting to avoid pregnancy</td>\n",
       "      <td>Unmet need</td>\n",
       "      <td>Using traditional methods</td>\n",
       "    </tr>\n",
       "  </tbody>\n",
       "</table>\n",
       "</div>"
      ],
      "text/plain": [
       "  Continent   Sub-Continent  Country  \\\n",
       "0    Africa  Eastern Africa  Burundi   \n",
       "1    Africa  Eastern Africa  Burundi   \n",
       "2    Africa  Eastern Africa  Burundi   \n",
       "\n",
       "   Percentage distribution of women aged 15-49  (per country)  \\\n",
       "0                                           0.650838            \n",
       "1                                           0.113709            \n",
       "2                                           0.024300            \n",
       "\n",
       "             Pregnancy intention Contraceptive availability  \\\n",
       "0  Not wanting to avoid pregancy             Not applicable   \n",
       "1     Wanting to avoid pregnancy                   Met need   \n",
       "2     Wanting to avoid pregnancy                 Unmet need   \n",
       "\n",
       "        Contraceptive method  \n",
       "0             Not applicable  \n",
       "1       Using modern methods  \n",
       "2  Using traditional methods  "
      ]
     },
     "execution_count": 3,
     "metadata": {},
     "output_type": "execute_result"
    }
   ],
   "source": [
    "df.head(3)"
   ]
  },
  {
   "cell_type": "code",
   "execution_count": 4,
   "id": "f35f616b",
   "metadata": {},
   "outputs": [
    {
     "data": {
      "text/html": [
       "<div>\n",
       "<style scoped>\n",
       "    .dataframe tbody tr th:only-of-type {\n",
       "        vertical-align: middle;\n",
       "    }\n",
       "\n",
       "    .dataframe tbody tr th {\n",
       "        vertical-align: top;\n",
       "    }\n",
       "\n",
       "    .dataframe thead th {\n",
       "        text-align: right;\n",
       "    }\n",
       "</style>\n",
       "<table border=\"1\" class=\"dataframe\">\n",
       "  <thead>\n",
       "    <tr style=\"text-align: right;\">\n",
       "      <th></th>\n",
       "      <th>Continent</th>\n",
       "      <th>Sub-Continent</th>\n",
       "      <th>Country</th>\n",
       "      <th>Percentage distribution of women aged 15-49  (per country)</th>\n",
       "      <th>Pregnancy intention</th>\n",
       "      <th>Contraceptive availability</th>\n",
       "      <th>Contraceptive method</th>\n",
       "    </tr>\n",
       "  </thead>\n",
       "  <tbody>\n",
       "    <tr>\n",
       "      <th>589</th>\n",
       "      <td>Latin America and the Caribbean</td>\n",
       "      <td>South America</td>\n",
       "      <td>Venezuela</td>\n",
       "      <td>0.54028</td>\n",
       "      <td>Wanting to avoid pregnancy</td>\n",
       "      <td>Met need</td>\n",
       "      <td>Using modern methods</td>\n",
       "    </tr>\n",
       "    <tr>\n",
       "      <th>590</th>\n",
       "      <td>Latin America and the Caribbean</td>\n",
       "      <td>South America</td>\n",
       "      <td>Venezuela</td>\n",
       "      <td>0.04600</td>\n",
       "      <td>Wanting to avoid pregnancy</td>\n",
       "      <td>Unmet need</td>\n",
       "      <td>Using traditional methods</td>\n",
       "    </tr>\n",
       "    <tr>\n",
       "      <th>591</th>\n",
       "      <td>Latin America and the Caribbean</td>\n",
       "      <td>South America</td>\n",
       "      <td>Venezuela</td>\n",
       "      <td>0.09380</td>\n",
       "      <td>Wanting to avoid pregnancy</td>\n",
       "      <td>Unmet need</td>\n",
       "      <td>Using no method</td>\n",
       "    </tr>\n",
       "  </tbody>\n",
       "</table>\n",
       "</div>"
      ],
      "text/plain": [
       "                           Continent  Sub-Continent    Country  \\\n",
       "589  Latin America and the Caribbean  South America  Venezuela   \n",
       "590  Latin America and the Caribbean  South America  Venezuela   \n",
       "591  Latin America and the Caribbean  South America  Venezuela   \n",
       "\n",
       "     Percentage distribution of women aged 15-49  (per country)  \\\n",
       "589                                            0.54028            \n",
       "590                                            0.04600            \n",
       "591                                            0.09380            \n",
       "\n",
       "            Pregnancy intention Contraceptive availability  \\\n",
       "589  Wanting to avoid pregnancy                   Met need   \n",
       "590  Wanting to avoid pregnancy                 Unmet need   \n",
       "591  Wanting to avoid pregnancy                 Unmet need   \n",
       "\n",
       "          Contraceptive method  \n",
       "589       Using modern methods  \n",
       "590  Using traditional methods  \n",
       "591            Using no method  "
      ]
     },
     "execution_count": 4,
     "metadata": {},
     "output_type": "execute_result"
    }
   ],
   "source": [
    "df.tail(3)"
   ]
  },
  {
   "cell_type": "code",
   "execution_count": 5,
   "id": "355a4a22",
   "metadata": {},
   "outputs": [
    {
     "data": {
      "text/plain": [
       "(592, 7)"
      ]
     },
     "execution_count": 5,
     "metadata": {},
     "output_type": "execute_result"
    }
   ],
   "source": [
    "df.shape"
   ]
  },
  {
   "cell_type": "code",
   "execution_count": 7,
   "id": "813c3e3c",
   "metadata": {},
   "outputs": [
    {
     "data": {
      "text/plain": [
       "Index(['Continent', 'Sub-Continent', 'Country',\n",
       "       'Percentage distribution of women aged 15-49  (per country)',\n",
       "       'Pregnancy intention', 'Contraceptive availability',\n",
       "       'Contraceptive method'],\n",
       "      dtype='object')"
      ]
     },
     "execution_count": 7,
     "metadata": {},
     "output_type": "execute_result"
    }
   ],
   "source": [
    "df.columns"
   ]
  },
  {
   "cell_type": "code",
   "execution_count": 8,
   "id": "3bacb798",
   "metadata": {},
   "outputs": [
    {
     "data": {
      "text/plain": [
       "[RangeIndex(start=0, stop=592, step=1),\n",
       " Index(['Continent', 'Sub-Continent', 'Country',\n",
       "        'Percentage distribution of women aged 15-49  (per country)',\n",
       "        'Pregnancy intention', 'Contraceptive availability',\n",
       "        'Contraceptive method'],\n",
       "       dtype='object')]"
      ]
     },
     "execution_count": 8,
     "metadata": {},
     "output_type": "execute_result"
    }
   ],
   "source": [
    "df.axes"
   ]
  },
  {
   "cell_type": "code",
   "execution_count": 9,
   "id": "26e21d2c",
   "metadata": {},
   "outputs": [
    {
     "data": {
      "text/plain": [
       "RangeIndex(start=0, stop=592, step=1)"
      ]
     },
     "execution_count": 9,
     "metadata": {},
     "output_type": "execute_result"
    }
   ],
   "source": [
    "df.index"
   ]
  },
  {
   "cell_type": "code",
   "execution_count": 11,
   "id": "0f8457db",
   "metadata": {},
   "outputs": [
    {
     "data": {
      "text/plain": [
       "'Africa'"
      ]
     },
     "execution_count": 11,
     "metadata": {},
     "output_type": "execute_result"
    }
   ],
   "source": [
    "df.loc[0, \"Continent\"]"
   ]
  },
  {
   "cell_type": "code",
   "execution_count": 12,
   "id": "3e8a6a17",
   "metadata": {},
   "outputs": [
    {
     "data": {
      "text/plain": [
       "'Eastern Africa'"
      ]
     },
     "execution_count": 12,
     "metadata": {},
     "output_type": "execute_result"
    }
   ],
   "source": [
    "df.loc[0, \"Sub-Continent\"]"
   ]
  },
  {
   "cell_type": "code",
   "execution_count": 13,
   "id": "e852950d",
   "metadata": {},
   "outputs": [
    {
     "data": {
      "text/plain": [
       "'Burundi'"
      ]
     },
     "execution_count": 13,
     "metadata": {},
     "output_type": "execute_result"
    }
   ],
   "source": [
    "df.loc[0, \"Country\"]"
   ]
  },
  {
   "cell_type": "code",
   "execution_count": 14,
   "id": "8e51b157",
   "metadata": {},
   "outputs": [
    {
     "data": {
      "text/plain": [
       "Continent                                                       4\n",
       "Sub-Continent                                                  16\n",
       "Country                                                       148\n",
       "Percentage distribution of women aged 15-49  (per country)    575\n",
       "Pregnancy intention                                             2\n",
       "Contraceptive availability                                      3\n",
       "Contraceptive method                                            4\n",
       "dtype: int64"
      ]
     },
     "execution_count": 14,
     "metadata": {},
     "output_type": "execute_result"
    }
   ],
   "source": [
    "df.nunique()"
   ]
  },
  {
   "cell_type": "code",
   "execution_count": 15,
   "id": "4b469ede",
   "metadata": {},
   "outputs": [
    {
     "data": {
      "text/plain": [
       "4"
      ]
     },
     "execution_count": 15,
     "metadata": {},
     "output_type": "execute_result"
    }
   ],
   "source": [
    "df[\"Continent\"].nunique()"
   ]
  },
  {
   "cell_type": "code",
   "execution_count": 18,
   "id": "366d56ed",
   "metadata": {},
   "outputs": [
    {
     "data": {
      "text/plain": [
       "2"
      ]
     },
     "execution_count": 18,
     "metadata": {},
     "output_type": "execute_result"
    }
   ],
   "source": [
    "df[\"Pregnancy intention\"].nunique()"
   ]
  },
  {
   "cell_type": "code",
   "execution_count": 19,
   "id": "a26f379b",
   "metadata": {},
   "outputs": [
    {
     "data": {
      "text/plain": [
       "592"
      ]
     },
     "execution_count": 19,
     "metadata": {},
     "output_type": "execute_result"
    }
   ],
   "source": [
    "df[\"Pregnancy intention\"].count()"
   ]
  },
  {
   "cell_type": "markdown",
   "id": "249958eb",
   "metadata": {},
   "source": [
    "# Dataset Infor"
   ]
  },
  {
   "cell_type": "code",
   "execution_count": 21,
   "id": "7593522c",
   "metadata": {},
   "outputs": [
    {
     "name": "stdout",
     "output_type": "stream",
     "text": [
      "<class 'pandas.core.frame.DataFrame'>\n",
      "RangeIndex: 592 entries, 0 to 591\n",
      "Data columns (total 7 columns):\n",
      " #   Column                                                      Non-Null Count  Dtype  \n",
      "---  ------                                                      --------------  -----  \n",
      " 0   Continent                                                   592 non-null    object \n",
      " 1   Sub-Continent                                               592 non-null    object \n",
      " 2   Country                                                     592 non-null    object \n",
      " 3   Percentage distribution of women aged 15-49  (per country)  592 non-null    float64\n",
      " 4   Pregnancy intention                                         592 non-null    object \n",
      " 5   Contraceptive availability                                  592 non-null    object \n",
      " 6   Contraceptive method                                        592 non-null    object \n",
      "dtypes: float64(1), object(6)\n",
      "memory usage: 32.5+ KB\n"
     ]
    }
   ],
   "source": [
    "df.info()"
   ]
  },
  {
   "cell_type": "code",
   "execution_count": 22,
   "id": "c489a154",
   "metadata": {},
   "outputs": [
    {
     "data": {
      "text/html": [
       "<div>\n",
       "<style scoped>\n",
       "    .dataframe tbody tr th:only-of-type {\n",
       "        vertical-align: middle;\n",
       "    }\n",
       "\n",
       "    .dataframe tbody tr th {\n",
       "        vertical-align: top;\n",
       "    }\n",
       "\n",
       "    .dataframe thead th {\n",
       "        text-align: right;\n",
       "    }\n",
       "</style>\n",
       "<table border=\"1\" class=\"dataframe\">\n",
       "  <thead>\n",
       "    <tr style=\"text-align: right;\">\n",
       "      <th></th>\n",
       "      <th>Percentage distribution of women aged 15-49  (per country)</th>\n",
       "    </tr>\n",
       "  </thead>\n",
       "  <tbody>\n",
       "    <tr>\n",
       "      <th>count</th>\n",
       "      <td>592.000000</td>\n",
       "    </tr>\n",
       "    <tr>\n",
       "      <th>mean</th>\n",
       "      <td>0.250001</td>\n",
       "    </tr>\n",
       "    <tr>\n",
       "      <th>std</th>\n",
       "      <td>0.210016</td>\n",
       "    </tr>\n",
       "    <tr>\n",
       "      <th>min</th>\n",
       "      <td>0.000094</td>\n",
       "    </tr>\n",
       "    <tr>\n",
       "      <th>25%</th>\n",
       "      <td>0.076750</td>\n",
       "    </tr>\n",
       "    <tr>\n",
       "      <th>50%</th>\n",
       "      <td>0.172843</td>\n",
       "    </tr>\n",
       "    <tr>\n",
       "      <th>75%</th>\n",
       "      <td>0.416191</td>\n",
       "    </tr>\n",
       "    <tr>\n",
       "      <th>max</th>\n",
       "      <td>0.767790</td>\n",
       "    </tr>\n",
       "  </tbody>\n",
       "</table>\n",
       "</div>"
      ],
      "text/plain": [
       "       Percentage distribution of women aged 15-49  (per country)\n",
       "count                                         592.000000         \n",
       "mean                                            0.250001         \n",
       "std                                             0.210016         \n",
       "min                                             0.000094         \n",
       "25%                                             0.076750         \n",
       "50%                                             0.172843         \n",
       "75%                                             0.416191         \n",
       "max                                             0.767790         "
      ]
     },
     "execution_count": 22,
     "metadata": {},
     "output_type": "execute_result"
    }
   ],
   "source": [
    "df.describe()"
   ]
  },
  {
   "cell_type": "markdown",
   "id": "45124098",
   "metadata": {},
   "source": [
    "# checking for duplicates and null values"
   ]
  },
  {
   "cell_type": "code",
   "execution_count": 23,
   "id": "31ccabc3",
   "metadata": {},
   "outputs": [
    {
     "data": {
      "text/plain": [
       "0      False\n",
       "1      False\n",
       "2      False\n",
       "3      False\n",
       "4      False\n",
       "       ...  \n",
       "587    False\n",
       "588    False\n",
       "589    False\n",
       "590    False\n",
       "591    False\n",
       "Length: 592, dtype: bool"
      ]
     },
     "execution_count": 23,
     "metadata": {},
     "output_type": "execute_result"
    }
   ],
   "source": [
    "df.duplicated()"
   ]
  },
  {
   "cell_type": "code",
   "execution_count": 24,
   "id": "d781a90b",
   "metadata": {},
   "outputs": [
    {
     "data": {
      "text/plain": [
       "0      False\n",
       "1       True\n",
       "2       True\n",
       "3       True\n",
       "4       True\n",
       "       ...  \n",
       "587     True\n",
       "588     True\n",
       "589     True\n",
       "590     True\n",
       "591     True\n",
       "Name: Continent, Length: 592, dtype: bool"
      ]
     },
     "execution_count": 24,
     "metadata": {},
     "output_type": "execute_result"
    }
   ],
   "source": [
    "df[\"Continent\"].duplicated()"
   ]
  },
  {
   "cell_type": "code",
   "execution_count": 25,
   "id": "d651029a",
   "metadata": {},
   "outputs": [
    {
     "data": {
      "text/plain": [
       "0      False\n",
       "1       True\n",
       "2       True\n",
       "3       True\n",
       "4      False\n",
       "       ...  \n",
       "587     True\n",
       "588    False\n",
       "589     True\n",
       "590     True\n",
       "591     True\n",
       "Name: Country, Length: 592, dtype: bool"
      ]
     },
     "execution_count": 25,
     "metadata": {},
     "output_type": "execute_result"
    }
   ],
   "source": [
    "df[\"Country\"].duplicated()"
   ]
  },
  {
   "cell_type": "code",
   "execution_count": 27,
   "id": "66b4ee5d",
   "metadata": {},
   "outputs": [
    {
     "data": {
      "text/plain": [
       "0      False\n",
       "1      False\n",
       "2       True\n",
       "3       True\n",
       "4       True\n",
       "       ...  \n",
       "587     True\n",
       "588     True\n",
       "589     True\n",
       "590     True\n",
       "591     True\n",
       "Name: Pregnancy intention, Length: 592, dtype: bool"
      ]
     },
     "execution_count": 27,
     "metadata": {},
     "output_type": "execute_result"
    }
   ],
   "source": [
    "df[\"Pregnancy intention\"].duplicated()"
   ]
  },
  {
   "cell_type": "code",
   "execution_count": 28,
   "id": "67c8a3bf",
   "metadata": {},
   "outputs": [
    {
     "data": {
      "text/html": [
       "<div>\n",
       "<style scoped>\n",
       "    .dataframe tbody tr th:only-of-type {\n",
       "        vertical-align: middle;\n",
       "    }\n",
       "\n",
       "    .dataframe tbody tr th {\n",
       "        vertical-align: top;\n",
       "    }\n",
       "\n",
       "    .dataframe thead th {\n",
       "        text-align: right;\n",
       "    }\n",
       "</style>\n",
       "<table border=\"1\" class=\"dataframe\">\n",
       "  <thead>\n",
       "    <tr style=\"text-align: right;\">\n",
       "      <th></th>\n",
       "      <th>Continent</th>\n",
       "      <th>Sub-Continent</th>\n",
       "      <th>Country</th>\n",
       "      <th>Percentage distribution of women aged 15-49  (per country)</th>\n",
       "      <th>Pregnancy intention</th>\n",
       "      <th>Contraceptive availability</th>\n",
       "      <th>Contraceptive method</th>\n",
       "    </tr>\n",
       "  </thead>\n",
       "  <tbody>\n",
       "    <tr>\n",
       "      <th>0</th>\n",
       "      <td>False</td>\n",
       "      <td>False</td>\n",
       "      <td>False</td>\n",
       "      <td>False</td>\n",
       "      <td>False</td>\n",
       "      <td>False</td>\n",
       "      <td>False</td>\n",
       "    </tr>\n",
       "    <tr>\n",
       "      <th>1</th>\n",
       "      <td>False</td>\n",
       "      <td>False</td>\n",
       "      <td>False</td>\n",
       "      <td>False</td>\n",
       "      <td>False</td>\n",
       "      <td>False</td>\n",
       "      <td>False</td>\n",
       "    </tr>\n",
       "    <tr>\n",
       "      <th>2</th>\n",
       "      <td>False</td>\n",
       "      <td>False</td>\n",
       "      <td>False</td>\n",
       "      <td>False</td>\n",
       "      <td>False</td>\n",
       "      <td>False</td>\n",
       "      <td>False</td>\n",
       "    </tr>\n",
       "    <tr>\n",
       "      <th>3</th>\n",
       "      <td>False</td>\n",
       "      <td>False</td>\n",
       "      <td>False</td>\n",
       "      <td>False</td>\n",
       "      <td>False</td>\n",
       "      <td>False</td>\n",
       "      <td>False</td>\n",
       "    </tr>\n",
       "    <tr>\n",
       "      <th>4</th>\n",
       "      <td>False</td>\n",
       "      <td>False</td>\n",
       "      <td>False</td>\n",
       "      <td>False</td>\n",
       "      <td>False</td>\n",
       "      <td>False</td>\n",
       "      <td>False</td>\n",
       "    </tr>\n",
       "    <tr>\n",
       "      <th>...</th>\n",
       "      <td>...</td>\n",
       "      <td>...</td>\n",
       "      <td>...</td>\n",
       "      <td>...</td>\n",
       "      <td>...</td>\n",
       "      <td>...</td>\n",
       "      <td>...</td>\n",
       "    </tr>\n",
       "    <tr>\n",
       "      <th>587</th>\n",
       "      <td>False</td>\n",
       "      <td>False</td>\n",
       "      <td>False</td>\n",
       "      <td>False</td>\n",
       "      <td>False</td>\n",
       "      <td>False</td>\n",
       "      <td>False</td>\n",
       "    </tr>\n",
       "    <tr>\n",
       "      <th>588</th>\n",
       "      <td>False</td>\n",
       "      <td>False</td>\n",
       "      <td>False</td>\n",
       "      <td>False</td>\n",
       "      <td>False</td>\n",
       "      <td>False</td>\n",
       "      <td>False</td>\n",
       "    </tr>\n",
       "    <tr>\n",
       "      <th>589</th>\n",
       "      <td>False</td>\n",
       "      <td>False</td>\n",
       "      <td>False</td>\n",
       "      <td>False</td>\n",
       "      <td>False</td>\n",
       "      <td>False</td>\n",
       "      <td>False</td>\n",
       "    </tr>\n",
       "    <tr>\n",
       "      <th>590</th>\n",
       "      <td>False</td>\n",
       "      <td>False</td>\n",
       "      <td>False</td>\n",
       "      <td>False</td>\n",
       "      <td>False</td>\n",
       "      <td>False</td>\n",
       "      <td>False</td>\n",
       "    </tr>\n",
       "    <tr>\n",
       "      <th>591</th>\n",
       "      <td>False</td>\n",
       "      <td>False</td>\n",
       "      <td>False</td>\n",
       "      <td>False</td>\n",
       "      <td>False</td>\n",
       "      <td>False</td>\n",
       "      <td>False</td>\n",
       "    </tr>\n",
       "  </tbody>\n",
       "</table>\n",
       "<p>592 rows × 7 columns</p>\n",
       "</div>"
      ],
      "text/plain": [
       "     Continent  Sub-Continent  Country  \\\n",
       "0        False          False    False   \n",
       "1        False          False    False   \n",
       "2        False          False    False   \n",
       "3        False          False    False   \n",
       "4        False          False    False   \n",
       "..         ...            ...      ...   \n",
       "587      False          False    False   \n",
       "588      False          False    False   \n",
       "589      False          False    False   \n",
       "590      False          False    False   \n",
       "591      False          False    False   \n",
       "\n",
       "     Percentage distribution of women aged 15-49  (per country)  \\\n",
       "0                                                False            \n",
       "1                                                False            \n",
       "2                                                False            \n",
       "3                                                False            \n",
       "4                                                False            \n",
       "..                                                 ...            \n",
       "587                                              False            \n",
       "588                                              False            \n",
       "589                                              False            \n",
       "590                                              False            \n",
       "591                                              False            \n",
       "\n",
       "     Pregnancy intention  Contraceptive availability  Contraceptive method  \n",
       "0                  False                       False                 False  \n",
       "1                  False                       False                 False  \n",
       "2                  False                       False                 False  \n",
       "3                  False                       False                 False  \n",
       "4                  False                       False                 False  \n",
       "..                   ...                         ...                   ...  \n",
       "587                False                       False                 False  \n",
       "588                False                       False                 False  \n",
       "589                False                       False                 False  \n",
       "590                False                       False                 False  \n",
       "591                False                       False                 False  \n",
       "\n",
       "[592 rows x 7 columns]"
      ]
     },
     "execution_count": 28,
     "metadata": {},
     "output_type": "execute_result"
    }
   ],
   "source": [
    "df.isnull()"
   ]
  },
  {
   "cell_type": "markdown",
   "id": "6f56584f",
   "metadata": {},
   "source": [
    "# Statistics"
   ]
  },
  {
   "cell_type": "code",
   "execution_count": 29,
   "id": "7f4c874b",
   "metadata": {},
   "outputs": [
    {
     "data": {
      "text/html": [
       "<div>\n",
       "<style scoped>\n",
       "    .dataframe tbody tr th:only-of-type {\n",
       "        vertical-align: middle;\n",
       "    }\n",
       "\n",
       "    .dataframe tbody tr th {\n",
       "        vertical-align: top;\n",
       "    }\n",
       "\n",
       "    .dataframe thead th {\n",
       "        text-align: right;\n",
       "    }\n",
       "</style>\n",
       "<table border=\"1\" class=\"dataframe\">\n",
       "  <thead>\n",
       "    <tr style=\"text-align: right;\">\n",
       "      <th></th>\n",
       "      <th>Percentage distribution of women aged 15-49  (per country)</th>\n",
       "    </tr>\n",
       "  </thead>\n",
       "  <tbody>\n",
       "    <tr>\n",
       "      <th>count</th>\n",
       "      <td>592.000000</td>\n",
       "    </tr>\n",
       "    <tr>\n",
       "      <th>mean</th>\n",
       "      <td>0.250001</td>\n",
       "    </tr>\n",
       "    <tr>\n",
       "      <th>std</th>\n",
       "      <td>0.210016</td>\n",
       "    </tr>\n",
       "    <tr>\n",
       "      <th>min</th>\n",
       "      <td>0.000094</td>\n",
       "    </tr>\n",
       "    <tr>\n",
       "      <th>25%</th>\n",
       "      <td>0.076750</td>\n",
       "    </tr>\n",
       "    <tr>\n",
       "      <th>50%</th>\n",
       "      <td>0.172843</td>\n",
       "    </tr>\n",
       "    <tr>\n",
       "      <th>75%</th>\n",
       "      <td>0.416191</td>\n",
       "    </tr>\n",
       "    <tr>\n",
       "      <th>max</th>\n",
       "      <td>0.767790</td>\n",
       "    </tr>\n",
       "  </tbody>\n",
       "</table>\n",
       "</div>"
      ],
      "text/plain": [
       "       Percentage distribution of women aged 15-49  (per country)\n",
       "count                                         592.000000         \n",
       "mean                                            0.250001         \n",
       "std                                             0.210016         \n",
       "min                                             0.000094         \n",
       "25%                                             0.076750         \n",
       "50%                                             0.172843         \n",
       "75%                                             0.416191         \n",
       "max                                             0.767790         "
      ]
     },
     "execution_count": 29,
     "metadata": {},
     "output_type": "execute_result"
    }
   ],
   "source": [
    "df.describe()"
   ]
  },
  {
   "cell_type": "code",
   "execution_count": 30,
   "id": "49eed9f8",
   "metadata": {},
   "outputs": [
    {
     "name": "stdout",
     "output_type": "stream",
     "text": [
      "<class 'pandas.core.frame.DataFrame'>\n",
      "RangeIndex: 592 entries, 0 to 591\n",
      "Data columns (total 7 columns):\n",
      " #   Column                                                      Non-Null Count  Dtype  \n",
      "---  ------                                                      --------------  -----  \n",
      " 0   Continent                                                   592 non-null    object \n",
      " 1   Sub-Continent                                               592 non-null    object \n",
      " 2   Country                                                     592 non-null    object \n",
      " 3   Percentage distribution of women aged 15-49  (per country)  592 non-null    float64\n",
      " 4   Pregnancy intention                                         592 non-null    object \n",
      " 5   Contraceptive availability                                  592 non-null    object \n",
      " 6   Contraceptive method                                        592 non-null    object \n",
      "dtypes: float64(1), object(6)\n",
      "memory usage: 32.5+ KB\n"
     ]
    }
   ],
   "source": [
    "df.info()"
   ]
  },
  {
   "cell_type": "code",
   "execution_count": 31,
   "id": "4f13e9c6",
   "metadata": {},
   "outputs": [
    {
     "data": {
      "text/plain": [
       "0.25000079381418894"
      ]
     },
     "execution_count": 31,
     "metadata": {},
     "output_type": "execute_result"
    }
   ],
   "source": [
    "df[\"Percentage distribution of women aged 15-49  (per country)\"].mean()"
   ]
  },
  {
   "cell_type": "markdown",
   "id": "7ed9fc06",
   "metadata": {},
   "source": [
    "The mean percentage distribution of women aged 15-49 using contraceptives"
   ]
  },
  {
   "cell_type": "code",
   "execution_count": 32,
   "id": "4679657e",
   "metadata": {},
   "outputs": [
    {
     "data": {
      "text/plain": [
       "0    Africa\n",
       "Name: Continent, dtype: object"
      ]
     },
     "execution_count": 32,
     "metadata": {},
     "output_type": "execute_result"
    }
   ],
   "source": [
    "df[\"Continent\"].mode()"
   ]
  },
  {
   "cell_type": "markdown",
   "id": "48446422",
   "metadata": {},
   "source": [
    "Most girls under the contraceptives were from Africa"
   ]
  },
  {
   "cell_type": "code",
   "execution_count": 33,
   "id": "befbf1a4",
   "metadata": {},
   "outputs": [
    {
     "data": {
      "text/plain": [
       "0    Eastern Africa\n",
       "1      Western Asia\n",
       "Name: Sub-Continent, dtype: object"
      ]
     },
     "execution_count": 33,
     "metadata": {},
     "output_type": "execute_result"
    }
   ],
   "source": [
    "df[\"Sub-Continent\"].mode()"
   ]
  },
  {
   "cell_type": "markdown",
   "id": "67b937fe",
   "metadata": {},
   "source": [
    "Eatern and Western Africa we the common subcontinents with contraceptives users"
   ]
  },
  {
   "cell_type": "code",
   "execution_count": 35,
   "id": "98e9d55e",
   "metadata": {},
   "outputs": [
    {
     "data": {
      "text/plain": [
       "0    Wanting to avoid pregnancy\n",
       "Name: Pregnancy intention, dtype: object"
      ]
     },
     "execution_count": 35,
     "metadata": {},
     "output_type": "execute_result"
    }
   ],
   "source": [
    "df[\"Pregnancy intention\"].mode()"
   ]
  },
  {
   "cell_type": "markdown",
   "id": "3ac9c279",
   "metadata": {},
   "source": [
    "Most girls  under the contraceptives wanted to avoid pregnancy"
   ]
  },
  {
   "cell_type": "code",
   "execution_count": 36,
   "id": "e872d02f",
   "metadata": {},
   "outputs": [
    {
     "data": {
      "text/plain": [
       "0    Unmet need\n",
       "Name: Contraceptive availability, dtype: object"
      ]
     },
     "execution_count": 36,
     "metadata": {},
     "output_type": "execute_result"
    }
   ],
   "source": [
    "df[\"Contraceptive availability\"].mode()"
   ]
  },
  {
   "cell_type": "markdown",
   "id": "3e6cb976",
   "metadata": {},
   "source": [
    "Most contreceptives had unmet needs"
   ]
  },
  {
   "cell_type": "code",
   "execution_count": 37,
   "id": "15fe4599",
   "metadata": {},
   "outputs": [
    {
     "data": {
      "text/plain": [
       "0               Not applicable\n",
       "1         Using modern methods\n",
       "2              Using no method\n",
       "3    Using traditional methods\n",
       "Name: Contraceptive method, dtype: object"
      ]
     },
     "execution_count": 37,
     "metadata": {},
     "output_type": "execute_result"
    }
   ],
   "source": [
    "df[\"Contraceptive method\"].mode()"
   ]
  },
  {
   "cell_type": "markdown",
   "id": "9a5d2874",
   "metadata": {},
   "source": [
    "This are the mostly used methods of contraceptives"
   ]
  },
  {
   "cell_type": "code",
   "execution_count": 44,
   "id": "093904bc",
   "metadata": {},
   "outputs": [
    {
     "data": {
      "text/plain": [
       "0      False\n",
       "1      False\n",
       "2      False\n",
       "3      False\n",
       "4      False\n",
       "       ...  \n",
       "587    False\n",
       "588    False\n",
       "589    False\n",
       "590    False\n",
       "591    False\n",
       "Name: Continent, Length: 592, dtype: bool"
      ]
     },
     "execution_count": 44,
     "metadata": {},
     "output_type": "execute_result"
    }
   ],
   "source": [
    "df[\"Continent\"].isnull()"
   ]
  },
  {
   "cell_type": "code",
   "execution_count": 46,
   "id": "cda8f062",
   "metadata": {},
   "outputs": [
    {
     "data": {
      "text/plain": [
       "0.21001582546179004"
      ]
     },
     "execution_count": 46,
     "metadata": {},
     "output_type": "execute_result"
    }
   ],
   "source": [
    "df[\"Percentage distribution of women aged 15-49  (per country)\"].std()"
   ]
  },
  {
   "cell_type": "markdown",
   "id": "433fdf09",
   "metadata": {},
   "source": [
    "standard deviation"
   ]
  },
  {
   "cell_type": "markdown",
   "id": "7b17a824",
   "metadata": {},
   "source": [
    "# Plotting"
   ]
  },
  {
   "cell_type": "code",
   "execution_count": 47,
   "id": "74405340",
   "metadata": {},
   "outputs": [
    {
     "data": {
      "image/png": "[encoded data removed]",
      "text/plain": [
       "<Figure size 432x288 with 1 Axes>"
      ]
     },
     "metadata": {
      "needs_background": "light"
     },
     "output_type": "display_data"
    }
   ],
   "source": [
    "df.plot()\n",
    "plt.show()"
   ]
  },
  {
   "cell_type": "code",
   "execution_count": 48,
   "id": "67775a21",
   "metadata": {},
   "outputs": [
    {
     "name": "stdout",
     "output_type": "stream",
     "text": [
      "<class 'pandas.core.frame.DataFrame'>\n",
      "RangeIndex: 592 entries, 0 to 591\n",
      "Data columns (total 7 columns):\n",
      " #   Column                                                      Non-Null Count  Dtype  \n",
      "---  ------                                                      --------------  -----  \n",
      " 0   Continent                                                   592 non-null    object \n",
      " 1   Sub-Continent                                               592 non-null    object \n",
      " 2   Country                                                     592 non-null    object \n",
      " 3   Percentage distribution of women aged 15-49  (per country)  592 non-null    float64\n",
      " 4   Pregnancy intention                                         592 non-null    object \n",
      " 5   Contraceptive availability                                  592 non-null    object \n",
      " 6   Contraceptive method                                        592 non-null    object \n",
      "dtypes: float64(1), object(6)\n",
      "memory usage: 32.5+ KB\n"
     ]
    }
   ],
   "source": [
    "df.info()"
   ]
  },
  {
   "cell_type": "code",
   "execution_count": 70,
   "id": "7c3fcf86",
   "metadata": {},
   "outputs": [
    {
     "data": {
      "image/png": "[encoded data removed]",
      "text/plain": [
       "<Figure size 432x288 with 1 Axes>"
      ]
     },
     "metadata": {
      "needs_background": "light"
     },
     "output_type": "display_data"
    }
   ],
   "source": [
    "df.plot(kind = \"scatter\", x = \"Continent\", y = \"Percentage distribution of women aged 15-49  (per country)\", c=\"r\")\n",
    "plt.title(\"Continent vs Percentage distribution of women\")\n",
    "plt.show()"
   ]
  },
  {
   "cell_type": "markdown",
   "id": "25913b6b",
   "metadata": {},
   "source": [
    "Africa had the most percentage distribution of  women under contraceptives while Ocean Latin  had the least"
   ]
  },
  {
   "cell_type": "code",
   "execution_count": 67,
   "id": "ba9a1a9c",
   "metadata": {},
   "outputs": [
    {
     "data": {
      "image/png": "[encoded data removed]",
      "text/plain": [
       "<Figure size 432x288 with 1 Axes>"
      ]
     },
     "metadata": {
      "needs_background": "light"
     },
     "output_type": "display_data"
    }
   ],
   "source": [
    "df.plot(kind = \"scatter\", x = \"Continent\", y = \"Contraceptive method\", marker = \"*\")\n",
    "plt.title(\"Continent vs Contraceptive method\")\n",
    "plt.show()"
   ]
  },
  {
   "cell_type": "code",
   "execution_count": 66,
   "id": "25f15e11",
   "metadata": {},
   "outputs": [
    {
     "data": {
      "image/png": "[encoded data removed]",
      "text/plain": [
       "<Figure size 432x288 with 1 Axes>"
      ]
     },
     "metadata": {
      "needs_background": "light"
     },
     "output_type": "display_data"
    }
   ],
   "source": [
    "df.plot(kind = \"scatter\", x = \"Percentage distribution of women aged 15-49  (per country)\", y = \"Sub-Continent\", marker = \"o\", c = \"m\")\n",
    "plt.title(\"Percentage distribution vs Sub-Continent\")\n",
    "plt.show()"
   ]
  },
  {
   "cell_type": "markdown",
   "id": "9d8c7edc",
   "metadata": {},
   "source": [
    "Eastern and Western Africa had the majority of women in contraceptives"
   ]
  },
  {
   "cell_type": "code",
   "execution_count": 80,
   "id": "49f4c5b3",
   "metadata": {},
   "outputs": [
    {
     "data": {
      "image/png": "[encoded data removed]",
      "text/plain": [
       "<Figure size 432x288 with 1 Axes>"
      ]
     },
     "metadata": {
      "needs_background": "light"
     },
     "output_type": "display_data"
    }
   ],
   "source": [
    "df.plot(kind = \"scatter\", x = \"Contraceptive availability\", y = \"Contraceptive method\")\n",
    "plt.title(\"Contraceptive availability vs Contraceptive method\")\n",
    "plt.show()"
   ]
  },
  {
   "cell_type": "markdown",
   "id": "47930090",
   "metadata": {},
   "source": [
    "Modern methods of contraceptives  had met needs for availability, unlike traditional methods that did not meet needs"
   ]
  },
  {
   "cell_type": "code",
   "execution_count": 86,
   "id": "cb0c566f",
   "metadata": {},
   "outputs": [
    {
     "data": {
      "image/png": "[encoded data removed]",
      "text/plain": [
       "<Figure size 432x288 with 1 Axes>"
      ]
     },
     "metadata": {
      "needs_background": "light"
     },
     "output_type": "display_data"
    }
   ],
   "source": [
    "df.plot(kind = \"scatter\", x = \"Pregnancy intention\", y = \"Contraceptive method\", c = \"k\", marker = \"o\")\n",
    "plt.show()"
   ]
  },
  {
   "cell_type": "markdown",
   "id": "9b93d7d4",
   "metadata": {},
   "source": [
    "All methos of contraceptives aimed for wanting to avoid pregnancy"
   ]
  },
  {
   "cell_type": "code",
   "execution_count": 95,
   "id": "33de54eb",
   "metadata": {},
   "outputs": [
    {
     "data": {
      "image/png": "[encoded data removed]",
      "text/plain": [
       "<Figure size 432x288 with 1 Axes>"
      ]
     },
     "metadata": {
      "needs_background": "light"
     },
     "output_type": "display_data"
    }
   ],
   "source": [
    "df.plot(kind = \"scatter\", x =\"Percentage distribution of women aged 15-49  (per country)\", y =\"Contraceptive method\")\n",
    "plt.title(\"Contraceptive  method vs percentage distribution of women\")\n",
    "plt.show()"
   ]
  },
  {
   "cell_type": "markdown",
   "id": "cc8fab54",
   "metadata": {},
   "source": [
    "modern methods of contraceptives, had the greatest percentage distribution"
   ]
  },
  {
   "cell_type": "code",
   "execution_count": 98,
   "id": "ebe77725",
   "metadata": {},
   "outputs": [
    {
     "data": {
      "image/png": "[encoded data removed]",
      "text/plain": [
       "<Figure size 432x288 with 1 Axes>"
      ]
     },
     "metadata": {
      "needs_background": "light"
     },
     "output_type": "display_data"
    }
   ],
   "source": [
    "df.plot(kind = \"scatter\", x =\"Percentage distribution of women aged 15-49  (per country)\", y =\"Contraceptive availability\", c = \"g\")\n",
    "plt.title(\"Contraceptive  availability vs percentage distribution of women\")\n",
    "plt.show()"
   ]
  },
  {
   "cell_type": "markdown",
   "id": "e72e49e5",
   "metadata": {},
   "source": [
    "available contraceptives that met needs, had the greatest distribution"
   ]
  }
 ],
 "metadata": {
  "kernelspec": {
   "display_name": "Python 3 (ipykernel)",
   "language": "python",
   "name": "python3"
  },
  "language_info": {
   "codemirror_mode": {
    "name": "ipython",
    "version": 3
   },
   "file_extension": ".py",
   "mimetype": "text/x-python",
   "name": "python",
   "nbconvert_exporter": "python",
   "pygments_lexer": "ipython3",
   "version": "3.9.12"
  }
 },
 "nbformat": 4,
 "nbformat_minor": 5
}
