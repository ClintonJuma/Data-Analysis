{
 "cells": [
  {
   "cell_type": "markdown",
   "id": "0d296588",
   "metadata": {},
   "source": [
    "## importing libraries"
   ]
  },
  {
   "cell_type": "code",
   "execution_count": 1,
   "id": "e4131efa",
   "metadata": {},
   "outputs": [],
   "source": [
    "import pandas as pd\n",
    "import numpy as np\n",
    "import matplotlib.pyplot as plt\n",
    "import matplotlib.dates as mdates\n",
    "import seaborn as sns\n",
    "import warnings\n",
    "import datetime as dt\n",
    "import os \n",
    "from time import time\n",
    "\n",
    "\n",
    "warnings.filterwarnings(\"ignore\")\n",
    "sns.set(color_codes = True)\n",
    "sns.set_palette(palette = \"magma\",n_colors = 8)"
   ]
  },
  {
   "cell_type": "markdown",
   "id": "3d988e74",
   "metadata": {},
   "source": [
    "## importing dataset"
   ]
  },
  {
   "cell_type": "code",
   "execution_count": 2,
   "id": "1b9664c7",
   "metadata": {},
   "outputs": [
    {
     "data": {
      "text/html": [
       "<div>\n",
       "<style scoped>\n",
       "    .dataframe tbody tr th:only-of-type {\n",
       "        vertical-align: middle;\n",
       "    }\n",
       "\n",
       "    .dataframe tbody tr th {\n",
       "        vertical-align: top;\n",
       "    }\n",
       "\n",
       "    .dataframe thead th {\n",
       "        text-align: right;\n",
       "    }\n",
       "</style>\n",
       "<table border=\"1\" class=\"dataframe\">\n",
       "  <thead>\n",
       "    <tr style=\"text-align: right;\">\n",
       "      <th></th>\n",
       "      <th>name</th>\n",
       "      <th>start_time</th>\n",
       "      <th>usage_time</th>\n",
       "      <th>IP</th>\n",
       "      <th>MAC</th>\n",
       "      <th>upload</th>\n",
       "      <th>download</th>\n",
       "      <th>total_transfer</th>\n",
       "      <th>seession_break_reason</th>\n",
       "    </tr>\n",
       "  </thead>\n",
       "  <tbody>\n",
       "    <tr>\n",
       "      <th>0</th>\n",
       "      <td>user1</td>\n",
       "      <td>2022-05-10 02:59:32</td>\n",
       "      <td>00:00:36:28</td>\n",
       "      <td>10.55.14.222</td>\n",
       "      <td>48:E7:DA:58:22:E9</td>\n",
       "      <td>15861.76</td>\n",
       "      <td>333168.64</td>\n",
       "      <td>349030.40</td>\n",
       "      <td>Idle-Timeout</td>\n",
       "    </tr>\n",
       "    <tr>\n",
       "      <th>1</th>\n",
       "      <td>user1</td>\n",
       "      <td>2022-05-10 18:53:27</td>\n",
       "      <td>00:01:49:56</td>\n",
       "      <td>10.55.2.253</td>\n",
       "      <td>48:E7:DA:58:22:E9</td>\n",
       "      <td>16957.44</td>\n",
       "      <td>212152.32</td>\n",
       "      <td>229109.76</td>\n",
       "      <td>Idle-Timeout</td>\n",
       "    </tr>\n",
       "    <tr>\n",
       "      <th>2</th>\n",
       "      <td>user1</td>\n",
       "      <td>2022-05-10 21:20:44</td>\n",
       "      <td>00:01:35:00</td>\n",
       "      <td>10.55.2.253</td>\n",
       "      <td>48:E7:DA:58:22:E9</td>\n",
       "      <td>14080.0</td>\n",
       "      <td>195153.92</td>\n",
       "      <td>209233.92</td>\n",
       "      <td>Idle-Timeout</td>\n",
       "    </tr>\n",
       "    <tr>\n",
       "      <th>3</th>\n",
       "      <td>user1</td>\n",
       "      <td>2022-05-11 00:37:42</td>\n",
       "      <td>00:00:26:00</td>\n",
       "      <td>10.55.2.253</td>\n",
       "      <td>48:E7:DA:58:22:E9</td>\n",
       "      <td>5242.88</td>\n",
       "      <td>40806.4</td>\n",
       "      <td>46049.28</td>\n",
       "      <td>Idle-Timeout</td>\n",
       "    </tr>\n",
       "    <tr>\n",
       "      <th>4</th>\n",
       "      <td>user1</td>\n",
       "      <td>2022-05-11 02:59:38</td>\n",
       "      <td>00:00:11:52</td>\n",
       "      <td>10.55.2.253</td>\n",
       "      <td>48:E7:DA:58:22:E9</td>\n",
       "      <td>22067.2</td>\n",
       "      <td>10772.48</td>\n",
       "      <td>32839.68</td>\n",
       "      <td>Idle-Timeout</td>\n",
       "    </tr>\n",
       "    <tr>\n",
       "      <th>...</th>\n",
       "      <td>...</td>\n",
       "      <td>...</td>\n",
       "      <td>...</td>\n",
       "      <td>...</td>\n",
       "      <td>...</td>\n",
       "      <td>...</td>\n",
       "      <td>...</td>\n",
       "      <td>...</td>\n",
       "      <td>...</td>\n",
       "    </tr>\n",
       "    <tr>\n",
       "      <th>4707</th>\n",
       "      <td>user9</td>\n",
       "      <td>2022-11-04 01:11:34</td>\n",
       "      <td>00:06:54:32</td>\n",
       "      <td>10.55.4.189</td>\n",
       "      <td>DA:2F:97:0E:B7:D0</td>\n",
       "      <td>107960.32</td>\n",
       "      <td>2390753.28</td>\n",
       "      <td>2495610.88</td>\n",
       "      <td>Idle-Timeout</td>\n",
       "    </tr>\n",
       "    <tr>\n",
       "      <th>4708</th>\n",
       "      <td>user9</td>\n",
       "      <td>2022-11-04 10:26:09</td>\n",
       "      <td>00:00:23:49</td>\n",
       "      <td>10.55.4.59</td>\n",
       "      <td>DA:2F:97:0E:B7:D0</td>\n",
       "      <td>11407.36</td>\n",
       "      <td>209674.24</td>\n",
       "      <td>221081.60</td>\n",
       "      <td>Idle-Timeout</td>\n",
       "    </tr>\n",
       "    <tr>\n",
       "      <th>4709</th>\n",
       "      <td>user9</td>\n",
       "      <td>2022-11-04 20:41:42</td>\n",
       "      <td>00:01:24:13</td>\n",
       "      <td>10.55.15.186</td>\n",
       "      <td>DA:2F:97:0E:B7:D0</td>\n",
       "      <td>18995.2</td>\n",
       "      <td>373657.6</td>\n",
       "      <td>392652.80</td>\n",
       "      <td>Idle-Timeout</td>\n",
       "    </tr>\n",
       "    <tr>\n",
       "      <th>4710</th>\n",
       "      <td>user9</td>\n",
       "      <td>2022-11-05 00:21:06</td>\n",
       "      <td>00:08:49:43</td>\n",
       "      <td>10.55.4.159</td>\n",
       "      <td>DA:2F:97:0E:B7:D0</td>\n",
       "      <td>46602.24</td>\n",
       "      <td>593766.4</td>\n",
       "      <td>640368.64</td>\n",
       "      <td>Idle-Timeout</td>\n",
       "    </tr>\n",
       "    <tr>\n",
       "      <th>4711</th>\n",
       "      <td>user9</td>\n",
       "      <td>2022-11-05 20:55:37</td>\n",
       "      <td>00:01:06:20</td>\n",
       "      <td>10.55.2.33</td>\n",
       "      <td>DA:2F:97:0E:B7:D0</td>\n",
       "      <td>21237.76</td>\n",
       "      <td>298536.96</td>\n",
       "      <td>319774.72</td>\n",
       "      <td>NaN</td>\n",
       "    </tr>\n",
       "  </tbody>\n",
       "</table>\n",
       "<p>4712 rows × 9 columns</p>\n",
       "</div>"
      ],
      "text/plain": [
       "       name           start_time   usage_time            IP  \\\n",
       "0     user1  2022-05-10 02:59:32  00:00:36:28  10.55.14.222   \n",
       "1     user1  2022-05-10 18:53:27  00:01:49:56   10.55.2.253   \n",
       "2     user1  2022-05-10 21:20:44  00:01:35:00   10.55.2.253   \n",
       "3     user1  2022-05-11 00:37:42  00:00:26:00   10.55.2.253   \n",
       "4     user1  2022-05-11 02:59:38  00:00:11:52   10.55.2.253   \n",
       "...     ...                  ...          ...           ...   \n",
       "4707  user9  2022-11-04 01:11:34  00:06:54:32   10.55.4.189   \n",
       "4708  user9  2022-11-04 10:26:09  00:00:23:49    10.55.4.59   \n",
       "4709  user9  2022-11-04 20:41:42  00:01:24:13  10.55.15.186   \n",
       "4710  user9  2022-11-05 00:21:06  00:08:49:43   10.55.4.159   \n",
       "4711  user9  2022-11-05 20:55:37  00:01:06:20    10.55.2.33   \n",
       "\n",
       "                    MAC     upload    download  total_transfer  \\\n",
       "0     48:E7:DA:58:22:E9   15861.76   333168.64       349030.40   \n",
       "1     48:E7:DA:58:22:E9   16957.44   212152.32       229109.76   \n",
       "2     48:E7:DA:58:22:E9    14080.0   195153.92       209233.92   \n",
       "3     48:E7:DA:58:22:E9    5242.88     40806.4        46049.28   \n",
       "4     48:E7:DA:58:22:E9    22067.2    10772.48        32839.68   \n",
       "...                 ...        ...         ...             ...   \n",
       "4707  DA:2F:97:0E:B7:D0  107960.32  2390753.28      2495610.88   \n",
       "4708  DA:2F:97:0E:B7:D0   11407.36   209674.24       221081.60   \n",
       "4709  DA:2F:97:0E:B7:D0    18995.2    373657.6       392652.80   \n",
       "4710  DA:2F:97:0E:B7:D0   46602.24    593766.4       640368.64   \n",
       "4711  DA:2F:97:0E:B7:D0   21237.76   298536.96       319774.72   \n",
       "\n",
       "     seession_break_reason  \n",
       "0             Idle-Timeout  \n",
       "1             Idle-Timeout  \n",
       "2             Idle-Timeout  \n",
       "3             Idle-Timeout  \n",
       "4             Idle-Timeout  \n",
       "...                    ...  \n",
       "4707          Idle-Timeout  \n",
       "4708          Idle-Timeout  \n",
       "4709          Idle-Timeout  \n",
       "4710          Idle-Timeout  \n",
       "4711                   NaN  \n",
       "\n",
       "[4712 rows x 9 columns]"
      ]
     },
     "execution_count": 2,
     "metadata": {},
     "output_type": "execute_result"
    }
   ],
   "source": [
    "data = pd.read_csv(\"internet_session.csv\")\n",
    "data\n"
   ]
  },
  {
   "cell_type": "markdown",
   "id": "9f97c85c",
   "metadata": {},
   "source": [
    "## checking dataset"
   ]
  },
  {
   "cell_type": "code",
   "execution_count": 3,
   "id": "ae332121",
   "metadata": {},
   "outputs": [
    {
     "data": {
      "text/plain": [
       "(4712, 9)"
      ]
     },
     "execution_count": 3,
     "metadata": {},
     "output_type": "execute_result"
    }
   ],
   "source": [
    "data.shape"
   ]
  },
  {
   "cell_type": "code",
   "execution_count": 4,
   "id": "6dac89b3",
   "metadata": {},
   "outputs": [
    {
     "data": {
      "text/plain": [
       "Index(['name', 'start_time', 'usage_time', 'IP', 'MAC', 'upload', 'download',\n",
       "       'total_transfer', 'seession_break_reason'],\n",
       "      dtype='object')"
      ]
     },
     "execution_count": 4,
     "metadata": {},
     "output_type": "execute_result"
    }
   ],
   "source": [
    "data.columns\n"
   ]
  },
  {
   "cell_type": "code",
   "execution_count": 5,
   "id": "6a05571b",
   "metadata": {},
   "outputs": [
    {
     "data": {
      "text/plain": [
       "name                      object\n",
       "start_time                object\n",
       "usage_time                object\n",
       "IP                        object\n",
       "MAC                       object\n",
       "upload                    object\n",
       "download                  object\n",
       "total_transfer           float64\n",
       "seession_break_reason     object\n",
       "dtype: object"
      ]
     },
     "execution_count": 5,
     "metadata": {},
     "output_type": "execute_result"
    }
   ],
   "source": [
    "data.dtypes"
   ]
  },
  {
   "cell_type": "code",
   "execution_count": 6,
   "id": "2f56ce61",
   "metadata": {},
   "outputs": [
    {
     "name": "stdout",
     "output_type": "stream",
     "text": [
      "<class 'pandas.core.frame.DataFrame'>\n",
      "RangeIndex: 4712 entries, 0 to 4711\n",
      "Data columns (total 9 columns):\n",
      " #   Column                 Non-Null Count  Dtype  \n",
      "---  ------                 --------------  -----  \n",
      " 0   name                   4712 non-null   object \n",
      " 1   start_time             4712 non-null   object \n",
      " 2   usage_time             4712 non-null   object \n",
      " 3   IP                     4712 non-null   object \n",
      " 4   MAC                    4712 non-null   object \n",
      " 5   upload                 4712 non-null   object \n",
      " 6   download               4712 non-null   object \n",
      " 7   total_transfer         4712 non-null   float64\n",
      " 8   seession_break_reason  4703 non-null   object \n",
      "dtypes: float64(1), object(8)\n",
      "memory usage: 331.4+ KB\n"
     ]
    }
   ],
   "source": [
    "data.info()"
   ]
  },
  {
   "cell_type": "code",
   "execution_count": 7,
   "id": "6aff1312",
   "metadata": {},
   "outputs": [
    {
     "name": "stdout",
     "output_type": "stream",
     "text": [
      "<class 'pandas.core.frame.DataFrame'>\n",
      "RangeIndex: 4712 entries, 0 to 4711\n",
      "Data columns (total 9 columns):\n",
      " #   Column                 Non-Null Count  Dtype         \n",
      "---  ------                 --------------  -----         \n",
      " 0   name                   4712 non-null   object        \n",
      " 1   start_time             4712 non-null   datetime64[ns]\n",
      " 2   usage_time             4712 non-null   object        \n",
      " 3   IP                     4712 non-null   object        \n",
      " 4   MAC                    4712 non-null   object        \n",
      " 5   upload                 4712 non-null   object        \n",
      " 6   download               4712 non-null   object        \n",
      " 7   total_transfer         4712 non-null   float64       \n",
      " 8   seession_break_reason  4703 non-null   object        \n",
      "dtypes: datetime64[ns](1), float64(1), object(7)\n",
      "memory usage: 331.4+ KB\n"
     ]
    }
   ],
   "source": [
    "#converting start time column to datetime datatype\n",
    "data[\"start_time\"] = pd.to_datetime(data[\"start_time\"])\n",
    "data.info()"
   ]
  },
  {
   "cell_type": "code",
   "execution_count": 8,
   "id": "ef8b3932",
   "metadata": {},
   "outputs": [
    {
     "data": {
      "text/html": [
       "<div>\n",
       "<style scoped>\n",
       "    .dataframe tbody tr th:only-of-type {\n",
       "        vertical-align: middle;\n",
       "    }\n",
       "\n",
       "    .dataframe tbody tr th {\n",
       "        vertical-align: top;\n",
       "    }\n",
       "\n",
       "    .dataframe thead th {\n",
       "        text-align: right;\n",
       "    }\n",
       "</style>\n",
       "<table border=\"1\" class=\"dataframe\">\n",
       "  <thead>\n",
       "    <tr style=\"text-align: right;\">\n",
       "      <th></th>\n",
       "      <th>name</th>\n",
       "      <th>start_time</th>\n",
       "      <th>usage_time</th>\n",
       "      <th>IP</th>\n",
       "      <th>MAC</th>\n",
       "      <th>upload</th>\n",
       "      <th>download</th>\n",
       "      <th>total_transfer</th>\n",
       "      <th>seession_break_reason</th>\n",
       "      <th>month</th>\n",
       "    </tr>\n",
       "  </thead>\n",
       "  <tbody>\n",
       "    <tr>\n",
       "      <th>0</th>\n",
       "      <td>user1</td>\n",
       "      <td>2022-05-10 02:59:32</td>\n",
       "      <td>00:00:36:28</td>\n",
       "      <td>10.55.14.222</td>\n",
       "      <td>48:E7:DA:58:22:E9</td>\n",
       "      <td>15861.76</td>\n",
       "      <td>333168.64</td>\n",
       "      <td>349030.40</td>\n",
       "      <td>Idle-Timeout</td>\n",
       "      <td>May</td>\n",
       "    </tr>\n",
       "    <tr>\n",
       "      <th>1</th>\n",
       "      <td>user1</td>\n",
       "      <td>2022-05-10 18:53:27</td>\n",
       "      <td>00:01:49:56</td>\n",
       "      <td>10.55.2.253</td>\n",
       "      <td>48:E7:DA:58:22:E9</td>\n",
       "      <td>16957.44</td>\n",
       "      <td>212152.32</td>\n",
       "      <td>229109.76</td>\n",
       "      <td>Idle-Timeout</td>\n",
       "      <td>May</td>\n",
       "    </tr>\n",
       "    <tr>\n",
       "      <th>2</th>\n",
       "      <td>user1</td>\n",
       "      <td>2022-05-10 21:20:44</td>\n",
       "      <td>00:01:35:00</td>\n",
       "      <td>10.55.2.253</td>\n",
       "      <td>48:E7:DA:58:22:E9</td>\n",
       "      <td>14080.0</td>\n",
       "      <td>195153.92</td>\n",
       "      <td>209233.92</td>\n",
       "      <td>Idle-Timeout</td>\n",
       "      <td>May</td>\n",
       "    </tr>\n",
       "    <tr>\n",
       "      <th>3</th>\n",
       "      <td>user1</td>\n",
       "      <td>2022-05-11 00:37:42</td>\n",
       "      <td>00:00:26:00</td>\n",
       "      <td>10.55.2.253</td>\n",
       "      <td>48:E7:DA:58:22:E9</td>\n",
       "      <td>5242.88</td>\n",
       "      <td>40806.4</td>\n",
       "      <td>46049.28</td>\n",
       "      <td>Idle-Timeout</td>\n",
       "      <td>May</td>\n",
       "    </tr>\n",
       "    <tr>\n",
       "      <th>4</th>\n",
       "      <td>user1</td>\n",
       "      <td>2022-05-11 02:59:38</td>\n",
       "      <td>00:00:11:52</td>\n",
       "      <td>10.55.2.253</td>\n",
       "      <td>48:E7:DA:58:22:E9</td>\n",
       "      <td>22067.2</td>\n",
       "      <td>10772.48</td>\n",
       "      <td>32839.68</td>\n",
       "      <td>Idle-Timeout</td>\n",
       "      <td>May</td>\n",
       "    </tr>\n",
       "    <tr>\n",
       "      <th>...</th>\n",
       "      <td>...</td>\n",
       "      <td>...</td>\n",
       "      <td>...</td>\n",
       "      <td>...</td>\n",
       "      <td>...</td>\n",
       "      <td>...</td>\n",
       "      <td>...</td>\n",
       "      <td>...</td>\n",
       "      <td>...</td>\n",
       "      <td>...</td>\n",
       "    </tr>\n",
       "    <tr>\n",
       "      <th>4707</th>\n",
       "      <td>user9</td>\n",
       "      <td>2022-11-04 01:11:34</td>\n",
       "      <td>00:06:54:32</td>\n",
       "      <td>10.55.4.189</td>\n",
       "      <td>DA:2F:97:0E:B7:D0</td>\n",
       "      <td>107960.32</td>\n",
       "      <td>2390753.28</td>\n",
       "      <td>2495610.88</td>\n",
       "      <td>Idle-Timeout</td>\n",
       "      <td>November</td>\n",
       "    </tr>\n",
       "    <tr>\n",
       "      <th>4708</th>\n",
       "      <td>user9</td>\n",
       "      <td>2022-11-04 10:26:09</td>\n",
       "      <td>00:00:23:49</td>\n",
       "      <td>10.55.4.59</td>\n",
       "      <td>DA:2F:97:0E:B7:D0</td>\n",
       "      <td>11407.36</td>\n",
       "      <td>209674.24</td>\n",
       "      <td>221081.60</td>\n",
       "      <td>Idle-Timeout</td>\n",
       "      <td>November</td>\n",
       "    </tr>\n",
       "    <tr>\n",
       "      <th>4709</th>\n",
       "      <td>user9</td>\n",
       "      <td>2022-11-04 20:41:42</td>\n",
       "      <td>00:01:24:13</td>\n",
       "      <td>10.55.15.186</td>\n",
       "      <td>DA:2F:97:0E:B7:D0</td>\n",
       "      <td>18995.2</td>\n",
       "      <td>373657.6</td>\n",
       "      <td>392652.80</td>\n",
       "      <td>Idle-Timeout</td>\n",
       "      <td>November</td>\n",
       "    </tr>\n",
       "    <tr>\n",
       "      <th>4710</th>\n",
       "      <td>user9</td>\n",
       "      <td>2022-11-05 00:21:06</td>\n",
       "      <td>00:08:49:43</td>\n",
       "      <td>10.55.4.159</td>\n",
       "      <td>DA:2F:97:0E:B7:D0</td>\n",
       "      <td>46602.24</td>\n",
       "      <td>593766.4</td>\n",
       "      <td>640368.64</td>\n",
       "      <td>Idle-Timeout</td>\n",
       "      <td>November</td>\n",
       "    </tr>\n",
       "    <tr>\n",
       "      <th>4711</th>\n",
       "      <td>user9</td>\n",
       "      <td>2022-11-05 20:55:37</td>\n",
       "      <td>00:01:06:20</td>\n",
       "      <td>10.55.2.33</td>\n",
       "      <td>DA:2F:97:0E:B7:D0</td>\n",
       "      <td>21237.76</td>\n",
       "      <td>298536.96</td>\n",
       "      <td>319774.72</td>\n",
       "      <td>NaN</td>\n",
       "      <td>November</td>\n",
       "    </tr>\n",
       "  </tbody>\n",
       "</table>\n",
       "<p>4712 rows × 10 columns</p>\n",
       "</div>"
      ],
      "text/plain": [
       "       name          start_time   usage_time            IP                MAC  \\\n",
       "0     user1 2022-05-10 02:59:32  00:00:36:28  10.55.14.222  48:E7:DA:58:22:E9   \n",
       "1     user1 2022-05-10 18:53:27  00:01:49:56   10.55.2.253  48:E7:DA:58:22:E9   \n",
       "2     user1 2022-05-10 21:20:44  00:01:35:00   10.55.2.253  48:E7:DA:58:22:E9   \n",
       "3     user1 2022-05-11 00:37:42  00:00:26:00   10.55.2.253  48:E7:DA:58:22:E9   \n",
       "4     user1 2022-05-11 02:59:38  00:00:11:52   10.55.2.253  48:E7:DA:58:22:E9   \n",
       "...     ...                 ...          ...           ...                ...   \n",
       "4707  user9 2022-11-04 01:11:34  00:06:54:32   10.55.4.189  DA:2F:97:0E:B7:D0   \n",
       "4708  user9 2022-11-04 10:26:09  00:00:23:49    10.55.4.59  DA:2F:97:0E:B7:D0   \n",
       "4709  user9 2022-11-04 20:41:42  00:01:24:13  10.55.15.186  DA:2F:97:0E:B7:D0   \n",
       "4710  user9 2022-11-05 00:21:06  00:08:49:43   10.55.4.159  DA:2F:97:0E:B7:D0   \n",
       "4711  user9 2022-11-05 20:55:37  00:01:06:20    10.55.2.33  DA:2F:97:0E:B7:D0   \n",
       "\n",
       "         upload    download  total_transfer seession_break_reason     month  \n",
       "0      15861.76   333168.64       349030.40          Idle-Timeout       May  \n",
       "1      16957.44   212152.32       229109.76          Idle-Timeout       May  \n",
       "2       14080.0   195153.92       209233.92          Idle-Timeout       May  \n",
       "3       5242.88     40806.4        46049.28          Idle-Timeout       May  \n",
       "4       22067.2    10772.48        32839.68          Idle-Timeout       May  \n",
       "...         ...         ...             ...                   ...       ...  \n",
       "4707  107960.32  2390753.28      2495610.88          Idle-Timeout  November  \n",
       "4708   11407.36   209674.24       221081.60          Idle-Timeout  November  \n",
       "4709    18995.2    373657.6       392652.80          Idle-Timeout  November  \n",
       "4710   46602.24    593766.4       640368.64          Idle-Timeout  November  \n",
       "4711   21237.76   298536.96       319774.72                   NaN  November  \n",
       "\n",
       "[4712 rows x 10 columns]"
      ]
     },
     "execution_count": 8,
     "metadata": {},
     "output_type": "execute_result"
    }
   ],
   "source": [
    "#adding a new month column from the start time\n",
    "data[\"month\"] = data[\"start_time\"].dt.month_name()\n",
    "data"
   ]
  },
  {
   "cell_type": "code",
   "execution_count": 9,
   "id": "e2f677b5",
   "metadata": {},
   "outputs": [
    {
     "data": {
      "text/html": [
       "<div>\n",
       "<style scoped>\n",
       "    .dataframe tbody tr th:only-of-type {\n",
       "        vertical-align: middle;\n",
       "    }\n",
       "\n",
       "    .dataframe tbody tr th {\n",
       "        vertical-align: top;\n",
       "    }\n",
       "\n",
       "    .dataframe thead th {\n",
       "        text-align: right;\n",
       "    }\n",
       "</style>\n",
       "<table border=\"1\" class=\"dataframe\">\n",
       "  <thead>\n",
       "    <tr style=\"text-align: right;\">\n",
       "      <th></th>\n",
       "      <th>name</th>\n",
       "      <th>start_time</th>\n",
       "      <th>usage_time</th>\n",
       "      <th>IP</th>\n",
       "      <th>MAC</th>\n",
       "      <th>upload</th>\n",
       "      <th>download</th>\n",
       "      <th>total_transfer</th>\n",
       "      <th>seession_break_reason</th>\n",
       "      <th>month</th>\n",
       "      <th>year</th>\n",
       "    </tr>\n",
       "  </thead>\n",
       "  <tbody>\n",
       "    <tr>\n",
       "      <th>0</th>\n",
       "      <td>user1</td>\n",
       "      <td>2022-05-10 02:59:32</td>\n",
       "      <td>00:00:36:28</td>\n",
       "      <td>10.55.14.222</td>\n",
       "      <td>48:E7:DA:58:22:E9</td>\n",
       "      <td>15861.76</td>\n",
       "      <td>333168.64</td>\n",
       "      <td>349030.40</td>\n",
       "      <td>Idle-Timeout</td>\n",
       "      <td>May</td>\n",
       "      <td>2022</td>\n",
       "    </tr>\n",
       "    <tr>\n",
       "      <th>1</th>\n",
       "      <td>user1</td>\n",
       "      <td>2022-05-10 18:53:27</td>\n",
       "      <td>00:01:49:56</td>\n",
       "      <td>10.55.2.253</td>\n",
       "      <td>48:E7:DA:58:22:E9</td>\n",
       "      <td>16957.44</td>\n",
       "      <td>212152.32</td>\n",
       "      <td>229109.76</td>\n",
       "      <td>Idle-Timeout</td>\n",
       "      <td>May</td>\n",
       "      <td>2022</td>\n",
       "    </tr>\n",
       "    <tr>\n",
       "      <th>2</th>\n",
       "      <td>user1</td>\n",
       "      <td>2022-05-10 21:20:44</td>\n",
       "      <td>00:01:35:00</td>\n",
       "      <td>10.55.2.253</td>\n",
       "      <td>48:E7:DA:58:22:E9</td>\n",
       "      <td>14080.0</td>\n",
       "      <td>195153.92</td>\n",
       "      <td>209233.92</td>\n",
       "      <td>Idle-Timeout</td>\n",
       "      <td>May</td>\n",
       "      <td>2022</td>\n",
       "    </tr>\n",
       "    <tr>\n",
       "      <th>3</th>\n",
       "      <td>user1</td>\n",
       "      <td>2022-05-11 00:37:42</td>\n",
       "      <td>00:00:26:00</td>\n",
       "      <td>10.55.2.253</td>\n",
       "      <td>48:E7:DA:58:22:E9</td>\n",
       "      <td>5242.88</td>\n",
       "      <td>40806.4</td>\n",
       "      <td>46049.28</td>\n",
       "      <td>Idle-Timeout</td>\n",
       "      <td>May</td>\n",
       "      <td>2022</td>\n",
       "    </tr>\n",
       "    <tr>\n",
       "      <th>4</th>\n",
       "      <td>user1</td>\n",
       "      <td>2022-05-11 02:59:38</td>\n",
       "      <td>00:00:11:52</td>\n",
       "      <td>10.55.2.253</td>\n",
       "      <td>48:E7:DA:58:22:E9</td>\n",
       "      <td>22067.2</td>\n",
       "      <td>10772.48</td>\n",
       "      <td>32839.68</td>\n",
       "      <td>Idle-Timeout</td>\n",
       "      <td>May</td>\n",
       "      <td>2022</td>\n",
       "    </tr>\n",
       "    <tr>\n",
       "      <th>...</th>\n",
       "      <td>...</td>\n",
       "      <td>...</td>\n",
       "      <td>...</td>\n",
       "      <td>...</td>\n",
       "      <td>...</td>\n",
       "      <td>...</td>\n",
       "      <td>...</td>\n",
       "      <td>...</td>\n",
       "      <td>...</td>\n",
       "      <td>...</td>\n",
       "      <td>...</td>\n",
       "    </tr>\n",
       "    <tr>\n",
       "      <th>4707</th>\n",
       "      <td>user9</td>\n",
       "      <td>2022-11-04 01:11:34</td>\n",
       "      <td>00:06:54:32</td>\n",
       "      <td>10.55.4.189</td>\n",
       "      <td>DA:2F:97:0E:B7:D0</td>\n",
       "      <td>107960.32</td>\n",
       "      <td>2390753.28</td>\n",
       "      <td>2495610.88</td>\n",
       "      <td>Idle-Timeout</td>\n",
       "      <td>November</td>\n",
       "      <td>2022</td>\n",
       "    </tr>\n",
       "    <tr>\n",
       "      <th>4708</th>\n",
       "      <td>user9</td>\n",
       "      <td>2022-11-04 10:26:09</td>\n",
       "      <td>00:00:23:49</td>\n",
       "      <td>10.55.4.59</td>\n",
       "      <td>DA:2F:97:0E:B7:D0</td>\n",
       "      <td>11407.36</td>\n",
       "      <td>209674.24</td>\n",
       "      <td>221081.60</td>\n",
       "      <td>Idle-Timeout</td>\n",
       "      <td>November</td>\n",
       "      <td>2022</td>\n",
       "    </tr>\n",
       "    <tr>\n",
       "      <th>4709</th>\n",
       "      <td>user9</td>\n",
       "      <td>2022-11-04 20:41:42</td>\n",
       "      <td>00:01:24:13</td>\n",
       "      <td>10.55.15.186</td>\n",
       "      <td>DA:2F:97:0E:B7:D0</td>\n",
       "      <td>18995.2</td>\n",
       "      <td>373657.6</td>\n",
       "      <td>392652.80</td>\n",
       "      <td>Idle-Timeout</td>\n",
       "      <td>November</td>\n",
       "      <td>2022</td>\n",
       "    </tr>\n",
       "    <tr>\n",
       "      <th>4710</th>\n",
       "      <td>user9</td>\n",
       "      <td>2022-11-05 00:21:06</td>\n",
       "      <td>00:08:49:43</td>\n",
       "      <td>10.55.4.159</td>\n",
       "      <td>DA:2F:97:0E:B7:D0</td>\n",
       "      <td>46602.24</td>\n",
       "      <td>593766.4</td>\n",
       "      <td>640368.64</td>\n",
       "      <td>Idle-Timeout</td>\n",
       "      <td>November</td>\n",
       "      <td>2022</td>\n",
       "    </tr>\n",
       "    <tr>\n",
       "      <th>4711</th>\n",
       "      <td>user9</td>\n",
       "      <td>2022-11-05 20:55:37</td>\n",
       "      <td>00:01:06:20</td>\n",
       "      <td>10.55.2.33</td>\n",
       "      <td>DA:2F:97:0E:B7:D0</td>\n",
       "      <td>21237.76</td>\n",
       "      <td>298536.96</td>\n",
       "      <td>319774.72</td>\n",
       "      <td>NaN</td>\n",
       "      <td>November</td>\n",
       "      <td>2022</td>\n",
       "    </tr>\n",
       "  </tbody>\n",
       "</table>\n",
       "<p>4712 rows × 11 columns</p>\n",
       "</div>"
      ],
      "text/plain": [
       "       name          start_time   usage_time            IP                MAC  \\\n",
       "0     user1 2022-05-10 02:59:32  00:00:36:28  10.55.14.222  48:E7:DA:58:22:E9   \n",
       "1     user1 2022-05-10 18:53:27  00:01:49:56   10.55.2.253  48:E7:DA:58:22:E9   \n",
       "2     user1 2022-05-10 21:20:44  00:01:35:00   10.55.2.253  48:E7:DA:58:22:E9   \n",
       "3     user1 2022-05-11 00:37:42  00:00:26:00   10.55.2.253  48:E7:DA:58:22:E9   \n",
       "4     user1 2022-05-11 02:59:38  00:00:11:52   10.55.2.253  48:E7:DA:58:22:E9   \n",
       "...     ...                 ...          ...           ...                ...   \n",
       "4707  user9 2022-11-04 01:11:34  00:06:54:32   10.55.4.189  DA:2F:97:0E:B7:D0   \n",
       "4708  user9 2022-11-04 10:26:09  00:00:23:49    10.55.4.59  DA:2F:97:0E:B7:D0   \n",
       "4709  user9 2022-11-04 20:41:42  00:01:24:13  10.55.15.186  DA:2F:97:0E:B7:D0   \n",
       "4710  user9 2022-11-05 00:21:06  00:08:49:43   10.55.4.159  DA:2F:97:0E:B7:D0   \n",
       "4711  user9 2022-11-05 20:55:37  00:01:06:20    10.55.2.33  DA:2F:97:0E:B7:D0   \n",
       "\n",
       "         upload    download  total_transfer seession_break_reason     month  \\\n",
       "0      15861.76   333168.64       349030.40          Idle-Timeout       May   \n",
       "1      16957.44   212152.32       229109.76          Idle-Timeout       May   \n",
       "2       14080.0   195153.92       209233.92          Idle-Timeout       May   \n",
       "3       5242.88     40806.4        46049.28          Idle-Timeout       May   \n",
       "4       22067.2    10772.48        32839.68          Idle-Timeout       May   \n",
       "...         ...         ...             ...                   ...       ...   \n",
       "4707  107960.32  2390753.28      2495610.88          Idle-Timeout  November   \n",
       "4708   11407.36   209674.24       221081.60          Idle-Timeout  November   \n",
       "4709    18995.2    373657.6       392652.80          Idle-Timeout  November   \n",
       "4710   46602.24    593766.4       640368.64          Idle-Timeout  November   \n",
       "4711   21237.76   298536.96       319774.72                   NaN  November   \n",
       "\n",
       "      year  \n",
       "0     2022  \n",
       "1     2022  \n",
       "2     2022  \n",
       "3     2022  \n",
       "4     2022  \n",
       "...    ...  \n",
       "4707  2022  \n",
       "4708  2022  \n",
       "4709  2022  \n",
       "4710  2022  \n",
       "4711  2022  \n",
       "\n",
       "[4712 rows x 11 columns]"
      ]
     },
     "execution_count": 9,
     "metadata": {},
     "output_type": "execute_result"
    }
   ],
   "source": [
    "#adding year column\n",
    "data[\"year\"] = data[\"start_time\"].dt.year\n",
    "data\n"
   ]
  },
  {
   "cell_type": "code",
   "execution_count": 10,
   "id": "2c62abd2",
   "metadata": {},
   "outputs": [
    {
     "data": {
      "text/html": [
       "<div>\n",
       "<style scoped>\n",
       "    .dataframe tbody tr th:only-of-type {\n",
       "        vertical-align: middle;\n",
       "    }\n",
       "\n",
       "    .dataframe tbody tr th {\n",
       "        vertical-align: top;\n",
       "    }\n",
       "\n",
       "    .dataframe thead th {\n",
       "        text-align: right;\n",
       "    }\n",
       "</style>\n",
       "<table border=\"1\" class=\"dataframe\">\n",
       "  <thead>\n",
       "    <tr style=\"text-align: right;\">\n",
       "      <th></th>\n",
       "      <th>name</th>\n",
       "      <th>start_time</th>\n",
       "      <th>usage_time</th>\n",
       "      <th>IP</th>\n",
       "      <th>MAC</th>\n",
       "      <th>upload</th>\n",
       "      <th>download</th>\n",
       "      <th>total_transfer</th>\n",
       "      <th>seession_break_reason</th>\n",
       "      <th>month</th>\n",
       "      <th>year</th>\n",
       "      <th>Day</th>\n",
       "    </tr>\n",
       "  </thead>\n",
       "  <tbody>\n",
       "    <tr>\n",
       "      <th>0</th>\n",
       "      <td>user1</td>\n",
       "      <td>2022-05-10 02:59:32</td>\n",
       "      <td>00:00:36:28</td>\n",
       "      <td>10.55.14.222</td>\n",
       "      <td>48:E7:DA:58:22:E9</td>\n",
       "      <td>15861.76</td>\n",
       "      <td>333168.64</td>\n",
       "      <td>349030.40</td>\n",
       "      <td>Idle-Timeout</td>\n",
       "      <td>May</td>\n",
       "      <td>2022</td>\n",
       "      <td>Tuesday</td>\n",
       "    </tr>\n",
       "    <tr>\n",
       "      <th>1</th>\n",
       "      <td>user1</td>\n",
       "      <td>2022-05-10 18:53:27</td>\n",
       "      <td>00:01:49:56</td>\n",
       "      <td>10.55.2.253</td>\n",
       "      <td>48:E7:DA:58:22:E9</td>\n",
       "      <td>16957.44</td>\n",
       "      <td>212152.32</td>\n",
       "      <td>229109.76</td>\n",
       "      <td>Idle-Timeout</td>\n",
       "      <td>May</td>\n",
       "      <td>2022</td>\n",
       "      <td>Tuesday</td>\n",
       "    </tr>\n",
       "    <tr>\n",
       "      <th>2</th>\n",
       "      <td>user1</td>\n",
       "      <td>2022-05-10 21:20:44</td>\n",
       "      <td>00:01:35:00</td>\n",
       "      <td>10.55.2.253</td>\n",
       "      <td>48:E7:DA:58:22:E9</td>\n",
       "      <td>14080.0</td>\n",
       "      <td>195153.92</td>\n",
       "      <td>209233.92</td>\n",
       "      <td>Idle-Timeout</td>\n",
       "      <td>May</td>\n",
       "      <td>2022</td>\n",
       "      <td>Tuesday</td>\n",
       "    </tr>\n",
       "    <tr>\n",
       "      <th>3</th>\n",
       "      <td>user1</td>\n",
       "      <td>2022-05-11 00:37:42</td>\n",
       "      <td>00:00:26:00</td>\n",
       "      <td>10.55.2.253</td>\n",
       "      <td>48:E7:DA:58:22:E9</td>\n",
       "      <td>5242.88</td>\n",
       "      <td>40806.4</td>\n",
       "      <td>46049.28</td>\n",
       "      <td>Idle-Timeout</td>\n",
       "      <td>May</td>\n",
       "      <td>2022</td>\n",
       "      <td>Wednesday</td>\n",
       "    </tr>\n",
       "    <tr>\n",
       "      <th>4</th>\n",
       "      <td>user1</td>\n",
       "      <td>2022-05-11 02:59:38</td>\n",
       "      <td>00:00:11:52</td>\n",
       "      <td>10.55.2.253</td>\n",
       "      <td>48:E7:DA:58:22:E9</td>\n",
       "      <td>22067.2</td>\n",
       "      <td>10772.48</td>\n",
       "      <td>32839.68</td>\n",
       "      <td>Idle-Timeout</td>\n",
       "      <td>May</td>\n",
       "      <td>2022</td>\n",
       "      <td>Wednesday</td>\n",
       "    </tr>\n",
       "    <tr>\n",
       "      <th>...</th>\n",
       "      <td>...</td>\n",
       "      <td>...</td>\n",
       "      <td>...</td>\n",
       "      <td>...</td>\n",
       "      <td>...</td>\n",
       "      <td>...</td>\n",
       "      <td>...</td>\n",
       "      <td>...</td>\n",
       "      <td>...</td>\n",
       "      <td>...</td>\n",
       "      <td>...</td>\n",
       "      <td>...</td>\n",
       "    </tr>\n",
       "    <tr>\n",
       "      <th>4707</th>\n",
       "      <td>user9</td>\n",
       "      <td>2022-11-04 01:11:34</td>\n",
       "      <td>00:06:54:32</td>\n",
       "      <td>10.55.4.189</td>\n",
       "      <td>DA:2F:97:0E:B7:D0</td>\n",
       "      <td>107960.32</td>\n",
       "      <td>2390753.28</td>\n",
       "      <td>2495610.88</td>\n",
       "      <td>Idle-Timeout</td>\n",
       "      <td>November</td>\n",
       "      <td>2022</td>\n",
       "      <td>Friday</td>\n",
       "    </tr>\n",
       "    <tr>\n",
       "      <th>4708</th>\n",
       "      <td>user9</td>\n",
       "      <td>2022-11-04 10:26:09</td>\n",
       "      <td>00:00:23:49</td>\n",
       "      <td>10.55.4.59</td>\n",
       "      <td>DA:2F:97:0E:B7:D0</td>\n",
       "      <td>11407.36</td>\n",
       "      <td>209674.24</td>\n",
       "      <td>221081.60</td>\n",
       "      <td>Idle-Timeout</td>\n",
       "      <td>November</td>\n",
       "      <td>2022</td>\n",
       "      <td>Friday</td>\n",
       "    </tr>\n",
       "    <tr>\n",
       "      <th>4709</th>\n",
       "      <td>user9</td>\n",
       "      <td>2022-11-04 20:41:42</td>\n",
       "      <td>00:01:24:13</td>\n",
       "      <td>10.55.15.186</td>\n",
       "      <td>DA:2F:97:0E:B7:D0</td>\n",
       "      <td>18995.2</td>\n",
       "      <td>373657.6</td>\n",
       "      <td>392652.80</td>\n",
       "      <td>Idle-Timeout</td>\n",
       "      <td>November</td>\n",
       "      <td>2022</td>\n",
       "      <td>Friday</td>\n",
       "    </tr>\n",
       "    <tr>\n",
       "      <th>4710</th>\n",
       "      <td>user9</td>\n",
       "      <td>2022-11-05 00:21:06</td>\n",
       "      <td>00:08:49:43</td>\n",
       "      <td>10.55.4.159</td>\n",
       "      <td>DA:2F:97:0E:B7:D0</td>\n",
       "      <td>46602.24</td>\n",
       "      <td>593766.4</td>\n",
       "      <td>640368.64</td>\n",
       "      <td>Idle-Timeout</td>\n",
       "      <td>November</td>\n",
       "      <td>2022</td>\n",
       "      <td>Saturday</td>\n",
       "    </tr>\n",
       "    <tr>\n",
       "      <th>4711</th>\n",
       "      <td>user9</td>\n",
       "      <td>2022-11-05 20:55:37</td>\n",
       "      <td>00:01:06:20</td>\n",
       "      <td>10.55.2.33</td>\n",
       "      <td>DA:2F:97:0E:B7:D0</td>\n",
       "      <td>21237.76</td>\n",
       "      <td>298536.96</td>\n",
       "      <td>319774.72</td>\n",
       "      <td>NaN</td>\n",
       "      <td>November</td>\n",
       "      <td>2022</td>\n",
       "      <td>Saturday</td>\n",
       "    </tr>\n",
       "  </tbody>\n",
       "</table>\n",
       "<p>4712 rows × 12 columns</p>\n",
       "</div>"
      ],
      "text/plain": [
       "       name          start_time   usage_time            IP                MAC  \\\n",
       "0     user1 2022-05-10 02:59:32  00:00:36:28  10.55.14.222  48:E7:DA:58:22:E9   \n",
       "1     user1 2022-05-10 18:53:27  00:01:49:56   10.55.2.253  48:E7:DA:58:22:E9   \n",
       "2     user1 2022-05-10 21:20:44  00:01:35:00   10.55.2.253  48:E7:DA:58:22:E9   \n",
       "3     user1 2022-05-11 00:37:42  00:00:26:00   10.55.2.253  48:E7:DA:58:22:E9   \n",
       "4     user1 2022-05-11 02:59:38  00:00:11:52   10.55.2.253  48:E7:DA:58:22:E9   \n",
       "...     ...                 ...          ...           ...                ...   \n",
       "4707  user9 2022-11-04 01:11:34  00:06:54:32   10.55.4.189  DA:2F:97:0E:B7:D0   \n",
       "4708  user9 2022-11-04 10:26:09  00:00:23:49    10.55.4.59  DA:2F:97:0E:B7:D0   \n",
       "4709  user9 2022-11-04 20:41:42  00:01:24:13  10.55.15.186  DA:2F:97:0E:B7:D0   \n",
       "4710  user9 2022-11-05 00:21:06  00:08:49:43   10.55.4.159  DA:2F:97:0E:B7:D0   \n",
       "4711  user9 2022-11-05 20:55:37  00:01:06:20    10.55.2.33  DA:2F:97:0E:B7:D0   \n",
       "\n",
       "         upload    download  total_transfer seession_break_reason     month  \\\n",
       "0      15861.76   333168.64       349030.40          Idle-Timeout       May   \n",
       "1      16957.44   212152.32       229109.76          Idle-Timeout       May   \n",
       "2       14080.0   195153.92       209233.92          Idle-Timeout       May   \n",
       "3       5242.88     40806.4        46049.28          Idle-Timeout       May   \n",
       "4       22067.2    10772.48        32839.68          Idle-Timeout       May   \n",
       "...         ...         ...             ...                   ...       ...   \n",
       "4707  107960.32  2390753.28      2495610.88          Idle-Timeout  November   \n",
       "4708   11407.36   209674.24       221081.60          Idle-Timeout  November   \n",
       "4709    18995.2    373657.6       392652.80          Idle-Timeout  November   \n",
       "4710   46602.24    593766.4       640368.64          Idle-Timeout  November   \n",
       "4711   21237.76   298536.96       319774.72                   NaN  November   \n",
       "\n",
       "      year        Day  \n",
       "0     2022    Tuesday  \n",
       "1     2022    Tuesday  \n",
       "2     2022    Tuesday  \n",
       "3     2022  Wednesday  \n",
       "4     2022  Wednesday  \n",
       "...    ...        ...  \n",
       "4707  2022     Friday  \n",
       "4708  2022     Friday  \n",
       "4709  2022     Friday  \n",
       "4710  2022   Saturday  \n",
       "4711  2022   Saturday  \n",
       "\n",
       "[4712 rows x 12 columns]"
      ]
     },
     "execution_count": 10,
     "metadata": {},
     "output_type": "execute_result"
    }
   ],
   "source": [
    "#adding day column\n",
    "data[\"Day\"] =  data[\"start_time\"].dt.day_name()\n",
    "data"
   ]
  },
  {
   "cell_type": "code",
   "execution_count": 11,
   "id": "d3f7f0ff",
   "metadata": {},
   "outputs": [
    {
     "name": "stdout",
     "output_type": "stream",
     "text": [
      "<class 'pandas.core.frame.DataFrame'>\n",
      "RangeIndex: 4712 entries, 0 to 4711\n",
      "Data columns (total 12 columns):\n",
      " #   Column                 Non-Null Count  Dtype         \n",
      "---  ------                 --------------  -----         \n",
      " 0   name                   4712 non-null   object        \n",
      " 1   start_time             4712 non-null   datetime64[ns]\n",
      " 2   usage_time             4712 non-null   object        \n",
      " 3   IP                     4712 non-null   object        \n",
      " 4   MAC                    4712 non-null   object        \n",
      " 5   upload                 4712 non-null   object        \n",
      " 6   download               4712 non-null   object        \n",
      " 7   total_transfer         4712 non-null   float64       \n",
      " 8   seession_break_reason  4703 non-null   object        \n",
      " 9   month                  4712 non-null   object        \n",
      " 10  year                   4712 non-null   int64         \n",
      " 11  Day                    4712 non-null   object        \n",
      "dtypes: datetime64[ns](1), float64(1), int64(1), object(9)\n",
      "memory usage: 441.9+ KB\n"
     ]
    }
   ],
   "source": [
    "#information about the dataset\n",
    "data.info()"
   ]
  },
  {
   "cell_type": "code",
   "execution_count": 12,
   "id": "07642cb2",
   "metadata": {},
   "outputs": [
    {
     "data": {
      "text/plain": [
       "name                     0\n",
       "start_time               0\n",
       "usage_time               0\n",
       "IP                       0\n",
       "MAC                      0\n",
       "upload                   0\n",
       "download                 0\n",
       "total_transfer           0\n",
       "seession_break_reason    9\n",
       "month                    0\n",
       "year                     0\n",
       "Day                      0\n",
       "dtype: int64"
      ]
     },
     "execution_count": 12,
     "metadata": {},
     "output_type": "execute_result"
    }
   ],
   "source": [
    "#checking for null values\n",
    "data.isnull().sum()"
   ]
  },
  {
   "cell_type": "code",
   "execution_count": 13,
   "id": "a29806ae",
   "metadata": {},
   "outputs": [],
   "source": [
    "#droppping null values\n",
    "data.dropna(inplace=True)"
   ]
  },
  {
   "cell_type": "code",
   "execution_count": 14,
   "id": "8c0c7296",
   "metadata": {},
   "outputs": [
    {
     "name": "stdout",
     "output_type": "stream",
     "text": [
      "<class 'pandas.core.frame.DataFrame'>\n",
      "Int64Index: 4703 entries, 0 to 4710\n",
      "Data columns (total 12 columns):\n",
      " #   Column                 Non-Null Count  Dtype         \n",
      "---  ------                 --------------  -----         \n",
      " 0   name                   4703 non-null   object        \n",
      " 1   start_time             4703 non-null   datetime64[ns]\n",
      " 2   usage_time             4703 non-null   object        \n",
      " 3   IP                     4703 non-null   object        \n",
      " 4   MAC                    4703 non-null   object        \n",
      " 5   upload                 4703 non-null   object        \n",
      " 6   download               4703 non-null   object        \n",
      " 7   total_transfer         4703 non-null   float64       \n",
      " 8   seession_break_reason  4703 non-null   object        \n",
      " 9   month                  4703 non-null   object        \n",
      " 10  year                   4703 non-null   int64         \n",
      " 11  Day                    4703 non-null   object        \n",
      "dtypes: datetime64[ns](1), float64(1), int64(1), object(9)\n",
      "memory usage: 477.6+ KB\n"
     ]
    }
   ],
   "source": [
    "data.info()"
   ]
  },
  {
   "cell_type": "code",
   "execution_count": 15,
   "id": "7fa474f1",
   "metadata": {},
   "outputs": [
    {
     "name": "stdout",
     "output_type": "stream",
     "text": [
      "<class 'pandas.core.frame.DataFrame'>\n",
      "Int64Index: 4702 entries, 0 to 4710\n",
      "Data columns (total 12 columns):\n",
      " #   Column                 Non-Null Count  Dtype         \n",
      "---  ------                 --------------  -----         \n",
      " 0   name                   4702 non-null   object        \n",
      " 1   start_time             4702 non-null   datetime64[ns]\n",
      " 2   usage_time             4702 non-null   object        \n",
      " 3   IP                     4702 non-null   object        \n",
      " 4   MAC                    4702 non-null   object        \n",
      " 5   upload                 4702 non-null   object        \n",
      " 6   download               4702 non-null   object        \n",
      " 7   total_transfer         4702 non-null   float64       \n",
      " 8   seession_break_reason  4702 non-null   object        \n",
      " 9   month                  4702 non-null   object        \n",
      " 10  year                   4702 non-null   int64         \n",
      " 11  Day                    4702 non-null   object        \n",
      "dtypes: datetime64[ns](1), float64(1), int64(1), object(9)\n",
      "memory usage: 477.5+ KB\n"
     ]
    }
   ],
   "source": [
    "#dropping row index 1641,because of its values\n",
    "Data = data.drop(data.index[1641])\n",
    "Data.info()"
   ]
  },
  {
   "cell_type": "code",
   "execution_count": 16,
   "id": "3beac20d",
   "metadata": {},
   "outputs": [
    {
     "name": "stdout",
     "output_type": "stream",
     "text": [
      "<class 'pandas.core.frame.DataFrame'>\n",
      "Int64Index: 4701 entries, 0 to 4710\n",
      "Data columns (total 12 columns):\n",
      " #   Column                 Non-Null Count  Dtype         \n",
      "---  ------                 --------------  -----         \n",
      " 0   name                   4701 non-null   object        \n",
      " 1   start_time             4701 non-null   datetime64[ns]\n",
      " 2   usage_time             4701 non-null   object        \n",
      " 3   IP                     4701 non-null   object        \n",
      " 4   MAC                    4701 non-null   object        \n",
      " 5   upload                 4701 non-null   float64       \n",
      " 6   download               4701 non-null   float64       \n",
      " 7   total_transfer         4701 non-null   float64       \n",
      " 8   seession_break_reason  4701 non-null   object        \n",
      " 9   month                  4701 non-null   object        \n",
      " 10  year                   4701 non-null   int64         \n",
      " 11  Day                    4701 non-null   object        \n",
      "dtypes: datetime64[ns](1), float64(3), int64(1), object(7)\n",
      "memory usage: 477.4+ KB\n"
     ]
    }
   ],
   "source": [
    "#dropping row index 1648\n",
    "Data.drop(Data.index[1648], inplace =True)\n",
    "#converting upload and download column to float datatype\n",
    "Data[\"upload\"] = Data[\"upload\"].astype(float)\n",
    "Data[\"download\"] = Data[\"download\"].astype(float)\n",
    "Data.info()"
   ]
  },
  {
   "cell_type": "code",
   "execution_count": 17,
   "id": "35ff944a",
   "metadata": {},
   "outputs": [],
   "source": [
    "Data[\"year\"] = Data[\"year\"].astype(str)"
   ]
  },
  {
   "cell_type": "code",
   "execution_count": 18,
   "id": "55acae48",
   "metadata": {},
   "outputs": [
    {
     "data": {
      "text/plain": [
       "name                             object\n",
       "start_time               datetime64[ns]\n",
       "usage_time                       object\n",
       "IP                               object\n",
       "MAC                              object\n",
       "upload                          float64\n",
       "download                        float64\n",
       "total_transfer                  float64\n",
       "seession_break_reason            object\n",
       "month                            object\n",
       "year                             object\n",
       "Day                              object\n",
       "dtype: object"
      ]
     },
     "execution_count": 18,
     "metadata": {},
     "output_type": "execute_result"
    }
   ],
   "source": [
    "Data.dtypes"
   ]
  },
  {
   "cell_type": "code",
   "execution_count": 19,
   "id": "63d54dec",
   "metadata": {},
   "outputs": [
    {
     "data": {
      "text/html": [
       "<div>\n",
       "<style scoped>\n",
       "    .dataframe tbody tr th:only-of-type {\n",
       "        vertical-align: middle;\n",
       "    }\n",
       "\n",
       "    .dataframe tbody tr th {\n",
       "        vertical-align: top;\n",
       "    }\n",
       "\n",
       "    .dataframe thead th {\n",
       "        text-align: right;\n",
       "    }\n",
       "</style>\n",
       "<table border=\"1\" class=\"dataframe\">\n",
       "  <thead>\n",
       "    <tr style=\"text-align: right;\">\n",
       "      <th></th>\n",
       "      <th>count</th>\n",
       "      <th>unique</th>\n",
       "      <th>top</th>\n",
       "      <th>freq</th>\n",
       "      <th>first</th>\n",
       "      <th>last</th>\n",
       "    </tr>\n",
       "  </thead>\n",
       "  <tbody>\n",
       "    <tr>\n",
       "      <th>name</th>\n",
       "      <td>4701</td>\n",
       "      <td>9</td>\n",
       "      <td>user4</td>\n",
       "      <td>724</td>\n",
       "      <td>NaT</td>\n",
       "      <td>NaT</td>\n",
       "    </tr>\n",
       "    <tr>\n",
       "      <th>start_time</th>\n",
       "      <td>4701</td>\n",
       "      <td>4027</td>\n",
       "      <td>2022-05-10 02:59:32</td>\n",
       "      <td>2</td>\n",
       "      <td>2022-05-09 22:52:41</td>\n",
       "      <td>2022-11-05 18:41:14</td>\n",
       "    </tr>\n",
       "    <tr>\n",
       "      <th>usage_time</th>\n",
       "      <td>4701</td>\n",
       "      <td>3550</td>\n",
       "      <td>00:00:25:14</td>\n",
       "      <td>7</td>\n",
       "      <td>NaT</td>\n",
       "      <td>NaT</td>\n",
       "    </tr>\n",
       "    <tr>\n",
       "      <th>IP</th>\n",
       "      <td>4701</td>\n",
       "      <td>1299</td>\n",
       "      <td>10.55.0.89</td>\n",
       "      <td>80</td>\n",
       "      <td>NaT</td>\n",
       "      <td>NaT</td>\n",
       "    </tr>\n",
       "    <tr>\n",
       "      <th>MAC</th>\n",
       "      <td>4701</td>\n",
       "      <td>33</td>\n",
       "      <td>48:E7:DA:58:22:E9</td>\n",
       "      <td>1235</td>\n",
       "      <td>NaT</td>\n",
       "      <td>NaT</td>\n",
       "    </tr>\n",
       "    <tr>\n",
       "      <th>seession_break_reason</th>\n",
       "      <td>4701</td>\n",
       "      <td>5</td>\n",
       "      <td>Idle-Timeout</td>\n",
       "      <td>4348</td>\n",
       "      <td>NaT</td>\n",
       "      <td>NaT</td>\n",
       "    </tr>\n",
       "    <tr>\n",
       "      <th>month</th>\n",
       "      <td>4701</td>\n",
       "      <td>7</td>\n",
       "      <td>June</td>\n",
       "      <td>1121</td>\n",
       "      <td>NaT</td>\n",
       "      <td>NaT</td>\n",
       "    </tr>\n",
       "    <tr>\n",
       "      <th>year</th>\n",
       "      <td>4701</td>\n",
       "      <td>1</td>\n",
       "      <td>2022</td>\n",
       "      <td>4701</td>\n",
       "      <td>NaT</td>\n",
       "      <td>NaT</td>\n",
       "    </tr>\n",
       "    <tr>\n",
       "      <th>Day</th>\n",
       "      <td>4701</td>\n",
       "      <td>7</td>\n",
       "      <td>Tuesday</td>\n",
       "      <td>740</td>\n",
       "      <td>NaT</td>\n",
       "      <td>NaT</td>\n",
       "    </tr>\n",
       "  </tbody>\n",
       "</table>\n",
       "</div>"
      ],
      "text/plain": [
       "                      count unique                  top  freq  \\\n",
       "name                   4701      9                user4   724   \n",
       "start_time             4701   4027  2022-05-10 02:59:32     2   \n",
       "usage_time             4701   3550          00:00:25:14     7   \n",
       "IP                     4701   1299           10.55.0.89    80   \n",
       "MAC                    4701     33    48:E7:DA:58:22:E9  1235   \n",
       "seession_break_reason  4701      5         Idle-Timeout  4348   \n",
       "month                  4701      7                 June  1121   \n",
       "year                   4701      1                 2022  4701   \n",
       "Day                    4701      7              Tuesday   740   \n",
       "\n",
       "                                    first                last  \n",
       "name                                  NaT                 NaT  \n",
       "start_time            2022-05-09 22:52:41 2022-11-05 18:41:14  \n",
       "usage_time                            NaT                 NaT  \n",
       "IP                                    NaT                 NaT  \n",
       "MAC                                   NaT                 NaT  \n",
       "seession_break_reason                 NaT                 NaT  \n",
       "month                                 NaT                 NaT  \n",
       "year                                  NaT                 NaT  \n",
       "Day                                   NaT                 NaT  "
      ]
     },
     "execution_count": 19,
     "metadata": {},
     "output_type": "execute_result"
    }
   ],
   "source": [
    "Data.describe(exclude=\"number\").T"
   ]
  },
  {
   "cell_type": "code",
   "execution_count": 20,
   "id": "334ced04",
   "metadata": {},
   "outputs": [
    {
     "data": {
      "text/html": [
       "<div>\n",
       "<style scoped>\n",
       "    .dataframe tbody tr th:only-of-type {\n",
       "        vertical-align: middle;\n",
       "    }\n",
       "\n",
       "    .dataframe tbody tr th {\n",
       "        vertical-align: top;\n",
       "    }\n",
       "\n",
       "    .dataframe thead th {\n",
       "        text-align: right;\n",
       "    }\n",
       "</style>\n",
       "<table border=\"1\" class=\"dataframe\">\n",
       "  <thead>\n",
       "    <tr style=\"text-align: right;\">\n",
       "      <th></th>\n",
       "      <th>count</th>\n",
       "      <th>mean</th>\n",
       "      <th>std</th>\n",
       "      <th>min</th>\n",
       "      <th>25%</th>\n",
       "      <th>50%</th>\n",
       "      <th>75%</th>\n",
       "      <th>max</th>\n",
       "    </tr>\n",
       "  </thead>\n",
       "  <tbody>\n",
       "    <tr>\n",
       "      <th>upload</th>\n",
       "      <td>4701.0</td>\n",
       "      <td>33801.714769</td>\n",
       "      <td>94950.120587</td>\n",
       "      <td>2.94</td>\n",
       "      <td>6103.04</td>\n",
       "      <td>15339.52</td>\n",
       "      <td>33996.80</td>\n",
       "      <td>2841640.96</td>\n",
       "    </tr>\n",
       "    <tr>\n",
       "      <th>download</th>\n",
       "      <td>4701.0</td>\n",
       "      <td>396833.564488</td>\n",
       "      <td>965948.651716</td>\n",
       "      <td>9.60</td>\n",
       "      <td>52080.64</td>\n",
       "      <td>178268.16</td>\n",
       "      <td>459366.40</td>\n",
       "      <td>27902607.36</td>\n",
       "    </tr>\n",
       "    <tr>\n",
       "      <th>total_transfer</th>\n",
       "      <td>4701.0</td>\n",
       "      <td>430620.333531</td>\n",
       "      <td>996257.149114</td>\n",
       "      <td>15.25</td>\n",
       "      <td>61890.56</td>\n",
       "      <td>202905.60</td>\n",
       "      <td>499640.32</td>\n",
       "      <td>28552724.48</td>\n",
       "    </tr>\n",
       "  </tbody>\n",
       "</table>\n",
       "</div>"
      ],
      "text/plain": [
       "                 count           mean            std    min       25%  \\\n",
       "upload          4701.0   33801.714769   94950.120587   2.94   6103.04   \n",
       "download        4701.0  396833.564488  965948.651716   9.60  52080.64   \n",
       "total_transfer  4701.0  430620.333531  996257.149114  15.25  61890.56   \n",
       "\n",
       "                      50%        75%          max  \n",
       "upload           15339.52   33996.80   2841640.96  \n",
       "download        178268.16  459366.40  27902607.36  \n",
       "total_transfer  202905.60  499640.32  28552724.48  "
      ]
     },
     "execution_count": 20,
     "metadata": {},
     "output_type": "execute_result"
    }
   ],
   "source": [
    "#Describing float and numeric datatype columns\n",
    "Data.describe().T"
   ]
  },
  {
   "cell_type": "code",
   "execution_count": 21,
   "id": "f7e517e5",
   "metadata": {},
   "outputs": [
    {
     "data": {
      "text/html": [
       "<div>\n",
       "<style scoped>\n",
       "    .dataframe tbody tr th:only-of-type {\n",
       "        vertical-align: middle;\n",
       "    }\n",
       "\n",
       "    .dataframe tbody tr th {\n",
       "        vertical-align: top;\n",
       "    }\n",
       "\n",
       "    .dataframe thead th {\n",
       "        text-align: right;\n",
       "    }\n",
       "</style>\n",
       "<table border=\"1\" class=\"dataframe\">\n",
       "  <thead>\n",
       "    <tr style=\"text-align: right;\">\n",
       "      <th></th>\n",
       "      <th>upload</th>\n",
       "      <th>download</th>\n",
       "      <th>total_transfer</th>\n",
       "    </tr>\n",
       "  </thead>\n",
       "  <tbody>\n",
       "    <tr>\n",
       "      <th>upload</th>\n",
       "      <td>1.000000</td>\n",
       "      <td>0.275591</td>\n",
       "      <td>0.362542</td>\n",
       "    </tr>\n",
       "    <tr>\n",
       "      <th>download</th>\n",
       "      <td>0.275591</td>\n",
       "      <td>1.000000</td>\n",
       "      <td>0.995790</td>\n",
       "    </tr>\n",
       "    <tr>\n",
       "      <th>total_transfer</th>\n",
       "      <td>0.362542</td>\n",
       "      <td>0.995790</td>\n",
       "      <td>1.000000</td>\n",
       "    </tr>\n",
       "  </tbody>\n",
       "</table>\n",
       "</div>"
      ],
      "text/plain": [
       "                  upload  download  total_transfer\n",
       "upload          1.000000  0.275591        0.362542\n",
       "download        0.275591  1.000000        0.995790\n",
       "total_transfer  0.362542  0.995790        1.000000"
      ]
     },
     "execution_count": 21,
     "metadata": {},
     "output_type": "execute_result"
    }
   ],
   "source": [
    "corr=Data.corr()\n",
    "corr"
   ]
  },
  {
   "cell_type": "code",
   "execution_count": 22,
   "id": "33afb3a7",
   "metadata": {},
   "outputs": [
    {
     "data": {
      "text/plain": [
       "<AxesSubplot:>"
      ]
     },
     "execution_count": 22,
     "metadata": {},
     "output_type": "execute_result"
    },
    {
     "data": {
      "image/png": "[encoded data removed]",
      "text/plain": [
       "<Figure size 432x288 with 2 Axes>"
      ]
     },
     "metadata": {},
     "output_type": "display_data"
    }
   ],
   "source": [
    "#visualizing correlation\n",
    "sns.heatmap(corr,cmap=sns.diverging_palette(50,500,n=500))"
   ]
  },
  {
   "cell_type": "markdown",
   "id": "080b48b7",
   "metadata": {},
   "source": [
    "## data visualization"
   ]
  },
  {
   "cell_type": "code",
   "execution_count": 23,
   "id": "b2992796",
   "metadata": {},
   "outputs": [
    {
     "data": {
      "text/plain": [
       "Text(0.5, 1.0, 'Usage per Day')"
      ]
     },
     "execution_count": 23,
     "metadata": {},
     "output_type": "execute_result"
    },
    {
     "data": {
      "image/png": "[encoded data removed]",
      "text/plain": [
       "<Figure size 720x432 with 1 Axes>"
      ]
     },
     "metadata": {},
     "output_type": "display_data"
    }
   ],
   "source": [
    "plt.figure(figsize=(10,6))\n",
    "sns.countplot(Data[\"Day\"])\n",
    "plt.xticks(rotation=75)\n",
    "plt.title(\"Usage per Day\",fontsize=15)"
   ]
  },
  {
   "cell_type": "markdown",
   "id": "89ef9c13",
   "metadata": {},
   "source": [
    "Tuesday,Thursday and Saturday had the highest percentage of internet usage almost 90%,while friday has the least percentage of internet usage"
   ]
  },
  {
   "cell_type": "code",
   "execution_count": 24,
   "id": "7ad4b0c0",
   "metadata": {},
   "outputs": [
    {
     "data": {
      "text/plain": [
       "Text(0.5, 1.0, 'Usage per Month')"
      ]
     },
     "execution_count": 24,
     "metadata": {},
     "output_type": "execute_result"
    },
    {
     "data": {
      "image/png": "[encoded data removed]",
      "text/plain": [
       "<Figure size 720x432 with 1 Axes>"
      ]
     },
     "metadata": {},
     "output_type": "display_data"
    }
   ],
   "source": [
    "\n",
    "plt.figure(figsize=(10,6))\n",
    "sns.countplot(Data[\"month\"])\n",
    "plt.title(\"Usage per Month\",fontsize=15)"
   ]
  },
  {
   "cell_type": "markdown",
   "id": "460dfadf",
   "metadata": {},
   "source": [
    "June had the highest number  of internet usage more than 90% while July followed by november had the lowest about 15%"
   ]
  },
  {
   "cell_type": "code",
   "execution_count": 25,
   "id": "bd9ea086",
   "metadata": {},
   "outputs": [
    {
     "data": {
      "text/plain": [
       "Text(0.5, 1.0, 'Break reason')"
      ]
     },
     "execution_count": 25,
     "metadata": {},
     "output_type": "execute_result"
    },
    {
     "data": {
      "image/png": "[encoded data removed]",
      "text/plain": [
       "<Figure size 720x432 with 1 Axes>"
      ]
     },
     "metadata": {},
     "output_type": "display_data"
    }
   ],
   "source": [
    "plt.figure(figsize=(10,6))\n",
    "sns.countplot(Data[\"seession_break_reason\"])\n",
    "plt.title(\"Break reason\",fontsize=15)"
   ]
  },
  {
   "cell_type": "markdown",
   "id": "ac1fe8f0",
   "metadata": {},
   "source": [
    "idle timeout was the most frequent cause of sessions breaks,followed by lost service"
   ]
  },
  {
   "cell_type": "markdown",
   "id": "9f84545a",
   "metadata": {},
   "source": [
    "## Bivariate Analysis"
   ]
  },
  {
   "cell_type": "code",
   "execution_count": 38,
   "id": "c8e4536f",
   "metadata": {},
   "outputs": [
    {
     "data": {
      "text/plain": [
       "Text(0.5, 1.0, 'Uploads vs users')"
      ]
     },
     "execution_count": 38,
     "metadata": {},
     "output_type": "execute_result"
    },
    {
     "data": {
      "image/png": "[encoded data removed]",
      "text/plain": [
       "<Figure size 720x432 with 1 Axes>"
      ]
     },
     "metadata": {},
     "output_type": "display_data"
    }
   ],
   "source": [
    "plt.figure(figsize=(10,6))\n",
    "sns.barplot(x=Data[\"name\"],y=Data[\"upload\"])\n",
    "plt.title(\"Uploads vs users\",fontsize=15)"
   ]
  },
  {
   "cell_type": "markdown",
   "id": "06706b95",
   "metadata": {},
   "source": [
    "user 5 ,had the most uploads,whiole user 1 had the least"
   ]
  },
  {
   "cell_type": "code",
   "execution_count": 40,
   "id": "c2bf4956",
   "metadata": {},
   "outputs": [
    {
     "data": {
      "text/plain": [
       "Text(0.5, 1.0, 'Days vs downloads')"
      ]
     },
     "execution_count": 40,
     "metadata": {},
     "output_type": "execute_result"
    },
    {
     "data": {
      "image/png": "[encoded data removed]",
      "text/plain": [
       "<Figure size 720x432 with 1 Axes>"
      ]
     },
     "metadata": {},
     "output_type": "display_data"
    }
   ],
   "source": [
    "plt.figure(figsize=(10,6))\n",
    "sns.barplot(x=Data[\"Day\"],y=Data[\"download\"])\n",
    "plt.title(\"Days vs downloads\",fontsize=15)"
   ]
  },
  {
   "cell_type": "markdown",
   "id": "37e887c9",
   "metadata": {},
   "source": [
    "Thursday had the most downloads while tuesday had the least"
   ]
  },
  {
   "cell_type": "code",
   "execution_count": 42,
   "id": "f8633898",
   "metadata": {},
   "outputs": [
    {
     "data": {
      "text/plain": [
       "Text(0.5, 1.0, 'Uploads vs Day')"
      ]
     },
     "execution_count": 42,
     "metadata": {},
     "output_type": "execute_result"
    },
    {
     "data": {
      "image/png": "[encoded data removed]",
      "text/plain": [
       "<Figure size 720x432 with 1 Axes>"
      ]
     },
     "metadata": {},
     "output_type": "display_data"
    }
   ],
   "source": [
    "plt.figure(figsize=(10,6))\n",
    "sns.barplot(x=Data[\"Day\"],y=Data[\"upload\"])\n",
    "plt.title(\"Uploads vs Day\",fontsize=15)"
   ]
  },
  {
   "cell_type": "code",
   "execution_count": 46,
   "id": "b68c66c0",
   "metadata": {},
   "outputs": [
    {
     "data": {
      "text/plain": [
       "Text(0.5, 1.0, 'Day vs total transfers')"
      ]
     },
     "execution_count": 46,
     "metadata": {},
     "output_type": "execute_result"
    },
    {
     "data": {
      "image/png": "[encoded data removed]",
      "text/plain": [
       "<Figure size 720x432 with 1 Axes>"
      ]
     },
     "metadata": {},
     "output_type": "display_data"
    }
   ],
   "source": [
    "plt.figure(figsize=(10,6))\n",
    "sns.barplot(x=Data[\"Day\"],y=Data[\"total_transfer\"])\n",
    "plt.title(\"Day vs total transfers\")"
   ]
  },
  {
   "cell_type": "markdown",
   "id": "2b2c4ba2",
   "metadata": {},
   "source": [
    "Tuesday had the least uploads and total transfers"
   ]
  },
  {
   "cell_type": "markdown",
   "id": "16b30645",
   "metadata": {},
   "source": [
    "In the above,tuesday had the most percentage of internet usage while it had the least uploads,downloads and file transfers"
   ]
  },
  {
   "cell_type": "code",
   "execution_count": 48,
   "id": "6a00515a",
   "metadata": {},
   "outputs": [
    {
     "data": {
      "text/plain": [
       "Text(0.5, 1.0, 'Upload vs dowload linechart')"
      ]
     },
     "execution_count": 48,
     "metadata": {},
     "output_type": "execute_result"
    },
    {
     "data": {
      "image/png": "[encoded data removed]",
      "text/plain": [
       "<Figure size 720x432 with 1 Axes>"
      ]
     },
     "metadata": {},
     "output_type": "display_data"
    }
   ],
   "source": [
    "plt.figure(figsize=(10,6))\n",
    "sns.lineplot(x=Data[\"upload\"],y=Data[\"download\"])\n",
    "plt.title(\"Upload vs dowload linechart\")"
   ]
  },
  {
   "cell_type": "code",
   "execution_count": 49,
   "id": "396ea91a",
   "metadata": {},
   "outputs": [
    {
     "data": {
      "text/plain": [
       "<AxesSubplot:xlabel='total_transfer', ylabel='download'>"
      ]
     },
     "execution_count": 49,
     "metadata": {},
     "output_type": "execute_result"
    },
    {
     "data": {
      "image/png": "[encoded data removed]",
      "text/plain": [
       "<Figure size 720x432 with 1 Axes>"
      ]
     },
     "metadata": {},
     "output_type": "display_data"
    }
   ],
   "source": [
    "plt.figure(figsize=(10,6))\n",
    "sns.lineplot(x=Data[\"total_transfer\"],y=Data[\"download\"])"
   ]
  },
  {
   "cell_type": "code",
   "execution_count": 50,
   "id": "7ebba9d8",
   "metadata": {},
   "outputs": [
    {
     "data": {
      "text/plain": [
       "<AxesSubplot:xlabel='total_transfer', ylabel='upload'>"
      ]
     },
     "execution_count": 50,
     "metadata": {},
     "output_type": "execute_result"
    },
    {
     "data": {
      "image/png": "[encoded data removed]",
      "text/plain": [
       "<Figure size 720x432 with 1 Axes>"
      ]
     },
     "metadata": {},
     "output_type": "display_data"
    }
   ],
   "source": [
    "plt.figure(figsize=(10,6))\n",
    "sns.lineplot(x=Data[\"total_transfer\"],y=Data[\"upload\"])"
   ]
  },
  {
   "cell_type": "code",
   "execution_count": null,
   "id": "7932faf1",
   "metadata": {},
   "outputs": [],
   "source": []
  }
 ],
 "metadata": {
  "kernelspec": {
   "display_name": "Python 3 (ipykernel)",
   "language": "python",
   "name": "python3"
  },
  "language_info": {
   "codemirror_mode": {
    "name": "ipython",
    "version": 3
   },
   "file_extension": ".py",
   "mimetype": "text/x-python",
   "name": "python",
   "nbconvert_exporter": "python",
   "pygments_lexer": "ipython3",
   "version": "3.9.12"
  }
 },
 "nbformat": 4,
 "nbformat_minor": 5
}
