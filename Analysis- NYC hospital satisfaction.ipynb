{
 "cells": [
  {
   "cell_type": "code",
   "execution_count": 1,
   "id": "9f994634",
   "metadata": {},
   "outputs": [],
   "source": [
    "import pandas as pd\n",
    "import numpy as np\n",
    "import matplotlib.pyplot as plt"
   ]
  },
  {
   "cell_type": "code",
   "execution_count": 6,
   "id": "81cc32a6",
   "metadata": {},
   "outputs": [
    {
     "data": {
      "text/html": [
       "<div>\n",
       "<style scoped>\n",
       "    .dataframe tbody tr th:only-of-type {\n",
       "        vertical-align: middle;\n",
       "    }\n",
       "\n",
       "    .dataframe tbody tr th {\n",
       "        vertical-align: top;\n",
       "    }\n",
       "\n",
       "    .dataframe thead th {\n",
       "        text-align: right;\n",
       "    }\n",
       "</style>\n",
       "<table border=\"1\" class=\"dataframe\">\n",
       "  <thead>\n",
       "    <tr style=\"text-align: right;\">\n",
       "      <th></th>\n",
       "      <th>Hospital Name</th>\n",
       "      <th>HCAHPS Question</th>\n",
       "      <th>HCAHPS Answer Description</th>\n",
       "      <th>HCAHPS Answer Percent</th>\n",
       "    </tr>\n",
       "  </thead>\n",
       "  <tbody>\n",
       "    <tr>\n",
       "      <th>0</th>\n",
       "      <td>BELLEVUE HOSPITAL CENTER</td>\n",
       "      <td>How often were the patients rooms and bathroom...</td>\n",
       "      <td>Room was \"always\" clean</td>\n",
       "      <td>56</td>\n",
       "    </tr>\n",
       "    <tr>\n",
       "      <th>1</th>\n",
       "      <td>CONEY ISLAND HOSPITAL</td>\n",
       "      <td>How often were the patients rooms and bathroom...</td>\n",
       "      <td>Room was \"always\" clean</td>\n",
       "      <td>64</td>\n",
       "    </tr>\n",
       "    <tr>\n",
       "      <th>2</th>\n",
       "      <td>ELMHURST HOSPITAL CENTER</td>\n",
       "      <td>How often were the patients rooms and bathroom...</td>\n",
       "      <td>Room was \"always\" clean</td>\n",
       "      <td>57</td>\n",
       "    </tr>\n",
       "    <tr>\n",
       "      <th>3</th>\n",
       "      <td>HARLEM HOSPITAL CENTER</td>\n",
       "      <td>How often were the patients rooms and bathroom...</td>\n",
       "      <td>Room was \"always\" clean</td>\n",
       "      <td>61</td>\n",
       "    </tr>\n",
       "    <tr>\n",
       "      <th>4</th>\n",
       "      <td>JACOBI MEDICAL CENTER</td>\n",
       "      <td>How often were the patients rooms and bathroom...</td>\n",
       "      <td>Room was \"always\" clean</td>\n",
       "      <td>63</td>\n",
       "    </tr>\n",
       "    <tr>\n",
       "      <th>...</th>\n",
       "      <td>...</td>\n",
       "      <td>...</td>\n",
       "      <td>...</td>\n",
       "      <td>...</td>\n",
       "    </tr>\n",
       "    <tr>\n",
       "      <th>105</th>\n",
       "      <td>LINCOLN MEDICAL &amp; MENTAL HEALTH CENTER</td>\n",
       "      <td>Would patients recommend the hospital to frien...</td>\n",
       "      <td>\"YES\", patients would definitely recommend the...</td>\n",
       "      <td>57</td>\n",
       "    </tr>\n",
       "    <tr>\n",
       "      <th>106</th>\n",
       "      <td>METROPOLITAN HOSPITAL CENTER</td>\n",
       "      <td>Would patients recommend the hospital to frien...</td>\n",
       "      <td>\"YES\", patients would definitely recommend the...</td>\n",
       "      <td>56</td>\n",
       "    </tr>\n",
       "    <tr>\n",
       "      <th>107</th>\n",
       "      <td>NORTH CENTRAL BRONX HOSPITAL</td>\n",
       "      <td>Would patients recommend the hospital to frien...</td>\n",
       "      <td>\"YES\", patients would definitely recommend the...</td>\n",
       "      <td>61</td>\n",
       "    </tr>\n",
       "    <tr>\n",
       "      <th>108</th>\n",
       "      <td>QUEENS HOSPITAL CENTER</td>\n",
       "      <td>Would patients recommend the hospital to frien...</td>\n",
       "      <td>\"YES\", patients would definitely recommend the...</td>\n",
       "      <td>71</td>\n",
       "    </tr>\n",
       "    <tr>\n",
       "      <th>109</th>\n",
       "      <td>WOODHULL MEDICAL AND MENTAL HEALTH CENTER</td>\n",
       "      <td>Would patients recommend the hospital to frien...</td>\n",
       "      <td>\"YES\", patients would definitely recommend the...</td>\n",
       "      <td>59</td>\n",
       "    </tr>\n",
       "  </tbody>\n",
       "</table>\n",
       "<p>110 rows × 4 columns</p>\n",
       "</div>"
      ],
      "text/plain": [
       "                                 Hospital Name  \\\n",
       "0                     BELLEVUE HOSPITAL CENTER   \n",
       "1                        CONEY ISLAND HOSPITAL   \n",
       "2                     ELMHURST HOSPITAL CENTER   \n",
       "3                       HARLEM HOSPITAL CENTER   \n",
       "4                        JACOBI MEDICAL CENTER   \n",
       "..                                         ...   \n",
       "105     LINCOLN MEDICAL & MENTAL HEALTH CENTER   \n",
       "106               METROPOLITAN HOSPITAL CENTER   \n",
       "107               NORTH CENTRAL BRONX HOSPITAL   \n",
       "108                     QUEENS HOSPITAL CENTER   \n",
       "109  WOODHULL MEDICAL AND MENTAL HEALTH CENTER   \n",
       "\n",
       "                                       HCAHPS Question  \\\n",
       "0    How often were the patients rooms and bathroom...   \n",
       "1    How often were the patients rooms and bathroom...   \n",
       "2    How often were the patients rooms and bathroom...   \n",
       "3    How often were the patients rooms and bathroom...   \n",
       "4    How often were the patients rooms and bathroom...   \n",
       "..                                                 ...   \n",
       "105  Would patients recommend the hospital to frien...   \n",
       "106  Would patients recommend the hospital to frien...   \n",
       "107  Would patients recommend the hospital to frien...   \n",
       "108  Would patients recommend the hospital to frien...   \n",
       "109  Would patients recommend the hospital to frien...   \n",
       "\n",
       "                             HCAHPS Answer Description  HCAHPS Answer Percent  \n",
       "0                              Room was \"always\" clean                     56  \n",
       "1                              Room was \"always\" clean                     64  \n",
       "2                              Room was \"always\" clean                     57  \n",
       "3                              Room was \"always\" clean                     61  \n",
       "4                              Room was \"always\" clean                     63  \n",
       "..                                                 ...                    ...  \n",
       "105  \"YES\", patients would definitely recommend the...                     57  \n",
       "106  \"YES\", patients would definitely recommend the...                     56  \n",
       "107  \"YES\", patients would definitely recommend the...                     61  \n",
       "108  \"YES\", patients would definitely recommend the...                     71  \n",
       "109  \"YES\", patients would definitely recommend the...                     59  \n",
       "\n",
       "[110 rows x 4 columns]"
      ]
     },
     "execution_count": 6,
     "metadata": {},
     "output_type": "execute_result"
    }
   ],
   "source": [
    "df = pd.read_csv(\"nyc-health-hospitals-patient-satisfaction-scores-2009-1.csv\")\n",
    "df"
   ]
  },
  {
   "cell_type": "code",
   "execution_count": 5,
   "id": "5bbc6a62",
   "metadata": {},
   "outputs": [
    {
     "data": {
      "text/plain": [
       "Index(['id\\tspeaker\\theadline\\tURL\\tdescription\\ttranscript_URL\\tmonth_filmed\\tyear_filmed\\tevent\\tduration\\tdate_published\\ttags'], dtype='object')"
      ]
     },
     "execution_count": 5,
     "metadata": {},
     "output_type": "execute_result"
    }
   ],
   "source": [
    "df.columns"
   ]
  },
  {
   "cell_type": "code",
   "execution_count": 7,
   "id": "97605fb8",
   "metadata": {},
   "outputs": [
    {
     "data": {
      "text/html": [
       "<div>\n",
       "<style scoped>\n",
       "    .dataframe tbody tr th:only-of-type {\n",
       "        vertical-align: middle;\n",
       "    }\n",
       "\n",
       "    .dataframe tbody tr th {\n",
       "        vertical-align: top;\n",
       "    }\n",
       "\n",
       "    .dataframe thead th {\n",
       "        text-align: right;\n",
       "    }\n",
       "</style>\n",
       "<table border=\"1\" class=\"dataframe\">\n",
       "  <thead>\n",
       "    <tr style=\"text-align: right;\">\n",
       "      <th></th>\n",
       "      <th>Hospital Name</th>\n",
       "      <th>HCAHPS Question</th>\n",
       "      <th>HCAHPS Answer Description</th>\n",
       "      <th>HCAHPS Answer Percent</th>\n",
       "    </tr>\n",
       "  </thead>\n",
       "  <tbody>\n",
       "    <tr>\n",
       "      <th>0</th>\n",
       "      <td>BELLEVUE HOSPITAL CENTER</td>\n",
       "      <td>How often were the patients rooms and bathroom...</td>\n",
       "      <td>Room was \"always\" clean</td>\n",
       "      <td>56</td>\n",
       "    </tr>\n",
       "    <tr>\n",
       "      <th>1</th>\n",
       "      <td>CONEY ISLAND HOSPITAL</td>\n",
       "      <td>How often were the patients rooms and bathroom...</td>\n",
       "      <td>Room was \"always\" clean</td>\n",
       "      <td>64</td>\n",
       "    </tr>\n",
       "    <tr>\n",
       "      <th>2</th>\n",
       "      <td>ELMHURST HOSPITAL CENTER</td>\n",
       "      <td>How often were the patients rooms and bathroom...</td>\n",
       "      <td>Room was \"always\" clean</td>\n",
       "      <td>57</td>\n",
       "    </tr>\n",
       "  </tbody>\n",
       "</table>\n",
       "</div>"
      ],
      "text/plain": [
       "              Hospital Name  \\\n",
       "0  BELLEVUE HOSPITAL CENTER   \n",
       "1     CONEY ISLAND HOSPITAL   \n",
       "2  ELMHURST HOSPITAL CENTER   \n",
       "\n",
       "                                     HCAHPS Question  \\\n",
       "0  How often were the patients rooms and bathroom...   \n",
       "1  How often were the patients rooms and bathroom...   \n",
       "2  How often were the patients rooms and bathroom...   \n",
       "\n",
       "  HCAHPS Answer Description  HCAHPS Answer Percent  \n",
       "0   Room was \"always\" clean                     56  \n",
       "1   Room was \"always\" clean                     64  \n",
       "2   Room was \"always\" clean                     57  "
      ]
     },
     "execution_count": 7,
     "metadata": {},
     "output_type": "execute_result"
    }
   ],
   "source": [
    "df.head(3)"
   ]
  },
  {
   "cell_type": "code",
   "execution_count": 8,
   "id": "84eb77f0",
   "metadata": {},
   "outputs": [
    {
     "data": {
      "text/html": [
       "<div>\n",
       "<style scoped>\n",
       "    .dataframe tbody tr th:only-of-type {\n",
       "        vertical-align: middle;\n",
       "    }\n",
       "\n",
       "    .dataframe tbody tr th {\n",
       "        vertical-align: top;\n",
       "    }\n",
       "\n",
       "    .dataframe thead th {\n",
       "        text-align: right;\n",
       "    }\n",
       "</style>\n",
       "<table border=\"1\" class=\"dataframe\">\n",
       "  <thead>\n",
       "    <tr style=\"text-align: right;\">\n",
       "      <th></th>\n",
       "      <th>Hospital Name</th>\n",
       "      <th>HCAHPS Question</th>\n",
       "      <th>HCAHPS Answer Description</th>\n",
       "      <th>HCAHPS Answer Percent</th>\n",
       "    </tr>\n",
       "  </thead>\n",
       "  <tbody>\n",
       "    <tr>\n",
       "      <th>105</th>\n",
       "      <td>LINCOLN MEDICAL &amp; MENTAL HEALTH CENTER</td>\n",
       "      <td>Would patients recommend the hospital to frien...</td>\n",
       "      <td>\"YES\", patients would definitely recommend the...</td>\n",
       "      <td>57</td>\n",
       "    </tr>\n",
       "    <tr>\n",
       "      <th>106</th>\n",
       "      <td>METROPOLITAN HOSPITAL CENTER</td>\n",
       "      <td>Would patients recommend the hospital to frien...</td>\n",
       "      <td>\"YES\", patients would definitely recommend the...</td>\n",
       "      <td>56</td>\n",
       "    </tr>\n",
       "    <tr>\n",
       "      <th>107</th>\n",
       "      <td>NORTH CENTRAL BRONX HOSPITAL</td>\n",
       "      <td>Would patients recommend the hospital to frien...</td>\n",
       "      <td>\"YES\", patients would definitely recommend the...</td>\n",
       "      <td>61</td>\n",
       "    </tr>\n",
       "    <tr>\n",
       "      <th>108</th>\n",
       "      <td>QUEENS HOSPITAL CENTER</td>\n",
       "      <td>Would patients recommend the hospital to frien...</td>\n",
       "      <td>\"YES\", patients would definitely recommend the...</td>\n",
       "      <td>71</td>\n",
       "    </tr>\n",
       "    <tr>\n",
       "      <th>109</th>\n",
       "      <td>WOODHULL MEDICAL AND MENTAL HEALTH CENTER</td>\n",
       "      <td>Would patients recommend the hospital to frien...</td>\n",
       "      <td>\"YES\", patients would definitely recommend the...</td>\n",
       "      <td>59</td>\n",
       "    </tr>\n",
       "  </tbody>\n",
       "</table>\n",
       "</div>"
      ],
      "text/plain": [
       "                                 Hospital Name  \\\n",
       "105     LINCOLN MEDICAL & MENTAL HEALTH CENTER   \n",
       "106               METROPOLITAN HOSPITAL CENTER   \n",
       "107               NORTH CENTRAL BRONX HOSPITAL   \n",
       "108                     QUEENS HOSPITAL CENTER   \n",
       "109  WOODHULL MEDICAL AND MENTAL HEALTH CENTER   \n",
       "\n",
       "                                       HCAHPS Question  \\\n",
       "105  Would patients recommend the hospital to frien...   \n",
       "106  Would patients recommend the hospital to frien...   \n",
       "107  Would patients recommend the hospital to frien...   \n",
       "108  Would patients recommend the hospital to frien...   \n",
       "109  Would patients recommend the hospital to frien...   \n",
       "\n",
       "                             HCAHPS Answer Description  HCAHPS Answer Percent  \n",
       "105  \"YES\", patients would definitely recommend the...                     57  \n",
       "106  \"YES\", patients would definitely recommend the...                     56  \n",
       "107  \"YES\", patients would definitely recommend the...                     61  \n",
       "108  \"YES\", patients would definitely recommend the...                     71  \n",
       "109  \"YES\", patients would definitely recommend the...                     59  "
      ]
     },
     "execution_count": 8,
     "metadata": {},
     "output_type": "execute_result"
    }
   ],
   "source": [
    "df.tail()"
   ]
  },
  {
   "cell_type": "code",
   "execution_count": 9,
   "id": "9d34d867",
   "metadata": {},
   "outputs": [
    {
     "data": {
      "text/plain": [
       "(110, 4)"
      ]
     },
     "execution_count": 9,
     "metadata": {},
     "output_type": "execute_result"
    }
   ],
   "source": [
    "df.shape"
   ]
  },
  {
   "cell_type": "code",
   "execution_count": 10,
   "id": "3343ea67",
   "metadata": {},
   "outputs": [
    {
     "data": {
      "text/plain": [
       "[RangeIndex(start=0, stop=110, step=1),\n",
       " Index(['Hospital Name', 'HCAHPS Question', 'HCAHPS Answer Description',\n",
       "        'HCAHPS Answer Percent'],\n",
       "       dtype='object')]"
      ]
     },
     "execution_count": 10,
     "metadata": {},
     "output_type": "execute_result"
    }
   ],
   "source": [
    "df.axes"
   ]
  },
  {
   "cell_type": "code",
   "execution_count": 11,
   "id": "0234ebb3",
   "metadata": {},
   "outputs": [
    {
     "data": {
      "text/plain": [
       "Index(['Hospital Name', 'HCAHPS Question', 'HCAHPS Answer Description',\n",
       "       'HCAHPS Answer Percent'],\n",
       "      dtype='object')"
      ]
     },
     "execution_count": 11,
     "metadata": {},
     "output_type": "execute_result"
    }
   ],
   "source": [
    "df.columns"
   ]
  },
  {
   "cell_type": "code",
   "execution_count": 12,
   "id": "a89200d5",
   "metadata": {},
   "outputs": [
    {
     "data": {
      "text/plain": [
       "RangeIndex(start=0, stop=110, step=1)"
      ]
     },
     "execution_count": 12,
     "metadata": {},
     "output_type": "execute_result"
    }
   ],
   "source": [
    "df.index"
   ]
  },
  {
   "cell_type": "code",
   "execution_count": 13,
   "id": "f7e4d118",
   "metadata": {},
   "outputs": [
    {
     "data": {
      "text/html": [
       "<div>\n",
       "<style scoped>\n",
       "    .dataframe tbody tr th:only-of-type {\n",
       "        vertical-align: middle;\n",
       "    }\n",
       "\n",
       "    .dataframe tbody tr th {\n",
       "        vertical-align: top;\n",
       "    }\n",
       "\n",
       "    .dataframe thead th {\n",
       "        text-align: right;\n",
       "    }\n",
       "</style>\n",
       "<table border=\"1\" class=\"dataframe\">\n",
       "  <thead>\n",
       "    <tr style=\"text-align: right;\">\n",
       "      <th></th>\n",
       "      <th>Hospital Name</th>\n",
       "      <th>HCAHPS Question</th>\n",
       "      <th>HCAHPS Answer Description</th>\n",
       "      <th>HCAHPS Answer Percent</th>\n",
       "    </tr>\n",
       "  </thead>\n",
       "  <tbody>\n",
       "    <tr>\n",
       "      <th>0</th>\n",
       "      <td>BELLEVUE HOSPITAL CENTER</td>\n",
       "      <td>How often were the patients rooms and bathroom...</td>\n",
       "      <td>Room was \"always\" clean</td>\n",
       "      <td>56</td>\n",
       "    </tr>\n",
       "    <tr>\n",
       "      <th>1</th>\n",
       "      <td>CONEY ISLAND HOSPITAL</td>\n",
       "      <td>How often were the patients rooms and bathroom...</td>\n",
       "      <td>Room was \"always\" clean</td>\n",
       "      <td>64</td>\n",
       "    </tr>\n",
       "    <tr>\n",
       "      <th>2</th>\n",
       "      <td>ELMHURST HOSPITAL CENTER</td>\n",
       "      <td>How often were the patients rooms and bathroom...</td>\n",
       "      <td>Room was \"always\" clean</td>\n",
       "      <td>57</td>\n",
       "    </tr>\n",
       "    <tr>\n",
       "      <th>3</th>\n",
       "      <td>HARLEM HOSPITAL CENTER</td>\n",
       "      <td>How often were the patients rooms and bathroom...</td>\n",
       "      <td>Room was \"always\" clean</td>\n",
       "      <td>61</td>\n",
       "    </tr>\n",
       "    <tr>\n",
       "      <th>4</th>\n",
       "      <td>JACOBI MEDICAL CENTER</td>\n",
       "      <td>How often were the patients rooms and bathroom...</td>\n",
       "      <td>Room was \"always\" clean</td>\n",
       "      <td>63</td>\n",
       "    </tr>\n",
       "    <tr>\n",
       "      <th>...</th>\n",
       "      <td>...</td>\n",
       "      <td>...</td>\n",
       "      <td>...</td>\n",
       "      <td>...</td>\n",
       "    </tr>\n",
       "    <tr>\n",
       "      <th>105</th>\n",
       "      <td>LINCOLN MEDICAL &amp; MENTAL HEALTH CENTER</td>\n",
       "      <td>Would patients recommend the hospital to frien...</td>\n",
       "      <td>\"YES\", patients would definitely recommend the...</td>\n",
       "      <td>57</td>\n",
       "    </tr>\n",
       "    <tr>\n",
       "      <th>106</th>\n",
       "      <td>METROPOLITAN HOSPITAL CENTER</td>\n",
       "      <td>Would patients recommend the hospital to frien...</td>\n",
       "      <td>\"YES\", patients would definitely recommend the...</td>\n",
       "      <td>56</td>\n",
       "    </tr>\n",
       "    <tr>\n",
       "      <th>107</th>\n",
       "      <td>NORTH CENTRAL BRONX HOSPITAL</td>\n",
       "      <td>Would patients recommend the hospital to frien...</td>\n",
       "      <td>\"YES\", patients would definitely recommend the...</td>\n",
       "      <td>61</td>\n",
       "    </tr>\n",
       "    <tr>\n",
       "      <th>108</th>\n",
       "      <td>QUEENS HOSPITAL CENTER</td>\n",
       "      <td>Would patients recommend the hospital to frien...</td>\n",
       "      <td>\"YES\", patients would definitely recommend the...</td>\n",
       "      <td>71</td>\n",
       "    </tr>\n",
       "    <tr>\n",
       "      <th>109</th>\n",
       "      <td>WOODHULL MEDICAL AND MENTAL HEALTH CENTER</td>\n",
       "      <td>Would patients recommend the hospital to frien...</td>\n",
       "      <td>\"YES\", patients would definitely recommend the...</td>\n",
       "      <td>59</td>\n",
       "    </tr>\n",
       "  </tbody>\n",
       "</table>\n",
       "<p>110 rows × 4 columns</p>\n",
       "</div>"
      ],
      "text/plain": [
       "                                 Hospital Name  \\\n",
       "0                     BELLEVUE HOSPITAL CENTER   \n",
       "1                        CONEY ISLAND HOSPITAL   \n",
       "2                     ELMHURST HOSPITAL CENTER   \n",
       "3                       HARLEM HOSPITAL CENTER   \n",
       "4                        JACOBI MEDICAL CENTER   \n",
       "..                                         ...   \n",
       "105     LINCOLN MEDICAL & MENTAL HEALTH CENTER   \n",
       "106               METROPOLITAN HOSPITAL CENTER   \n",
       "107               NORTH CENTRAL BRONX HOSPITAL   \n",
       "108                     QUEENS HOSPITAL CENTER   \n",
       "109  WOODHULL MEDICAL AND MENTAL HEALTH CENTER   \n",
       "\n",
       "                                       HCAHPS Question  \\\n",
       "0    How often were the patients rooms and bathroom...   \n",
       "1    How often were the patients rooms and bathroom...   \n",
       "2    How often were the patients rooms and bathroom...   \n",
       "3    How often were the patients rooms and bathroom...   \n",
       "4    How often were the patients rooms and bathroom...   \n",
       "..                                                 ...   \n",
       "105  Would patients recommend the hospital to frien...   \n",
       "106  Would patients recommend the hospital to frien...   \n",
       "107  Would patients recommend the hospital to frien...   \n",
       "108  Would patients recommend the hospital to frien...   \n",
       "109  Would patients recommend the hospital to frien...   \n",
       "\n",
       "                             HCAHPS Answer Description  HCAHPS Answer Percent  \n",
       "0                              Room was \"always\" clean                     56  \n",
       "1                              Room was \"always\" clean                     64  \n",
       "2                              Room was \"always\" clean                     57  \n",
       "3                              Room was \"always\" clean                     61  \n",
       "4                              Room was \"always\" clean                     63  \n",
       "..                                                 ...                    ...  \n",
       "105  \"YES\", patients would definitely recommend the...                     57  \n",
       "106  \"YES\", patients would definitely recommend the...                     56  \n",
       "107  \"YES\", patients would definitely recommend the...                     61  \n",
       "108  \"YES\", patients would definitely recommend the...                     71  \n",
       "109  \"YES\", patients would definitely recommend the...                     59  \n",
       "\n",
       "[110 rows x 4 columns]"
      ]
     },
     "execution_count": 13,
     "metadata": {},
     "output_type": "execute_result"
    }
   ],
   "source": [
    "df"
   ]
  },
  {
   "cell_type": "code",
   "execution_count": 15,
   "id": "a1b0ed40",
   "metadata": {},
   "outputs": [
    {
     "name": "stdout",
     "output_type": "stream",
     "text": [
      "<class 'pandas.core.frame.DataFrame'>\n",
      "RangeIndex: 110 entries, 0 to 109\n",
      "Data columns (total 4 columns):\n",
      " #   Column                     Non-Null Count  Dtype \n",
      "---  ------                     --------------  ----- \n",
      " 0   Hospital Name              110 non-null    object\n",
      " 1   HCAHPS Question            110 non-null    object\n",
      " 2   HCAHPS Answer Description  110 non-null    object\n",
      " 3   HCAHPS Answer Percent      110 non-null    int64 \n",
      "dtypes: int64(1), object(3)\n",
      "memory usage: 3.6+ KB\n"
     ]
    }
   ],
   "source": [
    "df.info()"
   ]
  },
  {
   "cell_type": "code",
   "execution_count": 16,
   "id": "e426a6c3",
   "metadata": {},
   "outputs": [
    {
     "data": {
      "text/html": [
       "<div>\n",
       "<style scoped>\n",
       "    .dataframe tbody tr th:only-of-type {\n",
       "        vertical-align: middle;\n",
       "    }\n",
       "\n",
       "    .dataframe tbody tr th {\n",
       "        vertical-align: top;\n",
       "    }\n",
       "\n",
       "    .dataframe thead th {\n",
       "        text-align: right;\n",
       "    }\n",
       "</style>\n",
       "<table border=\"1\" class=\"dataframe\">\n",
       "  <thead>\n",
       "    <tr style=\"text-align: right;\">\n",
       "      <th></th>\n",
       "      <th>HCAHPS Answer Percent</th>\n",
       "    </tr>\n",
       "  </thead>\n",
       "  <tbody>\n",
       "    <tr>\n",
       "      <th>count</th>\n",
       "      <td>110.000000</td>\n",
       "    </tr>\n",
       "    <tr>\n",
       "      <th>mean</th>\n",
       "      <td>60.663636</td>\n",
       "    </tr>\n",
       "    <tr>\n",
       "      <th>std</th>\n",
       "      <td>10.618728</td>\n",
       "    </tr>\n",
       "    <tr>\n",
       "      <th>min</th>\n",
       "      <td>35.000000</td>\n",
       "    </tr>\n",
       "    <tr>\n",
       "      <th>25%</th>\n",
       "      <td>53.000000</td>\n",
       "    </tr>\n",
       "    <tr>\n",
       "      <th>50%</th>\n",
       "      <td>58.000000</td>\n",
       "    </tr>\n",
       "    <tr>\n",
       "      <th>75%</th>\n",
       "      <td>67.000000</td>\n",
       "    </tr>\n",
       "    <tr>\n",
       "      <th>max</th>\n",
       "      <td>82.000000</td>\n",
       "    </tr>\n",
       "  </tbody>\n",
       "</table>\n",
       "</div>"
      ],
      "text/plain": [
       "       HCAHPS Answer Percent\n",
       "count             110.000000\n",
       "mean               60.663636\n",
       "std                10.618728\n",
       "min                35.000000\n",
       "25%                53.000000\n",
       "50%                58.000000\n",
       "75%                67.000000\n",
       "max                82.000000"
      ]
     },
     "execution_count": 16,
     "metadata": {},
     "output_type": "execute_result"
    }
   ],
   "source": [
    "df.describe()"
   ]
  },
  {
   "cell_type": "code",
   "execution_count": 18,
   "id": "67b20f43",
   "metadata": {},
   "outputs": [
    {
     "name": "stdout",
     "output_type": "stream",
     "text": [
      "<class 'pandas.core.frame.DataFrame'>\n",
      "RangeIndex: 110 entries, 0 to 109\n",
      "Data columns (total 4 columns):\n",
      " #   Column                     Non-Null Count  Dtype \n",
      "---  ------                     --------------  ----- \n",
      " 0   Hospital Name              110 non-null    object\n",
      " 1   HCAHPS Question            110 non-null    object\n",
      " 2   HCAHPS Answer Description  110 non-null    object\n",
      " 3   HCAHPS Answer Percent      110 non-null    int64 \n",
      "dtypes: int64(1), object(3)\n",
      "memory usage: 3.6+ KB\n"
     ]
    }
   ],
   "source": [
    "df.dropna(inplace = True)\n",
    "df.info()"
   ]
  },
  {
   "cell_type": "code",
   "execution_count": 19,
   "id": "0ddbf0ec",
   "metadata": {},
   "outputs": [
    {
     "data": {
      "text/html": [
       "<div>\n",
       "<style scoped>\n",
       "    .dataframe tbody tr th:only-of-type {\n",
       "        vertical-align: middle;\n",
       "    }\n",
       "\n",
       "    .dataframe tbody tr th {\n",
       "        vertical-align: top;\n",
       "    }\n",
       "\n",
       "    .dataframe thead th {\n",
       "        text-align: right;\n",
       "    }\n",
       "</style>\n",
       "<table border=\"1\" class=\"dataframe\">\n",
       "  <thead>\n",
       "    <tr style=\"text-align: right;\">\n",
       "      <th></th>\n",
       "      <th>Hospital Name</th>\n",
       "      <th>HCAHPS Question</th>\n",
       "      <th>HCAHPS Answer Description</th>\n",
       "      <th>HCAHPS Answer Percent</th>\n",
       "    </tr>\n",
       "  </thead>\n",
       "  <tbody>\n",
       "    <tr>\n",
       "      <th>0</th>\n",
       "      <td>False</td>\n",
       "      <td>False</td>\n",
       "      <td>False</td>\n",
       "      <td>False</td>\n",
       "    </tr>\n",
       "    <tr>\n",
       "      <th>1</th>\n",
       "      <td>False</td>\n",
       "      <td>False</td>\n",
       "      <td>False</td>\n",
       "      <td>False</td>\n",
       "    </tr>\n",
       "    <tr>\n",
       "      <th>2</th>\n",
       "      <td>False</td>\n",
       "      <td>False</td>\n",
       "      <td>False</td>\n",
       "      <td>False</td>\n",
       "    </tr>\n",
       "    <tr>\n",
       "      <th>3</th>\n",
       "      <td>False</td>\n",
       "      <td>False</td>\n",
       "      <td>False</td>\n",
       "      <td>False</td>\n",
       "    </tr>\n",
       "    <tr>\n",
       "      <th>4</th>\n",
       "      <td>False</td>\n",
       "      <td>False</td>\n",
       "      <td>False</td>\n",
       "      <td>False</td>\n",
       "    </tr>\n",
       "    <tr>\n",
       "      <th>...</th>\n",
       "      <td>...</td>\n",
       "      <td>...</td>\n",
       "      <td>...</td>\n",
       "      <td>...</td>\n",
       "    </tr>\n",
       "    <tr>\n",
       "      <th>105</th>\n",
       "      <td>False</td>\n",
       "      <td>False</td>\n",
       "      <td>False</td>\n",
       "      <td>False</td>\n",
       "    </tr>\n",
       "    <tr>\n",
       "      <th>106</th>\n",
       "      <td>False</td>\n",
       "      <td>False</td>\n",
       "      <td>False</td>\n",
       "      <td>False</td>\n",
       "    </tr>\n",
       "    <tr>\n",
       "      <th>107</th>\n",
       "      <td>False</td>\n",
       "      <td>False</td>\n",
       "      <td>False</td>\n",
       "      <td>False</td>\n",
       "    </tr>\n",
       "    <tr>\n",
       "      <th>108</th>\n",
       "      <td>False</td>\n",
       "      <td>False</td>\n",
       "      <td>False</td>\n",
       "      <td>False</td>\n",
       "    </tr>\n",
       "    <tr>\n",
       "      <th>109</th>\n",
       "      <td>False</td>\n",
       "      <td>False</td>\n",
       "      <td>False</td>\n",
       "      <td>False</td>\n",
       "    </tr>\n",
       "  </tbody>\n",
       "</table>\n",
       "<p>110 rows × 4 columns</p>\n",
       "</div>"
      ],
      "text/plain": [
       "     Hospital Name  HCAHPS Question  HCAHPS Answer Description  \\\n",
       "0            False            False                      False   \n",
       "1            False            False                      False   \n",
       "2            False            False                      False   \n",
       "3            False            False                      False   \n",
       "4            False            False                      False   \n",
       "..             ...              ...                        ...   \n",
       "105          False            False                      False   \n",
       "106          False            False                      False   \n",
       "107          False            False                      False   \n",
       "108          False            False                      False   \n",
       "109          False            False                      False   \n",
       "\n",
       "     HCAHPS Answer Percent  \n",
       "0                    False  \n",
       "1                    False  \n",
       "2                    False  \n",
       "3                    False  \n",
       "4                    False  \n",
       "..                     ...  \n",
       "105                  False  \n",
       "106                  False  \n",
       "107                  False  \n",
       "108                  False  \n",
       "109                  False  \n",
       "\n",
       "[110 rows x 4 columns]"
      ]
     },
     "execution_count": 19,
     "metadata": {},
     "output_type": "execute_result"
    }
   ],
   "source": [
    "df.isnull()"
   ]
  },
  {
   "cell_type": "code",
   "execution_count": 21,
   "id": "b978adb5",
   "metadata": {},
   "outputs": [
    {
     "data": {
      "text/plain": [
       "0      False\n",
       "1      False\n",
       "2      False\n",
       "3      False\n",
       "4      False\n",
       "       ...  \n",
       "105    False\n",
       "106    False\n",
       "107    False\n",
       "108    False\n",
       "109    False\n",
       "Length: 110, dtype: bool"
      ]
     },
     "execution_count": 21,
     "metadata": {},
     "output_type": "execute_result"
    }
   ],
   "source": [
    "df.duplicated()"
   ]
  },
  {
   "cell_type": "code",
   "execution_count": 22,
   "id": "2bc3863a",
   "metadata": {},
   "outputs": [
    {
     "data": {
      "text/plain": [
       "[RangeIndex(start=0, stop=110, step=1),\n",
       " Index(['Hospital Name', 'HCAHPS Question', 'HCAHPS Answer Description',\n",
       "        'HCAHPS Answer Percent'],\n",
       "       dtype='object')]"
      ]
     },
     "execution_count": 22,
     "metadata": {},
     "output_type": "execute_result"
    }
   ],
   "source": [
    "df.axes"
   ]
  },
  {
   "cell_type": "code",
   "execution_count": 23,
   "id": "31170e87",
   "metadata": {},
   "outputs": [
    {
     "data": {
      "text/plain": [
       "0      False\n",
       "1      False\n",
       "2      False\n",
       "3      False\n",
       "4      False\n",
       "       ...  \n",
       "105     True\n",
       "106     True\n",
       "107     True\n",
       "108     True\n",
       "109     True\n",
       "Name: Hospital Name, Length: 110, dtype: bool"
      ]
     },
     "execution_count": 23,
     "metadata": {},
     "output_type": "execute_result"
    }
   ],
   "source": [
    "df[\"Hospital Name\"].duplicated()"
   ]
  },
  {
   "cell_type": "code",
   "execution_count": 24,
   "id": "17e33854",
   "metadata": {},
   "outputs": [
    {
     "data": {
      "text/plain": [
       "0      False\n",
       "1       True\n",
       "2       True\n",
       "3       True\n",
       "4       True\n",
       "       ...  \n",
       "105     True\n",
       "106     True\n",
       "107     True\n",
       "108     True\n",
       "109     True\n",
       "Name: HCAHPS Question, Length: 110, dtype: bool"
      ]
     },
     "execution_count": 24,
     "metadata": {},
     "output_type": "execute_result"
    }
   ],
   "source": [
    "df[\"HCAHPS Question\"].duplicated()"
   ]
  },
  {
   "cell_type": "code",
   "execution_count": 25,
   "id": "8ba1b18e",
   "metadata": {},
   "outputs": [
    {
     "data": {
      "text/plain": [
       "0      How often were the patients rooms and bathroom...\n",
       "1      How often were the patients rooms and bathroom...\n",
       "2      How often were the patients rooms and bathroom...\n",
       "3      How often were the patients rooms and bathroom...\n",
       "4      How often were the patients rooms and bathroom...\n",
       "                             ...                        \n",
       "105    Would patients recommend the hospital to frien...\n",
       "106    Would patients recommend the hospital to frien...\n",
       "107    Would patients recommend the hospital to frien...\n",
       "108    Would patients recommend the hospital to frien...\n",
       "109    Would patients recommend the hospital to frien...\n",
       "Name: HCAHPS Question, Length: 110, dtype: object"
      ]
     },
     "execution_count": 25,
     "metadata": {},
     "output_type": "execute_result"
    }
   ],
   "source": [
    "df[\"HCAHPS Question\"]"
   ]
  },
  {
   "cell_type": "markdown",
   "id": "1d3d1839",
   "metadata": {},
   "source": [
    "# STATISTICS"
   ]
  },
  {
   "cell_type": "code",
   "execution_count": 27,
   "id": "4d7a0423",
   "metadata": {},
   "outputs": [
    {
     "data": {
      "text/plain": [
       "60.663636363636364"
      ]
     },
     "execution_count": 27,
     "metadata": {},
     "output_type": "execute_result"
    }
   ],
   "source": [
    "df[\"HCAHPS Answer Percent\"].mean()"
   ]
  },
  {
   "cell_type": "code",
   "execution_count": 28,
   "id": "3f40c50a",
   "metadata": {},
   "outputs": [
    {
     "data": {
      "text/plain": [
       "[RangeIndex(start=0, stop=110, step=1),\n",
       " Index(['Hospital Name', 'HCAHPS Question', 'HCAHPS Answer Description',\n",
       "        'HCAHPS Answer Percent'],\n",
       "       dtype='object')]"
      ]
     },
     "execution_count": 28,
     "metadata": {},
     "output_type": "execute_result"
    }
   ],
   "source": [
    "df.axes"
   ]
  },
  {
   "cell_type": "code",
   "execution_count": 29,
   "id": "e839f7e0",
   "metadata": {},
   "outputs": [
    {
     "data": {
      "text/plain": [
       "0                      BELLEVUE HOSPITAL CENTER\n",
       "1                         CONEY ISLAND HOSPITAL\n",
       "2                      ELMHURST HOSPITAL CENTER\n",
       "3                        HARLEM HOSPITAL CENTER\n",
       "4                         JACOBI MEDICAL CENTER\n",
       "5                  KINGS COUNTY HOSPITAL CENTER\n",
       "6        LINCOLN MEDICAL & MENTAL HEALTH CENTER\n",
       "7                  METROPOLITAN HOSPITAL CENTER\n",
       "8                  NORTH CENTRAL BRONX HOSPITAL\n",
       "9                        QUEENS HOSPITAL CENTER\n",
       "10    WOODHULL MEDICAL AND MENTAL HEALTH CENTER\n",
       "Name: Hospital Name, dtype: object"
      ]
     },
     "execution_count": 29,
     "metadata": {},
     "output_type": "execute_result"
    }
   ],
   "source": [
    "df[\"Hospital Name\"].mode()"
   ]
  },
  {
   "cell_type": "markdown",
   "id": "6909463d",
   "metadata": {},
   "source": [
    "most common hospitals where the study was done"
   ]
  },
  {
   "cell_type": "code",
   "execution_count": 30,
   "id": "01ad489c",
   "metadata": {},
   "outputs": [
    {
     "data": {
      "text/plain": [
       "0    56\n",
       "Name: HCAHPS Answer Percent, dtype: int64"
      ]
     },
     "execution_count": 30,
     "metadata": {},
     "output_type": "execute_result"
    }
   ],
   "source": [
    "df[\"HCAHPS Answer Percent\"].mode()"
   ]
  },
  {
   "cell_type": "markdown",
   "id": "6717575c",
   "metadata": {},
   "source": [
    "56 was the common answer percentage"
   ]
  },
  {
   "cell_type": "code",
   "execution_count": 31,
   "id": "0a43b4e9",
   "metadata": {},
   "outputs": [
    {
     "data": {
      "text/plain": [
       "60.663636363636364"
      ]
     },
     "execution_count": 31,
     "metadata": {},
     "output_type": "execute_result"
    }
   ],
   "source": [
    "df[\"HCAHPS Answer Percent\"].mean()"
   ]
  },
  {
   "cell_type": "markdown",
   "id": "ecdb94e0",
   "metadata": {},
   "source": [
    "Mean percentage mean mark is 60"
   ]
  },
  {
   "cell_type": "code",
   "execution_count": 32,
   "id": "e182a34b",
   "metadata": {},
   "outputs": [
    {
     "data": {
      "text/plain": [
       "58.0"
      ]
     },
     "execution_count": 32,
     "metadata": {},
     "output_type": "execute_result"
    }
   ],
   "source": [
    "df[\"HCAHPS Answer Percent\"].median()"
   ]
  },
  {
   "cell_type": "code",
   "execution_count": 33,
   "id": "fcd3b740",
   "metadata": {},
   "outputs": [
    {
     "data": {
      "text/plain": [
       "10.618727849933773"
      ]
     },
     "execution_count": 33,
     "metadata": {},
     "output_type": "execute_result"
    }
   ],
   "source": [
    "df[\"HCAHPS Answer Percent\"].std()"
   ]
  },
  {
   "cell_type": "code",
   "execution_count": 34,
   "id": "0b9ab3d7",
   "metadata": {},
   "outputs": [
    {
     "data": {
      "text/html": [
       "<div>\n",
       "<style scoped>\n",
       "    .dataframe tbody tr th:only-of-type {\n",
       "        vertical-align: middle;\n",
       "    }\n",
       "\n",
       "    .dataframe tbody tr th {\n",
       "        vertical-align: top;\n",
       "    }\n",
       "\n",
       "    .dataframe thead th {\n",
       "        text-align: right;\n",
       "    }\n",
       "</style>\n",
       "<table border=\"1\" class=\"dataframe\">\n",
       "  <thead>\n",
       "    <tr style=\"text-align: right;\">\n",
       "      <th></th>\n",
       "      <th>HCAHPS Answer Percent</th>\n",
       "    </tr>\n",
       "  </thead>\n",
       "  <tbody>\n",
       "    <tr>\n",
       "      <th>HCAHPS Answer Percent</th>\n",
       "      <td>1.0</td>\n",
       "    </tr>\n",
       "  </tbody>\n",
       "</table>\n",
       "</div>"
      ],
      "text/plain": [
       "                       HCAHPS Answer Percent\n",
       "HCAHPS Answer Percent                    1.0"
      ]
     },
     "execution_count": 34,
     "metadata": {},
     "output_type": "execute_result"
    }
   ],
   "source": [
    "df.corr()"
   ]
  },
  {
   "cell_type": "code",
   "execution_count": 35,
   "id": "6fac1a40",
   "metadata": {},
   "outputs": [
    {
     "data": {
      "text/html": [
       "<div>\n",
       "<style scoped>\n",
       "    .dataframe tbody tr th:only-of-type {\n",
       "        vertical-align: middle;\n",
       "    }\n",
       "\n",
       "    .dataframe tbody tr th {\n",
       "        vertical-align: top;\n",
       "    }\n",
       "\n",
       "    .dataframe thead th {\n",
       "        text-align: right;\n",
       "    }\n",
       "</style>\n",
       "<table border=\"1\" class=\"dataframe\">\n",
       "  <thead>\n",
       "    <tr style=\"text-align: right;\">\n",
       "      <th></th>\n",
       "      <th>HCAHPS Answer Percent</th>\n",
       "    </tr>\n",
       "  </thead>\n",
       "  <tbody>\n",
       "    <tr>\n",
       "      <th>count</th>\n",
       "      <td>110.000000</td>\n",
       "    </tr>\n",
       "    <tr>\n",
       "      <th>mean</th>\n",
       "      <td>60.663636</td>\n",
       "    </tr>\n",
       "    <tr>\n",
       "      <th>std</th>\n",
       "      <td>10.618728</td>\n",
       "    </tr>\n",
       "    <tr>\n",
       "      <th>min</th>\n",
       "      <td>35.000000</td>\n",
       "    </tr>\n",
       "    <tr>\n",
       "      <th>25%</th>\n",
       "      <td>53.000000</td>\n",
       "    </tr>\n",
       "    <tr>\n",
       "      <th>50%</th>\n",
       "      <td>58.000000</td>\n",
       "    </tr>\n",
       "    <tr>\n",
       "      <th>75%</th>\n",
       "      <td>67.000000</td>\n",
       "    </tr>\n",
       "    <tr>\n",
       "      <th>max</th>\n",
       "      <td>82.000000</td>\n",
       "    </tr>\n",
       "  </tbody>\n",
       "</table>\n",
       "</div>"
      ],
      "text/plain": [
       "       HCAHPS Answer Percent\n",
       "count             110.000000\n",
       "mean               60.663636\n",
       "std                10.618728\n",
       "min                35.000000\n",
       "25%                53.000000\n",
       "50%                58.000000\n",
       "75%                67.000000\n",
       "max                82.000000"
      ]
     },
     "execution_count": 35,
     "metadata": {},
     "output_type": "execute_result"
    }
   ],
   "source": [
    "df.describe()"
   ]
  },
  {
   "cell_type": "code",
   "execution_count": 36,
   "id": "f8f17c0d",
   "metadata": {},
   "outputs": [
    {
     "data": {
      "text/plain": [
       "82"
      ]
     },
     "execution_count": 36,
     "metadata": {},
     "output_type": "execute_result"
    }
   ],
   "source": [
    "df[\"HCAHPS Answer Percent\"].max()"
   ]
  },
  {
   "cell_type": "markdown",
   "id": "7f5226b4",
   "metadata": {},
   "source": [
    "Maximum answer percentage was 82"
   ]
  },
  {
   "cell_type": "code",
   "execution_count": 37,
   "id": "51192117",
   "metadata": {},
   "outputs": [
    {
     "data": {
      "text/plain": [
       "35"
      ]
     },
     "execution_count": 37,
     "metadata": {},
     "output_type": "execute_result"
    }
   ],
   "source": [
    "df[\"HCAHPS Answer Percent\"].min()"
   ]
  },
  {
   "cell_type": "markdown",
   "id": "75b07415",
   "metadata": {},
   "source": [
    "minimum answer percentage was 35"
   ]
  },
  {
   "cell_type": "code",
   "execution_count": 73,
   "id": "88a72250",
   "metadata": {},
   "outputs": [
    {
     "data": {
      "image/png": "[encoded data removed]",
      "text/plain": [
       "<Figure size 432x288 with 1 Axes>"
      ]
     },
     "metadata": {
      "needs_background": "light"
     },
     "output_type": "display_data"
    }
   ],
   "source": [
    "df.plot(color = \"m\", marker = \"*\")\n",
    "plt.show()"
   ]
  },
  {
   "cell_type": "code",
   "execution_count": 42,
   "id": "971633c9",
   "metadata": {},
   "outputs": [
    {
     "data": {
      "text/plain": [
       "0      56\n",
       "1      64\n",
       "2      57\n",
       "3      61\n",
       "4      63\n",
       "       ..\n",
       "105    57\n",
       "106    56\n",
       "107    61\n",
       "108    71\n",
       "109    59\n",
       "Name: HCAHPS Answer Percent, Length: 110, dtype: int64"
      ]
     },
     "execution_count": 42,
     "metadata": {},
     "output_type": "execute_result"
    }
   ],
   "source": [
    "df[\"HCAHPS Answer Percent\"]"
   ]
  },
  {
   "cell_type": "code",
   "execution_count": 54,
   "id": "6414c311",
   "metadata": {},
   "outputs": [
    {
     "name": "stdout",
     "output_type": "stream",
     "text": [
      "1\n"
     ]
    }
   ],
   "source": [
    "import numpy as np\n",
    "arr = np.array([\"HCAHPS Answer Percent\"])\n",
    "print(arr.ndim)#checking the dimensions"
   ]
  },
  {
   "cell_type": "code",
   "execution_count": 74,
   "id": "3199d9b1",
   "metadata": {},
   "outputs": [
    {
     "data": {
      "text/plain": [
       "numpy.ndarray"
      ]
     },
     "execution_count": 74,
     "metadata": {},
     "output_type": "execute_result"
    }
   ],
   "source": [
    "#type of array\n",
    "type(arr)"
   ]
  },
  {
   "cell_type": "code",
   "execution_count": 89,
   "id": "caf387e9",
   "metadata": {},
   "outputs": [
    {
     "data": {
      "image/png": "[encoded data removed]",
      "text/plain": [
       "<Figure size 432x288 with 1 Axes>"
      ]
     },
     "metadata": {
      "needs_background": "light"
     },
     "output_type": "display_data"
    }
   ],
   "source": [
    "df.plot(kind = \"scatter\", x = \"HCAHPS Answer Percent\", y = \"Hospital Name\", marker = \"o\", alpha = 1)\n",
    "plt.show()"
   ]
  },
  {
   "cell_type": "code",
   "execution_count": null,
   "id": "ec70685b",
   "metadata": {},
   "outputs": [],
   "source": []
  }
 ],
 "metadata": {
  "kernelspec": {
   "display_name": "Python 3 (ipykernel)",
   "language": "python",
   "name": "python3"
  },
  "language_info": {
   "codemirror_mode": {
    "name": "ipython",
    "version": 3
   },
   "file_extension": ".py",
   "mimetype": "text/x-python",
   "name": "python",
   "nbconvert_exporter": "python",
   "pygments_lexer": "ipython3",
   "version": "3.9.12"
  }
 },
 "nbformat": 4,
 "nbformat_minor": 5
}
