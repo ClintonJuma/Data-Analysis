{
 "cells": [
  {
   "cell_type": "markdown",
   "id": "815ee48a",
   "metadata": {},
   "source": [
    "## Importing libraries"
   ]
  },
  {
   "cell_type": "code",
   "execution_count": 1,
   "id": "07a4e3de",
   "metadata": {},
   "outputs": [],
   "source": [
    "import numpy as np\n",
    "import pandas as pd\n",
    "import matplotlib.pyplot as plt\n",
    "import seaborn as sns\n",
    "import warnings\n",
    "sns.set()"
   ]
  },
  {
   "cell_type": "markdown",
   "id": "2d6d4005",
   "metadata": {},
   "source": [
    "## reading dataset"
   ]
  },
  {
   "cell_type": "code",
   "execution_count": 2,
   "id": "53cb79dd",
   "metadata": {},
   "outputs": [],
   "source": [
    "df = pd.read_csv(\"Book_Dataset_1.csv\")\n"
   ]
  },
  {
   "cell_type": "markdown",
   "id": "514fbfd8",
   "metadata": {},
   "source": [
    "## Basic information"
   ]
  },
  {
   "cell_type": "code",
   "execution_count": 3,
   "id": "4540d888",
   "metadata": {},
   "outputs": [
    {
     "data": {
      "text/html": [
       "<div>\n",
       "<style scoped>\n",
       "    .dataframe tbody tr th:only-of-type {\n",
       "        vertical-align: middle;\n",
       "    }\n",
       "\n",
       "    .dataframe tbody tr th {\n",
       "        vertical-align: top;\n",
       "    }\n",
       "\n",
       "    .dataframe thead th {\n",
       "        text-align: right;\n",
       "    }\n",
       "</style>\n",
       "<table border=\"1\" class=\"dataframe\">\n",
       "  <thead>\n",
       "    <tr style=\"text-align: right;\">\n",
       "      <th></th>\n",
       "      <th>Unnamed: 0</th>\n",
       "      <th>Title</th>\n",
       "      <th>Category</th>\n",
       "      <th>Price</th>\n",
       "      <th>Price_After_Tax</th>\n",
       "      <th>Tax_amount</th>\n",
       "      <th>Avilability</th>\n",
       "      <th>Number_of_reviews</th>\n",
       "      <th>Book_Description</th>\n",
       "      <th>Image_Link</th>\n",
       "      <th>Stars</th>\n",
       "    </tr>\n",
       "  </thead>\n",
       "  <tbody>\n",
       "    <tr>\n",
       "      <th>0</th>\n",
       "      <td>0</td>\n",
       "      <td>A Light in the Attic</td>\n",
       "      <td>Poetry</td>\n",
       "      <td>51.77</td>\n",
       "      <td>51.77</td>\n",
       "      <td>0.0</td>\n",
       "      <td>22</td>\n",
       "      <td>0</td>\n",
       "      <td>It's hard to imagine a world without A Light i...</td>\n",
       "      <td>http://books.toscrape.com/media/cache/fe/72/fe...</td>\n",
       "      <td>3</td>\n",
       "    </tr>\n",
       "    <tr>\n",
       "      <th>1</th>\n",
       "      <td>1</td>\n",
       "      <td>Tipping the Velvet</td>\n",
       "      <td>Historical Fiction</td>\n",
       "      <td>53.74</td>\n",
       "      <td>53.74</td>\n",
       "      <td>0.0</td>\n",
       "      <td>20</td>\n",
       "      <td>0</td>\n",
       "      <td>\"Erotic and absorbing...Written with starling ...</td>\n",
       "      <td>http://books.toscrape.com/media/cache/08/e9/08...</td>\n",
       "      <td>1</td>\n",
       "    </tr>\n",
       "    <tr>\n",
       "      <th>2</th>\n",
       "      <td>2</td>\n",
       "      <td>Soumission</td>\n",
       "      <td>Fiction</td>\n",
       "      <td>50.10</td>\n",
       "      <td>50.10</td>\n",
       "      <td>0.0</td>\n",
       "      <td>20</td>\n",
       "      <td>0</td>\n",
       "      <td>Dans une France assez proche de la nÃ´tre, un ...</td>\n",
       "      <td>http://books.toscrape.com/media/cache/ee/cf/ee...</td>\n",
       "      <td>1</td>\n",
       "    </tr>\n",
       "    <tr>\n",
       "      <th>3</th>\n",
       "      <td>3</td>\n",
       "      <td>Sharp Objects</td>\n",
       "      <td>Mystery</td>\n",
       "      <td>47.82</td>\n",
       "      <td>47.82</td>\n",
       "      <td>0.0</td>\n",
       "      <td>20</td>\n",
       "      <td>0</td>\n",
       "      <td>WICKED above her hipbone, GIRL across her hear...</td>\n",
       "      <td>http://books.toscrape.com/media/cache/c0/59/c0...</td>\n",
       "      <td>4</td>\n",
       "    </tr>\n",
       "    <tr>\n",
       "      <th>4</th>\n",
       "      <td>4</td>\n",
       "      <td>Sapiens: A Brief History of Humankind</td>\n",
       "      <td>History</td>\n",
       "      <td>54.23</td>\n",
       "      <td>54.23</td>\n",
       "      <td>0.0</td>\n",
       "      <td>20</td>\n",
       "      <td>0</td>\n",
       "      <td>From a renowned historian comes a groundbreaki...</td>\n",
       "      <td>http://books.toscrape.com/media/cache/ce/5f/ce...</td>\n",
       "      <td>5</td>\n",
       "    </tr>\n",
       "  </tbody>\n",
       "</table>\n",
       "</div>"
      ],
      "text/plain": [
       "   Unnamed: 0                                  Title            Category  \\\n",
       "0           0                   A Light in the Attic              Poetry   \n",
       "1           1                     Tipping the Velvet  Historical Fiction   \n",
       "2           2                             Soumission             Fiction   \n",
       "3           3                          Sharp Objects             Mystery   \n",
       "4           4  Sapiens: A Brief History of Humankind             History   \n",
       "\n",
       "   Price  Price_After_Tax  Tax_amount  Avilability  Number_of_reviews  \\\n",
       "0  51.77            51.77         0.0           22                  0   \n",
       "1  53.74            53.74         0.0           20                  0   \n",
       "2  50.10            50.10         0.0           20                  0   \n",
       "3  47.82            47.82         0.0           20                  0   \n",
       "4  54.23            54.23         0.0           20                  0   \n",
       "\n",
       "                                    Book_Description  \\\n",
       "0  It's hard to imagine a world without A Light i...   \n",
       "1  \"Erotic and absorbing...Written with starling ...   \n",
       "2  Dans une France assez proche de la nÃ´tre, un ...   \n",
       "3  WICKED above her hipbone, GIRL across her hear...   \n",
       "4  From a renowned historian comes a groundbreaki...   \n",
       "\n",
       "                                          Image_Link  Stars  \n",
       "0  http://books.toscrape.com/media/cache/fe/72/fe...      3  \n",
       "1  http://books.toscrape.com/media/cache/08/e9/08...      1  \n",
       "2  http://books.toscrape.com/media/cache/ee/cf/ee...      1  \n",
       "3  http://books.toscrape.com/media/cache/c0/59/c0...      4  \n",
       "4  http://books.toscrape.com/media/cache/ce/5f/ce...      5  "
      ]
     },
     "execution_count": 3,
     "metadata": {},
     "output_type": "execute_result"
    }
   ],
   "source": [
    "df.head()"
   ]
  },
  {
   "cell_type": "code",
   "execution_count": 4,
   "id": "8404baaa",
   "metadata": {},
   "outputs": [
    {
     "data": {
      "text/plain": [
       "Unnamed: 0           0\n",
       "Title                0\n",
       "Category             0\n",
       "Price                0\n",
       "Price_After_Tax      0\n",
       "Tax_amount           0\n",
       "Avilability          0\n",
       "Number_of_reviews    0\n",
       "Book_Description     0\n",
       "Image_Link           0\n",
       "Stars                0\n",
       "dtype: int64"
      ]
     },
     "execution_count": 4,
     "metadata": {},
     "output_type": "execute_result"
    }
   ],
   "source": [
    "#checking for null values\n",
    "df.isnull().sum()"
   ]
  },
  {
   "cell_type": "code",
   "execution_count": 5,
   "id": "6dbb937f",
   "metadata": {},
   "outputs": [
    {
     "data": {
      "text/plain": [
       "(1000, 11)"
      ]
     },
     "execution_count": 5,
     "metadata": {},
     "output_type": "execute_result"
    }
   ],
   "source": [
    "df.shape"
   ]
  },
  {
   "cell_type": "code",
   "execution_count": 6,
   "id": "b5f610ac",
   "metadata": {},
   "outputs": [
    {
     "name": "stdout",
     "output_type": "stream",
     "text": [
      "<class 'pandas.core.frame.DataFrame'>\n",
      "RangeIndex: 1000 entries, 0 to 999\n",
      "Data columns (total 11 columns):\n",
      " #   Column             Non-Null Count  Dtype  \n",
      "---  ------             --------------  -----  \n",
      " 0   Unnamed: 0         1000 non-null   int64  \n",
      " 1   Title              1000 non-null   object \n",
      " 2   Category           1000 non-null   object \n",
      " 3   Price              1000 non-null   float64\n",
      " 4   Price_After_Tax    1000 non-null   float64\n",
      " 5   Tax_amount         1000 non-null   float64\n",
      " 6   Avilability        1000 non-null   int64  \n",
      " 7   Number_of_reviews  1000 non-null   int64  \n",
      " 8   Book_Description   1000 non-null   object \n",
      " 9   Image_Link         1000 non-null   object \n",
      " 10  Stars              1000 non-null   int64  \n",
      "dtypes: float64(3), int64(4), object(4)\n",
      "memory usage: 86.1+ KB\n"
     ]
    }
   ],
   "source": [
    "#dataframe information\n",
    "df.info()"
   ]
  },
  {
   "cell_type": "markdown",
   "id": "6b5db011",
   "metadata": {},
   "source": [
    "## Statistics"
   ]
  },
  {
   "cell_type": "code",
   "execution_count": 7,
   "id": "83fdd707",
   "metadata": {},
   "outputs": [
    {
     "data": {
      "text/html": [
       "<div>\n",
       "<style scoped>\n",
       "    .dataframe tbody tr th:only-of-type {\n",
       "        vertical-align: middle;\n",
       "    }\n",
       "\n",
       "    .dataframe tbody tr th {\n",
       "        vertical-align: top;\n",
       "    }\n",
       "\n",
       "    .dataframe thead th {\n",
       "        text-align: right;\n",
       "    }\n",
       "</style>\n",
       "<table border=\"1\" class=\"dataframe\">\n",
       "  <thead>\n",
       "    <tr style=\"text-align: right;\">\n",
       "      <th></th>\n",
       "      <th>Unnamed: 0</th>\n",
       "      <th>Price</th>\n",
       "      <th>Price_After_Tax</th>\n",
       "      <th>Tax_amount</th>\n",
       "      <th>Avilability</th>\n",
       "      <th>Number_of_reviews</th>\n",
       "      <th>Stars</th>\n",
       "    </tr>\n",
       "  </thead>\n",
       "  <tbody>\n",
       "    <tr>\n",
       "      <th>Unnamed: 0</th>\n",
       "      <td>1.000000</td>\n",
       "      <td>0.016563</td>\n",
       "      <td>0.016563</td>\n",
       "      <td>NaN</td>\n",
       "      <td>-0.978961</td>\n",
       "      <td>NaN</td>\n",
       "      <td>-0.014017</td>\n",
       "    </tr>\n",
       "    <tr>\n",
       "      <th>Price</th>\n",
       "      <td>0.016563</td>\n",
       "      <td>1.000000</td>\n",
       "      <td>1.000000</td>\n",
       "      <td>NaN</td>\n",
       "      <td>-0.010914</td>\n",
       "      <td>NaN</td>\n",
       "      <td>0.028166</td>\n",
       "    </tr>\n",
       "    <tr>\n",
       "      <th>Price_After_Tax</th>\n",
       "      <td>0.016563</td>\n",
       "      <td>1.000000</td>\n",
       "      <td>1.000000</td>\n",
       "      <td>NaN</td>\n",
       "      <td>-0.010914</td>\n",
       "      <td>NaN</td>\n",
       "      <td>0.028166</td>\n",
       "    </tr>\n",
       "    <tr>\n",
       "      <th>Tax_amount</th>\n",
       "      <td>NaN</td>\n",
       "      <td>NaN</td>\n",
       "      <td>NaN</td>\n",
       "      <td>NaN</td>\n",
       "      <td>NaN</td>\n",
       "      <td>NaN</td>\n",
       "      <td>NaN</td>\n",
       "    </tr>\n",
       "    <tr>\n",
       "      <th>Avilability</th>\n",
       "      <td>-0.978961</td>\n",
       "      <td>-0.010914</td>\n",
       "      <td>-0.010914</td>\n",
       "      <td>NaN</td>\n",
       "      <td>1.000000</td>\n",
       "      <td>NaN</td>\n",
       "      <td>0.016166</td>\n",
       "    </tr>\n",
       "    <tr>\n",
       "      <th>Number_of_reviews</th>\n",
       "      <td>NaN</td>\n",
       "      <td>NaN</td>\n",
       "      <td>NaN</td>\n",
       "      <td>NaN</td>\n",
       "      <td>NaN</td>\n",
       "      <td>NaN</td>\n",
       "      <td>NaN</td>\n",
       "    </tr>\n",
       "    <tr>\n",
       "      <th>Stars</th>\n",
       "      <td>-0.014017</td>\n",
       "      <td>0.028166</td>\n",
       "      <td>0.028166</td>\n",
       "      <td>NaN</td>\n",
       "      <td>0.016166</td>\n",
       "      <td>NaN</td>\n",
       "      <td>1.000000</td>\n",
       "    </tr>\n",
       "  </tbody>\n",
       "</table>\n",
       "</div>"
      ],
      "text/plain": [
       "                   Unnamed: 0     Price  Price_After_Tax  Tax_amount  \\\n",
       "Unnamed: 0           1.000000  0.016563         0.016563         NaN   \n",
       "Price                0.016563  1.000000         1.000000         NaN   \n",
       "Price_After_Tax      0.016563  1.000000         1.000000         NaN   \n",
       "Tax_amount                NaN       NaN              NaN         NaN   \n",
       "Avilability         -0.978961 -0.010914        -0.010914         NaN   \n",
       "Number_of_reviews         NaN       NaN              NaN         NaN   \n",
       "Stars               -0.014017  0.028166         0.028166         NaN   \n",
       "\n",
       "                   Avilability  Number_of_reviews     Stars  \n",
       "Unnamed: 0           -0.978961                NaN -0.014017  \n",
       "Price                -0.010914                NaN  0.028166  \n",
       "Price_After_Tax      -0.010914                NaN  0.028166  \n",
       "Tax_amount                 NaN                NaN       NaN  \n",
       "Avilability           1.000000                NaN  0.016166  \n",
       "Number_of_reviews          NaN                NaN       NaN  \n",
       "Stars                 0.016166                NaN  1.000000  "
      ]
     },
     "execution_count": 7,
     "metadata": {},
     "output_type": "execute_result"
    }
   ],
   "source": [
    "#correlation\n",
    "df.corr()"
   ]
  },
  {
   "cell_type": "code",
   "execution_count": 8,
   "id": "9e3e45e1",
   "metadata": {},
   "outputs": [
    {
     "data": {
      "text/html": [
       "<div>\n",
       "<style scoped>\n",
       "    .dataframe tbody tr th:only-of-type {\n",
       "        vertical-align: middle;\n",
       "    }\n",
       "\n",
       "    .dataframe tbody tr th {\n",
       "        vertical-align: top;\n",
       "    }\n",
       "\n",
       "    .dataframe thead th {\n",
       "        text-align: right;\n",
       "    }\n",
       "</style>\n",
       "<table border=\"1\" class=\"dataframe\">\n",
       "  <thead>\n",
       "    <tr style=\"text-align: right;\">\n",
       "      <th></th>\n",
       "      <th>count</th>\n",
       "      <th>mean</th>\n",
       "      <th>std</th>\n",
       "      <th>min</th>\n",
       "      <th>25%</th>\n",
       "      <th>50%</th>\n",
       "      <th>75%</th>\n",
       "      <th>max</th>\n",
       "    </tr>\n",
       "  </thead>\n",
       "  <tbody>\n",
       "    <tr>\n",
       "      <th>Unnamed: 0</th>\n",
       "      <td>1000.0</td>\n",
       "      <td>499.50000</td>\n",
       "      <td>288.819436</td>\n",
       "      <td>0.0</td>\n",
       "      <td>249.7500</td>\n",
       "      <td>499.50</td>\n",
       "      <td>749.2500</td>\n",
       "      <td>999.00</td>\n",
       "    </tr>\n",
       "    <tr>\n",
       "      <th>Price</th>\n",
       "      <td>1000.0</td>\n",
       "      <td>35.07035</td>\n",
       "      <td>14.446690</td>\n",
       "      <td>10.0</td>\n",
       "      <td>22.1075</td>\n",
       "      <td>35.98</td>\n",
       "      <td>47.4575</td>\n",
       "      <td>59.99</td>\n",
       "    </tr>\n",
       "    <tr>\n",
       "      <th>Price_After_Tax</th>\n",
       "      <td>1000.0</td>\n",
       "      <td>35.07035</td>\n",
       "      <td>14.446690</td>\n",
       "      <td>10.0</td>\n",
       "      <td>22.1075</td>\n",
       "      <td>35.98</td>\n",
       "      <td>47.4575</td>\n",
       "      <td>59.99</td>\n",
       "    </tr>\n",
       "    <tr>\n",
       "      <th>Tax_amount</th>\n",
       "      <td>1000.0</td>\n",
       "      <td>0.00000</td>\n",
       "      <td>0.000000</td>\n",
       "      <td>0.0</td>\n",
       "      <td>0.0000</td>\n",
       "      <td>0.00</td>\n",
       "      <td>0.0000</td>\n",
       "      <td>0.00</td>\n",
       "    </tr>\n",
       "    <tr>\n",
       "      <th>Avilability</th>\n",
       "      <td>1000.0</td>\n",
       "      <td>8.58500</td>\n",
       "      <td>5.654622</td>\n",
       "      <td>1.0</td>\n",
       "      <td>3.0000</td>\n",
       "      <td>7.00</td>\n",
       "      <td>14.0000</td>\n",
       "      <td>22.00</td>\n",
       "    </tr>\n",
       "    <tr>\n",
       "      <th>Number_of_reviews</th>\n",
       "      <td>1000.0</td>\n",
       "      <td>0.00000</td>\n",
       "      <td>0.000000</td>\n",
       "      <td>0.0</td>\n",
       "      <td>0.0000</td>\n",
       "      <td>0.00</td>\n",
       "      <td>0.0000</td>\n",
       "      <td>0.00</td>\n",
       "    </tr>\n",
       "    <tr>\n",
       "      <th>Stars</th>\n",
       "      <td>1000.0</td>\n",
       "      <td>2.92300</td>\n",
       "      <td>1.434967</td>\n",
       "      <td>1.0</td>\n",
       "      <td>2.0000</td>\n",
       "      <td>3.00</td>\n",
       "      <td>4.0000</td>\n",
       "      <td>5.00</td>\n",
       "    </tr>\n",
       "  </tbody>\n",
       "</table>\n",
       "</div>"
      ],
      "text/plain": [
       "                    count       mean         std   min       25%     50%  \\\n",
       "Unnamed: 0         1000.0  499.50000  288.819436   0.0  249.7500  499.50   \n",
       "Price              1000.0   35.07035   14.446690  10.0   22.1075   35.98   \n",
       "Price_After_Tax    1000.0   35.07035   14.446690  10.0   22.1075   35.98   \n",
       "Tax_amount         1000.0    0.00000    0.000000   0.0    0.0000    0.00   \n",
       "Avilability        1000.0    8.58500    5.654622   1.0    3.0000    7.00   \n",
       "Number_of_reviews  1000.0    0.00000    0.000000   0.0    0.0000    0.00   \n",
       "Stars              1000.0    2.92300    1.434967   1.0    2.0000    3.00   \n",
       "\n",
       "                        75%     max  \n",
       "Unnamed: 0         749.2500  999.00  \n",
       "Price               47.4575   59.99  \n",
       "Price_After_Tax     47.4575   59.99  \n",
       "Tax_amount           0.0000    0.00  \n",
       "Avilability         14.0000   22.00  \n",
       "Number_of_reviews    0.0000    0.00  \n",
       "Stars                4.0000    5.00  "
      ]
     },
     "execution_count": 8,
     "metadata": {},
     "output_type": "execute_result"
    }
   ],
   "source": [
    "#statistical information about the dataframe\n",
    "df.describe().T"
   ]
  },
  {
   "cell_type": "markdown",
   "id": "004459fa",
   "metadata": {},
   "source": [
    "## Feature Engineering"
   ]
  },
  {
   "cell_type": "code",
   "execution_count": 9,
   "id": "0e75df28",
   "metadata": {},
   "outputs": [
    {
     "data": {
      "text/plain": [
       "array([0.])"
      ]
     },
     "execution_count": 9,
     "metadata": {},
     "output_type": "execute_result"
    }
   ],
   "source": [
    "#unique Tax  amount values\n",
    "df[\"Tax_amount\"].unique()"
   ]
  },
  {
   "cell_type": "code",
   "execution_count": 10,
   "id": "3efec9dc",
   "metadata": {},
   "outputs": [
    {
     "data": {
      "text/plain": [
       "1"
      ]
     },
     "execution_count": 10,
     "metadata": {},
     "output_type": "execute_result"
    }
   ],
   "source": [
    "df[\"Tax_amount\"].nunique()"
   ]
  },
  {
   "cell_type": "code",
   "execution_count": 11,
   "id": "345d05cb",
   "metadata": {},
   "outputs": [
    {
     "data": {
      "text/plain": [
       "array([0], dtype=int64)"
      ]
     },
     "execution_count": 11,
     "metadata": {},
     "output_type": "execute_result"
    }
   ],
   "source": [
    "#unique no.of .reviews values\n",
    "df[\"Number_of_reviews\"].unique()"
   ]
  },
  {
   "cell_type": "code",
   "execution_count": 12,
   "id": "b240ac3a",
   "metadata": {},
   "outputs": [
    {
     "data": {
      "text/plain": [
       "1"
      ]
     },
     "execution_count": 12,
     "metadata": {},
     "output_type": "execute_result"
    }
   ],
   "source": [
    "df[\"Number_of_reviews\"].nunique()"
   ]
  },
  {
   "cell_type": "code",
   "execution_count": 13,
   "id": "d1f380e1",
   "metadata": {},
   "outputs": [
    {
     "data": {
      "text/plain": [
       "[RangeIndex(start=0, stop=1000, step=1),\n",
       " Index(['Unnamed: 0', 'Title', 'Category', 'Price', 'Price_After_Tax',\n",
       "        'Tax_amount', 'Avilability', 'Number_of_reviews', 'Book_Description',\n",
       "        'Image_Link', 'Stars'],\n",
       "       dtype='object')]"
      ]
     },
     "execution_count": 13,
     "metadata": {},
     "output_type": "execute_result"
    }
   ],
   "source": [
    "df.axes"
   ]
  },
  {
   "cell_type": "code",
   "execution_count": 14,
   "id": "8ae6b51a",
   "metadata": {},
   "outputs": [],
   "source": [
    "#dropping duplicate title\n",
    "df.drop_duplicates(subset=[\"Title\"],inplace=True)"
   ]
  },
  {
   "cell_type": "code",
   "execution_count": 15,
   "id": "4cc1a76a",
   "metadata": {},
   "outputs": [
    {
     "data": {
      "text/html": [
       "<div>\n",
       "<style scoped>\n",
       "    .dataframe tbody tr th:only-of-type {\n",
       "        vertical-align: middle;\n",
       "    }\n",
       "\n",
       "    .dataframe tbody tr th {\n",
       "        vertical-align: top;\n",
       "    }\n",
       "\n",
       "    .dataframe thead th {\n",
       "        text-align: right;\n",
       "    }\n",
       "</style>\n",
       "<table border=\"1\" class=\"dataframe\">\n",
       "  <thead>\n",
       "    <tr style=\"text-align: right;\">\n",
       "      <th></th>\n",
       "      <th>Unnamed: 0</th>\n",
       "      <th>Title</th>\n",
       "      <th>Category</th>\n",
       "      <th>Price</th>\n",
       "      <th>Price_After_Tax</th>\n",
       "      <th>Tax_amount</th>\n",
       "      <th>Avilability</th>\n",
       "      <th>Number_of_reviews</th>\n",
       "      <th>Book_Description</th>\n",
       "      <th>Image_Link</th>\n",
       "      <th>Stars</th>\n",
       "    </tr>\n",
       "  </thead>\n",
       "  <tbody>\n",
       "    <tr>\n",
       "      <th>0</th>\n",
       "      <td>0</td>\n",
       "      <td>A Light in the Attic</td>\n",
       "      <td>Poetry</td>\n",
       "      <td>51.77</td>\n",
       "      <td>51.77</td>\n",
       "      <td>0.0</td>\n",
       "      <td>22</td>\n",
       "      <td>0</td>\n",
       "      <td>It's hard to imagine a world without A Light i...</td>\n",
       "      <td>http://books.toscrape.com/media/cache/fe/72/fe...</td>\n",
       "      <td>3</td>\n",
       "    </tr>\n",
       "    <tr>\n",
       "      <th>1</th>\n",
       "      <td>1</td>\n",
       "      <td>Tipping the Velvet</td>\n",
       "      <td>Historical Fiction</td>\n",
       "      <td>53.74</td>\n",
       "      <td>53.74</td>\n",
       "      <td>0.0</td>\n",
       "      <td>20</td>\n",
       "      <td>0</td>\n",
       "      <td>\"Erotic and absorbing...Written with starling ...</td>\n",
       "      <td>http://books.toscrape.com/media/cache/08/e9/08...</td>\n",
       "      <td>1</td>\n",
       "    </tr>\n",
       "    <tr>\n",
       "      <th>2</th>\n",
       "      <td>2</td>\n",
       "      <td>Soumission</td>\n",
       "      <td>Fiction</td>\n",
       "      <td>50.10</td>\n",
       "      <td>50.10</td>\n",
       "      <td>0.0</td>\n",
       "      <td>20</td>\n",
       "      <td>0</td>\n",
       "      <td>Dans une France assez proche de la nÃ´tre, un ...</td>\n",
       "      <td>http://books.toscrape.com/media/cache/ee/cf/ee...</td>\n",
       "      <td>1</td>\n",
       "    </tr>\n",
       "    <tr>\n",
       "      <th>3</th>\n",
       "      <td>3</td>\n",
       "      <td>Sharp Objects</td>\n",
       "      <td>Mystery</td>\n",
       "      <td>47.82</td>\n",
       "      <td>47.82</td>\n",
       "      <td>0.0</td>\n",
       "      <td>20</td>\n",
       "      <td>0</td>\n",
       "      <td>WICKED above her hipbone, GIRL across her hear...</td>\n",
       "      <td>http://books.toscrape.com/media/cache/c0/59/c0...</td>\n",
       "      <td>4</td>\n",
       "    </tr>\n",
       "    <tr>\n",
       "      <th>4</th>\n",
       "      <td>4</td>\n",
       "      <td>Sapiens: A Brief History of Humankind</td>\n",
       "      <td>History</td>\n",
       "      <td>54.23</td>\n",
       "      <td>54.23</td>\n",
       "      <td>0.0</td>\n",
       "      <td>20</td>\n",
       "      <td>0</td>\n",
       "      <td>From a renowned historian comes a groundbreaki...</td>\n",
       "      <td>http://books.toscrape.com/media/cache/ce/5f/ce...</td>\n",
       "      <td>5</td>\n",
       "    </tr>\n",
       "  </tbody>\n",
       "</table>\n",
       "</div>"
      ],
      "text/plain": [
       "   Unnamed: 0                                  Title            Category  \\\n",
       "0           0                   A Light in the Attic              Poetry   \n",
       "1           1                     Tipping the Velvet  Historical Fiction   \n",
       "2           2                             Soumission             Fiction   \n",
       "3           3                          Sharp Objects             Mystery   \n",
       "4           4  Sapiens: A Brief History of Humankind             History   \n",
       "\n",
       "   Price  Price_After_Tax  Tax_amount  Avilability  Number_of_reviews  \\\n",
       "0  51.77            51.77         0.0           22                  0   \n",
       "1  53.74            53.74         0.0           20                  0   \n",
       "2  50.10            50.10         0.0           20                  0   \n",
       "3  47.82            47.82         0.0           20                  0   \n",
       "4  54.23            54.23         0.0           20                  0   \n",
       "\n",
       "                                    Book_Description  \\\n",
       "0  It's hard to imagine a world without A Light i...   \n",
       "1  \"Erotic and absorbing...Written with starling ...   \n",
       "2  Dans une France assez proche de la nÃ´tre, un ...   \n",
       "3  WICKED above her hipbone, GIRL across her hear...   \n",
       "4  From a renowned historian comes a groundbreaki...   \n",
       "\n",
       "                                          Image_Link  Stars  \n",
       "0  http://books.toscrape.com/media/cache/fe/72/fe...      3  \n",
       "1  http://books.toscrape.com/media/cache/08/e9/08...      1  \n",
       "2  http://books.toscrape.com/media/cache/ee/cf/ee...      1  \n",
       "3  http://books.toscrape.com/media/cache/c0/59/c0...      4  \n",
       "4  http://books.toscrape.com/media/cache/ce/5f/ce...      5  "
      ]
     },
     "execution_count": 15,
     "metadata": {},
     "output_type": "execute_result"
    }
   ],
   "source": [
    "df.head()"
   ]
  },
  {
   "cell_type": "code",
   "execution_count": 16,
   "id": "730ec4bc",
   "metadata": {},
   "outputs": [
    {
     "data": {
      "text/plain": [
       "(999, 11)"
      ]
     },
     "execution_count": 16,
     "metadata": {},
     "output_type": "execute_result"
    }
   ],
   "source": [
    "df.shape"
   ]
  },
  {
   "cell_type": "code",
   "execution_count": 17,
   "id": "d6e32131",
   "metadata": {},
   "outputs": [
    {
     "data": {
      "text/plain": [
       "Unnamed: 0             int64\n",
       "Title                 object\n",
       "Category              object\n",
       "Price                float64\n",
       "Price_After_Tax      float64\n",
       "Tax_amount           float64\n",
       "Avilability            int64\n",
       "Number_of_reviews      int64\n",
       "Book_Description      object\n",
       "Image_Link            object\n",
       "Stars                  int64\n",
       "dtype: object"
      ]
     },
     "execution_count": 17,
     "metadata": {},
     "output_type": "execute_result"
    }
   ],
   "source": [
    "df.dtypes"
   ]
  },
  {
   "cell_type": "markdown",
   "id": "aad6634d",
   "metadata": {},
   "source": [
    "## Data visualization"
   ]
  },
  {
   "cell_type": "code",
   "execution_count": 18,
   "id": "21f1be63",
   "metadata": {},
   "outputs": [
    {
     "data": {
      "image/png": "[encoded data removed]",
      "text/plain": [
       "<Figure size 432x288 with 2 Axes>"
      ]
     },
     "metadata": {},
     "output_type": "display_data"
    }
   ],
   "source": [
    "sns.heatmap(df.corr(),annot=True,cmap=\"magma\")\n",
    "plt.show()"
   ]
  },
  {
   "cell_type": "markdown",
   "id": "0c5f8576",
   "metadata": {},
   "source": [
    "## Distribution plots"
   ]
  },
  {
   "cell_type": "code",
   "execution_count": 19,
   "id": "18694f0b",
   "metadata": {},
   "outputs": [
    {
     "data": {
      "text/plain": [
       "<seaborn.axisgrid.FacetGrid at 0x16c61c51fd0>"
      ]
     },
     "execution_count": 19,
     "metadata": {},
     "output_type": "execute_result"
    },
    {
     "data": {
      "text/plain": [
       "<Figure size 720x720 with 0 Axes>"
      ]
     },
     "metadata": {},
     "output_type": "display_data"
    },
    {
     "data": {
      "image/png": "[encoded data removed]",
      "text/plain": [
       "<Figure size 360x360 with 1 Axes>"
      ]
     },
     "metadata": {},
     "output_type": "display_data"
    }
   ],
   "source": [
    "#price distribution plot\n",
    "plt.figure(figsize=(10,10))\n",
    "sns.displot(df[\"Price\"],kde=True)"
   ]
  },
  {
   "cell_type": "code",
   "execution_count": 20,
   "id": "fcc63773",
   "metadata": {},
   "outputs": [
    {
     "data": {
      "text/plain": [
       "<seaborn.axisgrid.FacetGrid at 0x16c61b21760>"
      ]
     },
     "execution_count": 20,
     "metadata": {},
     "output_type": "execute_result"
    },
    {
     "data": {
      "image/png": "[encoded data removed]",
      "text/plain": [
       "<Figure size 360x360 with 1 Axes>"
      ]
     },
     "metadata": {},
     "output_type": "display_data"
    }
   ],
   "source": [
    "#Distribution plot for stars\n",
    "sns.displot(df[\"Stars\"])"
   ]
  },
  {
   "cell_type": "code",
   "execution_count": 21,
   "id": "2febb3be",
   "metadata": {},
   "outputs": [
    {
     "data": {
      "text/plain": [
       "<AxesSubplot:xlabel='Stars', ylabel='count'>"
      ]
     },
     "execution_count": 21,
     "metadata": {},
     "output_type": "execute_result"
    },
    {
     "data": {
      "image/png": "[encoded data removed]",
      "text/plain": [
       "<Figure size 720x504 with 1 Axes>"
      ]
     },
     "metadata": {},
     "output_type": "display_data"
    }
   ],
   "source": [
    "plt.figure(figsize=(10,7))\n",
    "sns.countplot(x= df[\"Stars\"])"
   ]
  },
  {
   "cell_type": "code",
   "execution_count": 22,
   "id": "d275fb9e",
   "metadata": {},
   "outputs": [
    {
     "data": {
      "text/plain": [
       "<seaborn.axisgrid.FacetGrid at 0x16c61d06e80>"
      ]
     },
     "execution_count": 22,
     "metadata": {},
     "output_type": "execute_result"
    },
    {
     "data": {
      "image/png": "[encoded data removed]",
      "text/plain": [
       "<Figure size 360x360 with 1 Axes>"
      ]
     },
     "metadata": {},
     "output_type": "display_data"
    }
   ],
   "source": [
    "#Distribution plot for availability\n",
    "sns.displot(df[\"Avilability\"],kde=True)"
   ]
  },
  {
   "cell_type": "markdown",
   "id": "cf1fbc71",
   "metadata": {},
   "source": [
    "## Book with highest Price"
   ]
  },
  {
   "cell_type": "code",
   "execution_count": 29,
   "id": "19a7f2d3",
   "metadata": {},
   "outputs": [
    {
     "data": {
      "text/html": [
       "<div>\n",
       "<style scoped>\n",
       "    .dataframe tbody tr th:only-of-type {\n",
       "        vertical-align: middle;\n",
       "    }\n",
       "\n",
       "    .dataframe tbody tr th {\n",
       "        vertical-align: top;\n",
       "    }\n",
       "\n",
       "    .dataframe thead th {\n",
       "        text-align: right;\n",
       "    }\n",
       "</style>\n",
       "<table border=\"1\" class=\"dataframe\">\n",
       "  <thead>\n",
       "    <tr style=\"text-align: right;\">\n",
       "      <th></th>\n",
       "      <th>Unnamed: 0</th>\n",
       "      <th>Title</th>\n",
       "      <th>Category</th>\n",
       "      <th>Price</th>\n",
       "      <th>Price_After_Tax</th>\n",
       "      <th>Tax_amount</th>\n",
       "      <th>Avilability</th>\n",
       "      <th>Number_of_reviews</th>\n",
       "      <th>Book_Description</th>\n",
       "      <th>Image_Link</th>\n",
       "      <th>Stars</th>\n",
       "    </tr>\n",
       "  </thead>\n",
       "  <tbody>\n",
       "    <tr>\n",
       "      <th>648</th>\n",
       "      <td>648</td>\n",
       "      <td>The Perfect Play (Play by Play #1)</td>\n",
       "      <td>Romance</td>\n",
       "      <td>59.99</td>\n",
       "      <td>59.99</td>\n",
       "      <td>0.0</td>\n",
       "      <td>4</td>\n",
       "      <td>0</td>\n",
       "      <td>Football pro Mick Riley is an all-star, both o...</td>\n",
       "      <td>http://books.toscrape.com/media/cache/b0/be/b0...</td>\n",
       "      <td>3</td>\n",
       "    </tr>\n",
       "  </tbody>\n",
       "</table>\n",
       "</div>"
      ],
      "text/plain": [
       "     Unnamed: 0                               Title Category  Price  \\\n",
       "648         648  The Perfect Play (Play by Play #1)  Romance  59.99   \n",
       "\n",
       "     Price_After_Tax  Tax_amount  Avilability  Number_of_reviews  \\\n",
       "648            59.99         0.0            4                  0   \n",
       "\n",
       "                                      Book_Description  \\\n",
       "648  Football pro Mick Riley is an all-star, both o...   \n",
       "\n",
       "                                            Image_Link  Stars  \n",
       "648  http://books.toscrape.com/media/cache/b0/be/b0...      3  "
      ]
     },
     "execution_count": 29,
     "metadata": {},
     "output_type": "execute_result"
    }
   ],
   "source": [
    "# Book with Maximum 'Price'\n",
    "\n",
    "df[df['Price'] == df['Price'].max()]"
   ]
  },
  {
   "cell_type": "code",
   "execution_count": 31,
   "id": "81e15dcc",
   "metadata": {},
   "outputs": [
    {
     "data": {
      "text/plain": [
       "10.0"
      ]
     },
     "execution_count": 31,
     "metadata": {},
     "output_type": "execute_result"
    }
   ],
   "source": [
    "# Book with Minimum 'Price'\n",
    "\n",
    "round(df['Price'].min(),2)"
   ]
  },
  {
   "cell_type": "code",
   "execution_count": 32,
   "id": "d9c8130c",
   "metadata": {},
   "outputs": [
    {
     "data": {
      "text/plain": [
       "35.07"
      ]
     },
     "execution_count": 32,
     "metadata": {},
     "output_type": "execute_result"
    }
   ],
   "source": [
    "#Mean with Mean price\n",
    "round(df[\"Price\"].mean(),2)"
   ]
  },
  {
   "cell_type": "code",
   "execution_count": 36,
   "id": "3f17be96",
   "metadata": {},
   "outputs": [
    {
     "data": {
      "text/html": [
       "<div>\n",
       "<style scoped>\n",
       "    .dataframe tbody tr th:only-of-type {\n",
       "        vertical-align: middle;\n",
       "    }\n",
       "\n",
       "    .dataframe tbody tr th {\n",
       "        vertical-align: top;\n",
       "    }\n",
       "\n",
       "    .dataframe thead th {\n",
       "        text-align: right;\n",
       "    }\n",
       "</style>\n",
       "<table border=\"1\" class=\"dataframe\">\n",
       "  <thead>\n",
       "    <tr style=\"text-align: right;\">\n",
       "      <th></th>\n",
       "      <th>Title</th>\n",
       "      <th>Price</th>\n",
       "    </tr>\n",
       "  </thead>\n",
       "  <tbody>\n",
       "    <tr>\n",
       "      <th>648</th>\n",
       "      <td>The Perfect Play (Play by Play #1)</td>\n",
       "      <td>59.99</td>\n",
       "    </tr>\n",
       "    <tr>\n",
       "      <th>617</th>\n",
       "      <td>Last One Home (New Beginnings #1)</td>\n",
       "      <td>59.98</td>\n",
       "    </tr>\n",
       "    <tr>\n",
       "      <th>860</th>\n",
       "      <td>Civilization and Its Discontents</td>\n",
       "      <td>59.95</td>\n",
       "    </tr>\n",
       "    <tr>\n",
       "      <th>560</th>\n",
       "      <td>The Barefoot Contessa Cookbook</td>\n",
       "      <td>59.92</td>\n",
       "    </tr>\n",
       "    <tr>\n",
       "      <th>366</th>\n",
       "      <td>The Diary of a Young Girl</td>\n",
       "      <td>59.90</td>\n",
       "    </tr>\n",
       "    <tr>\n",
       "      <th>657</th>\n",
       "      <td>The Bone Hunters (Lexy Vaughan &amp; Steven Macaul...</td>\n",
       "      <td>59.71</td>\n",
       "    </tr>\n",
       "    <tr>\n",
       "      <th>133</th>\n",
       "      <td>Thomas Jefferson and the Tripoli Pirates: The ...</td>\n",
       "      <td>59.64</td>\n",
       "    </tr>\n",
       "    <tr>\n",
       "      <th>387</th>\n",
       "      <td>Boar Island (Anna Pigeon #19)</td>\n",
       "      <td>59.48</td>\n",
       "    </tr>\n",
       "    <tr>\n",
       "      <th>393</th>\n",
       "      <td>The Improbability of Love</td>\n",
       "      <td>59.45</td>\n",
       "    </tr>\n",
       "    <tr>\n",
       "      <th>549</th>\n",
       "      <td>The Man Who Mistook His Wife for a Hat and Oth...</td>\n",
       "      <td>59.45</td>\n",
       "    </tr>\n",
       "  </tbody>\n",
       "</table>\n",
       "</div>"
      ],
      "text/plain": [
       "                                                 Title  Price\n",
       "648                 The Perfect Play (Play by Play #1)  59.99\n",
       "617                  Last One Home (New Beginnings #1)  59.98\n",
       "860                   Civilization and Its Discontents  59.95\n",
       "560                     The Barefoot Contessa Cookbook  59.92\n",
       "366                          The Diary of a Young Girl  59.90\n",
       "657  The Bone Hunters (Lexy Vaughan & Steven Macaul...  59.71\n",
       "133  Thomas Jefferson and the Tripoli Pirates: The ...  59.64\n",
       "387                      Boar Island (Anna Pigeon #19)  59.48\n",
       "393                          The Improbability of Love  59.45\n",
       "549  The Man Who Mistook His Wife for a Hat and Oth...  59.45"
      ]
     },
     "execution_count": 36,
     "metadata": {},
     "output_type": "execute_result"
    }
   ],
   "source": [
    "#Top 10 books in terms of dataframe\n",
    "df.sort_values(by='Price', ascending=False)[:10][['Title','Price']]"
   ]
  },
  {
   "cell_type": "markdown",
   "id": "a49fba43",
   "metadata": {},
   "source": [
    "## Price and Category"
   ]
  },
  {
   "cell_type": "code",
   "execution_count": 37,
   "id": "ae1acfc3",
   "metadata": {},
   "outputs": [
    {
     "data": {
      "text/plain": [
       "50"
      ]
     },
     "execution_count": 37,
     "metadata": {},
     "output_type": "execute_result"
    }
   ],
   "source": [
    "df[\"Category\"].nunique()"
   ]
  },
  {
   "cell_type": "code",
   "execution_count": 40,
   "id": "b7326b5a",
   "metadata": {},
   "outputs": [
    {
     "data": {
      "text/plain": [
       "Category\n",
       "Romance               59.99\n",
       "Fiction               59.98\n",
       "Psychology            59.95\n",
       "Food and Drink        59.92\n",
       "Nonfiction            59.90\n",
       "Thriller              59.71\n",
       "History               59.64\n",
       "Mystery               59.48\n",
       "Add a comment         59.15\n",
       "Autobiography         59.04\n",
       "Default               58.87\n",
       "Fantasy               58.75\n",
       "Classics              58.63\n",
       "New Adult             58.35\n",
       "Suspense              58.33\n",
       "Young Adult           58.14\n",
       "Philosophy            58.11\n",
       "Childrens             58.08\n",
       "Horror                57.86\n",
       "Sequential Art        57.62\n",
       "Religion              57.49\n",
       "Science               57.36\n",
       "Womens Fiction        57.36\n",
       "Poetry                57.31\n",
       "Music                 57.25\n",
       "Travel                56.88\n",
       "Politics              56.86\n",
       "Spirituality          55.65\n",
       "Historical Fiction    55.55\n",
       "Humor                 55.50\n",
       "Science Fiction       54.86\n",
       "Novels                54.81\n",
       "Health                54.07\n",
       "Christian             54.00\n",
       "Contemporary          52.79\n",
       "Self Help             52.15\n",
       "Business              51.74\n",
       "Sports and Games      51.22\n",
       "Christian Fiction     49.97\n",
       "Art                   49.05\n",
       "Biography             48.19\n",
       "Parenting             37.35\n",
       "Cultural              36.58\n",
       "Short Stories         35.88\n",
       "Historical            29.87\n",
       "Erotica               19.19\n",
       "Paranormal            15.40\n",
       "Adult Fiction         15.36\n",
       "Academic              13.12\n",
       "Crime                 10.97\n",
       "Name: Price, dtype: float64"
      ]
     },
     "execution_count": 40,
     "metadata": {},
     "output_type": "execute_result"
    }
   ],
   "source": [
    "df.groupby([\"Category\"]).max().sort_values(by=\"Price\",ascending=False)[\"Price\"]"
   ]
  },
  {
   "cell_type": "markdown",
   "id": "61a1c685",
   "metadata": {},
   "source": [
    "## Price and Stars"
   ]
  },
  {
   "cell_type": "code",
   "execution_count": 41,
   "id": "8d8b2fad",
   "metadata": {},
   "outputs": [
    {
     "data": {
      "text/plain": [
       "5"
      ]
     },
     "execution_count": 41,
     "metadata": {},
     "output_type": "execute_result"
    }
   ],
   "source": [
    "#number of unique stars\n",
    "df[\"Stars\"].nunique()"
   ]
  },
  {
   "cell_type": "code",
   "execution_count": 42,
   "id": "599528a0",
   "metadata": {},
   "outputs": [
    {
     "data": {
      "text/plain": [
       "array([3, 1, 4, 5, 2], dtype=int64)"
      ]
     },
     "execution_count": 42,
     "metadata": {},
     "output_type": "execute_result"
    }
   ],
   "source": [
    "#unique stars\n",
    "df[\"Stars\"].unique()"
   ]
  },
  {
   "cell_type": "markdown",
   "id": "4cfd526f",
   "metadata": {},
   "source": [
    "## Book with maximum Stars"
   ]
  },
  {
   "cell_type": "code",
   "execution_count": 46,
   "id": "6ab6a940",
   "metadata": {},
   "outputs": [
    {
     "data": {
      "text/plain": [
       "195"
      ]
     },
     "execution_count": 46,
     "metadata": {},
     "output_type": "execute_result"
    }
   ],
   "source": [
    "# No.of Books with Maximum 'Star' i.e,. 5 stars\n",
    "len(df[df[\"Stars\"] == df[\"Stars\"].max()])"
   ]
  },
  {
   "cell_type": "code",
   "execution_count": 47,
   "id": "bfec149e",
   "metadata": {},
   "outputs": [
    {
     "data": {
      "text/plain": [
       "226"
      ]
     },
     "execution_count": 47,
     "metadata": {},
     "output_type": "execute_result"
    }
   ],
   "source": [
    "#books with minimum stars\n",
    "len(df[df[\"Stars\"] ==df[\"Stars\"].min()])"
   ]
  },
  {
   "cell_type": "code",
   "execution_count": 51,
   "id": "d31fe042",
   "metadata": {},
   "outputs": [
    {
     "data": {
      "text/plain": [
       "2.92"
      ]
     },
     "execution_count": 51,
     "metadata": {},
     "output_type": "execute_result"
    }
   ],
   "source": [
    "#Mean Stars for books\n",
    "round(df[\"Stars\"].mean(),2)"
   ]
  },
  {
   "cell_type": "code",
   "execution_count": 53,
   "id": "6e811c53",
   "metadata": {},
   "outputs": [
    {
     "data": {
      "text/plain": [
       "Stars\n",
       "5    59.92\n",
       "4    59.45\n",
       "3    59.99\n",
       "2    59.95\n",
       "1    59.64\n",
       "Name: Price, dtype: float64"
      ]
     },
     "execution_count": 53,
     "metadata": {},
     "output_type": "execute_result"
    }
   ],
   "source": [
    "#book wit maximum Price across Stars\n",
    "df.groupby([\"Stars\"]).max().sort_values(by=\"Stars\",ascending=False)[\"Price\"]"
   ]
  },
  {
   "cell_type": "code",
   "execution_count": 54,
   "id": "81860119",
   "metadata": {},
   "outputs": [
    {
     "data": {
      "text/plain": [
       "Stars\n",
       "5    35.390256\n",
       "4    36.093296\n",
       "3    34.692020\n",
       "2    34.810918\n",
       "1    34.561195\n",
       "Name: Price, dtype: float64"
      ]
     },
     "execution_count": 54,
     "metadata": {},
     "output_type": "execute_result"
    }
   ],
   "source": [
    "#Books with mean price across stars\n",
    "df.groupby(df[\"Stars\"]).mean().sort_values(by=\"Stars\",ascending=False)[\"Price\"]"
   ]
  },
  {
   "cell_type": "code",
   "execution_count": 56,
   "id": "875dcd49",
   "metadata": {},
   "outputs": [
    {
     "data": {
      "text/plain": [
       "Stars\n",
       "5    10.00\n",
       "4    10.01\n",
       "3    10.16\n",
       "2    10.02\n",
       "1    10.40\n",
       "Name: Price, dtype: float64"
      ]
     },
     "execution_count": 56,
     "metadata": {},
     "output_type": "execute_result"
    }
   ],
   "source": [
    "#Book with minimum price across stars\n",
    "df.groupby(['Stars']).min().sort_values(by='Stars', ascending=False)['Price']"
   ]
  },
  {
   "cell_type": "markdown",
   "id": "aa292081",
   "metadata": {},
   "source": [
    "## Title vs Availability"
   ]
  },
  {
   "cell_type": "code",
   "execution_count": 57,
   "id": "1a1c32a7",
   "metadata": {},
   "outputs": [
    {
     "data": {
      "text/plain": [
       "21"
      ]
     },
     "execution_count": 57,
     "metadata": {},
     "output_type": "execute_result"
    }
   ],
   "source": [
    "df[\"Avilability\"].nunique()"
   ]
  },
  {
   "cell_type": "markdown",
   "id": "00a6d4a9",
   "metadata": {},
   "source": [
    "## Book with maximum availability"
   ]
  },
  {
   "cell_type": "code",
   "execution_count": 60,
   "id": "a0b8e91b",
   "metadata": {},
   "outputs": [
    {
     "data": {
      "text/plain": [
       "0    A Light in the Attic\n",
       "Name: Title, dtype: object"
      ]
     },
     "execution_count": 60,
     "metadata": {},
     "output_type": "execute_result"
    }
   ],
   "source": [
    "df[df[\"Avilability\"] == df[\"Avilability\"].max()][\"Title\"]"
   ]
  },
  {
   "cell_type": "code",
   "execution_count": 61,
   "id": "a225d18e",
   "metadata": {},
   "outputs": [
    {
     "data": {
      "text/plain": [
       "98"
      ]
     },
     "execution_count": 61,
     "metadata": {},
     "output_type": "execute_result"
    }
   ],
   "source": [
    "#books with minimum availability\n",
    "len(df[df[\"Avilability\"] == df[\"Avilability\"].min()])"
   ]
  },
  {
   "cell_type": "markdown",
   "id": "a724b886",
   "metadata": {},
   "source": [
    "## Category vs Availability"
   ]
  },
  {
   "cell_type": "code",
   "execution_count": 63,
   "id": "cf5960f8",
   "metadata": {},
   "outputs": [
    {
     "data": {
      "text/plain": [
       "Category\n",
       "Poetry                22\n",
       "Mystery               20\n",
       "History               20\n",
       "Historical Fiction    20\n",
       "Fiction               20\n",
       "Music                 19\n",
       "Default               19\n",
       "Travel                19\n",
       "Thriller              19\n",
       "Sequential Art        19\n",
       "Science Fiction       19\n",
       "Romance               19\n",
       "Politics              19\n",
       "Food and Drink        19\n",
       "Young Adult           19\n",
       "Business              19\n",
       "Childrens             19\n",
       "Philosophy            18\n",
       "Art                   18\n",
       "Spirituality          18\n",
       "Nonfiction            18\n",
       "New Adult             16\n",
       "Fantasy               16\n",
       "Religion              16\n",
       "Science               16\n",
       "Self Help             16\n",
       "Add a comment         16\n",
       "Horror                16\n",
       "Contemporary          16\n",
       "Health                16\n",
       "Christian             16\n",
       "Biography             15\n",
       "Autobiography         15\n",
       "Womens Fiction        15\n",
       "Erotica               15\n",
       "Christian Fiction     15\n",
       "Crime                 15\n",
       "Cultural              15\n",
       "Psychology            14\n",
       "Humor                 14\n",
       "Historical            14\n",
       "Novels                 9\n",
       "Short Stories          8\n",
       "Suspense               8\n",
       "Classics               5\n",
       "Academic               5\n",
       "Parenting              3\n",
       "Sports and Games       3\n",
       "Adult Fiction          3\n",
       "Paranormal             1\n",
       "Name: Avilability, dtype: int64"
      ]
     },
     "execution_count": 63,
     "metadata": {},
     "output_type": "execute_result"
    }
   ],
   "source": [
    "#maximum availability across categories\n",
    "df.groupby([\"Category\"]).max().sort_values(by=\"Avilability\",ascending=False)[\"Avilability\"]"
   ]
  },
  {
   "cell_type": "code",
   "execution_count": 65,
   "id": "73b1cafc",
   "metadata": {},
   "outputs": [
    {
     "data": {
      "text/plain": [
       "Category\n",
       "Crime                 15\n",
       "Erotica               15\n",
       "Cultural              15\n",
       "Politics              12\n",
       "Novels                 9\n",
       "Health                 9\n",
       "Short Stories          8\n",
       "Suspense               8\n",
       "Christian              7\n",
       "Self Help              6\n",
       "Historical             6\n",
       "Academic               5\n",
       "Spirituality           4\n",
       "Contemporary           3\n",
       "Autobiography          3\n",
       "Parenting              3\n",
       "Adult Fiction          3\n",
       "Humor                  3\n",
       "Thriller               3\n",
       "History                3\n",
       "Horror                 3\n",
       "Biography              3\n",
       "Business               3\n",
       "Food and Drink         3\n",
       "Christian Fiction      3\n",
       "Psychology             3\n",
       "Travel                 1\n",
       "Sequential Art         1\n",
       "Womens Fiction         1\n",
       "Science Fiction        1\n",
       "Science                1\n",
       "Sports and Games       1\n",
       "Romance                1\n",
       "Religion               1\n",
       "Music                  1\n",
       "Poetry                 1\n",
       "Philosophy             1\n",
       "Paranormal             1\n",
       "Nonfiction             1\n",
       "New Adult              1\n",
       "Mystery                1\n",
       "Add a comment          1\n",
       "Historical Fiction     1\n",
       "Fiction                1\n",
       "Fantasy                1\n",
       "Default                1\n",
       "Classics               1\n",
       "Childrens              1\n",
       "Art                    1\n",
       "Young Adult            1\n",
       "Name: Avilability, dtype: int64"
      ]
     },
     "execution_count": 65,
     "metadata": {},
     "output_type": "execute_result"
    }
   ],
   "source": [
    "#minimum availability across categories\n",
    "df.groupby([\"Category\"]).min().sort_values(by=\"Avilability\",ascending=False)[\"Avilability\"]"
   ]
  },
  {
   "cell_type": "code",
   "execution_count": 66,
   "id": "d231d35e",
   "metadata": {},
   "outputs": [
    {
     "data": {
      "text/plain": [
       "Category\n",
       "Cultural              15.000000\n",
       "Erotica               15.000000\n",
       "Crime                 15.000000\n",
       "Politics              15.000000\n",
       "Poetry                12.368421\n",
       "Christian             12.333333\n",
       "Health                12.250000\n",
       "Self Help             11.800000\n",
       "Spirituality          11.500000\n",
       "Business              11.083333\n",
       "Contemporary          11.000000\n",
       "Thriller              10.818182\n",
       "Food and Drink        10.633333\n",
       "History               10.055556\n",
       "Historical            10.000000\n",
       "Christian Fiction      9.166667\n",
       "Sequential Art         9.146667\n",
       "Mystery                9.062500\n",
       "Fiction                9.046154\n",
       "Novels                 9.000000\n",
       "Art                    9.000000\n",
       "Nonfiction             8.863636\n",
       "Default                8.848684\n",
       "Biography              8.600000\n",
       "Young Adult            8.592593\n",
       "Religion               8.571429\n",
       "Music                  8.538462\n",
       "Humor                  8.400000\n",
       "New Adult              8.166667\n",
       "Travel                 8.090909\n",
       "Suspense               8.000000\n",
       "Short Stories          8.000000\n",
       "Horror                 8.000000\n",
       "Childrens              7.896552\n",
       "Science Fiction        7.812500\n",
       "Add a comment          7.701493\n",
       "Romance                7.685714\n",
       "Fantasy                7.659574\n",
       "Science                7.500000\n",
       "Historical Fiction     7.461538\n",
       "Philosophy             7.454545\n",
       "Psychology             7.428571\n",
       "Autobiography          6.333333\n",
       "Womens Fiction         5.352941\n",
       "Academic               5.000000\n",
       "Parenting              3.000000\n",
       "Adult Fiction          3.000000\n",
       "Classics               2.894737\n",
       "Sports and Games       2.000000\n",
       "Paranormal             1.000000\n",
       "Name: Avilability, dtype: float64"
      ]
     },
     "execution_count": 66,
     "metadata": {},
     "output_type": "execute_result"
    }
   ],
   "source": [
    "#Mean availability across categories\n",
    "df.groupby([\"Category\"]).mean().sort_values(\"Avilability\",ascending=False)[\"Avilability\"]"
   ]
  },
  {
   "cell_type": "markdown",
   "id": "8c29662a",
   "metadata": {},
   "source": [
    "## Category vs Stars\n"
   ]
  },
  {
   "cell_type": "code",
   "execution_count": 68,
   "id": "eac3e94e",
   "metadata": {},
   "outputs": [
    {
     "data": {
      "text/plain": [
       "Category\n",
       "Music                 5\n",
       "History               5\n",
       "Humor                 5\n",
       "Add a comment         5\n",
       "Mystery               5\n",
       "New Adult             5\n",
       "Nonfiction            5\n",
       "Novels                5\n",
       "Philosophy            5\n",
       "Poetry                5\n",
       "Religion              5\n",
       "Romance               5\n",
       "Science               5\n",
       "Science Fiction       5\n",
       "Self Help             5\n",
       "Sequential Art        5\n",
       "Spirituality          5\n",
       "Sports and Games      5\n",
       "Thriller              5\n",
       "Travel                5\n",
       "Womens Fiction        5\n",
       "Horror                5\n",
       "Young Adult           5\n",
       "Historical Fiction    5\n",
       "Art                   5\n",
       "Childrens             5\n",
       "Christian             5\n",
       "Christian Fiction     5\n",
       "Contemporary          5\n",
       "Historical            5\n",
       "Default               5\n",
       "Autobiography         5\n",
       "Adult Fiction         5\n",
       "Erotica               5\n",
       "Fantasy               5\n",
       "Fiction               5\n",
       "Food and Drink        5\n",
       "Health                5\n",
       "Business              5\n",
       "Politics              4\n",
       "Classics              4\n",
       "Biography             3\n",
       "Psychology            3\n",
       "Suspense              3\n",
       "Academic              2\n",
       "Parenting             2\n",
       "Short Stories         1\n",
       "Cultural              1\n",
       "Paranormal            1\n",
       "Crime                 1\n",
       "Name: Stars, dtype: int64"
      ]
     },
     "execution_count": 68,
     "metadata": {},
     "output_type": "execute_result"
    }
   ],
   "source": [
    "#Maximum Stars across categories\n",
    "df.groupby([\"Category\"]).max().sort_values(\"Stars\",ascending=False)[\"Stars\"]"
   ]
  },
  {
   "cell_type": "code",
   "execution_count": 69,
   "id": "dfb59c74",
   "metadata": {},
   "outputs": [
    {
     "data": {
      "text/plain": [
       "Category\n",
       "Novels                5\n",
       "Adult Fiction         5\n",
       "Erotica               5\n",
       "Suspense              3\n",
       "Parenting             2\n",
       "Health                2\n",
       "Christian Fiction     2\n",
       "Academic              2\n",
       "Art                   2\n",
       "Sports and Games      1\n",
       "Religion              1\n",
       "Paranormal            1\n",
       "Philosophy            1\n",
       "Poetry                1\n",
       "Politics              1\n",
       "Psychology            1\n",
       "Womens Fiction        1\n",
       "Romance               1\n",
       "Thriller              1\n",
       "Science               1\n",
       "Travel                1\n",
       "Science Fiction       1\n",
       "Nonfiction            1\n",
       "Sequential Art        1\n",
       "Short Stories         1\n",
       "Spirituality          1\n",
       "Self Help             1\n",
       "Music                 1\n",
       "New Adult             1\n",
       "Mystery               1\n",
       "Autobiography         1\n",
       "Biography             1\n",
       "Business              1\n",
       "Childrens             1\n",
       "Christian             1\n",
       "Classics              1\n",
       "Contemporary          1\n",
       "Crime                 1\n",
       "Cultural              1\n",
       "Default               1\n",
       "Fantasy               1\n",
       "Fiction               1\n",
       "Food and Drink        1\n",
       "Historical            1\n",
       "Historical Fiction    1\n",
       "History               1\n",
       "Horror                1\n",
       "Humor                 1\n",
       "Add a comment         1\n",
       "Young Adult           1\n",
       "Name: Stars, dtype: int64"
      ]
     },
     "execution_count": 69,
     "metadata": {},
     "output_type": "execute_result"
    }
   ],
   "source": [
    "#Minimum stars across categories\n",
    "df.groupby([\"Category\"]).min().sort_values(\"Stars\",ascending=False)[\"Stars\"]"
   ]
  },
  {
   "cell_type": "code",
   "execution_count": 70,
   "id": "74700cbe",
   "metadata": {},
   "outputs": [
    {
     "data": {
      "text/plain": [
       "Category\n",
       "Erotica               5.000000\n",
       "Adult Fiction         5.000000\n",
       "Novels                5.000000\n",
       "Christian Fiction     4.166667\n",
       "Health                3.750000\n",
       "Art                   3.625000\n",
       "Poetry                3.526316\n",
       "Humor                 3.400000\n",
       "Spirituality          3.333333\n",
       "Young Adult           3.296296\n",
       "Historical Fiction    3.230769\n",
       "Fiction               3.184615\n",
       "New Adult             3.166667\n",
       "Music                 3.153846\n",
       "Religion              3.142857\n",
       "Womens Fiction        3.117647\n",
       "Fantasy               3.042553\n",
       "Historical            3.000000\n",
       "Autobiography         3.000000\n",
       "Sports and Games      3.000000\n",
       "Suspense              3.000000\n",
       "Sequential Art        2.973333\n",
       "History               2.944444\n",
       "Mystery               2.937500\n",
       "Science               2.928571\n",
       "Business              2.916667\n",
       "Food and Drink        2.900000\n",
       "Nonfiction            2.881818\n",
       "Default               2.835526\n",
       "Add a comment         2.761194\n",
       "Thriller              2.727273\n",
       "Travel                2.727273\n",
       "Horror                2.705882\n",
       "Christian             2.666667\n",
       "Romance               2.628571\n",
       "Childrens             2.620690\n",
       "Self Help             2.600000\n",
       "Classics              2.473684\n",
       "Philosophy            2.363636\n",
       "Politics              2.333333\n",
       "Contemporary          2.333333\n",
       "Science Fiction       2.250000\n",
       "Biography             2.200000\n",
       "Parenting             2.000000\n",
       "Academic              2.000000\n",
       "Psychology            1.714286\n",
       "Short Stories         1.000000\n",
       "Cultural              1.000000\n",
       "Paranormal            1.000000\n",
       "Crime                 1.000000\n",
       "Name: Stars, dtype: float64"
      ]
     },
     "execution_count": 70,
     "metadata": {},
     "output_type": "execute_result"
    }
   ],
   "source": [
    "#Mean Stars across categories\n",
    "df.groupby([\"Category\"]).mean().sort_values(\"Stars\",ascending=False)[\"Stars\"]"
   ]
  },
  {
   "cell_type": "markdown",
   "id": "9cf141ef",
   "metadata": {},
   "source": [
    "## Insights"
   ]
  },
  {
   "cell_type": "markdown",
   "id": "dae02ba3",
   "metadata": {},
   "source": [
    "The Book with highest Price is \"The Perfect Play (Play by Play #1)\".\n",
    "The categories with Maximum Price are \"Romance\" and \"Fiction\".\n",
    "There are 195 books in the DataFrame with \"5 star rating\".\n",
    "There is no clear relation & Correlation between 'Price' and 'Stars' is \"0.028166\".\n",
    "The categories with Maximum Availability are \"Poetry\", \"Mystery\", \"History\", \"Historical Fiction\" and \"Fiction\".\n",
    "There are total \"39\" categories with 5 star rating."
   ]
  },
  {
   "cell_type": "code",
   "execution_count": null,
   "id": "a5668561",
   "metadata": {},
   "outputs": [],
   "source": []
  }
 ],
 "metadata": {
  "kernelspec": {
   "display_name": "Python 3 (ipykernel)",
   "language": "python",
   "name": "python3"
  },
  "language_info": {
   "codemirror_mode": {
    "name": "ipython",
    "version": 3
   },
   "file_extension": ".py",
   "mimetype": "text/x-python",
   "name": "python",
   "nbconvert_exporter": "python",
   "pygments_lexer": "ipython3",
   "version": "3.9.12"
  }
 },
 "nbformat": 4,
 "nbformat_minor": 5
}
