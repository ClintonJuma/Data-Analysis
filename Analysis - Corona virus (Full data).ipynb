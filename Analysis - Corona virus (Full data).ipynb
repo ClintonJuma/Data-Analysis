{
 "cells": [
  {
   "cell_type": "code",
   "execution_count": 1,
   "id": "7cd066b2",
   "metadata": {},
   "outputs": [],
   "source": [
    "import pandas as pd\n",
    "import numpy as np\n",
    "import matplotlib.pyplot as plt"
   ]
  },
  {
   "cell_type": "code",
   "execution_count": 2,
   "id": "9f3780da",
   "metadata": {},
   "outputs": [
    {
     "data": {
      "text/html": [
       "<div>\n",
       "<style scoped>\n",
       "    .dataframe tbody tr th:only-of-type {\n",
       "        vertical-align: middle;\n",
       "    }\n",
       "\n",
       "    .dataframe tbody tr th {\n",
       "        vertical-align: top;\n",
       "    }\n",
       "\n",
       "    .dataframe thead th {\n",
       "        text-align: right;\n",
       "    }\n",
       "</style>\n",
       "<table border=\"1\" class=\"dataframe\">\n",
       "  <thead>\n",
       "    <tr style=\"text-align: right;\">\n",
       "      <th></th>\n",
       "      <th>date</th>\n",
       "      <th>location</th>\n",
       "      <th>new_cases</th>\n",
       "      <th>new_deaths</th>\n",
       "      <th>total_cases</th>\n",
       "      <th>total_deaths</th>\n",
       "      <th>weekly_cases</th>\n",
       "      <th>weekly_deaths</th>\n",
       "      <th>biweekly_cases</th>\n",
       "      <th>biweekly_deaths</th>\n",
       "    </tr>\n",
       "  </thead>\n",
       "  <tbody>\n",
       "    <tr>\n",
       "      <th>0</th>\n",
       "      <td>2020-02-24</td>\n",
       "      <td>Afghanistan</td>\n",
       "      <td>5.0</td>\n",
       "      <td>NaN</td>\n",
       "      <td>5.0</td>\n",
       "      <td>NaN</td>\n",
       "      <td>NaN</td>\n",
       "      <td>NaN</td>\n",
       "      <td>NaN</td>\n",
       "      <td>NaN</td>\n",
       "    </tr>\n",
       "    <tr>\n",
       "      <th>1</th>\n",
       "      <td>2020-02-25</td>\n",
       "      <td>Afghanistan</td>\n",
       "      <td>0.0</td>\n",
       "      <td>NaN</td>\n",
       "      <td>5.0</td>\n",
       "      <td>NaN</td>\n",
       "      <td>NaN</td>\n",
       "      <td>NaN</td>\n",
       "      <td>NaN</td>\n",
       "      <td>NaN</td>\n",
       "    </tr>\n",
       "    <tr>\n",
       "      <th>2</th>\n",
       "      <td>2020-02-26</td>\n",
       "      <td>Afghanistan</td>\n",
       "      <td>0.0</td>\n",
       "      <td>NaN</td>\n",
       "      <td>5.0</td>\n",
       "      <td>NaN</td>\n",
       "      <td>NaN</td>\n",
       "      <td>NaN</td>\n",
       "      <td>NaN</td>\n",
       "      <td>NaN</td>\n",
       "    </tr>\n",
       "    <tr>\n",
       "      <th>3</th>\n",
       "      <td>2020-02-27</td>\n",
       "      <td>Afghanistan</td>\n",
       "      <td>0.0</td>\n",
       "      <td>NaN</td>\n",
       "      <td>5.0</td>\n",
       "      <td>NaN</td>\n",
       "      <td>NaN</td>\n",
       "      <td>NaN</td>\n",
       "      <td>NaN</td>\n",
       "      <td>NaN</td>\n",
       "    </tr>\n",
       "    <tr>\n",
       "      <th>4</th>\n",
       "      <td>2020-02-28</td>\n",
       "      <td>Afghanistan</td>\n",
       "      <td>0.0</td>\n",
       "      <td>NaN</td>\n",
       "      <td>5.0</td>\n",
       "      <td>NaN</td>\n",
       "      <td>NaN</td>\n",
       "      <td>NaN</td>\n",
       "      <td>NaN</td>\n",
       "      <td>NaN</td>\n",
       "    </tr>\n",
       "    <tr>\n",
       "      <th>...</th>\n",
       "      <td>...</td>\n",
       "      <td>...</td>\n",
       "      <td>...</td>\n",
       "      <td>...</td>\n",
       "      <td>...</td>\n",
       "      <td>...</td>\n",
       "      <td>...</td>\n",
       "      <td>...</td>\n",
       "      <td>...</td>\n",
       "      <td>...</td>\n",
       "    </tr>\n",
       "    <tr>\n",
       "      <th>204658</th>\n",
       "      <td>2022-08-29</td>\n",
       "      <td>Zimbabwe</td>\n",
       "      <td>5.0</td>\n",
       "      <td>0.0</td>\n",
       "      <td>256704.0</td>\n",
       "      <td>5593.0</td>\n",
       "      <td>76.0</td>\n",
       "      <td>1.0</td>\n",
       "      <td>160.0</td>\n",
       "      <td>5.0</td>\n",
       "    </tr>\n",
       "    <tr>\n",
       "      <th>204659</th>\n",
       "      <td>2022-08-30</td>\n",
       "      <td>Zimbabwe</td>\n",
       "      <td>4.0</td>\n",
       "      <td>0.0</td>\n",
       "      <td>256708.0</td>\n",
       "      <td>5593.0</td>\n",
       "      <td>80.0</td>\n",
       "      <td>1.0</td>\n",
       "      <td>147.0</td>\n",
       "      <td>5.0</td>\n",
       "    </tr>\n",
       "    <tr>\n",
       "      <th>204660</th>\n",
       "      <td>2022-08-31</td>\n",
       "      <td>Zimbabwe</td>\n",
       "      <td>18.0</td>\n",
       "      <td>3.0</td>\n",
       "      <td>256726.0</td>\n",
       "      <td>5596.0</td>\n",
       "      <td>98.0</td>\n",
       "      <td>4.0</td>\n",
       "      <td>161.0</td>\n",
       "      <td>8.0</td>\n",
       "    </tr>\n",
       "    <tr>\n",
       "      <th>204661</th>\n",
       "      <td>2022-09-01</td>\n",
       "      <td>Zimbabwe</td>\n",
       "      <td>12.0</td>\n",
       "      <td>0.0</td>\n",
       "      <td>256738.0</td>\n",
       "      <td>5596.0</td>\n",
       "      <td>63.0</td>\n",
       "      <td>3.0</td>\n",
       "      <td>159.0</td>\n",
       "      <td>7.0</td>\n",
       "    </tr>\n",
       "    <tr>\n",
       "      <th>204662</th>\n",
       "      <td>2022-09-02</td>\n",
       "      <td>Zimbabwe</td>\n",
       "      <td>6.0</td>\n",
       "      <td>0.0</td>\n",
       "      <td>256744.0</td>\n",
       "      <td>5596.0</td>\n",
       "      <td>62.0</td>\n",
       "      <td>3.0</td>\n",
       "      <td>148.0</td>\n",
       "      <td>7.0</td>\n",
       "    </tr>\n",
       "  </tbody>\n",
       "</table>\n",
       "<p>204663 rows × 10 columns</p>\n",
       "</div>"
      ],
      "text/plain": [
       "              date     location  new_cases  new_deaths  total_cases  \\\n",
       "0       2020-02-24  Afghanistan        5.0         NaN          5.0   \n",
       "1       2020-02-25  Afghanistan        0.0         NaN          5.0   \n",
       "2       2020-02-26  Afghanistan        0.0         NaN          5.0   \n",
       "3       2020-02-27  Afghanistan        0.0         NaN          5.0   \n",
       "4       2020-02-28  Afghanistan        0.0         NaN          5.0   \n",
       "...            ...          ...        ...         ...          ...   \n",
       "204658  2022-08-29     Zimbabwe        5.0         0.0     256704.0   \n",
       "204659  2022-08-30     Zimbabwe        4.0         0.0     256708.0   \n",
       "204660  2022-08-31     Zimbabwe       18.0         3.0     256726.0   \n",
       "204661  2022-09-01     Zimbabwe       12.0         0.0     256738.0   \n",
       "204662  2022-09-02     Zimbabwe        6.0         0.0     256744.0   \n",
       "\n",
       "        total_deaths  weekly_cases  weekly_deaths  biweekly_cases  \\\n",
       "0                NaN           NaN            NaN             NaN   \n",
       "1                NaN           NaN            NaN             NaN   \n",
       "2                NaN           NaN            NaN             NaN   \n",
       "3                NaN           NaN            NaN             NaN   \n",
       "4                NaN           NaN            NaN             NaN   \n",
       "...              ...           ...            ...             ...   \n",
       "204658        5593.0          76.0            1.0           160.0   \n",
       "204659        5593.0          80.0            1.0           147.0   \n",
       "204660        5596.0          98.0            4.0           161.0   \n",
       "204661        5596.0          63.0            3.0           159.0   \n",
       "204662        5596.0          62.0            3.0           148.0   \n",
       "\n",
       "        biweekly_deaths  \n",
       "0                   NaN  \n",
       "1                   NaN  \n",
       "2                   NaN  \n",
       "3                   NaN  \n",
       "4                   NaN  \n",
       "...                 ...  \n",
       "204658              5.0  \n",
       "204659              5.0  \n",
       "204660              8.0  \n",
       "204661              7.0  \n",
       "204662              7.0  \n",
       "\n",
       "[204663 rows x 10 columns]"
      ]
     },
     "execution_count": 2,
     "metadata": {},
     "output_type": "execute_result"
    }
   ],
   "source": [
    "df = pd.read_csv(\"full_data.csv\")\n",
    "df"
   ]
  },
  {
   "cell_type": "code",
   "execution_count": 3,
   "id": "bad03f95",
   "metadata": {},
   "outputs": [
    {
     "data": {
      "text/plain": [
       "(204663, 10)"
      ]
     },
     "execution_count": 3,
     "metadata": {},
     "output_type": "execute_result"
    }
   ],
   "source": [
    "df.shape"
   ]
  },
  {
   "cell_type": "code",
   "execution_count": 4,
   "id": "e7d7f1e5",
   "metadata": {},
   "outputs": [
    {
     "data": {
      "text/plain": [
       "RangeIndex(start=0, stop=204663, step=1)"
      ]
     },
     "execution_count": 4,
     "metadata": {},
     "output_type": "execute_result"
    }
   ],
   "source": [
    "df.index"
   ]
  },
  {
   "cell_type": "code",
   "execution_count": 5,
   "id": "23d6c4c9",
   "metadata": {},
   "outputs": [
    {
     "data": {
      "text/plain": [
       "Index(['date', 'location', 'new_cases', 'new_deaths', 'total_cases',\n",
       "       'total_deaths', 'weekly_cases', 'weekly_deaths', 'biweekly_cases',\n",
       "       'biweekly_deaths'],\n",
       "      dtype='object')"
      ]
     },
     "execution_count": 5,
     "metadata": {},
     "output_type": "execute_result"
    }
   ],
   "source": [
    "df.columns"
   ]
  },
  {
   "cell_type": "code",
   "execution_count": 6,
   "id": "9fe878f0",
   "metadata": {},
   "outputs": [
    {
     "data": {
      "text/plain": [
       "[RangeIndex(start=0, stop=204663, step=1),\n",
       " Index(['date', 'location', 'new_cases', 'new_deaths', 'total_cases',\n",
       "        'total_deaths', 'weekly_cases', 'weekly_deaths', 'biweekly_cases',\n",
       "        'biweekly_deaths'],\n",
       "       dtype='object')]"
      ]
     },
     "execution_count": 6,
     "metadata": {},
     "output_type": "execute_result"
    }
   ],
   "source": [
    "df.axes"
   ]
  },
  {
   "cell_type": "code",
   "execution_count": 7,
   "id": "9f7cb744",
   "metadata": {},
   "outputs": [
    {
     "name": "stdout",
     "output_type": "stream",
     "text": [
      "<class 'pandas.core.frame.DataFrame'>\n",
      "RangeIndex: 204663 entries, 0 to 204662\n",
      "Data columns (total 10 columns):\n",
      " #   Column           Non-Null Count   Dtype  \n",
      "---  ------           --------------   -----  \n",
      " 0   date             204663 non-null  object \n",
      " 1   location         204663 non-null  object \n",
      " 2   new_cases        204401 non-null  float64\n",
      " 3   new_deaths       185812 non-null  float64\n",
      " 4   total_cases      204654 non-null  float64\n",
      " 5   total_deaths     185854 non-null  float64\n",
      " 6   weekly_cases     203219 non-null  float64\n",
      " 7   weekly_deaths    184637 non-null  float64\n",
      " 8   biweekly_cases   201533 non-null  float64\n",
      " 9   biweekly_deaths  182924 non-null  float64\n",
      "dtypes: float64(8), object(2)\n",
      "memory usage: 15.6+ MB\n"
     ]
    }
   ],
   "source": [
    "df.info()"
   ]
  },
  {
   "cell_type": "code",
   "execution_count": 8,
   "id": "1317dfc2",
   "metadata": {},
   "outputs": [
    {
     "data": {
      "text/html": [
       "<div>\n",
       "<style scoped>\n",
       "    .dataframe tbody tr th:only-of-type {\n",
       "        vertical-align: middle;\n",
       "    }\n",
       "\n",
       "    .dataframe tbody tr th {\n",
       "        vertical-align: top;\n",
       "    }\n",
       "\n",
       "    .dataframe thead th {\n",
       "        text-align: right;\n",
       "    }\n",
       "</style>\n",
       "<table border=\"1\" class=\"dataframe\">\n",
       "  <thead>\n",
       "    <tr style=\"text-align: right;\">\n",
       "      <th></th>\n",
       "      <th>new_cases</th>\n",
       "      <th>new_deaths</th>\n",
       "      <th>total_cases</th>\n",
       "      <th>total_deaths</th>\n",
       "      <th>weekly_cases</th>\n",
       "      <th>weekly_deaths</th>\n",
       "      <th>biweekly_cases</th>\n",
       "      <th>biweekly_deaths</th>\n",
       "    </tr>\n",
       "  </thead>\n",
       "  <tbody>\n",
       "    <tr>\n",
       "      <th>count</th>\n",
       "      <td>2.044010e+05</td>\n",
       "      <td>185812.000000</td>\n",
       "      <td>2.046540e+05</td>\n",
       "      <td>1.858540e+05</td>\n",
       "      <td>2.032190e+05</td>\n",
       "      <td>184637.000000</td>\n",
       "      <td>2.015330e+05</td>\n",
       "      <td>182924.000000</td>\n",
       "    </tr>\n",
       "    <tr>\n",
       "      <th>mean</th>\n",
       "      <td>1.261084e+04</td>\n",
       "      <td>145.235055</td>\n",
       "      <td>4.038277e+06</td>\n",
       "      <td>7.110719e+04</td>\n",
       "      <td>8.847061e+04</td>\n",
       "      <td>1021.518666</td>\n",
       "      <td>1.777449e+05</td>\n",
       "      <td>2059.319258</td>\n",
       "    </tr>\n",
       "    <tr>\n",
       "      <th>std</th>\n",
       "      <td>8.692731e+04</td>\n",
       "      <td>751.060027</td>\n",
       "      <td>2.531640e+07</td>\n",
       "      <td>3.672879e+05</td>\n",
       "      <td>5.947982e+05</td>\n",
       "      <td>5155.021043</td>\n",
       "      <td>1.187579e+06</td>\n",
       "      <td>10336.781448</td>\n",
       "    </tr>\n",
       "    <tr>\n",
       "      <th>min</th>\n",
       "      <td>0.000000e+00</td>\n",
       "      <td>0.000000</td>\n",
       "      <td>1.000000e+00</td>\n",
       "      <td>1.000000e+00</td>\n",
       "      <td>0.000000e+00</td>\n",
       "      <td>0.000000</td>\n",
       "      <td>0.000000e+00</td>\n",
       "      <td>0.000000</td>\n",
       "    </tr>\n",
       "    <tr>\n",
       "      <th>25%</th>\n",
       "      <td>0.000000e+00</td>\n",
       "      <td>0.000000</td>\n",
       "      <td>3.748250e+03</td>\n",
       "      <td>1.062500e+02</td>\n",
       "      <td>4.700000e+01</td>\n",
       "      <td>1.000000</td>\n",
       "      <td>1.120000e+02</td>\n",
       "      <td>2.000000</td>\n",
       "    </tr>\n",
       "    <tr>\n",
       "      <th>50%</th>\n",
       "      <td>6.200000e+01</td>\n",
       "      <td>1.000000</td>\n",
       "      <td>4.442500e+04</td>\n",
       "      <td>1.083000e+03</td>\n",
       "      <td>7.000000e+02</td>\n",
       "      <td>12.000000</td>\n",
       "      <td>1.492000e+03</td>\n",
       "      <td>25.000000</td>\n",
       "    </tr>\n",
       "    <tr>\n",
       "      <th>75%</th>\n",
       "      <td>1.002000e+03</td>\n",
       "      <td>15.000000</td>\n",
       "      <td>4.745495e+05</td>\n",
       "      <td>9.293000e+03</td>\n",
       "      <td>8.109000e+03</td>\n",
       "      <td>118.000000</td>\n",
       "      <td>1.655100e+04</td>\n",
       "      <td>242.000000</td>\n",
       "    </tr>\n",
       "    <tr>\n",
       "      <th>max</th>\n",
       "      <td>4.081691e+06</td>\n",
       "      <td>17737.000000</td>\n",
       "      <td>6.036212e+08</td>\n",
       "      <td>6.496957e+06</td>\n",
       "      <td>2.405289e+07</td>\n",
       "      <td>104007.000000</td>\n",
       "      <td>4.658301e+07</td>\n",
       "      <td>203231.000000</td>\n",
       "    </tr>\n",
       "  </tbody>\n",
       "</table>\n",
       "</div>"
      ],
      "text/plain": [
       "          new_cases     new_deaths   total_cases  total_deaths  weekly_cases  \\\n",
       "count  2.044010e+05  185812.000000  2.046540e+05  1.858540e+05  2.032190e+05   \n",
       "mean   1.261084e+04     145.235055  4.038277e+06  7.110719e+04  8.847061e+04   \n",
       "std    8.692731e+04     751.060027  2.531640e+07  3.672879e+05  5.947982e+05   \n",
       "min    0.000000e+00       0.000000  1.000000e+00  1.000000e+00  0.000000e+00   \n",
       "25%    0.000000e+00       0.000000  3.748250e+03  1.062500e+02  4.700000e+01   \n",
       "50%    6.200000e+01       1.000000  4.442500e+04  1.083000e+03  7.000000e+02   \n",
       "75%    1.002000e+03      15.000000  4.745495e+05  9.293000e+03  8.109000e+03   \n",
       "max    4.081691e+06   17737.000000  6.036212e+08  6.496957e+06  2.405289e+07   \n",
       "\n",
       "       weekly_deaths  biweekly_cases  biweekly_deaths  \n",
       "count  184637.000000    2.015330e+05    182924.000000  \n",
       "mean     1021.518666    1.777449e+05      2059.319258  \n",
       "std      5155.021043    1.187579e+06     10336.781448  \n",
       "min         0.000000    0.000000e+00         0.000000  \n",
       "25%         1.000000    1.120000e+02         2.000000  \n",
       "50%        12.000000    1.492000e+03        25.000000  \n",
       "75%       118.000000    1.655100e+04       242.000000  \n",
       "max    104007.000000    4.658301e+07    203231.000000  "
      ]
     },
     "execution_count": 8,
     "metadata": {},
     "output_type": "execute_result"
    }
   ],
   "source": [
    "df.describe()"
   ]
  },
  {
   "cell_type": "code",
   "execution_count": 9,
   "id": "11a0df49",
   "metadata": {},
   "outputs": [],
   "source": [
    "df[\"date\"] = pd.to_datetime(df[\"date\"])"
   ]
  },
  {
   "cell_type": "code",
   "execution_count": 10,
   "id": "c84c45d7",
   "metadata": {},
   "outputs": [
    {
     "name": "stdout",
     "output_type": "stream",
     "text": [
      "<class 'pandas.core.frame.DataFrame'>\n",
      "RangeIndex: 204663 entries, 0 to 204662\n",
      "Data columns (total 10 columns):\n",
      " #   Column           Non-Null Count   Dtype         \n",
      "---  ------           --------------   -----         \n",
      " 0   date             204663 non-null  datetime64[ns]\n",
      " 1   location         204663 non-null  object        \n",
      " 2   new_cases        204401 non-null  float64       \n",
      " 3   new_deaths       185812 non-null  float64       \n",
      " 4   total_cases      204654 non-null  float64       \n",
      " 5   total_deaths     185854 non-null  float64       \n",
      " 6   weekly_cases     203219 non-null  float64       \n",
      " 7   weekly_deaths    184637 non-null  float64       \n",
      " 8   biweekly_cases   201533 non-null  float64       \n",
      " 9   biweekly_deaths  182924 non-null  float64       \n",
      "dtypes: datetime64[ns](1), float64(8), object(1)\n",
      "memory usage: 15.6+ MB\n"
     ]
    }
   ],
   "source": [
    "df.info()"
   ]
  },
  {
   "cell_type": "code",
   "execution_count": 11,
   "id": "ee29bdad",
   "metadata": {},
   "outputs": [
    {
     "data": {
      "text/plain": [
       "Timestamp('2020-02-24 00:00:00')"
      ]
     },
     "execution_count": 11,
     "metadata": {},
     "output_type": "execute_result"
    }
   ],
   "source": [
    "df.loc[0, \"date\"]"
   ]
  },
  {
   "cell_type": "code",
   "execution_count": 12,
   "id": "3b61026f",
   "metadata": {},
   "outputs": [
    {
     "data": {
      "text/plain": [
       "date               204663\n",
       "location           204663\n",
       "new_cases          204401\n",
       "new_deaths         185812\n",
       "total_cases        204654\n",
       "total_deaths       185854\n",
       "weekly_cases       203219\n",
       "weekly_deaths      184637\n",
       "biweekly_cases     201533\n",
       "biweekly_deaths    182924\n",
       "dtype: int64"
      ]
     },
     "execution_count": 12,
     "metadata": {},
     "output_type": "execute_result"
    }
   ],
   "source": [
    "df.count()"
   ]
  },
  {
   "cell_type": "code",
   "execution_count": 15,
   "id": "b727befc",
   "metadata": {},
   "outputs": [
    {
     "data": {
      "text/plain": [
       "array(['2020-02-24T00:00:00.000000000', '2020-02-25T00:00:00.000000000',\n",
       "       '2020-02-26T00:00:00.000000000', ...,\n",
       "       '2022-08-31T00:00:00.000000000', '2022-09-01T00:00:00.000000000',\n",
       "       '2022-09-02T00:00:00.000000000'], dtype='datetime64[ns]')"
      ]
     },
     "execution_count": 15,
     "metadata": {},
     "output_type": "execute_result"
    }
   ],
   "source": [
    "df[\"date\"].values"
   ]
  },
  {
   "cell_type": "code",
   "execution_count": 18,
   "id": "c22b0530",
   "metadata": {},
   "outputs": [
    {
     "data": {
      "text/plain": [
       "array(['Afghanistan', 'Afghanistan', 'Afghanistan', ..., 'Zimbabwe',\n",
       "       'Zimbabwe', 'Zimbabwe'], dtype=object)"
      ]
     },
     "execution_count": 18,
     "metadata": {},
     "output_type": "execute_result"
    }
   ],
   "source": [
    "df[\"location\"].values"
   ]
  },
  {
   "cell_type": "code",
   "execution_count": 19,
   "id": "a12eecb6",
   "metadata": {},
   "outputs": [
    {
     "data": {
      "text/plain": [
       "0         Afghanistan\n",
       "1         Afghanistan\n",
       "2         Afghanistan\n",
       "3         Afghanistan\n",
       "4         Afghanistan\n",
       "             ...     \n",
       "204658       Zimbabwe\n",
       "204659       Zimbabwe\n",
       "204660       Zimbabwe\n",
       "204661       Zimbabwe\n",
       "204662       Zimbabwe\n",
       "Name: location, Length: 204663, dtype: object"
      ]
     },
     "execution_count": 19,
     "metadata": {},
     "output_type": "execute_result"
    }
   ],
   "source": [
    "df[\"location\"]"
   ]
  },
  {
   "cell_type": "code",
   "execution_count": 21,
   "id": "e001039d",
   "metadata": {},
   "outputs": [
    {
     "data": {
      "text/plain": [
       "229"
      ]
     },
     "execution_count": 21,
     "metadata": {},
     "output_type": "execute_result"
    }
   ],
   "source": [
    "df[\"location\"].nunique()"
   ]
  },
  {
   "cell_type": "code",
   "execution_count": 22,
   "id": "716a0883",
   "metadata": {},
   "outputs": [
    {
     "data": {
      "text/plain": [
       "'Afghanistan'"
      ]
     },
     "execution_count": 22,
     "metadata": {},
     "output_type": "execute_result"
    }
   ],
   "source": [
    "df.loc[100, \"location\"]"
   ]
  },
  {
   "cell_type": "code",
   "execution_count": 23,
   "id": "ea3b3e38",
   "metadata": {},
   "outputs": [
    {
     "data": {
      "text/plain": [
       "'Afghanistan'"
      ]
     },
     "execution_count": 23,
     "metadata": {},
     "output_type": "execute_result"
    }
   ],
   "source": [
    "df.loc[250, \"location\"]"
   ]
  },
  {
   "cell_type": "markdown",
   "id": "18d096fa",
   "metadata": {},
   "source": [
    "#checking for duplicates and null values"
   ]
  },
  {
   "cell_type": "code",
   "execution_count": 24,
   "id": "5adb8d39",
   "metadata": {},
   "outputs": [
    {
     "data": {
      "text/plain": [
       "0         False\n",
       "1         False\n",
       "2         False\n",
       "3         False\n",
       "4         False\n",
       "          ...  \n",
       "204658    False\n",
       "204659    False\n",
       "204660    False\n",
       "204661    False\n",
       "204662    False\n",
       "Length: 204663, dtype: bool"
      ]
     },
     "execution_count": 24,
     "metadata": {},
     "output_type": "execute_result"
    }
   ],
   "source": [
    "df.duplicated()"
   ]
  },
  {
   "cell_type": "code",
   "execution_count": 25,
   "id": "9d733923",
   "metadata": {},
   "outputs": [
    {
     "data": {
      "text/plain": [
       "0         False\n",
       "1          True\n",
       "2          True\n",
       "3          True\n",
       "4          True\n",
       "          ...  \n",
       "204658     True\n",
       "204659     True\n",
       "204660     True\n",
       "204661     True\n",
       "204662     True\n",
       "Name: location, Length: 204663, dtype: bool"
      ]
     },
     "execution_count": 25,
     "metadata": {},
     "output_type": "execute_result"
    }
   ],
   "source": [
    "df[\"location\"].duplicated()"
   ]
  },
  {
   "cell_type": "code",
   "execution_count": 26,
   "id": "4f859a2b",
   "metadata": {},
   "outputs": [
    {
     "data": {
      "text/plain": [
       "0         False\n",
       "1          True\n",
       "2          True\n",
       "3          True\n",
       "4          True\n",
       "          ...  \n",
       "204658     True\n",
       "204659     True\n",
       "204660     True\n",
       "204661     True\n",
       "204662     True\n",
       "Name: new_deaths, Length: 204663, dtype: bool"
      ]
     },
     "execution_count": 26,
     "metadata": {},
     "output_type": "execute_result"
    }
   ],
   "source": [
    "df[\"new_deaths\"].duplicated()"
   ]
  },
  {
   "cell_type": "code",
   "execution_count": 27,
   "id": "7e4ee411",
   "metadata": {},
   "outputs": [
    {
     "data": {
      "text/html": [
       "<div>\n",
       "<style scoped>\n",
       "    .dataframe tbody tr th:only-of-type {\n",
       "        vertical-align: middle;\n",
       "    }\n",
       "\n",
       "    .dataframe tbody tr th {\n",
       "        vertical-align: top;\n",
       "    }\n",
       "\n",
       "    .dataframe thead th {\n",
       "        text-align: right;\n",
       "    }\n",
       "</style>\n",
       "<table border=\"1\" class=\"dataframe\">\n",
       "  <thead>\n",
       "    <tr style=\"text-align: right;\">\n",
       "      <th></th>\n",
       "      <th>date</th>\n",
       "      <th>location</th>\n",
       "      <th>new_cases</th>\n",
       "      <th>new_deaths</th>\n",
       "      <th>total_cases</th>\n",
       "      <th>total_deaths</th>\n",
       "      <th>weekly_cases</th>\n",
       "      <th>weekly_deaths</th>\n",
       "      <th>biweekly_cases</th>\n",
       "      <th>biweekly_deaths</th>\n",
       "    </tr>\n",
       "  </thead>\n",
       "  <tbody>\n",
       "    <tr>\n",
       "      <th>0</th>\n",
       "      <td>False</td>\n",
       "      <td>False</td>\n",
       "      <td>False</td>\n",
       "      <td>True</td>\n",
       "      <td>False</td>\n",
       "      <td>True</td>\n",
       "      <td>True</td>\n",
       "      <td>True</td>\n",
       "      <td>True</td>\n",
       "      <td>True</td>\n",
       "    </tr>\n",
       "    <tr>\n",
       "      <th>1</th>\n",
       "      <td>False</td>\n",
       "      <td>False</td>\n",
       "      <td>False</td>\n",
       "      <td>True</td>\n",
       "      <td>False</td>\n",
       "      <td>True</td>\n",
       "      <td>True</td>\n",
       "      <td>True</td>\n",
       "      <td>True</td>\n",
       "      <td>True</td>\n",
       "    </tr>\n",
       "    <tr>\n",
       "      <th>2</th>\n",
       "      <td>False</td>\n",
       "      <td>False</td>\n",
       "      <td>False</td>\n",
       "      <td>True</td>\n",
       "      <td>False</td>\n",
       "      <td>True</td>\n",
       "      <td>True</td>\n",
       "      <td>True</td>\n",
       "      <td>True</td>\n",
       "      <td>True</td>\n",
       "    </tr>\n",
       "    <tr>\n",
       "      <th>3</th>\n",
       "      <td>False</td>\n",
       "      <td>False</td>\n",
       "      <td>False</td>\n",
       "      <td>True</td>\n",
       "      <td>False</td>\n",
       "      <td>True</td>\n",
       "      <td>True</td>\n",
       "      <td>True</td>\n",
       "      <td>True</td>\n",
       "      <td>True</td>\n",
       "    </tr>\n",
       "    <tr>\n",
       "      <th>4</th>\n",
       "      <td>False</td>\n",
       "      <td>False</td>\n",
       "      <td>False</td>\n",
       "      <td>True</td>\n",
       "      <td>False</td>\n",
       "      <td>True</td>\n",
       "      <td>True</td>\n",
       "      <td>True</td>\n",
       "      <td>True</td>\n",
       "      <td>True</td>\n",
       "    </tr>\n",
       "    <tr>\n",
       "      <th>...</th>\n",
       "      <td>...</td>\n",
       "      <td>...</td>\n",
       "      <td>...</td>\n",
       "      <td>...</td>\n",
       "      <td>...</td>\n",
       "      <td>...</td>\n",
       "      <td>...</td>\n",
       "      <td>...</td>\n",
       "      <td>...</td>\n",
       "      <td>...</td>\n",
       "    </tr>\n",
       "    <tr>\n",
       "      <th>204658</th>\n",
       "      <td>False</td>\n",
       "      <td>False</td>\n",
       "      <td>False</td>\n",
       "      <td>False</td>\n",
       "      <td>False</td>\n",
       "      <td>False</td>\n",
       "      <td>False</td>\n",
       "      <td>False</td>\n",
       "      <td>False</td>\n",
       "      <td>False</td>\n",
       "    </tr>\n",
       "    <tr>\n",
       "      <th>204659</th>\n",
       "      <td>False</td>\n",
       "      <td>False</td>\n",
       "      <td>False</td>\n",
       "      <td>False</td>\n",
       "      <td>False</td>\n",
       "      <td>False</td>\n",
       "      <td>False</td>\n",
       "      <td>False</td>\n",
       "      <td>False</td>\n",
       "      <td>False</td>\n",
       "    </tr>\n",
       "    <tr>\n",
       "      <th>204660</th>\n",
       "      <td>False</td>\n",
       "      <td>False</td>\n",
       "      <td>False</td>\n",
       "      <td>False</td>\n",
       "      <td>False</td>\n",
       "      <td>False</td>\n",
       "      <td>False</td>\n",
       "      <td>False</td>\n",
       "      <td>False</td>\n",
       "      <td>False</td>\n",
       "    </tr>\n",
       "    <tr>\n",
       "      <th>204661</th>\n",
       "      <td>False</td>\n",
       "      <td>False</td>\n",
       "      <td>False</td>\n",
       "      <td>False</td>\n",
       "      <td>False</td>\n",
       "      <td>False</td>\n",
       "      <td>False</td>\n",
       "      <td>False</td>\n",
       "      <td>False</td>\n",
       "      <td>False</td>\n",
       "    </tr>\n",
       "    <tr>\n",
       "      <th>204662</th>\n",
       "      <td>False</td>\n",
       "      <td>False</td>\n",
       "      <td>False</td>\n",
       "      <td>False</td>\n",
       "      <td>False</td>\n",
       "      <td>False</td>\n",
       "      <td>False</td>\n",
       "      <td>False</td>\n",
       "      <td>False</td>\n",
       "      <td>False</td>\n",
       "    </tr>\n",
       "  </tbody>\n",
       "</table>\n",
       "<p>204663 rows × 10 columns</p>\n",
       "</div>"
      ],
      "text/plain": [
       "         date  location  new_cases  new_deaths  total_cases  total_deaths  \\\n",
       "0       False     False      False        True        False          True   \n",
       "1       False     False      False        True        False          True   \n",
       "2       False     False      False        True        False          True   \n",
       "3       False     False      False        True        False          True   \n",
       "4       False     False      False        True        False          True   \n",
       "...       ...       ...        ...         ...          ...           ...   \n",
       "204658  False     False      False       False        False         False   \n",
       "204659  False     False      False       False        False         False   \n",
       "204660  False     False      False       False        False         False   \n",
       "204661  False     False      False       False        False         False   \n",
       "204662  False     False      False       False        False         False   \n",
       "\n",
       "        weekly_cases  weekly_deaths  biweekly_cases  biweekly_deaths  \n",
       "0               True           True            True             True  \n",
       "1               True           True            True             True  \n",
       "2               True           True            True             True  \n",
       "3               True           True            True             True  \n",
       "4               True           True            True             True  \n",
       "...              ...            ...             ...              ...  \n",
       "204658         False          False           False            False  \n",
       "204659         False          False           False            False  \n",
       "204660         False          False           False            False  \n",
       "204661         False          False           False            False  \n",
       "204662         False          False           False            False  \n",
       "\n",
       "[204663 rows x 10 columns]"
      ]
     },
     "execution_count": 27,
     "metadata": {},
     "output_type": "execute_result"
    }
   ],
   "source": [
    "df.isnull()"
   ]
  },
  {
   "cell_type": "code",
   "execution_count": 29,
   "id": "6e40809b",
   "metadata": {},
   "outputs": [
    {
     "data": {
      "text/plain": [
       "0         False\n",
       "1         False\n",
       "2         False\n",
       "3         False\n",
       "4         False\n",
       "          ...  \n",
       "204658    False\n",
       "204659    False\n",
       "204660    False\n",
       "204661    False\n",
       "204662    False\n",
       "Name: total_cases, Length: 204663, dtype: bool"
      ]
     },
     "execution_count": 29,
     "metadata": {},
     "output_type": "execute_result"
    }
   ],
   "source": [
    "df[\"total_cases\"].isnull()"
   ]
  },
  {
   "cell_type": "code",
   "execution_count": 30,
   "id": "58cc8b6b",
   "metadata": {},
   "outputs": [
    {
     "data": {
      "text/plain": [
       "0          True\n",
       "1          True\n",
       "2          True\n",
       "3          True\n",
       "4          True\n",
       "          ...  \n",
       "204658    False\n",
       "204659    False\n",
       "204660    False\n",
       "204661    False\n",
       "204662    False\n",
       "Name: new_deaths, Length: 204663, dtype: bool"
      ]
     },
     "execution_count": 30,
     "metadata": {},
     "output_type": "execute_result"
    }
   ],
   "source": [
    "df[\"new_deaths\"].isnull()"
   ]
  },
  {
   "cell_type": "markdown",
   "id": "65bb181d",
   "metadata": {},
   "source": [
    "#dropping the null values"
   ]
  },
  {
   "cell_type": "code",
   "execution_count": 38,
   "id": "46a0dfd6",
   "metadata": {},
   "outputs": [],
   "source": [
    "df1 = df.dropna()"
   ]
  },
  {
   "cell_type": "code",
   "execution_count": 39,
   "id": "22e55318",
   "metadata": {},
   "outputs": [
    {
     "name": "stdout",
     "output_type": "stream",
     "text": [
      "<class 'pandas.core.frame.DataFrame'>\n",
      "Int64Index: 182533 entries, 40 to 204662\n",
      "Data columns (total 10 columns):\n",
      " #   Column           Non-Null Count   Dtype         \n",
      "---  ------           --------------   -----         \n",
      " 0   date             182533 non-null  datetime64[ns]\n",
      " 1   location         182533 non-null  object        \n",
      " 2   new_cases        182533 non-null  float64       \n",
      " 3   new_deaths       182533 non-null  float64       \n",
      " 4   total_cases      182533 non-null  float64       \n",
      " 5   total_deaths     182533 non-null  float64       \n",
      " 6   weekly_cases     182533 non-null  float64       \n",
      " 7   weekly_deaths    182533 non-null  float64       \n",
      " 8   biweekly_cases   182533 non-null  float64       \n",
      " 9   biweekly_deaths  182533 non-null  float64       \n",
      "dtypes: datetime64[ns](1), float64(8), object(1)\n",
      "memory usage: 15.3+ MB\n"
     ]
    }
   ],
   "source": [
    "df1.info()"
   ]
  },
  {
   "cell_type": "code",
   "execution_count": 40,
   "id": "e42359f9",
   "metadata": {},
   "outputs": [
    {
     "data": {
      "text/plain": [
       "(182533, 10)"
      ]
     },
     "execution_count": 40,
     "metadata": {},
     "output_type": "execute_result"
    }
   ],
   "source": [
    "df1.shape"
   ]
  },
  {
   "cell_type": "code",
   "execution_count": 41,
   "id": "5d4f1df1",
   "metadata": {},
   "outputs": [
    {
     "data": {
      "text/html": [
       "<div>\n",
       "<style scoped>\n",
       "    .dataframe tbody tr th:only-of-type {\n",
       "        vertical-align: middle;\n",
       "    }\n",
       "\n",
       "    .dataframe tbody tr th {\n",
       "        vertical-align: top;\n",
       "    }\n",
       "\n",
       "    .dataframe thead th {\n",
       "        text-align: right;\n",
       "    }\n",
       "</style>\n",
       "<table border=\"1\" class=\"dataframe\">\n",
       "  <thead>\n",
       "    <tr style=\"text-align: right;\">\n",
       "      <th></th>\n",
       "      <th>date</th>\n",
       "      <th>location</th>\n",
       "      <th>new_cases</th>\n",
       "      <th>new_deaths</th>\n",
       "      <th>total_cases</th>\n",
       "      <th>total_deaths</th>\n",
       "      <th>weekly_cases</th>\n",
       "      <th>weekly_deaths</th>\n",
       "      <th>biweekly_cases</th>\n",
       "      <th>biweekly_deaths</th>\n",
       "    </tr>\n",
       "  </thead>\n",
       "  <tbody>\n",
       "    <tr>\n",
       "      <th>40</th>\n",
       "      <td>False</td>\n",
       "      <td>False</td>\n",
       "      <td>False</td>\n",
       "      <td>False</td>\n",
       "      <td>False</td>\n",
       "      <td>False</td>\n",
       "      <td>False</td>\n",
       "      <td>False</td>\n",
       "      <td>False</td>\n",
       "      <td>False</td>\n",
       "    </tr>\n",
       "    <tr>\n",
       "      <th>41</th>\n",
       "      <td>False</td>\n",
       "      <td>False</td>\n",
       "      <td>False</td>\n",
       "      <td>False</td>\n",
       "      <td>False</td>\n",
       "      <td>False</td>\n",
       "      <td>False</td>\n",
       "      <td>False</td>\n",
       "      <td>False</td>\n",
       "      <td>False</td>\n",
       "    </tr>\n",
       "    <tr>\n",
       "      <th>42</th>\n",
       "      <td>False</td>\n",
       "      <td>False</td>\n",
       "      <td>False</td>\n",
       "      <td>False</td>\n",
       "      <td>False</td>\n",
       "      <td>False</td>\n",
       "      <td>False</td>\n",
       "      <td>False</td>\n",
       "      <td>False</td>\n",
       "      <td>False</td>\n",
       "    </tr>\n",
       "    <tr>\n",
       "      <th>43</th>\n",
       "      <td>False</td>\n",
       "      <td>False</td>\n",
       "      <td>False</td>\n",
       "      <td>False</td>\n",
       "      <td>False</td>\n",
       "      <td>False</td>\n",
       "      <td>False</td>\n",
       "      <td>False</td>\n",
       "      <td>False</td>\n",
       "      <td>False</td>\n",
       "    </tr>\n",
       "    <tr>\n",
       "      <th>44</th>\n",
       "      <td>False</td>\n",
       "      <td>False</td>\n",
       "      <td>False</td>\n",
       "      <td>False</td>\n",
       "      <td>False</td>\n",
       "      <td>False</td>\n",
       "      <td>False</td>\n",
       "      <td>False</td>\n",
       "      <td>False</td>\n",
       "      <td>False</td>\n",
       "    </tr>\n",
       "    <tr>\n",
       "      <th>...</th>\n",
       "      <td>...</td>\n",
       "      <td>...</td>\n",
       "      <td>...</td>\n",
       "      <td>...</td>\n",
       "      <td>...</td>\n",
       "      <td>...</td>\n",
       "      <td>...</td>\n",
       "      <td>...</td>\n",
       "      <td>...</td>\n",
       "      <td>...</td>\n",
       "    </tr>\n",
       "    <tr>\n",
       "      <th>204658</th>\n",
       "      <td>False</td>\n",
       "      <td>False</td>\n",
       "      <td>False</td>\n",
       "      <td>False</td>\n",
       "      <td>False</td>\n",
       "      <td>False</td>\n",
       "      <td>False</td>\n",
       "      <td>False</td>\n",
       "      <td>False</td>\n",
       "      <td>False</td>\n",
       "    </tr>\n",
       "    <tr>\n",
       "      <th>204659</th>\n",
       "      <td>False</td>\n",
       "      <td>False</td>\n",
       "      <td>False</td>\n",
       "      <td>False</td>\n",
       "      <td>False</td>\n",
       "      <td>False</td>\n",
       "      <td>False</td>\n",
       "      <td>False</td>\n",
       "      <td>False</td>\n",
       "      <td>False</td>\n",
       "    </tr>\n",
       "    <tr>\n",
       "      <th>204660</th>\n",
       "      <td>False</td>\n",
       "      <td>False</td>\n",
       "      <td>False</td>\n",
       "      <td>False</td>\n",
       "      <td>False</td>\n",
       "      <td>False</td>\n",
       "      <td>False</td>\n",
       "      <td>False</td>\n",
       "      <td>False</td>\n",
       "      <td>False</td>\n",
       "    </tr>\n",
       "    <tr>\n",
       "      <th>204661</th>\n",
       "      <td>False</td>\n",
       "      <td>False</td>\n",
       "      <td>False</td>\n",
       "      <td>False</td>\n",
       "      <td>False</td>\n",
       "      <td>False</td>\n",
       "      <td>False</td>\n",
       "      <td>False</td>\n",
       "      <td>False</td>\n",
       "      <td>False</td>\n",
       "    </tr>\n",
       "    <tr>\n",
       "      <th>204662</th>\n",
       "      <td>False</td>\n",
       "      <td>False</td>\n",
       "      <td>False</td>\n",
       "      <td>False</td>\n",
       "      <td>False</td>\n",
       "      <td>False</td>\n",
       "      <td>False</td>\n",
       "      <td>False</td>\n",
       "      <td>False</td>\n",
       "      <td>False</td>\n",
       "    </tr>\n",
       "  </tbody>\n",
       "</table>\n",
       "<p>182533 rows × 10 columns</p>\n",
       "</div>"
      ],
      "text/plain": [
       "         date  location  new_cases  new_deaths  total_cases  total_deaths  \\\n",
       "40      False     False      False       False        False         False   \n",
       "41      False     False      False       False        False         False   \n",
       "42      False     False      False       False        False         False   \n",
       "43      False     False      False       False        False         False   \n",
       "44      False     False      False       False        False         False   \n",
       "...       ...       ...        ...         ...          ...           ...   \n",
       "204658  False     False      False       False        False         False   \n",
       "204659  False     False      False       False        False         False   \n",
       "204660  False     False      False       False        False         False   \n",
       "204661  False     False      False       False        False         False   \n",
       "204662  False     False      False       False        False         False   \n",
       "\n",
       "        weekly_cases  weekly_deaths  biweekly_cases  biweekly_deaths  \n",
       "40             False          False           False            False  \n",
       "41             False          False           False            False  \n",
       "42             False          False           False            False  \n",
       "43             False          False           False            False  \n",
       "44             False          False           False            False  \n",
       "...              ...            ...             ...              ...  \n",
       "204658         False          False           False            False  \n",
       "204659         False          False           False            False  \n",
       "204660         False          False           False            False  \n",
       "204661         False          False           False            False  \n",
       "204662         False          False           False            False  \n",
       "\n",
       "[182533 rows x 10 columns]"
      ]
     },
     "execution_count": 41,
     "metadata": {},
     "output_type": "execute_result"
    }
   ],
   "source": [
    "df1.isnull()"
   ]
  },
  {
   "cell_type": "code",
   "execution_count": 42,
   "id": "7ba46dc2",
   "metadata": {},
   "outputs": [
    {
     "data": {
      "text/html": [
       "<div>\n",
       "<style scoped>\n",
       "    .dataframe tbody tr th:only-of-type {\n",
       "        vertical-align: middle;\n",
       "    }\n",
       "\n",
       "    .dataframe tbody tr th {\n",
       "        vertical-align: top;\n",
       "    }\n",
       "\n",
       "    .dataframe thead th {\n",
       "        text-align: right;\n",
       "    }\n",
       "</style>\n",
       "<table border=\"1\" class=\"dataframe\">\n",
       "  <thead>\n",
       "    <tr style=\"text-align: right;\">\n",
       "      <th></th>\n",
       "      <th>date</th>\n",
       "      <th>location</th>\n",
       "      <th>new_cases</th>\n",
       "      <th>new_deaths</th>\n",
       "      <th>total_cases</th>\n",
       "      <th>total_deaths</th>\n",
       "      <th>weekly_cases</th>\n",
       "      <th>weekly_deaths</th>\n",
       "      <th>biweekly_cases</th>\n",
       "      <th>biweekly_deaths</th>\n",
       "    </tr>\n",
       "  </thead>\n",
       "  <tbody>\n",
       "    <tr>\n",
       "      <th>40</th>\n",
       "      <td>2020-04-04</td>\n",
       "      <td>Afghanistan</td>\n",
       "      <td>1.0</td>\n",
       "      <td>0.0</td>\n",
       "      <td>270.0</td>\n",
       "      <td>5.0</td>\n",
       "      <td>164.0</td>\n",
       "      <td>3.0</td>\n",
       "      <td>246.0</td>\n",
       "      <td>5.0</td>\n",
       "    </tr>\n",
       "    <tr>\n",
       "      <th>41</th>\n",
       "      <td>2020-04-05</td>\n",
       "      <td>Afghanistan</td>\n",
       "      <td>29.0</td>\n",
       "      <td>2.0</td>\n",
       "      <td>299.0</td>\n",
       "      <td>7.0</td>\n",
       "      <td>185.0</td>\n",
       "      <td>3.0</td>\n",
       "      <td>265.0</td>\n",
       "      <td>7.0</td>\n",
       "    </tr>\n",
       "    <tr>\n",
       "      <th>42</th>\n",
       "      <td>2020-04-06</td>\n",
       "      <td>Afghanistan</td>\n",
       "      <td>38.0</td>\n",
       "      <td>0.0</td>\n",
       "      <td>337.0</td>\n",
       "      <td>7.0</td>\n",
       "      <td>223.0</td>\n",
       "      <td>3.0</td>\n",
       "      <td>297.0</td>\n",
       "      <td>6.0</td>\n",
       "    </tr>\n",
       "    <tr>\n",
       "      <th>43</th>\n",
       "      <td>2020-04-07</td>\n",
       "      <td>Afghanistan</td>\n",
       "      <td>30.0</td>\n",
       "      <td>4.0</td>\n",
       "      <td>367.0</td>\n",
       "      <td>11.0</td>\n",
       "      <td>201.0</td>\n",
       "      <td>7.0</td>\n",
       "      <td>325.0</td>\n",
       "      <td>10.0</td>\n",
       "    </tr>\n",
       "    <tr>\n",
       "      <th>44</th>\n",
       "      <td>2020-04-08</td>\n",
       "      <td>Afghanistan</td>\n",
       "      <td>56.0</td>\n",
       "      <td>3.0</td>\n",
       "      <td>423.0</td>\n",
       "      <td>14.0</td>\n",
       "      <td>231.0</td>\n",
       "      <td>10.0</td>\n",
       "      <td>349.0</td>\n",
       "      <td>13.0</td>\n",
       "    </tr>\n",
       "  </tbody>\n",
       "</table>\n",
       "</div>"
      ],
      "text/plain": [
       "         date     location  new_cases  new_deaths  total_cases  total_deaths  \\\n",
       "40 2020-04-04  Afghanistan        1.0         0.0        270.0           5.0   \n",
       "41 2020-04-05  Afghanistan       29.0         2.0        299.0           7.0   \n",
       "42 2020-04-06  Afghanistan       38.0         0.0        337.0           7.0   \n",
       "43 2020-04-07  Afghanistan       30.0         4.0        367.0          11.0   \n",
       "44 2020-04-08  Afghanistan       56.0         3.0        423.0          14.0   \n",
       "\n",
       "    weekly_cases  weekly_deaths  biweekly_cases  biweekly_deaths  \n",
       "40         164.0            3.0           246.0              5.0  \n",
       "41         185.0            3.0           265.0              7.0  \n",
       "42         223.0            3.0           297.0              6.0  \n",
       "43         201.0            7.0           325.0             10.0  \n",
       "44         231.0           10.0           349.0             13.0  "
      ]
     },
     "execution_count": 42,
     "metadata": {},
     "output_type": "execute_result"
    }
   ],
   "source": [
    "df1.head(5)"
   ]
  },
  {
   "cell_type": "code",
   "execution_count": 43,
   "id": "a49804a4",
   "metadata": {},
   "outputs": [
    {
     "data": {
      "text/html": [
       "<div>\n",
       "<style scoped>\n",
       "    .dataframe tbody tr th:only-of-type {\n",
       "        vertical-align: middle;\n",
       "    }\n",
       "\n",
       "    .dataframe tbody tr th {\n",
       "        vertical-align: top;\n",
       "    }\n",
       "\n",
       "    .dataframe thead th {\n",
       "        text-align: right;\n",
       "    }\n",
       "</style>\n",
       "<table border=\"1\" class=\"dataframe\">\n",
       "  <thead>\n",
       "    <tr style=\"text-align: right;\">\n",
       "      <th></th>\n",
       "      <th>date</th>\n",
       "      <th>location</th>\n",
       "      <th>new_cases</th>\n",
       "      <th>new_deaths</th>\n",
       "      <th>total_cases</th>\n",
       "      <th>total_deaths</th>\n",
       "      <th>weekly_cases</th>\n",
       "      <th>weekly_deaths</th>\n",
       "      <th>biweekly_cases</th>\n",
       "      <th>biweekly_deaths</th>\n",
       "    </tr>\n",
       "  </thead>\n",
       "  <tbody>\n",
       "    <tr>\n",
       "      <th>204658</th>\n",
       "      <td>2022-08-29</td>\n",
       "      <td>Zimbabwe</td>\n",
       "      <td>5.0</td>\n",
       "      <td>0.0</td>\n",
       "      <td>256704.0</td>\n",
       "      <td>5593.0</td>\n",
       "      <td>76.0</td>\n",
       "      <td>1.0</td>\n",
       "      <td>160.0</td>\n",
       "      <td>5.0</td>\n",
       "    </tr>\n",
       "    <tr>\n",
       "      <th>204659</th>\n",
       "      <td>2022-08-30</td>\n",
       "      <td>Zimbabwe</td>\n",
       "      <td>4.0</td>\n",
       "      <td>0.0</td>\n",
       "      <td>256708.0</td>\n",
       "      <td>5593.0</td>\n",
       "      <td>80.0</td>\n",
       "      <td>1.0</td>\n",
       "      <td>147.0</td>\n",
       "      <td>5.0</td>\n",
       "    </tr>\n",
       "    <tr>\n",
       "      <th>204660</th>\n",
       "      <td>2022-08-31</td>\n",
       "      <td>Zimbabwe</td>\n",
       "      <td>18.0</td>\n",
       "      <td>3.0</td>\n",
       "      <td>256726.0</td>\n",
       "      <td>5596.0</td>\n",
       "      <td>98.0</td>\n",
       "      <td>4.0</td>\n",
       "      <td>161.0</td>\n",
       "      <td>8.0</td>\n",
       "    </tr>\n",
       "    <tr>\n",
       "      <th>204661</th>\n",
       "      <td>2022-09-01</td>\n",
       "      <td>Zimbabwe</td>\n",
       "      <td>12.0</td>\n",
       "      <td>0.0</td>\n",
       "      <td>256738.0</td>\n",
       "      <td>5596.0</td>\n",
       "      <td>63.0</td>\n",
       "      <td>3.0</td>\n",
       "      <td>159.0</td>\n",
       "      <td>7.0</td>\n",
       "    </tr>\n",
       "    <tr>\n",
       "      <th>204662</th>\n",
       "      <td>2022-09-02</td>\n",
       "      <td>Zimbabwe</td>\n",
       "      <td>6.0</td>\n",
       "      <td>0.0</td>\n",
       "      <td>256744.0</td>\n",
       "      <td>5596.0</td>\n",
       "      <td>62.0</td>\n",
       "      <td>3.0</td>\n",
       "      <td>148.0</td>\n",
       "      <td>7.0</td>\n",
       "    </tr>\n",
       "  </tbody>\n",
       "</table>\n",
       "</div>"
      ],
      "text/plain": [
       "             date  location  new_cases  new_deaths  total_cases  total_deaths  \\\n",
       "204658 2022-08-29  Zimbabwe        5.0         0.0     256704.0        5593.0   \n",
       "204659 2022-08-30  Zimbabwe        4.0         0.0     256708.0        5593.0   \n",
       "204660 2022-08-31  Zimbabwe       18.0         3.0     256726.0        5596.0   \n",
       "204661 2022-09-01  Zimbabwe       12.0         0.0     256738.0        5596.0   \n",
       "204662 2022-09-02  Zimbabwe        6.0         0.0     256744.0        5596.0   \n",
       "\n",
       "        weekly_cases  weekly_deaths  biweekly_cases  biweekly_deaths  \n",
       "204658          76.0            1.0           160.0              5.0  \n",
       "204659          80.0            1.0           147.0              5.0  \n",
       "204660          98.0            4.0           161.0              8.0  \n",
       "204661          63.0            3.0           159.0              7.0  \n",
       "204662          62.0            3.0           148.0              7.0  "
      ]
     },
     "execution_count": 43,
     "metadata": {},
     "output_type": "execute_result"
    }
   ],
   "source": [
    "df1.tail(5)"
   ]
  },
  {
   "cell_type": "code",
   "execution_count": 44,
   "id": "9d82fdc4",
   "metadata": {},
   "outputs": [
    {
     "data": {
      "text/plain": [
       "(182533, 10)"
      ]
     },
     "execution_count": 44,
     "metadata": {},
     "output_type": "execute_result"
    }
   ],
   "source": [
    "df1.shape"
   ]
  },
  {
   "cell_type": "code",
   "execution_count": 45,
   "id": "fdfddab5",
   "metadata": {},
   "outputs": [
    {
     "data": {
      "text/plain": [
       "Int64Index([    40,     41,     42,     43,     44,     45,     46,     47,\n",
       "                48,     49,\n",
       "            ...\n",
       "            204653, 204654, 204655, 204656, 204657, 204658, 204659, 204660,\n",
       "            204661, 204662],\n",
       "           dtype='int64', length=182533)"
      ]
     },
     "execution_count": 45,
     "metadata": {},
     "output_type": "execute_result"
    }
   ],
   "source": [
    "df1.index"
   ]
  },
  {
   "cell_type": "code",
   "execution_count": 47,
   "id": "70d2386d",
   "metadata": {},
   "outputs": [
    {
     "data": {
      "text/plain": [
       "40        False\n",
       "41        False\n",
       "42        False\n",
       "43        False\n",
       "44        False\n",
       "          ...  \n",
       "204658    False\n",
       "204659    False\n",
       "204660    False\n",
       "204661    False\n",
       "204662    False\n",
       "Length: 182533, dtype: bool"
      ]
     },
     "execution_count": 47,
     "metadata": {},
     "output_type": "execute_result"
    }
   ],
   "source": [
    "df1.duplicated()\n"
   ]
  },
  {
   "cell_type": "code",
   "execution_count": 48,
   "id": "b83a39b8",
   "metadata": {},
   "outputs": [
    {
     "data": {
      "text/html": [
       "<div>\n",
       "<style scoped>\n",
       "    .dataframe tbody tr th:only-of-type {\n",
       "        vertical-align: middle;\n",
       "    }\n",
       "\n",
       "    .dataframe tbody tr th {\n",
       "        vertical-align: top;\n",
       "    }\n",
       "\n",
       "    .dataframe thead th {\n",
       "        text-align: right;\n",
       "    }\n",
       "</style>\n",
       "<table border=\"1\" class=\"dataframe\">\n",
       "  <thead>\n",
       "    <tr style=\"text-align: right;\">\n",
       "      <th></th>\n",
       "      <th>date</th>\n",
       "      <th>location</th>\n",
       "      <th>new_cases</th>\n",
       "      <th>new_deaths</th>\n",
       "      <th>total_cases</th>\n",
       "      <th>total_deaths</th>\n",
       "      <th>weekly_cases</th>\n",
       "      <th>weekly_deaths</th>\n",
       "      <th>biweekly_cases</th>\n",
       "      <th>biweekly_deaths</th>\n",
       "    </tr>\n",
       "  </thead>\n",
       "  <tbody>\n",
       "    <tr>\n",
       "      <th>40</th>\n",
       "      <td>2020-04-04</td>\n",
       "      <td>Afghanistan</td>\n",
       "      <td>1.0</td>\n",
       "      <td>0.0</td>\n",
       "      <td>270.0</td>\n",
       "      <td>5.0</td>\n",
       "      <td>164.0</td>\n",
       "      <td>3.0</td>\n",
       "      <td>246.0</td>\n",
       "      <td>5.0</td>\n",
       "    </tr>\n",
       "    <tr>\n",
       "      <th>41</th>\n",
       "      <td>2020-04-05</td>\n",
       "      <td>Afghanistan</td>\n",
       "      <td>29.0</td>\n",
       "      <td>2.0</td>\n",
       "      <td>299.0</td>\n",
       "      <td>7.0</td>\n",
       "      <td>185.0</td>\n",
       "      <td>3.0</td>\n",
       "      <td>265.0</td>\n",
       "      <td>7.0</td>\n",
       "    </tr>\n",
       "    <tr>\n",
       "      <th>42</th>\n",
       "      <td>2020-04-06</td>\n",
       "      <td>Afghanistan</td>\n",
       "      <td>38.0</td>\n",
       "      <td>0.0</td>\n",
       "      <td>337.0</td>\n",
       "      <td>7.0</td>\n",
       "      <td>223.0</td>\n",
       "      <td>3.0</td>\n",
       "      <td>297.0</td>\n",
       "      <td>6.0</td>\n",
       "    </tr>\n",
       "    <tr>\n",
       "      <th>43</th>\n",
       "      <td>2020-04-07</td>\n",
       "      <td>Afghanistan</td>\n",
       "      <td>30.0</td>\n",
       "      <td>4.0</td>\n",
       "      <td>367.0</td>\n",
       "      <td>11.0</td>\n",
       "      <td>201.0</td>\n",
       "      <td>7.0</td>\n",
       "      <td>325.0</td>\n",
       "      <td>10.0</td>\n",
       "    </tr>\n",
       "    <tr>\n",
       "      <th>44</th>\n",
       "      <td>2020-04-08</td>\n",
       "      <td>Afghanistan</td>\n",
       "      <td>56.0</td>\n",
       "      <td>3.0</td>\n",
       "      <td>423.0</td>\n",
       "      <td>14.0</td>\n",
       "      <td>231.0</td>\n",
       "      <td>10.0</td>\n",
       "      <td>349.0</td>\n",
       "      <td>13.0</td>\n",
       "    </tr>\n",
       "    <tr>\n",
       "      <th>...</th>\n",
       "      <td>...</td>\n",
       "      <td>...</td>\n",
       "      <td>...</td>\n",
       "      <td>...</td>\n",
       "      <td>...</td>\n",
       "      <td>...</td>\n",
       "      <td>...</td>\n",
       "      <td>...</td>\n",
       "      <td>...</td>\n",
       "      <td>...</td>\n",
       "    </tr>\n",
       "    <tr>\n",
       "      <th>204658</th>\n",
       "      <td>2022-08-29</td>\n",
       "      <td>Zimbabwe</td>\n",
       "      <td>5.0</td>\n",
       "      <td>0.0</td>\n",
       "      <td>256704.0</td>\n",
       "      <td>5593.0</td>\n",
       "      <td>76.0</td>\n",
       "      <td>1.0</td>\n",
       "      <td>160.0</td>\n",
       "      <td>5.0</td>\n",
       "    </tr>\n",
       "    <tr>\n",
       "      <th>204659</th>\n",
       "      <td>2022-08-30</td>\n",
       "      <td>Zimbabwe</td>\n",
       "      <td>4.0</td>\n",
       "      <td>0.0</td>\n",
       "      <td>256708.0</td>\n",
       "      <td>5593.0</td>\n",
       "      <td>80.0</td>\n",
       "      <td>1.0</td>\n",
       "      <td>147.0</td>\n",
       "      <td>5.0</td>\n",
       "    </tr>\n",
       "    <tr>\n",
       "      <th>204660</th>\n",
       "      <td>2022-08-31</td>\n",
       "      <td>Zimbabwe</td>\n",
       "      <td>18.0</td>\n",
       "      <td>3.0</td>\n",
       "      <td>256726.0</td>\n",
       "      <td>5596.0</td>\n",
       "      <td>98.0</td>\n",
       "      <td>4.0</td>\n",
       "      <td>161.0</td>\n",
       "      <td>8.0</td>\n",
       "    </tr>\n",
       "    <tr>\n",
       "      <th>204661</th>\n",
       "      <td>2022-09-01</td>\n",
       "      <td>Zimbabwe</td>\n",
       "      <td>12.0</td>\n",
       "      <td>0.0</td>\n",
       "      <td>256738.0</td>\n",
       "      <td>5596.0</td>\n",
       "      <td>63.0</td>\n",
       "      <td>3.0</td>\n",
       "      <td>159.0</td>\n",
       "      <td>7.0</td>\n",
       "    </tr>\n",
       "    <tr>\n",
       "      <th>204662</th>\n",
       "      <td>2022-09-02</td>\n",
       "      <td>Zimbabwe</td>\n",
       "      <td>6.0</td>\n",
       "      <td>0.0</td>\n",
       "      <td>256744.0</td>\n",
       "      <td>5596.0</td>\n",
       "      <td>62.0</td>\n",
       "      <td>3.0</td>\n",
       "      <td>148.0</td>\n",
       "      <td>7.0</td>\n",
       "    </tr>\n",
       "  </tbody>\n",
       "</table>\n",
       "<p>182533 rows × 10 columns</p>\n",
       "</div>"
      ],
      "text/plain": [
       "             date     location  new_cases  new_deaths  total_cases  \\\n",
       "40     2020-04-04  Afghanistan        1.0         0.0        270.0   \n",
       "41     2020-04-05  Afghanistan       29.0         2.0        299.0   \n",
       "42     2020-04-06  Afghanistan       38.0         0.0        337.0   \n",
       "43     2020-04-07  Afghanistan       30.0         4.0        367.0   \n",
       "44     2020-04-08  Afghanistan       56.0         3.0        423.0   \n",
       "...           ...          ...        ...         ...          ...   \n",
       "204658 2022-08-29     Zimbabwe        5.0         0.0     256704.0   \n",
       "204659 2022-08-30     Zimbabwe        4.0         0.0     256708.0   \n",
       "204660 2022-08-31     Zimbabwe       18.0         3.0     256726.0   \n",
       "204661 2022-09-01     Zimbabwe       12.0         0.0     256738.0   \n",
       "204662 2022-09-02     Zimbabwe        6.0         0.0     256744.0   \n",
       "\n",
       "        total_deaths  weekly_cases  weekly_deaths  biweekly_cases  \\\n",
       "40               5.0         164.0            3.0           246.0   \n",
       "41               7.0         185.0            3.0           265.0   \n",
       "42               7.0         223.0            3.0           297.0   \n",
       "43              11.0         201.0            7.0           325.0   \n",
       "44              14.0         231.0           10.0           349.0   \n",
       "...              ...           ...            ...             ...   \n",
       "204658        5593.0          76.0            1.0           160.0   \n",
       "204659        5593.0          80.0            1.0           147.0   \n",
       "204660        5596.0          98.0            4.0           161.0   \n",
       "204661        5596.0          63.0            3.0           159.0   \n",
       "204662        5596.0          62.0            3.0           148.0   \n",
       "\n",
       "        biweekly_deaths  \n",
       "40                  5.0  \n",
       "41                  7.0  \n",
       "42                  6.0  \n",
       "43                 10.0  \n",
       "44                 13.0  \n",
       "...                 ...  \n",
       "204658              5.0  \n",
       "204659              5.0  \n",
       "204660              8.0  \n",
       "204661              7.0  \n",
       "204662              7.0  \n",
       "\n",
       "[182533 rows x 10 columns]"
      ]
     },
     "execution_count": 48,
     "metadata": {},
     "output_type": "execute_result"
    }
   ],
   "source": [
    "df1"
   ]
  },
  {
   "cell_type": "markdown",
   "id": "5a920225",
   "metadata": {},
   "source": [
    "#statistics"
   ]
  },
  {
   "cell_type": "code",
   "execution_count": 58,
   "id": "a854ed3a",
   "metadata": {},
   "outputs": [
    {
     "data": {
      "text/html": [
       "<div>\n",
       "<style scoped>\n",
       "    .dataframe tbody tr th:only-of-type {\n",
       "        vertical-align: middle;\n",
       "    }\n",
       "\n",
       "    .dataframe tbody tr th {\n",
       "        vertical-align: top;\n",
       "    }\n",
       "\n",
       "    .dataframe thead th {\n",
       "        text-align: right;\n",
       "    }\n",
       "</style>\n",
       "<table border=\"1\" class=\"dataframe\">\n",
       "  <thead>\n",
       "    <tr style=\"text-align: right;\">\n",
       "      <th></th>\n",
       "      <th>new_cases</th>\n",
       "      <th>new_deaths</th>\n",
       "      <th>total_cases</th>\n",
       "      <th>total_deaths</th>\n",
       "      <th>weekly_cases</th>\n",
       "      <th>weekly_deaths</th>\n",
       "      <th>biweekly_cases</th>\n",
       "      <th>biweekly_deaths</th>\n",
       "    </tr>\n",
       "  </thead>\n",
       "  <tbody>\n",
       "    <tr>\n",
       "      <th>count</th>\n",
       "      <td>1.825330e+05</td>\n",
       "      <td>182533.000000</td>\n",
       "      <td>1.825330e+05</td>\n",
       "      <td>1.825330e+05</td>\n",
       "      <td>1.825330e+05</td>\n",
       "      <td>182533.000000</td>\n",
       "      <td>1.825330e+05</td>\n",
       "      <td>182533.000000</td>\n",
       "    </tr>\n",
       "    <tr>\n",
       "      <th>mean</th>\n",
       "      <td>1.410664e+04</td>\n",
       "      <td>147.693869</td>\n",
       "      <td>4.518790e+06</td>\n",
       "      <td>7.226736e+04</td>\n",
       "      <td>9.840972e+04</td>\n",
       "      <td>1032.330450</td>\n",
       "      <td>1.960916e+05</td>\n",
       "      <td>2062.201974</td>\n",
       "    </tr>\n",
       "    <tr>\n",
       "      <th>std</th>\n",
       "      <td>9.186939e+04</td>\n",
       "      <td>757.497087</td>\n",
       "      <td>2.676259e+07</td>\n",
       "      <td>3.704483e+05</td>\n",
       "      <td>6.268074e+05</td>\n",
       "      <td>5183.326851</td>\n",
       "      <td>1.246393e+06</td>\n",
       "      <td>10347.126296</td>\n",
       "    </tr>\n",
       "    <tr>\n",
       "      <th>min</th>\n",
       "      <td>0.000000e+00</td>\n",
       "      <td>0.000000</td>\n",
       "      <td>1.000000e+00</td>\n",
       "      <td>1.000000e+00</td>\n",
       "      <td>0.000000e+00</td>\n",
       "      <td>0.000000</td>\n",
       "      <td>0.000000e+00</td>\n",
       "      <td>0.000000</td>\n",
       "    </tr>\n",
       "    <tr>\n",
       "      <th>25%</th>\n",
       "      <td>2.000000e+00</td>\n",
       "      <td>0.000000</td>\n",
       "      <td>8.686000e+03</td>\n",
       "      <td>1.160000e+02</td>\n",
       "      <td>1.060000e+02</td>\n",
       "      <td>1.000000</td>\n",
       "      <td>2.300000e+02</td>\n",
       "      <td>2.000000</td>\n",
       "    </tr>\n",
       "    <tr>\n",
       "      <th>50%</th>\n",
       "      <td>1.120000e+02</td>\n",
       "      <td>1.000000</td>\n",
       "      <td>7.441200e+04</td>\n",
       "      <td>1.159000e+03</td>\n",
       "      <td>1.139000e+03</td>\n",
       "      <td>12.000000</td>\n",
       "      <td>2.315000e+03</td>\n",
       "      <td>25.000000</td>\n",
       "    </tr>\n",
       "    <tr>\n",
       "      <th>75%</th>\n",
       "      <td>1.329000e+03</td>\n",
       "      <td>16.000000</td>\n",
       "      <td>6.131440e+05</td>\n",
       "      <td>9.533000e+03</td>\n",
       "      <td>1.026800e+04</td>\n",
       "      <td>120.000000</td>\n",
       "      <td>2.054600e+04</td>\n",
       "      <td>242.000000</td>\n",
       "    </tr>\n",
       "    <tr>\n",
       "      <th>max</th>\n",
       "      <td>4.081691e+06</td>\n",
       "      <td>17737.000000</td>\n",
       "      <td>6.036212e+08</td>\n",
       "      <td>6.496957e+06</td>\n",
       "      <td>2.405289e+07</td>\n",
       "      <td>104007.000000</td>\n",
       "      <td>4.658301e+07</td>\n",
       "      <td>203231.000000</td>\n",
       "    </tr>\n",
       "  </tbody>\n",
       "</table>\n",
       "</div>"
      ],
      "text/plain": [
       "          new_cases     new_deaths   total_cases  total_deaths  weekly_cases  \\\n",
       "count  1.825330e+05  182533.000000  1.825330e+05  1.825330e+05  1.825330e+05   \n",
       "mean   1.410664e+04     147.693869  4.518790e+06  7.226736e+04  9.840972e+04   \n",
       "std    9.186939e+04     757.497087  2.676259e+07  3.704483e+05  6.268074e+05   \n",
       "min    0.000000e+00       0.000000  1.000000e+00  1.000000e+00  0.000000e+00   \n",
       "25%    2.000000e+00       0.000000  8.686000e+03  1.160000e+02  1.060000e+02   \n",
       "50%    1.120000e+02       1.000000  7.441200e+04  1.159000e+03  1.139000e+03   \n",
       "75%    1.329000e+03      16.000000  6.131440e+05  9.533000e+03  1.026800e+04   \n",
       "max    4.081691e+06   17737.000000  6.036212e+08  6.496957e+06  2.405289e+07   \n",
       "\n",
       "       weekly_deaths  biweekly_cases  biweekly_deaths  \n",
       "count  182533.000000    1.825330e+05    182533.000000  \n",
       "mean     1032.330450    1.960916e+05      2062.201974  \n",
       "std      5183.326851    1.246393e+06     10347.126296  \n",
       "min         0.000000    0.000000e+00         0.000000  \n",
       "25%         1.000000    2.300000e+02         2.000000  \n",
       "50%        12.000000    2.315000e+03        25.000000  \n",
       "75%       120.000000    2.054600e+04       242.000000  \n",
       "max    104007.000000    4.658301e+07    203231.000000  "
      ]
     },
     "execution_count": 58,
     "metadata": {},
     "output_type": "execute_result"
    }
   ],
   "source": [
    "df1.describe()"
   ]
  },
  {
   "cell_type": "code",
   "execution_count": 59,
   "id": "821abb0c",
   "metadata": {},
   "outputs": [
    {
     "name": "stdout",
     "output_type": "stream",
     "text": [
      "<class 'pandas.core.frame.DataFrame'>\n",
      "Int64Index: 182533 entries, 40 to 204662\n",
      "Data columns (total 10 columns):\n",
      " #   Column           Non-Null Count   Dtype         \n",
      "---  ------           --------------   -----         \n",
      " 0   date             182533 non-null  datetime64[ns]\n",
      " 1   location         182533 non-null  object        \n",
      " 2   new_cases        182533 non-null  float64       \n",
      " 3   new_deaths       182533 non-null  float64       \n",
      " 4   total_cases      182533 non-null  float64       \n",
      " 5   total_deaths     182533 non-null  float64       \n",
      " 6   weekly_cases     182533 non-null  float64       \n",
      " 7   weekly_deaths    182533 non-null  float64       \n",
      " 8   biweekly_cases   182533 non-null  float64       \n",
      " 9   biweekly_deaths  182533 non-null  float64       \n",
      "dtypes: datetime64[ns](1), float64(8), object(1)\n",
      "memory usage: 15.3+ MB\n"
     ]
    }
   ],
   "source": [
    "df1.info()"
   ]
  },
  {
   "cell_type": "code",
   "execution_count": 63,
   "id": "242aed30",
   "metadata": {},
   "outputs": [
    {
     "data": {
      "text/plain": [
       "12610.841894119892"
      ]
     },
     "execution_count": 63,
     "metadata": {},
     "output_type": "execute_result"
    }
   ],
   "source": [
    "df[\"new_cases\"].mean()"
   ]
  },
  {
   "cell_type": "code",
   "execution_count": 64,
   "id": "57a358bd",
   "metadata": {},
   "outputs": [
    {
     "data": {
      "text/html": [
       "<div>\n",
       "<style scoped>\n",
       "    .dataframe tbody tr th:only-of-type {\n",
       "        vertical-align: middle;\n",
       "    }\n",
       "\n",
       "    .dataframe tbody tr th {\n",
       "        vertical-align: top;\n",
       "    }\n",
       "\n",
       "    .dataframe thead th {\n",
       "        text-align: right;\n",
       "    }\n",
       "</style>\n",
       "<table border=\"1\" class=\"dataframe\">\n",
       "  <thead>\n",
       "    <tr style=\"text-align: right;\">\n",
       "      <th></th>\n",
       "      <th>new_cases</th>\n",
       "      <th>new_deaths</th>\n",
       "      <th>total_cases</th>\n",
       "      <th>total_deaths</th>\n",
       "      <th>weekly_cases</th>\n",
       "      <th>weekly_deaths</th>\n",
       "      <th>biweekly_cases</th>\n",
       "      <th>biweekly_deaths</th>\n",
       "    </tr>\n",
       "  </thead>\n",
       "  <tbody>\n",
       "    <tr>\n",
       "      <th>count</th>\n",
       "      <td>1.825330e+05</td>\n",
       "      <td>182533.000000</td>\n",
       "      <td>1.825330e+05</td>\n",
       "      <td>1.825330e+05</td>\n",
       "      <td>1.825330e+05</td>\n",
       "      <td>182533.000000</td>\n",
       "      <td>1.825330e+05</td>\n",
       "      <td>182533.000000</td>\n",
       "    </tr>\n",
       "    <tr>\n",
       "      <th>mean</th>\n",
       "      <td>1.410664e+04</td>\n",
       "      <td>147.693869</td>\n",
       "      <td>4.518790e+06</td>\n",
       "      <td>7.226736e+04</td>\n",
       "      <td>9.840972e+04</td>\n",
       "      <td>1032.330450</td>\n",
       "      <td>1.960916e+05</td>\n",
       "      <td>2062.201974</td>\n",
       "    </tr>\n",
       "    <tr>\n",
       "      <th>std</th>\n",
       "      <td>9.186939e+04</td>\n",
       "      <td>757.497087</td>\n",
       "      <td>2.676259e+07</td>\n",
       "      <td>3.704483e+05</td>\n",
       "      <td>6.268074e+05</td>\n",
       "      <td>5183.326851</td>\n",
       "      <td>1.246393e+06</td>\n",
       "      <td>10347.126296</td>\n",
       "    </tr>\n",
       "    <tr>\n",
       "      <th>min</th>\n",
       "      <td>0.000000e+00</td>\n",
       "      <td>0.000000</td>\n",
       "      <td>1.000000e+00</td>\n",
       "      <td>1.000000e+00</td>\n",
       "      <td>0.000000e+00</td>\n",
       "      <td>0.000000</td>\n",
       "      <td>0.000000e+00</td>\n",
       "      <td>0.000000</td>\n",
       "    </tr>\n",
       "    <tr>\n",
       "      <th>25%</th>\n",
       "      <td>2.000000e+00</td>\n",
       "      <td>0.000000</td>\n",
       "      <td>8.686000e+03</td>\n",
       "      <td>1.160000e+02</td>\n",
       "      <td>1.060000e+02</td>\n",
       "      <td>1.000000</td>\n",
       "      <td>2.300000e+02</td>\n",
       "      <td>2.000000</td>\n",
       "    </tr>\n",
       "    <tr>\n",
       "      <th>50%</th>\n",
       "      <td>1.120000e+02</td>\n",
       "      <td>1.000000</td>\n",
       "      <td>7.441200e+04</td>\n",
       "      <td>1.159000e+03</td>\n",
       "      <td>1.139000e+03</td>\n",
       "      <td>12.000000</td>\n",
       "      <td>2.315000e+03</td>\n",
       "      <td>25.000000</td>\n",
       "    </tr>\n",
       "    <tr>\n",
       "      <th>75%</th>\n",
       "      <td>1.329000e+03</td>\n",
       "      <td>16.000000</td>\n",
       "      <td>6.131440e+05</td>\n",
       "      <td>9.533000e+03</td>\n",
       "      <td>1.026800e+04</td>\n",
       "      <td>120.000000</td>\n",
       "      <td>2.054600e+04</td>\n",
       "      <td>242.000000</td>\n",
       "    </tr>\n",
       "    <tr>\n",
       "      <th>max</th>\n",
       "      <td>4.081691e+06</td>\n",
       "      <td>17737.000000</td>\n",
       "      <td>6.036212e+08</td>\n",
       "      <td>6.496957e+06</td>\n",
       "      <td>2.405289e+07</td>\n",
       "      <td>104007.000000</td>\n",
       "      <td>4.658301e+07</td>\n",
       "      <td>203231.000000</td>\n",
       "    </tr>\n",
       "  </tbody>\n",
       "</table>\n",
       "</div>"
      ],
      "text/plain": [
       "          new_cases     new_deaths   total_cases  total_deaths  weekly_cases  \\\n",
       "count  1.825330e+05  182533.000000  1.825330e+05  1.825330e+05  1.825330e+05   \n",
       "mean   1.410664e+04     147.693869  4.518790e+06  7.226736e+04  9.840972e+04   \n",
       "std    9.186939e+04     757.497087  2.676259e+07  3.704483e+05  6.268074e+05   \n",
       "min    0.000000e+00       0.000000  1.000000e+00  1.000000e+00  0.000000e+00   \n",
       "25%    2.000000e+00       0.000000  8.686000e+03  1.160000e+02  1.060000e+02   \n",
       "50%    1.120000e+02       1.000000  7.441200e+04  1.159000e+03  1.139000e+03   \n",
       "75%    1.329000e+03      16.000000  6.131440e+05  9.533000e+03  1.026800e+04   \n",
       "max    4.081691e+06   17737.000000  6.036212e+08  6.496957e+06  2.405289e+07   \n",
       "\n",
       "       weekly_deaths  biweekly_cases  biweekly_deaths  \n",
       "count  182533.000000    1.825330e+05    182533.000000  \n",
       "mean     1032.330450    1.960916e+05      2062.201974  \n",
       "std      5183.326851    1.246393e+06     10347.126296  \n",
       "min         0.000000    0.000000e+00         0.000000  \n",
       "25%         1.000000    2.300000e+02         2.000000  \n",
       "50%        12.000000    2.315000e+03        25.000000  \n",
       "75%       120.000000    2.054600e+04       242.000000  \n",
       "max    104007.000000    4.658301e+07    203231.000000  "
      ]
     },
     "execution_count": 64,
     "metadata": {},
     "output_type": "execute_result"
    }
   ],
   "source": [
    "df1.describe()"
   ]
  },
  {
   "cell_type": "code",
   "execution_count": 65,
   "id": "f6cccb02",
   "metadata": {},
   "outputs": [
    {
     "data": {
      "text/html": [
       "<div>\n",
       "<style scoped>\n",
       "    .dataframe tbody tr th:only-of-type {\n",
       "        vertical-align: middle;\n",
       "    }\n",
       "\n",
       "    .dataframe tbody tr th {\n",
       "        vertical-align: top;\n",
       "    }\n",
       "\n",
       "    .dataframe thead th {\n",
       "        text-align: right;\n",
       "    }\n",
       "</style>\n",
       "<table border=\"1\" class=\"dataframe\">\n",
       "  <thead>\n",
       "    <tr style=\"text-align: right;\">\n",
       "      <th></th>\n",
       "      <th>date</th>\n",
       "      <th>location</th>\n",
       "      <th>new_cases</th>\n",
       "      <th>new_deaths</th>\n",
       "      <th>total_cases</th>\n",
       "      <th>total_deaths</th>\n",
       "      <th>weekly_cases</th>\n",
       "      <th>weekly_deaths</th>\n",
       "      <th>biweekly_cases</th>\n",
       "      <th>biweekly_deaths</th>\n",
       "    </tr>\n",
       "  </thead>\n",
       "  <tbody>\n",
       "    <tr>\n",
       "      <th>40</th>\n",
       "      <td>2020-04-04</td>\n",
       "      <td>Afghanistan</td>\n",
       "      <td>1.0</td>\n",
       "      <td>0.0</td>\n",
       "      <td>270.0</td>\n",
       "      <td>5.0</td>\n",
       "      <td>164.0</td>\n",
       "      <td>3.0</td>\n",
       "      <td>246.0</td>\n",
       "      <td>5.0</td>\n",
       "    </tr>\n",
       "    <tr>\n",
       "      <th>41</th>\n",
       "      <td>2020-04-05</td>\n",
       "      <td>Afghanistan</td>\n",
       "      <td>29.0</td>\n",
       "      <td>2.0</td>\n",
       "      <td>299.0</td>\n",
       "      <td>7.0</td>\n",
       "      <td>185.0</td>\n",
       "      <td>3.0</td>\n",
       "      <td>265.0</td>\n",
       "      <td>7.0</td>\n",
       "    </tr>\n",
       "    <tr>\n",
       "      <th>42</th>\n",
       "      <td>2020-04-06</td>\n",
       "      <td>Afghanistan</td>\n",
       "      <td>38.0</td>\n",
       "      <td>0.0</td>\n",
       "      <td>337.0</td>\n",
       "      <td>7.0</td>\n",
       "      <td>223.0</td>\n",
       "      <td>3.0</td>\n",
       "      <td>297.0</td>\n",
       "      <td>6.0</td>\n",
       "    </tr>\n",
       "    <tr>\n",
       "      <th>43</th>\n",
       "      <td>2020-04-07</td>\n",
       "      <td>Afghanistan</td>\n",
       "      <td>30.0</td>\n",
       "      <td>4.0</td>\n",
       "      <td>367.0</td>\n",
       "      <td>11.0</td>\n",
       "      <td>201.0</td>\n",
       "      <td>7.0</td>\n",
       "      <td>325.0</td>\n",
       "      <td>10.0</td>\n",
       "    </tr>\n",
       "    <tr>\n",
       "      <th>44</th>\n",
       "      <td>2020-04-08</td>\n",
       "      <td>Afghanistan</td>\n",
       "      <td>56.0</td>\n",
       "      <td>3.0</td>\n",
       "      <td>423.0</td>\n",
       "      <td>14.0</td>\n",
       "      <td>231.0</td>\n",
       "      <td>10.0</td>\n",
       "      <td>349.0</td>\n",
       "      <td>13.0</td>\n",
       "    </tr>\n",
       "    <tr>\n",
       "      <th>...</th>\n",
       "      <td>...</td>\n",
       "      <td>...</td>\n",
       "      <td>...</td>\n",
       "      <td>...</td>\n",
       "      <td>...</td>\n",
       "      <td>...</td>\n",
       "      <td>...</td>\n",
       "      <td>...</td>\n",
       "      <td>...</td>\n",
       "      <td>...</td>\n",
       "    </tr>\n",
       "    <tr>\n",
       "      <th>204658</th>\n",
       "      <td>2022-08-29</td>\n",
       "      <td>Zimbabwe</td>\n",
       "      <td>5.0</td>\n",
       "      <td>0.0</td>\n",
       "      <td>256704.0</td>\n",
       "      <td>5593.0</td>\n",
       "      <td>76.0</td>\n",
       "      <td>1.0</td>\n",
       "      <td>160.0</td>\n",
       "      <td>5.0</td>\n",
       "    </tr>\n",
       "    <tr>\n",
       "      <th>204659</th>\n",
       "      <td>2022-08-30</td>\n",
       "      <td>Zimbabwe</td>\n",
       "      <td>4.0</td>\n",
       "      <td>0.0</td>\n",
       "      <td>256708.0</td>\n",
       "      <td>5593.0</td>\n",
       "      <td>80.0</td>\n",
       "      <td>1.0</td>\n",
       "      <td>147.0</td>\n",
       "      <td>5.0</td>\n",
       "    </tr>\n",
       "    <tr>\n",
       "      <th>204660</th>\n",
       "      <td>2022-08-31</td>\n",
       "      <td>Zimbabwe</td>\n",
       "      <td>18.0</td>\n",
       "      <td>3.0</td>\n",
       "      <td>256726.0</td>\n",
       "      <td>5596.0</td>\n",
       "      <td>98.0</td>\n",
       "      <td>4.0</td>\n",
       "      <td>161.0</td>\n",
       "      <td>8.0</td>\n",
       "    </tr>\n",
       "    <tr>\n",
       "      <th>204661</th>\n",
       "      <td>2022-09-01</td>\n",
       "      <td>Zimbabwe</td>\n",
       "      <td>12.0</td>\n",
       "      <td>0.0</td>\n",
       "      <td>256738.0</td>\n",
       "      <td>5596.0</td>\n",
       "      <td>63.0</td>\n",
       "      <td>3.0</td>\n",
       "      <td>159.0</td>\n",
       "      <td>7.0</td>\n",
       "    </tr>\n",
       "    <tr>\n",
       "      <th>204662</th>\n",
       "      <td>2022-09-02</td>\n",
       "      <td>Zimbabwe</td>\n",
       "      <td>6.0</td>\n",
       "      <td>0.0</td>\n",
       "      <td>256744.0</td>\n",
       "      <td>5596.0</td>\n",
       "      <td>62.0</td>\n",
       "      <td>3.0</td>\n",
       "      <td>148.0</td>\n",
       "      <td>7.0</td>\n",
       "    </tr>\n",
       "  </tbody>\n",
       "</table>\n",
       "<p>182533 rows × 10 columns</p>\n",
       "</div>"
      ],
      "text/plain": [
       "             date     location  new_cases  new_deaths  total_cases  \\\n",
       "40     2020-04-04  Afghanistan        1.0         0.0        270.0   \n",
       "41     2020-04-05  Afghanistan       29.0         2.0        299.0   \n",
       "42     2020-04-06  Afghanistan       38.0         0.0        337.0   \n",
       "43     2020-04-07  Afghanistan       30.0         4.0        367.0   \n",
       "44     2020-04-08  Afghanistan       56.0         3.0        423.0   \n",
       "...           ...          ...        ...         ...          ...   \n",
       "204658 2022-08-29     Zimbabwe        5.0         0.0     256704.0   \n",
       "204659 2022-08-30     Zimbabwe        4.0         0.0     256708.0   \n",
       "204660 2022-08-31     Zimbabwe       18.0         3.0     256726.0   \n",
       "204661 2022-09-01     Zimbabwe       12.0         0.0     256738.0   \n",
       "204662 2022-09-02     Zimbabwe        6.0         0.0     256744.0   \n",
       "\n",
       "        total_deaths  weekly_cases  weekly_deaths  biweekly_cases  \\\n",
       "40               5.0         164.0            3.0           246.0   \n",
       "41               7.0         185.0            3.0           265.0   \n",
       "42               7.0         223.0            3.0           297.0   \n",
       "43              11.0         201.0            7.0           325.0   \n",
       "44              14.0         231.0           10.0           349.0   \n",
       "...              ...           ...            ...             ...   \n",
       "204658        5593.0          76.0            1.0           160.0   \n",
       "204659        5593.0          80.0            1.0           147.0   \n",
       "204660        5596.0          98.0            4.0           161.0   \n",
       "204661        5596.0          63.0            3.0           159.0   \n",
       "204662        5596.0          62.0            3.0           148.0   \n",
       "\n",
       "        biweekly_deaths  \n",
       "40                  5.0  \n",
       "41                  7.0  \n",
       "42                  6.0  \n",
       "43                 10.0  \n",
       "44                 13.0  \n",
       "...                 ...  \n",
       "204658              5.0  \n",
       "204659              5.0  \n",
       "204660              8.0  \n",
       "204661              7.0  \n",
       "204662              7.0  \n",
       "\n",
       "[182533 rows x 10 columns]"
      ]
     },
     "execution_count": 65,
     "metadata": {},
     "output_type": "execute_result"
    }
   ],
   "source": [
    "df1"
   ]
  },
  {
   "cell_type": "code",
   "execution_count": 81,
   "id": "6ce004cb",
   "metadata": {},
   "outputs": [
    {
     "data": {
      "text/plain": [
       "14106.640760848722"
      ]
     },
     "execution_count": 81,
     "metadata": {},
     "output_type": "execute_result"
    }
   ],
   "source": [
    "df1[\"new_cases\"].mean()"
   ]
  },
  {
   "cell_type": "code",
   "execution_count": 82,
   "id": "2eb790cb",
   "metadata": {},
   "outputs": [
    {
     "data": {
      "text/plain": [
       "4518790.371587603"
      ]
     },
     "execution_count": 82,
     "metadata": {},
     "output_type": "execute_result"
    }
   ],
   "source": [
    "df1[\"total_cases\"].mean()"
   ]
  },
  {
   "cell_type": "code",
   "execution_count": 83,
   "id": "99b8de9a",
   "metadata": {},
   "outputs": [
    {
     "data": {
      "text/plain": [
       "1032.330449836468"
      ]
     },
     "execution_count": 83,
     "metadata": {},
     "output_type": "execute_result"
    }
   ],
   "source": [
    "df1[\"weekly_deaths\"].mean()"
   ]
  },
  {
   "cell_type": "code",
   "execution_count": 84,
   "id": "12c2f50e",
   "metadata": {},
   "outputs": [
    {
     "data": {
      "text/plain": [
       "2574927458.0"
      ]
     },
     "execution_count": 84,
     "metadata": {},
     "output_type": "execute_result"
    }
   ],
   "source": [
    "df1[\"new_cases\"].sum()"
   ]
  },
  {
   "cell_type": "code",
   "execution_count": 85,
   "id": "a43073de",
   "metadata": {},
   "outputs": [
    {
     "data": {
      "text/plain": [
       "182533"
      ]
     },
     "execution_count": 85,
     "metadata": {},
     "output_type": "execute_result"
    }
   ],
   "source": [
    "df1[\"new_cases\"].count()"
   ]
  },
  {
   "cell_type": "code",
   "execution_count": 86,
   "id": "b2bc8031",
   "metadata": {},
   "outputs": [
    {
     "data": {
      "text/plain": [
       "0                   Asia\n",
       "1            High income\n",
       "2    Lower middle income\n",
       "3    Upper middle income\n",
       "4                  World\n",
       "Name: location, dtype: object"
      ]
     },
     "execution_count": 86,
     "metadata": {},
     "output_type": "execute_result"
    }
   ],
   "source": [
    "df1[\"location\"].mode()"
   ]
  },
  {
   "cell_type": "code",
   "execution_count": 87,
   "id": "dfd60553",
   "metadata": {},
   "outputs": [
    {
     "data": {
      "text/plain": [
       "0    0.0\n",
       "Name: new_cases, dtype: float64"
      ]
     },
     "execution_count": 87,
     "metadata": {},
     "output_type": "execute_result"
    }
   ],
   "source": [
    "df1[\"new_cases\"].mode()"
   ]
  },
  {
   "cell_type": "code",
   "execution_count": 88,
   "id": "ddd5c87d",
   "metadata": {},
   "outputs": [
    {
     "data": {
      "text/plain": [
       "4081691.0"
      ]
     },
     "execution_count": 88,
     "metadata": {},
     "output_type": "execute_result"
    }
   ],
   "source": [
    "df1[\"new_cases\"].max()"
   ]
  },
  {
   "cell_type": "code",
   "execution_count": 89,
   "id": "21369282",
   "metadata": {},
   "outputs": [
    {
     "data": {
      "text/plain": [
       "603621205.0"
      ]
     },
     "execution_count": 89,
     "metadata": {},
     "output_type": "execute_result"
    }
   ],
   "source": [
    "df1[\"total_cases\"].max()"
   ]
  },
  {
   "cell_type": "code",
   "execution_count": 90,
   "id": "831f0b99",
   "metadata": {},
   "outputs": [
    {
     "data": {
      "text/plain": [
       "40           270.0\n",
       "41           299.0\n",
       "42           337.0\n",
       "43           367.0\n",
       "44           423.0\n",
       "            ...   \n",
       "204658    256704.0\n",
       "204659    256708.0\n",
       "204660    256726.0\n",
       "204661    256738.0\n",
       "204662    256744.0\n",
       "Name: total_cases, Length: 182533, dtype: float64"
      ]
     },
     "execution_count": 90,
     "metadata": {},
     "output_type": "execute_result"
    }
   ],
   "source": [
    "df1[\"total_cases\"]"
   ]
  },
  {
   "cell_type": "code",
   "execution_count": 91,
   "id": "b3fb6a0d",
   "metadata": {},
   "outputs": [
    {
     "data": {
      "text/plain": [
       "17737.0"
      ]
     },
     "execution_count": 91,
     "metadata": {},
     "output_type": "execute_result"
    }
   ],
   "source": [
    "df1[\"new_deaths\"].max()"
   ]
  },
  {
   "cell_type": "code",
   "execution_count": 92,
   "id": "4ac5aa6a",
   "metadata": {},
   "outputs": [
    {
     "data": {
      "text/plain": [
       "0.0"
      ]
     },
     "execution_count": 92,
     "metadata": {},
     "output_type": "execute_result"
    }
   ],
   "source": [
    "df1[\"new_deaths\"].min()"
   ]
  },
  {
   "cell_type": "code",
   "execution_count": 93,
   "id": "ed22bc65",
   "metadata": {},
   "outputs": [
    {
     "data": {
      "text/html": [
       "<div>\n",
       "<style scoped>\n",
       "    .dataframe tbody tr th:only-of-type {\n",
       "        vertical-align: middle;\n",
       "    }\n",
       "\n",
       "    .dataframe tbody tr th {\n",
       "        vertical-align: top;\n",
       "    }\n",
       "\n",
       "    .dataframe thead th {\n",
       "        text-align: right;\n",
       "    }\n",
       "</style>\n",
       "<table border=\"1\" class=\"dataframe\">\n",
       "  <thead>\n",
       "    <tr style=\"text-align: right;\">\n",
       "      <th></th>\n",
       "      <th>date</th>\n",
       "      <th>location</th>\n",
       "      <th>new_cases</th>\n",
       "      <th>new_deaths</th>\n",
       "      <th>total_cases</th>\n",
       "      <th>total_deaths</th>\n",
       "      <th>weekly_cases</th>\n",
       "      <th>weekly_deaths</th>\n",
       "      <th>biweekly_cases</th>\n",
       "      <th>biweekly_deaths</th>\n",
       "    </tr>\n",
       "  </thead>\n",
       "  <tbody>\n",
       "    <tr>\n",
       "      <th>0</th>\n",
       "      <td>2022-08-21</td>\n",
       "      <td>Asia</td>\n",
       "      <td>0.0</td>\n",
       "      <td>0.0</td>\n",
       "      <td>721.0</td>\n",
       "      <td>1.0</td>\n",
       "      <td>0.0</td>\n",
       "      <td>0.0</td>\n",
       "      <td>0.0</td>\n",
       "      <td>0.0</td>\n",
       "    </tr>\n",
       "    <tr>\n",
       "      <th>1</th>\n",
       "      <td>NaT</td>\n",
       "      <td>High income</td>\n",
       "      <td>NaN</td>\n",
       "      <td>NaN</td>\n",
       "      <td>NaN</td>\n",
       "      <td>NaN</td>\n",
       "      <td>NaN</td>\n",
       "      <td>NaN</td>\n",
       "      <td>NaN</td>\n",
       "      <td>NaN</td>\n",
       "    </tr>\n",
       "    <tr>\n",
       "      <th>2</th>\n",
       "      <td>NaT</td>\n",
       "      <td>Lower middle income</td>\n",
       "      <td>NaN</td>\n",
       "      <td>NaN</td>\n",
       "      <td>NaN</td>\n",
       "      <td>NaN</td>\n",
       "      <td>NaN</td>\n",
       "      <td>NaN</td>\n",
       "      <td>NaN</td>\n",
       "      <td>NaN</td>\n",
       "    </tr>\n",
       "    <tr>\n",
       "      <th>3</th>\n",
       "      <td>NaT</td>\n",
       "      <td>Upper middle income</td>\n",
       "      <td>NaN</td>\n",
       "      <td>NaN</td>\n",
       "      <td>NaN</td>\n",
       "      <td>NaN</td>\n",
       "      <td>NaN</td>\n",
       "      <td>NaN</td>\n",
       "      <td>NaN</td>\n",
       "      <td>NaN</td>\n",
       "    </tr>\n",
       "    <tr>\n",
       "      <th>4</th>\n",
       "      <td>NaT</td>\n",
       "      <td>World</td>\n",
       "      <td>NaN</td>\n",
       "      <td>NaN</td>\n",
       "      <td>NaN</td>\n",
       "      <td>NaN</td>\n",
       "      <td>NaN</td>\n",
       "      <td>NaN</td>\n",
       "      <td>NaN</td>\n",
       "      <td>NaN</td>\n",
       "    </tr>\n",
       "  </tbody>\n",
       "</table>\n",
       "</div>"
      ],
      "text/plain": [
       "        date             location  new_cases  new_deaths  total_cases  \\\n",
       "0 2022-08-21                 Asia        0.0         0.0        721.0   \n",
       "1        NaT          High income        NaN         NaN          NaN   \n",
       "2        NaT  Lower middle income        NaN         NaN          NaN   \n",
       "3        NaT  Upper middle income        NaN         NaN          NaN   \n",
       "4        NaT                World        NaN         NaN          NaN   \n",
       "\n",
       "   total_deaths  weekly_cases  weekly_deaths  biweekly_cases  biweekly_deaths  \n",
       "0           1.0           0.0            0.0             0.0              0.0  \n",
       "1           NaN           NaN            NaN             NaN              NaN  \n",
       "2           NaN           NaN            NaN             NaN              NaN  \n",
       "3           NaN           NaN            NaN             NaN              NaN  \n",
       "4           NaN           NaN            NaN             NaN              NaN  "
      ]
     },
     "execution_count": 93,
     "metadata": {},
     "output_type": "execute_result"
    }
   ],
   "source": [
    "df1.mode()"
   ]
  },
  {
   "cell_type": "code",
   "execution_count": 95,
   "id": "1a807680",
   "metadata": {},
   "outputs": [
    {
     "data": {
      "text/html": [
       "<div>\n",
       "<style scoped>\n",
       "    .dataframe tbody tr th:only-of-type {\n",
       "        vertical-align: middle;\n",
       "    }\n",
       "\n",
       "    .dataframe tbody tr th {\n",
       "        vertical-align: top;\n",
       "    }\n",
       "\n",
       "    .dataframe thead th {\n",
       "        text-align: right;\n",
       "    }\n",
       "</style>\n",
       "<table border=\"1\" class=\"dataframe\">\n",
       "  <thead>\n",
       "    <tr style=\"text-align: right;\">\n",
       "      <th></th>\n",
       "      <th>date</th>\n",
       "      <th>location</th>\n",
       "      <th>new_cases</th>\n",
       "      <th>new_deaths</th>\n",
       "      <th>total_cases</th>\n",
       "      <th>total_deaths</th>\n",
       "      <th>weekly_cases</th>\n",
       "      <th>weekly_deaths</th>\n",
       "      <th>biweekly_cases</th>\n",
       "      <th>biweekly_deaths</th>\n",
       "    </tr>\n",
       "  </thead>\n",
       "  <tbody>\n",
       "    <tr>\n",
       "      <th>0</th>\n",
       "      <td>2022-05-14</td>\n",
       "      <td>Asia</td>\n",
       "      <td>0.0</td>\n",
       "      <td>0.0</td>\n",
       "      <td>1.0</td>\n",
       "      <td>1.0</td>\n",
       "      <td>0.0</td>\n",
       "      <td>0.0</td>\n",
       "      <td>0.0</td>\n",
       "      <td>0.0</td>\n",
       "    </tr>\n",
       "    <tr>\n",
       "      <th>1</th>\n",
       "      <td>2022-05-15</td>\n",
       "      <td>China</td>\n",
       "      <td>NaN</td>\n",
       "      <td>NaN</td>\n",
       "      <td>NaN</td>\n",
       "      <td>NaN</td>\n",
       "      <td>NaN</td>\n",
       "      <td>NaN</td>\n",
       "      <td>NaN</td>\n",
       "      <td>NaN</td>\n",
       "    </tr>\n",
       "    <tr>\n",
       "      <th>2</th>\n",
       "      <td>2022-05-16</td>\n",
       "      <td>High income</td>\n",
       "      <td>NaN</td>\n",
       "      <td>NaN</td>\n",
       "      <td>NaN</td>\n",
       "      <td>NaN</td>\n",
       "      <td>NaN</td>\n",
       "      <td>NaN</td>\n",
       "      <td>NaN</td>\n",
       "      <td>NaN</td>\n",
       "    </tr>\n",
       "    <tr>\n",
       "      <th>3</th>\n",
       "      <td>2022-05-17</td>\n",
       "      <td>Japan</td>\n",
       "      <td>NaN</td>\n",
       "      <td>NaN</td>\n",
       "      <td>NaN</td>\n",
       "      <td>NaN</td>\n",
       "      <td>NaN</td>\n",
       "      <td>NaN</td>\n",
       "      <td>NaN</td>\n",
       "      <td>NaN</td>\n",
       "    </tr>\n",
       "    <tr>\n",
       "      <th>4</th>\n",
       "      <td>2022-05-18</td>\n",
       "      <td>Lower middle income</td>\n",
       "      <td>NaN</td>\n",
       "      <td>NaN</td>\n",
       "      <td>NaN</td>\n",
       "      <td>NaN</td>\n",
       "      <td>NaN</td>\n",
       "      <td>NaN</td>\n",
       "      <td>NaN</td>\n",
       "      <td>NaN</td>\n",
       "    </tr>\n",
       "    <tr>\n",
       "      <th>...</th>\n",
       "      <td>...</td>\n",
       "      <td>...</td>\n",
       "      <td>...</td>\n",
       "      <td>...</td>\n",
       "      <td>...</td>\n",
       "      <td>...</td>\n",
       "      <td>...</td>\n",
       "      <td>...</td>\n",
       "      <td>...</td>\n",
       "      <td>...</td>\n",
       "    </tr>\n",
       "    <tr>\n",
       "      <th>107</th>\n",
       "      <td>2022-08-29</td>\n",
       "      <td>NaN</td>\n",
       "      <td>NaN</td>\n",
       "      <td>NaN</td>\n",
       "      <td>NaN</td>\n",
       "      <td>NaN</td>\n",
       "      <td>NaN</td>\n",
       "      <td>NaN</td>\n",
       "      <td>NaN</td>\n",
       "      <td>NaN</td>\n",
       "    </tr>\n",
       "    <tr>\n",
       "      <th>108</th>\n",
       "      <td>2022-08-30</td>\n",
       "      <td>NaN</td>\n",
       "      <td>NaN</td>\n",
       "      <td>NaN</td>\n",
       "      <td>NaN</td>\n",
       "      <td>NaN</td>\n",
       "      <td>NaN</td>\n",
       "      <td>NaN</td>\n",
       "      <td>NaN</td>\n",
       "      <td>NaN</td>\n",
       "    </tr>\n",
       "    <tr>\n",
       "      <th>109</th>\n",
       "      <td>2022-08-31</td>\n",
       "      <td>NaN</td>\n",
       "      <td>NaN</td>\n",
       "      <td>NaN</td>\n",
       "      <td>NaN</td>\n",
       "      <td>NaN</td>\n",
       "      <td>NaN</td>\n",
       "      <td>NaN</td>\n",
       "      <td>NaN</td>\n",
       "      <td>NaN</td>\n",
       "    </tr>\n",
       "    <tr>\n",
       "      <th>110</th>\n",
       "      <td>2022-09-01</td>\n",
       "      <td>NaN</td>\n",
       "      <td>NaN</td>\n",
       "      <td>NaN</td>\n",
       "      <td>NaN</td>\n",
       "      <td>NaN</td>\n",
       "      <td>NaN</td>\n",
       "      <td>NaN</td>\n",
       "      <td>NaN</td>\n",
       "      <td>NaN</td>\n",
       "    </tr>\n",
       "    <tr>\n",
       "      <th>111</th>\n",
       "      <td>2022-09-02</td>\n",
       "      <td>NaN</td>\n",
       "      <td>NaN</td>\n",
       "      <td>NaN</td>\n",
       "      <td>NaN</td>\n",
       "      <td>NaN</td>\n",
       "      <td>NaN</td>\n",
       "      <td>NaN</td>\n",
       "      <td>NaN</td>\n",
       "      <td>NaN</td>\n",
       "    </tr>\n",
       "  </tbody>\n",
       "</table>\n",
       "<p>112 rows × 10 columns</p>\n",
       "</div>"
      ],
      "text/plain": [
       "          date             location  new_cases  new_deaths  total_cases  \\\n",
       "0   2022-05-14                 Asia        0.0         0.0          1.0   \n",
       "1   2022-05-15                China        NaN         NaN          NaN   \n",
       "2   2022-05-16          High income        NaN         NaN          NaN   \n",
       "3   2022-05-17                Japan        NaN         NaN          NaN   \n",
       "4   2022-05-18  Lower middle income        NaN         NaN          NaN   \n",
       "..         ...                  ...        ...         ...          ...   \n",
       "107 2022-08-29                  NaN        NaN         NaN          NaN   \n",
       "108 2022-08-30                  NaN        NaN         NaN          NaN   \n",
       "109 2022-08-31                  NaN        NaN         NaN          NaN   \n",
       "110 2022-09-01                  NaN        NaN         NaN          NaN   \n",
       "111 2022-09-02                  NaN        NaN         NaN          NaN   \n",
       "\n",
       "     total_deaths  weekly_cases  weekly_deaths  biweekly_cases  \\\n",
       "0             1.0           0.0            0.0             0.0   \n",
       "1             NaN           NaN            NaN             NaN   \n",
       "2             NaN           NaN            NaN             NaN   \n",
       "3             NaN           NaN            NaN             NaN   \n",
       "4             NaN           NaN            NaN             NaN   \n",
       "..            ...           ...            ...             ...   \n",
       "107           NaN           NaN            NaN             NaN   \n",
       "108           NaN           NaN            NaN             NaN   \n",
       "109           NaN           NaN            NaN             NaN   \n",
       "110           NaN           NaN            NaN             NaN   \n",
       "111           NaN           NaN            NaN             NaN   \n",
       "\n",
       "     biweekly_deaths  \n",
       "0                0.0  \n",
       "1                NaN  \n",
       "2                NaN  \n",
       "3                NaN  \n",
       "4                NaN  \n",
       "..               ...  \n",
       "107              NaN  \n",
       "108              NaN  \n",
       "109              NaN  \n",
       "110              NaN  \n",
       "111              NaN  \n",
       "\n",
       "[112 rows x 10 columns]"
      ]
     },
     "execution_count": 95,
     "metadata": {},
     "output_type": "execute_result"
    }
   ],
   "source": [
    "df.mode()"
   ]
  },
  {
   "cell_type": "code",
   "execution_count": 96,
   "id": "33df133d",
   "metadata": {},
   "outputs": [
    {
     "data": {
      "text/html": [
       "<div>\n",
       "<style scoped>\n",
       "    .dataframe tbody tr th:only-of-type {\n",
       "        vertical-align: middle;\n",
       "    }\n",
       "\n",
       "    .dataframe tbody tr th {\n",
       "        vertical-align: top;\n",
       "    }\n",
       "\n",
       "    .dataframe thead th {\n",
       "        text-align: right;\n",
       "    }\n",
       "</style>\n",
       "<table border=\"1\" class=\"dataframe\">\n",
       "  <thead>\n",
       "    <tr style=\"text-align: right;\">\n",
       "      <th></th>\n",
       "      <th>date</th>\n",
       "      <th>location</th>\n",
       "      <th>new_cases</th>\n",
       "      <th>new_deaths</th>\n",
       "      <th>total_cases</th>\n",
       "      <th>total_deaths</th>\n",
       "      <th>weekly_cases</th>\n",
       "      <th>weekly_deaths</th>\n",
       "      <th>biweekly_cases</th>\n",
       "      <th>biweekly_deaths</th>\n",
       "    </tr>\n",
       "  </thead>\n",
       "  <tbody>\n",
       "    <tr>\n",
       "      <th>40</th>\n",
       "      <td>2020-04-04</td>\n",
       "      <td>Afghanistan</td>\n",
       "      <td>1.0</td>\n",
       "      <td>0.0</td>\n",
       "      <td>270.0</td>\n",
       "      <td>5.0</td>\n",
       "      <td>164.0</td>\n",
       "      <td>3.0</td>\n",
       "      <td>246.0</td>\n",
       "      <td>5.0</td>\n",
       "    </tr>\n",
       "    <tr>\n",
       "      <th>41</th>\n",
       "      <td>2020-04-05</td>\n",
       "      <td>Afghanistan</td>\n",
       "      <td>29.0</td>\n",
       "      <td>2.0</td>\n",
       "      <td>299.0</td>\n",
       "      <td>7.0</td>\n",
       "      <td>185.0</td>\n",
       "      <td>3.0</td>\n",
       "      <td>265.0</td>\n",
       "      <td>7.0</td>\n",
       "    </tr>\n",
       "    <tr>\n",
       "      <th>42</th>\n",
       "      <td>2020-04-06</td>\n",
       "      <td>Afghanistan</td>\n",
       "      <td>38.0</td>\n",
       "      <td>0.0</td>\n",
       "      <td>337.0</td>\n",
       "      <td>7.0</td>\n",
       "      <td>223.0</td>\n",
       "      <td>3.0</td>\n",
       "      <td>297.0</td>\n",
       "      <td>6.0</td>\n",
       "    </tr>\n",
       "    <tr>\n",
       "      <th>43</th>\n",
       "      <td>2020-04-07</td>\n",
       "      <td>Afghanistan</td>\n",
       "      <td>30.0</td>\n",
       "      <td>4.0</td>\n",
       "      <td>367.0</td>\n",
       "      <td>11.0</td>\n",
       "      <td>201.0</td>\n",
       "      <td>7.0</td>\n",
       "      <td>325.0</td>\n",
       "      <td>10.0</td>\n",
       "    </tr>\n",
       "    <tr>\n",
       "      <th>44</th>\n",
       "      <td>2020-04-08</td>\n",
       "      <td>Afghanistan</td>\n",
       "      <td>56.0</td>\n",
       "      <td>3.0</td>\n",
       "      <td>423.0</td>\n",
       "      <td>14.0</td>\n",
       "      <td>231.0</td>\n",
       "      <td>10.0</td>\n",
       "      <td>349.0</td>\n",
       "      <td>13.0</td>\n",
       "    </tr>\n",
       "    <tr>\n",
       "      <th>...</th>\n",
       "      <td>...</td>\n",
       "      <td>...</td>\n",
       "      <td>...</td>\n",
       "      <td>...</td>\n",
       "      <td>...</td>\n",
       "      <td>...</td>\n",
       "      <td>...</td>\n",
       "      <td>...</td>\n",
       "      <td>...</td>\n",
       "      <td>...</td>\n",
       "    </tr>\n",
       "    <tr>\n",
       "      <th>204658</th>\n",
       "      <td>2022-08-29</td>\n",
       "      <td>Zimbabwe</td>\n",
       "      <td>5.0</td>\n",
       "      <td>0.0</td>\n",
       "      <td>256704.0</td>\n",
       "      <td>5593.0</td>\n",
       "      <td>76.0</td>\n",
       "      <td>1.0</td>\n",
       "      <td>160.0</td>\n",
       "      <td>5.0</td>\n",
       "    </tr>\n",
       "    <tr>\n",
       "      <th>204659</th>\n",
       "      <td>2022-08-30</td>\n",
       "      <td>Zimbabwe</td>\n",
       "      <td>4.0</td>\n",
       "      <td>0.0</td>\n",
       "      <td>256708.0</td>\n",
       "      <td>5593.0</td>\n",
       "      <td>80.0</td>\n",
       "      <td>1.0</td>\n",
       "      <td>147.0</td>\n",
       "      <td>5.0</td>\n",
       "    </tr>\n",
       "    <tr>\n",
       "      <th>204660</th>\n",
       "      <td>2022-08-31</td>\n",
       "      <td>Zimbabwe</td>\n",
       "      <td>18.0</td>\n",
       "      <td>3.0</td>\n",
       "      <td>256726.0</td>\n",
       "      <td>5596.0</td>\n",
       "      <td>98.0</td>\n",
       "      <td>4.0</td>\n",
       "      <td>161.0</td>\n",
       "      <td>8.0</td>\n",
       "    </tr>\n",
       "    <tr>\n",
       "      <th>204661</th>\n",
       "      <td>2022-09-01</td>\n",
       "      <td>Zimbabwe</td>\n",
       "      <td>12.0</td>\n",
       "      <td>0.0</td>\n",
       "      <td>256738.0</td>\n",
       "      <td>5596.0</td>\n",
       "      <td>63.0</td>\n",
       "      <td>3.0</td>\n",
       "      <td>159.0</td>\n",
       "      <td>7.0</td>\n",
       "    </tr>\n",
       "    <tr>\n",
       "      <th>204662</th>\n",
       "      <td>2022-09-02</td>\n",
       "      <td>Zimbabwe</td>\n",
       "      <td>6.0</td>\n",
       "      <td>0.0</td>\n",
       "      <td>256744.0</td>\n",
       "      <td>5596.0</td>\n",
       "      <td>62.0</td>\n",
       "      <td>3.0</td>\n",
       "      <td>148.0</td>\n",
       "      <td>7.0</td>\n",
       "    </tr>\n",
       "  </tbody>\n",
       "</table>\n",
       "<p>182533 rows × 10 columns</p>\n",
       "</div>"
      ],
      "text/plain": [
       "             date     location  new_cases  new_deaths  total_cases  \\\n",
       "40     2020-04-04  Afghanistan        1.0         0.0        270.0   \n",
       "41     2020-04-05  Afghanistan       29.0         2.0        299.0   \n",
       "42     2020-04-06  Afghanistan       38.0         0.0        337.0   \n",
       "43     2020-04-07  Afghanistan       30.0         4.0        367.0   \n",
       "44     2020-04-08  Afghanistan       56.0         3.0        423.0   \n",
       "...           ...          ...        ...         ...          ...   \n",
       "204658 2022-08-29     Zimbabwe        5.0         0.0     256704.0   \n",
       "204659 2022-08-30     Zimbabwe        4.0         0.0     256708.0   \n",
       "204660 2022-08-31     Zimbabwe       18.0         3.0     256726.0   \n",
       "204661 2022-09-01     Zimbabwe       12.0         0.0     256738.0   \n",
       "204662 2022-09-02     Zimbabwe        6.0         0.0     256744.0   \n",
       "\n",
       "        total_deaths  weekly_cases  weekly_deaths  biweekly_cases  \\\n",
       "40               5.0         164.0            3.0           246.0   \n",
       "41               7.0         185.0            3.0           265.0   \n",
       "42               7.0         223.0            3.0           297.0   \n",
       "43              11.0         201.0            7.0           325.0   \n",
       "44              14.0         231.0           10.0           349.0   \n",
       "...              ...           ...            ...             ...   \n",
       "204658        5593.0          76.0            1.0           160.0   \n",
       "204659        5593.0          80.0            1.0           147.0   \n",
       "204660        5596.0          98.0            4.0           161.0   \n",
       "204661        5596.0          63.0            3.0           159.0   \n",
       "204662        5596.0          62.0            3.0           148.0   \n",
       "\n",
       "        biweekly_deaths  \n",
       "40                  5.0  \n",
       "41                  7.0  \n",
       "42                  6.0  \n",
       "43                 10.0  \n",
       "44                 13.0  \n",
       "...                 ...  \n",
       "204658              5.0  \n",
       "204659              5.0  \n",
       "204660              8.0  \n",
       "204661              7.0  \n",
       "204662              7.0  \n",
       "\n",
       "[182533 rows x 10 columns]"
      ]
     },
     "execution_count": 96,
     "metadata": {},
     "output_type": "execute_result"
    }
   ],
   "source": [
    "df1"
   ]
  },
  {
   "cell_type": "code",
   "execution_count": 98,
   "id": "c8735b01",
   "metadata": {},
   "outputs": [
    {
     "name": "stderr",
     "output_type": "stream",
     "text": [
      "C:\\Users\\PC\\AppData\\Local\\Temp\\ipykernel_4104\\3039516898.py:1: FutureWarning: Dropping of nuisance columns in DataFrame reductions (with 'numeric_only=None') is deprecated; in a future version this will raise TypeError.  Select only valid columns before calling the reduction.\n",
      "  df1.std()\n"
     ]
    },
    {
     "data": {
      "text/plain": [
       "date               254 days 06:05:19.573679484\n",
       "new_cases                         91869.387462\n",
       "new_deaths                          757.497087\n",
       "total_cases                    26762587.178137\n",
       "total_deaths                     370448.284795\n",
       "weekly_cases                     626807.382169\n",
       "weekly_deaths                      5183.326851\n",
       "biweekly_cases                  1246392.755678\n",
       "biweekly_deaths                   10347.126296\n",
       "dtype: object"
      ]
     },
     "execution_count": 98,
     "metadata": {},
     "output_type": "execute_result"
    }
   ],
   "source": [
    "df1.std()"
   ]
  },
  {
   "cell_type": "code",
   "execution_count": 99,
   "id": "1c9acb3d",
   "metadata": {},
   "outputs": [
    {
     "data": {
      "text/plain": [
       "(182533, 10)"
      ]
     },
     "execution_count": 99,
     "metadata": {},
     "output_type": "execute_result"
    }
   ],
   "source": [
    "df1.shape"
   ]
  },
  {
   "cell_type": "code",
   "execution_count": 100,
   "id": "7a465afd",
   "metadata": {},
   "outputs": [
    {
     "data": {
      "text/plain": [
       "Index(['date', 'location', 'new_cases', 'new_deaths', 'total_cases',\n",
       "       'total_deaths', 'weekly_cases', 'weekly_deaths', 'biweekly_cases',\n",
       "       'biweekly_deaths'],\n",
       "      dtype='object')"
      ]
     },
     "execution_count": 100,
     "metadata": {},
     "output_type": "execute_result"
    }
   ],
   "source": [
    "df1.columns"
   ]
  },
  {
   "cell_type": "code",
   "execution_count": 101,
   "id": "59a61bea",
   "metadata": {},
   "outputs": [
    {
     "data": {
      "text/plain": [
       "Int64Index([    40,     41,     42,     43,     44,     45,     46,     47,\n",
       "                48,     49,\n",
       "            ...\n",
       "            204653, 204654, 204655, 204656, 204657, 204658, 204659, 204660,\n",
       "            204661, 204662],\n",
       "           dtype='int64', length=182533)"
      ]
     },
     "execution_count": 101,
     "metadata": {},
     "output_type": "execute_result"
    }
   ],
   "source": [
    "df1.index"
   ]
  },
  {
   "cell_type": "markdown",
   "id": "61fe20a8",
   "metadata": {},
   "source": [
    "#plotting"
   ]
  },
  {
   "cell_type": "code",
   "execution_count": 105,
   "id": "b8c2f3f8",
   "metadata": {},
   "outputs": [
    {
     "data": {
      "text/html": [
       "<div>\n",
       "<style scoped>\n",
       "    .dataframe tbody tr th:only-of-type {\n",
       "        vertical-align: middle;\n",
       "    }\n",
       "\n",
       "    .dataframe tbody tr th {\n",
       "        vertical-align: top;\n",
       "    }\n",
       "\n",
       "    .dataframe thead th {\n",
       "        text-align: right;\n",
       "    }\n",
       "</style>\n",
       "<table border=\"1\" class=\"dataframe\">\n",
       "  <thead>\n",
       "    <tr style=\"text-align: right;\">\n",
       "      <th></th>\n",
       "      <th>new_cases</th>\n",
       "      <th>new_deaths</th>\n",
       "      <th>total_cases</th>\n",
       "      <th>total_deaths</th>\n",
       "      <th>weekly_cases</th>\n",
       "      <th>weekly_deaths</th>\n",
       "      <th>biweekly_cases</th>\n",
       "      <th>biweekly_deaths</th>\n",
       "    </tr>\n",
       "  </thead>\n",
       "  <tbody>\n",
       "    <tr>\n",
       "      <th>new_cases</th>\n",
       "      <td>1.000000</td>\n",
       "      <td>0.643798</td>\n",
       "      <td>0.724584</td>\n",
       "      <td>0.730275</td>\n",
       "      <td>0.973767</td>\n",
       "      <td>0.631424</td>\n",
       "      <td>0.962354</td>\n",
       "      <td>0.628033</td>\n",
       "    </tr>\n",
       "    <tr>\n",
       "      <th>new_deaths</th>\n",
       "      <td>0.643798</td>\n",
       "      <td>1.000000</td>\n",
       "      <td>0.493641</td>\n",
       "      <td>0.649901</td>\n",
       "      <td>0.638788</td>\n",
       "      <td>0.977017</td>\n",
       "      <td>0.642594</td>\n",
       "      <td>0.973254</td>\n",
       "    </tr>\n",
       "    <tr>\n",
       "      <th>total_cases</th>\n",
       "      <td>0.724584</td>\n",
       "      <td>0.493641</td>\n",
       "      <td>1.000000</td>\n",
       "      <td>0.938576</td>\n",
       "      <td>0.748428</td>\n",
       "      <td>0.509281</td>\n",
       "      <td>0.758645</td>\n",
       "      <td>0.515821</td>\n",
       "    </tr>\n",
       "    <tr>\n",
       "      <th>total_deaths</th>\n",
       "      <td>0.730275</td>\n",
       "      <td>0.649901</td>\n",
       "      <td>0.938576</td>\n",
       "      <td>1.000000</td>\n",
       "      <td>0.749779</td>\n",
       "      <td>0.669280</td>\n",
       "      <td>0.754889</td>\n",
       "      <td>0.676161</td>\n",
       "    </tr>\n",
       "    <tr>\n",
       "      <th>weekly_cases</th>\n",
       "      <td>0.973767</td>\n",
       "      <td>0.638788</td>\n",
       "      <td>0.748428</td>\n",
       "      <td>0.749779</td>\n",
       "      <td>1.000000</td>\n",
       "      <td>0.650531</td>\n",
       "      <td>0.995300</td>\n",
       "      <td>0.647354</td>\n",
       "    </tr>\n",
       "    <tr>\n",
       "      <th>weekly_deaths</th>\n",
       "      <td>0.631424</td>\n",
       "      <td>0.977017</td>\n",
       "      <td>0.509281</td>\n",
       "      <td>0.669280</td>\n",
       "      <td>0.650531</td>\n",
       "      <td>1.000000</td>\n",
       "      <td>0.655712</td>\n",
       "      <td>0.998240</td>\n",
       "    </tr>\n",
       "    <tr>\n",
       "      <th>biweekly_cases</th>\n",
       "      <td>0.962354</td>\n",
       "      <td>0.642594</td>\n",
       "      <td>0.758645</td>\n",
       "      <td>0.754889</td>\n",
       "      <td>0.995300</td>\n",
       "      <td>0.655712</td>\n",
       "      <td>1.000000</td>\n",
       "      <td>0.653683</td>\n",
       "    </tr>\n",
       "    <tr>\n",
       "      <th>biweekly_deaths</th>\n",
       "      <td>0.628033</td>\n",
       "      <td>0.973254</td>\n",
       "      <td>0.515821</td>\n",
       "      <td>0.676161</td>\n",
       "      <td>0.647354</td>\n",
       "      <td>0.998240</td>\n",
       "      <td>0.653683</td>\n",
       "      <td>1.000000</td>\n",
       "    </tr>\n",
       "  </tbody>\n",
       "</table>\n",
       "</div>"
      ],
      "text/plain": [
       "                 new_cases  new_deaths  total_cases  total_deaths  \\\n",
       "new_cases         1.000000    0.643798     0.724584      0.730275   \n",
       "new_deaths        0.643798    1.000000     0.493641      0.649901   \n",
       "total_cases       0.724584    0.493641     1.000000      0.938576   \n",
       "total_deaths      0.730275    0.649901     0.938576      1.000000   \n",
       "weekly_cases      0.973767    0.638788     0.748428      0.749779   \n",
       "weekly_deaths     0.631424    0.977017     0.509281      0.669280   \n",
       "biweekly_cases    0.962354    0.642594     0.758645      0.754889   \n",
       "biweekly_deaths   0.628033    0.973254     0.515821      0.676161   \n",
       "\n",
       "                 weekly_cases  weekly_deaths  biweekly_cases  biweekly_deaths  \n",
       "new_cases            0.973767       0.631424        0.962354         0.628033  \n",
       "new_deaths           0.638788       0.977017        0.642594         0.973254  \n",
       "total_cases          0.748428       0.509281        0.758645         0.515821  \n",
       "total_deaths         0.749779       0.669280        0.754889         0.676161  \n",
       "weekly_cases         1.000000       0.650531        0.995300         0.647354  \n",
       "weekly_deaths        0.650531       1.000000        0.655712         0.998240  \n",
       "biweekly_cases       0.995300       0.655712        1.000000         0.653683  \n",
       "biweekly_deaths      0.647354       0.998240        0.653683         1.000000  "
      ]
     },
     "execution_count": 105,
     "metadata": {},
     "output_type": "execute_result"
    }
   ],
   "source": [
    "df1.corr()"
   ]
  },
  {
   "cell_type": "code",
   "execution_count": 106,
   "id": "e2b6de13",
   "metadata": {},
   "outputs": [
    {
     "name": "stdout",
     "output_type": "stream",
     "text": [
      "<class 'pandas.core.frame.DataFrame'>\n",
      "Int64Index: 182533 entries, 40 to 204662\n",
      "Data columns (total 10 columns):\n",
      " #   Column           Non-Null Count   Dtype         \n",
      "---  ------           --------------   -----         \n",
      " 0   date             182533 non-null  datetime64[ns]\n",
      " 1   location         182533 non-null  object        \n",
      " 2   new_cases        182533 non-null  float64       \n",
      " 3   new_deaths       182533 non-null  float64       \n",
      " 4   total_cases      182533 non-null  float64       \n",
      " 5   total_deaths     182533 non-null  float64       \n",
      " 6   weekly_cases     182533 non-null  float64       \n",
      " 7   weekly_deaths    182533 non-null  float64       \n",
      " 8   biweekly_cases   182533 non-null  float64       \n",
      " 9   biweekly_deaths  182533 non-null  float64       \n",
      "dtypes: datetime64[ns](1), float64(8), object(1)\n",
      "memory usage: 15.3+ MB\n"
     ]
    }
   ],
   "source": [
    "df1.info()"
   ]
  },
  {
   "cell_type": "code",
   "execution_count": 108,
   "id": "3be6e291",
   "metadata": {},
   "outputs": [
    {
     "data": {
      "image/png": "[encoded data removed]",
      "text/plain": [
       "<Figure size 432x288 with 1 Axes>"
      ]
     },
     "metadata": {
      "needs_background": "light"
     },
     "output_type": "display_data"
    }
   ],
   "source": [
    "df1.plot(kind = \"scatter\", x = \"new_cases\", y = \"new_deaths\")\n",
    "plt.show()"
   ]
  },
  {
   "cell_type": "code",
   "execution_count": 109,
   "id": "b506f805",
   "metadata": {},
   "outputs": [
    {
     "data": {
      "image/png": "[encoded data removed]",
      "text/plain": [
       "<Figure size 432x288 with 1 Axes>"
      ]
     },
     "metadata": {
      "needs_background": "light"
     },
     "output_type": "display_data"
    }
   ],
   "source": [
    "df1.plot(kind = \"hist\", x = \"new_cases\", y = \"new_deaths\")\n",
    "plt.show()"
   ]
  },
  {
   "cell_type": "code",
   "execution_count": 112,
   "id": "a968d272",
   "metadata": {},
   "outputs": [
    {
     "data": {
      "image/png": "[encoded data removed]",
      "text/plain": [
       "<Figure size 432x288 with 1 Axes>"
      ]
     },
     "metadata": {
      "needs_background": "light"
     },
     "output_type": "display_data"
    }
   ],
   "source": [
    "df1.plot(kind = \"scatter\", x = \"total_cases\", y = \"new_cases\")\n",
    "plt.show()"
   ]
  },
  {
   "cell_type": "code",
   "execution_count": 113,
   "id": "7f9a5675",
   "metadata": {},
   "outputs": [
    {
     "data": {
      "image/png": "[encoded data removed]",
      "text/plain": [
       "<Figure size 432x288 with 1 Axes>"
      ]
     },
     "metadata": {
      "needs_background": "light"
     },
     "output_type": "display_data"
    }
   ],
   "source": [
    "df1.plot(kind = \"hist\", x = \"total_cases\", y = \"new_cases\")\n",
    "plt.show()"
   ]
  },
  {
   "cell_type": "code",
   "execution_count": 114,
   "id": "768a2ccd",
   "metadata": {},
   "outputs": [
    {
     "data": {
      "image/png": "[encoded data removed]",
      "text/plain": [
       "<Figure size 432x288 with 1 Axes>"
      ]
     },
     "metadata": {
      "needs_background": "light"
     },
     "output_type": "display_data"
    }
   ],
   "source": [
    "df1.plot(kind = \"scatter\", x = \"total_cases\", y = \"new_deaths\")\n",
    "plt.show()"
   ]
  },
  {
   "cell_type": "code",
   "execution_count": 116,
   "id": "c29d3ffa",
   "metadata": {},
   "outputs": [
    {
     "data": {
      "image/png": "[encoded data removed]",
      "text/plain": [
       "<Figure size 432x288 with 1 Axes>"
      ]
     },
     "metadata": {
      "needs_background": "light"
     },
     "output_type": "display_data"
    }
   ],
   "source": [
    "df1.plot(kind = \"scatter\", x = \"total_cases\", y = \"total_deaths\")\n",
    "plt.show()"
   ]
  },
  {
   "cell_type": "code",
   "execution_count": 118,
   "id": "7aaecd7f",
   "metadata": {},
   "outputs": [
    {
     "data": {
      "image/png": "[encoded data removed]",
      "text/plain": [
       "<Figure size 432x288 with 1 Axes>"
      ]
     },
     "metadata": {
      "needs_background": "light"
     },
     "output_type": "display_data"
    }
   ],
   "source": [
    "df1.plot(kind = \"scatter\", x = \"total_cases\", y = \"weekly_cases\")\n",
    "plt.show()"
   ]
  },
  {
   "cell_type": "code",
   "execution_count": 119,
   "id": "af84e982",
   "metadata": {},
   "outputs": [
    {
     "data": {
      "image/png": "[encoded data removed]",
      "text/plain": [
       "<Figure size 432x288 with 1 Axes>"
      ]
     },
     "metadata": {
      "needs_background": "light"
     },
     "output_type": "display_data"
    }
   ],
   "source": [
    "df1.plot(kind = \"scatter\", x = \"total_cases\", y = \"weekly_cases\")\n",
    "plt.show()"
   ]
  },
  {
   "cell_type": "code",
   "execution_count": 120,
   "id": "ab629705",
   "metadata": {},
   "outputs": [
    {
     "data": {
      "image/png": "[encoded data removed]",
      "text/plain": [
       "<Figure size 432x288 with 1 Axes>"
      ]
     },
     "metadata": {
      "needs_background": "light"
     },
     "output_type": "display_data"
    }
   ],
   "source": [
    "\n",
    "df1.plot(kind = \"scatter\", x = \"total_cases\", y = \"weekly_deaths\")\n",
    "plt.show()"
   ]
  },
  {
   "cell_type": "code",
   "execution_count": 123,
   "id": "69ed6a15",
   "metadata": {},
   "outputs": [
    {
     "data": {
      "image/png": "[encoded data removed]",
      "text/plain": [
       "<Figure size 432x288 with 1 Axes>"
      ]
     },
     "metadata": {
      "needs_background": "light"
     },
     "output_type": "display_data"
    }
   ],
   "source": [
    "df1.plot(kind = \"scatter\", x = \"new_cases\", y = \"weekly_deaths\")\n",
    "plt.show()"
   ]
  },
  {
   "cell_type": "code",
   "execution_count": 124,
   "id": "2f6b8d5d",
   "metadata": {},
   "outputs": [
    {
     "data": {
      "image/png": "[encoded data removed]",
      "text/plain": [
       "<Figure size 432x288 with 1 Axes>"
      ]
     },
     "metadata": {
      "needs_background": "light"
     },
     "output_type": "display_data"
    }
   ],
   "source": [
    "df1.plot(kind = \"scatter\", x = \"new_deaths\", y = \"weekly_deaths\")\n",
    "plt.show()"
   ]
  },
  {
   "cell_type": "code",
   "execution_count": 125,
   "id": "5dd22427",
   "metadata": {},
   "outputs": [
    {
     "data": {
      "image/png": "[encoded data removed]",
      "text/plain": [
       "<Figure size 432x288 with 1 Axes>"
      ]
     },
     "metadata": {
      "needs_background": "light"
     },
     "output_type": "display_data"
    }
   ],
   "source": [
    "df1.plot(kind = \"scatter\", x = \"new_deaths\", y = \"weekly_deaths\")\n",
    "plt.show()"
   ]
  },
  {
   "cell_type": "code",
   "execution_count": 126,
   "id": "1062e043",
   "metadata": {},
   "outputs": [
    {
     "data": {
      "image/png": "[encoded data removed]",
      "text/plain": [
       "<Figure size 432x288 with 1 Axes>"
      ]
     },
     "metadata": {
      "needs_background": "light"
     },
     "output_type": "display_data"
    }
   ],
   "source": [
    "df1.plot(kind = \"scatter\", x = \"new_cases\", y = \"biweekly_cases\")\n",
    "plt.show()"
   ]
  },
  {
   "cell_type": "code",
   "execution_count": 127,
   "id": "60a461eb",
   "metadata": {},
   "outputs": [
    {
     "data": {
      "image/png": "[encoded data removed]",
      "text/plain": [
       "<Figure size 432x288 with 1 Axes>"
      ]
     },
     "metadata": {
      "needs_background": "light"
     },
     "output_type": "display_data"
    }
   ],
   "source": [
    "df1.plot(kind = \"scatter\", x = \"new_deaths\", y = \"biweekly_cases\")\n",
    "plt.show()"
   ]
  },
  {
   "cell_type": "code",
   "execution_count": 129,
   "id": "4cce2269",
   "metadata": {},
   "outputs": [
    {
     "data": {
      "image/png": "[encoded data removed]",
      "text/plain": [
       "<Figure size 432x288 with 1 Axes>"
      ]
     },
     "metadata": {
      "needs_background": "light"
     },
     "output_type": "display_data"
    }
   ],
   "source": [
    "df1.plot(kind = \"scatter\", x = \"date\", y = \"new_cases\")\n",
    "plt.show()"
   ]
  },
  {
   "cell_type": "code",
   "execution_count": 130,
   "id": "0759b256",
   "metadata": {},
   "outputs": [
    {
     "data": {
      "text/plain": [
       "<bound method IndexOpsMixin.nunique of 40       2020-04-04\n",
       "41       2020-04-05\n",
       "42       2020-04-06\n",
       "43       2020-04-07\n",
       "44       2020-04-08\n",
       "            ...    \n",
       "204658   2022-08-29\n",
       "204659   2022-08-30\n",
       "204660   2022-08-31\n",
       "204661   2022-09-01\n",
       "204662   2022-09-02\n",
       "Name: date, Length: 182533, dtype: datetime64[ns]>"
      ]
     },
     "execution_count": 130,
     "metadata": {},
     "output_type": "execute_result"
    }
   ],
   "source": [
    "df1[\"date\"].nunique"
   ]
  },
  {
   "cell_type": "code",
   "execution_count": 131,
   "id": "ce52a464",
   "metadata": {},
   "outputs": [
    {
     "data": {
      "image/png": "[encoded data removed]",
      "text/plain": [
       "<Figure size 432x288 with 1 Axes>"
      ]
     },
     "metadata": {
      "needs_background": "light"
     },
     "output_type": "display_data"
    }
   ],
   "source": [
    "df1.plot(kind = \"scatter\", x = \"date\", y = \"new_deaths\")\n",
    "plt.show()"
   ]
  },
  {
   "cell_type": "code",
   "execution_count": 132,
   "id": "1c8d0e32",
   "metadata": {},
   "outputs": [
    {
     "data": {
      "image/png": "[encoded data removed]",
      "text/plain": [
       "<Figure size 432x288 with 1 Axes>"
      ]
     },
     "metadata": {
      "needs_background": "light"
     },
     "output_type": "display_data"
    }
   ],
   "source": [
    "df1.plot(kind = \"scatter\", x = \"date\", y = \"total_cases\")\n",
    "plt.show()"
   ]
  },
  {
   "cell_type": "code",
   "execution_count": 133,
   "id": "1b10fb24",
   "metadata": {},
   "outputs": [
    {
     "data": {
      "image/png": "[encoded data removed]",
      "text/plain": [
       "<Figure size 432x288 with 1 Axes>"
      ]
     },
     "metadata": {
      "needs_background": "light"
     },
     "output_type": "display_data"
    }
   ],
   "source": [
    "df1.plot(kind = \"scatter\", x = \"date\", y = \"total_deaths\")\n",
    "plt.show()"
   ]
  },
  {
   "cell_type": "code",
   "execution_count": 136,
   "id": "deb21c10",
   "metadata": {},
   "outputs": [
    {
     "data": {
      "image/png": "[encoded data removed]",
      "text/plain": [
       "<Figure size 432x288 with 1 Axes>"
      ]
     },
     "metadata": {
      "needs_background": "light"
     },
     "output_type": "display_data"
    }
   ],
   "source": [
    "df1.plot(kind = \"scatter\", x = \"location\", y = \"total_cases\")\n",
    "plt.show()"
   ]
  },
  {
   "cell_type": "code",
   "execution_count": null,
   "id": "e77398b3",
   "metadata": {},
   "outputs": [],
   "source": []
  }
 ],
 "metadata": {
  "kernelspec": {
   "display_name": "Python 3 (ipykernel)",
   "language": "python",
   "name": "python3"
  },
  "language_info": {
   "codemirror_mode": {
    "name": "ipython",
    "version": 3
   },
   "file_extension": ".py",
   "mimetype": "text/x-python",
   "name": "python",
   "nbconvert_exporter": "python",
   "pygments_lexer": "ipython3",
   "version": "3.9.12"
  }
 },
 "nbformat": 4,
 "nbformat_minor": 5
}
