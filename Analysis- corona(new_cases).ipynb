{
 "cells": [
  {
   "cell_type": "code",
   "execution_count": 3,
   "id": "c155e8af",
   "metadata": {},
   "outputs": [],
   "source": [
    "import pandas as pd\n",
    "import numpy as np\n",
    "import matplotlib.pyplot as plt"
   ]
  },
  {
   "cell_type": "code",
   "execution_count": 5,
   "id": "805f7765",
   "metadata": {},
   "outputs": [
    {
     "data": {
      "text/html": [
       "<div>\n",
       "<style scoped>\n",
       "    .dataframe tbody tr th:only-of-type {\n",
       "        vertical-align: middle;\n",
       "    }\n",
       "\n",
       "    .dataframe tbody tr th {\n",
       "        vertical-align: top;\n",
       "    }\n",
       "\n",
       "    .dataframe thead th {\n",
       "        text-align: right;\n",
       "    }\n",
       "</style>\n",
       "<table border=\"1\" class=\"dataframe\">\n",
       "  <thead>\n",
       "    <tr style=\"text-align: right;\">\n",
       "      <th></th>\n",
       "      <th>date</th>\n",
       "      <th>World</th>\n",
       "      <th>Afghanistan</th>\n",
       "      <th>Africa</th>\n",
       "      <th>Albania</th>\n",
       "      <th>Algeria</th>\n",
       "      <th>Andorra</th>\n",
       "      <th>Angola</th>\n",
       "      <th>Anguilla</th>\n",
       "      <th>Antigua and Barbuda</th>\n",
       "      <th>...</th>\n",
       "      <th>Uruguay</th>\n",
       "      <th>Uzbekistan</th>\n",
       "      <th>Vanuatu</th>\n",
       "      <th>Vatican</th>\n",
       "      <th>Venezuela</th>\n",
       "      <th>Vietnam</th>\n",
       "      <th>Wallis and Futuna</th>\n",
       "      <th>Yemen</th>\n",
       "      <th>Zambia</th>\n",
       "      <th>Zimbabwe</th>\n",
       "    </tr>\n",
       "  </thead>\n",
       "  <tbody>\n",
       "    <tr>\n",
       "      <th>0</th>\n",
       "      <td>2020-01-22</td>\n",
       "      <td>0.0</td>\n",
       "      <td>NaN</td>\n",
       "      <td>NaN</td>\n",
       "      <td>NaN</td>\n",
       "      <td>NaN</td>\n",
       "      <td>NaN</td>\n",
       "      <td>NaN</td>\n",
       "      <td>NaN</td>\n",
       "      <td>NaN</td>\n",
       "      <td>...</td>\n",
       "      <td>NaN</td>\n",
       "      <td>NaN</td>\n",
       "      <td>NaN</td>\n",
       "      <td>NaN</td>\n",
       "      <td>NaN</td>\n",
       "      <td>NaN</td>\n",
       "      <td>NaN</td>\n",
       "      <td>NaN</td>\n",
       "      <td>NaN</td>\n",
       "      <td>NaN</td>\n",
       "    </tr>\n",
       "    <tr>\n",
       "      <th>1</th>\n",
       "      <td>2020-01-23</td>\n",
       "      <td>100.0</td>\n",
       "      <td>NaN</td>\n",
       "      <td>NaN</td>\n",
       "      <td>NaN</td>\n",
       "      <td>NaN</td>\n",
       "      <td>NaN</td>\n",
       "      <td>NaN</td>\n",
       "      <td>NaN</td>\n",
       "      <td>NaN</td>\n",
       "      <td>...</td>\n",
       "      <td>NaN</td>\n",
       "      <td>NaN</td>\n",
       "      <td>NaN</td>\n",
       "      <td>NaN</td>\n",
       "      <td>NaN</td>\n",
       "      <td>2.0</td>\n",
       "      <td>NaN</td>\n",
       "      <td>NaN</td>\n",
       "      <td>NaN</td>\n",
       "      <td>NaN</td>\n",
       "    </tr>\n",
       "    <tr>\n",
       "      <th>2</th>\n",
       "      <td>2020-01-24</td>\n",
       "      <td>287.0</td>\n",
       "      <td>NaN</td>\n",
       "      <td>NaN</td>\n",
       "      <td>NaN</td>\n",
       "      <td>NaN</td>\n",
       "      <td>NaN</td>\n",
       "      <td>NaN</td>\n",
       "      <td>NaN</td>\n",
       "      <td>NaN</td>\n",
       "      <td>...</td>\n",
       "      <td>NaN</td>\n",
       "      <td>NaN</td>\n",
       "      <td>NaN</td>\n",
       "      <td>NaN</td>\n",
       "      <td>NaN</td>\n",
       "      <td>0.0</td>\n",
       "      <td>NaN</td>\n",
       "      <td>NaN</td>\n",
       "      <td>NaN</td>\n",
       "      <td>NaN</td>\n",
       "    </tr>\n",
       "    <tr>\n",
       "      <th>3</th>\n",
       "      <td>2020-01-25</td>\n",
       "      <td>493.0</td>\n",
       "      <td>NaN</td>\n",
       "      <td>NaN</td>\n",
       "      <td>NaN</td>\n",
       "      <td>NaN</td>\n",
       "      <td>NaN</td>\n",
       "      <td>NaN</td>\n",
       "      <td>NaN</td>\n",
       "      <td>NaN</td>\n",
       "      <td>...</td>\n",
       "      <td>NaN</td>\n",
       "      <td>NaN</td>\n",
       "      <td>NaN</td>\n",
       "      <td>NaN</td>\n",
       "      <td>NaN</td>\n",
       "      <td>0.0</td>\n",
       "      <td>NaN</td>\n",
       "      <td>NaN</td>\n",
       "      <td>NaN</td>\n",
       "      <td>NaN</td>\n",
       "    </tr>\n",
       "    <tr>\n",
       "      <th>4</th>\n",
       "      <td>2020-01-26</td>\n",
       "      <td>683.0</td>\n",
       "      <td>NaN</td>\n",
       "      <td>NaN</td>\n",
       "      <td>NaN</td>\n",
       "      <td>NaN</td>\n",
       "      <td>NaN</td>\n",
       "      <td>NaN</td>\n",
       "      <td>NaN</td>\n",
       "      <td>NaN</td>\n",
       "      <td>...</td>\n",
       "      <td>NaN</td>\n",
       "      <td>NaN</td>\n",
       "      <td>NaN</td>\n",
       "      <td>NaN</td>\n",
       "      <td>NaN</td>\n",
       "      <td>0.0</td>\n",
       "      <td>NaN</td>\n",
       "      <td>NaN</td>\n",
       "      <td>NaN</td>\n",
       "      <td>NaN</td>\n",
       "    </tr>\n",
       "    <tr>\n",
       "      <th>...</th>\n",
       "      <td>...</td>\n",
       "      <td>...</td>\n",
       "      <td>...</td>\n",
       "      <td>...</td>\n",
       "      <td>...</td>\n",
       "      <td>...</td>\n",
       "      <td>...</td>\n",
       "      <td>...</td>\n",
       "      <td>...</td>\n",
       "      <td>...</td>\n",
       "      <td>...</td>\n",
       "      <td>...</td>\n",
       "      <td>...</td>\n",
       "      <td>...</td>\n",
       "      <td>...</td>\n",
       "      <td>...</td>\n",
       "      <td>...</td>\n",
       "      <td>...</td>\n",
       "      <td>...</td>\n",
       "      <td>...</td>\n",
       "      <td>...</td>\n",
       "    </tr>\n",
       "    <tr>\n",
       "      <th>950</th>\n",
       "      <td>2022-08-29</td>\n",
       "      <td>594393.0</td>\n",
       "      <td>443.0</td>\n",
       "      <td>976.0</td>\n",
       "      <td>56.0</td>\n",
       "      <td>41.0</td>\n",
       "      <td>0.0</td>\n",
       "      <td>0.0</td>\n",
       "      <td>32.0</td>\n",
       "      <td>0.0</td>\n",
       "      <td>...</td>\n",
       "      <td>1855.0</td>\n",
       "      <td>0.0</td>\n",
       "      <td>9.0</td>\n",
       "      <td>0.0</td>\n",
       "      <td>29.0</td>\n",
       "      <td>2409.0</td>\n",
       "      <td>0.0</td>\n",
       "      <td>0.0</td>\n",
       "      <td>112.0</td>\n",
       "      <td>5.0</td>\n",
       "    </tr>\n",
       "    <tr>\n",
       "      <th>951</th>\n",
       "      <td>2022-08-30</td>\n",
       "      <td>689291.0</td>\n",
       "      <td>98.0</td>\n",
       "      <td>3630.0</td>\n",
       "      <td>446.0</td>\n",
       "      <td>37.0</td>\n",
       "      <td>0.0</td>\n",
       "      <td>0.0</td>\n",
       "      <td>0.0</td>\n",
       "      <td>25.0</td>\n",
       "      <td>...</td>\n",
       "      <td>NaN</td>\n",
       "      <td>41.0</td>\n",
       "      <td>0.0</td>\n",
       "      <td>0.0</td>\n",
       "      <td>0.0</td>\n",
       "      <td>3241.0</td>\n",
       "      <td>0.0</td>\n",
       "      <td>1.0</td>\n",
       "      <td>NaN</td>\n",
       "      <td>4.0</td>\n",
       "    </tr>\n",
       "    <tr>\n",
       "      <th>952</th>\n",
       "      <td>2022-08-31</td>\n",
       "      <td>791151.0</td>\n",
       "      <td>246.0</td>\n",
       "      <td>1346.0</td>\n",
       "      <td>335.0</td>\n",
       "      <td>32.0</td>\n",
       "      <td>0.0</td>\n",
       "      <td>0.0</td>\n",
       "      <td>0.0</td>\n",
       "      <td>0.0</td>\n",
       "      <td>...</td>\n",
       "      <td>NaN</td>\n",
       "      <td>17.0</td>\n",
       "      <td>22.0</td>\n",
       "      <td>0.0</td>\n",
       "      <td>227.0</td>\n",
       "      <td>2727.0</td>\n",
       "      <td>0.0</td>\n",
       "      <td>0.0</td>\n",
       "      <td>NaN</td>\n",
       "      <td>18.0</td>\n",
       "    </tr>\n",
       "    <tr>\n",
       "      <th>953</th>\n",
       "      <td>2022-09-01</td>\n",
       "      <td>657370.0</td>\n",
       "      <td>270.0</td>\n",
       "      <td>840.0</td>\n",
       "      <td>263.0</td>\n",
       "      <td>55.0</td>\n",
       "      <td>0.0</td>\n",
       "      <td>0.0</td>\n",
       "      <td>0.0</td>\n",
       "      <td>0.0</td>\n",
       "      <td>...</td>\n",
       "      <td>NaN</td>\n",
       "      <td>14.0</td>\n",
       "      <td>10.0</td>\n",
       "      <td>0.0</td>\n",
       "      <td>NaN</td>\n",
       "      <td>2680.0</td>\n",
       "      <td>0.0</td>\n",
       "      <td>0.0</td>\n",
       "      <td>NaN</td>\n",
       "      <td>12.0</td>\n",
       "    </tr>\n",
       "    <tr>\n",
       "      <th>954</th>\n",
       "      <td>2022-09-02</td>\n",
       "      <td>670477.0</td>\n",
       "      <td>NaN</td>\n",
       "      <td>881.0</td>\n",
       "      <td>247.0</td>\n",
       "      <td>46.0</td>\n",
       "      <td>0.0</td>\n",
       "      <td>0.0</td>\n",
       "      <td>0.0</td>\n",
       "      <td>0.0</td>\n",
       "      <td>...</td>\n",
       "      <td>NaN</td>\n",
       "      <td>15.0</td>\n",
       "      <td>11.0</td>\n",
       "      <td>0.0</td>\n",
       "      <td>NaN</td>\n",
       "      <td>1548.0</td>\n",
       "      <td>0.0</td>\n",
       "      <td>0.0</td>\n",
       "      <td>NaN</td>\n",
       "      <td>6.0</td>\n",
       "    </tr>\n",
       "  </tbody>\n",
       "</table>\n",
       "<p>955 rows × 230 columns</p>\n",
       "</div>"
      ],
      "text/plain": [
       "           date     World  Afghanistan  Africa  Albania  Algeria  Andorra  \\\n",
       "0    2020-01-22       0.0          NaN     NaN      NaN      NaN      NaN   \n",
       "1    2020-01-23     100.0          NaN     NaN      NaN      NaN      NaN   \n",
       "2    2020-01-24     287.0          NaN     NaN      NaN      NaN      NaN   \n",
       "3    2020-01-25     493.0          NaN     NaN      NaN      NaN      NaN   \n",
       "4    2020-01-26     683.0          NaN     NaN      NaN      NaN      NaN   \n",
       "..          ...       ...          ...     ...      ...      ...      ...   \n",
       "950  2022-08-29  594393.0        443.0   976.0     56.0     41.0      0.0   \n",
       "951  2022-08-30  689291.0         98.0  3630.0    446.0     37.0      0.0   \n",
       "952  2022-08-31  791151.0        246.0  1346.0    335.0     32.0      0.0   \n",
       "953  2022-09-01  657370.0        270.0   840.0    263.0     55.0      0.0   \n",
       "954  2022-09-02  670477.0          NaN   881.0    247.0     46.0      0.0   \n",
       "\n",
       "     Angola  Anguilla  Antigua and Barbuda  ...  Uruguay  Uzbekistan  Vanuatu  \\\n",
       "0       NaN       NaN                  NaN  ...      NaN         NaN      NaN   \n",
       "1       NaN       NaN                  NaN  ...      NaN         NaN      NaN   \n",
       "2       NaN       NaN                  NaN  ...      NaN         NaN      NaN   \n",
       "3       NaN       NaN                  NaN  ...      NaN         NaN      NaN   \n",
       "4       NaN       NaN                  NaN  ...      NaN         NaN      NaN   \n",
       "..      ...       ...                  ...  ...      ...         ...      ...   \n",
       "950     0.0      32.0                  0.0  ...   1855.0         0.0      9.0   \n",
       "951     0.0       0.0                 25.0  ...      NaN        41.0      0.0   \n",
       "952     0.0       0.0                  0.0  ...      NaN        17.0     22.0   \n",
       "953     0.0       0.0                  0.0  ...      NaN        14.0     10.0   \n",
       "954     0.0       0.0                  0.0  ...      NaN        15.0     11.0   \n",
       "\n",
       "     Vatican  Venezuela  Vietnam  Wallis and Futuna  Yemen  Zambia  Zimbabwe  \n",
       "0        NaN        NaN      NaN                NaN    NaN     NaN       NaN  \n",
       "1        NaN        NaN      2.0                NaN    NaN     NaN       NaN  \n",
       "2        NaN        NaN      0.0                NaN    NaN     NaN       NaN  \n",
       "3        NaN        NaN      0.0                NaN    NaN     NaN       NaN  \n",
       "4        NaN        NaN      0.0                NaN    NaN     NaN       NaN  \n",
       "..       ...        ...      ...                ...    ...     ...       ...  \n",
       "950      0.0       29.0   2409.0                0.0    0.0   112.0       5.0  \n",
       "951      0.0        0.0   3241.0                0.0    1.0     NaN       4.0  \n",
       "952      0.0      227.0   2727.0                0.0    0.0     NaN      18.0  \n",
       "953      0.0        NaN   2680.0                0.0    0.0     NaN      12.0  \n",
       "954      0.0        NaN   1548.0                0.0    0.0     NaN       6.0  \n",
       "\n",
       "[955 rows x 230 columns]"
      ]
     },
     "execution_count": 5,
     "metadata": {},
     "output_type": "execute_result"
    }
   ],
   "source": [
    "df = pd.read_csv(\"new_cases.csv\")\n",
    "df"
   ]
  },
  {
   "cell_type": "code",
   "execution_count": 6,
   "id": "734b88b9",
   "metadata": {},
   "outputs": [
    {
     "data": {
      "text/html": [
       "<div>\n",
       "<style scoped>\n",
       "    .dataframe tbody tr th:only-of-type {\n",
       "        vertical-align: middle;\n",
       "    }\n",
       "\n",
       "    .dataframe tbody tr th {\n",
       "        vertical-align: top;\n",
       "    }\n",
       "\n",
       "    .dataframe thead th {\n",
       "        text-align: right;\n",
       "    }\n",
       "</style>\n",
       "<table border=\"1\" class=\"dataframe\">\n",
       "  <thead>\n",
       "    <tr style=\"text-align: right;\">\n",
       "      <th></th>\n",
       "      <th>date</th>\n",
       "      <th>World</th>\n",
       "      <th>Afghanistan</th>\n",
       "      <th>Africa</th>\n",
       "      <th>Albania</th>\n",
       "      <th>Algeria</th>\n",
       "      <th>Andorra</th>\n",
       "      <th>Angola</th>\n",
       "      <th>Anguilla</th>\n",
       "      <th>Antigua and Barbuda</th>\n",
       "      <th>...</th>\n",
       "      <th>Uruguay</th>\n",
       "      <th>Uzbekistan</th>\n",
       "      <th>Vanuatu</th>\n",
       "      <th>Vatican</th>\n",
       "      <th>Venezuela</th>\n",
       "      <th>Vietnam</th>\n",
       "      <th>Wallis and Futuna</th>\n",
       "      <th>Yemen</th>\n",
       "      <th>Zambia</th>\n",
       "      <th>Zimbabwe</th>\n",
       "    </tr>\n",
       "  </thead>\n",
       "  <tbody>\n",
       "    <tr>\n",
       "      <th>0</th>\n",
       "      <td>2020-01-22</td>\n",
       "      <td>0.0</td>\n",
       "      <td>NaN</td>\n",
       "      <td>NaN</td>\n",
       "      <td>NaN</td>\n",
       "      <td>NaN</td>\n",
       "      <td>NaN</td>\n",
       "      <td>NaN</td>\n",
       "      <td>NaN</td>\n",
       "      <td>NaN</td>\n",
       "      <td>...</td>\n",
       "      <td>NaN</td>\n",
       "      <td>NaN</td>\n",
       "      <td>NaN</td>\n",
       "      <td>NaN</td>\n",
       "      <td>NaN</td>\n",
       "      <td>NaN</td>\n",
       "      <td>NaN</td>\n",
       "      <td>NaN</td>\n",
       "      <td>NaN</td>\n",
       "      <td>NaN</td>\n",
       "    </tr>\n",
       "    <tr>\n",
       "      <th>1</th>\n",
       "      <td>2020-01-23</td>\n",
       "      <td>100.0</td>\n",
       "      <td>NaN</td>\n",
       "      <td>NaN</td>\n",
       "      <td>NaN</td>\n",
       "      <td>NaN</td>\n",
       "      <td>NaN</td>\n",
       "      <td>NaN</td>\n",
       "      <td>NaN</td>\n",
       "      <td>NaN</td>\n",
       "      <td>...</td>\n",
       "      <td>NaN</td>\n",
       "      <td>NaN</td>\n",
       "      <td>NaN</td>\n",
       "      <td>NaN</td>\n",
       "      <td>NaN</td>\n",
       "      <td>2.0</td>\n",
       "      <td>NaN</td>\n",
       "      <td>NaN</td>\n",
       "      <td>NaN</td>\n",
       "      <td>NaN</td>\n",
       "    </tr>\n",
       "    <tr>\n",
       "      <th>2</th>\n",
       "      <td>2020-01-24</td>\n",
       "      <td>287.0</td>\n",
       "      <td>NaN</td>\n",
       "      <td>NaN</td>\n",
       "      <td>NaN</td>\n",
       "      <td>NaN</td>\n",
       "      <td>NaN</td>\n",
       "      <td>NaN</td>\n",
       "      <td>NaN</td>\n",
       "      <td>NaN</td>\n",
       "      <td>...</td>\n",
       "      <td>NaN</td>\n",
       "      <td>NaN</td>\n",
       "      <td>NaN</td>\n",
       "      <td>NaN</td>\n",
       "      <td>NaN</td>\n",
       "      <td>0.0</td>\n",
       "      <td>NaN</td>\n",
       "      <td>NaN</td>\n",
       "      <td>NaN</td>\n",
       "      <td>NaN</td>\n",
       "    </tr>\n",
       "    <tr>\n",
       "      <th>3</th>\n",
       "      <td>2020-01-25</td>\n",
       "      <td>493.0</td>\n",
       "      <td>NaN</td>\n",
       "      <td>NaN</td>\n",
       "      <td>NaN</td>\n",
       "      <td>NaN</td>\n",
       "      <td>NaN</td>\n",
       "      <td>NaN</td>\n",
       "      <td>NaN</td>\n",
       "      <td>NaN</td>\n",
       "      <td>...</td>\n",
       "      <td>NaN</td>\n",
       "      <td>NaN</td>\n",
       "      <td>NaN</td>\n",
       "      <td>NaN</td>\n",
       "      <td>NaN</td>\n",
       "      <td>0.0</td>\n",
       "      <td>NaN</td>\n",
       "      <td>NaN</td>\n",
       "      <td>NaN</td>\n",
       "      <td>NaN</td>\n",
       "    </tr>\n",
       "    <tr>\n",
       "      <th>4</th>\n",
       "      <td>2020-01-26</td>\n",
       "      <td>683.0</td>\n",
       "      <td>NaN</td>\n",
       "      <td>NaN</td>\n",
       "      <td>NaN</td>\n",
       "      <td>NaN</td>\n",
       "      <td>NaN</td>\n",
       "      <td>NaN</td>\n",
       "      <td>NaN</td>\n",
       "      <td>NaN</td>\n",
       "      <td>...</td>\n",
       "      <td>NaN</td>\n",
       "      <td>NaN</td>\n",
       "      <td>NaN</td>\n",
       "      <td>NaN</td>\n",
       "      <td>NaN</td>\n",
       "      <td>0.0</td>\n",
       "      <td>NaN</td>\n",
       "      <td>NaN</td>\n",
       "      <td>NaN</td>\n",
       "      <td>NaN</td>\n",
       "    </tr>\n",
       "  </tbody>\n",
       "</table>\n",
       "<p>5 rows × 230 columns</p>\n",
       "</div>"
      ],
      "text/plain": [
       "         date  World  Afghanistan  Africa  Albania  Algeria  Andorra  Angola  \\\n",
       "0  2020-01-22    0.0          NaN     NaN      NaN      NaN      NaN     NaN   \n",
       "1  2020-01-23  100.0          NaN     NaN      NaN      NaN      NaN     NaN   \n",
       "2  2020-01-24  287.0          NaN     NaN      NaN      NaN      NaN     NaN   \n",
       "3  2020-01-25  493.0          NaN     NaN      NaN      NaN      NaN     NaN   \n",
       "4  2020-01-26  683.0          NaN     NaN      NaN      NaN      NaN     NaN   \n",
       "\n",
       "   Anguilla  Antigua and Barbuda  ...  Uruguay  Uzbekistan  Vanuatu  Vatican  \\\n",
       "0       NaN                  NaN  ...      NaN         NaN      NaN      NaN   \n",
       "1       NaN                  NaN  ...      NaN         NaN      NaN      NaN   \n",
       "2       NaN                  NaN  ...      NaN         NaN      NaN      NaN   \n",
       "3       NaN                  NaN  ...      NaN         NaN      NaN      NaN   \n",
       "4       NaN                  NaN  ...      NaN         NaN      NaN      NaN   \n",
       "\n",
       "   Venezuela  Vietnam  Wallis and Futuna  Yemen  Zambia  Zimbabwe  \n",
       "0        NaN      NaN                NaN    NaN     NaN       NaN  \n",
       "1        NaN      2.0                NaN    NaN     NaN       NaN  \n",
       "2        NaN      0.0                NaN    NaN     NaN       NaN  \n",
       "3        NaN      0.0                NaN    NaN     NaN       NaN  \n",
       "4        NaN      0.0                NaN    NaN     NaN       NaN  \n",
       "\n",
       "[5 rows x 230 columns]"
      ]
     },
     "execution_count": 6,
     "metadata": {},
     "output_type": "execute_result"
    }
   ],
   "source": [
    "df.head(5)"
   ]
  },
  {
   "cell_type": "code",
   "execution_count": 7,
   "id": "d0dae302",
   "metadata": {},
   "outputs": [
    {
     "data": {
      "text/html": [
       "<div>\n",
       "<style scoped>\n",
       "    .dataframe tbody tr th:only-of-type {\n",
       "        vertical-align: middle;\n",
       "    }\n",
       "\n",
       "    .dataframe tbody tr th {\n",
       "        vertical-align: top;\n",
       "    }\n",
       "\n",
       "    .dataframe thead th {\n",
       "        text-align: right;\n",
       "    }\n",
       "</style>\n",
       "<table border=\"1\" class=\"dataframe\">\n",
       "  <thead>\n",
       "    <tr style=\"text-align: right;\">\n",
       "      <th></th>\n",
       "      <th>date</th>\n",
       "      <th>World</th>\n",
       "      <th>Afghanistan</th>\n",
       "      <th>Africa</th>\n",
       "      <th>Albania</th>\n",
       "      <th>Algeria</th>\n",
       "      <th>Andorra</th>\n",
       "      <th>Angola</th>\n",
       "      <th>Anguilla</th>\n",
       "      <th>Antigua and Barbuda</th>\n",
       "      <th>...</th>\n",
       "      <th>Uruguay</th>\n",
       "      <th>Uzbekistan</th>\n",
       "      <th>Vanuatu</th>\n",
       "      <th>Vatican</th>\n",
       "      <th>Venezuela</th>\n",
       "      <th>Vietnam</th>\n",
       "      <th>Wallis and Futuna</th>\n",
       "      <th>Yemen</th>\n",
       "      <th>Zambia</th>\n",
       "      <th>Zimbabwe</th>\n",
       "    </tr>\n",
       "  </thead>\n",
       "  <tbody>\n",
       "    <tr>\n",
       "      <th>950</th>\n",
       "      <td>2022-08-29</td>\n",
       "      <td>594393.0</td>\n",
       "      <td>443.0</td>\n",
       "      <td>976.0</td>\n",
       "      <td>56.0</td>\n",
       "      <td>41.0</td>\n",
       "      <td>0.0</td>\n",
       "      <td>0.0</td>\n",
       "      <td>32.0</td>\n",
       "      <td>0.0</td>\n",
       "      <td>...</td>\n",
       "      <td>1855.0</td>\n",
       "      <td>0.0</td>\n",
       "      <td>9.0</td>\n",
       "      <td>0.0</td>\n",
       "      <td>29.0</td>\n",
       "      <td>2409.0</td>\n",
       "      <td>0.0</td>\n",
       "      <td>0.0</td>\n",
       "      <td>112.0</td>\n",
       "      <td>5.0</td>\n",
       "    </tr>\n",
       "    <tr>\n",
       "      <th>951</th>\n",
       "      <td>2022-08-30</td>\n",
       "      <td>689291.0</td>\n",
       "      <td>98.0</td>\n",
       "      <td>3630.0</td>\n",
       "      <td>446.0</td>\n",
       "      <td>37.0</td>\n",
       "      <td>0.0</td>\n",
       "      <td>0.0</td>\n",
       "      <td>0.0</td>\n",
       "      <td>25.0</td>\n",
       "      <td>...</td>\n",
       "      <td>NaN</td>\n",
       "      <td>41.0</td>\n",
       "      <td>0.0</td>\n",
       "      <td>0.0</td>\n",
       "      <td>0.0</td>\n",
       "      <td>3241.0</td>\n",
       "      <td>0.0</td>\n",
       "      <td>1.0</td>\n",
       "      <td>NaN</td>\n",
       "      <td>4.0</td>\n",
       "    </tr>\n",
       "    <tr>\n",
       "      <th>952</th>\n",
       "      <td>2022-08-31</td>\n",
       "      <td>791151.0</td>\n",
       "      <td>246.0</td>\n",
       "      <td>1346.0</td>\n",
       "      <td>335.0</td>\n",
       "      <td>32.0</td>\n",
       "      <td>0.0</td>\n",
       "      <td>0.0</td>\n",
       "      <td>0.0</td>\n",
       "      <td>0.0</td>\n",
       "      <td>...</td>\n",
       "      <td>NaN</td>\n",
       "      <td>17.0</td>\n",
       "      <td>22.0</td>\n",
       "      <td>0.0</td>\n",
       "      <td>227.0</td>\n",
       "      <td>2727.0</td>\n",
       "      <td>0.0</td>\n",
       "      <td>0.0</td>\n",
       "      <td>NaN</td>\n",
       "      <td>18.0</td>\n",
       "    </tr>\n",
       "    <tr>\n",
       "      <th>953</th>\n",
       "      <td>2022-09-01</td>\n",
       "      <td>657370.0</td>\n",
       "      <td>270.0</td>\n",
       "      <td>840.0</td>\n",
       "      <td>263.0</td>\n",
       "      <td>55.0</td>\n",
       "      <td>0.0</td>\n",
       "      <td>0.0</td>\n",
       "      <td>0.0</td>\n",
       "      <td>0.0</td>\n",
       "      <td>...</td>\n",
       "      <td>NaN</td>\n",
       "      <td>14.0</td>\n",
       "      <td>10.0</td>\n",
       "      <td>0.0</td>\n",
       "      <td>NaN</td>\n",
       "      <td>2680.0</td>\n",
       "      <td>0.0</td>\n",
       "      <td>0.0</td>\n",
       "      <td>NaN</td>\n",
       "      <td>12.0</td>\n",
       "    </tr>\n",
       "    <tr>\n",
       "      <th>954</th>\n",
       "      <td>2022-09-02</td>\n",
       "      <td>670477.0</td>\n",
       "      <td>NaN</td>\n",
       "      <td>881.0</td>\n",
       "      <td>247.0</td>\n",
       "      <td>46.0</td>\n",
       "      <td>0.0</td>\n",
       "      <td>0.0</td>\n",
       "      <td>0.0</td>\n",
       "      <td>0.0</td>\n",
       "      <td>...</td>\n",
       "      <td>NaN</td>\n",
       "      <td>15.0</td>\n",
       "      <td>11.0</td>\n",
       "      <td>0.0</td>\n",
       "      <td>NaN</td>\n",
       "      <td>1548.0</td>\n",
       "      <td>0.0</td>\n",
       "      <td>0.0</td>\n",
       "      <td>NaN</td>\n",
       "      <td>6.0</td>\n",
       "    </tr>\n",
       "  </tbody>\n",
       "</table>\n",
       "<p>5 rows × 230 columns</p>\n",
       "</div>"
      ],
      "text/plain": [
       "           date     World  Afghanistan  Africa  Albania  Algeria  Andorra  \\\n",
       "950  2022-08-29  594393.0        443.0   976.0     56.0     41.0      0.0   \n",
       "951  2022-08-30  689291.0         98.0  3630.0    446.0     37.0      0.0   \n",
       "952  2022-08-31  791151.0        246.0  1346.0    335.0     32.0      0.0   \n",
       "953  2022-09-01  657370.0        270.0   840.0    263.0     55.0      0.0   \n",
       "954  2022-09-02  670477.0          NaN   881.0    247.0     46.0      0.0   \n",
       "\n",
       "     Angola  Anguilla  Antigua and Barbuda  ...  Uruguay  Uzbekistan  Vanuatu  \\\n",
       "950     0.0      32.0                  0.0  ...   1855.0         0.0      9.0   \n",
       "951     0.0       0.0                 25.0  ...      NaN        41.0      0.0   \n",
       "952     0.0       0.0                  0.0  ...      NaN        17.0     22.0   \n",
       "953     0.0       0.0                  0.0  ...      NaN        14.0     10.0   \n",
       "954     0.0       0.0                  0.0  ...      NaN        15.0     11.0   \n",
       "\n",
       "     Vatican  Venezuela  Vietnam  Wallis and Futuna  Yemen  Zambia  Zimbabwe  \n",
       "950      0.0       29.0   2409.0                0.0    0.0   112.0       5.0  \n",
       "951      0.0        0.0   3241.0                0.0    1.0     NaN       4.0  \n",
       "952      0.0      227.0   2727.0                0.0    0.0     NaN      18.0  \n",
       "953      0.0        NaN   2680.0                0.0    0.0     NaN      12.0  \n",
       "954      0.0        NaN   1548.0                0.0    0.0     NaN       6.0  \n",
       "\n",
       "[5 rows x 230 columns]"
      ]
     },
     "execution_count": 7,
     "metadata": {},
     "output_type": "execute_result"
    }
   ],
   "source": [
    "df.tail(5)"
   ]
  },
  {
   "cell_type": "code",
   "execution_count": 8,
   "id": "aab5b3dd",
   "metadata": {},
   "outputs": [
    {
     "data": {
      "text/plain": [
       "(955, 230)"
      ]
     },
     "execution_count": 8,
     "metadata": {},
     "output_type": "execute_result"
    }
   ],
   "source": [
    "df.shape"
   ]
  },
  {
   "cell_type": "code",
   "execution_count": 9,
   "id": "4b1e6677",
   "metadata": {},
   "outputs": [
    {
     "data": {
      "text/plain": [
       "Index(['date', 'World', 'Afghanistan', 'Africa', 'Albania', 'Algeria',\n",
       "       'Andorra', 'Angola', 'Anguilla', 'Antigua and Barbuda',\n",
       "       ...\n",
       "       'Uruguay', 'Uzbekistan', 'Vanuatu', 'Vatican', 'Venezuela', 'Vietnam',\n",
       "       'Wallis and Futuna', 'Yemen', 'Zambia', 'Zimbabwe'],\n",
       "      dtype='object', length=230)"
      ]
     },
     "execution_count": 9,
     "metadata": {},
     "output_type": "execute_result"
    }
   ],
   "source": [
    "df.columns"
   ]
  },
  {
   "cell_type": "code",
   "execution_count": 10,
   "id": "95bfbfba",
   "metadata": {},
   "outputs": [
    {
     "data": {
      "text/plain": [
       "RangeIndex(start=0, stop=955, step=1)"
      ]
     },
     "execution_count": 10,
     "metadata": {},
     "output_type": "execute_result"
    }
   ],
   "source": [
    "df.index"
   ]
  },
  {
   "cell_type": "code",
   "execution_count": 11,
   "id": "5dff37f0",
   "metadata": {},
   "outputs": [
    {
     "name": "stdout",
     "output_type": "stream",
     "text": [
      "<class 'pandas.core.frame.DataFrame'>\n",
      "RangeIndex: 955 entries, 0 to 954\n",
      "Columns: 230 entries, date to Zimbabwe\n",
      "dtypes: float64(229), object(1)\n",
      "memory usage: 1.7+ MB\n"
     ]
    }
   ],
   "source": [
    "df.info()"
   ]
  },
  {
   "cell_type": "code",
   "execution_count": 12,
   "id": "f8f2db0f",
   "metadata": {},
   "outputs": [
    {
     "data": {
      "text/html": [
       "<div>\n",
       "<style scoped>\n",
       "    .dataframe tbody tr th:only-of-type {\n",
       "        vertical-align: middle;\n",
       "    }\n",
       "\n",
       "    .dataframe tbody tr th {\n",
       "        vertical-align: top;\n",
       "    }\n",
       "\n",
       "    .dataframe thead th {\n",
       "        text-align: right;\n",
       "    }\n",
       "</style>\n",
       "<table border=\"1\" class=\"dataframe\">\n",
       "  <thead>\n",
       "    <tr style=\"text-align: right;\">\n",
       "      <th></th>\n",
       "      <th>World</th>\n",
       "      <th>Afghanistan</th>\n",
       "      <th>Africa</th>\n",
       "      <th>Albania</th>\n",
       "      <th>Algeria</th>\n",
       "      <th>Andorra</th>\n",
       "      <th>Angola</th>\n",
       "      <th>Anguilla</th>\n",
       "      <th>Antigua and Barbuda</th>\n",
       "      <th>Argentina</th>\n",
       "      <th>...</th>\n",
       "      <th>Uruguay</th>\n",
       "      <th>Uzbekistan</th>\n",
       "      <th>Vanuatu</th>\n",
       "      <th>Vatican</th>\n",
       "      <th>Venezuela</th>\n",
       "      <th>Vietnam</th>\n",
       "      <th>Wallis and Futuna</th>\n",
       "      <th>Yemen</th>\n",
       "      <th>Zambia</th>\n",
       "      <th>Zimbabwe</th>\n",
       "    </tr>\n",
       "  </thead>\n",
       "  <tbody>\n",
       "    <tr>\n",
       "      <th>count</th>\n",
       "      <td>9.550000e+02</td>\n",
       "      <td>919.000000</td>\n",
       "      <td>933.000000</td>\n",
       "      <td>908.000000</td>\n",
       "      <td>921.000000</td>\n",
       "      <td>915.000000</td>\n",
       "      <td>897.000000</td>\n",
       "      <td>889.000000</td>\n",
       "      <td>902.000000</td>\n",
       "      <td>909.000000</td>\n",
       "      <td>...</td>\n",
       "      <td>899.000000</td>\n",
       "      <td>902.000000</td>\n",
       "      <td>660.000000</td>\n",
       "      <td>911.000000</td>\n",
       "      <td>901.000000</td>\n",
       "      <td>954.000000</td>\n",
       "      <td>684.000000</td>\n",
       "      <td>875.000000</td>\n",
       "      <td>895.000000</td>\n",
       "      <td>896.000000</td>\n",
       "    </tr>\n",
       "    <tr>\n",
       "      <th>mean</th>\n",
       "      <td>6.316299e+05</td>\n",
       "      <td>210.585419</td>\n",
       "      <td>13194.881029</td>\n",
       "      <td>363.284141</td>\n",
       "      <td>293.599349</td>\n",
       "      <td>50.302732</td>\n",
       "      <td>114.421405</td>\n",
       "      <td>4.316085</td>\n",
       "      <td>9.951220</td>\n",
       "      <td>10647.112211</td>\n",
       "      <td>...</td>\n",
       "      <td>1089.189099</td>\n",
       "      <td>270.321508</td>\n",
       "      <td>17.953030</td>\n",
       "      <td>0.031833</td>\n",
       "      <td>602.117647</td>\n",
       "      <td>11966.359539</td>\n",
       "      <td>1.112573</td>\n",
       "      <td>13.630857</td>\n",
       "      <td>371.868156</td>\n",
       "      <td>286.551339</td>\n",
       "    </tr>\n",
       "    <tr>\n",
       "      <th>std</th>\n",
       "      <td>6.294360e+05</td>\n",
       "      <td>359.557991</td>\n",
       "      <td>11999.563590</td>\n",
       "      <td>471.318317</td>\n",
       "      <td>348.953434</td>\n",
       "      <td>150.487469</td>\n",
       "      <td>260.419203</td>\n",
       "      <td>16.541791</td>\n",
       "      <td>35.615218</td>\n",
       "      <td>18391.849792</td>\n",
       "      <td>...</td>\n",
       "      <td>2181.496853</td>\n",
       "      <td>277.347578</td>\n",
       "      <td>62.644668</td>\n",
       "      <td>0.366265</td>\n",
       "      <td>612.042819</td>\n",
       "      <td>41805.627255</td>\n",
       "      <td>8.412005</td>\n",
       "      <td>24.981727</td>\n",
       "      <td>723.630440</td>\n",
       "      <td>760.726045</td>\n",
       "    </tr>\n",
       "    <tr>\n",
       "      <th>min</th>\n",
       "      <td>0.000000e+00</td>\n",
       "      <td>0.000000</td>\n",
       "      <td>0.000000</td>\n",
       "      <td>0.000000</td>\n",
       "      <td>0.000000</td>\n",
       "      <td>0.000000</td>\n",
       "      <td>0.000000</td>\n",
       "      <td>0.000000</td>\n",
       "      <td>0.000000</td>\n",
       "      <td>0.000000</td>\n",
       "      <td>...</td>\n",
       "      <td>0.000000</td>\n",
       "      <td>0.000000</td>\n",
       "      <td>0.000000</td>\n",
       "      <td>0.000000</td>\n",
       "      <td>0.000000</td>\n",
       "      <td>0.000000</td>\n",
       "      <td>0.000000</td>\n",
       "      <td>0.000000</td>\n",
       "      <td>0.000000</td>\n",
       "      <td>0.000000</td>\n",
       "    </tr>\n",
       "    <tr>\n",
       "      <th>25%</th>\n",
       "      <td>2.831725e+05</td>\n",
       "      <td>28.000000</td>\n",
       "      <td>4916.000000</td>\n",
       "      <td>34.750000</td>\n",
       "      <td>90.000000</td>\n",
       "      <td>0.000000</td>\n",
       "      <td>1.000000</td>\n",
       "      <td>0.000000</td>\n",
       "      <td>0.000000</td>\n",
       "      <td>802.000000</td>\n",
       "      <td>...</td>\n",
       "      <td>9.000000</td>\n",
       "      <td>47.000000</td>\n",
       "      <td>0.000000</td>\n",
       "      <td>0.000000</td>\n",
       "      <td>77.000000</td>\n",
       "      <td>2.000000</td>\n",
       "      <td>0.000000</td>\n",
       "      <td>0.000000</td>\n",
       "      <td>15.000000</td>\n",
       "      <td>12.000000</td>\n",
       "    </tr>\n",
       "    <tr>\n",
       "      <th>50%</th>\n",
       "      <td>4.970260e+05</td>\n",
       "      <td>76.000000</td>\n",
       "      <td>9594.000000</td>\n",
       "      <td>157.500000</td>\n",
       "      <td>185.000000</td>\n",
       "      <td>3.000000</td>\n",
       "      <td>46.000000</td>\n",
       "      <td>0.000000</td>\n",
       "      <td>0.000000</td>\n",
       "      <td>5376.000000</td>\n",
       "      <td>...</td>\n",
       "      <td>152.000000</td>\n",
       "      <td>190.000000</td>\n",
       "      <td>0.000000</td>\n",
       "      <td>0.000000</td>\n",
       "      <td>428.000000</td>\n",
       "      <td>88.000000</td>\n",
       "      <td>0.000000</td>\n",
       "      <td>3.000000</td>\n",
       "      <td>90.000000</td>\n",
       "      <td>52.000000</td>\n",
       "    </tr>\n",
       "    <tr>\n",
       "      <th>75%</th>\n",
       "      <td>7.011605e+05</td>\n",
       "      <td>219.500000</td>\n",
       "      <td>17315.000000</td>\n",
       "      <td>570.250000</td>\n",
       "      <td>385.000000</td>\n",
       "      <td>41.000000</td>\n",
       "      <td>131.000000</td>\n",
       "      <td>0.000000</td>\n",
       "      <td>4.000000</td>\n",
       "      <td>12141.000000</td>\n",
       "      <td>...</td>\n",
       "      <td>956.000000</td>\n",
       "      <td>401.250000</td>\n",
       "      <td>0.000000</td>\n",
       "      <td>0.000000</td>\n",
       "      <td>967.000000</td>\n",
       "      <td>7122.750000</td>\n",
       "      <td>0.000000</td>\n",
       "      <td>16.000000</td>\n",
       "      <td>325.500000</td>\n",
       "      <td>195.250000</td>\n",
       "    </tr>\n",
       "    <tr>\n",
       "      <th>max</th>\n",
       "      <td>4.081691e+06</td>\n",
       "      <td>3243.000000</td>\n",
       "      <td>60523.000000</td>\n",
       "      <td>4789.000000</td>\n",
       "      <td>2521.000000</td>\n",
       "      <td>2313.000000</td>\n",
       "      <td>5035.000000</td>\n",
       "      <td>196.000000</td>\n",
       "      <td>468.000000</td>\n",
       "      <td>139853.000000</td>\n",
       "      <td>...</td>\n",
       "      <td>13612.000000</td>\n",
       "      <td>1478.000000</td>\n",
       "      <td>616.000000</td>\n",
       "      <td>7.000000</td>\n",
       "      <td>4418.000000</td>\n",
       "      <td>454212.000000</td>\n",
       "      <td>174.000000</td>\n",
       "      <td>287.000000</td>\n",
       "      <td>5555.000000</td>\n",
       "      <td>9185.000000</td>\n",
       "    </tr>\n",
       "  </tbody>\n",
       "</table>\n",
       "<p>8 rows × 229 columns</p>\n",
       "</div>"
      ],
      "text/plain": [
       "              World  Afghanistan        Africa      Albania      Algeria  \\\n",
       "count  9.550000e+02   919.000000    933.000000   908.000000   921.000000   \n",
       "mean   6.316299e+05   210.585419  13194.881029   363.284141   293.599349   \n",
       "std    6.294360e+05   359.557991  11999.563590   471.318317   348.953434   \n",
       "min    0.000000e+00     0.000000      0.000000     0.000000     0.000000   \n",
       "25%    2.831725e+05    28.000000   4916.000000    34.750000    90.000000   \n",
       "50%    4.970260e+05    76.000000   9594.000000   157.500000   185.000000   \n",
       "75%    7.011605e+05   219.500000  17315.000000   570.250000   385.000000   \n",
       "max    4.081691e+06  3243.000000  60523.000000  4789.000000  2521.000000   \n",
       "\n",
       "           Andorra       Angola    Anguilla  Antigua and Barbuda  \\\n",
       "count   915.000000   897.000000  889.000000           902.000000   \n",
       "mean     50.302732   114.421405    4.316085             9.951220   \n",
       "std     150.487469   260.419203   16.541791            35.615218   \n",
       "min       0.000000     0.000000    0.000000             0.000000   \n",
       "25%       0.000000     1.000000    0.000000             0.000000   \n",
       "50%       3.000000    46.000000    0.000000             0.000000   \n",
       "75%      41.000000   131.000000    0.000000             4.000000   \n",
       "max    2313.000000  5035.000000  196.000000           468.000000   \n",
       "\n",
       "           Argentina  ...       Uruguay   Uzbekistan     Vanuatu     Vatican  \\\n",
       "count     909.000000  ...    899.000000   902.000000  660.000000  911.000000   \n",
       "mean    10647.112211  ...   1089.189099   270.321508   17.953030    0.031833   \n",
       "std     18391.849792  ...   2181.496853   277.347578   62.644668    0.366265   \n",
       "min         0.000000  ...      0.000000     0.000000    0.000000    0.000000   \n",
       "25%       802.000000  ...      9.000000    47.000000    0.000000    0.000000   \n",
       "50%      5376.000000  ...    152.000000   190.000000    0.000000    0.000000   \n",
       "75%     12141.000000  ...    956.000000   401.250000    0.000000    0.000000   \n",
       "max    139853.000000  ...  13612.000000  1478.000000  616.000000    7.000000   \n",
       "\n",
       "         Venezuela        Vietnam  Wallis and Futuna       Yemen       Zambia  \\\n",
       "count   901.000000     954.000000         684.000000  875.000000   895.000000   \n",
       "mean    602.117647   11966.359539           1.112573   13.630857   371.868156   \n",
       "std     612.042819   41805.627255           8.412005   24.981727   723.630440   \n",
       "min       0.000000       0.000000           0.000000    0.000000     0.000000   \n",
       "25%      77.000000       2.000000           0.000000    0.000000    15.000000   \n",
       "50%     428.000000      88.000000           0.000000    3.000000    90.000000   \n",
       "75%     967.000000    7122.750000           0.000000   16.000000   325.500000   \n",
       "max    4418.000000  454212.000000         174.000000  287.000000  5555.000000   \n",
       "\n",
       "          Zimbabwe  \n",
       "count   896.000000  \n",
       "mean    286.551339  \n",
       "std     760.726045  \n",
       "min       0.000000  \n",
       "25%      12.000000  \n",
       "50%      52.000000  \n",
       "75%     195.250000  \n",
       "max    9185.000000  \n",
       "\n",
       "[8 rows x 229 columns]"
      ]
     },
     "execution_count": 12,
     "metadata": {},
     "output_type": "execute_result"
    }
   ],
   "source": [
    "df.describe()"
   ]
  },
  {
   "cell_type": "code",
   "execution_count": 14,
   "id": "ad124fed",
   "metadata": {},
   "outputs": [
    {
     "data": {
      "text/plain": [
       "0.0"
      ]
     },
     "execution_count": 14,
     "metadata": {},
     "output_type": "execute_result"
    }
   ],
   "source": [
    "df.loc[0, \"World\"]"
   ]
  },
  {
   "cell_type": "code",
   "execution_count": 15,
   "id": "d41c52bd",
   "metadata": {},
   "outputs": [
    {
     "data": {
      "text/plain": [
       "nan"
      ]
     },
     "execution_count": 15,
     "metadata": {},
     "output_type": "execute_result"
    }
   ],
   "source": [
    "df.loc[0, \"Africa\"]"
   ]
  },
  {
   "cell_type": "code",
   "execution_count": 16,
   "id": "75c1dc98",
   "metadata": {},
   "outputs": [
    {
     "data": {
      "text/plain": [
       "594393.0"
      ]
     },
     "execution_count": 16,
     "metadata": {},
     "output_type": "execute_result"
    }
   ],
   "source": [
    "df.loc[950, \"World\"]"
   ]
  },
  {
   "cell_type": "code",
   "execution_count": 18,
   "id": "a6e04c98",
   "metadata": {},
   "outputs": [
    {
     "data": {
      "text/plain": [
       "0.0"
      ]
     },
     "execution_count": 18,
     "metadata": {},
     "output_type": "execute_result"
    }
   ],
   "source": [
    "df.loc[950, \"Andorra\"]"
   ]
  },
  {
   "cell_type": "code",
   "execution_count": 19,
   "id": "6cc80f4f",
   "metadata": {},
   "outputs": [
    {
     "data": {
      "text/plain": [
       "nan"
      ]
     },
     "execution_count": 19,
     "metadata": {},
     "output_type": "execute_result"
    }
   ],
   "source": [
    "df.loc[951, \"Uruguay\"]"
   ]
  },
  {
   "cell_type": "code",
   "execution_count": 20,
   "id": "5ae1880c",
   "metadata": {},
   "outputs": [
    {
     "data": {
      "text/plain": [
       "date                 955\n",
       "World                955\n",
       "Afghanistan          378\n",
       "Africa               896\n",
       "Albania              512\n",
       "                    ... \n",
       "Vietnam              514\n",
       "Wallis and Futuna     24\n",
       "Yemen                 90\n",
       "Zambia               428\n",
       "Zimbabwe             364\n",
       "Length: 230, dtype: int64"
      ]
     },
     "execution_count": 20,
     "metadata": {},
     "output_type": "execute_result"
    }
   ],
   "source": [
    "df.nunique()"
   ]
  },
  {
   "cell_type": "code",
   "execution_count": 23,
   "id": "77328f7b",
   "metadata": {},
   "outputs": [
    {
     "name": "stdout",
     "output_type": "stream",
     "text": [
      "<class 'pandas.core.frame.DataFrame'>\n",
      "RangeIndex: 955 entries, 0 to 954\n",
      "Columns: 230 entries, date to Zimbabwe\n",
      "dtypes: float64(229), object(1)\n",
      "memory usage: 1.7+ MB\n"
     ]
    }
   ],
   "source": [
    "df.info()"
   ]
  },
  {
   "cell_type": "code",
   "execution_count": 25,
   "id": "856a77fb",
   "metadata": {},
   "outputs": [
    {
     "name": "stdout",
     "output_type": "stream",
     "text": [
      "<class 'pandas.core.frame.DataFrame'>\n",
      "RangeIndex: 955 entries, 0 to 954\n",
      "Columns: 230 entries, date to Zimbabwe\n",
      "dtypes: datetime64[ns](1), float64(229)\n",
      "memory usage: 1.7 MB\n"
     ]
    }
   ],
   "source": [
    "df[\"date\"] = pd.to_datetime(df[\"date\"])\n",
    "df.info()"
   ]
  },
  {
   "cell_type": "code",
   "execution_count": 26,
   "id": "1e416d6d",
   "metadata": {},
   "outputs": [
    {
     "data": {
      "text/plain": [
       "0     2020-01-22\n",
       "1     2020-01-23\n",
       "2     2020-01-24\n",
       "3     2020-01-25\n",
       "4     2020-01-26\n",
       "         ...    \n",
       "950   2022-08-29\n",
       "951   2022-08-30\n",
       "952   2022-08-31\n",
       "953   2022-09-01\n",
       "954   2022-09-02\n",
       "Name: date, Length: 955, dtype: datetime64[ns]"
      ]
     },
     "execution_count": 26,
     "metadata": {},
     "output_type": "execute_result"
    }
   ],
   "source": [
    "df[\"date\"]"
   ]
  },
  {
   "cell_type": "markdown",
   "id": "c8c6d853",
   "metadata": {},
   "source": [
    "#checking for duplicates and null values"
   ]
  },
  {
   "cell_type": "code",
   "execution_count": 27,
   "id": "8d97cd0a",
   "metadata": {},
   "outputs": [
    {
     "data": {
      "text/plain": [
       "0      False\n",
       "1      False\n",
       "2      False\n",
       "3      False\n",
       "4      False\n",
       "       ...  \n",
       "950    False\n",
       "951    False\n",
       "952    False\n",
       "953    False\n",
       "954    False\n",
       "Length: 955, dtype: bool"
      ]
     },
     "execution_count": 27,
     "metadata": {},
     "output_type": "execute_result"
    }
   ],
   "source": [
    "df.duplicated()"
   ]
  },
  {
   "cell_type": "code",
   "execution_count": 29,
   "id": "7332fd07",
   "metadata": {},
   "outputs": [
    {
     "data": {
      "text/plain": [
       "Index(['date', 'World', 'Afghanistan', 'Africa', 'Albania', 'Algeria',\n",
       "       'Andorra', 'Angola', 'Anguilla', 'Antigua and Barbuda',\n",
       "       ...\n",
       "       'Uruguay', 'Uzbekistan', 'Vanuatu', 'Vatican', 'Venezuela', 'Vietnam',\n",
       "       'Wallis and Futuna', 'Yemen', 'Zambia', 'Zimbabwe'],\n",
       "      dtype='object', length=230)"
      ]
     },
     "execution_count": 29,
     "metadata": {},
     "output_type": "execute_result"
    }
   ],
   "source": [
    "df.columns"
   ]
  },
  {
   "cell_type": "code",
   "execution_count": 30,
   "id": "222f4954",
   "metadata": {},
   "outputs": [
    {
     "data": {
      "text/plain": [
       "0      False\n",
       "1      False\n",
       "2      False\n",
       "3      False\n",
       "4      False\n",
       "       ...  \n",
       "950    False\n",
       "951    False\n",
       "952    False\n",
       "953    False\n",
       "954    False\n",
       "Name: date, Length: 955, dtype: bool"
      ]
     },
     "execution_count": 30,
     "metadata": {},
     "output_type": "execute_result"
    }
   ],
   "source": [
    "df[\"date\"].duplicated()"
   ]
  },
  {
   "cell_type": "code",
   "execution_count": 31,
   "id": "a5644a53",
   "metadata": {},
   "outputs": [
    {
     "data": {
      "text/html": [
       "<div>\n",
       "<style scoped>\n",
       "    .dataframe tbody tr th:only-of-type {\n",
       "        vertical-align: middle;\n",
       "    }\n",
       "\n",
       "    .dataframe tbody tr th {\n",
       "        vertical-align: top;\n",
       "    }\n",
       "\n",
       "    .dataframe thead th {\n",
       "        text-align: right;\n",
       "    }\n",
       "</style>\n",
       "<table border=\"1\" class=\"dataframe\">\n",
       "  <thead>\n",
       "    <tr style=\"text-align: right;\">\n",
       "      <th></th>\n",
       "      <th>date</th>\n",
       "      <th>World</th>\n",
       "      <th>Afghanistan</th>\n",
       "      <th>Africa</th>\n",
       "      <th>Albania</th>\n",
       "      <th>Algeria</th>\n",
       "      <th>Andorra</th>\n",
       "      <th>Angola</th>\n",
       "      <th>Anguilla</th>\n",
       "      <th>Antigua and Barbuda</th>\n",
       "      <th>...</th>\n",
       "      <th>Uruguay</th>\n",
       "      <th>Uzbekistan</th>\n",
       "      <th>Vanuatu</th>\n",
       "      <th>Vatican</th>\n",
       "      <th>Venezuela</th>\n",
       "      <th>Vietnam</th>\n",
       "      <th>Wallis and Futuna</th>\n",
       "      <th>Yemen</th>\n",
       "      <th>Zambia</th>\n",
       "      <th>Zimbabwe</th>\n",
       "    </tr>\n",
       "  </thead>\n",
       "  <tbody>\n",
       "    <tr>\n",
       "      <th>0</th>\n",
       "      <td>False</td>\n",
       "      <td>False</td>\n",
       "      <td>True</td>\n",
       "      <td>True</td>\n",
       "      <td>True</td>\n",
       "      <td>True</td>\n",
       "      <td>True</td>\n",
       "      <td>True</td>\n",
       "      <td>True</td>\n",
       "      <td>True</td>\n",
       "      <td>...</td>\n",
       "      <td>True</td>\n",
       "      <td>True</td>\n",
       "      <td>True</td>\n",
       "      <td>True</td>\n",
       "      <td>True</td>\n",
       "      <td>True</td>\n",
       "      <td>True</td>\n",
       "      <td>True</td>\n",
       "      <td>True</td>\n",
       "      <td>True</td>\n",
       "    </tr>\n",
       "    <tr>\n",
       "      <th>1</th>\n",
       "      <td>False</td>\n",
       "      <td>False</td>\n",
       "      <td>True</td>\n",
       "      <td>True</td>\n",
       "      <td>True</td>\n",
       "      <td>True</td>\n",
       "      <td>True</td>\n",
       "      <td>True</td>\n",
       "      <td>True</td>\n",
       "      <td>True</td>\n",
       "      <td>...</td>\n",
       "      <td>True</td>\n",
       "      <td>True</td>\n",
       "      <td>True</td>\n",
       "      <td>True</td>\n",
       "      <td>True</td>\n",
       "      <td>False</td>\n",
       "      <td>True</td>\n",
       "      <td>True</td>\n",
       "      <td>True</td>\n",
       "      <td>True</td>\n",
       "    </tr>\n",
       "    <tr>\n",
       "      <th>2</th>\n",
       "      <td>False</td>\n",
       "      <td>False</td>\n",
       "      <td>True</td>\n",
       "      <td>True</td>\n",
       "      <td>True</td>\n",
       "      <td>True</td>\n",
       "      <td>True</td>\n",
       "      <td>True</td>\n",
       "      <td>True</td>\n",
       "      <td>True</td>\n",
       "      <td>...</td>\n",
       "      <td>True</td>\n",
       "      <td>True</td>\n",
       "      <td>True</td>\n",
       "      <td>True</td>\n",
       "      <td>True</td>\n",
       "      <td>False</td>\n",
       "      <td>True</td>\n",
       "      <td>True</td>\n",
       "      <td>True</td>\n",
       "      <td>True</td>\n",
       "    </tr>\n",
       "    <tr>\n",
       "      <th>3</th>\n",
       "      <td>False</td>\n",
       "      <td>False</td>\n",
       "      <td>True</td>\n",
       "      <td>True</td>\n",
       "      <td>True</td>\n",
       "      <td>True</td>\n",
       "      <td>True</td>\n",
       "      <td>True</td>\n",
       "      <td>True</td>\n",
       "      <td>True</td>\n",
       "      <td>...</td>\n",
       "      <td>True</td>\n",
       "      <td>True</td>\n",
       "      <td>True</td>\n",
       "      <td>True</td>\n",
       "      <td>True</td>\n",
       "      <td>False</td>\n",
       "      <td>True</td>\n",
       "      <td>True</td>\n",
       "      <td>True</td>\n",
       "      <td>True</td>\n",
       "    </tr>\n",
       "    <tr>\n",
       "      <th>4</th>\n",
       "      <td>False</td>\n",
       "      <td>False</td>\n",
       "      <td>True</td>\n",
       "      <td>True</td>\n",
       "      <td>True</td>\n",
       "      <td>True</td>\n",
       "      <td>True</td>\n",
       "      <td>True</td>\n",
       "      <td>True</td>\n",
       "      <td>True</td>\n",
       "      <td>...</td>\n",
       "      <td>True</td>\n",
       "      <td>True</td>\n",
       "      <td>True</td>\n",
       "      <td>True</td>\n",
       "      <td>True</td>\n",
       "      <td>False</td>\n",
       "      <td>True</td>\n",
       "      <td>True</td>\n",
       "      <td>True</td>\n",
       "      <td>True</td>\n",
       "    </tr>\n",
       "    <tr>\n",
       "      <th>...</th>\n",
       "      <td>...</td>\n",
       "      <td>...</td>\n",
       "      <td>...</td>\n",
       "      <td>...</td>\n",
       "      <td>...</td>\n",
       "      <td>...</td>\n",
       "      <td>...</td>\n",
       "      <td>...</td>\n",
       "      <td>...</td>\n",
       "      <td>...</td>\n",
       "      <td>...</td>\n",
       "      <td>...</td>\n",
       "      <td>...</td>\n",
       "      <td>...</td>\n",
       "      <td>...</td>\n",
       "      <td>...</td>\n",
       "      <td>...</td>\n",
       "      <td>...</td>\n",
       "      <td>...</td>\n",
       "      <td>...</td>\n",
       "      <td>...</td>\n",
       "    </tr>\n",
       "    <tr>\n",
       "      <th>950</th>\n",
       "      <td>False</td>\n",
       "      <td>False</td>\n",
       "      <td>False</td>\n",
       "      <td>False</td>\n",
       "      <td>False</td>\n",
       "      <td>False</td>\n",
       "      <td>False</td>\n",
       "      <td>False</td>\n",
       "      <td>False</td>\n",
       "      <td>False</td>\n",
       "      <td>...</td>\n",
       "      <td>False</td>\n",
       "      <td>False</td>\n",
       "      <td>False</td>\n",
       "      <td>False</td>\n",
       "      <td>False</td>\n",
       "      <td>False</td>\n",
       "      <td>False</td>\n",
       "      <td>False</td>\n",
       "      <td>False</td>\n",
       "      <td>False</td>\n",
       "    </tr>\n",
       "    <tr>\n",
       "      <th>951</th>\n",
       "      <td>False</td>\n",
       "      <td>False</td>\n",
       "      <td>False</td>\n",
       "      <td>False</td>\n",
       "      <td>False</td>\n",
       "      <td>False</td>\n",
       "      <td>False</td>\n",
       "      <td>False</td>\n",
       "      <td>False</td>\n",
       "      <td>False</td>\n",
       "      <td>...</td>\n",
       "      <td>True</td>\n",
       "      <td>False</td>\n",
       "      <td>False</td>\n",
       "      <td>False</td>\n",
       "      <td>False</td>\n",
       "      <td>False</td>\n",
       "      <td>False</td>\n",
       "      <td>False</td>\n",
       "      <td>True</td>\n",
       "      <td>False</td>\n",
       "    </tr>\n",
       "    <tr>\n",
       "      <th>952</th>\n",
       "      <td>False</td>\n",
       "      <td>False</td>\n",
       "      <td>False</td>\n",
       "      <td>False</td>\n",
       "      <td>False</td>\n",
       "      <td>False</td>\n",
       "      <td>False</td>\n",
       "      <td>False</td>\n",
       "      <td>False</td>\n",
       "      <td>False</td>\n",
       "      <td>...</td>\n",
       "      <td>True</td>\n",
       "      <td>False</td>\n",
       "      <td>False</td>\n",
       "      <td>False</td>\n",
       "      <td>False</td>\n",
       "      <td>False</td>\n",
       "      <td>False</td>\n",
       "      <td>False</td>\n",
       "      <td>True</td>\n",
       "      <td>False</td>\n",
       "    </tr>\n",
       "    <tr>\n",
       "      <th>953</th>\n",
       "      <td>False</td>\n",
       "      <td>False</td>\n",
       "      <td>False</td>\n",
       "      <td>False</td>\n",
       "      <td>False</td>\n",
       "      <td>False</td>\n",
       "      <td>False</td>\n",
       "      <td>False</td>\n",
       "      <td>False</td>\n",
       "      <td>False</td>\n",
       "      <td>...</td>\n",
       "      <td>True</td>\n",
       "      <td>False</td>\n",
       "      <td>False</td>\n",
       "      <td>False</td>\n",
       "      <td>True</td>\n",
       "      <td>False</td>\n",
       "      <td>False</td>\n",
       "      <td>False</td>\n",
       "      <td>True</td>\n",
       "      <td>False</td>\n",
       "    </tr>\n",
       "    <tr>\n",
       "      <th>954</th>\n",
       "      <td>False</td>\n",
       "      <td>False</td>\n",
       "      <td>True</td>\n",
       "      <td>False</td>\n",
       "      <td>False</td>\n",
       "      <td>False</td>\n",
       "      <td>False</td>\n",
       "      <td>False</td>\n",
       "      <td>False</td>\n",
       "      <td>False</td>\n",
       "      <td>...</td>\n",
       "      <td>True</td>\n",
       "      <td>False</td>\n",
       "      <td>False</td>\n",
       "      <td>False</td>\n",
       "      <td>True</td>\n",
       "      <td>False</td>\n",
       "      <td>False</td>\n",
       "      <td>False</td>\n",
       "      <td>True</td>\n",
       "      <td>False</td>\n",
       "    </tr>\n",
       "  </tbody>\n",
       "</table>\n",
       "<p>955 rows × 230 columns</p>\n",
       "</div>"
      ],
      "text/plain": [
       "      date  World  Afghanistan  Africa  Albania  Algeria  Andorra  Angola  \\\n",
       "0    False  False         True    True     True     True     True    True   \n",
       "1    False  False         True    True     True     True     True    True   \n",
       "2    False  False         True    True     True     True     True    True   \n",
       "3    False  False         True    True     True     True     True    True   \n",
       "4    False  False         True    True     True     True     True    True   \n",
       "..     ...    ...          ...     ...      ...      ...      ...     ...   \n",
       "950  False  False        False   False    False    False    False   False   \n",
       "951  False  False        False   False    False    False    False   False   \n",
       "952  False  False        False   False    False    False    False   False   \n",
       "953  False  False        False   False    False    False    False   False   \n",
       "954  False  False         True   False    False    False    False   False   \n",
       "\n",
       "     Anguilla  Antigua and Barbuda  ...  Uruguay  Uzbekistan  Vanuatu  \\\n",
       "0        True                 True  ...     True        True     True   \n",
       "1        True                 True  ...     True        True     True   \n",
       "2        True                 True  ...     True        True     True   \n",
       "3        True                 True  ...     True        True     True   \n",
       "4        True                 True  ...     True        True     True   \n",
       "..        ...                  ...  ...      ...         ...      ...   \n",
       "950     False                False  ...    False       False    False   \n",
       "951     False                False  ...     True       False    False   \n",
       "952     False                False  ...     True       False    False   \n",
       "953     False                False  ...     True       False    False   \n",
       "954     False                False  ...     True       False    False   \n",
       "\n",
       "     Vatican  Venezuela  Vietnam  Wallis and Futuna  Yemen  Zambia  Zimbabwe  \n",
       "0       True       True     True               True   True    True      True  \n",
       "1       True       True    False               True   True    True      True  \n",
       "2       True       True    False               True   True    True      True  \n",
       "3       True       True    False               True   True    True      True  \n",
       "4       True       True    False               True   True    True      True  \n",
       "..       ...        ...      ...                ...    ...     ...       ...  \n",
       "950    False      False    False              False  False   False     False  \n",
       "951    False      False    False              False  False    True     False  \n",
       "952    False      False    False              False  False    True     False  \n",
       "953    False       True    False              False  False    True     False  \n",
       "954    False       True    False              False  False    True     False  \n",
       "\n",
       "[955 rows x 230 columns]"
      ]
     },
     "execution_count": 31,
     "metadata": {},
     "output_type": "execute_result"
    }
   ],
   "source": [
    "df.isnull()"
   ]
  },
  {
   "cell_type": "code",
   "execution_count": 32,
   "id": "f65624c4",
   "metadata": {},
   "outputs": [
    {
     "data": {
      "text/plain": [
       "(955, 230)"
      ]
     },
     "execution_count": 32,
     "metadata": {},
     "output_type": "execute_result"
    }
   ],
   "source": [
    "df.shape"
   ]
  },
  {
   "cell_type": "code",
   "execution_count": 33,
   "id": "52e89692",
   "metadata": {},
   "outputs": [
    {
     "data": {
      "text/plain": [
       "0      False\n",
       "1      False\n",
       "2      False\n",
       "3      False\n",
       "4      False\n",
       "       ...  \n",
       "950    False\n",
       "951    False\n",
       "952    False\n",
       "953    False\n",
       "954    False\n",
       "Name: date, Length: 955, dtype: bool"
      ]
     },
     "execution_count": 33,
     "metadata": {},
     "output_type": "execute_result"
    }
   ],
   "source": [
    "df[\"date\"].isnull()"
   ]
  },
  {
   "cell_type": "code",
   "execution_count": 35,
   "id": "641f388f",
   "metadata": {},
   "outputs": [
    {
     "data": {
      "text/plain": [
       "955"
      ]
     },
     "execution_count": 35,
     "metadata": {},
     "output_type": "execute_result"
    }
   ],
   "source": [
    "df[\"Africa\"].isnull().count()"
   ]
  },
  {
   "cell_type": "code",
   "execution_count": 36,
   "id": "023fc574",
   "metadata": {},
   "outputs": [
    {
     "data": {
      "text/plain": [
       "(955, 230)"
      ]
     },
     "execution_count": 36,
     "metadata": {},
     "output_type": "execute_result"
    }
   ],
   "source": [
    "df.shape"
   ]
  },
  {
   "cell_type": "code",
   "execution_count": 37,
   "id": "8f672cbf",
   "metadata": {},
   "outputs": [
    {
     "data": {
      "text/plain": [
       "date                 955\n",
       "World                955\n",
       "Afghanistan          919\n",
       "Africa               933\n",
       "Albania              908\n",
       "                    ... \n",
       "Vietnam              954\n",
       "Wallis and Futuna    684\n",
       "Yemen                875\n",
       "Zambia               895\n",
       "Zimbabwe             896\n",
       "Length: 230, dtype: int64"
      ]
     },
     "execution_count": 37,
     "metadata": {},
     "output_type": "execute_result"
    }
   ],
   "source": [
    "df.count()"
   ]
  },
  {
   "cell_type": "code",
   "execution_count": 40,
   "id": "f0bfb4d4",
   "metadata": {},
   "outputs": [],
   "source": [
    "df.dropna(inplace = True)"
   ]
  },
  {
   "cell_type": "code",
   "execution_count": 42,
   "id": "ad979493",
   "metadata": {},
   "outputs": [
    {
     "data": {
      "text/plain": [
       "(91, 230)"
      ]
     },
     "execution_count": 42,
     "metadata": {},
     "output_type": "execute_result"
    }
   ],
   "source": [
    "df.shape"
   ]
  },
  {
   "cell_type": "code",
   "execution_count": 43,
   "id": "e8c4a988",
   "metadata": {},
   "outputs": [
    {
     "data": {
      "text/plain": [
       "Index(['date', 'World', 'Afghanistan', 'Africa', 'Albania', 'Algeria',\n",
       "       'Andorra', 'Angola', 'Anguilla', 'Antigua and Barbuda',\n",
       "       ...\n",
       "       'Uruguay', 'Uzbekistan', 'Vanuatu', 'Vatican', 'Venezuela', 'Vietnam',\n",
       "       'Wallis and Futuna', 'Yemen', 'Zambia', 'Zimbabwe'],\n",
       "      dtype='object', length=230)"
      ]
     },
     "execution_count": 43,
     "metadata": {},
     "output_type": "execute_result"
    }
   ],
   "source": [
    "df.columns"
   ]
  },
  {
   "cell_type": "code",
   "execution_count": 44,
   "id": "0425f106",
   "metadata": {},
   "outputs": [
    {
     "data": {
      "text/plain": [
       "Int64Index([843, 844, 847, 849, 850, 853, 854, 856, 857, 858, 859, 860, 861,\n",
       "            862, 863, 864, 865, 866, 867, 868, 869, 870, 872, 873, 874, 875,\n",
       "            876, 877, 878, 879, 880, 881, 882, 883, 884, 885, 886, 887, 888,\n",
       "            889, 890, 891, 892, 893, 894, 895, 896, 897, 898, 899, 900, 901,\n",
       "            902, 903, 904, 905, 906, 907, 908, 911, 913, 914, 915, 917, 918,\n",
       "            920, 921, 922, 923, 924, 926, 927, 928, 929, 930, 931, 932, 933,\n",
       "            934, 936, 937, 938, 939, 940, 941, 942, 943, 946, 947, 948, 949],\n",
       "           dtype='int64')"
      ]
     },
     "execution_count": 44,
     "metadata": {},
     "output_type": "execute_result"
    }
   ],
   "source": [
    "df.index"
   ]
  },
  {
   "cell_type": "code",
   "execution_count": 47,
   "id": "f908bb28",
   "metadata": {},
   "outputs": [
    {
     "data": {
      "text/html": [
       "<div>\n",
       "<style scoped>\n",
       "    .dataframe tbody tr th:only-of-type {\n",
       "        vertical-align: middle;\n",
       "    }\n",
       "\n",
       "    .dataframe tbody tr th {\n",
       "        vertical-align: top;\n",
       "    }\n",
       "\n",
       "    .dataframe thead th {\n",
       "        text-align: right;\n",
       "    }\n",
       "</style>\n",
       "<table border=\"1\" class=\"dataframe\">\n",
       "  <thead>\n",
       "    <tr style=\"text-align: right;\">\n",
       "      <th></th>\n",
       "      <th>date</th>\n",
       "      <th>World</th>\n",
       "      <th>Afghanistan</th>\n",
       "      <th>Africa</th>\n",
       "      <th>Albania</th>\n",
       "      <th>Algeria</th>\n",
       "      <th>Andorra</th>\n",
       "      <th>Angola</th>\n",
       "      <th>Anguilla</th>\n",
       "      <th>Antigua and Barbuda</th>\n",
       "      <th>...</th>\n",
       "      <th>Uruguay</th>\n",
       "      <th>Uzbekistan</th>\n",
       "      <th>Vanuatu</th>\n",
       "      <th>Vatican</th>\n",
       "      <th>Venezuela</th>\n",
       "      <th>Vietnam</th>\n",
       "      <th>Wallis and Futuna</th>\n",
       "      <th>Yemen</th>\n",
       "      <th>Zambia</th>\n",
       "      <th>Zimbabwe</th>\n",
       "    </tr>\n",
       "  </thead>\n",
       "  <tbody>\n",
       "    <tr>\n",
       "      <th>843</th>\n",
       "      <td>False</td>\n",
       "      <td>False</td>\n",
       "      <td>False</td>\n",
       "      <td>False</td>\n",
       "      <td>False</td>\n",
       "      <td>False</td>\n",
       "      <td>False</td>\n",
       "      <td>False</td>\n",
       "      <td>False</td>\n",
       "      <td>False</td>\n",
       "      <td>...</td>\n",
       "      <td>False</td>\n",
       "      <td>False</td>\n",
       "      <td>False</td>\n",
       "      <td>False</td>\n",
       "      <td>False</td>\n",
       "      <td>False</td>\n",
       "      <td>False</td>\n",
       "      <td>False</td>\n",
       "      <td>False</td>\n",
       "      <td>False</td>\n",
       "    </tr>\n",
       "    <tr>\n",
       "      <th>844</th>\n",
       "      <td>False</td>\n",
       "      <td>False</td>\n",
       "      <td>False</td>\n",
       "      <td>False</td>\n",
       "      <td>False</td>\n",
       "      <td>False</td>\n",
       "      <td>False</td>\n",
       "      <td>False</td>\n",
       "      <td>False</td>\n",
       "      <td>False</td>\n",
       "      <td>...</td>\n",
       "      <td>False</td>\n",
       "      <td>False</td>\n",
       "      <td>False</td>\n",
       "      <td>False</td>\n",
       "      <td>False</td>\n",
       "      <td>False</td>\n",
       "      <td>False</td>\n",
       "      <td>False</td>\n",
       "      <td>False</td>\n",
       "      <td>False</td>\n",
       "    </tr>\n",
       "    <tr>\n",
       "      <th>847</th>\n",
       "      <td>False</td>\n",
       "      <td>False</td>\n",
       "      <td>False</td>\n",
       "      <td>False</td>\n",
       "      <td>False</td>\n",
       "      <td>False</td>\n",
       "      <td>False</td>\n",
       "      <td>False</td>\n",
       "      <td>False</td>\n",
       "      <td>False</td>\n",
       "      <td>...</td>\n",
       "      <td>False</td>\n",
       "      <td>False</td>\n",
       "      <td>False</td>\n",
       "      <td>False</td>\n",
       "      <td>False</td>\n",
       "      <td>False</td>\n",
       "      <td>False</td>\n",
       "      <td>False</td>\n",
       "      <td>False</td>\n",
       "      <td>False</td>\n",
       "    </tr>\n",
       "    <tr>\n",
       "      <th>849</th>\n",
       "      <td>False</td>\n",
       "      <td>False</td>\n",
       "      <td>False</td>\n",
       "      <td>False</td>\n",
       "      <td>False</td>\n",
       "      <td>False</td>\n",
       "      <td>False</td>\n",
       "      <td>False</td>\n",
       "      <td>False</td>\n",
       "      <td>False</td>\n",
       "      <td>...</td>\n",
       "      <td>False</td>\n",
       "      <td>False</td>\n",
       "      <td>False</td>\n",
       "      <td>False</td>\n",
       "      <td>False</td>\n",
       "      <td>False</td>\n",
       "      <td>False</td>\n",
       "      <td>False</td>\n",
       "      <td>False</td>\n",
       "      <td>False</td>\n",
       "    </tr>\n",
       "    <tr>\n",
       "      <th>850</th>\n",
       "      <td>False</td>\n",
       "      <td>False</td>\n",
       "      <td>False</td>\n",
       "      <td>False</td>\n",
       "      <td>False</td>\n",
       "      <td>False</td>\n",
       "      <td>False</td>\n",
       "      <td>False</td>\n",
       "      <td>False</td>\n",
       "      <td>False</td>\n",
       "      <td>...</td>\n",
       "      <td>False</td>\n",
       "      <td>False</td>\n",
       "      <td>False</td>\n",
       "      <td>False</td>\n",
       "      <td>False</td>\n",
       "      <td>False</td>\n",
       "      <td>False</td>\n",
       "      <td>False</td>\n",
       "      <td>False</td>\n",
       "      <td>False</td>\n",
       "    </tr>\n",
       "    <tr>\n",
       "      <th>...</th>\n",
       "      <td>...</td>\n",
       "      <td>...</td>\n",
       "      <td>...</td>\n",
       "      <td>...</td>\n",
       "      <td>...</td>\n",
       "      <td>...</td>\n",
       "      <td>...</td>\n",
       "      <td>...</td>\n",
       "      <td>...</td>\n",
       "      <td>...</td>\n",
       "      <td>...</td>\n",
       "      <td>...</td>\n",
       "      <td>...</td>\n",
       "      <td>...</td>\n",
       "      <td>...</td>\n",
       "      <td>...</td>\n",
       "      <td>...</td>\n",
       "      <td>...</td>\n",
       "      <td>...</td>\n",
       "      <td>...</td>\n",
       "      <td>...</td>\n",
       "    </tr>\n",
       "    <tr>\n",
       "      <th>943</th>\n",
       "      <td>False</td>\n",
       "      <td>False</td>\n",
       "      <td>False</td>\n",
       "      <td>False</td>\n",
       "      <td>False</td>\n",
       "      <td>False</td>\n",
       "      <td>False</td>\n",
       "      <td>False</td>\n",
       "      <td>False</td>\n",
       "      <td>False</td>\n",
       "      <td>...</td>\n",
       "      <td>False</td>\n",
       "      <td>False</td>\n",
       "      <td>False</td>\n",
       "      <td>False</td>\n",
       "      <td>False</td>\n",
       "      <td>False</td>\n",
       "      <td>False</td>\n",
       "      <td>False</td>\n",
       "      <td>False</td>\n",
       "      <td>False</td>\n",
       "    </tr>\n",
       "    <tr>\n",
       "      <th>946</th>\n",
       "      <td>False</td>\n",
       "      <td>False</td>\n",
       "      <td>False</td>\n",
       "      <td>False</td>\n",
       "      <td>False</td>\n",
       "      <td>False</td>\n",
       "      <td>False</td>\n",
       "      <td>False</td>\n",
       "      <td>False</td>\n",
       "      <td>False</td>\n",
       "      <td>...</td>\n",
       "      <td>False</td>\n",
       "      <td>False</td>\n",
       "      <td>False</td>\n",
       "      <td>False</td>\n",
       "      <td>False</td>\n",
       "      <td>False</td>\n",
       "      <td>False</td>\n",
       "      <td>False</td>\n",
       "      <td>False</td>\n",
       "      <td>False</td>\n",
       "    </tr>\n",
       "    <tr>\n",
       "      <th>947</th>\n",
       "      <td>False</td>\n",
       "      <td>False</td>\n",
       "      <td>False</td>\n",
       "      <td>False</td>\n",
       "      <td>False</td>\n",
       "      <td>False</td>\n",
       "      <td>False</td>\n",
       "      <td>False</td>\n",
       "      <td>False</td>\n",
       "      <td>False</td>\n",
       "      <td>...</td>\n",
       "      <td>False</td>\n",
       "      <td>False</td>\n",
       "      <td>False</td>\n",
       "      <td>False</td>\n",
       "      <td>False</td>\n",
       "      <td>False</td>\n",
       "      <td>False</td>\n",
       "      <td>False</td>\n",
       "      <td>False</td>\n",
       "      <td>False</td>\n",
       "    </tr>\n",
       "    <tr>\n",
       "      <th>948</th>\n",
       "      <td>False</td>\n",
       "      <td>False</td>\n",
       "      <td>False</td>\n",
       "      <td>False</td>\n",
       "      <td>False</td>\n",
       "      <td>False</td>\n",
       "      <td>False</td>\n",
       "      <td>False</td>\n",
       "      <td>False</td>\n",
       "      <td>False</td>\n",
       "      <td>...</td>\n",
       "      <td>False</td>\n",
       "      <td>False</td>\n",
       "      <td>False</td>\n",
       "      <td>False</td>\n",
       "      <td>False</td>\n",
       "      <td>False</td>\n",
       "      <td>False</td>\n",
       "      <td>False</td>\n",
       "      <td>False</td>\n",
       "      <td>False</td>\n",
       "    </tr>\n",
       "    <tr>\n",
       "      <th>949</th>\n",
       "      <td>False</td>\n",
       "      <td>False</td>\n",
       "      <td>False</td>\n",
       "      <td>False</td>\n",
       "      <td>False</td>\n",
       "      <td>False</td>\n",
       "      <td>False</td>\n",
       "      <td>False</td>\n",
       "      <td>False</td>\n",
       "      <td>False</td>\n",
       "      <td>...</td>\n",
       "      <td>False</td>\n",
       "      <td>False</td>\n",
       "      <td>False</td>\n",
       "      <td>False</td>\n",
       "      <td>False</td>\n",
       "      <td>False</td>\n",
       "      <td>False</td>\n",
       "      <td>False</td>\n",
       "      <td>False</td>\n",
       "      <td>False</td>\n",
       "    </tr>\n",
       "  </tbody>\n",
       "</table>\n",
       "<p>91 rows × 230 columns</p>\n",
       "</div>"
      ],
      "text/plain": [
       "      date  World  Afghanistan  Africa  Albania  Algeria  Andorra  Angola  \\\n",
       "843  False  False        False   False    False    False    False   False   \n",
       "844  False  False        False   False    False    False    False   False   \n",
       "847  False  False        False   False    False    False    False   False   \n",
       "849  False  False        False   False    False    False    False   False   \n",
       "850  False  False        False   False    False    False    False   False   \n",
       "..     ...    ...          ...     ...      ...      ...      ...     ...   \n",
       "943  False  False        False   False    False    False    False   False   \n",
       "946  False  False        False   False    False    False    False   False   \n",
       "947  False  False        False   False    False    False    False   False   \n",
       "948  False  False        False   False    False    False    False   False   \n",
       "949  False  False        False   False    False    False    False   False   \n",
       "\n",
       "     Anguilla  Antigua and Barbuda  ...  Uruguay  Uzbekistan  Vanuatu  \\\n",
       "843     False                False  ...    False       False    False   \n",
       "844     False                False  ...    False       False    False   \n",
       "847     False                False  ...    False       False    False   \n",
       "849     False                False  ...    False       False    False   \n",
       "850     False                False  ...    False       False    False   \n",
       "..        ...                  ...  ...      ...         ...      ...   \n",
       "943     False                False  ...    False       False    False   \n",
       "946     False                False  ...    False       False    False   \n",
       "947     False                False  ...    False       False    False   \n",
       "948     False                False  ...    False       False    False   \n",
       "949     False                False  ...    False       False    False   \n",
       "\n",
       "     Vatican  Venezuela  Vietnam  Wallis and Futuna  Yemen  Zambia  Zimbabwe  \n",
       "843    False      False    False              False  False   False     False  \n",
       "844    False      False    False              False  False   False     False  \n",
       "847    False      False    False              False  False   False     False  \n",
       "849    False      False    False              False  False   False     False  \n",
       "850    False      False    False              False  False   False     False  \n",
       "..       ...        ...      ...                ...    ...     ...       ...  \n",
       "943    False      False    False              False  False   False     False  \n",
       "946    False      False    False              False  False   False     False  \n",
       "947    False      False    False              False  False   False     False  \n",
       "948    False      False    False              False  False   False     False  \n",
       "949    False      False    False              False  False   False     False  \n",
       "\n",
       "[91 rows x 230 columns]"
      ]
     },
     "execution_count": 47,
     "metadata": {},
     "output_type": "execute_result"
    }
   ],
   "source": [
    "df.isnull()"
   ]
  },
  {
   "cell_type": "code",
   "execution_count": 48,
   "id": "580d4949",
   "metadata": {},
   "outputs": [
    {
     "name": "stdout",
     "output_type": "stream",
     "text": [
      "<class 'pandas.core.frame.DataFrame'>\n",
      "Int64Index: 91 entries, 843 to 949\n",
      "Columns: 230 entries, date to Zimbabwe\n",
      "dtypes: datetime64[ns](1), float64(229)\n",
      "memory usage: 164.2 KB\n"
     ]
    }
   ],
   "source": [
    "df.info()"
   ]
  },
  {
   "cell_type": "markdown",
   "id": "f2786418",
   "metadata": {},
   "source": [
    "#statistics"
   ]
  },
  {
   "cell_type": "code",
   "execution_count": 50,
   "id": "e5657dc5",
   "metadata": {},
   "outputs": [
    {
     "name": "stderr",
     "output_type": "stream",
     "text": [
      "C:\\Users\\PC\\AppData\\Local\\Temp\\ipykernel_508\\1703867807.py:1: FutureWarning: Dropping of nuisance columns in DataFrame reductions (with 'numeric_only=None') is deprecated; in a future version this will raise TypeError.  Select only valid columns before calling the reduction.\n",
      "  df.sum()\n"
     ]
    },
    {
     "data": {
      "text/plain": [
       "World                66238665.0\n",
       "Afghanistan             11121.0\n",
       "Africa                 449833.0\n",
       "Albania                 43051.0\n",
       "Algeria                  3613.0\n",
       "                        ...    \n",
       "Vietnam                278978.0\n",
       "Wallis and Futuna         176.0\n",
       "Yemen                      83.0\n",
       "Zambia                  11081.0\n",
       "Zimbabwe                 5980.0\n",
       "Length: 229, dtype: float64"
      ]
     },
     "execution_count": 50,
     "metadata": {},
     "output_type": "execute_result"
    }
   ],
   "source": [
    "df.sum()"
   ]
  },
  {
   "cell_type": "code",
   "execution_count": 51,
   "id": "34e22e42",
   "metadata": {},
   "outputs": [
    {
     "data": {
      "text/plain": [
       "66238665.0"
      ]
     },
     "execution_count": 51,
     "metadata": {},
     "output_type": "execute_result"
    }
   ],
   "source": [
    "df[\"World\"].sum()"
   ]
  },
  {
   "cell_type": "code",
   "execution_count": 52,
   "id": "b7404323",
   "metadata": {},
   "outputs": [
    {
     "name": "stderr",
     "output_type": "stream",
     "text": [
      "C:\\Users\\PC\\AppData\\Local\\Temp\\ipykernel_508\\3698961737.py:1: FutureWarning: DataFrame.mean and DataFrame.median with numeric_only=None will include datetime64 and datetime64tz columns in a future version.\n",
      "  df.mean()\n"
     ]
    },
    {
     "data": {
      "text/plain": [
       "World                727897.417582\n",
       "Afghanistan             122.208791\n",
       "Africa                 4943.219780\n",
       "Albania                 473.087912\n",
       "Algeria                  39.703297\n",
       "                         ...      \n",
       "Vietnam                3065.692308\n",
       "Wallis and Futuna         1.934066\n",
       "Yemen                     0.912088\n",
       "Zambia                  121.769231\n",
       "Zimbabwe                 65.714286\n",
       "Length: 229, dtype: float64"
      ]
     },
     "execution_count": 52,
     "metadata": {},
     "output_type": "execute_result"
    }
   ],
   "source": [
    "df.mean()"
   ]
  },
  {
   "cell_type": "code",
   "execution_count": 53,
   "id": "909c76b6",
   "metadata": {},
   "outputs": [
    {
     "data": {
      "text/plain": [
       "727897.4175824176"
      ]
     },
     "execution_count": 53,
     "metadata": {},
     "output_type": "execute_result"
    }
   ],
   "source": [
    "df[\"World\"].mean()"
   ]
  },
  {
   "cell_type": "code",
   "execution_count": 54,
   "id": "7b78ec42",
   "metadata": {},
   "outputs": [
    {
     "data": {
      "text/plain": [
       "91"
      ]
     },
     "execution_count": 54,
     "metadata": {},
     "output_type": "execute_result"
    }
   ],
   "source": [
    "df[\"date\"].nunique()"
   ]
  },
  {
   "cell_type": "code",
   "execution_count": 55,
   "id": "26d5d3b7",
   "metadata": {},
   "outputs": [
    {
     "data": {
      "text/plain": [
       "91"
      ]
     },
     "execution_count": 55,
     "metadata": {},
     "output_type": "execute_result"
    }
   ],
   "source": [
    "df[\"date\"].count()"
   ]
  },
  {
   "cell_type": "code",
   "execution_count": 56,
   "id": "1cececd0",
   "metadata": {},
   "outputs": [
    {
     "data": {
      "text/plain": [
       "4943.219780219781"
      ]
     },
     "execution_count": 56,
     "metadata": {},
     "output_type": "execute_result"
    }
   ],
   "source": [
    "df[\"Africa\"].mean()"
   ]
  },
  {
   "cell_type": "code",
   "execution_count": 57,
   "id": "85479393",
   "metadata": {},
   "outputs": [
    {
     "data": {
      "text/plain": [
       "0       199.0\n",
       "1       301.0\n",
       "2       524.0\n",
       "3       526.0\n",
       "4       710.0\n",
       "       ...   \n",
       "86    11549.0\n",
       "87    12261.0\n",
       "88    14529.0\n",
       "89    19098.0\n",
       "90    23419.0\n",
       "Name: Africa, Length: 91, dtype: float64"
      ]
     },
     "execution_count": 57,
     "metadata": {},
     "output_type": "execute_result"
    }
   ],
   "source": [
    "df[\"Africa\"].mode()"
   ]
  },
  {
   "cell_type": "code",
   "execution_count": 58,
   "id": "6540cbb1",
   "metadata": {},
   "outputs": [
    {
     "data": {
      "text/plain": [
       "23419.0"
      ]
     },
     "execution_count": 58,
     "metadata": {},
     "output_type": "execute_result"
    }
   ],
   "source": [
    "df[\"Africa\"].max()"
   ]
  },
  {
   "cell_type": "code",
   "execution_count": 59,
   "id": "420a723a",
   "metadata": {},
   "outputs": [
    {
     "data": {
      "text/plain": [
       "1092.0"
      ]
     },
     "execution_count": 59,
     "metadata": {},
     "output_type": "execute_result"
    }
   ],
   "source": [
    "df[\"Zambia\"].max()"
   ]
  },
  {
   "cell_type": "code",
   "execution_count": 60,
   "id": "663d3d85",
   "metadata": {},
   "outputs": [
    {
     "data": {
      "text/plain": [
       "1450184.0"
      ]
     },
     "execution_count": 60,
     "metadata": {},
     "output_type": "execute_result"
    }
   ],
   "source": [
    "df[\"World\"].max()"
   ]
  },
  {
   "cell_type": "code",
   "execution_count": 61,
   "id": "00caba72",
   "metadata": {},
   "outputs": [
    {
     "data": {
      "text/plain": [
       "203393.0"
      ]
     },
     "execution_count": 61,
     "metadata": {},
     "output_type": "execute_result"
    }
   ],
   "source": [
    "df[\"World\"].min()"
   ]
  },
  {
   "cell_type": "code",
   "execution_count": 63,
   "id": "66d67043",
   "metadata": {},
   "outputs": [
    {
     "data": {
      "text/plain": [
       "66238665.0"
      ]
     },
     "execution_count": 63,
     "metadata": {},
     "output_type": "execute_result"
    }
   ],
   "source": [
    "df[\"World\"].sum()"
   ]
  },
  {
   "cell_type": "code",
   "execution_count": 64,
   "id": "d4c7c189",
   "metadata": {},
   "outputs": [
    {
     "data": {
      "text/html": [
       "<div>\n",
       "<style scoped>\n",
       "    .dataframe tbody tr th:only-of-type {\n",
       "        vertical-align: middle;\n",
       "    }\n",
       "\n",
       "    .dataframe tbody tr th {\n",
       "        vertical-align: top;\n",
       "    }\n",
       "\n",
       "    .dataframe thead th {\n",
       "        text-align: right;\n",
       "    }\n",
       "</style>\n",
       "<table border=\"1\" class=\"dataframe\">\n",
       "  <thead>\n",
       "    <tr style=\"text-align: right;\">\n",
       "      <th></th>\n",
       "      <th>World</th>\n",
       "      <th>Afghanistan</th>\n",
       "      <th>Africa</th>\n",
       "      <th>Albania</th>\n",
       "      <th>Algeria</th>\n",
       "      <th>Andorra</th>\n",
       "      <th>Angola</th>\n",
       "      <th>Anguilla</th>\n",
       "      <th>Antigua and Barbuda</th>\n",
       "      <th>Argentina</th>\n",
       "      <th>...</th>\n",
       "      <th>Uruguay</th>\n",
       "      <th>Uzbekistan</th>\n",
       "      <th>Vanuatu</th>\n",
       "      <th>Vatican</th>\n",
       "      <th>Venezuela</th>\n",
       "      <th>Vietnam</th>\n",
       "      <th>Wallis and Futuna</th>\n",
       "      <th>Yemen</th>\n",
       "      <th>Zambia</th>\n",
       "      <th>Zimbabwe</th>\n",
       "    </tr>\n",
       "  </thead>\n",
       "  <tbody>\n",
       "    <tr>\n",
       "      <th>count</th>\n",
       "      <td>9.100000e+01</td>\n",
       "      <td>91.000000</td>\n",
       "      <td>91.000000</td>\n",
       "      <td>91.000000</td>\n",
       "      <td>91.000000</td>\n",
       "      <td>91.000000</td>\n",
       "      <td>91.000000</td>\n",
       "      <td>91.000000</td>\n",
       "      <td>91.000000</td>\n",
       "      <td>91.000000</td>\n",
       "      <td>...</td>\n",
       "      <td>91.000000</td>\n",
       "      <td>91.000000</td>\n",
       "      <td>91.000000</td>\n",
       "      <td>91.0</td>\n",
       "      <td>91.000000</td>\n",
       "      <td>91.000000</td>\n",
       "      <td>91.000000</td>\n",
       "      <td>91.000000</td>\n",
       "      <td>91.000000</td>\n",
       "      <td>91.000000</td>\n",
       "    </tr>\n",
       "    <tr>\n",
       "      <th>mean</th>\n",
       "      <td>7.278974e+05</td>\n",
       "      <td>122.208791</td>\n",
       "      <td>4943.219780</td>\n",
       "      <td>473.087912</td>\n",
       "      <td>39.703297</td>\n",
       "      <td>41.967033</td>\n",
       "      <td>35.791209</td>\n",
       "      <td>6.615385</td>\n",
       "      <td>10.098901</td>\n",
       "      <td>5518.912088</td>\n",
       "      <td>...</td>\n",
       "      <td>712.021978</td>\n",
       "      <td>48.747253</td>\n",
       "      <td>37.318681</td>\n",
       "      <td>0.0</td>\n",
       "      <td>187.560440</td>\n",
       "      <td>3065.692308</td>\n",
       "      <td>1.934066</td>\n",
       "      <td>0.912088</td>\n",
       "      <td>121.769231</td>\n",
       "      <td>65.714286</td>\n",
       "    </tr>\n",
       "    <tr>\n",
       "      <th>std</th>\n",
       "      <td>2.974883e+05</td>\n",
       "      <td>104.732730</td>\n",
       "      <td>3839.438992</td>\n",
       "      <td>517.737979</td>\n",
       "      <td>43.894696</td>\n",
       "      <td>109.920522</td>\n",
       "      <td>175.591288</td>\n",
       "      <td>19.925288</td>\n",
       "      <td>20.125194</td>\n",
       "      <td>13589.034681</td>\n",
       "      <td>...</td>\n",
       "      <td>2153.952269</td>\n",
       "      <td>41.111662</td>\n",
       "      <td>76.291965</td>\n",
       "      <td>0.0</td>\n",
       "      <td>220.600857</td>\n",
       "      <td>16033.937188</td>\n",
       "      <td>18.239032</td>\n",
       "      <td>3.716774</td>\n",
       "      <td>203.431019</td>\n",
       "      <td>94.787632</td>\n",
       "    </tr>\n",
       "    <tr>\n",
       "      <th>min</th>\n",
       "      <td>2.033930e+05</td>\n",
       "      <td>0.000000</td>\n",
       "      <td>199.000000</td>\n",
       "      <td>0.000000</td>\n",
       "      <td>0.000000</td>\n",
       "      <td>0.000000</td>\n",
       "      <td>0.000000</td>\n",
       "      <td>0.000000</td>\n",
       "      <td>0.000000</td>\n",
       "      <td>0.000000</td>\n",
       "      <td>...</td>\n",
       "      <td>0.000000</td>\n",
       "      <td>0.000000</td>\n",
       "      <td>0.000000</td>\n",
       "      <td>0.0</td>\n",
       "      <td>0.000000</td>\n",
       "      <td>465.000000</td>\n",
       "      <td>0.000000</td>\n",
       "      <td>0.000000</td>\n",
       "      <td>0.000000</td>\n",
       "      <td>0.000000</td>\n",
       "    </tr>\n",
       "    <tr>\n",
       "      <th>25%</th>\n",
       "      <td>5.120725e+05</td>\n",
       "      <td>49.500000</td>\n",
       "      <td>2359.000000</td>\n",
       "      <td>48.000000</td>\n",
       "      <td>6.000000</td>\n",
       "      <td>0.000000</td>\n",
       "      <td>0.000000</td>\n",
       "      <td>0.000000</td>\n",
       "      <td>0.000000</td>\n",
       "      <td>0.000000</td>\n",
       "      <td>...</td>\n",
       "      <td>0.000000</td>\n",
       "      <td>17.000000</td>\n",
       "      <td>0.000000</td>\n",
       "      <td>0.0</td>\n",
       "      <td>35.000000</td>\n",
       "      <td>802.000000</td>\n",
       "      <td>0.000000</td>\n",
       "      <td>0.000000</td>\n",
       "      <td>0.000000</td>\n",
       "      <td>1.000000</td>\n",
       "    </tr>\n",
       "    <tr>\n",
       "      <th>50%</th>\n",
       "      <td>6.995690e+05</td>\n",
       "      <td>81.000000</td>\n",
       "      <td>4435.000000</td>\n",
       "      <td>289.000000</td>\n",
       "      <td>14.000000</td>\n",
       "      <td>0.000000</td>\n",
       "      <td>0.000000</td>\n",
       "      <td>0.000000</td>\n",
       "      <td>0.000000</td>\n",
       "      <td>0.000000</td>\n",
       "      <td>...</td>\n",
       "      <td>0.000000</td>\n",
       "      <td>37.000000</td>\n",
       "      <td>7.000000</td>\n",
       "      <td>0.0</td>\n",
       "      <td>115.000000</td>\n",
       "      <td>1039.000000</td>\n",
       "      <td>0.000000</td>\n",
       "      <td>0.000000</td>\n",
       "      <td>0.000000</td>\n",
       "      <td>21.000000</td>\n",
       "    </tr>\n",
       "    <tr>\n",
       "      <th>75%</th>\n",
       "      <td>9.472205e+05</td>\n",
       "      <td>186.000000</td>\n",
       "      <td>6231.000000</td>\n",
       "      <td>807.000000</td>\n",
       "      <td>78.500000</td>\n",
       "      <td>0.000000</td>\n",
       "      <td>0.000000</td>\n",
       "      <td>0.000000</td>\n",
       "      <td>12.000000</td>\n",
       "      <td>0.000000</td>\n",
       "      <td>...</td>\n",
       "      <td>0.000000</td>\n",
       "      <td>82.500000</td>\n",
       "      <td>52.500000</td>\n",
       "      <td>0.0</td>\n",
       "      <td>241.000000</td>\n",
       "      <td>1705.000000</td>\n",
       "      <td>0.000000</td>\n",
       "      <td>0.000000</td>\n",
       "      <td>212.000000</td>\n",
       "      <td>87.500000</td>\n",
       "    </tr>\n",
       "    <tr>\n",
       "      <th>max</th>\n",
       "      <td>1.450184e+06</td>\n",
       "      <td>496.000000</td>\n",
       "      <td>23419.000000</td>\n",
       "      <td>2963.000000</td>\n",
       "      <td>148.000000</td>\n",
       "      <td>494.000000</td>\n",
       "      <td>1559.000000</td>\n",
       "      <td>126.000000</td>\n",
       "      <td>90.000000</td>\n",
       "      <td>52745.000000</td>\n",
       "      <td>...</td>\n",
       "      <td>9389.000000</td>\n",
       "      <td>201.000000</td>\n",
       "      <td>616.000000</td>\n",
       "      <td>0.0</td>\n",
       "      <td>1072.000000</td>\n",
       "      <td>154094.000000</td>\n",
       "      <td>174.000000</td>\n",
       "      <td>28.000000</td>\n",
       "      <td>1092.000000</td>\n",
       "      <td>476.000000</td>\n",
       "    </tr>\n",
       "  </tbody>\n",
       "</table>\n",
       "<p>8 rows × 229 columns</p>\n",
       "</div>"
      ],
      "text/plain": [
       "              World  Afghanistan        Africa      Albania     Algeria  \\\n",
       "count  9.100000e+01    91.000000     91.000000    91.000000   91.000000   \n",
       "mean   7.278974e+05   122.208791   4943.219780   473.087912   39.703297   \n",
       "std    2.974883e+05   104.732730   3839.438992   517.737979   43.894696   \n",
       "min    2.033930e+05     0.000000    199.000000     0.000000    0.000000   \n",
       "25%    5.120725e+05    49.500000   2359.000000    48.000000    6.000000   \n",
       "50%    6.995690e+05    81.000000   4435.000000   289.000000   14.000000   \n",
       "75%    9.472205e+05   186.000000   6231.000000   807.000000   78.500000   \n",
       "max    1.450184e+06   496.000000  23419.000000  2963.000000  148.000000   \n",
       "\n",
       "          Andorra       Angola    Anguilla  Antigua and Barbuda     Argentina  \\\n",
       "count   91.000000    91.000000   91.000000            91.000000     91.000000   \n",
       "mean    41.967033    35.791209    6.615385            10.098901   5518.912088   \n",
       "std    109.920522   175.591288   19.925288            20.125194  13589.034681   \n",
       "min      0.000000     0.000000    0.000000             0.000000      0.000000   \n",
       "25%      0.000000     0.000000    0.000000             0.000000      0.000000   \n",
       "50%      0.000000     0.000000    0.000000             0.000000      0.000000   \n",
       "75%      0.000000     0.000000    0.000000            12.000000      0.000000   \n",
       "max    494.000000  1559.000000  126.000000            90.000000  52745.000000   \n",
       "\n",
       "       ...      Uruguay  Uzbekistan     Vanuatu  Vatican    Venezuela  \\\n",
       "count  ...    91.000000   91.000000   91.000000     91.0    91.000000   \n",
       "mean   ...   712.021978   48.747253   37.318681      0.0   187.560440   \n",
       "std    ...  2153.952269   41.111662   76.291965      0.0   220.600857   \n",
       "min    ...     0.000000    0.000000    0.000000      0.0     0.000000   \n",
       "25%    ...     0.000000   17.000000    0.000000      0.0    35.000000   \n",
       "50%    ...     0.000000   37.000000    7.000000      0.0   115.000000   \n",
       "75%    ...     0.000000   82.500000   52.500000      0.0   241.000000   \n",
       "max    ...  9389.000000  201.000000  616.000000      0.0  1072.000000   \n",
       "\n",
       "             Vietnam  Wallis and Futuna      Yemen       Zambia    Zimbabwe  \n",
       "count      91.000000          91.000000  91.000000    91.000000   91.000000  \n",
       "mean     3065.692308           1.934066   0.912088   121.769231   65.714286  \n",
       "std     16033.937188          18.239032   3.716774   203.431019   94.787632  \n",
       "min       465.000000           0.000000   0.000000     0.000000    0.000000  \n",
       "25%       802.000000           0.000000   0.000000     0.000000    1.000000  \n",
       "50%      1039.000000           0.000000   0.000000     0.000000   21.000000  \n",
       "75%      1705.000000           0.000000   0.000000   212.000000   87.500000  \n",
       "max    154094.000000         174.000000  28.000000  1092.000000  476.000000  \n",
       "\n",
       "[8 rows x 229 columns]"
      ]
     },
     "execution_count": 64,
     "metadata": {},
     "output_type": "execute_result"
    }
   ],
   "source": [
    "df.describe()"
   ]
  },
  {
   "cell_type": "code",
   "execution_count": 65,
   "id": "5e8ce2ce",
   "metadata": {},
   "outputs": [
    {
     "data": {
      "text/plain": [
       "date                 29 days 18:27:33.360579895\n",
       "World                             297488.308744\n",
       "Afghanistan                           104.73273\n",
       "Africa                              3839.438992\n",
       "Albania                              517.737979\n",
       "                                ...            \n",
       "Vietnam                            16033.937188\n",
       "Wallis and Futuna                     18.239032\n",
       "Yemen                                  3.716774\n",
       "Zambia                               203.431019\n",
       "Zimbabwe                              94.787632\n",
       "Length: 230, dtype: object"
      ]
     },
     "execution_count": 65,
     "metadata": {},
     "output_type": "execute_result"
    }
   ],
   "source": [
    "df.std()"
   ]
  },
  {
   "cell_type": "code",
   "execution_count": 66,
   "id": "2306b60b",
   "metadata": {},
   "outputs": [
    {
     "name": "stderr",
     "output_type": "stream",
     "text": [
      "C:\\Users\\PC\\AppData\\Local\\Temp\\ipykernel_508\\530051474.py:1: FutureWarning: DataFrame.mean and DataFrame.median with numeric_only=None will include datetime64 and datetime64tz columns in a future version.\n",
      "  df.median()\n"
     ]
    },
    {
     "data": {
      "text/plain": [
       "World                699569.0\n",
       "Afghanistan              81.0\n",
       "Africa                 4435.0\n",
       "Albania                 289.0\n",
       "Algeria                  14.0\n",
       "                       ...   \n",
       "Vietnam                1039.0\n",
       "Wallis and Futuna         0.0\n",
       "Yemen                     0.0\n",
       "Zambia                    0.0\n",
       "Zimbabwe                 21.0\n",
       "Length: 229, dtype: float64"
      ]
     },
     "execution_count": 66,
     "metadata": {},
     "output_type": "execute_result"
    }
   ],
   "source": [
    "df.median()"
   ]
  },
  {
   "cell_type": "code",
   "execution_count": 67,
   "id": "2e6a25e3",
   "metadata": {},
   "outputs": [
    {
     "data": {
      "text/html": [
       "<div>\n",
       "<style scoped>\n",
       "    .dataframe tbody tr th:only-of-type {\n",
       "        vertical-align: middle;\n",
       "    }\n",
       "\n",
       "    .dataframe tbody tr th {\n",
       "        vertical-align: top;\n",
       "    }\n",
       "\n",
       "    .dataframe thead th {\n",
       "        text-align: right;\n",
       "    }\n",
       "</style>\n",
       "<table border=\"1\" class=\"dataframe\">\n",
       "  <thead>\n",
       "    <tr style=\"text-align: right;\">\n",
       "      <th></th>\n",
       "      <th>World</th>\n",
       "      <th>Afghanistan</th>\n",
       "      <th>Africa</th>\n",
       "      <th>Albania</th>\n",
       "      <th>Algeria</th>\n",
       "      <th>Andorra</th>\n",
       "      <th>Angola</th>\n",
       "      <th>Anguilla</th>\n",
       "      <th>Antigua and Barbuda</th>\n",
       "      <th>Argentina</th>\n",
       "      <th>...</th>\n",
       "      <th>Uruguay</th>\n",
       "      <th>Uzbekistan</th>\n",
       "      <th>Vanuatu</th>\n",
       "      <th>Vatican</th>\n",
       "      <th>Venezuela</th>\n",
       "      <th>Vietnam</th>\n",
       "      <th>Wallis and Futuna</th>\n",
       "      <th>Yemen</th>\n",
       "      <th>Zambia</th>\n",
       "      <th>Zimbabwe</th>\n",
       "    </tr>\n",
       "  </thead>\n",
       "  <tbody>\n",
       "    <tr>\n",
       "      <th>World</th>\n",
       "      <td>1.000000</td>\n",
       "      <td>0.224196</td>\n",
       "      <td>0.248656</td>\n",
       "      <td>0.440115</td>\n",
       "      <td>0.416977</td>\n",
       "      <td>0.282982</td>\n",
       "      <td>0.122329</td>\n",
       "      <td>0.222090</td>\n",
       "      <td>-0.206676</td>\n",
       "      <td>-0.400951</td>\n",
       "      <td>...</td>\n",
       "      <td>0.028278</td>\n",
       "      <td>0.292654</td>\n",
       "      <td>-0.210904</td>\n",
       "      <td>NaN</td>\n",
       "      <td>0.207142</td>\n",
       "      <td>0.173591</td>\n",
       "      <td>0.244066</td>\n",
       "      <td>-0.038496</td>\n",
       "      <td>0.166620</td>\n",
       "      <td>-0.143341</td>\n",
       "    </tr>\n",
       "    <tr>\n",
       "      <th>Afghanistan</th>\n",
       "      <td>0.224196</td>\n",
       "      <td>1.000000</td>\n",
       "      <td>-0.250292</td>\n",
       "      <td>0.102986</td>\n",
       "      <td>0.608409</td>\n",
       "      <td>0.034478</td>\n",
       "      <td>-0.018080</td>\n",
       "      <td>0.074085</td>\n",
       "      <td>-0.085514</td>\n",
       "      <td>0.009585</td>\n",
       "      <td>...</td>\n",
       "      <td>-0.036835</td>\n",
       "      <td>-0.240667</td>\n",
       "      <td>-0.199941</td>\n",
       "      <td>NaN</td>\n",
       "      <td>0.057004</td>\n",
       "      <td>-0.022724</td>\n",
       "      <td>0.063141</td>\n",
       "      <td>0.001304</td>\n",
       "      <td>0.123582</td>\n",
       "      <td>-0.194241</td>\n",
       "    </tr>\n",
       "    <tr>\n",
       "      <th>Africa</th>\n",
       "      <td>0.248656</td>\n",
       "      <td>-0.250292</td>\n",
       "      <td>1.000000</td>\n",
       "      <td>0.006704</td>\n",
       "      <td>-0.352045</td>\n",
       "      <td>0.325713</td>\n",
       "      <td>0.122555</td>\n",
       "      <td>-0.085725</td>\n",
       "      <td>0.030458</td>\n",
       "      <td>-0.206070</td>\n",
       "      <td>...</td>\n",
       "      <td>0.001885</td>\n",
       "      <td>0.216338</td>\n",
       "      <td>0.129434</td>\n",
       "      <td>NaN</td>\n",
       "      <td>-0.155650</td>\n",
       "      <td>-0.137176</td>\n",
       "      <td>-0.103760</td>\n",
       "      <td>-0.193722</td>\n",
       "      <td>0.131413</td>\n",
       "      <td>0.259611</td>\n",
       "    </tr>\n",
       "    <tr>\n",
       "      <th>Albania</th>\n",
       "      <td>0.440115</td>\n",
       "      <td>0.102986</td>\n",
       "      <td>0.006704</td>\n",
       "      <td>1.000000</td>\n",
       "      <td>0.402879</td>\n",
       "      <td>0.055689</td>\n",
       "      <td>-0.011450</td>\n",
       "      <td>-0.063291</td>\n",
       "      <td>-0.273190</td>\n",
       "      <td>-0.006291</td>\n",
       "      <td>...</td>\n",
       "      <td>-0.257502</td>\n",
       "      <td>0.234579</td>\n",
       "      <td>-0.263130</td>\n",
       "      <td>NaN</td>\n",
       "      <td>0.469256</td>\n",
       "      <td>0.080876</td>\n",
       "      <td>0.160201</td>\n",
       "      <td>0.126595</td>\n",
       "      <td>0.205927</td>\n",
       "      <td>-0.358666</td>\n",
       "    </tr>\n",
       "    <tr>\n",
       "      <th>Algeria</th>\n",
       "      <td>0.416977</td>\n",
       "      <td>0.608409</td>\n",
       "      <td>-0.352045</td>\n",
       "      <td>0.402879</td>\n",
       "      <td>1.000000</td>\n",
       "      <td>-0.061963</td>\n",
       "      <td>-0.045692</td>\n",
       "      <td>0.109199</td>\n",
       "      <td>-0.195941</td>\n",
       "      <td>-0.064073</td>\n",
       "      <td>...</td>\n",
       "      <td>-0.157704</td>\n",
       "      <td>-0.172812</td>\n",
       "      <td>-0.350743</td>\n",
       "      <td>NaN</td>\n",
       "      <td>0.418436</td>\n",
       "      <td>0.198750</td>\n",
       "      <td>0.110698</td>\n",
       "      <td>0.143812</td>\n",
       "      <td>0.093631</td>\n",
       "      <td>-0.424388</td>\n",
       "    </tr>\n",
       "    <tr>\n",
       "      <th>...</th>\n",
       "      <td>...</td>\n",
       "      <td>...</td>\n",
       "      <td>...</td>\n",
       "      <td>...</td>\n",
       "      <td>...</td>\n",
       "      <td>...</td>\n",
       "      <td>...</td>\n",
       "      <td>...</td>\n",
       "      <td>...</td>\n",
       "      <td>...</td>\n",
       "      <td>...</td>\n",
       "      <td>...</td>\n",
       "      <td>...</td>\n",
       "      <td>...</td>\n",
       "      <td>...</td>\n",
       "      <td>...</td>\n",
       "      <td>...</td>\n",
       "      <td>...</td>\n",
       "      <td>...</td>\n",
       "      <td>...</td>\n",
       "      <td>...</td>\n",
       "    </tr>\n",
       "    <tr>\n",
       "      <th>Vietnam</th>\n",
       "      <td>0.173591</td>\n",
       "      <td>-0.022724</td>\n",
       "      <td>-0.137176</td>\n",
       "      <td>0.080876</td>\n",
       "      <td>0.198750</td>\n",
       "      <td>-0.043244</td>\n",
       "      <td>-0.026451</td>\n",
       "      <td>-0.030745</td>\n",
       "      <td>-0.055114</td>\n",
       "      <td>-0.053495</td>\n",
       "      <td>...</td>\n",
       "      <td>-0.043580</td>\n",
       "      <td>-0.048328</td>\n",
       "      <td>-0.061385</td>\n",
       "      <td>NaN</td>\n",
       "      <td>0.230571</td>\n",
       "      <td>1.000000</td>\n",
       "      <td>-0.002734</td>\n",
       "      <td>-0.021600</td>\n",
       "      <td>-0.068473</td>\n",
       "      <td>-0.080858</td>\n",
       "    </tr>\n",
       "    <tr>\n",
       "      <th>Wallis and Futuna</th>\n",
       "      <td>0.244066</td>\n",
       "      <td>0.063141</td>\n",
       "      <td>-0.103760</td>\n",
       "      <td>0.160201</td>\n",
       "      <td>0.110698</td>\n",
       "      <td>-0.040935</td>\n",
       "      <td>-0.021855</td>\n",
       "      <td>0.161237</td>\n",
       "      <td>-0.053802</td>\n",
       "      <td>-0.043544</td>\n",
       "      <td>...</td>\n",
       "      <td>-0.032828</td>\n",
       "      <td>0.050388</td>\n",
       "      <td>-0.051520</td>\n",
       "      <td>NaN</td>\n",
       "      <td>-0.002747</td>\n",
       "      <td>-0.002734</td>\n",
       "      <td>1.000000</td>\n",
       "      <td>-0.026311</td>\n",
       "      <td>-0.064178</td>\n",
       "      <td>-0.039292</td>\n",
       "    </tr>\n",
       "    <tr>\n",
       "      <th>Yemen</th>\n",
       "      <td>-0.038496</td>\n",
       "      <td>0.001304</td>\n",
       "      <td>-0.193722</td>\n",
       "      <td>0.126595</td>\n",
       "      <td>0.143812</td>\n",
       "      <td>-0.094732</td>\n",
       "      <td>-0.038624</td>\n",
       "      <td>-0.058374</td>\n",
       "      <td>0.147918</td>\n",
       "      <td>-0.100771</td>\n",
       "      <td>...</td>\n",
       "      <td>-0.082021</td>\n",
       "      <td>0.023922</td>\n",
       "      <td>-0.099859</td>\n",
       "      <td>NaN</td>\n",
       "      <td>0.085746</td>\n",
       "      <td>-0.021600</td>\n",
       "      <td>-0.026311</td>\n",
       "      <td>1.000000</td>\n",
       "      <td>-0.137192</td>\n",
       "      <td>-0.106073</td>\n",
       "    </tr>\n",
       "    <tr>\n",
       "      <th>Zambia</th>\n",
       "      <td>0.166620</td>\n",
       "      <td>0.123582</td>\n",
       "      <td>0.131413</td>\n",
       "      <td>0.205927</td>\n",
       "      <td>0.093631</td>\n",
       "      <td>-0.094889</td>\n",
       "      <td>0.090367</td>\n",
       "      <td>-0.036968</td>\n",
       "      <td>-0.052582</td>\n",
       "      <td>-0.078150</td>\n",
       "      <td>...</td>\n",
       "      <td>0.091051</td>\n",
       "      <td>0.034439</td>\n",
       "      <td>-0.045030</td>\n",
       "      <td>NaN</td>\n",
       "      <td>-0.135010</td>\n",
       "      <td>-0.068473</td>\n",
       "      <td>-0.064178</td>\n",
       "      <td>-0.137192</td>\n",
       "      <td>1.000000</td>\n",
       "      <td>0.045695</td>\n",
       "    </tr>\n",
       "    <tr>\n",
       "      <th>Zimbabwe</th>\n",
       "      <td>-0.143341</td>\n",
       "      <td>-0.194241</td>\n",
       "      <td>0.259611</td>\n",
       "      <td>-0.358666</td>\n",
       "      <td>-0.424388</td>\n",
       "      <td>0.154093</td>\n",
       "      <td>-0.082424</td>\n",
       "      <td>0.131798</td>\n",
       "      <td>0.302247</td>\n",
       "      <td>-0.149359</td>\n",
       "      <td>...</td>\n",
       "      <td>0.152572</td>\n",
       "      <td>-0.210877</td>\n",
       "      <td>0.362366</td>\n",
       "      <td>NaN</td>\n",
       "      <td>-0.275097</td>\n",
       "      <td>-0.080858</td>\n",
       "      <td>-0.039292</td>\n",
       "      <td>-0.106073</td>\n",
       "      <td>0.045695</td>\n",
       "      <td>1.000000</td>\n",
       "    </tr>\n",
       "  </tbody>\n",
       "</table>\n",
       "<p>229 rows × 229 columns</p>\n",
       "</div>"
      ],
      "text/plain": [
       "                      World  Afghanistan    Africa   Albania   Algeria  \\\n",
       "World              1.000000     0.224196  0.248656  0.440115  0.416977   \n",
       "Afghanistan        0.224196     1.000000 -0.250292  0.102986  0.608409   \n",
       "Africa             0.248656    -0.250292  1.000000  0.006704 -0.352045   \n",
       "Albania            0.440115     0.102986  0.006704  1.000000  0.402879   \n",
       "Algeria            0.416977     0.608409 -0.352045  0.402879  1.000000   \n",
       "...                     ...          ...       ...       ...       ...   \n",
       "Vietnam            0.173591    -0.022724 -0.137176  0.080876  0.198750   \n",
       "Wallis and Futuna  0.244066     0.063141 -0.103760  0.160201  0.110698   \n",
       "Yemen             -0.038496     0.001304 -0.193722  0.126595  0.143812   \n",
       "Zambia             0.166620     0.123582  0.131413  0.205927  0.093631   \n",
       "Zimbabwe          -0.143341    -0.194241  0.259611 -0.358666 -0.424388   \n",
       "\n",
       "                    Andorra    Angola  Anguilla  Antigua and Barbuda  \\\n",
       "World              0.282982  0.122329  0.222090            -0.206676   \n",
       "Afghanistan        0.034478 -0.018080  0.074085            -0.085514   \n",
       "Africa             0.325713  0.122555 -0.085725             0.030458   \n",
       "Albania            0.055689 -0.011450 -0.063291            -0.273190   \n",
       "Algeria           -0.061963 -0.045692  0.109199            -0.195941   \n",
       "...                     ...       ...       ...                  ...   \n",
       "Vietnam           -0.043244 -0.026451 -0.030745            -0.055114   \n",
       "Wallis and Futuna -0.040935 -0.021855  0.161237            -0.053802   \n",
       "Yemen             -0.094732 -0.038624 -0.058374             0.147918   \n",
       "Zambia            -0.094889  0.090367 -0.036968            -0.052582   \n",
       "Zimbabwe           0.154093 -0.082424  0.131798             0.302247   \n",
       "\n",
       "                   Argentina  ...   Uruguay  Uzbekistan   Vanuatu  Vatican  \\\n",
       "World              -0.400951  ...  0.028278    0.292654 -0.210904      NaN   \n",
       "Afghanistan         0.009585  ... -0.036835   -0.240667 -0.199941      NaN   \n",
       "Africa             -0.206070  ...  0.001885    0.216338  0.129434      NaN   \n",
       "Albania            -0.006291  ... -0.257502    0.234579 -0.263130      NaN   \n",
       "Algeria            -0.064073  ... -0.157704   -0.172812 -0.350743      NaN   \n",
       "...                      ...  ...       ...         ...       ...      ...   \n",
       "Vietnam            -0.053495  ... -0.043580   -0.048328 -0.061385      NaN   \n",
       "Wallis and Futuna  -0.043544  ... -0.032828    0.050388 -0.051520      NaN   \n",
       "Yemen              -0.100771  ... -0.082021    0.023922 -0.099859      NaN   \n",
       "Zambia             -0.078150  ...  0.091051    0.034439 -0.045030      NaN   \n",
       "Zimbabwe           -0.149359  ...  0.152572   -0.210877  0.362366      NaN   \n",
       "\n",
       "                   Venezuela   Vietnam  Wallis and Futuna     Yemen    Zambia  \\\n",
       "World               0.207142  0.173591           0.244066 -0.038496  0.166620   \n",
       "Afghanistan         0.057004 -0.022724           0.063141  0.001304  0.123582   \n",
       "Africa             -0.155650 -0.137176          -0.103760 -0.193722  0.131413   \n",
       "Albania             0.469256  0.080876           0.160201  0.126595  0.205927   \n",
       "Algeria             0.418436  0.198750           0.110698  0.143812  0.093631   \n",
       "...                      ...       ...                ...       ...       ...   \n",
       "Vietnam             0.230571  1.000000          -0.002734 -0.021600 -0.068473   \n",
       "Wallis and Futuna  -0.002747 -0.002734           1.000000 -0.026311 -0.064178   \n",
       "Yemen               0.085746 -0.021600          -0.026311  1.000000 -0.137192   \n",
       "Zambia             -0.135010 -0.068473          -0.064178 -0.137192  1.000000   \n",
       "Zimbabwe           -0.275097 -0.080858          -0.039292 -0.106073  0.045695   \n",
       "\n",
       "                   Zimbabwe  \n",
       "World             -0.143341  \n",
       "Afghanistan       -0.194241  \n",
       "Africa             0.259611  \n",
       "Albania           -0.358666  \n",
       "Algeria           -0.424388  \n",
       "...                     ...  \n",
       "Vietnam           -0.080858  \n",
       "Wallis and Futuna -0.039292  \n",
       "Yemen             -0.106073  \n",
       "Zambia             0.045695  \n",
       "Zimbabwe           1.000000  \n",
       "\n",
       "[229 rows x 229 columns]"
      ]
     },
     "execution_count": 67,
     "metadata": {},
     "output_type": "execute_result"
    }
   ],
   "source": [
    "df.corr()"
   ]
  },
  {
   "cell_type": "markdown",
   "id": "b3bb0bab",
   "metadata": {},
   "source": [
    "#plotting"
   ]
  },
  {
   "cell_type": "code",
   "execution_count": 68,
   "id": "28ec12ed",
   "metadata": {},
   "outputs": [
    {
     "data": {
      "image/png": "[encoded data removed]",
      "text/plain": [
       "<Figure size 432x288 with 1 Axes>"
      ]
     },
     "metadata": {
      "needs_background": "light"
     },
     "output_type": "display_data"
    }
   ],
   "source": [
    "df.plot()\n",
    "plt.show()"
   ]
  },
  {
   "cell_type": "code",
   "execution_count": 70,
   "id": "68b3b60c",
   "metadata": {},
   "outputs": [
    {
     "data": {
      "image/png": "[encoded data removed]",
      "text/plain": [
       "<Figure size 432x288 with 1 Axes>"
      ]
     },
     "metadata": {
      "needs_background": "light"
     },
     "output_type": "display_data"
    }
   ],
   "source": [
    "df.plot(kind = \"scatter\", x = \"World\", y = \"Africa\")\n",
    "plt.show()"
   ]
  },
  {
   "cell_type": "code",
   "execution_count": 71,
   "id": "9dfb18a5",
   "metadata": {},
   "outputs": [
    {
     "data": {
      "image/png": "[encoded data removed]",
      "text/plain": [
       "<Figure size 432x288 with 1 Axes>"
      ]
     },
     "metadata": {
      "needs_background": "light"
     },
     "output_type": "display_data"
    }
   ],
   "source": [
    "df.plot(kind = \"line\", x = \"World\", y = \"Africa\")\n",
    "plt.show()"
   ]
  },
  {
   "cell_type": "code",
   "execution_count": 72,
   "id": "a76e2acd",
   "metadata": {},
   "outputs": [
    {
     "data": {
      "image/png": "[encoded data removed]",
      "text/plain": [
       "<Figure size 432x288 with 1 Axes>"
      ]
     },
     "metadata": {
      "needs_background": "light"
     },
     "output_type": "display_data"
    }
   ],
   "source": [
    "df.plot(kind = \"hist\", x = \"World\", y = \"Africa\")\n",
    "plt.show()"
   ]
  },
  {
   "cell_type": "code",
   "execution_count": 73,
   "id": "10cb52aa",
   "metadata": {},
   "outputs": [
    {
     "data": {
      "image/png": "[encoded data removed]",
      "text/plain": [
       "<Figure size 432x288 with 1 Axes>"
      ]
     },
     "metadata": {
      "needs_background": "light"
     },
     "output_type": "display_data"
    }
   ],
   "source": [
    "df.plot(kind = \"scatter\", x = \"date\", y = \"Africa\")\n",
    "plt.show()"
   ]
  },
  {
   "cell_type": "code",
   "execution_count": 74,
   "id": "d64c6657",
   "metadata": {},
   "outputs": [
    {
     "data": {
      "image/png": "[encoded data removed]",
      "text/plain": [
       "<Figure size 432x288 with 1 Axes>"
      ]
     },
     "metadata": {
      "needs_background": "light"
     },
     "output_type": "display_data"
    }
   ],
   "source": [
    "df.plot(kind = \"scatter\", x = \"date\", y = \"World\")\n",
    "plt.show()"
   ]
  },
  {
   "cell_type": "code",
   "execution_count": 77,
   "id": "7715d217",
   "metadata": {},
   "outputs": [
    {
     "data": {
      "image/png": "[encoded data removed]",
      "text/plain": [
       "<Figure size 432x288 with 1 Axes>"
      ]
     },
     "metadata": {
      "needs_background": "light"
     },
     "output_type": "display_data"
    }
   ],
   "source": [
    "df.plot(kind = \"scatter\", x = \"Algeria\", y = \"Africa\")\n",
    "plt.show()"
   ]
  },
  {
   "cell_type": "code",
   "execution_count": 78,
   "id": "d76eeac0",
   "metadata": {},
   "outputs": [
    {
     "data": {
      "image/png": "[encoded data removed]",
      "text/plain": [
       "<Figure size 432x288 with 1 Axes>"
      ]
     },
     "metadata": {
      "needs_background": "light"
     },
     "output_type": "display_data"
    }
   ],
   "source": [
    "df.plot(kind = \"line\", x = \"Algeria\", y = \"Africa\")\n",
    "plt.show()"
   ]
  },
  {
   "cell_type": "code",
   "execution_count": 79,
   "id": "51742d8d",
   "metadata": {},
   "outputs": [
    {
     "data": {
      "image/png": "[encoded data removed]",
      "text/plain": [
       "<Figure size 432x288 with 1 Axes>"
      ]
     },
     "metadata": {
      "needs_background": "light"
     },
     "output_type": "display_data"
    }
   ],
   "source": [
    "df.plot(kind = \"scatter\", x = \"Zambia\", y = \"Africa\")\n",
    "plt.show()"
   ]
  },
  {
   "cell_type": "code",
   "execution_count": 80,
   "id": "c6b7f988",
   "metadata": {},
   "outputs": [
    {
     "data": {
      "image/png": "[encoded data removed]",
      "text/plain": [
       "<Figure size 432x288 with 1 Axes>"
      ]
     },
     "metadata": {
      "needs_background": "light"
     },
     "output_type": "display_data"
    }
   ],
   "source": [
    "df.plot(kind = \"scatter\", x = \"Zimbabwe\", y = \"Africa\")\n",
    "plt.show()"
   ]
  },
  {
   "cell_type": "code",
   "execution_count": 81,
   "id": "a5ab61c6",
   "metadata": {},
   "outputs": [
    {
     "data": {
      "image/png": "[encoded data removed]",
      "text/plain": [
       "<Figure size 432x288 with 1 Axes>"
      ]
     },
     "metadata": {
      "needs_background": "light"
     },
     "output_type": "display_data"
    }
   ],
   "source": [
    "df.plot(kind = \"scatter\", x = \"Algeria\", y = \"Africa\")\n",
    "plt.show()"
   ]
  },
  {
   "cell_type": "code",
   "execution_count": null,
   "id": "347f8ed6",
   "metadata": {},
   "outputs": [],
   "source": []
  }
 ],
 "metadata": {
  "kernelspec": {
   "display_name": "Python 3 (ipykernel)",
   "language": "python",
   "name": "python3"
  },
  "language_info": {
   "codemirror_mode": {
    "name": "ipython",
    "version": 3
   },
   "file_extension": ".py",
   "mimetype": "text/x-python",
   "name": "python",
   "nbconvert_exporter": "python",
   "pygments_lexer": "ipython3",
   "version": "3.9.12"
  }
 },
 "nbformat": 4,
 "nbformat_minor": 5
}
